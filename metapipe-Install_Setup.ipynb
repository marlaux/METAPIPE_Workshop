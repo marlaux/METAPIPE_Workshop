{
 "cells": [
  {
   "cell_type": "markdown",
   "id": "43a93c76-e5f0-4b20-8e80-aabddb4f6034",
   "metadata": {},
   "source": [
    "<p>We will install de software and dependencies using the Conda Environment.</p>\n",
    "<p>First, we will update our conda environment:</p>"
   ]
  },
  {
   "cell_type": "code",
   "execution_count": null,
   "id": "b8cea73d-fbed-4888-849f-ad3f901e557f",
   "metadata": {
    "tags": []
   },
   "outputs": [],
   "source": [
    "conda update -n base conda"
   ]
  },
  {
   "cell_type": "markdown",
   "id": "903a8231-2e6f-4686-be2e-742a8a81b70c",
   "metadata": {},
   "source": [
    "<p>Install de <strong>Bioconda&nbsp;</strong>package, which harbors most of our pipeline&apos;s dependencies:</p>\n",
    "<p><a href=\"https://bioconda.github.io/user/install.html\">https://bioconda.github.io/user/install.html</a></p>"
   ]
  },
  {
   "cell_type": "code",
   "execution_count": null,
   "id": "385754e7-91d1-4f56-b587-a9acf9c7ef7c",
   "metadata": {},
   "outputs": [],
   "source": [
    "conda config --add channels bioconda"
   ]
  },
  {
   "cell_type": "markdown",
   "id": "f6d528ec-4525-4fd1-acad-2f34507042be",
   "metadata": {},
   "source": [
    "<p>Install <strong>Cutadapt</strong>, which is the tool adopted to run the demultiplexing step and adapter, tags and primers removal.</p>\n",
    "<p><a href=\"https://cutadapt.readthedocs.io/en/stable/index.html\">https://cutadapt.readthedocs.io/en/stable/index.html</a></p>"
   ]
  },
  {
   "cell_type": "code",
   "execution_count": null,
   "id": "8657fc19-6aef-44ff-9a70-94edf8e1f0c8",
   "metadata": {
    "tags": []
   },
   "outputs": [],
   "source": [
    "conda install -c bioconda cutadapt"
   ]
  },
  {
   "cell_type": "markdown",
   "id": "82a0ede4-6eef-4ec3-8171-8a4ff3cd21de",
   "metadata": {},
   "source": [
    "Check the instalation by asking for Cutadapt help:"
   ]
  },
  {
   "cell_type": "code",
   "execution_count": null,
   "id": "a1dfc055-b27a-4861-9d8e-fb8652245833",
   "metadata": {},
   "outputs": [],
   "source": [
    "!cutadapt -h | head"
   ]
  },
  {
   "cell_type": "markdown",
   "id": "32eb417e-89f7-41dd-a336-b5e7fdc14416",
   "metadata": {},
   "source": [
    "<p>Install <strong>VSEARCH</strong>, which is the tool adopted for read cleaning and sequences headers formatting</p>\n",
    "<p><a href=\"https://github.com/torognes/vsearch\">https://github.com/torognes/vsearch</a></p>"
   ]
  },
  {
   "cell_type": "code",
   "execution_count": null,
   "id": "7fda2a13-aa08-4dd8-b761-1b98e4790008",
   "metadata": {
    "tags": []
   },
   "outputs": [],
   "source": [
    "conda install -c bioconda vsearch"
   ]
  },
  {
   "cell_type": "markdown",
   "id": "86b29988-f86c-4a24-8e12-b7971de5607b",
   "metadata": {},
   "source": [
    "Check the instalation by asking for VSEARCH help:"
   ]
  },
  {
   "cell_type": "code",
   "execution_count": null,
   "id": "60b09162-ce63-4900-a2b1-7141d5224dcc",
   "metadata": {},
   "outputs": [],
   "source": [
    "!vsearch -h | head"
   ]
  },
  {
   "cell_type": "markdown",
   "id": "1885b67b-a0fd-4bd5-8354-b3baf4a31789",
   "metadata": {},
   "source": [
    "<p>Install <strong>SeqKit</strong>, which is the tool adopted for references databases formatting</p>\n",
    "<p><a href=\"https://bioinf.shenwei.me/seqkit/\">https://bioinf.shenwei.me/seqkit/</a></p>"
   ]
  },
  {
   "cell_type": "code",
   "execution_count": null,
   "id": "98fd56ab-af96-4b44-98a4-e06971d885b9",
   "metadata": {
    "tags": []
   },
   "outputs": [],
   "source": [
    "conda install -c bioconda seqkit"
   ]
  },
  {
   "cell_type": "markdown",
   "id": "5550d77e-8894-4483-84de-972fc8a5610e",
   "metadata": {},
   "source": [
    "Check the instalation by asking for seqkit help:"
   ]
  },
  {
   "cell_type": "code",
   "execution_count": null,
   "id": "b9d30a74-aa1e-46ca-8be1-9ffda8d24d53",
   "metadata": {},
   "outputs": [],
   "source": [
    "!seqkit -h | head"
   ]
  },
  {
   "cell_type": "code",
   "execution_count": null,
   "id": "34113365-1259-4625-b651-021215eeab36",
   "metadata": {
    "tags": []
   },
   "outputs": [],
   "source": [
    "conda install -c bioconda seqtk"
   ]
  },
  {
   "cell_type": "markdown",
   "id": "9c10a33c-1076-4fa8-a58a-22d5b2dc1b78",
   "metadata": {},
   "source": [
    "<p>Install <strong>BioPerl&nbsp;</strong>package, which is used for removing sequences duplicates from the references databases</p>\n",
    "<p><a href=\"https://bioperl.org/\">https://bioperl.org/</a></p>"
   ]
  },
  {
   "cell_type": "code",
   "execution_count": null,
   "id": "69c3d6c4-bd71-443e-be38-3f5d0dd6f1c5",
   "metadata": {
    "tags": []
   },
   "outputs": [],
   "source": [
    "conda install -c bioconda perl-bioperl"
   ]
  },
  {
   "cell_type": "code",
   "execution_count": null,
   "id": "e54f0d8d-6160-46ab-8445-c6937014ef60",
   "metadata": {
    "tags": []
   },
   "outputs": [],
   "source": [
    "conda update perl-bioperl"
   ]
  },
  {
   "cell_type": "markdown",
   "id": "8321c049-7820-420a-a7a2-a2dfa3f8b268",
   "metadata": {},
   "source": [
    "<p>Install <strong>SWARM&nbsp;</strong>which is the tool adopted for clustering the amplicons into OTUs</p>\n",
    "<p><a href=\"https://github.com/frederic-mahe/swarm\">https://github.com/frederic-mahe/swarm</a></p>"
   ]
  },
  {
   "cell_type": "code",
   "execution_count": null,
   "id": "ca6a4fc6-8396-4342-8525-bd24645868e6",
   "metadata": {
    "tags": []
   },
   "outputs": [],
   "source": [
    "conda install -c anaconda biopython"
   ]
  },
  {
   "cell_type": "code",
   "execution_count": null,
   "id": "2a91f25e-e290-4c23-8935-d40895cdc8b8",
   "metadata": {
    "tags": []
   },
   "outputs": [],
   "source": [
    "conda install snippy==4.05"
   ]
  },
  {
   "cell_type": "code",
   "execution_count": null,
   "id": "7af4fae4-8cc6-4824-9a83-8720de58d569",
   "metadata": {
    "tags": []
   },
   "outputs": [],
   "source": [
    "conda install -c bioconda swarm=3.0.0=hc9558a2_0"
   ]
  },
  {
   "cell_type": "markdown",
   "id": "37d780ed-c13a-4517-87dc-98890ca7dae3",
   "metadata": {},
   "source": [
    "Check the instalation by asking for swarm help:"
   ]
  },
  {
   "cell_type": "code",
   "execution_count": null,
   "id": "0f345976-2fae-4a2f-a51d-0b285dd21cbd",
   "metadata": {
    "tags": []
   },
   "outputs": [],
   "source": [
    "!swarm -h | head "
   ]
  },
  {
   "cell_type": "markdown",
   "id": "3f55d8cc-bb1b-4edd-bce1-ea5f16f8ceeb",
   "metadata": {},
   "source": [
    "<p>Install <strong>Pear</strong>, which is the tool adoped for merging the Illumina paired-end reads</p>"
   ]
  },
  {
   "cell_type": "code",
   "execution_count": null,
   "id": "71457a7c-d1d2-4e50-b7e7-0c53bcfb7305",
   "metadata": {
    "tags": []
   },
   "outputs": [],
   "source": [
    "conda install -c bioconda pear=0.9.6=h2f06484_6"
   ]
  },
  {
   "cell_type": "markdown",
   "id": "2b68d7e6-1222-4484-b7f8-626a3878b4cc",
   "metadata": {},
   "source": [
    "Ask for Pear -h to check the instalation:"
   ]
  },
  {
   "cell_type": "code",
   "execution_count": null,
   "id": "32902a7e-8dc0-47a7-9dea-edeb6b172346",
   "metadata": {
    "tags": []
   },
   "outputs": [],
   "source": [
    "!pear -h"
   ]
  },
  {
   "cell_type": "markdown",
   "id": "f7c75e91-5c92-458b-919b-2fc2e456d325",
   "metadata": {},
   "source": [
    "<p>Install <strong>Taxonkit</strong>, which is the tool adoped for getting the lineage for the references databases, and download the taxdump and nucleotide to accession files from NCBI.</p>"
   ]
  },
  {
   "cell_type": "code",
   "execution_count": null,
   "id": "04b172f7-9983-4f37-be5f-5b559e01be35",
   "metadata": {
    "tags": []
   },
   "outputs": [],
   "source": [
    "conda install -c bioconda taxonkit"
   ]
  },
  {
   "cell_type": "code",
   "execution_count": null,
   "id": "e17e7ab9-2b2c-4a1f-93fd-52c5b80f0b93",
   "metadata": {},
   "outputs": [],
   "source": [
    "!wget ftp://ftp.ncbi.nih.gov/pub/taxonomy/taxdump.tar.gz"
   ]
  },
  {
   "cell_type": "code",
   "execution_count": null,
   "id": "2fb38441-a80d-40ca-9840-dca946b322c0",
   "metadata": {},
   "outputs": [],
   "source": [
    "!tar -zxvf taxdump.tar.gz"
   ]
  },
  {
   "cell_type": "code",
   "execution_count": null,
   "id": "eb87c1ca-ea45-4900-9ee8-8795b75b0bb1",
   "metadata": {},
   "outputs": [],
   "source": [
    "%mkdir -p $HOME/.taxonkit"
   ]
  },
  {
   "cell_type": "code",
   "execution_count": null,
   "id": "78480b86-823e-4626-a648-ccf45206c6c2",
   "metadata": {},
   "outputs": [],
   "source": [
    "%cp names.dmp nodes.dmp delnodes.dmp merged.dmp $HOME/.taxonkit"
   ]
  },
  {
   "cell_type": "markdown",
   "id": "cfabe374-64b6-41aa-9dad-15c6a03669dc",
   "metadata": {},
   "source": [
    "Check the installation asking for taxonkit -h"
   ]
  },
  {
   "cell_type": "code",
   "execution_count": null,
   "id": "6ab73e8d-db50-4fd7-a582-d1f8e0dba278",
   "metadata": {
    "tags": []
   },
   "outputs": [],
   "source": [
    "!taxonkit -h"
   ]
  },
  {
   "cell_type": "code",
   "execution_count": null,
   "id": "aca6692c-d00b-4707-a64c-7feb8abdac47",
   "metadata": {},
   "outputs": [],
   "source": [
    "%rm *.dmp taxdump.tar.gz readme.txt gc.prt"
   ]
  },
  {
   "cell_type": "code",
   "execution_count": null,
   "id": "2a718b7e-5976-428b-bcda-6541eda76cfd",
   "metadata": {},
   "outputs": [],
   "source": [
    "%ls"
   ]
  },
  {
   "cell_type": "markdown",
   "id": "30f55e71-c063-433e-80dc-c247a20ecce0",
   "metadata": {},
   "source": [
    "<p>Install <strong>BLAST</strong>, which is the tool adoped for assigning taxonomy, and download the taxdb file from NCBI.</p>"
   ]
  },
  {
   "cell_type": "code",
   "execution_count": null,
   "id": "62ea4a50-c3a3-484b-8a8d-27430a007652",
   "metadata": {},
   "outputs": [],
   "source": [
    "conda install -c bioconda blast"
   ]
  },
  {
   "cell_type": "markdown",
   "id": "74fa4afd-2a76-4dd2-942a-5cee8a3dcfd5",
   "metadata": {},
   "source": [
    "Ckeck the installation by asking blast help:"
   ]
  },
  {
   "cell_type": "code",
   "execution_count": null,
   "id": "638317c2-b13e-4924-9beb-7db1d6ba1023",
   "metadata": {
    "tags": []
   },
   "outputs": [],
   "source": [
    "!blastn -h"
   ]
  },
  {
   "cell_type": "code",
   "execution_count": null,
   "id": "363edecf-6d26-4cde-9d43-56f7ea519f17",
   "metadata": {},
   "outputs": [],
   "source": [
    "!wget https://ftp.ncbi.nlm.nih.gov/blast/db/taxdb.tar.gz"
   ]
  },
  {
   "cell_type": "code",
   "execution_count": null,
   "id": "51c9e4e7-1bb6-4301-af86-171083883c69",
   "metadata": {},
   "outputs": [],
   "source": [
    "%%bash\n",
    "tar -zxvf taxdb.tar.gz"
   ]
  },
  {
   "cell_type": "markdown",
   "id": "d224c3f0-7e44-45a0-9044-ecfb1f5d4e1c",
   "metadata": {},
   "source": [
    "<p>Install <strong>entrez-direct&nbsp;</strong>toolkit, which is the tool adoped for searching and downloading NCBI references</p>"
   ]
  },
  {
   "cell_type": "code",
   "execution_count": null,
   "id": "60b562be-3368-4b33-be62-5b0806e22a66",
   "metadata": {},
   "outputs": [],
   "source": [
    "conda install -c bioconda entrez-direct"
   ]
  },
  {
   "cell_type": "markdown",
   "id": "d5291fa3-3de0-4915-97ad-696f002ca5cb",
   "metadata": {},
   "source": [
    "Check the installation by asking entrez-direct help:"
   ]
  },
  {
   "cell_type": "code",
   "execution_count": null,
   "id": "a918687c-cb5f-410f-8460-b3cdc2434914",
   "metadata": {},
   "outputs": [],
   "source": [
    "!esearch -h | head"
   ]
  },
  {
   "cell_type": "markdown",
   "id": "6ec29c91-9337-4745-aed0-aaf6cf75bba9",
   "metadata": {},
   "source": [
    "<p>Install <strong>mamba&nbsp;</strong>and create a <strong>Python 2.7</strong> environment, which is necessary for running the &apos;build_OTU_table.sh script</p>"
   ]
  },
  {
   "cell_type": "code",
   "execution_count": null,
   "id": "ab3619c6-0cb7-412d-a549-661f1ab5d50b",
   "metadata": {},
   "outputs": [],
   "source": [
    "conda install -y -c conda-forge mamba"
   ]
  },
  {
   "cell_type": "code",
   "execution_count": 59,
   "id": "51c5a9be-bfab-4c4e-bc1d-0b3d214f68a4",
   "metadata": {
    "tags": []
   },
   "outputs": [
    {
     "name": "stdout",
     "output_type": "stream",
     "text": [
      "  Package                                  Version  Build                  Channel                    Size\n",
      "────────────────────────────────────────────────────────────────────────────────────────────────────────────\n",
      "  Install:\n",
      "────────────────────────────────────────────────────────────────────────────────────────────────────────────\n",
      "\n",
      "\u001b[32m  + _libgcc_mutex                     \u001b[00m         0.1  conda_forge            conda-forge/linux-64       3 KB\n",
      "\u001b[32m  + _openmp_mutex                     \u001b[00m         4.5  1_gnu                  conda-forge/linux-64      22 KB\n",
      "\u001b[32m  + backports                         \u001b[00m         1.0  py_2                   conda-forge/noarch  \u001b[32m     Cached\u001b[00m\n",
      "\u001b[32m  + backports.functools_lru_cache     \u001b[00m       1.6.1  py_0                   conda-forge/noarch         8 KB\n",
      "\u001b[32m  + backports.shutil_get_terminal_size\u001b[00m       1.0.0  py_3                   conda-forge/noarch         7 KB\n",
      "\u001b[32m  + backports_abc                     \u001b[00m         0.5  py_1                   conda-forge/noarch         5 KB\n",
      "\u001b[32m  + ca-certificates                   \u001b[00m   2021.10.8  ha878542_0             conda-forge/linux-64\u001b[32m     Cached\u001b[00m\n",
      "\u001b[32m  + certifi                           \u001b[00m  2019.11.28  py27h8c360ce_1         conda-forge/linux-64     149 KB\n",
      "\u001b[32m  + configparser                      \u001b[00m       3.7.3  py27h8c360ce_2         conda-forge/linux-64      37 KB\n",
      "\u001b[32m  + decorator                         \u001b[00m       4.4.2  py_0                   conda-forge/noarch        11 KB\n",
      "\u001b[32m  + entrypoints                       \u001b[00m         0.3  py27h8c360ce_1001      conda-forge/linux-64      14 KB\n",
      "\u001b[32m  + enum34                            \u001b[00m      1.1.10  py27h8c360ce_1         conda-forge/linux-64      49 KB\n",
      "\u001b[32m  + futures                           \u001b[00m       3.3.0  py27h8c360ce_1         conda-forge/linux-64      26 KB\n",
      "\u001b[32m  + ipykernel                         \u001b[00m      4.10.0  py27_1                 conda-forge/linux-64     144 KB\n",
      "\u001b[32m  + ipython                           \u001b[00m       5.8.0  py27_1                 conda-forge/linux-64       1 MB\n",
      "\u001b[32m  + ipython_genutils                  \u001b[00m       0.2.0  py_1                   conda-forge/noarch  \u001b[32m     Cached\u001b[00m\n",
      "\u001b[32m  + jupyter_client                    \u001b[00m       5.3.4  py27_1                 conda-forge/linux-64     129 KB\n",
      "\u001b[32m  + jupyter_core                      \u001b[00m       4.6.3  py27h8c360ce_1         conda-forge/linux-64      71 KB\n",
      "\u001b[32m  + ld_impl_linux-64                  \u001b[00m      2.36.1  hea4e1c9_2             conda-forge/linux-64\u001b[32m     Cached\u001b[00m\n",
      "\u001b[32m  + libffi                            \u001b[00m       3.2.1  he1b5a44_1007          conda-forge/linux-64      47 KB\n",
      "\u001b[32m  + libgcc-ng                         \u001b[00m      11.2.0  h1d223b6_11            conda-forge/linux-64\u001b[32m     Cached\u001b[00m\n",
      "\u001b[32m  + libgomp                           \u001b[00m      11.2.0  h1d223b6_11            conda-forge/linux-64\u001b[32m     Cached\u001b[00m\n",
      "\u001b[32m  + libsodium                         \u001b[00m      1.0.17  h516909a_0             conda-forge/linux-64     330 KB\n",
      "\u001b[32m  + libstdcxx-ng                      \u001b[00m      11.2.0  he4da1e4_11            conda-forge/linux-64\u001b[32m     Cached\u001b[00m\n",
      "\u001b[32m  + libzlib                           \u001b[00m      1.2.11  h36c2ea0_1013          conda-forge/linux-64\u001b[32m     Cached\u001b[00m\n",
      "\u001b[32m  + ncurses                           \u001b[00m         6.2  h58526e2_4             conda-forge/linux-64\u001b[32m     Cached\u001b[00m\n",
      "\u001b[32m  + openssl                           \u001b[00m      1.1.1l  h7f98852_0             conda-forge/linux-64\u001b[32m     Cached\u001b[00m\n",
      "\u001b[32m  + pathlib2                          \u001b[00m       2.3.5  py27h8c360ce_1         conda-forge/linux-64      33 KB\n",
      "\u001b[32m  + pexpect                           \u001b[00m       4.8.0  pyh9f0ad1d_2           conda-forge/noarch  \u001b[32m     Cached\u001b[00m\n",
      "\u001b[32m  + pickleshare                       \u001b[00m       0.7.5  py27h8c360ce_1001      conda-forge/linux-64      12 KB\n",
      "\u001b[32m  + pip                               \u001b[00m      20.1.1  pyh9f0ad1d_0           conda-forge/noarch         1 MB\n",
      "\u001b[32m  + prompt_toolkit                    \u001b[00m      1.0.15  py_1                   conda-forge/noarch       154 KB\n",
      "\u001b[32m  + ptyprocess                        \u001b[00m       0.7.0  pyhd3deb0d_0           conda-forge/noarch  \u001b[32m     Cached\u001b[00m\n",
      "\u001b[32m  + pygments                          \u001b[00m       2.5.2  py_0                   conda-forge/noarch       669 KB\n",
      "\u001b[32m  + python                            \u001b[00m      2.7.15  h5a48372_1011_cpython  conda-forge/linux-64      12 MB\n",
      "\u001b[32m  + python-dateutil                   \u001b[00m       2.8.1  py_0                   conda-forge/noarch       220 KB\n",
      "\u001b[32m  + python_abi                        \u001b[00m         2.7  1_cp27mu               conda-forge/linux-64       4 KB\n",
      "\u001b[32m  + pyzmq                             \u001b[00m      19.0.0  py27h76efe43_1         conda-forge/linux-64     491 KB\n",
      "\u001b[32m  + readline                          \u001b[00m         8.1  h46c0cb4_0             conda-forge/linux-64\u001b[32m     Cached\u001b[00m\n",
      "\u001b[32m  + scandir                           \u001b[00m      1.10.0  py27hdf8410d_1         conda-forge/linux-64      28 KB\n",
      "\u001b[32m  + setuptools                        \u001b[00m      44.0.0  py27_0                 conda-forge/linux-64     663 KB\n",
      "\u001b[32m  + simplegeneric                     \u001b[00m       0.8.1  py_1                   conda-forge/noarch         7 KB\n",
      "\u001b[32m  + singledispatch                    \u001b[00m       3.6.1  pyh44b312d_0           conda-forge/noarch        12 KB\n",
      "\u001b[32m  + six                               \u001b[00m      1.16.0  pyh6c4a22f_0           conda-forge/noarch  \u001b[32m     Cached\u001b[00m\n",
      "\u001b[32m  + sqlite                            \u001b[00m      3.37.0  h9cd32fc_0             conda-forge/linux-64\u001b[32m     Cached\u001b[00m\n",
      "\u001b[32m  + tk                                \u001b[00m      8.6.11  h27826a3_1             conda-forge/linux-64\u001b[32m     Cached\u001b[00m\n",
      "\u001b[32m  + tornado                           \u001b[00m       5.1.1  py27h14c3975_1000      conda-forge/linux-64     642 KB\n",
      "\u001b[32m  + traitlets                         \u001b[00m       4.3.3  py27h8c360ce_1         conda-forge/linux-64     128 KB\n",
      "\u001b[32m  + wcwidth                           \u001b[00m       0.2.5  pyh9f0ad1d_2           conda-forge/noarch  \u001b[32m     Cached\u001b[00m\n",
      "\u001b[32m  + wheel                             \u001b[00m      0.37.0  pyhd8ed1ab_1           conda-forge/noarch  \u001b[32m     Cached\u001b[00m\n",
      "\u001b[32m  + zeromq                            \u001b[00m       4.3.2  he1b5a44_2             conda-forge/linux-64     668 KB\n",
      "\u001b[32m  + zlib                              \u001b[00m      1.2.11  h36c2ea0_1013          conda-forge/linux-64\u001b[32m     Cached\u001b[00m\n",
      "\n",
      "  Summary:\n",
      "\n",
      "  Install: 52 packages\n",
      "\n",
      "  Total download: 19 MB\n",
      "\n",
      "────────────────────────────────────────────────────────────────────────────────────────────────────────────\n",
      "\n",
      "Preparing transaction: ...working... done\n",
      "Verifying transaction: ...working... done\n",
      "Executing transaction: ...working... done\n"
     ]
    }
   ],
   "source": [
    "!mamba create --quiet -y -n py27 python=2.7 ipykernel"
   ]
  },
  {
   "cell_type": "code",
   "execution_count": 60,
   "id": "5dd30dc6-9102-4ad5-be97-8174a25918d8",
   "metadata": {},
   "outputs": [
    {
     "name": "stdout",
     "output_type": "stream",
     "text": [
      "Python 2.7.15\n",
      "\n"
     ]
    }
   ],
   "source": [
    "!conda run -n py27 python --version"
   ]
  },
  {
   "cell_type": "code",
   "execution_count": null,
   "id": "7ac5c7d5-c736-40b3-b7c9-1181e13bea0f",
   "metadata": {
    "tags": []
   },
   "outputs": [],
   "source": [
    "!sudo apt-get -y update"
   ]
  },
  {
   "cell_type": "markdown",
   "id": "161ab6ad-0e80-43f8-8b6d-d7d38791dee0",
   "metadata": {},
   "source": [
    "**The following commands will install `R`, the `R packages` required for the functions that we are going to run in the `Data Analysis` session, and the `R environment` to open the `metapipe-r.ipynb` Notebook.**"
   ]
  },
  {
   "cell_type": "code",
   "execution_count": null,
   "id": "415d0ca5-c0b2-4a01-abb2-7cdf5581954a",
   "metadata": {
    "tags": []
   },
   "outputs": [],
   "source": [
    "!mamba install --quiet -y -c conda-forge 'r-base>4'"
   ]
  },
  {
   "cell_type": "code",
   "execution_count": null,
   "id": "716d8dfe-eb7a-4d67-bcc9-cd11cd358438",
   "metadata": {
    "tags": []
   },
   "outputs": [],
   "source": [
    "conda install -c bioconda bioconductor-phyloseq"
   ]
  },
  {
   "cell_type": "code",
   "execution_count": null,
   "id": "82e65d75-8d76-480d-908e-54e1677f495c",
   "metadata": {},
   "outputs": [],
   "source": [
    "conda install -c conda-forge r-ape"
   ]
  },
  {
   "cell_type": "code",
   "execution_count": null,
   "id": "27f6a64d-581f-4854-b55c-a55c94919baa",
   "metadata": {},
   "outputs": [],
   "source": [
    "conda install -c conda-forge r-ggplot2"
   ]
  },
  {
   "cell_type": "code",
   "execution_count": null,
   "id": "74eb8974-1862-488b-8973-5bab9e162962",
   "metadata": {},
   "outputs": [],
   "source": [
    "conda install -c conda-forge r-reshape2"
   ]
  },
  {
   "cell_type": "code",
   "execution_count": null,
   "id": "f1d13f3b-fddc-448a-bcb0-6ddbaa7b83a8",
   "metadata": {},
   "outputs": [],
   "source": [
    "conda install -c conda-forge r-vegan"
   ]
  },
  {
   "cell_type": "code",
   "execution_count": null,
   "id": "81fa36e9-b528-44bf-bf5b-24e45c05e4d7",
   "metadata": {
    "tags": []
   },
   "outputs": [],
   "source": [
    "conda install -c conda-forge r-dplyr"
   ]
  },
  {
   "cell_type": "code",
   "execution_count": null,
   "id": "0ea07855-2c6f-4191-b302-985fff765b25",
   "metadata": {},
   "outputs": [],
   "source": [
    "conda install -c conda-forge r-rcolorbrewer"
   ]
  },
  {
   "cell_type": "code",
   "execution_count": null,
   "id": "01656ce1-35d3-4c4a-a9e9-8c9c2e26f57d",
   "metadata": {
    "tags": []
   },
   "outputs": [],
   "source": [
    "conda install -c conda-forge r-png"
   ]
  },
  {
   "cell_type": "code",
   "execution_count": null,
   "id": "6f724bc5-94d8-41cf-aae3-5f935dd8e900",
   "metadata": {
    "tags": []
   },
   "outputs": [],
   "source": [
    "conda install -c r r-repr"
   ]
  },
  {
   "cell_type": "code",
   "execution_count": null,
   "id": "a32aed74-9700-4940-b90e-0a282c568909",
   "metadata": {},
   "outputs": [],
   "source": [
    "conda install -c conda-forge r-data.table"
   ]
  },
  {
   "cell_type": "code",
   "execution_count": null,
   "id": "7fadaaf6-e0f0-4ae5-b43f-3ac924773e66",
   "metadata": {},
   "outputs": [],
   "source": [
    "conda install -c conda-forge r-treemapify"
   ]
  },
  {
   "cell_type": "code",
   "execution_count": null,
   "id": "0b26ade6-29ae-43bc-9bf5-c7441f6ea0e1",
   "metadata": {},
   "outputs": [],
   "source": [
    "conda install -c conda-forge r-ggrepel"
   ]
  },
  {
   "cell_type": "code",
   "execution_count": null,
   "id": "c26a931e-222a-4cc2-8693-0707be8a715d",
   "metadata": {},
   "outputs": [],
   "source": [
    "!conda install -c bioconda bioconductor-genomeinfodbdata"
   ]
  },
  {
   "cell_type": "code",
   "execution_count": null,
   "id": "39087694-6b8b-47f6-8691-518cc4b4e4eb",
   "metadata": {
    "tags": []
   },
   "outputs": [],
   "source": [
    "%%bash\n",
    "# After R installation we need to setup its comunication with Jupyter using the R kernel\n",
    "R -e \"install.packages('IRkernel', repos='http://cran.us.r-project.org')\"\n",
    "R -e \"IRkernel::installspec()\"\n",
    "# After the installation it is required to refresh the notebook kernel by simply refreshing the page (F5)"
   ]
  },
  {
   "cell_type": "markdown",
   "id": "bc71befd-e51c-4b40-b465-1e0a1075996a",
   "metadata": {},
   "source": [
    "**Finally, we are going to extract the following compressed files, which are `pre-formatted files and outputs`, which we will adopt in some steps in order to speed up the workflow.**"
   ]
  },
  {
   "cell_type": "code",
   "execution_count": null,
   "id": "69e24b68-b585-4d69-b168-a71f0fef7f83",
   "metadata": {},
   "outputs": [],
   "source": [
    "!tar -zxvf COI_Diet_otu_table.tar.gz"
   ]
  },
  {
   "cell_type": "code",
   "execution_count": null,
   "id": "8d5941e4-b383-4718-90d0-e5dc8384c835",
   "metadata": {},
   "outputs": [],
   "source": [
    "!tar -zxvf COI_NCBI_tax_assignment.tar.gz"
   ]
  },
  {
   "cell_type": "code",
   "execution_count": null,
   "id": "47f6aa76-745d-420c-bb6a-b222ed49cff2",
   "metadata": {},
   "outputs": [],
   "source": [
    "!tar -zxvf Streptophyta_trnL_NCBI.tar.gz"
   ]
  },
  {
   "cell_type": "code",
   "execution_count": null,
   "id": "8cecd780-9d21-4346-883a-e44155bdafb7",
   "metadata": {},
   "outputs": [],
   "source": [
    "!tar -zxvf trnL_S1_L001_R1_001_sub.tar.gz"
   ]
  },
  {
   "cell_type": "code",
   "execution_count": null,
   "id": "d1492def-83dd-49b6-9910-4b1af39d416f",
   "metadata": {},
   "outputs": [],
   "source": [
    "!tar -zxvf trnL_S1_L001_R2_001_sub.tar.gz"
   ]
  },
  {
   "cell_type": "code",
   "execution_count": null,
   "id": "f36e36e2-0c2e-4fe4-b7ad-5292b69d3cd9",
   "metadata": {},
   "outputs": [],
   "source": [
    "!tar -zxvf trnL_subsample.assembled.tar.gz"
   ]
  },
  {
   "cell_type": "markdown",
   "id": "f0afbe9d-a71f-42a2-a0dc-b4f7ce7ae8e4",
   "metadata": {},
   "source": [
    "**###################################################################**<p>\n",
    "**THAT'S IT, WE ARE READY TO START!!**<p>\n",
    "**PLEASE OPEN THE `metapipe-run.ipynb` Notebook!**<p>\n",
    "**###################################################################**"
   ]
  }
 ],
 "metadata": {
  "environment": {
   "kernel": "conda-root-py",
   "name": "common-cpu.m87",
   "type": "gcloud",
   "uri": "gcr.io/deeplearning-platform-release/base-cpu:m87"
  },
  "kernelspec": {
   "display_name": "Python [conda env:root] *",
   "language": "python",
   "name": "conda-root-py"
  },
  "language_info": {
   "codemirror_mode": {
    "name": "ipython",
    "version": 3
   },
   "file_extension": ".py",
   "mimetype": "text/x-python",
   "name": "python",
   "nbconvert_exporter": "python",
   "pygments_lexer": "ipython3",
   "version": "3.7.12"
  }
 },
 "nbformat": 4,
 "nbformat_minor": 5
}
