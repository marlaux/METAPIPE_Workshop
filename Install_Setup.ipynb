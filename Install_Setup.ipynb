{
 "cells": [
  {
   "cell_type": "markdown",
   "id": "43a93c76-e5f0-4b20-8e80-aabddb4f6034",
   "metadata": {},
   "source": [
    "<p>We will install de software and dependencies using the Conda Environment.</p>\n",
    "<p>First, we will update our conda environment:</p>"
   ]
  },
  {
   "cell_type": "code",
   "execution_count": null,
   "id": "b8cea73d-fbed-4888-849f-ad3f901e557f",
   "metadata": {
    "tags": []
   },
   "outputs": [],
   "source": [
    "conda update -n base conda"
   ]
  },
  {
   "cell_type": "markdown",
   "id": "903a8231-2e6f-4686-be2e-742a8a81b70c",
   "metadata": {},
   "source": [
    "<p>Install de <strong>Bioconda&nbsp;</strong>package, which harbors most of our pipeline&apos;s dependencies:</p>\n",
    "<p><a href=\"https://bioconda.github.io/user/install.html\">https://bioconda.github.io/user/install.html</a></p>"
   ]
  },
  {
   "cell_type": "code",
   "execution_count": null,
   "id": "385754e7-91d1-4f56-b587-a9acf9c7ef7c",
   "metadata": {},
   "outputs": [],
   "source": [
    "conda config --add channels bioconda"
   ]
  },
  {
   "cell_type": "markdown",
   "id": "f6d528ec-4525-4fd1-acad-2f34507042be",
   "metadata": {},
   "source": [
    "<p>Install <strong>Cutadapt</strong>, which is the tool adopted to run the demultiplexing step and adapter, tags and primers removal.</p>\n",
    "<p><a href=\"https://cutadapt.readthedocs.io/en/stable/index.html\">https://cutadapt.readthedocs.io/en/stable/index.html</a></p>"
   ]
  },
  {
   "cell_type": "code",
   "execution_count": null,
   "id": "8657fc19-6aef-44ff-9a70-94edf8e1f0c8",
   "metadata": {
    "tags": []
   },
   "outputs": [],
   "source": [
    "conda install -c bioconda cutadapt"
   ]
  },
  {
   "cell_type": "markdown",
   "id": "82a0ede4-6eef-4ec3-8171-8a4ff3cd21de",
   "metadata": {},
   "source": [
    "Check the instalation by asking for Cutadapt help:"
   ]
  },
  {
   "cell_type": "code",
   "execution_count": 1,
   "id": "a1dfc055-b27a-4861-9d8e-fb8652245833",
   "metadata": {},
   "outputs": [
    {
     "name": "stdout",
     "output_type": "stream",
     "text": [
      "cutadapt version 3.5\n",
      "\n",
      "Copyright (C) 2010-2021 Marcel Martin <marcel.martin@scilifelab.se>\n",
      "\n",
      "cutadapt removes adapter sequences from high-throughput sequencing reads.\n",
      "\n",
      "Usage:\n",
      "    cutadapt -a ADAPTER [options] [-o output.fastq] input.fastq\n",
      "\n",
      "For paired-end reads:\n"
     ]
    }
   ],
   "source": [
    "!cutadapt -h | head"
   ]
  },
  {
   "cell_type": "markdown",
   "id": "32eb417e-89f7-41dd-a336-b5e7fdc14416",
   "metadata": {},
   "source": [
    "<p>Install <strong>VSEARCH</strong>, which is the tool adopted for read cleaning and sequences headers formatting</p>\n",
    "<p><a href=\"https://github.com/torognes/vsearch\">https://github.com/torognes/vsearch</a></p>"
   ]
  },
  {
   "cell_type": "code",
   "execution_count": null,
   "id": "7fda2a13-aa08-4dd8-b761-1b98e4790008",
   "metadata": {
    "tags": []
   },
   "outputs": [],
   "source": [
    "conda install -c bioconda vsearch"
   ]
  },
  {
   "cell_type": "markdown",
   "id": "86b29988-f86c-4a24-8e12-b7971de5607b",
   "metadata": {},
   "source": [
    "Check the instalation by asking for VSEARCH help:"
   ]
  },
  {
   "cell_type": "code",
   "execution_count": null,
   "id": "60b09162-ce63-4900-a2b1-7141d5224dcc",
   "metadata": {},
   "outputs": [],
   "source": [
    "!vsearch -h | head"
   ]
  },
  {
   "cell_type": "markdown",
   "id": "1885b67b-a0fd-4bd5-8354-b3baf4a31789",
   "metadata": {},
   "source": [
    "<p>Install <strong>SeqKit</strong>, which is the tool adopted for references databases formatting</p>\n",
    "<p><a href=\"https://bioinf.shenwei.me/seqkit/\">https://bioinf.shenwei.me/seqkit/</a></p>"
   ]
  },
  {
   "cell_type": "code",
   "execution_count": null,
   "id": "98fd56ab-af96-4b44-98a4-e06971d885b9",
   "metadata": {
    "tags": []
   },
   "outputs": [],
   "source": [
    "conda install -c bioconda seqkit"
   ]
  },
  {
   "cell_type": "markdown",
   "id": "5550d77e-8894-4483-84de-972fc8a5610e",
   "metadata": {},
   "source": [
    "Check the instalation by asking for seqkit help:"
   ]
  },
  {
   "cell_type": "code",
   "execution_count": null,
   "id": "b9d30a74-aa1e-46ca-8be1-9ffda8d24d53",
   "metadata": {},
   "outputs": [],
   "source": [
    "!seqkit -h | head"
   ]
  },
  {
   "cell_type": "code",
   "execution_count": null,
   "id": "34113365-1259-4625-b651-021215eeab36",
   "metadata": {
    "tags": []
   },
   "outputs": [],
   "source": [
    "conda install -c bioconda seqtk"
   ]
  },
  {
   "cell_type": "markdown",
   "id": "9c10a33c-1076-4fa8-a58a-22d5b2dc1b78",
   "metadata": {},
   "source": [
    "<p>Install <strong>BioPerl&nbsp;</strong>package, which is used for removing sequences duplicates from the references databases</p>\n",
    "<p><a href=\"https://bioperl.org/\">https://bioperl.org/</a></p>"
   ]
  },
  {
   "cell_type": "code",
   "execution_count": null,
   "id": "69c3d6c4-bd71-443e-be38-3f5d0dd6f1c5",
   "metadata": {
    "tags": []
   },
   "outputs": [],
   "source": [
    "conda install -c bioconda perl-bioperl"
   ]
  },
  {
   "cell_type": "code",
   "execution_count": null,
   "id": "e54f0d8d-6160-46ab-8445-c6937014ef60",
   "metadata": {
    "tags": []
   },
   "outputs": [],
   "source": [
    "conda update perl-bioperl"
   ]
  },
  {
   "cell_type": "markdown",
   "id": "8321c049-7820-420a-a7a2-a2dfa3f8b268",
   "metadata": {},
   "source": [
    "<p>Install <strong>SWARM&nbsp;</strong>which is the tool adopted for clustering the amplicons into OTUs</p>\n",
    "<p><a href=\"https://github.com/frederic-mahe/swarm\">https://github.com/frederic-mahe/swarm</a></p>"
   ]
  },
  {
   "cell_type": "code",
   "execution_count": null,
   "id": "ca6a4fc6-8396-4342-8525-bd24645868e6",
   "metadata": {
    "tags": []
   },
   "outputs": [],
   "source": [
    "conda install -c anaconda biopython"
   ]
  },
  {
   "cell_type": "code",
   "execution_count": null,
   "id": "2a91f25e-e290-4c23-8935-d40895cdc8b8",
   "metadata": {
    "tags": []
   },
   "outputs": [],
   "source": [
    "conda install snippy==4.05"
   ]
  },
  {
   "cell_type": "code",
   "execution_count": null,
   "id": "7af4fae4-8cc6-4824-9a83-8720de58d569",
   "metadata": {
    "tags": []
   },
   "outputs": [],
   "source": [
    "conda install -c bioconda swarm=3.0.0=hc9558a2_0"
   ]
  },
  {
   "cell_type": "markdown",
   "id": "37d780ed-c13a-4517-87dc-98890ca7dae3",
   "metadata": {},
   "source": [
    "Check the instalation by asking for swarm help:"
   ]
  },
  {
   "cell_type": "code",
   "execution_count": null,
   "id": "0f345976-2fae-4a2f-a51d-0b285dd21cbd",
   "metadata": {
    "tags": []
   },
   "outputs": [],
   "source": [
    "!swarm -h | head "
   ]
  },
  {
   "cell_type": "markdown",
   "id": "3f55d8cc-bb1b-4edd-bce1-ea5f16f8ceeb",
   "metadata": {},
   "source": [
    "<p>Install <strong>Pear</strong>, which is the tool adoped for merging the Illumina paired-end reads</p>"
   ]
  },
  {
   "cell_type": "code",
   "execution_count": null,
   "id": "71457a7c-d1d2-4e50-b7e7-0c53bcfb7305",
   "metadata": {
    "tags": []
   },
   "outputs": [],
   "source": [
    "conda install -c bioconda pear=0.9.6=h2f06484_6"
   ]
  },
  {
   "cell_type": "markdown",
   "id": "2b68d7e6-1222-4484-b7f8-626a3878b4cc",
   "metadata": {},
   "source": [
    "Ask for Pear -h to check the instalation:"
   ]
  },
  {
   "cell_type": "code",
   "execution_count": null,
   "id": "32902a7e-8dc0-47a7-9dea-edeb6b172346",
   "metadata": {
    "tags": []
   },
   "outputs": [],
   "source": [
    "!pear -h"
   ]
  },
  {
   "cell_type": "markdown",
   "id": "f7c75e91-5c92-458b-919b-2fc2e456d325",
   "metadata": {},
   "source": [
    "<p>Install <strong>Taxonkit</strong>, which is the tool adoped for getting the lineage for the references databases, and download the taxdump and nucleotide to accession files from NCBI.</p>"
   ]
  },
  {
   "cell_type": "code",
   "execution_count": null,
   "id": "04b172f7-9983-4f37-be5f-5b559e01be35",
   "metadata": {
    "tags": []
   },
   "outputs": [],
   "source": [
    "conda install -c bioconda taxonkit"
   ]
  },
  {
   "cell_type": "code",
   "execution_count": 2,
   "id": "e17e7ab9-2b2c-4a1f-93fd-52c5b80f0b93",
   "metadata": {},
   "outputs": [
    {
     "name": "stdout",
     "output_type": "stream",
     "text": [
      "--2021-12-10 14:34:57--  ftp://ftp.ncbi.nih.gov/pub/taxonomy/taxdump.tar.gz\n",
      "           => ‘taxdump.tar.gz’\n",
      "Resolving ftp.ncbi.nih.gov (ftp.ncbi.nih.gov)... 130.14.250.13, 165.112.9.230, 2607:f220:41f:250::230, ...\n",
      "Connecting to ftp.ncbi.nih.gov (ftp.ncbi.nih.gov)|130.14.250.13|:21... connected.\n",
      "Logging in as anonymous ... Logged in!\n",
      "==> SYST ... done.    ==> PWD ... done.\n",
      "==> TYPE I ... done.  ==> CWD (1) /pub/taxonomy ... done.\n",
      "==> SIZE taxdump.tar.gz ... 56831930\n",
      "==> PASV ... done.    ==> RETR taxdump.tar.gz ... done.\n",
      "Length: 56831930 (54M) (unauthoritative)\n",
      "\n",
      "taxdump.tar.gz      100%[===================>]  54.20M  35.4MB/s    in 1.5s    \n",
      "\n",
      "2021-12-10 14:34:59 (35.4 MB/s) - ‘taxdump.tar.gz’ saved [56831930]\n",
      "\n"
     ]
    }
   ],
   "source": [
    "!wget ftp://ftp.ncbi.nih.gov/pub/taxonomy/taxdump.tar.gz"
   ]
  },
  {
   "cell_type": "code",
   "execution_count": 3,
   "id": "2fb38441-a80d-40ca-9840-dca946b322c0",
   "metadata": {},
   "outputs": [
    {
     "name": "stdout",
     "output_type": "stream",
     "text": [
      "citations.dmp\n",
      "delnodes.dmp\n",
      "division.dmp\n",
      "gencode.dmp\n",
      "merged.dmp\n",
      "names.dmp\n",
      "nodes.dmp\n",
      "gc.prt\n",
      "readme.txt\n"
     ]
    }
   ],
   "source": [
    "!tar -zxvf taxdump.tar.gz"
   ]
  },
  {
   "cell_type": "code",
   "execution_count": 4,
   "id": "eb87c1ca-ea45-4900-9ee8-8795b75b0bb1",
   "metadata": {},
   "outputs": [],
   "source": [
    "%mkdir -p $HOME/.taxonkit"
   ]
  },
  {
   "cell_type": "code",
   "execution_count": 5,
   "id": "78480b86-823e-4626-a648-ccf45206c6c2",
   "metadata": {},
   "outputs": [],
   "source": [
    "%cp names.dmp nodes.dmp delnodes.dmp merged.dmp $HOME/.taxonkit"
   ]
  },
  {
   "cell_type": "markdown",
   "id": "cfabe374-64b6-41aa-9dad-15c6a03669dc",
   "metadata": {},
   "source": [
    "Check the installation asking for taxonkit -h"
   ]
  },
  {
   "cell_type": "code",
   "execution_count": 6,
   "id": "6ab73e8d-db50-4fd7-a582-d1f8e0dba278",
   "metadata": {
    "tags": []
   },
   "outputs": [
    {
     "name": "stdout",
     "output_type": "stream",
     "text": [
      "TaxonKit - A Practical and Efficient NCBI Taxonomy Toolkit\n",
      "\n",
      "Version: 0.9.0\n",
      "\n",
      "Author: Wei Shen <shenwei356@gmail.com>\n",
      "\n",
      "Source code: https://github.com/shenwei356/taxonkit\n",
      "Documents  : https://bioinf.shenwei.me/taxonkit\n",
      "Citation   : https://www.sciencedirect.com/science/article/pii/S1673852721000837\n",
      "\n",
      "Dataset:\n",
      "\n",
      "    Please download and uncompress \"taxdump.tar.gz\":\n",
      "    ftp://ftp.ncbi.nih.gov/pub/taxonomy/taxdump.tar.gz\n",
      "\n",
      "    and copy \"names.dmp\", \"nodes.dmp\", \"delnodes.dmp\" and \"merged.dmp\" to data directory:\n",
      "    \"/home/jupyter/.taxonkit\"\n",
      "\n",
      "    or some other directory, and later you can refer to using flag --data-dir,\n",
      "    or environment variable TAXONKIT_DB\n",
      "\n",
      "Usage:\n",
      "  taxonkit [command]\n",
      "\n",
      "Available Commands:\n",
      "  filter          Filter TaxIds by taxonomic rank range\n",
      "  genautocomplete generate shell autocompletion script (bash|zsh|fish|powershell)\n",
      "  lca             Compute lowest common ancestor (LCA) for TaxIds\n",
      "  lineage         Query taxonomic lineage of given TaxIds\n",
      "  list            List taxonomic subtrees of given TaxIds\n",
      "  name2taxid      Convert scientific names to TaxIds\n",
      "  profile2cami    Convert metagenomic profile table to CAMI format\n",
      "  reformat        Reformat lineage in canonical ranks\n",
      "  taxid-changelog Create TaxId changelog from dump archives\n",
      "  version         print version information and check for update\n",
      "\n",
      "Flags:\n",
      "      --data-dir string   directory containing nodes.dmp and names.dmp (default \"/home/jupyter/.taxonkit\")\n",
      "  -h, --help              help for taxonkit\n",
      "      --line-buffered     use line buffering on output, i.e., immediately writing to stdin/file for every line of output\n",
      "  -o, --out-file string   out file (\"-\" for stdout, suffix .gz for gzipped out) (default \"-\")\n",
      "  -j, --threads int       number of CPUs. 4 is enough (default 4)\n",
      "      --verbose           print verbose information\n",
      "\n",
      "Use \"taxonkit [command] --help\" for more information about a command.\n"
     ]
    }
   ],
   "source": [
    "!taxonkit -h"
   ]
  },
  {
   "cell_type": "code",
   "execution_count": 7,
   "id": "aca6692c-d00b-4707-a64c-7feb8abdac47",
   "metadata": {},
   "outputs": [],
   "source": [
    "%rm *.dmp taxdump.tar.gz readme.txt gc.prt"
   ]
  },
  {
   "cell_type": "code",
   "execution_count": null,
   "id": "2a718b7e-5976-428b-bcda-6541eda76cfd",
   "metadata": {},
   "outputs": [],
   "source": [
    "%ls"
   ]
  },
  {
   "cell_type": "markdown",
   "id": "30f55e71-c063-433e-80dc-c247a20ecce0",
   "metadata": {},
   "source": [
    "<p>Install <strong>BLAST</strong>, which is the tool adoped for assigning taxonomy, and download the taxdb file from NCBI.</p>"
   ]
  },
  {
   "cell_type": "code",
   "execution_count": null,
   "id": "62ea4a50-c3a3-484b-8a8d-27430a007652",
   "metadata": {},
   "outputs": [],
   "source": [
    "conda install -c bioconda blast"
   ]
  },
  {
   "cell_type": "markdown",
   "id": "74fa4afd-2a76-4dd2-942a-5cee8a3dcfd5",
   "metadata": {},
   "source": [
    "Ckeck the installation by asking blast help:"
   ]
  },
  {
   "cell_type": "code",
   "execution_count": null,
   "id": "638317c2-b13e-4924-9beb-7db1d6ba1023",
   "metadata": {
    "tags": []
   },
   "outputs": [],
   "source": [
    "!blastn -h"
   ]
  },
  {
   "cell_type": "code",
   "execution_count": 8,
   "id": "363edecf-6d26-4cde-9d43-56f7ea519f17",
   "metadata": {},
   "outputs": [
    {
     "name": "stdout",
     "output_type": "stream",
     "text": [
      "--2021-12-10 14:49:54--  https://ftp.ncbi.nlm.nih.gov/blast/db/taxdb.tar.gz\n",
      "Resolving ftp.ncbi.nlm.nih.gov (ftp.ncbi.nlm.nih.gov)... 130.14.250.7, 165.112.9.229, 2607:f220:41e:250::11, ...\n",
      "Connecting to ftp.ncbi.nlm.nih.gov (ftp.ncbi.nlm.nih.gov)|130.14.250.7|:443... connected.\n",
      "HTTP request sent, awaiting response... 200 OK\n",
      "Length: 32424298 (31M) [application/x-gzip]\n",
      "Saving to: ‘taxdb.tar.gz’\n",
      "\n",
      "taxdb.tar.gz        100%[===================>]  30.92M  29.1MB/s    in 1.1s    \n",
      "\n",
      "2021-12-10 14:49:56 (29.1 MB/s) - ‘taxdb.tar.gz’ saved [32424298/32424298]\n",
      "\n"
     ]
    }
   ],
   "source": [
    "!wget https://ftp.ncbi.nlm.nih.gov/blast/db/taxdb.tar.gz"
   ]
  },
  {
   "cell_type": "code",
   "execution_count": 9,
   "id": "51c9e4e7-1bb6-4301-af86-171083883c69",
   "metadata": {},
   "outputs": [
    {
     "name": "stdout",
     "output_type": "stream",
     "text": [
      "taxdb.btd\n",
      "taxdb.bti\n"
     ]
    }
   ],
   "source": [
    "%%bash\n",
    "tar -zxvf taxdb.tar.gz"
   ]
  },
  {
   "cell_type": "markdown",
   "id": "d224c3f0-7e44-45a0-9044-ecfb1f5d4e1c",
   "metadata": {},
   "source": [
    "<p>Install <strong>entrez-direct&nbsp;</strong>toolkit, which is the tool adoped for searching and downloading NCBI references</p>"
   ]
  },
  {
   "cell_type": "code",
   "execution_count": null,
   "id": "60b562be-3368-4b33-be62-5b0806e22a66",
   "metadata": {},
   "outputs": [],
   "source": [
    "conda install -c bioconda entrez-direct"
   ]
  },
  {
   "cell_type": "markdown",
   "id": "d5291fa3-3de0-4915-97ad-696f002ca5cb",
   "metadata": {},
   "source": [
    "Check the installation by asking entrez-direct help:"
   ]
  },
  {
   "cell_type": "code",
   "execution_count": null,
   "id": "a918687c-cb5f-410f-8460-b3cdc2434914",
   "metadata": {},
   "outputs": [],
   "source": [
    "!esearch -h | head"
   ]
  },
  {
   "cell_type": "markdown",
   "id": "6ec29c91-9337-4745-aed0-aaf6cf75bba9",
   "metadata": {},
   "source": [
    "<p>Install <strong>mamba&nbsp;</strong>and create a <strong>Python 2.7</strong> environment, which is necessary for running the &apos;build_OTU_table.sh script</p>"
   ]
  },
  {
   "cell_type": "code",
   "execution_count": null,
   "id": "ab3619c6-0cb7-412d-a549-661f1ab5d50b",
   "metadata": {},
   "outputs": [],
   "source": [
    "conda install -y -c conda-forge mamba"
   ]
  },
  {
   "cell_type": "code",
   "execution_count": null,
   "id": "51c5a9be-bfab-4c4e-bc1d-0b3d214f68a4",
   "metadata": {},
   "outputs": [],
   "source": [
    "!mamba create -y -n py27 python=2.7 ipykernel"
   ]
  },
  {
   "cell_type": "code",
   "execution_count": null,
   "id": "5dd30dc6-9102-4ad5-be97-8174a25918d8",
   "metadata": {},
   "outputs": [],
   "source": [
    "!conda run -n py27 python --version"
   ]
  },
  {
   "cell_type": "markdown",
   "id": "42b77371-b1d0-4554-a59b-001e5e5a6e5a",
   "metadata": {},
   "source": [
    "https://console.cloud.google.com/marketplace/product/rstudio-launcher-public/rstudio-server-pro-standard-for-gcp?q=rstudio&id=76ae9647-2d08-4888-b737-74f751581848&project=metapipe"
   ]
  },
  {
   "cell_type": "code",
   "execution_count": null,
   "id": "21e4e0a0-81d3-4451-9047-a7027dc4245c",
   "metadata": {},
   "outputs": [],
   "source": [
    "!gsutil cp gs://metapipe-data/FINAL/trnL_sub_tags.txt ."
   ]
  },
  {
   "cell_type": "code",
   "execution_count": null,
   "id": "7a2544bb-646a-4752-9155-c5e2b44764f2",
   "metadata": {},
   "outputs": [],
   "source": [
    "!gsutil cp gs://metapipe-files/trnL_sub_metadata.txt ."
   ]
  },
  {
   "cell_type": "code",
   "execution_count": null,
   "id": "17993d00-cd01-4903-b72d-4eb6024c4265",
   "metadata": {},
   "outputs": [],
   "source": [
    "!gsutil cp gs://metapipe-data/RUN_ON_JUPYTER/trnL_S1_L001_R1_001_sub.fastq ."
   ]
  },
  {
   "cell_type": "code",
   "execution_count": null,
   "id": "75e6c6b1-786d-40b0-821f-74bb60ac8a85",
   "metadata": {},
   "outputs": [],
   "source": [
    "!gsutil cp gs://metapipe-data/RUN_ON_JUPYTER/trnL_S1_L001_R2_001_sub.fastq ."
   ]
  },
  {
   "cell_type": "code",
   "execution_count": null,
   "id": "9efdd9ff-5cc5-43df-abf9-437543c8109e",
   "metadata": {},
   "outputs": [],
   "source": [
    "!gsutil cp gs://metapipe-files/dioscorea.png ."
   ]
  },
  {
   "cell_type": "code",
   "execution_count": null,
   "id": "ce729e45-affc-42ba-a0a2-ce70c4cb8825",
   "metadata": {},
   "outputs": [],
   "source": [
    "!gsutil cp gs://metapipe-files/discorea.png ."
   ]
  },
  {
   "cell_type": "markdown",
   "id": "847c3a1d-a064-48e2-aef2-fe4ccf147f98",
   "metadata": {},
   "source": [
    "https://docs.rstudio.com/rsw/integration/jupyter-standalone/"
   ]
  },
  {
   "cell_type": "code",
   "execution_count": null,
   "id": "7ac5c7d5-c736-40b3-b7c9-1181e13bea0f",
   "metadata": {
    "tags": []
   },
   "outputs": [],
   "source": [
    "!sudo apt-get -y update"
   ]
  },
  {
   "cell_type": "code",
   "execution_count": null,
   "id": "174a59a6-7949-43c1-b6ba-650d303ce991",
   "metadata": {},
   "outputs": [],
   "source": [
    "!sudo apt-get install -y gdebi-core"
   ]
  },
  {
   "cell_type": "code",
   "execution_count": null,
   "id": "b4377827-c8a3-4b7b-bc69-45c323b3b03c",
   "metadata": {},
   "outputs": [],
   "source": [
    "!curl -O https://cdn.rstudio.com/r/debian-10/pkgs/r-4.0.5_1_amd64.deb"
   ]
  },
  {
   "cell_type": "code",
   "execution_count": null,
   "id": "858ee444-2afe-455f-9efb-6688e525bd58",
   "metadata": {
    "tags": []
   },
   "outputs": [],
   "source": [
    "!sudo gdebi --n r-4.0.5_1_amd64.deb"
   ]
  },
  {
   "cell_type": "code",
   "execution_count": null,
   "id": "58f4c97c-8cfc-42ad-909a-ee0b89186981",
   "metadata": {},
   "outputs": [],
   "source": [
    "%%bash\n",
    "/opt/R/4.0.5/bin/R --version"
   ]
  },
  {
   "cell_type": "code",
   "execution_count": null,
   "id": "3b8d9a31-58b7-4235-b418-fabb6bda4093",
   "metadata": {},
   "outputs": [],
   "source": [
    "!sudo ln -s /opt/R/4.0.5/bin/R /usr/local/bin/R\n",
    "!sudo ln -s /opt/R/4.0.5/bin/Rscript /usr/local/bin/Rscript"
   ]
  },
  {
   "cell_type": "code",
   "execution_count": null,
   "id": "4065fd4a-a4bc-465a-a9d7-fc24dae32e96",
   "metadata": {
    "tags": []
   },
   "outputs": [],
   "source": [
    "!sudo apt-get install gdebi-core\n",
    "!curl -O https://download2.rstudio.org/server/bionic/amd64/rstudio-workbench-2021.09.0-351.pro6-amd64.deb\n",
    "!sudo gdebi --n rstudio-workbench-2021.09.0-351.pro6-amd64.deb"
   ]
  },
  {
   "cell_type": "code",
   "execution_count": null,
   "id": "a26801ba-ea64-44e8-8737-f11b9ce7c82e",
   "metadata": {},
   "outputs": [],
   "source": [
    "!sudo rstudio-server license-manager status"
   ]
  },
  {
   "cell_type": "code",
   "execution_count": null,
   "id": "39087694-6b8b-47f6-8691-518cc4b4e4eb",
   "metadata": {},
   "outputs": [],
   "source": [
    "%%bash\n",
    "# After R installation we need to setup its comunication with Jupyter using the R kernel\n",
    "R -e \"install.packages('IRkernel', repos='http://cran.us.r-project.org')\"\n",
    "R -e \"IRkernel::installspec()\"\n",
    "# After the installation it is required to refresh the notebook kernel by simply refreshing the page (F5)"
   ]
  },
  {
   "cell_type": "code",
   "execution_count": null,
   "id": "716d8dfe-eb7a-4d67-bcc9-cd11cd358438",
   "metadata": {
    "tags": []
   },
   "outputs": [],
   "source": [
    "conda install -c bioconda bioconductor-phyloseq"
   ]
  },
  {
   "cell_type": "code",
   "execution_count": null,
   "id": "27f6a64d-581f-4854-b55c-a55c94919baa",
   "metadata": {},
   "outputs": [],
   "source": [
    "conda install -c conda-forge r-ggplot2"
   ]
  },
  {
   "cell_type": "code",
   "execution_count": null,
   "id": "74eb8974-1862-488b-8973-5bab9e162962",
   "metadata": {},
   "outputs": [],
   "source": [
    "conda install -c conda-forge r-reshape2"
   ]
  },
  {
   "cell_type": "code",
   "execution_count": null,
   "id": "f1d13f3b-fddc-448a-bcb0-6ddbaa7b83a8",
   "metadata": {},
   "outputs": [],
   "source": [
    "conda install -c conda-forge r-vegan"
   ]
  },
  {
   "cell_type": "code",
   "execution_count": null,
   "id": "81fa36e9-b528-44bf-bf5b-24e45c05e4d7",
   "metadata": {
    "tags": []
   },
   "outputs": [],
   "source": [
    "conda install -c conda-forge r-dplyr"
   ]
  },
  {
   "cell_type": "code",
   "execution_count": null,
   "id": "0ea07855-2c6f-4191-b302-985fff765b25",
   "metadata": {},
   "outputs": [],
   "source": [
    "conda install -c conda-forge r-rcolorbrewer"
   ]
  },
  {
   "cell_type": "code",
   "execution_count": null,
   "id": "01656ce1-35d3-4c4a-a9e9-8c9c2e26f57d",
   "metadata": {
    "tags": []
   },
   "outputs": [],
   "source": [
    "conda install -c conda-forge r-png"
   ]
  },
  {
   "cell_type": "code",
   "execution_count": 2,
   "id": "6f724bc5-94d8-41cf-aae3-5f935dd8e900",
   "metadata": {
    "tags": []
   },
   "outputs": [
    {
     "name": "stdout",
     "output_type": "stream",
     "text": [
      "Collecting package metadata (current_repodata.json): done\n",
      "Solving environment: done\n",
      "\n",
      "## Package Plan ##\n",
      "\n",
      "  environment location: /opt/conda\n",
      "\n",
      "  added / updated specs:\n",
      "    - r-repr\n",
      "\n",
      "\n",
      "The following packages will be downloaded:\n",
      "\n",
      "    package                    |            build\n",
      "    ---------------------------|-----------------\n",
      "    r-base64enc-0.1_3          | r40hcfec24a_1004          44 KB  conda-forge\n",
      "    r-fastmap-1.1.0            |    r40h03ef668_0          69 KB  conda-forge\n",
      "    r-htmltools-0.5.2          |    r40h03ef668_0         344 KB  conda-forge\n",
      "    r-repr-1.1.3               |    r40h785f33e_0         144 KB  conda-forge\n",
      "    ------------------------------------------------------------\n",
      "                                           Total:         601 KB\n",
      "\n",
      "The following NEW packages will be INSTALLED:\n",
      "\n",
      "  r-base64enc        conda-forge/linux-64::r-base64enc-0.1_3-r40hcfec24a_1004\n",
      "  r-fastmap          conda-forge/linux-64::r-fastmap-1.1.0-r40h03ef668_0\n",
      "  r-htmltools        conda-forge/linux-64::r-htmltools-0.5.2-r40h03ef668_0\n",
      "  r-repr             conda-forge/noarch::r-repr-1.1.3-r40h785f33e_0\n",
      "\n",
      "\n",
      "\n",
      "Downloading and Extracting Packages\n",
      "r-htmltools-0.5.2    | 344 KB    | ##################################### | 100% \n",
      "r-repr-1.1.3         | 144 KB    | ##################################### | 100% \n",
      "r-fastmap-1.1.0      | 69 KB     | ##################################### | 100% \n",
      "r-base64enc-0.1_3    | 44 KB     | ##################################### | 100% \n",
      "Preparing transaction: done\n",
      "Verifying transaction: done\n",
      "Executing transaction: done\n",
      "\n",
      "Note: you may need to restart the kernel to use updated packages.\n"
     ]
    }
   ],
   "source": [
    "conda install -c r r-repr"
   ]
  },
  {
   "cell_type": "code",
   "execution_count": 1,
   "id": "a32aed74-9700-4940-b90e-0a282c568909",
   "metadata": {},
   "outputs": [
    {
     "name": "stdout",
     "output_type": "stream",
     "text": [
      "Collecting package metadata (current_repodata.json): done\n",
      "Solving environment: done\n",
      "\n",
      "# All requested packages already installed.\n",
      "\n",
      "\n",
      "Note: you may need to restart the kernel to use updated packages.\n"
     ]
    }
   ],
   "source": [
    "conda install -c conda-forge r-data.table"
   ]
  },
  {
   "cell_type": "code",
   "execution_count": 1,
   "id": "7fadaaf6-e0f0-4ae5-b43f-3ac924773e66",
   "metadata": {},
   "outputs": [
    {
     "name": "stdout",
     "output_type": "stream",
     "text": [
      "Collecting package metadata (current_repodata.json): done\n",
      "Solving environment: done\n",
      "\n",
      "## Package Plan ##\n",
      "\n",
      "  environment location: /opt/conda\n",
      "\n",
      "  added / updated specs:\n",
      "    - r-treemapify\n",
      "\n",
      "\n",
      "The following packages will be downloaded:\n",
      "\n",
      "    package                    |            build\n",
      "    ---------------------------|-----------------\n",
      "    r-ggfittext-0.9.1          |    r40hc72bb7e_0         754 KB  conda-forge\n",
      "    r-shades-1.4.0             |    r40hc72bb7e_1          93 KB  conda-forge\n",
      "    r-treemapify-2.5.5         |    r40hc72bb7e_0         581 KB  conda-forge\n",
      "    ------------------------------------------------------------\n",
      "                                           Total:         1.4 MB\n",
      "\n",
      "The following NEW packages will be INSTALLED:\n",
      "\n",
      "  r-ggfittext        conda-forge/noarch::r-ggfittext-0.9.1-r40hc72bb7e_0\n",
      "  r-shades           conda-forge/noarch::r-shades-1.4.0-r40hc72bb7e_1\n",
      "  r-treemapify       conda-forge/noarch::r-treemapify-2.5.5-r40hc72bb7e_0\n",
      "\n",
      "\n",
      "\n",
      "Downloading and Extracting Packages\n",
      "r-ggfittext-0.9.1    | 754 KB    | ##################################### | 100% \n",
      "r-shades-1.4.0       | 93 KB     | ##################################### | 100% \n",
      "r-treemapify-2.5.5   | 581 KB    | ##################################### | 100% \n",
      "Preparing transaction: done\n",
      "Verifying transaction: done\n",
      "Executing transaction: done\n",
      "\n",
      "Note: you may need to restart the kernel to use updated packages.\n"
     ]
    }
   ],
   "source": [
    "conda install -c conda-forge r-treemapify"
   ]
  },
  {
   "cell_type": "code",
   "execution_count": 2,
   "id": "0b26ade6-29ae-43bc-9bf5-c7441f6ea0e1",
   "metadata": {},
   "outputs": [
    {
     "name": "stdout",
     "output_type": "stream",
     "text": [
      "Collecting package metadata (current_repodata.json): done\n",
      "Solving environment: done\n",
      "\n",
      "## Package Plan ##\n",
      "\n",
      "  environment location: /opt/conda\n",
      "\n",
      "  added / updated specs:\n",
      "    - r-ggrepel\n",
      "\n",
      "\n",
      "The following packages will be downloaded:\n",
      "\n",
      "    package                    |            build\n",
      "    ---------------------------|-----------------\n",
      "    r-ggrepel-0.9.1            |    r40h03ef668_0         429 KB  conda-forge\n",
      "    ------------------------------------------------------------\n",
      "                                           Total:         429 KB\n",
      "\n",
      "The following NEW packages will be INSTALLED:\n",
      "\n",
      "  r-ggrepel          conda-forge/linux-64::r-ggrepel-0.9.1-r40h03ef668_0\n",
      "\n",
      "\n",
      "\n",
      "Downloading and Extracting Packages\n",
      "r-ggrepel-0.9.1      | 429 KB    | ##################################### | 100% \n",
      "Preparing transaction: done\n",
      "Verifying transaction: done\n",
      "Executing transaction: done\n",
      "\n",
      "Note: you may need to restart the kernel to use updated packages.\n"
     ]
    }
   ],
   "source": [
    "conda install -c conda-forge r-ggrepel"
   ]
  }
 ],
 "metadata": {
  "environment": {
   "kernel": "conda-root-py",
   "name": "common-cpu.m86",
   "type": "gcloud",
   "uri": "gcr.io/deeplearning-platform-release/base-cpu:m86"
  },
  "kernelspec": {
   "display_name": "Python [conda env:root] *",
   "language": "python",
   "name": "conda-root-py"
  },
  "language_info": {
   "codemirror_mode": {
    "name": "ipython",
    "version": 3
   },
   "file_extension": ".py",
   "mimetype": "text/x-python",
   "name": "python",
   "nbconvert_exporter": "python",
   "pygments_lexer": "ipython3",
   "version": "3.7.12"
  }
 },
 "nbformat": 4,
 "nbformat_minor": 5
}
