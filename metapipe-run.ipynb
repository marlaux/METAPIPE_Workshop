{
 "cells": [
  {
   "cell_type": "code",
   "execution_count": null,
   "metadata": {},
   "outputs": [],
   "source": [
    "%ls"
   ]
  },
  {
   "cell_type": "code",
   "execution_count": null,
   "metadata": {},
   "outputs": [],
   "source": [
    "!chmod 777 -R *.sh *.py *.pl"
   ]
  },
  {
   "cell_type": "code",
   "execution_count": null,
   "metadata": {},
   "outputs": [],
   "source": [
    "%ls"
   ]
  },
  {
   "cell_type": "code",
   "execution_count": null,
   "metadata": {},
   "outputs": [],
   "source": [
    "!bash DB1_NCBI_download_refs.sh -h "
   ]
  },
  {
   "cell_type": "code",
   "execution_count": null,
   "metadata": {},
   "outputs": [],
   "source": [
    "%%bash\n",
    "./NCBI_download_refs.sh -n Streptophyta -t txid35493 -m trnL"
   ]
  },
  {
   "cell_type": "code",
   "execution_count": null,
   "metadata": {},
   "outputs": [],
   "source": [
    "%ls"
   ]
  },
  {
   "cell_type": "code",
   "execution_count": null,
   "metadata": {},
   "outputs": [],
   "source": [
    "!bash DB2_primers_cut.sh -h"
   ]
  },
  {
   "cell_type": "code",
   "execution_count": null,
   "metadata": {},
   "outputs": [],
   "source": [
    "%%bash\n",
    "./DB2_primers_cut.sh -r Streptophyta_trnL_NCBI.fasta -F GGGCAATCCTGAGCCAA -R CCATTGAGTCTCTGCACCTATC -p target_trnL"
   ]
  },
  {
   "cell_type": "code",
   "execution_count": null,
   "metadata": {},
   "outputs": [],
   "source": [
    "%ls -t | head"
   ]
  },
  {
   "cell_type": "code",
   "execution_count": null,
   "metadata": {},
   "outputs": [],
   "source": [
    "!head target_trnL_cutted_references.fasta"
   ]
  },
  {
   "cell_type": "code",
   "execution_count": null,
   "metadata": {},
   "outputs": [],
   "source": [
    "!grep -A 20 \"MT950540.1\" Streptophyta_trnL_NCBI.fasta"
   ]
  },
  {
   "cell_type": "code",
   "execution_count": null,
   "metadata": {},
   "outputs": [],
   "source": [
    "!bash DB3_NCBI_lineage.sh -h"
   ]
  },
  {
   "cell_type": "code",
   "execution_count": null,
   "metadata": {},
   "outputs": [],
   "source": [
    "%%bash\n",
    "./DB3_NCBI_lineage.sh -r target_trnL_cutted_references.fasta -p target_trnL"
   ]
  },
  {
   "cell_type": "code",
   "execution_count": null,
   "metadata": {},
   "outputs": [],
   "source": [
    "!tail target_trnL.log"
   ]
  },
  {
   "cell_type": "code",
   "execution_count": null,
   "metadata": {},
   "outputs": [],
   "source": [
    "!head target_trnL.uniq.fasta"
   ]
  },
  {
   "cell_type": "code",
   "execution_count": null,
   "metadata": {},
   "outputs": [],
   "source": [
    "%ls | head"
   ]
  },
  {
   "cell_type": "code",
   "execution_count": null,
   "metadata": {},
   "outputs": [],
   "source": [
    "!bash 1_merge_pear.sh -h"
   ]
  },
  {
   "cell_type": "code",
   "execution_count": 7,
   "metadata": {},
   "outputs": [
    {
     "name": "stdout",
     "output_type": "stream",
     "text": [
      " ____  _____    _    ____ \n",
      "|  _ \\| ____|  / \\  |  _ \\\n",
      "| |_) |  _|   / _ \\ | |_) |\n",
      "|  __/| |___ / ___ \\|  _ <\n",
      "|_|   |_____/_/   \\_\\_| \\_\\\n",
      "\n",
      "PEAR v0.9.6 [January 15, 2015]\n",
      "\n",
      "Citation - PEAR: a fast and accurate Illumina Paired-End reAd mergeR\n",
      "Zhang et al (2014) Bioinformatics 30(5): 614-620 | doi:10.1093/bioinformatics/btt593\n",
      "\n",
      "Forward reads file.................: trnL_S1_L001_R1_001.fastq\n",
      "Reverse reads file.................: trnL_S1_L001_R2_001.fastq\n",
      "PHRED..............................: 33\n",
      "Using empirical frequencies........: YES\n",
      "Statistical method.................: OES\n",
      "Maximum assembly length............: 999999\n",
      "Minimum assembly length............: 50\n",
      "p-value............................: 0.001000\n",
      "Quality score threshold (trimming).: 20\n",
      "Minimum read size after trimming...: 1\n",
      "Maximal ratio of uncalled bases....: 0.000000\n",
      "Minimum overlap....................: 20\n",
      "Scoring method.....................: Scaled score\n",
      "Threads............................: 4\n",
      "\n",
      "Allocating memory..................: 200,000,000 bytes\n",
      "Computing empirical frequencies....: DONE\n",
      "  A: 0.301781\n",
      "  C: 0.199410\n",
      "  G: 0.219749\n",
      "  T: 0.279060\n",
      "  0 uncalled bases\n",
      "Assemblying reads: 100%\n",
      "\n",
      "Assembled reads ...................: 3,765,532 / 3,790,018 (99.354%)\n",
      "Discarded reads ...................: 24,486 / 3,790,018 (0.646%)\n",
      "Not assembled reads ...............: 0 / 3,790,018 (0.000%)\n",
      "Assembled reads file...............: trnL.assembled.fastq\n",
      "Discarded reads file...............: trnL.discarded.fastq\n",
      "Unassembled forward reads file.....: trnL.unassembled.forward.fastq\n",
      "Unassembled reverse reads file.....: trnL.unassembled.reverse.fastq\n"
     ]
    }
   ],
   "source": [
    "%%bash\n",
    "./1_merge_pear.sh -f trnL_S1_L001_R1_001.fastq -r trnL_S1_L001_R2_001.fastq -o trnL -p 0.001 -s 20 -t 4"
   ]
  },
  {
   "cell_type": "code",
   "execution_count": 8,
   "metadata": {},
   "outputs": [
    {
     "name": "stdout",
     "output_type": "stream",
     "text": [
      "total 6585452\n",
      "-rw-r--r--  1 jupyter jupyter 1196781550 Dec  8 18:04 trnL.assembled.fastq\n",
      "-rw-r--r--  1 jupyter jupyter    4076508 Dec  8 18:04 trnL.discarded.fastq\n",
      "drwxr-xr-x  9 jupyter jupyter     106496 Dec  8 17:58 \u001b[0m\u001b[01;34m.\u001b[0m/\n",
      "-rwxrwxrwx  1 jupyter jupyter      15671 Dec  8 17:58 \u001b[01;32mmetapipe-run.ipynb\u001b[0m*\n",
      "-rw-r--r--  1 jupyter jupyter          0 Dec  8 17:56 trnL.unassembled.forward.fastq\n",
      "-rw-r--r--  1 jupyter jupyter          0 Dec  8 17:56 trnL.unassembled.reverse.fastq\n",
      "-rw-r--r--  1 jupyter jupyter       1653 Dec  8 17:55 Barcodes_LA1.fa\n",
      "-rw-r--r--  1 jupyter jupyter       1653 Dec  8 17:55 Barcodes_LA2.fa\n",
      "-rw-r--r--  1 jupyter jupyter       1653 Dec  8 17:55 Barcodes_LA3.fa\n"
     ]
    }
   ],
   "source": [
    "%ls -lat | head"
   ]
  },
  {
   "cell_type": "code",
   "execution_count": 9,
   "metadata": {},
   "outputs": [
    {
     "name": "stdout",
     "output_type": "stream",
     "text": [
      "@M02980:420:000000000-G84WN:1:1101:13782:1799 1:N:0:TTCTACAC+GCCAAGGT\n",
      "ATGTCCGACCAAGGGCAATCCTGAGCCAAATCCTGTTTTCCGAAAACAAACACAAAGATTCAGAAAGCAAGAATAAAAAAGGATAGGTGCAGAAACTCAATGGGCATATAGT\n",
      "+\n",
      "II?IIIIIIIIIII@IIIIIIIAI@IIIIIIIIIIIIIII?IIIIIIIIIIIIIIIIIIIIIIIIIIIIIIIIIIIIIIIIIIIIIIIIIIIIIIIIIIIIIIIIIIIIIBG\n",
      "@M02980:420:000000000-G84WN:1:1101:16730:1804 1:N:0:GTCTACAC+GCCAAGGT\n",
      "CCATCACATAGGCCATTGAGTCTCTGCACCTATCCTTTTTTATTCTCGGTTTATGAAACCCTTGTTTGTTTTAATAAAACAGGATTTGGCTCAGGATTGCCCTTGCCACTAG\n",
      "+\n",
      "III>BIIIIIIIIIIIIIIIIIIIICIIIIIIIIIIIIIIIIIIIIIIIIIIIIIIIIAAIIIIIIIIHHIHIIIIIIIIIIIIIIIAIIGFI@IIII@IIIIIIIIIIGIA\n",
      "@M02980:420:000000000-G84WN:1:1101:13325:1809 1:N:0:TTCTACAC+GCCAAGGT\n",
      "TGTCTCGCAAGCCCATTGAGTCTCTGCACCTATCCTTTTTTATTCTTGCTTTCTGAATCTTTGTGTTTGTTTTCGGAAAACAGGATTTGGCTCAGGATTGCCCAGCCCTAACTAT\n"
     ]
    }
   ],
   "source": [
    "!head trnL.assembled.fastq"
   ]
  },
  {
   "cell_type": "code",
   "execution_count": 10,
   "metadata": {},
   "outputs": [
    {
     "name": "stdout",
     "output_type": "stream",
     "text": [
      "Peoniasuffruticosa_a\tCCATCACATAGG\tTGCAGATCCAAC\n",
      "Peoniasuffruticosa_b\tGTGGTATGGGAG\tTGCAGATCCAAC\n",
      "Poriacocos_a\tATAGTTAGGGCT\tCCTAAACTACGG\n",
      "Poriacocos_b\tGCACTTCATTTC\tCCTAAACTACGG\n",
      "Prunuspersica_a\tATGTCCGACCAA\tTGCAGATCCAAC\n",
      "Prunuspersica_b\tATCTAGTGGCAA\tCCATCACATAGG\n",
      "Trogopterusxanthipes_a\tATAGTTAGGGCT\tTGTTGCGTTTCT\n",
      "Trogopterusxanthipes_b\tACTTTAAGGGTG\tCACCTTACCTTA\n",
      "Negative\tTGTTGCGTTTCT\tGAGACTATATGC\n",
      "NegativePCR\tATGTCCGACCAA\tGAGACTATATGC\n"
     ]
    }
   ],
   "source": [
    "!tail trnL_sub_tags.txt"
   ]
  },
  {
   "cell_type": "code",
   "execution_count": 11,
   "metadata": {},
   "outputs": [],
   "source": [
    "%%bash \n",
    "perl 2a_preparing_tags_LCPI.pl trnL_sub_tags.txt linked"
   ]
  },
  {
   "cell_type": "code",
   "execution_count": 12,
   "metadata": {},
   "outputs": [
    {
     "name": "stdout",
     "output_type": "stream",
     "text": [
      "total 6585452\n",
      "drwxr-xr-x  9 jupyter jupyter     106496 Dec  8 18:05 \u001b[0m\u001b[01;34m.\u001b[0m/\n",
      "-rw-r--r--  1 jupyter jupyter       1653 Dec  8 18:05 Barcodes_LA1.fa\n",
      "-rw-r--r--  1 jupyter jupyter       1653 Dec  8 18:05 Barcodes_LA2.fa\n",
      "-rw-r--r--  1 jupyter jupyter       1653 Dec  8 18:05 Barcodes_LA3.fa\n",
      "-rw-r--r--  1 jupyter jupyter 1196781550 Dec  8 18:04 trnL.assembled.fastq\n",
      "-rw-r--r--  1 jupyter jupyter    4076508 Dec  8 18:04 trnL.discarded.fastq\n",
      "-rwxrwxrwx  1 jupyter jupyter      15671 Dec  8 17:58 \u001b[01;32mmetapipe-run.ipynb\u001b[0m*\n",
      "-rw-r--r--  1 jupyter jupyter          0 Dec  8 17:56 trnL.unassembled.forward.fastq\n",
      "-rw-r--r--  1 jupyter jupyter          0 Dec  8 17:56 trnL.unassembled.reverse.fastq\n"
     ]
    }
   ],
   "source": [
    "%ls -lat | head"
   ]
  },
  {
   "cell_type": "code",
   "execution_count": 13,
   "metadata": {},
   "outputs": [
    {
     "name": "stdout",
     "output_type": "stream",
     "text": [
      ">Prunuspersica_b\n",
      "^ATCTAGTGGCAA...CCATCACATAGG$\n",
      ">Trogopterusxanthipes_a\n",
      "^ATAGTTAGGGCT...TGTTGCGTTTCT$\n",
      ">Trogopterusxanthipes_b\n",
      "^ACTTTAAGGGTG...CACCTTACCTTA$\n",
      ">Negative\n",
      "^TGTTGCGTTTCT...GAGACTATATGC$\n",
      ">NegativePCR\n",
      "^ATGTCCGACCAA...GAGACTATATGC$\n"
     ]
    }
   ],
   "source": [
    "!tail Barcodes_LA1.fa"
   ]
  },
  {
   "cell_type": "code",
   "execution_count": 26,
   "metadata": {},
   "outputs": [
    {
     "name": "stdout",
     "output_type": "stream",
     "text": [
      "./unknown_LA.fq\n"
     ]
    }
   ],
   "source": [
    "%%bash\n",
    "./2b_demulti_dual_index_linked.sh trnL_subsample.assembled.fastq"
   ]
  },
  {
   "cell_type": "code",
   "execution_count": 27,
   "metadata": {},
   "outputs": [
    {
     "name": "stdout",
     "output_type": "stream",
     "text": [
      "total 6782864\n",
      "drwxr-xr-x 10 jupyter jupyter     106496 Dec  8 19:54 \u001b[0m\u001b[01;34m.\u001b[0m/\n",
      "drwxr-xr-x  2 jupyter jupyter       4096 Dec  8 19:54 \u001b[01;34mdemulti_linked_samples\u001b[0m/\n",
      "-rwxrwxrwx  1 jupyter jupyter      23765 Dec  8 19:53 \u001b[01;32mmetapipe-run.ipynb\u001b[0m*\n",
      "-rw-r--r--  1 jupyter jupyter  202130197 Dec  8 19:51 trnL_subsample.assembled.fastq\n",
      "-rw-r--r--  1 jupyter jupyter       1959 Dec  8 19:47 demulti_count_trnL.txt\n",
      "-rw-r--r--  1 jupyter jupyter       1653 Dec  8 18:05 Barcodes_LA1.fa\n",
      "-rw-r--r--  1 jupyter jupyter       1653 Dec  8 18:05 Barcodes_LA2.fa\n",
      "-rw-r--r--  1 jupyter jupyter       1653 Dec  8 18:05 Barcodes_LA3.fa\n",
      "-rw-r--r--  1 jupyter jupyter 1196781550 Dec  8 18:04 trnL.assembled.fastq\n"
     ]
    }
   ],
   "source": [
    "%ls -lat | head"
   ]
  },
  {
   "cell_type": "code",
   "execution_count": 28,
   "metadata": {},
   "outputs": [
    {
     "name": "stdout",
     "output_type": "stream",
     "text": [
      "Angelicaesinensis_a_LA.fq\n",
      "Angelicaesinensis_b_LA.fq\n",
      "Carthamustinctorius_a_LA.fq\n",
      "Carthamustinctorius_b_LA.fq\n",
      "Citrusaurantium_a_LA.fq\n",
      "Citrusaurantium_b_LA.fq\n",
      "Cyperusrotundus_a_LA.fq\n",
      "Cyperusrotundus_b_LA.fq\n",
      "GXZYT_a_LA.fq\n",
      "GXZYT_b_LA.fq\n"
     ]
    }
   ],
   "source": [
    "%ls demulti_linked_samples/ | head"
   ]
  },
  {
   "cell_type": "code",
   "execution_count": 29,
   "metadata": {},
   "outputs": [
    {
     "name": "stdout",
     "output_type": "stream",
     "text": [
      "@M02980:420:000000000-G84WN:1:1101:14746:1924 1:N:0:GTCTACAC+GCCAAGGT\n",
      "caccttaccttaCCATTGAGTCTCTGCACCTATCCCCTTCCTATCTTAGGAGAAGAAACATTGTCTTCATGAACCGGATTTGGCTCAGGATTGCCCcctatgtgatgg\n",
      "+\n",
      "IHIIIIIIIIIIIIIIIIIIIIIIIIIIIIIIIIIIIIIIIIIIIIIIIIIIIIIIIIIIIIIIIIIIIIIIIIIIIIIIIIIIIIIIIIIIIIIIIIIIIIIIIIII\n",
      "@M02980:420:000000000-G84WN:1:1101:13409:1962 1:N:0:GTCTACAC+GCCAAGGT\n",
      "caccttaccttaGGGCAATCCTGAGCCAAATCCTATTTTCCAAAAACAAACAAAGGCCCAGAAGGTGAAAAAAGGATAGGTGCAGAGACTCAATGGcctatgtgatgg\n",
      "+\n",
      "IIIIIIIIIIIIIIIIIIIIIIIIIIIIIIIIIIIIIIIIIIIIIIIIIIIIIIIIIIIIIIIIIIIIIIIIIIIIIIIIIIIIIIIIIIIIIIIIIIIIIIIIIIII\n",
      "@M02980:420:000000000-G84WN:1:1101:16331:1965 1:N:0:GTCTACAC+GCCAAGGT\n",
      "caccttaccttaGGGCAATCCTGAGCCAAATCCTATTTTCCAAAAACAAACAAAGGCCCAGAAGGTGAAAAAAGGATAGGTGCAGAGACTCAATGGcctatgtgatgg\n"
     ]
    }
   ],
   "source": [
    "!head demulti_linked_samples/Angelicaesinensis_a_LA.fq"
   ]
  },
  {
   "cell_type": "code",
   "execution_count": 30,
   "metadata": {},
   "outputs": [],
   "source": [
    "%%bash\n",
    "./count_fastq_sequences.sh demulti_linked_samples/*.fq > demulti_count_trnL.txt"
   ]
  },
  {
   "cell_type": "code",
   "execution_count": 32,
   "metadata": {},
   "outputs": [
    {
     "name": "stdout",
     "output_type": "stream",
     "text": [
      "\tdemulti_linked_samples/Angelicaesinensis_a_LA.fq : 22,358\n",
      "\tdemulti_linked_samples/Angelicaesinensis_b_LA.fq : 31,246\n",
      "\tdemulti_linked_samples/Carthamustinctorius_a_LA.fq : 29,172\n",
      "\tdemulti_linked_samples/Carthamustinctorius_b_LA.fq : 11,424\n",
      "\tdemulti_linked_samples/Citrusaurantium_a_LA.fq : 2,876\n",
      "\tdemulti_linked_samples/Citrusaurantium_b_LA.fq : 56,024\n",
      "\tdemulti_linked_samples/Cyperusrotundus_a_LA.fq : 32,552\n",
      "\tdemulti_linked_samples/Cyperusrotundus_b_LA.fq : 2,299\n",
      "\tdemulti_linked_samples/GXZYT_a_LA.fq : 37,335\n",
      "\tdemulti_linked_samples/GXZYT_b_LA.fq : 2,810\n"
     ]
    }
   ],
   "source": [
    "!head demulti_count_trnL.txt"
   ]
  },
  {
   "cell_type": "code",
   "execution_count": 33,
   "metadata": {},
   "outputs": [
    {
     "name": "stdout",
     "output_type": "stream",
     "text": [
      "##################################################\n",
      "TAGS AND PRIMERS CLIPPING\n",
      "##################################################\n",
      "get your primer's reverse complement in this website:\n",
      "http://arep.med.harvard.edu/labgc/adnan/projects/Utilities/revcomp.html\n",
      " \n",
      "Usage: 3_tag_primer_clipping_clean_derep.sh [-b tags file] [-F primer forwad] [-R primer reverse] [-f primer forward] [-r primer reverse] [-p prefix] [-l amplicon min length] [-d path to samples]\n",
      "-b     original barcodes/tags file\n",
      "-F     primer forward\n",
      "-R     primer reverse\n",
      "-f     reverse complement primer forward\n",
      "-r     everse complement primer reverse\n",
      "-p     prefix to quality file\n",
      "-l     minimum length for clipped amplicon\n",
      "-d     path to demultiplexed samples directory. Use pwd.\n",
      "-h     print this help\n",
      " \n",
      "##################################################\n"
     ]
    }
   ],
   "source": [
    "!bash 3_tag_primer_clipping_clean_derep.sh -h"
   ]
  },
  {
   "cell_type": "code",
   "execution_count": 36,
   "metadata": {},
   "outputs": [
    {
     "name": "stderr",
     "output_type": "stream",
     "text": [
      "minseqlength 32: 12 sequences discarded.\n",
      "minseqlength 32: 2 sequences discarded.\n",
      "minseqlength 32: 2 sequences discarded.\n",
      "mkdir: cannot create directory ‘dereplicated’: File exists\n"
     ]
    }
   ],
   "source": [
    "%%bash\n",
    "./3_tag_primer_clipping_clean_derep.sh -b trnL_sub_tags.txt -F GGGCAATCCTGAGCCAA -R CCATTGAGTCTCTGCACCTATC \\\n",
    "-f TTGGCTCAGGATTGCCC -r GATAGGTGCAGAGACTCAATGG -p trnL_sub -l 30 -d /home/jupyter/METAPIPE-Notebooks/demulti_linked_samples"
   ]
  },
  {
   "cell_type": "code",
   "execution_count": 37,
   "metadata": {},
   "outputs": [
    {
     "name": "stdout",
     "output_type": "stream",
     "text": [
      "total 3923496\n",
      "drwxr-xr-x  8 jupyter jupyter       4096 Dec  8 20:03 \u001b[0m\u001b[01;34m.git\u001b[0m/\n",
      "drwxr-xr-x  9 jupyter jupyter     106496 Dec  8 20:03 \u001b[01;34m.\u001b[0m/\n",
      "-rwxrwxrwx  1 jupyter jupyter      24252 Dec  8 20:03 \u001b[01;32mmetapipe-run.ipynb\u001b[0m*\n",
      "drwxr-xr-x  2 jupyter jupyter       4096 Dec  8 20:02 \u001b[01;34mdereplicated\u001b[0m/\n",
      "-rw-r--r--  1 jupyter jupyter    1297650 Dec  8 20:02 trnL_sub.qual\n",
      "drwxr-xr-x  5 jupyter jupyter       4096 Dec  8 20:02 \u001b[01;34mclip_out\u001b[0m/\n",
      "-rw-r--r--  1 jupyter jupyter       1909 Dec  8 19:55 demulti_count_trnL.txt\n",
      "drwxr-xr-x  2 jupyter jupyter       4096 Dec  8 19:54 \u001b[01;34mdemulti_linked_samples\u001b[0m/\n",
      "-rw-r--r--  1 jupyter jupyter  202130197 Dec  8 19:51 trnL_subsample.assembled.fastq\n"
     ]
    }
   ],
   "source": [
    "%ls -lat | head"
   ]
  },
  {
   "cell_type": "code",
   "execution_count": 38,
   "metadata": {},
   "outputs": [
    {
     "name": "stdout",
     "output_type": "stream",
     "text": [
      "Angelicaesinensis_a_trim1.fq\n",
      "Angelicaesinensis_b_trim1.fq\n",
      "Carthamustinctorius_a_trim1.fq\n",
      "Carthamustinctorius_b_trim1.fq\n",
      "Citrusaurantium_a_trim1.fq\n",
      "Citrusaurantium_b_trim1.fq\n",
      "Cyperusrotundus_a_trim1.fq\n",
      "Cyperusrotundus_b_trim1.fq\n",
      "GXZYT_a_trim1.fq\n",
      "GXZYT_b_trim1.fq\n"
     ]
    }
   ],
   "source": [
    "%ls clip_out/adapter_clip | head"
   ]
  },
  {
   "cell_type": "code",
   "execution_count": 41,
   "metadata": {},
   "outputs": [
    {
     "name": "stdout",
     "output_type": "stream",
     "text": [
      "@M02980:420:000000000-G84WN:1:1101:14746:1924 1:N:0:GTCTACAC+GCCAAGGT\n",
      "CCATTGAGTCTCTGCACCTATCCCCTTCCTATCTTAGGAGAAGAAACATTGTCTTCATGAACCGGATTTGGCTCAGGATTGCCC\n"
     ]
    }
   ],
   "source": [
    "!head -2 clip_out/adapter_clip/Angelicaesinensis_a_trim1.fq"
   ]
  },
  {
   "cell_type": "code",
   "execution_count": 42,
   "metadata": {},
   "outputs": [
    {
     "name": "stdout",
     "output_type": "stream",
     "text": [
      "Angelicaesinensis_a_trim2.fq\n",
      "Angelicaesinensis_b_trim2.fq\n",
      "Carthamustinctorius_a_trim2.fq\n",
      "Carthamustinctorius_b_trim2.fq\n",
      "Citrusaurantium_a_trim2.fq\n",
      "Citrusaurantium_b_trim2.fq\n",
      "Cyperusrotundus_a_trim2.fq\n",
      "Cyperusrotundus_b_trim2.fq\n",
      "GXZYT_a_trim2.fq\n",
      "GXZYT_b_trim2.fq\n"
     ]
    }
   ],
   "source": [
    "%ls clip_out/primer_clip | head"
   ]
  },
  {
   "cell_type": "code",
   "execution_count": 43,
   "metadata": {},
   "outputs": [
    {
     "name": "stdout",
     "output_type": "stream",
     "text": [
      "@M02980:420:000000000-G84WN:1:1101:14746:1924 1:N:0:GTCTACAC+GCCAAGGT\n",
      "CCCTTCCTATCTTAGGAGAAGAAACATTGTCTTCATGAACCGGAT\n"
     ]
    }
   ],
   "source": [
    "!head -2 clip_out/primer_clip/Angelicaesinensis_a_trim2.fq"
   ]
  },
  {
   "cell_type": "code",
   "execution_count": 44,
   "metadata": {},
   "outputs": [
    {
     "name": "stdout",
     "output_type": "stream",
     "text": [
      "@M02980:420:000000000-G84WN:1:1101:14746:1924 1:N:0:GTCTACAC+GCCAAGGT\n",
      "caccttaccttaCCATTGAGTCTCTGCACCTATCCCCTTCCTATCTTAGGAGAAGAAACATTGTCTTCATGAACCGGATTTGGCTCAGGATTGCCCcctatgtgatgg\n"
     ]
    }
   ],
   "source": [
    "!grep -A 1 \"@M02980:420:000000000-G84WN:1:1101:14746:1924 1:N:0:GTCTACAC+GCCAAGGT\" trnL_subsample.assembled.fastq"
   ]
  },
  {
   "cell_type": "markdown",
   "metadata": {},
   "source": [
    "<p>We can see here the tags in lowercase.&nbsp;</p>\n",
    "<p>As you can see in the mapping file, the 5&apos; tag is in forward direction <strong>caccttacctta</strong>, and the 3&apos; tag is the reverse complement of the reverse tag <strong>cctatgtgatgg&nbsp;</strong>(prom R2 pair-end read), configuring the tags orientation found in the <strong>Barcodes_LA3.fa</strong> file, which is the most common tag orientation in <strong>merged Illumina paired-end reads</strong>.</p>\n",
    "<p>Right after the tags in lowercase, we can see the the <strong>3&apos; primer in forward direction</strong> CCATTGAGTCTCTGCACCTATC, the <strong>amplicon </strong>and the <strong>5&apos; primer in reverse direction</strong>.</p>"
   ]
  },
  {
   "cell_type": "code",
   "execution_count": 45,
   "metadata": {},
   "outputs": [
    {
     "name": "stdout",
     "output_type": "stream",
     "text": [
      "Angelicaesinensis_a\tCACCTTACCTTA\tCCATCACATAGG\n",
      "Angelicaesinensis_b\tACTTTAAGGGTG\tCCATCACATAGG\n",
      "Carthamustinctorius_a\tACTTTAAGGGTG\tGAGCAACATCCT\n",
      "Carthamustinctorius_b\tTGTTGCGTTTCT\tGAGCAACATCCT\n",
      "Citrusaurantium_a\tGAGACTATATGC\tGAGCAACATCCT\n",
      "Citrusaurantium_b\tATCTAGTGGCAA\tTGTTGCGTTTCT\n",
      "Cyperusrotundus_a\tATAGTTAGGGCT\tACTTTAAGGGTG\n",
      "Cyperusrotundus_b\tGAGACTATATGC\tACTTTAAGGGTG\n",
      "Glycyrrhizauralensis_a\tCCAGGGACTTCT\tACTTTAAGGGTG\n",
      "Glycyrrhizauralensis_b\tACTTTAAGGGTG\tGAGACTATATGC\n"
     ]
    }
   ],
   "source": [
    "!head trnL_sub_tags.txt"
   ]
  },
  {
   "cell_type": "code",
   "execution_count": 46,
   "metadata": {},
   "outputs": [
    {
     "name": "stdout",
     "output_type": "stream",
     "text": [
      "Angelicaesinensis_a_trim3.fq\n",
      "Angelicaesinensis_b_trim3.fq\n",
      "Carthamustinctorius_a_trim3.fq\n",
      "Carthamustinctorius_b_trim3.fq\n",
      "Citrusaurantium_a_trim3.fq\n",
      "Citrusaurantium_b_trim3.fq\n",
      "Cyperusrotundus_a_trim3.fq\n",
      "Cyperusrotundus_b_trim3.fq\n",
      "GXZYT_a_trim3.fq\n",
      "GXZYT_b_trim3.fq\n"
     ]
    }
   ],
   "source": [
    "%ls clip_out/trimming | head"
   ]
  },
  {
   "cell_type": "code",
   "execution_count": 47,
   "metadata": {},
   "outputs": [
    {
     "name": "stdout",
     "output_type": "stream",
     "text": [
      "@908d158348fa9fcf1092d4d9f453719cff87c519;ee=0.0045\n",
      "CCCTTCCTATCTTAGGAGAAGAAACATTGTCTTCATGAACCGGAT\n"
     ]
    }
   ],
   "source": [
    "!head -2 clip_out/trimming/Angelicaesinensis_a_trim3.fq"
   ]
  },
  {
   "cell_type": "code",
   "execution_count": 48,
   "metadata": {},
   "outputs": [
    {
     "name": "stdout",
     "output_type": "stream",
     "text": [
      "Angelicaesinensis_a_dp.fasta\n",
      "Angelicaesinensis_b_dp.fasta\n",
      "Carthamustinctorius_a_dp.fasta\n",
      "Carthamustinctorius_b_dp.fasta\n",
      "Citrusaurantium_a_dp.fasta\n",
      "Citrusaurantium_b_dp.fasta\n",
      "Cyperusrotundus_a_dp.fasta\n",
      "Cyperusrotundus_b_dp.fasta\n",
      "GXZYT_a_dp.fasta\n",
      "GXZYT_b_dp.fasta\n"
     ]
    }
   ],
   "source": [
    "%ls dereplicated | head"
   ]
  },
  {
   "cell_type": "code",
   "execution_count": 49,
   "metadata": {},
   "outputs": [
    {
     "name": "stdout",
     "output_type": "stream",
     "text": [
      ">addff39eca064dd9caa294721e6a23cab9c331ab;size=11061\n",
      "ATCCTATTTTCCAAAAACAAACAAAGGCCCAGAAGGTGAAAAAAG\n"
     ]
    }
   ],
   "source": [
    "!head -2 dereplicated/Angelicaesinensis_a_dp.fasta"
   ]
  },
  {
   "cell_type": "code",
   "execution_count": 52,
   "metadata": {},
   "outputs": [
    {
     "name": "stdout",
     "output_type": "stream",
     "text": [
      "81113ed4b6436575ac7a53723e4b76ca5e4aab73\t0.0030\t30\n",
      "90008a380e5c101173ae114dd518dc14041e6eff\t0.0031\t31\n",
      "c32221ff8256031b77747a5c4bb7814d5d981ca5\t0.0031\t31\n",
      "e9cec6dc24b78ebea5681e388bb1eeeaa56bd805\t0.0031\t31\n",
      "ee1b8a77443ba3fdba9903c5ba69beb30799261b\t0.0031\t31\n",
      "054b039ba461a4c6159a15ac2e9777d94e7950b6\t0.0032\t32\n",
      "09931875b1c188b228554aafc57231a139dda046\t0.0032\t32\n",
      "0c0e27fbec42cd7913536ca330a09777b946878a\t0.0359\t32\n",
      "10be97dc5e36afd3f69fb01653755f1dad6c1a3a\t0.0032\t32\n",
      "1284bdb3a0f40e0da2696202659ef34a3647f0d5\t0.0032\t32\n"
     ]
    }
   ],
   "source": [
    "!head trnL_sub.qual"
   ]
  },
  {
   "cell_type": "code",
   "execution_count": 51,
   "metadata": {},
   "outputs": [
    {
     "name": "stderr",
     "output_type": "stream",
     "text": [
      "vsearch v2.18.0_linux_x86_64, 14.7GB RAM, 4 cores\n",
      "https://github.com/torognes/vsearch\n",
      "\n",
      "Dereplicating file ./tmp.nR0aPSmsoh 100%\n",
      "2042036 nt in 34521 seqs, min 32, max 218, avg 59\n",
      "Sorting 100%\n",
      "25373 unique sequences, avg cluster 25.4, median 1, max 44856\n",
      "Writing output file 100%\n",
      "Swarm 3.0.0\n",
      "Copyright (C) 2012-2019 Torbjorn Rognes and Frederic Mahe\n",
      "https://github.com/torognes/swarm\n",
      "\n",
      "Mahe F, Rognes T, Quince C, de Vargas C, Dunthorn M (2014)\n",
      "Swarm: robust and fast clustering method for amplicon-based studies\n",
      "PeerJ 2:e593 https://doi.org/10.7717/peerj.593\n",
      "\n",
      "Mahe F, Rognes T, Quince C, de Vargas C, Dunthorn M (2015)\n",
      "Swarm v2: highly-scalable and high-resolution amplicon clustering\n",
      "PeerJ 3:e1420 https://doi.org/10.7717/peerj.1420\n",
      "\n",
      "CPU features:      mmx sse sse2 sse3 ssse3 sse4.1 sse4.2 popcnt avx avx2\n",
      "Database file:     -\n",
      "Output file:       trnL_cluster_tmp.swarms\n",
      "Statistics file:   trnL_cluster_tmp.stats\n",
      "Resolution (d):    1\n",
      "Threads:           8\n",
      "Break OTUs:        Yes\n",
      "Fastidious:        Yes, with boundary 3\n",
      "\n",
      "Reading sequences: 100%  \n",
      "Indexing database: 100%  \n",
      "Database info:     1515173 nt in 25373 sequences, longest 218 nt\n",
      "Hashing sequences: 100%  \n",
      "Building network:  100%  \n",
      "Clustering:        100%  \n",
      "\n",
      "Results before fastidious processing:\n",
      "Number of swarms:  5887\n",
      "Largest swarm:     2518\n",
      "\n",
      "Counting amplicons in heavy and light swarms 100%  \n",
      "Heavy swarms: 396, with 19823 amplicons\n",
      "Light swarms: 5491, with 5550 amplicons\n",
      "Total length of amplicons in light swarms: 339979\n",
      "Bloom filter: bits=16, m=38077648, k=6, size=4.5MB\n",
      "Adding light swarm amplicons to Bloom filter 100%  \n",
      "Generated 2269051 variants from light swarms\n",
      "Checking heavy swarm amplicons against Bloom filter 100%  \n",
      "Heavy variants: 7808832\n",
      "Got 13228 graft candidates\n",
      "Grafting light swarms on heavy swarms 100%  \n",
      "Made 2079 grafts\n",
      "\n",
      "Writing swarms:    100%  \n",
      "Writing seeds:     100%  \n",
      "Writing stats:     100%  \n",
      "\n",
      "Number of swarms:  3808\n",
      "Largest swarm:     2684\n",
      "Max generations:   8\n",
      "vsearch v2.18.0_linux_x86_64, 14.7GB RAM, 4 cores\n",
      "https://github.com/torognes/vsearch\n",
      "\n",
      "Reading file ./tmp.RT2UO6zZDH 100%\n",
      "238522 nt in 3808 seqs, min 32, max 218, avg 63\n",
      "Getting sizes 100%\n",
      "Sorting 100%\n",
      "Median abundance: 1\n",
      "Writing output 100%\n",
      "vsearch v2.18.0_linux_x86_64, 14.7GB RAM, 4 cores\n",
      "https://github.com/torognes/vsearch\n",
      "\n",
      "Reading file trnL_cluster_representatives_tmp.fas 100%\n",
      "238522 nt in 3808 seqs, min 32, max 218, avg 63\n",
      "Masking 100%\n",
      "Sorting by abundance 100%\n",
      "Counting k-mers 100%\n",
      "Detecting chimeras 100%\n",
      "Found 27 (0.7%) chimeras, 3780 (99.3%) non-chimeras,\n",
      "and 1 (0.0%) borderline sequences in 3808 unique sequences.\n",
      "Taking abundance information into account, this corresponds to\n",
      "34 (0.0%) chimeras, 643376 (100.0%) non-chimeras,\n",
      "and 1 (0.0%) borderline sequences in 643411 total sequences.\n",
      "vsearch v2.18.0_linux_x86_64, 14.7GB RAM, 4 cores\n",
      "https://github.com/torognes/vsearch\n",
      "\n",
      "Reading file ./tmp.EafxkAyvoq 100%\n",
      "236540 nt in 3780 seqs, min 32, max 218, avg 63\n",
      "Getting sizes 100%\n",
      "Sorting 100%\n",
      "Median abundance: 1\n",
      "Writing output 100%\n"
     ]
    }
   ],
   "source": [
    "%%bash\n",
    "./4_clustering_swarm_with_chim_filter.sh trnL /home/jupyter/METAPIPE-Notebooks/dereplicated"
   ]
  },
  {
   "cell_type": "code",
   "execution_count": null,
   "metadata": {},
   "outputs": [],
   "source": []
  },
  {
   "cell_type": "code",
   "execution_count": 53,
   "metadata": {},
   "outputs": [
    {
     "name": "stdout",
     "output_type": "stream",
     "text": [
      "total 3928880\n",
      "drwxr-xr-x 10 jupyter jupyter     106496 Dec  8 20:32 \u001b[0m\u001b[01;34m.\u001b[0m/\n",
      "drwxr-xr-x  2 jupyter jupyter       4096 Dec  8 20:32 \u001b[01;34mchimera_out\u001b[0m/\n",
      "-rw-r--r--  1 jupyter jupyter     435371 Dec  8 20:32 trnL_cluster_representatives.uchime\n",
      "-rw-r--r--  1 jupyter jupyter    1220308 Dec  8 20:32 trnL_cluster.swarms\n",
      "-rw-r--r--  1 jupyter jupyter     202860 Dec  8 20:32 trnL_cluster.stats\n",
      "-rw-r--r--  1 jupyter jupyter     410257 Dec  8 20:32 trnL_cluster_representatives2blast.fas\n",
      "-rw-r--r--  1 jupyter jupyter     433105 Dec  8 20:32 trnL_cluster_representatives.fas\n",
      "-rw-r--r--  1 jupyter jupyter    2786227 Dec  8 20:32 trnL_global_dp.fas\n",
      "drwxr-xr-x  8 jupyter jupyter       4096 Dec  8 20:31 \u001b[01;34m.git\u001b[0m/\n"
     ]
    }
   ],
   "source": [
    "%ls -lat | head"
   ]
  },
  {
   "cell_type": "code",
   "execution_count": 54,
   "metadata": {},
   "outputs": [
    {
     "name": "stdout",
     "output_type": "stream",
     "text": [
      ">a84c749701d67d1226018c6714b72e543a618f16;size=64940;\n",
      "CTTTTTTTATATAAAAAAAAATTTTATAATATAATAAAAAATTTAGAATAATAATATTCTATATATATTATATATTTTTTTATATTTTTTCAAAATAATGAT\n",
      ">ac90db76fbae68003ec939d36b9847a46cbfa3c7;size=51129;\n",
      "ATCCTCTTCTCTTTTCCAAGAACAAACAGGGGTTCAGAAAGCGAAAAAGGGG\n"
     ]
    }
   ],
   "source": [
    "!head -4 trnL_cluster_representatives.fas"
   ]
  },
  {
   "cell_type": "code",
   "execution_count": 55,
   "metadata": {},
   "outputs": [
    {
     "name": "stdout",
     "output_type": "stream",
     "text": [
      ">a84c749701d67d1226018c6714b72e543a618f16_64940\n",
      "CTTTTTTTATATAAAAAAAAATTTTATAATATAATAAAAAATTTAGAATAATAATATTCTATATATATTATATATTTTTTTATATTTTTTCAAAATAATGAT\n",
      ">ac90db76fbae68003ec939d36b9847a46cbfa3c7_51129\n",
      "ATCCTCTTCTCTTTTCCAAGAACAAACAGGGGTTCAGAAAGCGAAAAAGGGG\n"
     ]
    }
   ],
   "source": [
    "!head -4 trnL_cluster_representatives2blast.fas"
   ]
  },
  {
   "cell_type": "code",
   "execution_count": 56,
   "metadata": {},
   "outputs": [
    {
     "name": "stdout",
     "output_type": "stream",
     "text": [
      "2684\t64940\ta84c749701d67d1226018c6714b72e543a618f16\t44856\t1949\t8\t8\n",
      "989\t51129\tac90db76fbae68003ec939d36b9847a46cbfa3c7\t43740\t730\t5\t5\n",
      "865\t43673\t2987db85c9fae5a1464f814e070b7507621e8a57\t36626\t635\t4\t4\n",
      "767\t37670\ta069993ab97b3f720cf66567bfb1fad838b20dc6\t32359\t553\t5\t5\n"
     ]
    }
   ],
   "source": [
    "!head -4 trnL_cluster.stats"
   ]
  },
  {
   "cell_type": "code",
   "execution_count": 57,
   "metadata": {},
   "outputs": [
    {
     "name": "stdout",
     "output_type": "stream",
     "text": [
      "0.0000\ta84c749701d67d1226018c6714b72e543a618f16;size=64940;\t*\t*\t*\t*\t*\t*\t*\t*\t0\t0\t0\t0\t0\t0\t*\tN\n",
      "0.0000\tac90db76fbae68003ec939d36b9847a46cbfa3c7;size=51129;\t*\t*\t*\t*\t*\t*\t*\t*\t0\t0\t0\t0\t0\t0\t*\tN\n",
      "0.0000\t2987db85c9fae5a1464f814e070b7507621e8a57;size=43673;\t*\t*\t*\t*\t*\t*\t*\t*\t0\t0\t0\t0\t0\t0\t*\tN\n",
      "0.0000\taddff39eca064dd9caa294721e6a23cab9c331ab;size=41429;\t*\t*\t*\t*\t*\t*\t*\t*\t0\t0\t0\t0\t0\t0\t*\tN\n"
     ]
    }
   ],
   "source": [
    "!head -4 trnL_cluster_representatives.uchime"
   ]
  },
  {
   "cell_type": "code",
   "execution_count": 58,
   "metadata": {},
   "outputs": [
    {
     "name": "stdout",
     "output_type": "stream",
     "text": [
      "##################################################\n",
      "BLAST alignment against custom or NCBI NT local database.\n",
      " \n",
      "Usage: 5_BLAST_options.sh [-f fasta] [-d database] [-s float] [-c float] [-t treads] [-o output]\n",
      "-f     representative OTUs multifasta from clustering step\n",
      "-d     database to align against: 'NT' or 'My_refs.uniq.fasta'\n",
      "-s     minimum similarity between query and subject, float 0-1\n",
      "-c     minimum subject coverage reached by the query alignment, float 0-1\n",
      "-t     number of threads:\n",
      "           custom database: 2 threads for each 1000 seqs.\n",
      "           NCBI NT database: 4 threads for each 1000 seqs.\n",
      "-o     output name: 'name'_local_blast.tab\n",
      "-h     print this help\n",
      " \n",
      "##################################################\n"
     ]
    }
   ],
   "source": [
    "!bash 5_BLAST_options.sh -h"
   ]
  },
  {
   "cell_type": "code",
   "execution_count": 59,
   "metadata": {},
   "outputs": [
    {
     "name": "stdout",
     "output_type": "stream",
     "text": [
      "\n",
      "\n",
      "Building a new DB, current time: 12/08/2021 20:34:50\n",
      "New DB name:   /home/jupyter/METAPIPE-Notebooks/target_trnL.uniq.fasta\n",
      "New DB title:  target_trnL.uniq.fasta\n",
      "Sequence type: Nucleotide\n",
      "Keep MBits: T\n",
      "Maximum file size: 1000000000B\n",
      "Adding sequences from FASTA; added 15359 sequences in 0.618003 seconds.\n",
      "\n",
      "\n"
     ]
    },
    {
     "name": "stderr",
     "output_type": "stream",
     "text": [
      "./5_BLAST_options.sh: 59: [: target_trnL.uniq.fasta: unexpected operator\n",
      "./5_BLAST_options.sh: 59: [: target_trnL.uniq.fasta: unexpected operator\n",
      "Warning: [blastn] Examining 5 or more matches is recommended\n"
     ]
    }
   ],
   "source": [
    "%%bash\n",
    "./5_BLAST_options.sh -f trnL_cluster_representatives2blast.fas -d target_trnL.uniq.fasta -s 0.95 -c 0.5 -t 4 -o target95_trnL"
   ]
  },
  {
   "cell_type": "code",
   "execution_count": null,
   "metadata": {},
   "outputs": [],
   "source": [
    "!update_blastdb.pl --decompress nr"
   ]
  },
  {
   "cell_type": "code",
   "execution_count": 60,
   "metadata": {},
   "outputs": [
    {
     "name": "stdout",
     "output_type": "stream",
     "text": [
      "total 3935556\n",
      "drwxr-xr-x 10 jupyter jupyter     106496 Dec  8 20:34 \u001b[0m\u001b[01;34m.\u001b[0m/\n",
      "-rw-r--r--  1 jupyter jupyter      99741 Dec  8 20:34 target95_trnL_OTU_tax_assignments.txt\n",
      "-rw-r--r--  1 jupyter jupyter     118761 Dec  8 20:34 Blast_results_formatted2OTUtable.tab\n",
      "-rw-r--r--  1 jupyter jupyter     121934 Dec  8 20:34 target95_trnL_local_blast.tab\n",
      "-rw-r--r--  1 jupyter jupyter     749568 Dec  8 20:34 target_trnL.uniq.fasta.ndb\n",
      "-rw-r--r--  1 jupyter jupyter     291829 Dec  8 20:34 target_trnL.uniq.fasta.nos\n",
      "-rw-r--r--  1 jupyter jupyter      16384 Dec  8 20:34 target_trnL.uniq.fasta.ntf\n",
      "-rw-r--r--  1 jupyter jupyter      61440 Dec  8 20:34 target_trnL.uniq.fasta.nto\n",
      "-rw-r--r--  1 jupyter jupyter     184316 Dec  8 20:34 target_trnL.uniq.fasta.not\n"
     ]
    }
   ],
   "source": [
    "%ls -lat | head"
   ]
  },
  {
   "cell_type": "code",
   "execution_count": 61,
   "metadata": {},
   "outputs": [
    {
     "name": "stdout",
     "output_type": "stream",
     "text": [
      "ac90db76fbae68003ec939d36b9847a46cbfa3c7_51129\t100.000\tEukaryota|Streptophyta|Magnoliopsida|Sapindales|Rutaceae|Citrus|Citrus+micrantha\tgb|KY656130.1|\tN/A\n",
      "2987db85c9fae5a1464f814e070b7507621e8a57_43673\t100.000\tEukaryota|Streptophyta|Magnoliopsida|Poales|Poaceae|Zea|Zea+mays\tgb|MN715130.1|\tN/A\n",
      "addff39eca064dd9caa294721e6a23cab9c331ab_41429\t100.000\tEukaryota|Streptophyta|Magnoliopsida|Apiales|Apiaceae|Selinum|Selinum+carvifolia\tgb|MT846883.1|\tN/A\n",
      "a069993ab97b3f720cf66567bfb1fad838b20dc6_37670\t100.000\tEukaryota|Streptophyta|Magnoliopsida|Laurales|Lauraceae|Cinnamomum|Cinnamomum+camphora\tgb|MN482111.1|\tN/A\n",
      "28bf85082548d49c8d3b2793064a2fae0f417562_34741\t100.000\tEukaryota|Streptophyta|Magnoliopsida|Rosales|Rosaceae|Prunus|Prunus+sunhangii\tgb|MK411811.1|\tN/A\n",
      "967e951648145482fcc47f85b2a3530bec26d552_33003\t100.000\tEukaryota|Streptophyta|Magnoliopsida|Apiales|Apiaceae|Selinum|Selinum+carvifolia\tgb|MT846883.1|\tN/A\n",
      "36ecc3a6b7c304e724eb2680f97c751acaa0cdf6_20092\t100.000\tEukaryota|Streptophyta|Magnoliopsida|Fabales|Fabaceae|Glycyrrhiza|Glycyrrhiza+glabra\tgb|MN167287.1|\tN/A\n",
      "7bb64ef2725b146c74add357867e20995ecd52ee_19835\t100.000\tEukaryota|Streptophyta|Magnoliopsida|Sapindales|Rutaceae|Citrus|Citrus+micrantha\tgb|KY656130.1|\tN/A\n",
      "1d2c40bd28ba9fcb65db0be2eea63b1e8e1428c4_17286\t100.000\tEukaryota|Streptophyta|Magnoliopsida|Asterales|Asteraceae||Cichorieae+sp.\tgb|MW984537.1|\tN/A\n",
      "720f7ec10f985a208dcb0947d436ba0b5871ed40_16708\t100.000\tEukaryota|Streptophyta|Magnoliopsida|Poales|Poaceae|Zea|Zea+mays\tgb|MN715130.1|\tN/A\n"
     ]
    }
   ],
   "source": [
    "!head target95_trnL_local_blast.tab"
   ]
  },
  {
   "cell_type": "code",
   "execution_count": 62,
   "metadata": {},
   "outputs": [
    {
     "name": "stdout",
     "output_type": "stream",
     "text": [
      "target95_trnL_OTU_tax_assignments.txt\n",
      "Blast_results_formatted2OTUtable.tab\n",
      "target95_trnL_local_blast.tab\n",
      "target_trnL.uniq.fasta.ndb\n",
      "target_trnL.uniq.fasta.nos\n",
      "target_trnL.uniq.fasta.ntf\n",
      "target_trnL.uniq.fasta.nto\n",
      "target_trnL.uniq.fasta.not\n",
      "target_trnL.uniq.fasta.nhr\n",
      "target_trnL.uniq.fasta.nin\n"
     ]
    }
   ],
   "source": [
    "%ls -t | head"
   ]
  },
  {
   "cell_type": "code",
   "execution_count": 63,
   "metadata": {},
   "outputs": [
    {
     "name": "stdout",
     "output_type": "stream",
     "text": [
      "ac90db76fbae68003ec939d36b9847a46cbfa3c7\t51129\t100.000\tEukaryota|Streptophyta|Magnoliopsida|Sapindales|Rutaceae|Citrus|Citrus+micrantha\tKY656130.1\tN/A\n",
      "2987db85c9fae5a1464f814e070b7507621e8a57\t43673\t100.000\tEukaryota|Streptophyta|Magnoliopsida|Poales|Poaceae|Zea|Zea+mays\tMN715130.1\tN/A\n",
      "addff39eca064dd9caa294721e6a23cab9c331ab\t41429\t100.000\tEukaryota|Streptophyta|Magnoliopsida|Apiales|Apiaceae|Selinum|Selinum+carvifolia\tMT846883.1\tN/A\n",
      "a069993ab97b3f720cf66567bfb1fad838b20dc6\t37670\t100.000\tEukaryota|Streptophyta|Magnoliopsida|Laurales|Lauraceae|Cinnamomum|Cinnamomum+camphora\tMN482111.1\tN/A\n",
      "28bf85082548d49c8d3b2793064a2fae0f417562\t34741\t100.000\tEukaryota|Streptophyta|Magnoliopsida|Rosales|Rosaceae|Prunus|Prunus+sunhangii\tMK411811.1\tN/A\n",
      "967e951648145482fcc47f85b2a3530bec26d552\t33003\t100.000\tEukaryota|Streptophyta|Magnoliopsida|Apiales|Apiaceae|Selinum|Selinum+carvifolia\tMT846883.1\tN/A\n",
      "36ecc3a6b7c304e724eb2680f97c751acaa0cdf6\t20092\t100.000\tEukaryota|Streptophyta|Magnoliopsida|Fabales|Fabaceae|Glycyrrhiza|Glycyrrhiza+glabra\tMN167287.1\tN/A\n",
      "7bb64ef2725b146c74add357867e20995ecd52ee\t19835\t100.000\tEukaryota|Streptophyta|Magnoliopsida|Sapindales|Rutaceae|Citrus|Citrus+micrantha\tKY656130.1\tN/A\n",
      "1d2c40bd28ba9fcb65db0be2eea63b1e8e1428c4\t17286\t100.000\tEukaryota|Streptophyta|Magnoliopsida|Asterales|Asteraceae|NA|Cichorieae+sp.\tMW984537.1\tN/A\n",
      "720f7ec10f985a208dcb0947d436ba0b5871ed40\t16708\t100.000\tEukaryota|Streptophyta|Magnoliopsida|Poales|Poaceae|Zea|Zea+mays\tMN715130.1\tN/A\n"
     ]
    }
   ],
   "source": [
    "!head Blast_results_formatted2OTUtable.tab"
   ]
  },
  {
   "cell_type": "code",
   "execution_count": 64,
   "metadata": {},
   "outputs": [
    {
     "name": "stdout",
     "output_type": "stream",
     "text": [
      "amplicon\tKingdom\tPhylum\tClass\tOrd\tFamily\tGenus\tSpecies\tSIM\tOTU_abundance\n",
      "ac90db76fbae68003ec939d36b9847a46cbfa3c7\tEukaryota\tStreptophyta\tMagnoliopsida\tSapindales\tRutaceae\tCitrus\tmicrantha\t100.000\t51129\n",
      "2987db85c9fae5a1464f814e070b7507621e8a57\tEukaryota\tStreptophyta\tMagnoliopsida\tPoales\tPoaceae\tZea\tmays\t100.000\t43673\n",
      "addff39eca064dd9caa294721e6a23cab9c331ab\tEukaryota\tStreptophyta\tMagnoliopsida\tApiales\tApiaceae\tSelinum\tcarvifolia\t100.000\t41429\n",
      "a069993ab97b3f720cf66567bfb1fad838b20dc6\tEukaryota\tStreptophyta\tMagnoliopsida\tLaurales\tLauraceae\tCinnamomum\tcamphora\t100.000\t37670\n",
      "28bf85082548d49c8d3b2793064a2fae0f417562\tEukaryota\tStreptophyta\tMagnoliopsida\tRosales\tRosaceae\tPrunus\tsunhangii\t100.000\t34741\n",
      "967e951648145482fcc47f85b2a3530bec26d552\tEukaryota\tStreptophyta\tMagnoliopsida\tApiales\tApiaceae\tSelinum\tcarvifolia\t100.000\t33003\n",
      "36ecc3a6b7c304e724eb2680f97c751acaa0cdf6\tEukaryota\tStreptophyta\tMagnoliopsida\tFabales\tFabaceae\tGlycyrrhiza\tglabra\t100.000\t20092\n",
      "7bb64ef2725b146c74add357867e20995ecd52ee\tEukaryota\tStreptophyta\tMagnoliopsida\tSapindales\tRutaceae\tCitrus\tmicrantha\t100.000\t19835\n",
      "1d2c40bd28ba9fcb65db0be2eea63b1e8e1428c4\tEukaryota\tStreptophyta\tMagnoliopsida\tAsterales\tAsteraceae\tNA\tsp.\t100.000\t17286\n"
     ]
    }
   ],
   "source": [
    "!head target95_trnL_OTU_tax_assignments.txt"
   ]
  },
  {
   "cell_type": "code",
   "execution_count": 65,
   "metadata": {},
   "outputs": [],
   "source": [
    " %%bash\n",
    "./6_build_OTU_table.sh trnL_cluster_representatives.fas trnL_sub.qual Blast_results_formatted2OTUtable.tab \\\n",
    "/home/jupyter/METAPIPE-Notebooks/dereplicated"
   ]
  },
  {
   "cell_type": "code",
   "execution_count": 66,
   "metadata": {},
   "outputs": [
    {
     "name": "stdout",
     "output_type": "stream",
     "text": [
      "trnL_cluster_OTU_table_complete.tab\n",
      "\u001b[0m\u001b[01;32mmetapipe-run.ipynb\u001b[0m*\n",
      "target95_trnL_OTU_tax_assignments.txt\n",
      "Blast_results_formatted2OTUtable.tab\n",
      "target95_trnL_local_blast.tab\n",
      "target_trnL.uniq.fasta.ndb\n",
      "target_trnL.uniq.fasta.nos\n",
      "target_trnL.uniq.fasta.ntf\n",
      "target_trnL.uniq.fasta.nto\n",
      "target_trnL.uniq.fasta.not\n"
     ]
    }
   ],
   "source": [
    "%ls -t | head"
   ]
  },
  {
   "cell_type": "code",
   "execution_count": 67,
   "metadata": {},
   "outputs": [
    {
     "name": "stdout",
     "output_type": "stream",
     "text": [
      "OTU\ttotal\tcloud\tamplicon\tlength\tabundance\tchimera\tspread\tquality\tsequence\tidentity\ttaxonomy\treferences\tAngelicaesinensis_a_dp\tAngelicaesinensis_b_dp\tCarthamustinctorius_a_dp\tCarthamustinctorius_b_dp\tCitrusaurantium_a_dp\tCitrusaurantium_b_dp\tCyperusrotundus_a_dp\tCyperusrotundus_b_dp\tGXZYT_a_dp\tGXZYT_b_dp\tGZFLW_a_dp\tGZFLW_b_dp\tGlycyrrhizauralensis_a_dp\tGlycyrrhizauralensis_b_dp\tGuiZhiFuLingPian_a_dp\tGuiZhiFuLingPian_b_dp\tGuiZhiFuLingTan_a_dp\tGuiZhiFuLingTan_b_dp\tLigusticumchuanxiong_a_dp\tLigusticumchuanxiong_b_dp\tLinderaaggregata_a_dp\tLinderaaggregata_b_dp\tNegativePCR_dp\tNegative_dp\tPaeonialactiflora_a_dp\tPaeonialactiflora_b_dp\tPeoniasuffruticosa_a_dp\tPeoniasuffruticosa_b_dp\tPoriacocos_a_dp\tPoriacocos_b_dp\tPrunuspersica_a_dp\tPrunuspersica_b_dp\tTrogopterusxanthipes_a_dp\tTrogopterusxanthipes_b_dp\n",
      "1\t64940\t2684\ta84c749701d67d1226018c6714b72e543a618f16\t102\t44856\tN\t12\t0.0001\tCTTTTTTTATATAAAAAAAAATTTTATAATATAATAAAAAATTTAGAATAATAATATTCTATATATATTATATATTTTTTTATATTTTTTCAAAATAATGAT\tNA\tNA\tNA\t0\t18551\t25637\t12\t0\t7\t0\t0\t0\t0\t0\t12\t13\t66\t0\t0\t23\t0\t0\t4\t0\t0\t0\t0\t0\t0\t0\t0\t0\t0\t0\t1\t15\t20599\n",
      "2\t51129\t989\tac90db76fbae68003ec939d36b9847a46cbfa3c7\t52\t43740\tN\t25\t0.0001\tATCCTCTTCTCTTTTCCAAGAACAAACAGGGGTTCAGAAAGCGAAAAAGGGG\t100.000\tEukaryota|Streptophyta|Magnoliopsida|Sapindales|Rutaceae|Citrus|Citrus+micrantha\tKY656130.1\t0\t0\t1\t29\t171\t49425\t32\t137\t828\t13\t0\t0\t4\t0\t19\t8\t2\t10\t6\t1\t0\t0\t6\t121\t1\t4\t0\t0\t1\t1\t2\t16\t290\t1\n"
     ]
    }
   ],
   "source": [
    "!head -3 trnL_cluster_OTU_table_complete.tab"
   ]
  },
  {
   "cell_type": "code",
   "execution_count": 68,
   "metadata": {},
   "outputs": [],
   "source": [
    "%%bash \n",
    "./6_filter_OTU_table.sh trnL_cluster_OTU_table_complete.tab trnL_sub.qual"
   ]
  },
  {
   "cell_type": "code",
   "execution_count": 69,
   "metadata": {},
   "outputs": [
    {
     "name": "stdout",
     "output_type": "stream",
     "text": [
      "trnL_sub.ee\n",
      "trnL_cluster_OTU_table_f4_no_hit2_cut2phyloseq2.tab\n",
      "trnL_cluster_OTU_table_f4_no_hit2.tab\n",
      "trnL_cluster_OTU_table_f3_hits_only2_cut2phyloseq2.tab\n",
      "trnL_cluster_OTU_table_f3_hits_only2.tab\n",
      "trnL_cluster_OTU_table_f2_97up2_cut2phyloseq2.tab\n",
      "trnL_cluster_OTU_table_f2_97up2.tab\n",
      "trnL_cluster_OTU_table_f1_basics2_cut2phyloseq2.tab\n",
      "trnL_cluster_OTU_table_f1_basics2.tab\n",
      "trnL_cluster_OTU_table_complete.tab\n",
      "\u001b[0m\u001b[01;32mmetapipe-run.ipynb\u001b[0m*\n",
      "target95_trnL_OTU_tax_assignments.txt\n",
      "Blast_results_formatted2OTUtable.tab\n",
      "target95_trnL_local_blast.tab\n",
      "target_trnL.uniq.fasta.ndb\n",
      "target_trnL.uniq.fasta.nos\n",
      "target_trnL.uniq.fasta.ntf\n",
      "target_trnL.uniq.fasta.nto\n",
      "target_trnL.uniq.fasta.not\n",
      "target_trnL.uniq.fasta.nhr\n"
     ]
    }
   ],
   "source": [
    "%ls -t | head -20"
   ]
  },
  {
   "cell_type": "code",
   "execution_count": 70,
   "metadata": {},
   "outputs": [
    {
     "name": "stdout",
     "output_type": "stream",
     "text": [
      "amplicon\tAngelicaesinensis_a\tAngelicaesinensis_b\tCarthamustinctorius_a\tCarthamustinctorius_b\tCitrusaurantium_a\tCitrusaurantium_b\tCyperusrotundus_a\tCyperusrotundus_b\tGXZYT_a\tGXZYT_b\tGZFLW_a\tGZFLW_b\tGlycyrrhizauralensis_a\tGlycyrrhizauralensis_b\tGuiZhiFuLingPian_a\tGuiZhiFuLingPian_b\tGuiZhiFuLingTan_a\tGuiZhiFuLingTan_b\tLigusticumchuanxiong_a\tLigusticumchuanxiong_b\tLinderaaggregata_a\tLinderaaggregata_b\tNegativePCR\tNegative\tPaeonialactiflora_a\tPaeonialactiflora_b\tPeoniasuffruticosa_a\tPeoniasuffruticosa_b\tPoriacocos_a\tPoriacocos_b\tPrunuspersica_a\tPrunuspersica_b\tTrogopterusxanthipes_a\tTrogopterusxanthipes_b\n",
      "a84c749701d67d1226018c6714b72e543a618f16\t0\t18551\t25637\t12\t0\t7\t0\t0\t0\t0\t0\t12\t13\t66\t0\t0\t23\t0\t0\t4\t0\t0\t0\t0\t0\t0\t0\t0\t0\t0\t0\t1\t15\t20599\n",
      "ac90db76fbae68003ec939d36b9847a46cbfa3c7\t0\t0\t1\t29\t171\t49425\t32\t137\t828\t13\t0\t0\t4\t0\t19\t8\t2\t10\t6\t1\t0\t0\t6\t121\t1\t4\t0\t0\t1\t1\t2\t16\t290\t1\n",
      "2987db85c9fae5a1464f814e070b7507621e8a57\t23\t0\t1\t1\t4\t2\t0\t0\t0\t0\t40910\t1\t1\t0\t2584\t2\t0\t75\t4\t0\t2\t1\t4\t1\t3\t0\t3\t0\t0\t0\t1\t3\t45\t2\n",
      "addff39eca064dd9caa294721e6a23cab9c331ab\t18563\t9615\t5\t6\t3\t62\t36\t4\t12103\t143\t16\t11\t0\t17\t123\t1\t9\t80\t40\t64\t7\t2\t75\t3\t23\t65\t4\t5\t27\t3\t6\t203\t97\t8\n"
     ]
    }
   ],
   "source": [
    "!head -5 trnL_cluster_OTU_table_f1_basics2_cut2phyloseq2.tab"
   ]
  },
  {
   "cell_type": "code",
   "execution_count": 71,
   "metadata": {},
   "outputs": [
    {
     "name": "stdout",
     "output_type": "stream",
     "text": [
      "SampleID\tSampleName\tReplicate\tExperiment\tExp_fam\tExp_genus\n",
      "Angelicaesinensis_a\tAngelicaesinensis_a\tAngelicaesinensis\tExp1\tApiaceae\tAngelica\n",
      "Angelicaesinensis_b\tAngelicaesinensis_b\tAngelicaesinensis\tExp1\tApiaceae\tAngelica\n",
      "Carthamustinctorius_a\tCarthamustinctorius_a\tCarthamustinctorius\tExp2\tAsteraceae\tCarthamus\n",
      "Carthamustinctorius_b\tCarthamustinctorius_b\tCarthamustinctorius\tExp2\tAsteraceae\tCarthamus\n",
      "Citrusaurantium_a\tCitrusaurantium_a\tCitrusaurantium\tExp3\tRutaceae\tCitrus\n",
      "Citrusaurantium_b\tCitrusaurantium_b\tCitrusaurantium\tExp3\tRutaceae\tCitrus\n",
      "Cyperusrotundus_a\tCyperusrotundus_a\tCyperusrotundus\tExp4\tCypereae\tCyperus\n",
      "Cyperusrotundus_b\tCyperusrotundus_b\tCyperusrotundus\tExp4\tCypereae\tCyperus\n",
      "Glycyrrhizauralensis_a\tGlycyrrhizauralensis_a\tGlycyrrhizauralensis\tExp5\tFabaceae\tGlycyrrhiza\n"
     ]
    }
   ],
   "source": [
    "!head trnL_sub_metadata.txt"
   ]
  },
  {
   "cell_type": "code",
   "execution_count": 72,
   "metadata": {},
   "outputs": [
    {
     "name": "stdout",
     "output_type": "stream",
     "text": [
      "Copying file://trnL_sub_metadata.txt [Content-Type=text/plain]...\n",
      "/ [1 files][  2.6 KiB/  2.6 KiB]                                                \n",
      "Operation completed over 1 objects/2.6 KiB.                                      \n"
     ]
    }
   ],
   "source": [
    "!gsutil cp trnL_sub_metadata.txt gs://metapipe-files"
   ]
  },
  {
   "cell_type": "code",
   "execution_count": 73,
   "metadata": {},
   "outputs": [
    {
     "name": "stdout",
     "output_type": "stream",
     "text": [
      "Copying file://trnL_cluster_OTU_table_f1_basics2.tab [Content-Type=application/octet-stream]...\n",
      "Copying file://trnL_cluster_OTU_table_f1_basics2_cut2phyloseq2.tab [Content-Type=application/octet-stream]...\n",
      "Copying file://trnL_cluster_OTU_table_f2_97up2.tab [Content-Type=application/octet-stream]...\n",
      "Copying file://trnL_cluster_OTU_table_f2_97up2_cut2phyloseq2.tab [Content-Type=application/octet-stream]...\n",
      "\\ [4 files][213.0 KiB/213.0 KiB]                                                \n",
      "==> NOTE: You are performing a sequence of gsutil operations that may\n",
      "run significantly faster if you instead use gsutil -m cp ... Please\n",
      "see the -m section under \"gsutil help options\" for further information\n",
      "about when gsutil -m can be advantageous.\n",
      "\n",
      "Copying file://trnL_cluster_OTU_table_f3_hits_only2.tab [Content-Type=application/octet-stream]...\n",
      "Copying file://trnL_cluster_OTU_table_f3_hits_only2_cut2phyloseq2.tab [Content-Type=application/octet-stream]...\n",
      "Copying file://trnL_cluster_OTU_table_f4_no_hit2.tab [Content-Type=application/octet-stream]...\n",
      "Copying file://trnL_cluster_OTU_table_f4_no_hit2_cut2phyloseq2.tab [Content-Type=application/octet-stream]...\n",
      "| [8 files][324.8 KiB/324.8 KiB]                                                \n",
      "Operation completed over 8 objects/324.8 KiB.                                    \n"
     ]
    }
   ],
   "source": [
    "!gsutil cp trnL_cluster_OTU_table_f* gs://metapipe-files"
   ]
  },
  {
   "cell_type": "markdown",
   "metadata": {},
   "source": [
    "https://console.cloud.google.com/marketplace/product/rstudio-launcher-public/rstudio-server-pro-standard-for-gcp?q=rstudio&id=76ae9647-2d08-4888-b737-74f751581848&project=metapipe"
   ]
  },
  {
   "cell_type": "code",
   "execution_count": 76,
   "metadata": {},
   "outputs": [
    {
     "name": "stdout",
     "output_type": "stream",
     "text": [
      "Copying file://target95_trnL_OTU_tax_assignments.txt [Content-Type=text/plain]...\n",
      "- [1 files][ 97.4 KiB/ 97.4 KiB]                                                \n",
      "Operation completed over 1 objects/97.4 KiB.                                     \n"
     ]
    }
   ],
   "source": [
    "!gsutil cp target95_trnL_OTU_tax_assignments.txt gs://metapipe-files"
   ]
  },
  {
   "cell_type": "code",
   "execution_count": 78,
   "metadata": {},
   "outputs": [
    {
     "name": "stdout",
     "output_type": "stream",
     "text": [
      "c65370ec20a9cdf9089e1983d7c5c3d4227a870b\tEukaryota\tStreptophyta\tMagnoliopsida\tDioscoreales\tDioscoreaceae\tDioscorea\tjaponica\t100.000\t14276\n",
      "94385ff6f775ede0a8b76f5e4f3a9a0de58a4eca\tEukaryota\tStreptophyta\tMagnoliopsida\tDioscoreales\tDioscoreaceae\tDioscorea\tjaponica\t100.000\t7332\n",
      "bd872bc5ee72741e44de0543feee4dd24b70ef14\tEukaryota\tStreptophyta\tMagnoliopsida\tDioscoreales\tDioscoreaceae\tDioscorea\tjaponica\t100.000\t4\n",
      "15d9365c21468a243e67bbe6a87f3ccd935e8c79\tEukaryota\tStreptophyta\tMagnoliopsida\tDioscoreales\tDioscoreaceae\tDioscorea\tjaponica\t95.960\t2\n",
      "2033a8682dea95436c0e460e023c755612c5de9a\tEukaryota\tStreptophyta\tMagnoliopsida\tDioscoreales\tDioscoreaceae\tDioscorea\tjaponica\t100.000\t2\n",
      "6c7ed8e20fcd9e7459f65fdd101b460439443287\tEukaryota\tStreptophyta\tMagnoliopsida\tDioscoreales\tDioscoreaceae\tDioscorea\tmatsudae\t94.737\t2\n",
      "01274e831ee4e9767101786b61b716fb2a5b8488\tEukaryota\tStreptophyta\tMagnoliopsida\tDioscoreales\tDioscoreaceae\tDioscorea\tjaponica\t98.990\t1\n",
      "088b86d5a292b92fd5e89b4ff2cb82d852498f60\tEukaryota\tStreptophyta\tMagnoliopsida\tDioscoreales\tDioscoreaceae\tDioscorea\tjaponica\t100.000\t1\n",
      "0a1c0398fea9ff0b37b7ba235959443c76c56b32\tEukaryota\tStreptophyta\tMagnoliopsida\tDioscoreales\tDioscoreaceae\tDioscorea\tjaponica\t96.970\t1\n",
      "0d8903650a05d8d5912bca3c7effe01162eb343b\tEukaryota\tStreptophyta\tMagnoliopsida\tDioscoreales\tDioscoreaceae\tDioscorea\tmatsudae\t93.421\t1\n",
      "14dc2d6f682fb602e22f4292a9c9f6bac9aaab9a\tEukaryota\tStreptophyta\tMagnoliopsida\tDioscoreales\tDioscoreaceae\tDioscorea\tjaponica\t93.506\t1\n",
      "1e7e15b1f15c6d348cc979fa3c0a32780791a5be\tEukaryota\tStreptophyta\tMagnoliopsida\tDioscoreales\tDioscoreaceae\tDioscorea\tjaponica\t94.949\t1\n",
      "20761a0f9353caceca7c28cf7d79368d08afc77b\tEukaryota\tStreptophyta\tMagnoliopsida\tDioscoreales\tDioscoreaceae\tDioscorea\tjaponica\t96.970\t1\n",
      "283ebbeb7772017cde0acf0bfa38e42082a34e5c\tEukaryota\tStreptophyta\tMagnoliopsida\tDioscoreales\tDioscoreaceae\tDioscorea\tjaponica\t100.000\t1\n",
      "49265a1492634aa0f7a3e41e024df8c6294af8de\tEukaryota\tStreptophyta\tMagnoliopsida\tDioscoreales\tDioscoreaceae\tDioscorea\tjaponica\t100.000\t1\n",
      "594765b8a29bb34a3cc9479e861f690d9a70ae2f\tEukaryota\tStreptophyta\tMagnoliopsida\tDioscoreales\tDioscoreaceae\tDioscorea\tjaponica\t100.000\t1\n",
      "5a98c0fe2cea9dc319daf3287b1d1b4cd8f3926e\tEukaryota\tStreptophyta\tMagnoliopsida\tDioscoreales\tDioscoreaceae\tDioscorea\tjaponica\t92.208\t1\n",
      "669d83cddb6d6d9f4bd3f6969b10fcd9eec69ee6\tEukaryota\tStreptophyta\tMagnoliopsida\tDioscoreales\tDioscoreaceae\tDioscorea\tjaponica\t100.000\t1\n",
      "69b31e283b4e7219be4232208db518d8d6712f13\tEukaryota\tStreptophyta\tMagnoliopsida\tDioscoreales\tDioscoreaceae\tDioscorea\tjaponica\t93.506\t1\n",
      "6d7b1738ce1d5a08a86d5b95b6cf5b93ae7f56a2\tEukaryota\tStreptophyta\tMagnoliopsida\tDioscoreales\tDioscoreaceae\tDioscorea\tjaponica\t100.000\t1\n",
      "743b86eec3aac4810a78e8bed44befa971f3925c\tEukaryota\tStreptophyta\tMagnoliopsida\tDioscoreales\tDioscoreaceae\tDioscorea\tjaponica\t100.000\t1\n",
      "76ce36a58fbc93a65e5ed105e648a1c96b97fbfe\tEukaryota\tStreptophyta\tMagnoliopsida\tDioscoreales\tDioscoreaceae\tDioscorea\tjaponica\t100.000\t1\n",
      "7ecfe7ca9c99f69f951a6c7180b50581f6d39cb8\tEukaryota\tStreptophyta\tMagnoliopsida\tDioscoreales\tDioscoreaceae\tDioscorea\tjaponica\t98.684\t1\n",
      "841a0e84618ec42449864916f6d3bca90145d694\tEukaryota\tStreptophyta\tMagnoliopsida\tDioscoreales\tDioscoreaceae\tDioscorea\tjaponica\t90.909\t1\n",
      "a12b97a2b3723c17745023214925874124d80e59\tEukaryota\tStreptophyta\tMagnoliopsida\tDioscoreales\tDioscoreaceae\tDioscorea\tjaponica\t93.506\t1\n",
      "a1b29877f891503d1d4410c8d1a653dcc7287218\tEukaryota\tStreptophyta\tMagnoliopsida\tDioscoreales\tDioscoreaceae\tDioscorea\tjaponica\t94.805\t1\n",
      "a1bb7acf6be898497dd8eff9b403bf1ec8e70500\tEukaryota\tStreptophyta\tMagnoliopsida\tDioscoreales\tDioscoreaceae\tDioscorea\tpolystachya\t100.000\t1\n",
      "baa99d0844a2c302b67e18597f8d0d803de766cc\tEukaryota\tStreptophyta\tMagnoliopsida\tDioscoreales\tDioscoreaceae\tDioscorea\tjaponica\t100.000\t1\n",
      "bc491bee3c1b54e68413eaf4547cdec9b8c2d3e8\tEukaryota\tStreptophyta\tMagnoliopsida\tDioscoreales\tDioscoreaceae\tDioscorea\tjaponica\t100.000\t1\n",
      "bef5f751430f4282a0e746c23b7e2719f3bb7605\tEukaryota\tStreptophyta\tMagnoliopsida\tDioscoreales\tDioscoreaceae\tDioscorea\tmatsudae\t90.789\t1\n",
      "c48b4363ff08a1978e5a5183c54a617fe0a64b10\tEukaryota\tStreptophyta\tMagnoliopsida\tDioscoreales\tDioscoreaceae\tDioscorea\tjaponica\t100.000\t1\n",
      "c77d68b55a882229241ea241da045b2820a7b9b2\tEukaryota\tStreptophyta\tMagnoliopsida\tDioscoreales\tDioscoreaceae\tDioscorea\tjaponica\t100.000\t1\n",
      "cfbd6121592a6b11388b92d768616f87bc5c0a9a\tEukaryota\tStreptophyta\tMagnoliopsida\tDioscoreales\tDioscoreaceae\tDioscorea\tjaponica\t100.000\t1\n",
      "d0a0b638c54660ad92c60f850552c52755d2291b\tEukaryota\tStreptophyta\tMagnoliopsida\tDioscoreales\tDioscoreaceae\tDioscorea\tjaponica\t100.000\t1\n",
      "d1c4077b07332d80e71ccf04305917e79b98f4f6\tEukaryota\tStreptophyta\tMagnoliopsida\tDioscoreales\tDioscoreaceae\tDioscorea\tjaponica\t100.000\t1\n",
      "d2fc2d9c5d22146839cd32aa09db6f6aba466e7b\tEukaryota\tStreptophyta\tMagnoliopsida\tDioscoreales\tDioscoreaceae\tDioscorea\tjaponica\t100.000\t1\n",
      "d3d84934c6653ad60512eb540a9f3cd92ddecd67\tEukaryota\tStreptophyta\tMagnoliopsida\tDioscoreales\tDioscoreaceae\tDioscorea\tjaponica\t100.000\t1\n",
      "d76ed60acfceb7cd11e4dd19c49f0cab19735002\tEukaryota\tStreptophyta\tMagnoliopsida\tDioscoreales\tDioscoreaceae\tDioscorea\tjaponica\t98.701\t1\n",
      "d97a2617b7839b9d91938f867b85dac58424644d\tEukaryota\tStreptophyta\tMagnoliopsida\tDioscoreales\tDioscoreaceae\tDioscorea\tjaponica\t98.876\t1\n",
      "dbf6189e16900ad365d67e3dcb5a3f5ab4c7e6c5\tEukaryota\tStreptophyta\tMagnoliopsida\tDioscoreales\tDioscoreaceae\tDioscorea\tjaponica\t93.506\t1\n",
      "dcb38e421c783ef93838826dded9062c4104425a\tEukaryota\tStreptophyta\tMagnoliopsida\tDioscoreales\tDioscoreaceae\tDioscorea\tjaponica\t100.000\t1\n",
      "e3307ec04b8e8d7ff44012a7e8f40fe17ec9c092\tEukaryota\tStreptophyta\tMagnoliopsida\tDioscoreales\tDioscoreaceae\tDioscorea\tjaponica\t98.990\t1\n",
      "e7665e99d1999671382fd0ec0103bd07aaf0c9bc\tEukaryota\tStreptophyta\tMagnoliopsida\tDioscoreales\tDioscoreaceae\tDioscorea\tjaponica\t100.000\t1\n",
      "e903c5732c23b3e9ace5193c389a6c6c42b32746\tEukaryota\tStreptophyta\tMagnoliopsida\tDioscoreales\tDioscoreaceae\tDioscorea\tjaponica\t94.805\t1\n",
      "e963e10f028da3204c74fe0a09e8104d7ec40d2c\tEukaryota\tStreptophyta\tMagnoliopsida\tDioscoreales\tDioscoreaceae\tDioscorea\tjaponica\t100.000\t1\n",
      "ee89655cb65dce1cb305e30627fbef924214b4ac\tEukaryota\tStreptophyta\tMagnoliopsida\tDioscoreales\tDioscoreaceae\tDioscorea\tjaponica\t96.842\t1\n",
      "f29e9a1622a47996fc2ae5b50b7d768326a6767f\tEukaryota\tStreptophyta\tMagnoliopsida\tDioscoreales\tDioscoreaceae\tDioscorea\tjaponica\t93.506\t1\n",
      "fa2143477c604d6d88d801a47cb92714c3062172\tEukaryota\tStreptophyta\tMagnoliopsida\tDioscoreales\tDioscoreaceae\tDioscorea\tjaponica\t100.000\t1\n",
      "fdd0b7517deeda75d5ef7aea78aaa7b2620b813b\tEukaryota\tStreptophyta\tMagnoliopsida\tDioscoreales\tDioscoreaceae\tDioscorea\tjaponica\t94.805\t1\n"
     ]
    }
   ],
   "source": [
    "!grep \"Dioscoreaceae\" target95_trnL_OTU_tax_assignments.txt"
   ]
  },
  {
   "cell_type": "markdown",
   "metadata": {},
   "source": [
    "Gostaria de fazer um barplotzinho para mostrar isso..."
   ]
  },
  {
   "cell_type": "markdown",
   "metadata": {},
   "source": [
    "Toda essa parte a seguir deveria mostrar os plots..."
   ]
  },
  {
   "cell_type": "markdown",
   "metadata": {},
   "source": [
    "Check the Top6 OTUs from the whole dataset:"
   ]
  },
  {
   "cell_type": "code",
   "execution_count": 86,
   "metadata": {},
   "outputs": [
    {
     "name": "stdout",
     "output_type": "stream",
     "text": [
      "ac90db76fbae68003ec939d36b9847a46cbfa3c7\tEukaryota\tStreptophyta\tMagnoliopsida\tSapindales\tRutaceae\tCitrus\tmicrantha\t100.000\t51129\n"
     ]
    }
   ],
   "source": [
    "!grep \"ac90db76fbae68003ec939d36b9847a46cbfa3c7\" target95_trnL_OTU_tax_assignments.txt"
   ]
  },
  {
   "cell_type": "code",
   "execution_count": 100,
   "metadata": {},
   "outputs": [
    {
     "name": "stdout",
     "output_type": "stream",
     "text": [
      "amplicon\tAngelicaesinensis_a\tAngelicaesinensis_b\tCarthamustinctorius_a\tCarthamustinctorius_b\tCitrusaurantium_a\tCitrusaurantium_b\tCyperusrotundus_a\tCyperusrotundus_b\tGXZYT_a\tGXZYT_b\tGZFLW_a\tGZFLW_b\tGlycyrrhizauralensis_a\tGlycyrrhizauralensis_b\tGuiZhiFuLingPian_a\tGuiZhiFuLingPian_b\tGuiZhiFuLingTan_a\tGuiZhiFuLingTan_b\tLigusticumchuanxiong_a\tLigusticumchuanxiong_b\tLinderaaggregata_a\tLinderaaggregata_b\tNegativePCR\tNegative\tPaeonialactiflora_a\tPaeonialactiflora_b\tPeoniasuffruticosa_a\tPeoniasuffruticosa_b\tPoriacocos_a\tPoriacocos_b\tPrunuspersica_a\tPrunuspersica_b\tTrogopterusxanthipes_a\tTrogopterusxanthipes_b\n"
     ]
    }
   ],
   "source": [
    "!head -1 trnL_cluster_OTU_table_f1_basics2_cut2phyloseq2.tab"
   ]
  },
  {
   "cell_type": "code",
   "execution_count": 101,
   "metadata": {},
   "outputs": [
    {
     "name": "stdout",
     "output_type": "stream",
     "text": [
      "ac90db76fbae68003ec939d36b9847a46cbfa3c7\t0\t0\t1\t29\t171\t49425\t32\t137\t828\t13\t0\t0\t4\t0\t19\t8\t2\t10\t6\t1\t0\t0\t6\t121\t1\t4\t0\t0\t1\t1\t2\t16\t290\t1\n"
     ]
    }
   ],
   "source": [
    "!grep \"ac90db76fbae68003ec939d36b9847a46cbfa3c7\" trnL_cluster_OTU_table_f1_basics2_cut2phyloseq2.tab"
   ]
  },
  {
   "cell_type": "markdown",
   "metadata": {},
   "source": [
    "We observe that Rutaceae Citrus micrantha is more abundant in Citrusaurantium_b sample."
   ]
  },
  {
   "cell_type": "code",
   "execution_count": 87,
   "metadata": {},
   "outputs": [
    {
     "name": "stdout",
     "output_type": "stream",
     "text": [
      "2987db85c9fae5a1464f814e070b7507621e8a57\tEukaryota\tStreptophyta\tMagnoliopsida\tPoales\tPoaceae\tZea\tmays\t100.000\t43673\n"
     ]
    }
   ],
   "source": [
    "!grep \"2987db85c9fae5a1464f814e070b7507621e8a57\" target95_trnL_OTU_tax_assignments.txt"
   ]
  },
  {
   "cell_type": "code",
   "execution_count": 102,
   "metadata": {},
   "outputs": [
    {
     "name": "stdout",
     "output_type": "stream",
     "text": [
      "amplicon\tAngelicaesinensis_a\tAngelicaesinensis_b\tCarthamustinctorius_a\tCarthamustinctorius_b\tCitrusaurantium_a\tCitrusaurantium_b\tCyperusrotundus_a\tCyperusrotundus_b\tGXZYT_a\tGXZYT_b\tGZFLW_a\tGZFLW_b\tGlycyrrhizauralensis_a\tGlycyrrhizauralensis_b\tGuiZhiFuLingPian_a\tGuiZhiFuLingPian_b\tGuiZhiFuLingTan_a\tGuiZhiFuLingTan_b\tLigusticumchuanxiong_a\tLigusticumchuanxiong_b\tLinderaaggregata_a\tLinderaaggregata_b\tNegativePCR\tNegative\tPaeonialactiflora_a\tPaeonialactiflora_b\tPeoniasuffruticosa_a\tPeoniasuffruticosa_b\tPoriacocos_a\tPoriacocos_b\tPrunuspersica_a\tPrunuspersica_b\tTrogopterusxanthipes_a\tTrogopterusxanthipes_b\n"
     ]
    }
   ],
   "source": [
    "!head -1 trnL_cluster_OTU_table_f1_basics2_cut2phyloseq2.tab"
   ]
  },
  {
   "cell_type": "code",
   "execution_count": 103,
   "metadata": {},
   "outputs": [
    {
     "name": "stdout",
     "output_type": "stream",
     "text": [
      "2987db85c9fae5a1464f814e070b7507621e8a57\t23\t0\t1\t1\t4\t2\t0\t0\t0\t0\t40910\t1\t1\t0\t2584\t2\t0\t75\t4\t0\t2\t1\t4\t1\t3\t0\t3\t0\t0\t0\t1\t3\t45\t2\n"
     ]
    }
   ],
   "source": [
    "!grep \"2987db85c9fae5a1464f814e070b7507621e8a57\" trnL_cluster_OTU_table_f1_basics2_cut2phyloseq2.tab"
   ]
  },
  {
   "cell_type": "markdown",
   "metadata": {},
   "source": [
    "We observe that Poaceae Zea mays is more abundant in GZFLW_a sample."
   ]
  },
  {
   "cell_type": "code",
   "execution_count": 88,
   "metadata": {},
   "outputs": [
    {
     "name": "stdout",
     "output_type": "stream",
     "text": [
      "addff39eca064dd9caa294721e6a23cab9c331ab\tEukaryota\tStreptophyta\tMagnoliopsida\tApiales\tApiaceae\tSelinum\tcarvifolia\t100.000\t41429\n"
     ]
    }
   ],
   "source": [
    "!grep \"addff39eca064dd9caa294721e6a23cab9c331ab\" target95_trnL_OTU_tax_assignments.txt"
   ]
  },
  {
   "cell_type": "code",
   "execution_count": 104,
   "metadata": {},
   "outputs": [
    {
     "name": "stdout",
     "output_type": "stream",
     "text": [
      "amplicon\tAngelicaesinensis_a\tAngelicaesinensis_b\tCarthamustinctorius_a\tCarthamustinctorius_b\tCitrusaurantium_a\tCitrusaurantium_b\tCyperusrotundus_a\tCyperusrotundus_b\tGXZYT_a\tGXZYT_b\tGZFLW_a\tGZFLW_b\tGlycyrrhizauralensis_a\tGlycyrrhizauralensis_b\tGuiZhiFuLingPian_a\tGuiZhiFuLingPian_b\tGuiZhiFuLingTan_a\tGuiZhiFuLingTan_b\tLigusticumchuanxiong_a\tLigusticumchuanxiong_b\tLinderaaggregata_a\tLinderaaggregata_b\tNegativePCR\tNegative\tPaeonialactiflora_a\tPaeonialactiflora_b\tPeoniasuffruticosa_a\tPeoniasuffruticosa_b\tPoriacocos_a\tPoriacocos_b\tPrunuspersica_a\tPrunuspersica_b\tTrogopterusxanthipes_a\tTrogopterusxanthipes_b\n"
     ]
    }
   ],
   "source": [
    "!head -1 trnL_cluster_OTU_table_f1_basics2_cut2phyloseq2.tab"
   ]
  },
  {
   "cell_type": "code",
   "execution_count": 105,
   "metadata": {},
   "outputs": [
    {
     "name": "stdout",
     "output_type": "stream",
     "text": [
      "addff39eca064dd9caa294721e6a23cab9c331ab\t18563\t9615\t5\t6\t3\t62\t36\t4\t12103\t143\t16\t11\t0\t17\t123\t1\t9\t80\t40\t64\t7\t2\t75\t3\t23\t65\t4\t5\t27\t3\t6\t203\t97\t8\n"
     ]
    }
   ],
   "source": [
    "!grep \"addff39eca064dd9caa294721e6a23cab9c331ab\" trnL_cluster_OTU_table_f1_basics2_cut2phyloseq2.tab"
   ]
  },
  {
   "cell_type": "markdown",
   "metadata": {},
   "source": [
    "We observe that Apiaceae Selinum carvifolia is more abundant in Angelicaesinensis_a sample."
   ]
  },
  {
   "cell_type": "code",
   "execution_count": 89,
   "metadata": {},
   "outputs": [
    {
     "name": "stdout",
     "output_type": "stream",
     "text": [
      "a069993ab97b3f720cf66567bfb1fad838b20dc6\tEukaryota\tStreptophyta\tMagnoliopsida\tLaurales\tLauraceae\tCinnamomum\tcamphora\t100.000\t37670\n"
     ]
    }
   ],
   "source": [
    "!grep \"a069993ab97b3f720cf66567bfb1fad838b20dc6\" target95_trnL_OTU_tax_assignments.txt"
   ]
  },
  {
   "cell_type": "code",
   "execution_count": 106,
   "metadata": {},
   "outputs": [
    {
     "name": "stdout",
     "output_type": "stream",
     "text": [
      "amplicon\tAngelicaesinensis_a\tAngelicaesinensis_b\tCarthamustinctorius_a\tCarthamustinctorius_b\tCitrusaurantium_a\tCitrusaurantium_b\tCyperusrotundus_a\tCyperusrotundus_b\tGXZYT_a\tGXZYT_b\tGZFLW_a\tGZFLW_b\tGlycyrrhizauralensis_a\tGlycyrrhizauralensis_b\tGuiZhiFuLingPian_a\tGuiZhiFuLingPian_b\tGuiZhiFuLingTan_a\tGuiZhiFuLingTan_b\tLigusticumchuanxiong_a\tLigusticumchuanxiong_b\tLinderaaggregata_a\tLinderaaggregata_b\tNegativePCR\tNegative\tPaeonialactiflora_a\tPaeonialactiflora_b\tPeoniasuffruticosa_a\tPeoniasuffruticosa_b\tPoriacocos_a\tPoriacocos_b\tPrunuspersica_a\tPrunuspersica_b\tTrogopterusxanthipes_a\tTrogopterusxanthipes_b\n"
     ]
    }
   ],
   "source": [
    "!head -1 trnL_cluster_OTU_table_f1_basics2_cut2phyloseq2.tab"
   ]
  },
  {
   "cell_type": "code",
   "execution_count": 107,
   "metadata": {},
   "outputs": [
    {
     "name": "stdout",
     "output_type": "stream",
     "text": [
      "a069993ab97b3f720cf66567bfb1fad838b20dc6\t0\t2\t0\t0\t0\t5\t4480\t15\t0\t0\t14\t0\t0\t0\t33027\t1\t0\t116\t0\t0\t0\t0\t0\t0\t0\t0\t0\t0\t4\t0\t0\t5\t1\t0\n"
     ]
    }
   ],
   "source": [
    "!grep \"a069993ab97b3f720cf66567bfb1fad838b20dc6\" trnL_cluster_OTU_table_f1_basics2_cut2phyloseq2.tab"
   ]
  },
  {
   "cell_type": "markdown",
   "metadata": {},
   "source": [
    "We observe that Lauraceae Cinnamomum camphora is more abundant in Cyperusrotundus_a sample."
   ]
  },
  {
   "cell_type": "code",
   "execution_count": 90,
   "metadata": {},
   "outputs": [
    {
     "name": "stdout",
     "output_type": "stream",
     "text": [
      "28bf85082548d49c8d3b2793064a2fae0f417562\tEukaryota\tStreptophyta\tMagnoliopsida\tRosales\tRosaceae\tPrunus\tsunhangii\t100.000\t34741\n"
     ]
    }
   ],
   "source": [
    "!grep \"28bf85082548d49c8d3b2793064a2fae0f417562\" target95_trnL_OTU_tax_assignments.txt"
   ]
  },
  {
   "cell_type": "code",
   "execution_count": 108,
   "metadata": {},
   "outputs": [
    {
     "name": "stdout",
     "output_type": "stream",
     "text": [
      "amplicon\tAngelicaesinensis_a\tAngelicaesinensis_b\tCarthamustinctorius_a\tCarthamustinctorius_b\tCitrusaurantium_a\tCitrusaurantium_b\tCyperusrotundus_a\tCyperusrotundus_b\tGXZYT_a\tGXZYT_b\tGZFLW_a\tGZFLW_b\tGlycyrrhizauralensis_a\tGlycyrrhizauralensis_b\tGuiZhiFuLingPian_a\tGuiZhiFuLingPian_b\tGuiZhiFuLingTan_a\tGuiZhiFuLingTan_b\tLigusticumchuanxiong_a\tLigusticumchuanxiong_b\tLinderaaggregata_a\tLinderaaggregata_b\tNegativePCR\tNegative\tPaeonialactiflora_a\tPaeonialactiflora_b\tPeoniasuffruticosa_a\tPeoniasuffruticosa_b\tPoriacocos_a\tPoriacocos_b\tPrunuspersica_a\tPrunuspersica_b\tTrogopterusxanthipes_a\tTrogopterusxanthipes_b\n"
     ]
    }
   ],
   "source": [
    "!head -1 trnL_cluster_OTU_table_f1_basics2_cut2phyloseq2.tab"
   ]
  },
  {
   "cell_type": "code",
   "execution_count": 109,
   "metadata": {},
   "outputs": [
    {
     "name": "stdout",
     "output_type": "stream",
     "text": [
      "28bf85082548d49c8d3b2793064a2fae0f417562\t14\t20\t1\t20\t3\t32\t9\t2\t5763\t167\t5260\t1\t1\t0\t18\t15\t5\t962\t6\t34\t0\t1\t26\t10\t103\t32\t41\t33\t32\t9\t9954\t12102\t64\t1\n"
     ]
    }
   ],
   "source": [
    "!grep \"28bf85082548d49c8d3b2793064a2fae0f417562\" trnL_cluster_OTU_table_f1_basics2_cut2phyloseq2.tab"
   ]
  },
  {
   "cell_type": "markdown",
   "metadata": {},
   "source": [
    "We observe that Rosaceae Prunus sunhangii is more abundant in Prunuspersica_b sample."
   ]
  },
  {
   "cell_type": "code",
   "execution_count": 91,
   "metadata": {},
   "outputs": [
    {
     "name": "stdout",
     "output_type": "stream",
     "text": [
      "967e951648145482fcc47f85b2a3530bec26d552\tEukaryota\tStreptophyta\tMagnoliopsida\tApiales\tApiaceae\tSelinum\tcarvifolia\t100.000\t33003\n"
     ]
    }
   ],
   "source": [
    "!grep \"967e951648145482fcc47f85b2a3530bec26d552\" target95_trnL_OTU_tax_assignments.txt"
   ]
  },
  {
   "cell_type": "code",
   "execution_count": 110,
   "metadata": {},
   "outputs": [
    {
     "name": "stdout",
     "output_type": "stream",
     "text": [
      "amplicon\tAngelicaesinensis_a\tAngelicaesinensis_b\tCarthamustinctorius_a\tCarthamustinctorius_b\tCitrusaurantium_a\tCitrusaurantium_b\tCyperusrotundus_a\tCyperusrotundus_b\tGXZYT_a\tGXZYT_b\tGZFLW_a\tGZFLW_b\tGlycyrrhizauralensis_a\tGlycyrrhizauralensis_b\tGuiZhiFuLingPian_a\tGuiZhiFuLingPian_b\tGuiZhiFuLingTan_a\tGuiZhiFuLingTan_b\tLigusticumchuanxiong_a\tLigusticumchuanxiong_b\tLinderaaggregata_a\tLinderaaggregata_b\tNegativePCR\tNegative\tPaeonialactiflora_a\tPaeonialactiflora_b\tPeoniasuffruticosa_a\tPeoniasuffruticosa_b\tPoriacocos_a\tPoriacocos_b\tPrunuspersica_a\tPrunuspersica_b\tTrogopterusxanthipes_a\tTrogopterusxanthipes_b\n"
     ]
    }
   ],
   "source": [
    "!head -1 trnL_cluster_OTU_table_f1_basics2_cut2phyloseq2.tab"
   ]
  },
  {
   "cell_type": "code",
   "execution_count": 111,
   "metadata": {},
   "outputs": [
    {
     "name": "stdout",
     "output_type": "stream",
     "text": [
      "967e951648145482fcc47f85b2a3530bec26d552\t294\t4\t3\t23\t21\t329\t2\t12\t0\t0\t12723\t0\t9\t5\t754\t32\t21\t13889\t16\t66\t64\t0\t108\t40\t0\t12\t4110\t70\t2\t11\t10\t266\t2\t105\n"
     ]
    }
   ],
   "source": [
    "!grep \"967e951648145482fcc47f85b2a3530bec26d552\" trnL_cluster_OTU_table_f1_basics2_cut2phyloseq2.tab"
   ]
  },
  {
   "cell_type": "markdown",
   "metadata": {},
   "source": [
    "We observe that Apiaceae Selinum carvifolia is more abundant in GuiZhiFuLingTan_b sample."
   ]
  },
  {
   "cell_type": "markdown",
   "metadata": {},
   "source": [
    "\n",
    "Check the top4 OTUs from data_clean dataset"
   ]
  },
  {
   "cell_type": "code",
   "execution_count": 82,
   "metadata": {},
   "outputs": [
    {
     "name": "stdout",
     "output_type": "stream",
     "text": [
      "9319dccb21d181d5ff01c4d084ace1f2bf1d9f87\tEukaryota\tStreptophyta\tMagnoliopsida\tPoales\tPoaceae\tCampeiostachys\tcalcicola\t100.000\t11136\n"
     ]
    }
   ],
   "source": [
    "!grep \"9319dccb21d181d5ff01c4d084ace1f2bf1d9f87\" target95_trnL_OTU_tax_assignments.txt"
   ]
  },
  {
   "cell_type": "code",
   "execution_count": 99,
   "metadata": {},
   "outputs": [
    {
     "name": "stdout",
     "output_type": "stream",
     "text": [
      "amplicon\tAngelicaesinensis_a\tAngelicaesinensis_b\tCarthamustinctorius_a\tCarthamustinctorius_b\tCitrusaurantium_a\tCitrusaurantium_b\tCyperusrotundus_a\tCyperusrotundus_b\tGXZYT_a\tGXZYT_b\tGZFLW_a\tGZFLW_b\tGlycyrrhizauralensis_a\tGlycyrrhizauralensis_b\tGuiZhiFuLingPian_a\tGuiZhiFuLingPian_b\tGuiZhiFuLingTan_a\tGuiZhiFuLingTan_b\tLigusticumchuanxiong_a\tLigusticumchuanxiong_b\tLinderaaggregata_a\tLinderaaggregata_b\tNegativePCR\tNegative\tPaeonialactiflora_a\tPaeonialactiflora_b\tPeoniasuffruticosa_a\tPeoniasuffruticosa_b\tPoriacocos_a\tPoriacocos_b\tPrunuspersica_a\tPrunuspersica_b\tTrogopterusxanthipes_a\tTrogopterusxanthipes_b\n"
     ]
    }
   ],
   "source": [
    "!head -1 trnL_cluster_OTU_table_f1_basics2_cut2phyloseq2.tab"
   ]
  },
  {
   "cell_type": "code",
   "execution_count": 98,
   "metadata": {},
   "outputs": [
    {
     "name": "stdout",
     "output_type": "stream",
     "text": [
      "9319dccb21d181d5ff01c4d084ace1f2bf1d9f87\t0\t0\t1\t9\t0\t0\t746\t0\t0\t0\t0\t6\t0\t202\t0\t8\t10152\t4\t0\t0\t0\t0\t0\t0\t0\t0\t0\t0\t2\t0\t0\t0\t0\t6\n"
     ]
    }
   ],
   "source": [
    "!grep \"9319dccb21d181d5ff01c4d084ace1f2bf1d9f87\" trnL_cluster_OTU_table_f1_basics2_cut2phyloseq2.tab"
   ]
  },
  {
   "cell_type": "markdown",
   "metadata": {},
   "source": [
    "We observe that Poaceae Campeiostachys calcicola is more abundant in GuiZhiFuLingTan_a sample."
   ]
  },
  {
   "cell_type": "code",
   "execution_count": 83,
   "metadata": {},
   "outputs": [
    {
     "name": "stdout",
     "output_type": "stream",
     "text": [
      "d9e0449e3f64c10837e21c2f3fb744969044482d\tEukaryota\tStreptophyta\tMagnoliopsida\tPoales\tPoaceae\tCampeiostachys\tcalcicola\t100.000\t13459\n"
     ]
    }
   ],
   "source": [
    "!grep \"d9e0449e3f64c10837e21c2f3fb744969044482d\" target95_trnL_OTU_tax_assignments.txt"
   ]
  },
  {
   "cell_type": "code",
   "execution_count": 97,
   "metadata": {},
   "outputs": [
    {
     "name": "stdout",
     "output_type": "stream",
     "text": [
      "amplicon\tAngelicaesinensis_a\tAngelicaesinensis_b\tCarthamustinctorius_a\tCarthamustinctorius_b\tCitrusaurantium_a\tCitrusaurantium_b\tCyperusrotundus_a\tCyperusrotundus_b\tGXZYT_a\tGXZYT_b\tGZFLW_a\tGZFLW_b\tGlycyrrhizauralensis_a\tGlycyrrhizauralensis_b\tGuiZhiFuLingPian_a\tGuiZhiFuLingPian_b\tGuiZhiFuLingTan_a\tGuiZhiFuLingTan_b\tLigusticumchuanxiong_a\tLigusticumchuanxiong_b\tLinderaaggregata_a\tLinderaaggregata_b\tNegativePCR\tNegative\tPaeonialactiflora_a\tPaeonialactiflora_b\tPeoniasuffruticosa_a\tPeoniasuffruticosa_b\tPoriacocos_a\tPoriacocos_b\tPrunuspersica_a\tPrunuspersica_b\tTrogopterusxanthipes_a\tTrogopterusxanthipes_b\n"
     ]
    }
   ],
   "source": [
    "!head -1 trnL_cluster_OTU_table_f1_basics2_cut2phyloseq2.tab"
   ]
  },
  {
   "cell_type": "code",
   "execution_count": 96,
   "metadata": {},
   "outputs": [
    {
     "name": "stdout",
     "output_type": "stream",
     "text": [
      "d9e0449e3f64c10837e21c2f3fb744969044482d\t1\t0\t0\t1\t0\t1\t12869\t38\t0\t0\t0\t0\t3\t0\t0\t1\t524\t1\t0\t0\t1\t0\t0\t0\t0\t0\t1\t0\t4\t0\t0\t0\t14\t0\n"
     ]
    }
   ],
   "source": [
    "!grep \"d9e0449e3f64c10837e21c2f3fb744969044482d\" trnL_cluster_OTU_table_f1_basics2_cut2phyloseq2.tab"
   ]
  },
  {
   "cell_type": "markdown",
   "metadata": {},
   "source": [
    "We observe that Poaceae Campeiostachys calcicola is also more abundant in Cyperusrotundus_a sample."
   ]
  },
  {
   "cell_type": "code",
   "execution_count": 84,
   "metadata": {},
   "outputs": [
    {
     "name": "stdout",
     "output_type": "stream",
     "text": [
      "785131f35679fb33afaedf6919f8ec30539638bc\tEukaryota\tStreptophyta\tPinopsida\tNA\tCupressaceae\tThuja\tsp.\t100.000\t13999\n"
     ]
    }
   ],
   "source": [
    "!grep \"785131f35679fb33afaedf6919f8ec30539638bc\" target95_trnL_OTU_tax_assignments.txt"
   ]
  },
  {
   "cell_type": "code",
   "execution_count": 95,
   "metadata": {},
   "outputs": [
    {
     "name": "stdout",
     "output_type": "stream",
     "text": [
      "amplicon\tAngelicaesinensis_a\tAngelicaesinensis_b\tCarthamustinctorius_a\tCarthamustinctorius_b\tCitrusaurantium_a\tCitrusaurantium_b\tCyperusrotundus_a\tCyperusrotundus_b\tGXZYT_a\tGXZYT_b\tGZFLW_a\tGZFLW_b\tGlycyrrhizauralensis_a\tGlycyrrhizauralensis_b\tGuiZhiFuLingPian_a\tGuiZhiFuLingPian_b\tGuiZhiFuLingTan_a\tGuiZhiFuLingTan_b\tLigusticumchuanxiong_a\tLigusticumchuanxiong_b\tLinderaaggregata_a\tLinderaaggregata_b\tNegativePCR\tNegative\tPaeonialactiflora_a\tPaeonialactiflora_b\tPeoniasuffruticosa_a\tPeoniasuffruticosa_b\tPoriacocos_a\tPoriacocos_b\tPrunuspersica_a\tPrunuspersica_b\tTrogopterusxanthipes_a\tTrogopterusxanthipes_b\n"
     ]
    }
   ],
   "source": [
    "!head -1 trnL_cluster_OTU_table_f1_basics2_cut2phyloseq2.tab"
   ]
  },
  {
   "cell_type": "code",
   "execution_count": 94,
   "metadata": {},
   "outputs": [
    {
     "name": "stdout",
     "output_type": "stream",
     "text": [
      "785131f35679fb33afaedf6919f8ec30539638bc\t1\t1\t0\t0\t0\t3\t0\t0\t18\t0\t8\t0\t0\t1\t0\t30\t3239\t64\t0\t0\t0\t0\t0\t0\t0\t0\t0\t0\t8\t1\t0\t0\t10625\t0\n"
     ]
    }
   ],
   "source": [
    "!grep \"785131f35679fb33afaedf6919f8ec30539638bc\" trnL_cluster_OTU_table_f1_basics2_cut2phyloseq2.tab"
   ]
  },
  {
   "cell_type": "markdown",
   "metadata": {},
   "source": [
    "We observe that Cupressaceae Thuja sp. is more abundant in Trogopterusxanthipes_a sample."
   ]
  },
  {
   "cell_type": "code",
   "execution_count": 112,
   "metadata": {},
   "outputs": [
    {
     "name": "stdout",
     "output_type": "stream",
     "text": [
      "a069993ab97b3f720cf66567bfb1fad838b20dc6\tEukaryota\tStreptophyta\tMagnoliopsida\tLaurales\tLauraceae\tCinnamomum\tcamphora\t100.000\t37670\n"
     ]
    }
   ],
   "source": [
    "!grep \"a069993ab97b3f720cf66567bfb1fad838b20dc6\" target95_trnL_OTU_tax_assignments.txt"
   ]
  },
  {
   "cell_type": "code",
   "execution_count": 113,
   "metadata": {},
   "outputs": [
    {
     "name": "stdout",
     "output_type": "stream",
     "text": [
      "amplicon\tAngelicaesinensis_a\tAngelicaesinensis_b\tCarthamustinctorius_a\tCarthamustinctorius_b\tCitrusaurantium_a\tCitrusaurantium_b\tCyperusrotundus_a\tCyperusrotundus_b\tGXZYT_a\tGXZYT_b\tGZFLW_a\tGZFLW_b\tGlycyrrhizauralensis_a\tGlycyrrhizauralensis_b\tGuiZhiFuLingPian_a\tGuiZhiFuLingPian_b\tGuiZhiFuLingTan_a\tGuiZhiFuLingTan_b\tLigusticumchuanxiong_a\tLigusticumchuanxiong_b\tLinderaaggregata_a\tLinderaaggregata_b\tNegativePCR\tNegative\tPaeonialactiflora_a\tPaeonialactiflora_b\tPeoniasuffruticosa_a\tPeoniasuffruticosa_b\tPoriacocos_a\tPoriacocos_b\tPrunuspersica_a\tPrunuspersica_b\tTrogopterusxanthipes_a\tTrogopterusxanthipes_b\n"
     ]
    }
   ],
   "source": [
    "!head -1 trnL_cluster_OTU_table_f1_basics2_cut2phyloseq2.tab"
   ]
  },
  {
   "cell_type": "code",
   "execution_count": 114,
   "metadata": {},
   "outputs": [
    {
     "name": "stdout",
     "output_type": "stream",
     "text": [
      "a069993ab97b3f720cf66567bfb1fad838b20dc6\t0\t2\t0\t0\t0\t5\t4480\t15\t0\t0\t14\t0\t0\t0\t33027\t1\t0\t116\t0\t0\t0\t0\t0\t0\t0\t0\t0\t0\t4\t0\t0\t5\t1\t0\n"
     ]
    }
   ],
   "source": [
    "!grep \"a069993ab97b3f720cf66567bfb1fad838b20dc6\" trnL_cluster_OTU_table_f1_basics2_cut2phyloseq2.tab"
   ]
  },
  {
   "cell_type": "markdown",
   "metadata": {},
   "source": [
    "We observe that Lauraceae Cinnamomum camphorais more abundant in GuiZhiFuLingPian_a sample"
   ]
  }
 ],
 "metadata": {
  "environment": {
   "kernel": "python3",
   "name": "common-cpu.m86",
   "type": "gcloud",
   "uri": "gcr.io/deeplearning-platform-release/base-cpu:m86"
  },
  "kernelspec": {
   "display_name": "Python 3 (ipykernel)",
   "language": "python",
   "name": "python3"
  },
  "language_info": {
   "codemirror_mode": {
    "name": "ipython",
    "version": 3
   },
   "file_extension": ".py",
   "mimetype": "text/x-python",
   "name": "python",
   "nbconvert_exporter": "python",
   "pygments_lexer": "ipython3",
   "version": "3.7.12"
  }
 },
 "nbformat": 4,
 "nbformat_minor": 4
}
