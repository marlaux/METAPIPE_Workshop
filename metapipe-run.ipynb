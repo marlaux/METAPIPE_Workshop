{
 "cells": [
  {
   "cell_type": "markdown",
   "metadata": {},
   "source": [
    "**Let's check the files we have on the machine?**"
   ]
  },
  {
   "cell_type": "code",
   "execution_count": null,
   "metadata": {
    "tags": []
   },
   "outputs": [],
   "source": [
    "%ls"
   ]
  },
  {
   "cell_type": "markdown",
   "metadata": {},
   "source": [
    "**The scripts are organized in a linear workflow, designed as 'steps':**<p>\n",
    "The **DB1_NCBI_download_refs.sh** script **downloads** the target reference sequences from NCBI using the **Entrez Direct** tools,<p>\n",
    "The **DB2_primers_cut.sh** script **cuts** your downloaded reference sequences according to your **project's primers** used to amplify the eDNA,<p>\n",
    "The **DB3_NCBI_lineage.sh** script performs the **taxonomy lineage formatting**, changing the regular NCBI sequences headers to a **parsible lineage header**,<p>\n",
    "The **1_merge_pear.sh** script executes the **merging** of the original Illumina **paired-end fastq R1 and R2 files** using **PEAR** tool,<p>\n",
    "The **2a_preparing_tags_LCPI.pl** script **formats** the mapping file according to **Cutadapt** input format, for the demultiplexing step,<p>\n",
    "The **2b_demulti_dual_index_linked.sh** script executes the **demultiplexing** step, usign the **Cutapadt** tool to parse the sequences according to the **tags design**, atributing each sequence to a **specific sample**,<p>\n",
    "The **3_tag_primer_clipping_clean_derep.sh** script run all the **data cleaning** process, **trimming** and **converting** the sequences to a **fasta** format without **PCR duplicates**, containing the actual **amplicon abundance** information,<p>\n",
    "The **4_clustering_swarm_with_chim_filter.sh** script executes the **clustering** of the amplicons using the **SWARM** tool,<p>\n",
    "The **5_BLAST_options.sh** script runs **BLAST** using the formatted **custom** reference database, generating a **tabular BLAST output**, plus the BLAST input for building the **OTU table** and the **taxonomy assignment table**, formatted as input to the **Data Analysis - R session**<p>\n",
    "The **6a_build_OTU_table.sh** runs the **6a_OTU_contingency_table.py** script, which parses several clustering and data cleaning outputs to build the final **OTU table**,<p>\n",
    "The **6b_filter_OTU_table.sh** script **formats** the OTU_table, **extracting** desired columns/informations and **converting** them to R package **Phyloseq** input format, which will be loaded in the **Data Analysis - R session**.<p>\n",
    "**We also have some pre-formatted files prepared to run some of the scripts, because using a random subsample tiny enough to run fast here, we would not have enough data to analyze. The following files are pre-formatted:**<p>\n",
    "**`Streptophyta_trnL_NCBI.fasta`** --> a complete reference dataset for trnL.<p>\n",
    "**`target_trnL.uniq.fasta`** --> the complete and formatted reference trnL dataset.<p>\n",
    "**`trnL_subsample.assembled.fastq`** --> a non-random subsample with pairs already merged.\n"
   ]
  },
  {
   "cell_type": "markdown",
   "metadata": {},
   "source": [
    "**Let's make all the scripts executable**"
   ]
  },
  {
   "cell_type": "code",
   "execution_count": null,
   "metadata": {},
   "outputs": [],
   "source": [
    "!chmod 777 -R *.sh *.py *.pl"
   ]
  },
  {
   "cell_type": "markdown",
   "metadata": {},
   "source": [
    "Let's start running the **`DB1_NCBI_download_refs.sh`** script. Typing **`-h`** we can check how it is used:"
   ]
  },
  {
   "cell_type": "code",
   "execution_count": null,
   "metadata": {},
   "outputs": [],
   "source": [
    "!bash DB1_NCBI_download_refs.sh -h"
   ]
  },
  {
   "cell_type": "markdown",
   "metadata": {},
   "source": [
    "In order to download the trnL marker sequences for of all Streptophyta taxa, the command would be<p>\n",
    "**`./DB1_NCBI_download_refs.sh -n Streptophyta -t txid35493 -m trnL`**<p>\n",
    "However, this command takes to long, thus its resulting file has already been made available: **Streptophyta_trnL_NCBI.fasta**, as well as the resulting file from the taxonomy lineage editing: **target_trnL.uniq.fasta**.<p>\n",
    "Let's run an example to practice this command. Run the following:<p>"
   ]
  },
  {
   "cell_type": "code",
   "execution_count": null,
   "metadata": {},
   "outputs": [],
   "source": [
    "%%bash\n",
    "./DB1_NCBI_download_refs.sh -n 'Prunus' -t txid3754 -m trnL"
   ]
  },
  {
   "cell_type": "code",
   "execution_count": null,
   "metadata": {
    "tags": []
   },
   "outputs": [],
   "source": [
    "%ls -lht | head"
   ]
  },
  {
   "cell_type": "markdown",
   "metadata": {},
   "source": [
    "We have downloaded the **NCBI rbcL marker** sequences from **Peach**, let's take a look in the **first sequence**, and count the **number of sequences** downloaded:"
   ]
  },
  {
   "cell_type": "code",
   "execution_count": null,
   "metadata": {},
   "outputs": [],
   "source": [
    "!head -2 'Prunus_trnL_NCBI.fasta'"
   ]
  },
  {
   "cell_type": "code",
   "execution_count": null,
   "metadata": {},
   "outputs": [],
   "source": [
    "!grep -c \"^>\" 'Prunus_trnL_NCBI.fasta'"
   ]
  },
  {
   "cell_type": "markdown",
   "metadata": {},
   "source": [
    "If you search for **`\"Paeonia suffruticosa\"+\"trnL\"`** in the nucleotide database using the NCBI web site https://www.ncbi.nlm.nih.gov/, you will see less or more entries. However, in `DB1_NCBI_download_refs.sh` script, the amplicons sequences are downloaded, excluding larger or general sequences, like \"chloroplast, complete genome\" genbank sequences, what makes it different from the browser search sometimes."
   ]
  },
  {
   "cell_type": "markdown",
   "metadata": {},
   "source": [
    "After downloading the sequences file, we will **cut the sequences** according to our **project's primers**, in order to **refine** our reference database with our **target sequence**, and speed up our taxa assignment process:"
   ]
  },
  {
   "cell_type": "code",
   "execution_count": null,
   "metadata": {},
   "outputs": [],
   "source": [
    "!bash DB2_primers_cut.sh -h"
   ]
  },
  {
   "cell_type": "markdown",
   "metadata": {},
   "source": [
    "**Now we are going to run with the complete `Streptophyta_trnL_NCBI.fasta` fasta file:**"
   ]
  },
  {
   "cell_type": "code",
   "execution_count": null,
   "metadata": {
    "tags": []
   },
   "outputs": [],
   "source": [
    "%%bash\n",
    "./DB2_primers_cut.sh \\\n",
    "    -r Prunus_trnL_NCBI.fasta \\\n",
    "    -F GGGCAATCCTGAGCCAA \\\n",
    "    -R CCATTGAGTCTCTGCACCTATC \\\n",
    "    -p Prunus_trnL"
   ]
  },
  {
   "cell_type": "code",
   "execution_count": null,
   "metadata": {},
   "outputs": [],
   "source": [
    "%ls -t | head"
   ]
  },
  {
   "cell_type": "markdown",
   "metadata": {},
   "source": [
    "**Let's check how this data looks like? The sequences were cutted according with our primers.**"
   ]
  },
  {
   "cell_type": "code",
   "execution_count": null,
   "metadata": {},
   "outputs": [],
   "source": [
    "!head -n 4 Prunus_trnL_cutted_references.fasta"
   ]
  },
  {
   "cell_type": "markdown",
   "metadata": {},
   "source": [
    "**Let's begin to format our sequences to properly create a local BLAST database**"
   ]
  },
  {
   "cell_type": "code",
   "execution_count": null,
   "metadata": {},
   "outputs": [],
   "source": [
    "!bash DB3_NCBI_lineage.sh -h"
   ]
  },
  {
   "cell_type": "markdown",
   "metadata": {},
   "source": [
    "**This script does a lot of things:**<p>\n",
    "**1.** extract **accession** code from NCBI references, then<p>\n",
    "**2.** parse **accession to taxid**, then<p>\n",
    "**3.** parse **taxid to lineage**, then<p>\n",
    "**4.** remove NCBI sequences header, and **join edited lineage**, then<p>\n",
    "**5.** remove sequence **duplicates**.<p>"
   ]
  },
  {
   "cell_type": "markdown",
   "metadata": {},
   "source": [
    "To run this script we need to **download** the **`nucl_gb.accession2taxid.gz`** file:"
   ]
  },
  {
   "cell_type": "code",
   "execution_count": null,
   "metadata": {},
   "outputs": [],
   "source": [
    "!wget https://ftp.ncbi.nlm.nih.gov/pub/taxonomy/accession2taxid/nucl_gb.accession2taxid.gz"
   ]
  },
  {
   "cell_type": "markdown",
   "metadata": {},
   "source": [
    "**This command takes a while, even with a little reference database.**"
   ]
  },
  {
   "cell_type": "code",
   "execution_count": null,
   "metadata": {
    "tags": []
   },
   "outputs": [],
   "source": [
    "%%bash\n",
    "./DB3_NCBI_lineage.sh -r Prunus_trnL_cutted_references.fasta -p Prunus_trnL"
   ]
  },
  {
   "cell_type": "markdown",
   "metadata": {},
   "source": [
    "Let's take a look in the **.log** file:"
   ]
  },
  {
   "cell_type": "code",
   "execution_count": null,
   "metadata": {},
   "outputs": [],
   "source": [
    "!tail Prunus_trnL.log"
   ]
  },
  {
   "cell_type": "markdown",
   "metadata": {},
   "source": [
    "Then take a look in the **final formatted reference database**:"
   ]
  },
  {
   "cell_type": "code",
   "execution_count": null,
   "metadata": {},
   "outputs": [],
   "source": [
    "!head Prunus_trnL.uniq.fasta"
   ]
  },
  {
   "cell_type": "markdown",
   "metadata": {},
   "source": [
    "All this process can be done using **BOLD** database as well, let's try with a tiny database:"
   ]
  },
  {
   "cell_type": "markdown",
   "metadata": {},
   "source": [
    "Let's run a search and download using **BOLD database**:"
   ]
  },
  {
   "cell_type": "code",
   "execution_count": null,
   "metadata": {},
   "outputs": [],
   "source": [
    "!bash BOLD_download_refs.sh -h"
   ]
  },
  {
   "cell_type": "code",
   "execution_count": null,
   "metadata": {},
   "outputs": [],
   "source": [
    "%%bash\n",
    "./BOLD_download_refs.sh -t Blattodea -m COI -g Brazil"
   ]
  },
  {
   "cell_type": "markdown",
   "metadata": {},
   "source": [
    "Take a look in the **BOLD** sequences format:"
   ]
  },
  {
   "cell_type": "code",
   "execution_count": null,
   "metadata": {},
   "outputs": [],
   "source": [
    "!head -2 BOLD_Blattodea_COI_Brazil.tsv"
   ]
  },
  {
   "cell_type": "markdown",
   "metadata": {},
   "source": [
    "Pretty different from **NCBI**, right?<p>\n",
    "But the following script generate exactly the same output from the **primers_cut.sh** and **NCBI_lineage.sh** scripts:"
   ]
  },
  {
   "cell_type": "code",
   "execution_count": null,
   "metadata": {},
   "outputs": [],
   "source": [
    "%%bash\n",
    "./BOLD_lineage_primers_cut.sh BOLD_Blattodea_COI_Brazil.tsv GCHCCHGAYATRGCHTTYCC TCDGGRTGNCCRAARAAYCA"
   ]
  },
  {
   "cell_type": "markdown",
   "metadata": {},
   "source": [
    "Take a look in the final **BOLD** formated sequences:"
   ]
  },
  {
   "cell_type": "code",
   "execution_count": null,
   "metadata": {},
   "outputs": [],
   "source": [
    "!head -4 BOLD_Blattodea_COI_Brazil_cut.fasta"
   ]
  },
  {
   "cell_type": "code",
   "execution_count": null,
   "metadata": {},
   "outputs": [],
   "source": [
    "%ls | head"
   ]
  },
  {
   "cell_type": "markdown",
   "metadata": {},
   "source": [
    "**After formatting our taxonomy databse, we will start to work with our sequencing data.**<p>\n",
    "When dealing with **Illumina paired-end** fastq files, R1 and R2, we can choose to work with the **separate** pairs, or **merge** the pairs.<p>\n",
    "This choice must be made even before sending the material for sequencing, as it depends on the **insert size** used in the paired-end sequencing.<p>\n",
    "Most paired-end sequencing designs are planned to be merged, but even so you can choose to let the pairs independent, running the **\"combinatorial\" demultiplexing strategy**.<p>\n",
    "We are not going to run the combinatorial strategy this time.<p>\n",
    "Let's start running the **merge read pairs** with **PEAR** tool:"
   ]
  },
  {
   "cell_type": "code",
   "execution_count": null,
   "metadata": {},
   "outputs": [],
   "source": [
    "!bash 1_merge_pear.sh -h"
   ]
  },
  {
   "cell_type": "markdown",
   "metadata": {},
   "source": [
    "Let's run it using a **random subsample** from the original trnL dataset, since the whole dataset would take some time to run:<p>\n",
    "In order to run the next steps, we are going to use the pre-merged fasta file `trnL_subsample.assembled.fastq`."
   ]
  },
  {
   "cell_type": "code",
   "execution_count": null,
   "metadata": {
    "tags": []
   },
   "outputs": [],
   "source": [
    "%%bash\n",
    "./1_merge_pear.sh \\\n",
    "    -f trnL_S1_L001_R1_001_sub.fastq \\\n",
    "    -r trnL_S1_L001_R2_001_sub.fastq \\\n",
    "    -o trnL_example \\\n",
    "    -p 0.001 \\\n",
    "    -s 20 \\\n",
    "    -t 4"
   ]
  },
  {
   "cell_type": "markdown",
   "metadata": {},
   "source": [
    "We reached **almost 100%** os read pairs merged!<p>\n",
    "The output used in the following steps is the `.assembled.fastq` file."
   ]
  },
  {
   "cell_type": "code",
   "execution_count": null,
   "metadata": {},
   "outputs": [],
   "source": [
    "%ls -lat | head"
   ]
  },
  {
   "cell_type": "markdown",
   "metadata": {},
   "source": [
    "Let's check how the merging step works, by searching the original pairs from the first read pair merged:"
   ]
  },
  {
   "cell_type": "code",
   "execution_count": null,
   "metadata": {},
   "outputs": [],
   "source": [
    "!head -4 trnL_example.assembled.fastq"
   ]
  },
  {
   "cell_type": "markdown",
   "metadata": {},
   "source": [
    "**Let's check how the pair of reads look like?**"
   ]
  },
  {
   "cell_type": "code",
   "execution_count": null,
   "metadata": {},
   "outputs": [],
   "source": [
    "!grep -A 1 \"@M02980:420:000000000-G84WN:1:2101:3414:10035\" trnL_S1_L001_R1_001_sub.fastq"
   ]
  },
  {
   "cell_type": "code",
   "execution_count": null,
   "metadata": {},
   "outputs": [],
   "source": [
    "!grep -A 1 \"@M02980:420:000000000-G84WN:1:2101:3414:10035\" trnL_S1_L001_R2_001_sub.fastq"
   ]
  },
  {
   "cell_type": "markdown",
   "metadata": {},
   "source": [
    "Observe that **TGTTGCGTTTCT**GGGCAATCCTGAGCCAAATCCTGTTTTATTAAAACAAACAAGGGTTTCATAAACCGAGAATAAAAAAGGATAGGTGCAGAGACTCAATGG**GGGCATCTTACG**<p>\n",
    "are the **Forward tag** from **`R1`**:<p>\n",
    "@M02980:420:000000000-G84WN:1:2101:3414:10035 **`1:N:0`**:GTCTACAC+GCCAAGGT<p>\n",
    "**TGTTGCGTTTCT**GGGCAATCCTGAGCCAAATCCTGTTTTATTAAAACAAACAAGGGTTTCATAAACCGAGAATAAAAAAGGATAG...<p>\n",
    "and the **reverse complement of the Forward tag** from **`R2`**:<p>\n",
    "@M02980:420:000000000-G84WN:1:2101:3414:10035 **`2:N:0`**:GTCTACAC+GCCAAGGT<p>\n",
    "**CGTAAGATGCCC**CCATTGAGTCTCTGCACCTATCCTTTTTTATTCTCGGTTTATGAAACCCTTGTTTGTTTTAATAAAACAGGAT...<p>"
   ]
  },
  {
   "cell_type": "markdown",
   "metadata": {},
   "source": [
    "**Observe how the merging works:**<p>\n",
    "<img src=\"merge_paired_end.png\" width=800 height=800 />"
   ]
  },
  {
   "cell_type": "markdown",
   "metadata": {},
   "source": [
    "Now that we know how the merge of the paired-end reads works, let's search for the amplicons from a specific sample:"
   ]
  },
  {
   "cell_type": "markdown",
   "metadata": {},
   "source": [
    "Let's take a look in our original `mapping file`:"
   ]
  },
  {
   "cell_type": "code",
   "execution_count": null,
   "metadata": {},
   "outputs": [],
   "source": [
    "!head trnL_sub_tags.txt"
   ]
  },
  {
   "cell_type": "markdown",
   "metadata": {},
   "source": [
    "According to the **expected orientation** of the **merged paired-end reads** from **Angelicaesinensis_a** sample, we shoul look for the **`5' tag (CACCTTACCTTA)`** in **forward direction**, and the **`3' tag (CCATCACATAGG)`** in **reverse direction**.<p>\n",
    "The 3' tag reverse complement is **`CCTATGTGATGG`**.<p>\n",
    "Let's search for **both tags** in the **same sequence** in our merged file `trnL_subsample.assembled.fastq`:"
   ]
  },
  {
   "cell_type": "markdown",
   "metadata": {},
   "source": [
    "!grep -i \"CACCTTACCTTA\" --color=always trnL_subsample.assembled.fastq | grep -i --color=always \"CCTATGTGATGG\" | head"
   ]
  },
  {
   "cell_type": "code",
   "execution_count": null,
   "metadata": {},
   "outputs": [],
   "source": [
    "!grep -i \"CACCTTACCTTA\" trnL_subsample.assembled.fastq | grep -c -i \"CCTATGTGATGG\""
   ]
  },
  {
   "cell_type": "markdown",
   "metadata": {},
   "source": [
    "After running the **demultiplexing** step, we are going to check if these amplicons will be found in the **Angelicaesinensis_a** sample fasta file."
   ]
  },
  {
   "cell_type": "markdown",
   "metadata": {},
   "source": [
    "**Since we will read tabular files multiple times in the notebook, let's create a function that loads the tabular file, with or without header**"
   ]
  },
  {
   "cell_type": "code",
   "execution_count": null,
   "metadata": {},
   "outputs": [],
   "source": [
    "def get_glimpse_head(in_file, n_lines=10, file_header=True, file_sep='\\t'):\n",
    "    import pandas as pd\n",
    "# read file\n",
    "    if file_header == False:\n",
    "        df = pd.read_csv(in_file, sep=file_sep, header=None).head(n_lines)\n",
    "    else:\n",
    "        df = pd.read_csv(in_file, sep=file_sep).head(n_lines)\n",
    "# return table\n",
    "    return df\n",
    "\n",
    "def get_glimpse_tail(in_file, n_lines=10, file_header=True, file_sep='\\t'):\n",
    "    import pandas as pd\n",
    "# read file\n",
    "    if file_header == False:\n",
    "        df = pd.read_csv(in_file, sep=file_sep, header=None).tail(n_lines)\n",
    "    else:\n",
    "        df = pd.read_csv(in_file, sep=file_sep).tail(n_lines)\n",
    "# return table\n",
    "    return df"
   ]
  },
  {
   "cell_type": "markdown",
   "metadata": {},
   "source": [
    "The following tab file is your **mapping file**, which has three columns, showing the **sample name**, the **5' tag** and the **3' tag** (both in forward direction):"
   ]
  },
  {
   "cell_type": "code",
   "execution_count": null,
   "metadata": {},
   "outputs": [],
   "source": [
    "get_glimpse_tail('trnL_sub_tags.txt', file_header=False)"
   ]
  },
  {
   "cell_type": "markdown",
   "metadata": {},
   "source": [
    "Now let's prepare the **tag-files**, used as input in the **demultiplexing** step:"
   ]
  },
  {
   "cell_type": "markdown",
   "metadata": {},
   "source": [
    "**The following script formats the mapping file according to the tag-design, possible tag-pairs orientation and Cutadapt input format.**\n",
    ">>>For **Illumina merged reads**, type **`linked`**<p>\n",
    ">>>For **Illumina **combinatorial**, type **`combinatorial`**<p>\n",
    ">>>For Illumina **exact paired dual index**, type **`unique`**<p>\n",
    ">>>For **Ion torrent dual index**, type **`ion`**<p>\n",
    ">>>For Ion dual index **3' anchored**, type **`ion3`**<p>\n",
    ">>>For Ion dual index **5' anchored**, **`ion5`**\n",
    ">>>For Ion dual index **both anchored**, type **`ion-both`**"
   ]
  },
  {
   "cell_type": "code",
   "execution_count": null,
   "metadata": {},
   "outputs": [],
   "source": [
    "%%bash \n",
    "perl 2a_preparing_tags_LCPI.pl trnL_sub_tags.txt linked"
   ]
  },
  {
   "cell_type": "code",
   "execution_count": null,
   "metadata": {},
   "outputs": [],
   "source": [
    "%ls -lat | head"
   ]
  },
  {
   "cell_type": "code",
   "execution_count": null,
   "metadata": {},
   "outputs": [],
   "source": [
    "!tail Tags_LA1.fa"
   ]
  },
  {
   "cell_type": "markdown",
   "metadata": {},
   "source": [
    "The linked strategy searches for both tags anchored by default, since Cutadapt version 2.0, but it is good to let the signs **^** and **$** to remember that **both** tags are required to demultiplex a sample, otherwise the read is classified as unknown.<p>\n",
    "This anchoring ensures the demultiplexing step, making the **tag jumping** more difficult to disturb your data."
   ]
  },
  {
   "cell_type": "markdown",
   "metadata": {},
   "source": [
    "**Now we are ready to demultiplex our data based on the tag-pairs:**"
   ]
  },
  {
   "cell_type": "markdown",
   "metadata": {},
   "source": [
    "In the next command we are going to use an previously merged file `trnL_subsample.assembled.fastq`, because it would take too long to run **Pear** with it. The `trnL_sub.assembled.fastq` that we just merged is too shallow to run the following steps."
   ]
  },
  {
   "cell_type": "code",
   "execution_count": null,
   "metadata": {},
   "outputs": [],
   "source": [
    "%%bash\n",
    "./2b_demulti_dual_index_linked.sh trnL_subsample.assembled.fastq"
   ]
  },
  {
   "cell_type": "markdown",
   "metadata": {},
   "source": [
    "This script calls for the Tags_LA1-3.fa files from inside!"
   ]
  },
  {
   "cell_type": "markdown",
   "metadata": {},
   "source": [
    "**Let's check how the results are organised and what do they look like**"
   ]
  },
  {
   "cell_type": "code",
   "execution_count": null,
   "metadata": {},
   "outputs": [],
   "source": [
    "%ls -lat | head"
   ]
  },
  {
   "cell_type": "code",
   "execution_count": null,
   "metadata": {},
   "outputs": [],
   "source": [
    "%ls demulti_linked_samples/ | head"
   ]
  },
  {
   "cell_type": "code",
   "execution_count": null,
   "metadata": {},
   "outputs": [],
   "source": [
    "!head demulti_linked_samples/Angelicaesinensis_a_LA.fq"
   ]
  },
  {
   "cell_type": "markdown",
   "metadata": {},
   "source": [
    "Let's check if the proper tag-pair is found in the **Angelicaesinensis_a** sample fasta file:"
   ]
  },
  {
   "cell_type": "code",
   "execution_count": null,
   "metadata": {},
   "outputs": [],
   "source": [
    "!grep \"CACCTTACCTTA\" -i --color=always demulti_linked_samples/Angelicaesinensis_a_LA.fq | grep -i --color=always \"CCTATGTGATGG\" | head"
   ]
  },
  {
   "cell_type": "markdown",
   "metadata": {},
   "source": [
    "Remember that we have count the amplicons with Angelicaesinensis_a tag-pair in the most common orientation (5' tag Forward, 3' tag revcom):"
   ]
  },
  {
   "cell_type": "code",
   "execution_count": null,
   "metadata": {},
   "outputs": [],
   "source": [
    "!grep -i \"CACCTTACCTTA\" trnL_subsample.assembled.fastq | grep -c -i \"CCTATGTGATGG\""
   ]
  },
  {
   "cell_type": "markdown",
   "metadata": {},
   "source": [
    "Let's count this tag-pair in the Angelicaesinensis_a:"
   ]
  },
  {
   "cell_type": "code",
   "execution_count": null,
   "metadata": {},
   "outputs": [],
   "source": [
    "!grep -i \"CACCTTACCTTA\" demulti_linked_samples/Angelicaesinensis_a_LA.fq | grep -c -i \"CCTATGTGATGG\""
   ]
  },
  {
   "cell_type": "markdown",
   "metadata": {},
   "source": [
    "Pretty similar, right? Only 8 sequences were discarded."
   ]
  },
  {
   "cell_type": "markdown",
   "metadata": {},
   "source": [
    "**The next step is the `read cleaning` preprocessing:**"
   ]
  },
  {
   "cell_type": "markdown",
   "metadata": {},
   "source": [
    "The following script executes the **read cleaning**, involving **several sub-steps** within code:"
   ]
  },
  {
   "cell_type": "code",
   "execution_count": null,
   "metadata": {},
   "outputs": [],
   "source": [
    "!bash 3_tag_primer_clipping_clean_derep.sh -h"
   ]
  },
  {
   "cell_type": "markdown",
   "metadata": {},
   "source": [
    "The script starts removing tags and primers using **cutadapt**, storing the resulting sequences in the **clip_out/tag_clip**<p>\n",
    "and **clip_out/primer_clip** directories, allowing for further checking of read cleaning procedure/performance.<p>\n",
    "Then **sequences containing Ns** are **discarded**, Illumina read names are replaced by **hashes**, **expected error rates** (ee) are **added** and the files are **converted to fasta**.<p>\n",
    "The **quality file** is built, using the ee and read length of each sequence.<p>\n",
    "Finally, the **dereplication** is done using **VSEARCH**, which **removes exact duplicates**, adding the **read abundance** information to each sequence header.<p>"
   ]
  },
  {
   "cell_type": "code",
   "execution_count": null,
   "metadata": {},
   "outputs": [],
   "source": [
    "%%bash\n",
    "./3_tag_primer_clipping_clean_derep.sh \\\n",
    "    -b trnL_sub_tags.txt \\\n",
    "    -F GGGCAATCCTGAGCCAA \\\n",
    "    -R CCATTGAGTCTCTGCACCTATC \\\n",
    "    -f TTGGCTCAGGATTGCCC \\\n",
    "    -r GATAGGTGCAGAGACTCAATGG \\\n",
    "    -p trnL_sub \\\n",
    "    -l 30 \\\n",
    "    -d /home/jupyter/METAPIPE_Workshop2021/demulti_linked_samples"
   ]
  },
  {
   "cell_type": "markdown",
   "metadata": {},
   "source": [
    "**Let's take a look on the results:**"
   ]
  },
  {
   "cell_type": "code",
   "execution_count": null,
   "metadata": {},
   "outputs": [],
   "source": [
    "%ls -lat | head"
   ]
  },
  {
   "cell_type": "markdown",
   "metadata": {},
   "source": [
    "First, Let's check the **distribuition of the qualities**:"
   ]
  },
  {
   "cell_type": "code",
   "execution_count": null,
   "metadata": {},
   "outputs": [],
   "source": [
    "# Import the necessary modules\n",
    "import matplotlib.pyplot as plt\n",
    "import seaborn as sns\n",
    "import pandas as pd\n",
    "\n",
    "# Initialize the lists for X and Y\n",
    "data = pd.read_csv('trnL_sub.qual', sep='\\t')\n",
    "\n",
    "df = pd.DataFrame(data)\n",
    "\n",
    "# distribution based on column 2 from file\n",
    "dist_plot = sns.displot(df.iloc[:, 1], bins=15)\n",
    "\n",
    "# show plot with custom width\n",
    "dist_plot.fig.set_figwidth(10)\n",
    "plt.ylabel(\"Distribution of qualities\")"
   ]
  },
  {
   "cell_type": "markdown",
   "metadata": {},
   "source": [
    "As expected, we have **very low error rates**, that's **pretty good!**"
   ]
  },
  {
   "cell_type": "markdown",
   "metadata": {},
   "source": [
    "Now, let's check our **read cleaning processing**:"
   ]
  },
  {
   "cell_type": "markdown",
   "metadata": {},
   "source": [
    "First, take a look again in the tag-pair found in **lowercase** in the demultiplexed sequences:"
   ]
  },
  {
   "cell_type": "code",
   "execution_count": null,
   "metadata": {},
   "outputs": [],
   "source": [
    "!head -2 demulti_linked_samples/Angelicaesinensis_a_LA.fq"
   ]
  },
  {
   "cell_type": "markdown",
   "metadata": {},
   "source": [
    "Let's chack again the tag-pair for **Angelicaesinensis_a** sample:"
   ]
  },
  {
   "cell_type": "code",
   "execution_count": null,
   "metadata": {},
   "outputs": [],
   "source": [
    "!grep \"Angelicaesinensis_a\" trnL_sub_tags.txt"
   ]
  },
  {
   "cell_type": "markdown",
   "metadata": {},
   "source": [
    "Now, take a look in the **clip_out/tag_clip** output sequences:"
   ]
  },
  {
   "cell_type": "code",
   "execution_count": null,
   "metadata": {},
   "outputs": [],
   "source": [
    "!head -2 clip_out/tag_clip/Angelicaesinensis_a_trim1.fq"
   ]
  },
  {
   "cell_type": "markdown",
   "metadata": {},
   "source": [
    "<p>As you can see in the mapping file, the 5&apos; tag is in forward direction <strong>caccttacctta</strong>, and the 3&apos; tag is the reverse complement of the reverse tag <strong>cctatgtgatgg&nbsp;</strong>(prom R2 pair-end read), configuring the tags orientation found in the <strong>Barcodes_LA3.fa</strong> file, which is the most common tag orientation in <strong>merged Illumina paired-end reads</strong>.</p>\n",
    "<p>Right after the tags in lowercase, we can see the the <strong>3&apos; primer in forward direction</strong> CCATTGAGTCTCTGCACCTATC, the <strong>amplicon </strong>and the <strong>5&apos; primer in reverse direction</strong>.</p>"
   ]
  },
  {
   "cell_type": "markdown",
   "metadata": {},
   "source": [
    "caccttacctta**CCATTGAGTCTCTGCACCTATC**`CCCTTCCTATCTTAGGAGAAGAAACATTGTCTTCATGAACCGGAT`**TTGGCTCAGGATTGCCC**cctatgtgatgg"
   ]
  },
  {
   "cell_type": "markdown",
   "metadata": {},
   "source": [
    "This amplicon is **3'->5'** oriented.<p>\n",
    "In the **`5'`** we find the `Reverse primer`, and in the **`3'`** we find the `Forward primer`, reverse complement."
   ]
  },
  {
   "cell_type": "markdown",
   "metadata": {},
   "source": [
    "Observe now in the **primer_clip** output the **primer removal**:"
   ]
  },
  {
   "cell_type": "code",
   "execution_count": null,
   "metadata": {},
   "outputs": [],
   "source": [
    "!head -2 clip_out/primer_clip/Angelicaesinensis_a_trim2.fq"
   ]
  },
  {
   "cell_type": "markdown",
   "metadata": {},
   "source": [
    "And finally, the **dereplicated** samples' sequences:"
   ]
  },
  {
   "cell_type": "code",
   "execution_count": null,
   "metadata": {},
   "outputs": [],
   "source": [
    "!head -2 dereplicated/Angelicaesinensis_a_dp.fasta"
   ]
  },
  {
   "cell_type": "markdown",
   "metadata": {},
   "source": [
    "In the **dereplicated** samples, we have our **trimmed**, clean amplicons, with proper **hash names** and **abundance** \"size\" information."
   ]
  },
  {
   "cell_type": "markdown",
   "metadata": {},
   "source": [
    "**How many sequences were lost during the read cleaning step?**"
   ]
  },
  {
   "cell_type": "markdown",
   "metadata": {},
   "source": [
    "First, let's **count** the amount of **reads** for each **sample** right after the demultiplexing step:"
   ]
  },
  {
   "cell_type": "code",
   "execution_count": null,
   "metadata": {},
   "outputs": [],
   "source": [
    "%%bash\n",
    "./count_fastq_sequences.sh demulti_linked_samples/*.fq > demulti_count_trnL.txt"
   ]
  },
  {
   "cell_type": "code",
   "execution_count": null,
   "metadata": {},
   "outputs": [],
   "source": [
    "!head demulti_count_trnL.txt"
   ]
  },
  {
   "cell_type": "markdown",
   "metadata": {},
   "source": [
    "**We are ready to run the clustering step, which groups the amplicons by nucleotide similarity, creating the OTUs `(Operational Taxonomic Units)`, called by different names all the time. Basically, clustered similar amplicons.**"
   ]
  },
  {
   "cell_type": "code",
   "execution_count": null,
   "metadata": {
    "tags": []
   },
   "outputs": [],
   "source": [
    "%%bash\n",
    "./4_clustering_swarm_with_chim_filter.sh trnL_sub /home/jupyter/METAPIPE_Workshop2021/dereplicated"
   ]
  },
  {
   "cell_type": "markdown",
   "metadata": {},
   "source": [
    "You may check SWARM documentation here: https://github.com/torognes/swarm"
   ]
  },
  {
   "cell_type": "markdown",
   "metadata": {},
   "source": [
    "**Let's check what was produced?**"
   ]
  },
  {
   "cell_type": "code",
   "execution_count": null,
   "metadata": {},
   "outputs": [],
   "source": [
    "%ls -lat | head"
   ]
  },
  {
   "cell_type": "markdown",
   "metadata": {},
   "source": [
    "The `_representatives.fas` presents the representative sequence of each OTU, in fasta format, and respective OTU abundance."
   ]
  },
  {
   "cell_type": "code",
   "execution_count": null,
   "metadata": {},
   "outputs": [],
   "source": [
    "!head -4 trnL_sub_cluster_representatives.fas"
   ]
  },
  {
   "cell_type": "markdown",
   "metadata": {},
   "source": [
    "The `_representatives2blast.fas` is the same output as `_representatives.fas`, but the abundance information is edited in order to facilitate the Blast header parsing."
   ]
  },
  {
   "cell_type": "code",
   "execution_count": null,
   "metadata": {},
   "outputs": [],
   "source": [
    "!head -4 trnL_sub_cluster_representatives2blast.fas"
   ]
  },
  {
   "cell_type": "markdown",
   "metadata": {},
   "source": [
    "The `.stats` output is very important, because it holds the **quantitative metrics** for each OTU:<p>"
   ]
  },
  {
   "cell_type": "code",
   "execution_count": null,
   "metadata": {},
   "outputs": [],
   "source": [
    "!head -4 trnL_sub_cluster.stats"
   ]
  },
  {
   "cell_type": "markdown",
   "metadata": {},
   "source": [
    "1.number of unique sequences in the OTU,<p>\n",
    "2.**total abundance of sequences in the OTU**,<p>\n",
    "3.**identifier of the initial seed (the amplicon)**,<p>\n",
    "4.initial seed abundance,<p>\n",
    "5.number of sequences with an abundance of 1 in the OTU (singletons),<p>\n",
    "6.maximum number of iterations before the OTU reached its natural limit,<p>\n",
    "7.cummulated number of steps along the path joining the seed and the furthermost amplicon in the OTU.<p>"
   ]
  },
  {
   "cell_type": "markdown",
   "metadata": {},
   "source": [
    "The `.uchime` output shows the chimera checking metrics:"
   ]
  },
  {
   "cell_type": "code",
   "execution_count": null,
   "metadata": {},
   "outputs": [],
   "source": [
    "get_glimpse_head('trnL_sub_cluster_representatives.uchime', file_header=False, n_lines=4)"
   ]
  },
  {
   "cell_type": "markdown",
   "metadata": {},
   "source": [
    "... which in this case are all *non-chimeras*:"
   ]
  },
  {
   "cell_type": "code",
   "execution_count": null,
   "metadata": {},
   "outputs": [],
   "source": [
    "!grep -c \"T\" trnL_sub_cluster_representatives.uchime "
   ]
  },
  {
   "cell_type": "markdown",
   "metadata": {},
   "source": [
    "**Now we are ready to perform the BLAST alignment of the representative seeds `(OTU representatives)` against our reference database previously formatted:**"
   ]
  },
  {
   "cell_type": "markdown",
   "metadata": {},
   "source": [
    "We are going to run the following steps using the **complete `Streptophyta_trnL_NCBI.fasta` database** previously downloaded, and the respective **`target_trnL.uniq.fasta`** fasta with the formatted **taxonomy lineage** headers."
   ]
  },
  {
   "cell_type": "code",
   "execution_count": null,
   "metadata": {},
   "outputs": [],
   "source": [
    "!bash 5_BLAST_options.sh -h"
   ]
  },
  {
   "cell_type": "code",
   "execution_count": null,
   "metadata": {},
   "outputs": [],
   "source": [
    "%%bash\n",
    "./5_BLAST_options.sh \\\n",
    "    -f trnL_sub_cluster_representatives2blast.fas \\\n",
    "    -d target_trnL.uniq.fasta -s 0.95 -c 0.5 -t 4 -o target95_trnL"
   ]
  },
  {
   "cell_type": "markdown",
   "metadata": {},
   "source": [
    "ATTENTION: if you would like to run the search against the entire `NT` NCBI database, run The BLAST command above using `-d NT`."
   ]
  },
  {
   "cell_type": "code",
   "execution_count": null,
   "metadata": {},
   "outputs": [],
   "source": [
    "%ls -lat | head"
   ]
  },
  {
   "cell_type": "markdown",
   "metadata": {},
   "source": [
    "**Let's get a glimpse of the BLAST result?**"
   ]
  },
  {
   "cell_type": "code",
   "execution_count": null,
   "metadata": {},
   "outputs": [],
   "source": [
    "get_glimpse_head('target95_trnL_local_blast.tab', file_header=False)"
   ]
  },
  {
   "cell_type": "markdown",
   "metadata": {},
   "source": [
    "Now converting the abundance information into a column:"
   ]
  },
  {
   "cell_type": "code",
   "execution_count": null,
   "metadata": {},
   "outputs": [],
   "source": [
    "get_glimpse_head('Blast_results_formatted2OTUtable.tab', file_header=False)"
   ]
  },
  {
   "cell_type": "markdown",
   "metadata": {},
   "source": [
    "And finally formatting the BLAST output as the **taxa assignment table**, required to run the **data analysis** process using R packages, mostly the **Phyloseq** package: "
   ]
  },
  {
   "cell_type": "code",
   "execution_count": null,
   "metadata": {},
   "outputs": [],
   "source": [
    "get_glimpse_head('target95_trnL_OTU_tax_assignments.txt', file_header=True)"
   ]
  },
  {
   "cell_type": "markdown",
   "metadata": {},
   "source": [
    "We can get some interesting information right here, with out **taxa assignment table**:"
   ]
  },
  {
   "cell_type": "markdown",
   "metadata": {},
   "source": [
    "**Let's check the distribuition reads per Family?**"
   ]
  },
  {
   "cell_type": "code",
   "execution_count": null,
   "metadata": {},
   "outputs": [],
   "source": [
    "# Import the necessary modules\n",
    "import matplotlib.pyplot as plt\n",
    "import seaborn as sns\n",
    "import pandas as pd\n",
    "\n",
    "# Initialize the lists for X and Y\n",
    "data = pd.read_csv('target95_trnL_OTU_tax_assignments.txt', sep='\\t')\n",
    "\n",
    "df = pd.DataFrame(data).sort_values('OTU_abundance')\n",
    "\n",
    "# distribution (histogram) based on column 2 from file\n",
    "dist_plot = sns.displot(df['Family'], bins=15)\n",
    "\n",
    "# show plot with custom width\n",
    "dist_plot.fig.set_figwidth(14)\n",
    "plt.xticks(rotation='vertical')\n",
    "plt.ylabel(\"Number of reads\")"
   ]
  },
  {
   "cell_type": "markdown",
   "metadata": {},
   "source": [
    "Without doing any data analysis, we already know that our most abundant Families are **`Poaceae`**, **`Apiaceae`**, and **`Fabaceae`**, respectively."
   ]
  },
  {
   "cell_type": "markdown",
   "metadata": {},
   "source": [
    "**How about the total count of OTUs by Family?**<p>\n",
    "The count of distinct OTUs found within a taxa rank is considered one of the alpha-diversity/richness metrics."
   ]
  },
  {
   "cell_type": "code",
   "execution_count": null,
   "metadata": {},
   "outputs": [],
   "source": [
    "# Import the necessary modules\n",
    "import matplotlib.pyplot as plt\n",
    "import numpy as np\n",
    "import seaborn as sns\n",
    "import pandas as pd\n",
    "\n",
    "# Initialize the lists for X and Y\n",
    "data = pd.read_csv('target95_trnL_OTU_tax_assignments.txt', sep='\\t')\n",
    "\n",
    "df = pd.DataFrame(data).sort_values('Family').groupby(['Family'])\n",
    "\n",
    "otus_by_family = df['OTU_abundance'].agg([np.sum]).reset_index().sort_values('sum')\n",
    "\n",
    "# distribution (histogram) based on column 2 from file\n",
    "bar_plot = sns.barplot(x='Family', y='sum', data=otus_by_family)\n",
    "\n",
    "# show plot with custom width\n",
    "sns.set(rc={'figure.figsize':(20,10)})\n",
    "plt.xticks(rotation='vertical')\n",
    "plt.ylabel(\"Total OTU count\")\n",
    "bar_plot"
   ]
  },
  {
   "cell_type": "markdown",
   "metadata": {},
   "source": [
    "Now we know that **`Poaceae`** and **`Apiaceae`** are the most abundant and present also the higher richness of OTUs. The amount of distinct OTUs observed for **`Fabaceae`** Family indicates that, besides having higher abundance, it is not directly related to richness."
   ]
  },
  {
   "cell_type": "markdown",
   "metadata": {},
   "source": [
    "**The final step of METAPIPE is the OTU table building.**<p>\n",
    "Let's check the **required inputs**:<p>\n",
    "`trnL_sub_cluster_representatives.fas` > the amplicon identification (seed),<p>\n",
    "`trnL_sub_cluster.stats` > the quantitative metrics, as the OTU abundance,<p> \n",
    "`trnL_sub_cluster.swarms` > the distribution of the `amplicon/seeds/OTU` throughout the samples,<p>\n",
    "`trnL_sub_cluster_representatives.uchime` > the identification of chimeras,<p>\n",
    "`trnL_sub.qual` > the error rate and read length information,<p>\n",
    "`Blast_results_formatted2OTUtable.tab` > the taxonomic assignment and lineage,<p>\n",
    "`/home/jupyter/METAPIPE_Workshop2021/dereplicated` > all the sequences per sample.<p>"
   ]
  },
  {
   "cell_type": "code",
   "execution_count": null,
   "metadata": {
    "tags": []
   },
   "outputs": [],
   "source": [
    " %%bash\n",
    "./6a_build_OTU_table.sh \\\n",
    "    trnL_sub_cluster_representatives.fas \\\n",
    "    trnL_sub.qual \\\n",
    "    Blast_results_formatted2OTUtable.tab \\\n",
    "    /home/jupyter/METAPIPE_Workshop2021/dereplicated"
   ]
  },
  {
   "cell_type": "code",
   "execution_count": null,
   "metadata": {},
   "outputs": [],
   "source": [
    "%ls -t | head"
   ]
  },
  {
   "cell_type": "code",
   "execution_count": null,
   "metadata": {},
   "outputs": [],
   "source": [
    "get_glimpse_head('trnL_sub_cluster_OTU_table_complete.tab', file_header=True)"
   ]
  },
  {
   "cell_type": "markdown",
   "metadata": {},
   "source": [
    "Take a look on each column meaning:<p>\n",
    "**OTU** > each OTU gets a number,<p>\n",
    "**total** > total number of reads in the OTU (OTU abundance),<p>\n",
    "**cloud** > total number of unique sequences in the OTU,<p>\n",
    "**amplicon** > identifier of the OTU/seed representative,<p>\n",
    "**length** > length of the OTU representative,<p>\n",
    "**abundance** > abundance of the OTU representative (not the OTU cluster),<p>\n",
    "**chimera** > is it a chimera? Yes, No, ?,<p>\n",
    "**spread** > number of samples where the OTU occurs (important for ecological filterings),<p>\n",
    "**quality** > minimum expected error observed for the OTU representative, divided by sequence length,<p>\n",
    "**sequence** > sequence of the OTU representative (amplicon),<p>\n",
    "**identity** > BLAST similarity of the OTU representative with reference sequences,<p>\n",
    "**taxonomy** > taxonomic assignment of the OTU representative (lineage),<p>\n",
    "**samples** > each sample as a column, with respective reads abundance."
   ]
  },
  {
   "cell_type": "markdown",
   "metadata": {},
   "source": [
    "The **OTU table** originally generated has **all information possible**, allowing for searches and queries within it.<p>\n",
    "To load the OTU table in R, we need to filter the complete table, in order to have only the **4.amplicon** column, and all the **samples** columns.<p>\n",
    "We can do this by only selecting the above mentioned columns, using a command like this:<p>\n",
    "`cat trnL_sub_cluster_OTU_table_complete.tab | cut -f 4,14- > trnL_sub_cluster_OTU_table_cut2phyloseq2.tab`<p>"
   ]
  },
  {
   "cell_type": "code",
   "execution_count": null,
   "metadata": {},
   "outputs": [],
   "source": [
    "cat trnL_sub_cluster_OTU_table_complete.tab | cut -f 4,14- | head -4"
   ]
  },
  {
   "cell_type": "markdown",
   "metadata": {},
   "source": [
    "Or starting the Data Analysis preprocessing, by choosing some important thresholds, like:<p>\n",
    "`awk -F \"\\t\" '{ if(($7 == \"N\") && ($2 >= 2)) { print } }'` > which select only *non-chimeras* and OTUs with at least 2 reads (excluding singletons).<p>\n",
    "or even more complex thresholds, like:<p>\n",
    "`awk -F \"\\t\" '{ if(($7 == \"N\") && ($2 >= 5) && ($9<=0.0002) && ($11 >= 97)) { print } }'` > which is selecting *non-chimeras*, OTUs with at least 5 reads, error rate lower than 0.0002 and taxonomic assignment similarity equal or higher than 97.<p>\n",
    "**The following command does 4 preprocessing OTU table filtering and formatting to be load in R:**<p>"
   ]
  },
  {
   "cell_type": "code",
   "execution_count": null,
   "metadata": {},
   "outputs": [],
   "source": [
    "%%bash \n",
    "./6b_filter_OTU_table.sh \\\n",
    "    trnL_sub_cluster_OTU_table_complete.tab \\\n",
    "    trnL_sub.qual"
   ]
  },
  {
   "cell_type": "code",
   "execution_count": null,
   "metadata": {},
   "outputs": [],
   "source": [
    "%ls -t | head -20"
   ]
  },
  {
   "cell_type": "markdown",
   "metadata": {},
   "source": [
    "Let's take a look in the **`most basic`** **OTU table**, formatted to be loaded in **Phyloseq**:"
   ]
  },
  {
   "cell_type": "code",
   "execution_count": null,
   "metadata": {},
   "outputs": [],
   "source": [
    "get_glimpse_head('trnL_sub_cluster_OTU_table_f1_basics2_cut2phyloseq2.tab')"
   ]
  },
  {
   "cell_type": "markdown",
   "metadata": {},
   "source": [
    "**###################################################################################################################**<p>\n",
    "**THE FOLLOWING COMMANDS ARE PART OF THE DATA ANALYSIS, WHICH WILL BE RUN USING THE THIRD NOTEBOOK `metapipe-r.ipynb`**<p>\n",
    "**By running the Data Analysis steps using the R Notebook, `you will be redirected to this point, in this Notebook`.**<p>\n",
    "**LET'S START THE DATA ANALYSIS, OPENING THE `metapipe-r.ipynb` Notebook!!!**\n",
    "**###################################################################################################################**<p>"
   ]
  },
  {
   "cell_type": "markdown",
   "metadata": {},
   "source": [
    "**Now that we have started our `data analysis` in `metapipe-r.ipynb` Notebook, we reached the point where we know which OTUs were amplified in the Negative control samples and we know which of those OTUs are the most abundant.**<p>\n",
    "**Now we are going to explore `who` these Top abundance OTUs are:**"
   ]
  },
  {
   "cell_type": "markdown",
   "metadata": {},
   "source": [
    "The following **`function`** is used to **`visualise`** the distribution of **`OTU abundance`** for each **`selected`** OTU:"
   ]
  },
  {
   "cell_type": "code",
   "execution_count": null,
   "metadata": {},
   "outputs": [],
   "source": [
    "def plot_OTU_bars(amplicon, assignments, nbins, width):\n",
    "    # Import the necessary modules\n",
    "    import matplotlib.pyplot as plt\n",
    "    import numpy as np\n",
    "    import seaborn as sns\n",
    "    import pandas as pd\n",
    "    \n",
    "    # import data\n",
    "    data = pd.read_csv(assignments, sep='\\t')\n",
    "    \n",
    "    # apply filter\n",
    "    selection = pd.DataFrame(data).amplicon.str.contains(amplicon)\n",
    "    df = data[selection].set_index('amplicon').T\n",
    "    df.reset_index(inplace=True)\n",
    "    \n",
    "    # create barplot\n",
    "    bar_plot = sns.barplot(x='index', y=str(amplicon), data=df)\n",
    "\n",
    "    # show plot with custom width\n",
    "    sns.set(rc={'figure.figsize':(width,9)})\n",
    "    plt.xticks(rotation='vertical')\n",
    "    plt.ylabel(\"Abundance\")\n",
    "    plt.xlabel(\"Sample\")\n",
    "    bar_plot\n",
    "\n",
    "    # return results\n",
    "    return bar_plot"
   ]
  },
  {
   "cell_type": "markdown",
   "metadata": {},
   "source": [
    "**We know that in out negative sample `(data_neg subset)`, we have three Top OTUs:**<p>\n",
    "265f74f49f9531de8808b253efa96dc7c320df27<p>\n",
    "94385ff6f775ede0a8b76f5e4f3a9a0de58a4eca<p>\n",
    "c65370ec20a9cdf9089e1983d7c5c3d4227a870<p>\n",
    "**Let's check the Top3 OTUs from `data_neg` looking for `who` they are using our `OTU_tax_assignments.txt` table, and the OTU `abundance distribution` using our `OTU_table_f1_basics2_cut2phyloseq2.tab` table:**"
   ]
  },
  {
   "cell_type": "code",
   "execution_count": null,
   "metadata": {},
   "outputs": [],
   "source": [
    "!grep \"265f74f49f9531de8808b253efa96dc7c320df27\" target95_trnL_OTU_tax_assignments.txt"
   ]
  },
  {
   "cell_type": "code",
   "execution_count": null,
   "metadata": {},
   "outputs": [],
   "source": [
    "plot_OTU_bars(\n",
    "    \"265f74f49f9531de8808b253efa96dc7c320df27\", \n",
    "    \"trnL_sub_cluster_OTU_table_f1_basics2_cut2phyloseq2.tab\", \n",
    "    15,  # number of bins (bars)\n",
    "    10)  # width"
   ]
  },
  {
   "cell_type": "markdown",
   "metadata": {},
   "source": [
    "**We observe that the Top1 OTU assigned as Juglandaceae *Juglans mandshuric* occurrs with high abundance in the `Negative` sample, but presents higher abundance in `Glycyrrhizauralensis_b` and `Paeonialactiflora_b` samples.**"
   ]
  },
  {
   "cell_type": "markdown",
   "metadata": {},
   "source": [
    "Let's check the next Top OTU:"
   ]
  },
  {
   "cell_type": "code",
   "execution_count": null,
   "metadata": {},
   "outputs": [],
   "source": [
    "!grep \"94385ff6f775ede0a8b76f5e4f3a9a0de58a4eca\" target95_trnL_OTU_tax_assignments.txt"
   ]
  },
  {
   "cell_type": "code",
   "execution_count": null,
   "metadata": {},
   "outputs": [],
   "source": [
    "plot_OTU_bars(\n",
    "    \"94385ff6f775ede0a8b76f5e4f3a9a0de58a4eca\", \n",
    "    \"trnL_sub_cluster_OTU_table_f1_basics2_cut2phyloseq2.tab\", \n",
    "    15,  # number of bins (bars)\n",
    "    10)  # width"
   ]
  },
  {
   "cell_type": "markdown",
   "metadata": {},
   "source": [
    "**Similarly, we observe that the Top2 OTU assigned to Dioscoreaceae *Dioscorea japonica* occurrs in the `Negative` sample, but presents much higher abundance in `Ligusticumchuanxiong_b` sample.**"
   ]
  },
  {
   "cell_type": "code",
   "execution_count": null,
   "metadata": {},
   "outputs": [],
   "source": [
    "!grep \"c65370ec20a9cdf9089e1983d7c5c3d4227a870b\" target95_trnL_OTU_tax_assignments.txt"
   ]
  },
  {
   "cell_type": "code",
   "execution_count": null,
   "metadata": {},
   "outputs": [],
   "source": [
    "plot_OTU_bars(\n",
    "    \"c65370ec20a9cdf9089e1983d7c5c3d4227a870b\", \n",
    "    \"trnL_sub_cluster_OTU_table_f1_basics2_cut2phyloseq2.tab\", \n",
    "    15,  # number of bins (bars)\n",
    "    10)  # width"
   ]
  },
  {
   "cell_type": "markdown",
   "metadata": {},
   "source": [
    "**Again, we observe that the Top3 OTU amplified in the `Negative` control sample and also assigned to Dioscoreaceae *Dioscorea japonica* occurrs in relatively low abundance in the `Negative` sample, but presents much higher abundance in `GuiZhiFuLingTan_b` and `GXZYT_a` samples.**"
   ]
  },
  {
   "cell_type": "markdown",
   "metadata": {},
   "source": [
    "**###################################################################################################################**<P>\n",
    "**AT THIS POINT LET'S GO BACK TO `metapipe-r.ipynb` NOTEBOOK TO FIND OUT THE TOP OTUS FROM THE `NegativePCR` CONTROL SAMPLE!**<P>\n",
    "**###################################################################################################################**"
   ]
  },
  {
   "cell_type": "markdown",
   "metadata": {},
   "source": [
    "**Now that we have run the composition analysis of the `Negative PCR` control sample `(data_negPCR subset)`, we know that we have `TWO` Top OTUs to investigate:**<p>\n",
    "**1ad23561fdff8989fd2e4e9a3735a4b8f5633fba**<p>\n",
    "**250a541b1d3823011d21097b0f3880d831e6b92d**"
   ]
  },
  {
   "cell_type": "markdown",
   "metadata": {},
   "source": [
    "**Let's check who these two OTUs amplified in the `Negative PCR` control sample are, and the respective OTU abundance distribution, as we did before:**"
   ]
  },
  {
   "cell_type": "code",
   "execution_count": null,
   "metadata": {},
   "outputs": [],
   "source": [
    "!grep \"1ad23561fdff8989fd2e4e9a3735a4b8f5633fba\" target95_trnL_OTU_tax_assignments.txt"
   ]
  },
  {
   "cell_type": "code",
   "execution_count": null,
   "metadata": {},
   "outputs": [],
   "source": [
    "plot_OTU_bars(\n",
    "    \"1ad23561fdff8989fd2e4e9a3735a4b8f5633fba\", \n",
    "    \"trnL_sub_cluster_OTU_table_f1_basics2_cut2phyloseq2.tab\", \n",
    "    15,  # number of bins (bars)\n",
    "    10)  # width"
   ]
  },
  {
   "cell_type": "markdown",
   "metadata": {},
   "source": [
    "**We observe that the Top1 OTU from `data_negPCR subset`, assigned as Fabaceae *Euchresta horsfieldii*, occurrs with high abundance in the `NegativePCR` sample, but presents highest abundance in `Glycyrrhizauralensis_b` sample.**"
   ]
  },
  {
   "cell_type": "markdown",
   "metadata": {},
   "source": [
    "Let's check the second most abundant OTU:"
   ]
  },
  {
   "cell_type": "code",
   "execution_count": null,
   "metadata": {},
   "outputs": [],
   "source": [
    "!grep \"250a541b1d3823011d21097b0f3880d831e6b92d\" target95_trnL_OTU_tax_assignments.txt"
   ]
  },
  {
   "cell_type": "code",
   "execution_count": null,
   "metadata": {},
   "outputs": [],
   "source": [
    "plot_OTU_bars(\n",
    "    \"250a541b1d3823011d21097b0f3880d831e6b92d\", \n",
    "    \"trnL_sub_cluster_OTU_table_f1_basics2_cut2phyloseq2.tab\", \n",
    "    15,  # number of bins (bars)\n",
    "    10)  # width"
   ]
  },
  {
   "cell_type": "markdown",
   "metadata": {},
   "source": [
    "**We observe that the Top2 OTU from the `NegativePCR` control sample was assigned to Juglandaceae *Juglans mandshuric* (similarly to the Top1 OTU from `data_neg subset`), it occurrs in the `NegativePCR` sample in relatively low abundance, and presents the highest abundance in `GuiZhiFuLingTan_b` sample.**"
   ]
  },
  {
   "cell_type": "markdown",
   "metadata": {},
   "source": [
    "**#############################################################################################################**<P>\n",
    "**AT THIS POINT LET'S GO BACK TO `metapipe-r.ipynb` NOTEBOOK TO FIND OUT THE TOP OTUS FROM THE WHOLE DATASET!!!**<P>\n",
    "**#############################################################################################################**"
   ]
  },
  {
   "cell_type": "markdown",
   "metadata": {},
   "source": [
    "**Now that we know the `SIX` Top OTUs from the whole dataset, let's investigate who they are:**<p>\n",
    "**ac90db76fbae68003ec939d36b9847a46cbfa3c7**<p>\n",
    "**2987db85c9fae5a1464f814e070b7507621e8a57**<p>\n",
    "**addff39eca064dd9caa294721e6a23cab9c331ab**<p>\n",
    "**a069993ab97b3f720cf66567bfb1fad838b20dc6**<p>\n",
    "**28bf85082548d49c8d3b2793064a2fae0f417562**<p>\n",
    "**967e951648145482fcc47f85b2a3530bec26d552**"
   ]
  },
  {
   "cell_type": "markdown",
   "metadata": {},
   "source": [
    "**We can observe already that the Top OTUs amplified in the `Negative` controls are not among the Top OTUs from the whole dataset, this is good.**"
   ]
  },
  {
   "cell_type": "markdown",
   "metadata": {},
   "source": [
    "Let's check one by one again:"
   ]
  },
  {
   "cell_type": "code",
   "execution_count": null,
   "metadata": {},
   "outputs": [],
   "source": [
    "!grep \"ac90db76fbae68003ec939d36b9847a46cbfa3c7\" target95_trnL_OTU_tax_assignments.txt"
   ]
  },
  {
   "cell_type": "code",
   "execution_count": null,
   "metadata": {},
   "outputs": [],
   "source": [
    "plot_OTU_bars(\n",
    "    \"ac90db76fbae68003ec939d36b9847a46cbfa3c7\", \n",
    "    \"trnL_sub_cluster_OTU_table_f1_basics2_cut2phyloseq2.tab\", \n",
    "    15,  # number of bins (bars)\n",
    "    10)  # width"
   ]
  },
  {
   "cell_type": "markdown",
   "metadata": {},
   "source": [
    "**We observe that the Top OTU assigned as Rutaceae *Citrus micrantha* is more abundant in `Citrusaurantium_b` sample.**"
   ]
  },
  {
   "cell_type": "markdown",
   "metadata": {},
   "source": [
    "![Image of Prunus persica](https://i.pinimg.com/564x/63/03/e2/6303e2ca0575aac208367e3670599afd.jpg)"
   ]
  },
  {
   "cell_type": "code",
   "execution_count": null,
   "metadata": {},
   "outputs": [],
   "source": [
    "!grep \"2987db85c9fae5a1464f814e070b7507621e8a57\" target95_trnL_OTU_tax_assignments.txt"
   ]
  },
  {
   "cell_type": "code",
   "execution_count": null,
   "metadata": {},
   "outputs": [],
   "source": [
    "plot_OTU_bars(\n",
    "    \"2987db85c9fae5a1464f814e070b7507621e8a57\", \n",
    "    \"trnL_sub_cluster_OTU_table_f1_basics2_cut2phyloseq2.tab\", \n",
    "    15,  # number of bins (bars)\n",
    "    10)  # width"
   ]
  },
  {
   "cell_type": "markdown",
   "metadata": {},
   "source": [
    "**We observe that the Top OTU assigned as Poaceae *Zea mays* is more abundant in `GZFLW_a` sample.**"
   ]
  },
  {
   "cell_type": "markdown",
   "metadata": {},
   "source": [
    "![Image of Prunus persica](http://socorronacozinha.com.br/wp-content/uploads/2012/08/milho-cozido-manteiga-545x306.jpg)"
   ]
  },
  {
   "cell_type": "code",
   "execution_count": null,
   "metadata": {},
   "outputs": [],
   "source": [
    "!grep \"addff39eca064dd9caa294721e6a23cab9c331ab\" target95_trnL_OTU_tax_assignments.txt"
   ]
  },
  {
   "cell_type": "code",
   "execution_count": null,
   "metadata": {},
   "outputs": [],
   "source": [
    "plot_OTU_bars(\n",
    "    \"addff39eca064dd9caa294721e6a23cab9c331ab\", \n",
    "    \"trnL_sub_cluster_OTU_table_f1_basics2_cut2phyloseq2.tab\", \n",
    "    15,  # number of bins (bars)\n",
    "    10)  # width"
   ]
  },
  {
   "cell_type": "markdown",
   "metadata": {},
   "source": [
    "**We observe that the Top OTU assigned as Apiaceae *Selinum carvifolia* is more abundant in `Angelicaesinensis_a/b`, and `GXZYT_a` samples.**"
   ]
  },
  {
   "cell_type": "markdown",
   "metadata": {},
   "source": [
    "![Image of Prunus persica](https://alchetron.com/cdn/selinum-carvifolia-ba052cc2-9fff-4192-8f97-56186cb42d6-resize-750.jpeg)"
   ]
  },
  {
   "cell_type": "code",
   "execution_count": null,
   "metadata": {},
   "outputs": [],
   "source": [
    "!grep \"a069993ab97b3f720cf66567bfb1fad838b20dc6\" target95_trnL_OTU_tax_assignments.txt"
   ]
  },
  {
   "cell_type": "code",
   "execution_count": null,
   "metadata": {},
   "outputs": [],
   "source": [
    "plot_OTU_bars(\n",
    "    \"a069993ab97b3f720cf66567bfb1fad838b20dc6\", \n",
    "    \"trnL_sub_cluster_OTU_table_f1_basics2_cut2phyloseq2.tab\", \n",
    "    15,  # number of bins (bars)\n",
    "    10)  # width"
   ]
  },
  {
   "cell_type": "markdown",
   "metadata": {},
   "source": [
    "**We observe that the top OTU assigned as Lauraceae *Cinnamomum camphora* is more abundant in `GuiZhiFuLingPian_a` and `Cyperusrotundus_a` samples.**"
   ]
  },
  {
   "cell_type": "markdown",
   "metadata": {},
   "source": [
    "![Image of Prunus persica](https://jb.utad.pt/imagem/7614)"
   ]
  },
  {
   "cell_type": "code",
   "execution_count": null,
   "metadata": {},
   "outputs": [],
   "source": [
    "!grep \"28bf85082548d49c8d3b2793064a2fae0f417562\" target95_trnL_OTU_tax_assignments.txt"
   ]
  },
  {
   "cell_type": "code",
   "execution_count": null,
   "metadata": {},
   "outputs": [],
   "source": [
    "plot_OTU_bars(\n",
    "    \"28bf85082548d49c8d3b2793064a2fae0f417562\", \n",
    "    \"trnL_sub_cluster_OTU_table_f1_basics2_cut2phyloseq2.tab\", \n",
    "    15,  # number of bins (bars)\n",
    "    10)  # width"
   ]
  },
  {
   "cell_type": "markdown",
   "metadata": {},
   "source": [
    "**We observe that the top OTU assigned as Rosaceae *Prunus sunhangii* is more abundant in `Prunuspersica_a/b`, `GXZYT_a` and `GZFLW_a` samples.**"
   ]
  },
  {
   "cell_type": "markdown",
   "metadata": {},
   "source": [
    "![Image of Prunus persica](https://upload.wikimedia.org/wikipedia/commons/thumb/5/5e/Nectarine_Fruit_Development.jpg/800px-Nectarine_Fruit_Development.jpg)"
   ]
  },
  {
   "cell_type": "markdown",
   "metadata": {},
   "source": [
    "**It is a very good sign that we do not have any of the Top OTUs amplified in the `Negative` and `NegativePCR` samples among the general Top OTUs from the whole dataset.**"
   ]
  },
  {
   "cell_type": "markdown",
   "metadata": {},
   "source": [
    "**#############################################################################################################**<P>\n",
    "**AT THIS POINT LET'S GO BACK TO `metapipe-r.ipynb` NOTEBOOK TO RUN THE FOLLOWING DATA ANALYSIS**<p>\n",
    "**#############################################################################################################**"
   ]
  }
 ],
 "metadata": {
  "environment": {
   "kernel": "python3",
   "name": "common-cpu.m87",
   "type": "gcloud",
   "uri": "gcr.io/deeplearning-platform-release/base-cpu:m87"
  },
  "kernelspec": {
   "display_name": "Python 3 (ipykernel)",
   "language": "python",
   "name": "python3"
  },
  "language_info": {
   "codemirror_mode": {
    "name": "ipython",
    "version": 3
   },
   "file_extension": ".py",
   "mimetype": "text/x-python",
   "name": "python",
   "nbconvert_exporter": "python",
   "pygments_lexer": "ipython3",
   "version": "3.7.12"
  }
 },
 "nbformat": 4,
 "nbformat_minor": 4
}
