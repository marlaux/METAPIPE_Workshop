{
 "cells": [
  {
   "cell_type": "markdown",
   "metadata": {},
   "source": [
    "**Let's check the files we have on the machine?**"
   ]
  },
  {
   "cell_type": "code",
   "execution_count": null,
   "metadata": {
    "tags": []
   },
   "outputs": [],
   "source": [
    "%ls"
   ]
  },
  {
   "cell_type": "markdown",
   "metadata": {},
   "source": [
    "**The scripts are organized in a linear workflow, designed as 'steps':**<p>\n",
    "The **DB1_NCBI_download_refs.sh** script **downloads** the target reference sequences from NCBI using the **Entrez Direct** tools,<p>\n",
    "The **DB2_primers_cut.sh** script **cuts** your downloaded reference sequences according to your **project's primers** used to amplify the eDNA,<p>\n",
    "The **DB3_NCBI_lineage.sh** script performs the **taxonomy lineage formatting**, changing the regular NCBI sequences headers to a **parsible lineage header**,<p>\n",
    "The **1_merge_pear.sh** script executes the **merging** of the original Illumina **paired-end fastq R1 and R2 files** using **PEAR** tool,<p>\n",
    "The **2a_preparing_tags_LCPI.pl** script **formats** the mapping file according to **Cutadapt** input format, for the demultiplexing step,<p>\n",
    "The **2b_demulti_dual_index_linked.sh** script executes the **demultiplexing** step, usign the **Cutapadt** tool to parse the sequences according to the **tags design**, atributing each sequence to a **specific sample**,<p>\n",
    "The **3_tag_primer_clipping_clean_derep.sh** script run all the **data cleaning** process, **trimming** and **converting** the sequences to a **fasta** format without **PCR duplicates**, containing the actual **amplicon abundance** information,<p>\n",
    "The **4_clustering_swarm_with_chim_filter.sh** script executes the **clustering** of the amplicons using the **SWARM** tool,<p>\n",
    "The **5_BLAST_options.sh** script runs **BLAST** using the formatted **custom** reference database, generating a **tabular BLAST output**, plus the BLAST input for building the **OTU table** and the **taxonomy assignment table**, formatted as input to the **Data Analysis - R session**<p>\n",
    "The **6a_build_OTU_table.sh** runs the **6a_OTU_contingency_table.py** script, which parses several clustering and data cleaning outputs to build the final **OTU table**,<p>\n",
    "The **6b_filter_OTU_table.sh** script **formats** the OTU_table, **extracting** desired columns/informations and **converting** them to R package **Phyloseq** input format, which will be loaded in the **Data Analysis - R session**.<p>\n",
    "**We also have some pre-formatted files prepared to run some of the scripts, because using a random subsample tiny enough to run fast here, we would not have enough data to analyze. The following files are pre-formatted:**<p>\n",
    "**`Streptophyta_trnL_NCBI.fasta`** --> a complete reference dataset for trnL.<p>\n",
    "**`target_trnL.uniq.fasta`** --> the complete and formatted reference trnL dataset.<p>\n",
    "**`trnL_subsample.assembled.fastq`** --> a non-random subsample with pairs already merged.\n"
   ]
  },
  {
   "cell_type": "markdown",
   "metadata": {},
   "source": [
    "**Let's make all the scripts executable**"
   ]
  },
  {
   "cell_type": "code",
   "execution_count": null,
   "metadata": {},
   "outputs": [],
   "source": [
    "!chmod 777 -R *.sh *.py *.pl"
   ]
  },
  {
   "cell_type": "markdown",
   "metadata": {},
   "source": [
    "Let's start running the **`DB1_NCBI_download_refs.sh`** script. Typing **`-h`** we can check how it is used:"
   ]
  },
  {
   "cell_type": "code",
   "execution_count": null,
   "metadata": {},
   "outputs": [],
   "source": [
    "!bash DB1_NCBI_download_refs.sh -h"
   ]
  },
  {
   "cell_type": "markdown",
   "metadata": {},
   "source": [
    "In order to download the trnL marker sequences for of all Streptophyta taxa, the command would be<p>\n",
    "**`./DB1_NCBI_download_refs.sh -n Streptophyta -t txid35493 -m trnL`**<p>\n",
    "However, this command takes to long, thus its resulting file has already been made available: **Streptophyta_trnL_NCBI.fasta**, as well as the resulting file from the taxonomy lineage editing: **target_trnL.uniq.fasta**.<p>\n",
    "Let's run an example to practice this command. Run the following:<p>"
   ]
  },
  {
   "cell_type": "code",
   "execution_count": null,
   "metadata": {},
   "outputs": [],
   "source": [
    "%%bash\n",
    "./DB1_NCBI_download_refs.sh -n 'Prunus' -t txid3754 -m trnL"
   ]
  },
  {
   "cell_type": "code",
   "execution_count": null,
   "metadata": {
    "tags": []
   },
   "outputs": [],
   "source": [
    "%ls -lht | head"
   ]
  },
  {
   "cell_type": "markdown",
   "metadata": {},
   "source": [
    "We have downloaded the **NCBI rbcL marker** sequences from **Peach**, let's take a look in the **first sequence**, and count the **number of sequences** downloaded:"
   ]
  },
  {
   "cell_type": "code",
   "execution_count": null,
   "metadata": {},
   "outputs": [],
   "source": [
    "!head -2 'Prunus_trnL_NCBI.fasta'"
   ]
  },
  {
   "cell_type": "code",
   "execution_count": null,
   "metadata": {},
   "outputs": [],
   "source": [
    "!grep -c \"^>\" 'Prunus_trnL_NCBI.fasta'"
   ]
  },
  {
   "cell_type": "markdown",
   "metadata": {},
   "source": [
    "If you search for **`\"Paeonia suffruticosa\"+\"trnL\"`** in the nucleotide database using the NCBI web site https://www.ncbi.nlm.nih.gov/, you will see less or more entries. However, in `DB1_NCBI_download_refs.sh` script, the amplicons sequences are downloaded, excluding larger or general sequences, like \"chloroplast, complete genome\" genbank sequences, what makes it different from the browser search sometimes."
   ]
  },
  {
   "cell_type": "markdown",
   "metadata": {},
   "source": [
    "After downloading the sequences file, we will **cut the sequences** according to our **project's primers**, in order to **refine** our reference database with our **target sequence**, and speed up our taxa assignment process:"
   ]
  },
  {
   "cell_type": "code",
   "execution_count": null,
   "metadata": {},
   "outputs": [],
   "source": [
    "!bash DB2_primers_cut.sh -h"
   ]
  },
  {
   "cell_type": "markdown",
   "metadata": {},
   "source": [
    "**Now we are going to run with the complete `Streptophyta_trnL_NCBI.fasta` fasta file:**"
   ]
  },
  {
   "cell_type": "code",
   "execution_count": null,
   "metadata": {
    "tags": []
   },
   "outputs": [],
   "source": [
    "%%bash\n",
    "./DB2_primers_cut.sh \\\n",
    "    -r Prunus_trnL_NCBI.fasta \\\n",
    "    -F GGGCAATCCTGAGCCAA \\\n",
    "    -R CCATTGAGTCTCTGCACCTATC \\\n",
    "    -p Prunus_trnL"
   ]
  },
  {
   "cell_type": "code",
   "execution_count": null,
   "metadata": {},
   "outputs": [],
   "source": [
    "%ls -t | head"
   ]
  },
  {
   "cell_type": "markdown",
   "metadata": {},
   "source": [
    "**Let's check how this data looks like? The sequences were cutted according with our primers.**"
   ]
  },
  {
   "cell_type": "code",
   "execution_count": null,
   "metadata": {},
   "outputs": [],
   "source": [
    "!head -n 4 Prunus_trnL_cutted_references.fasta"
   ]
  },
  {
   "cell_type": "markdown",
   "metadata": {},
   "source": [
    "**Let's begin to format our sequences to properly create a local BLAST database**"
   ]
  },
  {
   "cell_type": "code",
   "execution_count": null,
   "metadata": {},
   "outputs": [],
   "source": [
    "!bash DB3_NCBI_lineage.sh -h"
   ]
  },
  {
   "cell_type": "markdown",
   "metadata": {},
   "source": [
    "**This script does a lot of things:**<p>\n",
    "**1.** extract **accession** code from NCBI references, then<p>\n",
    "**2.** parse **accession to taxid**, then<p>\n",
    "**3.** parse **taxid to lineage**, then<p>\n",
    "**4.** remove NCBI sequences header, and **join edited lineage**, then<p>\n",
    "**5.** remove sequence **duplicates**.<p>"
   ]
  },
  {
   "cell_type": "markdown",
   "metadata": {},
   "source": [
    "To run this script we need to **download** the **`nucl_gb.accession2taxid.gz`** file:"
   ]
  },
  {
   "cell_type": "code",
   "execution_count": null,
   "metadata": {},
   "outputs": [],
   "source": [
    "!wget https://ftp.ncbi.nlm.nih.gov/pub/taxonomy/accession2taxid/nucl_gb.accession2taxid.gz"
   ]
  },
  {
   "cell_type": "markdown",
   "metadata": {},
   "source": [
    "**This command takes a while, even with a little reference database.**"
   ]
  },
  {
   "cell_type": "code",
   "execution_count": null,
   "metadata": {
    "tags": []
   },
   "outputs": [],
   "source": [
    "%%bash\n",
    "./DB3_NCBI_lineage.sh -r Prunus_trnL_cutted_references.fasta -p Prunus_trnL"
   ]
  },
  {
   "cell_type": "markdown",
   "metadata": {},
   "source": [
    "Let's take a look in the **.log** file:"
   ]
  },
  {
   "cell_type": "code",
   "execution_count": null,
   "metadata": {},
   "outputs": [],
   "source": [
    "!tail Prunus_trnL.log"
   ]
  },
  {
   "cell_type": "markdown",
   "metadata": {},
   "source": [
    "Then take a look in the **final formatted reference database**:"
   ]
  },
  {
   "cell_type": "code",
   "execution_count": null,
   "metadata": {},
   "outputs": [],
   "source": [
    "!head Prunus_trnL.uniq.fasta"
   ]
  },
  {
   "cell_type": "markdown",
   "metadata": {},
   "source": [
    "All this process can be done using **BOLD** database as well, let's try with a tiny database:"
   ]
  },
  {
   "cell_type": "markdown",
   "metadata": {},
   "source": [
    "Let's run a search and download using **BOLD database**:"
   ]
  },
  {
   "cell_type": "code",
   "execution_count": 21,
   "metadata": {},
   "outputs": [
    {
     "name": "stdout",
     "output_type": "stream",
     "text": [
      "##################################################\n",
      " \n",
      "DOWNLOAD BOLD SEQUENCES\n",
      " \n",
      "Usage: BOLD_download_refs.sh [-t taxon] [-m marker] [-g geo]\n",
      "-t     target taxon, e.g. Arthropoda\n",
      "-m     marker, e.g. COI\n",
      "-g     geographic location, e.g. Brazil\n",
      "-h     print this help\n",
      "More Details: http://boldsystems.org/index.php/resources/api?type=webservices#sequenceParameters\n",
      " \n",
      "##################################################\n"
     ]
    }
   ],
   "source": [
    "!bash BOLD_download_refs.sh -h"
   ]
  },
  {
   "cell_type": "code",
   "execution_count": 22,
   "metadata": {},
   "outputs": [
    {
     "name": "stdout",
     "output_type": "stream",
     "text": [
      "searching and downloading:\n",
      "TAXON=Blattodea\n",
      "MARKER=COI\n",
      "GEO=Brazil\n"
     ]
    },
    {
     "name": "stderr",
     "output_type": "stream",
     "text": [
      "--2021-12-13 21:11:40--  http://v3.boldsystems.org/index.php/API_Public/combined?taxon=Blattodea&marker=COI&geo=Brazil&format=tsv\n",
      "Resolving v3.boldsystems.org (v3.boldsystems.org)... 131.104.63.48\n",
      "Connecting to v3.boldsystems.org (v3.boldsystems.org)|131.104.63.48|:80... connected.\n",
      "HTTP request sent, awaiting response... 200 OK\n",
      "Length: unspecified [application/x-download]\n",
      "Saving to: ‘BOLD_Blattodea_COI_Brazil.tsv’\n",
      "\n",
      "     0K .......... .......... .......... .......... ..........  257K\n",
      "    50K .......... .......... .......... .......... ..........  833K\n",
      "   100K .......... .......... .......... .......... .......... 1.59M\n",
      "   150K .......... .......... .......... ........               918K=0.3s\n",
      "\n",
      "2021-12-13 21:11:42 (576 KB/s) - ‘BOLD_Blattodea_COI_Brazil.tsv’ saved [193083]\n",
      "\n"
     ]
    }
   ],
   "source": [
    "%%bash\n",
    "./BOLD_download_refs.sh -t Blattodea -m COI -g Brazil"
   ]
  },
  {
   "cell_type": "markdown",
   "metadata": {},
   "source": [
    "Take a look in the **BOLD** sequences format:"
   ]
  },
  {
   "cell_type": "code",
   "execution_count": 24,
   "metadata": {},
   "outputs": [
    {
     "name": "stdout",
     "output_type": "stream",
     "text": [
      "image_ids\timage_urls\tcopyright_licenses\ttrace_ids\ttrace_links\trun_dates\tsequencing_centers\tdirections\tseq_primers\tmarker_codesder_taxID\torder_name\tfamily_taxID\tfamily_name\tsubfamily_taxID\tsubfamily_name\tgenus_taxID\tgenus_name\tspecies_taxID\tspecies_name\tsubspecies_taxID\tsubspecies_name\tidentification_provided_by\tvoucher_type\ttissue_type\tcollectors\tcollectiondate\tlifestage\tsex\treproduction\textrainfo\tnotes\tlat\tlon\tcoord_source\tcoord_accuracy\tcountry\tprovince\tregion\texactsite\tsequenceID\tmarkercode\tgenbank_accession\tnucleotides\t\n",
      "\t\t\t\t\t\t\t\t\t-19\tKX036772\t10157255\tUFRGS 60007\t \tMined from GenBank, NCBI\tBOLD:ADJ6748\t20\tArthropoda\t82\tInsecta\t532349\tBlattodea\t1349\tTermitidae\t354381\tNasutitermitinae\t4335\tNasutitermes\t790969\tNasutitermes jaraguae\t \t \t \t \t \t \t2013-12-04\t \t \t \t \t \t-23.78\t-46.01\t \t \tBrazil\t \t \t \t11754456\tCOI-5P\tKX036772\tATAAAGATATTGGAACTTTATATTTTGTATTTGGAGCTTGATCAGGAATAGTCGGAACATCTTTAAGAATGCTCATTCGAACAGAACTAGGACAGCCAGGATCCCTAATTGGAGACGATCAAATCTACAACGTCATTGTCACAGCCCACGCTTTTGTTATAATTTTCTTTATAGTTATACCAATCATGATTGGTGGCTTCGGAAACTGGCTAGTACCCTTAATGTTAGGAGCACCAGATATAGCATTTCCACGAATAAACAACATAAGATTCTGGCTACTCCCTCCCTCCCTAACTCTTCTTCTTACTAGTAGTACGGTAGAAAGCGGGGTAGGAACAGGATGAACTGTTTATCCCCCTCTTGCCAGAGGAATTGCCCATGCCGGAGCCTCTGTAGATCTAGCAATCTTCTCATTACACTTAGCAGGAGTCTCATCAATCCTGGGAGCAGTAAACTTCATCACAACCACAATTAACATAAAGCCAAAGAGCATAAAGCCTGAACGAATCCCACTATTTGTATGATCAATTGCTATTACAGCCCTACTACTATTACTTTCTCTTCCAGTTCTGGCAGGAGCAATTACCATGCTACTAACAGACCGCAACCTAAATACATCATTTTTCGACCCTGCAGGAGGGGGAGACCCAATCCTATATCAACACTTATTCTGATTTTTTG\t\n"
     ]
    }
   ],
   "source": [
    "!head -2 BOLD_Blattodea_COI_Brazil.tsv"
   ]
  },
  {
   "cell_type": "markdown",
   "metadata": {},
   "source": [
    "Pretty different from **NCBI**, right?<p>\n",
    "But the following script generate exactly the same output from the **primers_cut.sh** and **NCBI_lineage.sh** scripts:"
   ]
  },
  {
   "cell_type": "code",
   "execution_count": 26,
   "metadata": {},
   "outputs": [],
   "source": [
    "%%bash\n",
    "./BOLD_lineage_primers_cut.sh BOLD_Blattodea_COI_Brazil.tsv GCHCCHGAYATRGCHTTYCC TCDGGRTGNCCRAARAAYCA"
   ]
  },
  {
   "cell_type": "markdown",
   "metadata": {},
   "source": [
    "Take a look in the final **BOLD** formated sequences:"
   ]
  },
  {
   "cell_type": "code",
   "execution_count": 28,
   "metadata": {},
   "outputs": [
    {
     "name": "stdout",
     "output_type": "stream",
     "text": [
      ">GBMH10392-19/BOLD:ADJ6748 Arthropoda|Insecta|Blattodea|Termitidae|Nasutitermitinae|Nasutitermes|Nasutitermes jaraguae|\n",
      "ACGAATAAACAACATAAGATTCTGGCTACTCCCTCCCTCCCTAACTCTTCTTCTTACTAGTAGTACGGTAGAAAGCGGGGTAGGAACAGGATGAACTGTTTATCCCCCTCTTGCCAGAGGAATTGCCCATGCCGGAGCCTCTGTAGATCTAGCAATCTTCTCATTACACTTAGCAGGAGTCTCATCAATCCTGGGAGCAGTAAACTTCATCACAACCACAATTAACATAAAGCCAAAGAGCATAAAGCCTGAACGAATCCCACTATTTGTATGATCAATTGCTATTACAGCCCTACTACTATTACTTTCTCTTCCAGTTCTGGCAGGAGCAATTACCATGCTACTAACAGACCGCAACCTAAATACATCATTTTTCGACCCTGCAGGAGGGGGAGACCCAATCCTATATCAACACTTATTCTGATTTTTTG\n",
      ">GBMNB58099-20/BOLD:AAV3603 Arthropoda|Insecta|Blattodea|Termitidae|Nasutitermitinae|Agnathotermes|Agnathotermes glaber|\n",
      "ACGAATAAACAACATAAGATTTTGATTACTTCCCCCTTCACTAACACTTCTACTTACTAGTAGTACAGTAGAAAGCGGTGTAGGAACAGGATGAACTGTTTATCCCCCTCTTGCAAGAGGAATTGCTCACGCCGGAGCATCTGTAGACCTAGCCATCTTCTCACTACATTTAGCTGGAGTCTCATCTATTCTAGGAGCAGTAAACTTCATCACGACAACAATTAACATAAAACCAAAAAGCATAAAGCCTGAACGAATCCCTCTATTTGTATGATCAATTGCCATTACCGCCCTATTACTCCTTTTATCTTTACCAGTACTAGCAGGAGCAA\n"
     ]
    }
   ],
   "source": [
    "!head -4 BOLD_Blattodea_COI_Brazil_cut.fasta"
   ]
  },
  {
   "cell_type": "code",
   "execution_count": 29,
   "metadata": {},
   "outputs": [
    {
     "name": "stdout",
     "output_type": "stream",
     "text": [
      "\u001b[0m\u001b[01;32m1_merge_pear.sh\u001b[0m*\n",
      "\u001b[01;32m2a_preparing_tags_LCPI.pl\u001b[0m*\n",
      "\u001b[01;32m2b_demulti_dual_index_linked.sh\u001b[0m*\n",
      "\u001b[01;32m3_tag_primer_clipping_clean_derep.sh\u001b[0m*\n",
      "\u001b[01;32m4_clustering_swarm_with_chim_filter.sh\u001b[0m*\n",
      "\u001b[01;32m5_BLAST_options.sh\u001b[0m*\n",
      "\u001b[01;32m5_Blast_results_format.pl\u001b[0m*\n",
      "\u001b[01;32m5_taxa_assignment_table.pl\u001b[0m*\n",
      "\u001b[01;32m6a_OTU_contingency_table.py\u001b[0m*\n",
      "\u001b[01;32m6a_build_OTU_table.sh\u001b[0m*\n"
     ]
    }
   ],
   "source": [
    "%ls | head"
   ]
  },
  {
   "cell_type": "markdown",
   "metadata": {},
   "source": [
    "**After formatting our taxonomy databse, we will start to work with our sequencing data.**<p>\n",
    "When dealing with **Illumina paired-end** fastq files, R1 and R2, we can choose to work with the **separate** pairs, or **merge** the pairs.<p>\n",
    "This choice must be made even before sending the material for sequencing, as it depends on the **insert size** used in the paired-end sequencing.<p>\n",
    "Most paired-end sequencing designs are planned to be merged, but even so you can choose to let the pairs independent, running the **\"combinatorial\" demultiplexing strategy**.<p>\n",
    "We are not going to run the combinatorial strategy this time.<p>\n",
    "Let's start running the **merge read pairs** with **PEAR** tool:"
   ]
  },
  {
   "cell_type": "code",
   "execution_count": 30,
   "metadata": {},
   "outputs": [
    {
     "name": "stdout",
     "output_type": "stream",
     "text": [
      "##################################################\n",
      " \n",
      "Merging of paired end fastq files from Illumina sequencing using Pear.\n",
      " \n",
      "Usage: 1_merge_pear.sh [-f R1.fq] [-r R2.fq] [-o output] [-p 0.001] [-s 20] [-t 4]\n",
      "-f     R1.fastq original file\n",
      "-r     R2.fastq original file\n",
      "-o     output name for the assembled fastq file\n",
      "-p     p-value: statistical test for true assembly. Lower p-value means less possibility of overlapping by chance. Options are: 0.0001, 0.001, 0.01, 0.05 and 1.0\n",
      "-s     minimum overlap size.\n",
      "-t     threads\n",
      "-h     print this help\n",
      " \n",
      "##################################################\n"
     ]
    }
   ],
   "source": [
    "!bash 1_merge_pear.sh -h"
   ]
  },
  {
   "cell_type": "markdown",
   "metadata": {},
   "source": [
    "Let's run it using a **random subsample** from the original trnL dataset, since the whole dataset would take some time to run:<p>\n",
    "In order to run the next steps, we are going to use the pre-merged fasta file `trnL_subsample.assembled.fastq`."
   ]
  },
  {
   "cell_type": "code",
   "execution_count": 31,
   "metadata": {
    "tags": []
   },
   "outputs": [
    {
     "name": "stdout",
     "output_type": "stream",
     "text": [
      " ____  _____    _    ____ \n",
      "|  _ \\| ____|  / \\  |  _ \\\n",
      "| |_) |  _|   / _ \\ | |_) |\n",
      "|  __/| |___ / ___ \\|  _ <\n",
      "|_|   |_____/_/   \\_\\_| \\_\\\n",
      "\n",
      "PEAR v0.9.6 [January 15, 2015]\n",
      "\n",
      "Citation - PEAR: a fast and accurate Illumina Paired-End reAd mergeR\n",
      "Zhang et al (2014) Bioinformatics 30(5): 614-620 | doi:10.1093/bioinformatics/btt593\n",
      "\n",
      "Forward reads file.................: trnL_S1_L001_R1_001_sub.fastq\n",
      "Reverse reads file.................: trnL_S1_L001_R2_001_sub.fastq\n",
      "PHRED..............................: 33\n",
      "Using empirical frequencies........: YES\n",
      "Statistical method.................: OES\n",
      "Maximum assembly length............: 999999\n",
      "Minimum assembly length............: 50\n",
      "p-value............................: 0.001000\n",
      "Quality score threshold (trimming).: 20\n",
      "Minimum read size after trimming...: 1\n",
      "Maximal ratio of uncalled bases....: 0.000000\n",
      "Minimum overlap....................: 20\n",
      "Scoring method.....................: Scaled score\n",
      "Threads............................: 4\n",
      "\n",
      "Allocating memory..................: 200,000,000 bytes\n",
      "Computing empirical frequencies....: DONE\n",
      "  A: 0.301215\n",
      "  C: 0.200407\n",
      "  G: 0.221132\n",
      "  T: 0.277245\n",
      "  0 uncalled bases\n",
      "Assemblying reads: 100%\n",
      "\n",
      "Assembled reads ...................: 995 / 1,000 (99.500%)\n",
      "Discarded reads ...................: 5 / 1,000 (0.500%)\n",
      "Not assembled reads ...............: 0 / 1,000 (0.000%)\n",
      "Assembled reads file...............: trnL_sub.assembled.fastq\n",
      "Discarded reads file...............: trnL_sub.discarded.fastq\n",
      "Unassembled forward reads file.....: trnL_sub.unassembled.forward.fastq\n",
      "Unassembled reverse reads file.....: trnL_sub.unassembled.reverse.fastq\n"
     ]
    }
   ],
   "source": [
    "%%bash\n",
    "./1_merge_pear.sh \\\n",
    "    -f trnL_S1_L001_R1_001_sub.fastq \\\n",
    "    -r trnL_S1_L001_R2_001_sub.fastq \\\n",
    "    -o trnL_example \\\n",
    "    -p 0.001 \\\n",
    "    -s 20 \\\n",
    "    -t 4"
   ]
  },
  {
   "cell_type": "markdown",
   "metadata": {},
   "source": [
    "We reached **almost 100%** os read pairs merged!<p>\n",
    "The output used in the following steps is the `.assembled.fastq` file."
   ]
  },
  {
   "cell_type": "code",
   "execution_count": 32,
   "metadata": {},
   "outputs": [
    {
     "name": "stdout",
     "output_type": "stream",
     "text": [
      "total 2547352\n",
      "-rw-r--r--  1 jupyter jupyter     314854 Dec 13 21:15 trnL_sub.assembled.fastq\n",
      "-rw-r--r--  1 jupyter jupyter       1084 Dec 13 21:15 trnL_sub.discarded.fastq\n",
      "drwxr-xr-x  4 jupyter jupyter       4096 Dec 13 21:15 \u001b[0m\u001b[01;34m.\u001b[0m/\n",
      "-rw-r--r--  1 jupyter jupyter          0 Dec 13 21:15 trnL_sub.unassembled.forward.fastq\n",
      "-rw-r--r--  1 jupyter jupyter          0 Dec 13 21:15 trnL_sub.unassembled.reverse.fastq\n",
      "drwxr-xr-x  8 jupyter jupyter       4096 Dec 13 21:13 \u001b[01;34m.git\u001b[0m/\n",
      "-rw-r--r--  1 jupyter jupyter      65103 Dec 13 21:13 metapipe-run.ipynb\n",
      "-rw-r--r--  1 jupyter jupyter      77611 Dec 13 21:12 BOLD_Blattodea_COI_Brazil_cut.fasta\n",
      "-rwxrwxrwx  1 jupyter jupyter       1069 Dec 13 21:12 \u001b[01;32mBOLD_lineage_primers_cut.sh\u001b[0m*\n"
     ]
    }
   ],
   "source": [
    "%ls -lat | head"
   ]
  },
  {
   "cell_type": "markdown",
   "metadata": {},
   "source": [
    "Let's check how the merging step works, by searching the original pairs from the first read pair merged:"
   ]
  },
  {
   "cell_type": "code",
   "execution_count": 33,
   "metadata": {},
   "outputs": [
    {
     "name": "stdout",
     "output_type": "stream",
     "text": [
      "@M02980:420:000000000-G84WN:1:2101:3414:10035 1:N:0:GTCTACAC+GCCAAGGT\n",
      "TGTTGCGTTTCTGGGCAATCCTGAGCCAAATCCTGTTTTATTAAAACAAACAAGGGTTTCATAAACCGAGAATAAAAAAGGATAGGTGCAGAGACTCAATGGGGGCATCTTACG\n",
      "+\n",
      "IIIIIIIIIIIIII4IIIIIIIIIIIIIIIIIIIIIIIIIIIIIIIIIIIIIIIIIIIIIIIIIIIIIIIIIIIIIIIIIIIIIFIIIIIIIIIIIFIIIIIIIICIIIIIIII\n"
     ]
    }
   ],
   "source": [
    "!head -4 trnL_example.assembled.fastq"
   ]
  },
  {
   "cell_type": "markdown",
   "metadata": {},
   "source": [
    "**Let's check how the pair of reads look like?**"
   ]
  },
  {
   "cell_type": "code",
   "execution_count": 34,
   "metadata": {},
   "outputs": [
    {
     "name": "stdout",
     "output_type": "stream",
     "text": [
      "@M02980:420:000000000-G84WN:1:2101:3414:10035 1:N:0:GTCTACAC+GCCAAGGT\n",
      "TGTTGCGTTTCTGGGCAATCCTGAGCCAAATCCTGTTTTATTAAAACAAACAAGGGTTTCATAAACCGAGAATAAAAAAGGATAGGTGCAGAGACTAAATGGGGGCATCTTACGAGATCGGAAGAGCACACGTCTGAACTCCAGTCACGTC\n"
     ]
    }
   ],
   "source": [
    "!grep -A 1 \"@M02980:420:000000000-G84WN:1:2101:3414:10035\" trnL_S1_L001_R1_001_sub.fastq"
   ]
  },
  {
   "cell_type": "code",
   "execution_count": 35,
   "metadata": {},
   "outputs": [
    {
     "name": "stdout",
     "output_type": "stream",
     "text": [
      "@M02980:420:000000000-G84WN:1:2101:3414:10035 2:N:0:GTCTACAC+GCCAAGGT\n",
      "CGTAAGATGCCCCCATTGAGTCTCTGCACCTATCCTTTTTTATTCTCGGTTTATGAAACCCTTGTTTGTTTTAATAAAACAGGATTTGGCTCAGGATTGACCAGAAACGCAACAAGATCGGAAGAGCGTCGTGTAGGGAAAGAGTGGACCT\n"
     ]
    }
   ],
   "source": [
    "!grep -A 1 \"@M02980:420:000000000-G84WN:1:2101:3414:10035\" trnL_S1_L001_R2_001_sub.fastq"
   ]
  },
  {
   "cell_type": "markdown",
   "metadata": {},
   "source": [
    "Observe that **TGTTGCGTTTCT**GGGCAATCCTGAGCCAAATCCTGTTTTATTAAAACAAACAAGGGTTTCATAAACCGAGAATAAAAAAGGATAGGTGCAGAGACTCAATGG**GGGCATCTTACG**<p>\n",
    "are the **Forward tag** from **`R1`**:<p>\n",
    "@M02980:420:000000000-G84WN:1:2101:3414:10035 **`1:N:0`**:GTCTACAC+GCCAAGGT<p>\n",
    "**TGTTGCGTTTCT**GGGCAATCCTGAGCCAAATCCTGTTTTATTAAAACAAACAAGGGTTTCATAAACCGAGAATAAAAAAGGATAG...<p>\n",
    "and the **reverse complement of the Forward tag** from **`R2`**:<p>\n",
    "@M02980:420:000000000-G84WN:1:2101:3414:10035 **`2:N:0`**:GTCTACAC+GCCAAGGT<p>\n",
    "**CGTAAGATGCCC**CCATTGAGTCTCTGCACCTATCCTTTTTTATTCTCGGTTTATGAAACCCTTGTTTGTTTTAATAAAACAGGAT...<p>"
   ]
  },
  {
   "cell_type": "markdown",
   "metadata": {},
   "source": [
    "**Observe how the merging works:**<p>\n",
    "<img src=\"merge_paired_end.png\" width=800 height=800 />"
   ]
  },
  {
   "cell_type": "markdown",
   "metadata": {},
   "source": [
    "Now that we know how the merge of the paired-end reads works, let's search for the amplicons from a specific sample:"
   ]
  },
  {
   "cell_type": "markdown",
   "metadata": {},
   "source": [
    "Let's take a look in our original `mapping file`:"
   ]
  },
  {
   "cell_type": "code",
   "execution_count": 36,
   "metadata": {},
   "outputs": [
    {
     "name": "stdout",
     "output_type": "stream",
     "text": [
      "Angelicaesinensis_a\tCACCTTACCTTA\tCCATCACATAGG\n",
      "Angelicaesinensis_b\tACTTTAAGGGTG\tCCATCACATAGG\n",
      "Carthamustinctorius_a\tACTTTAAGGGTG\tGAGCAACATCCT\n",
      "Carthamustinctorius_b\tTGTTGCGTTTCT\tGAGCAACATCCT\n",
      "Citrusaurantium_a\tGAGACTATATGC\tGAGCAACATCCT\n",
      "Citrusaurantium_b\tATCTAGTGGCAA\tTGTTGCGTTTCT\n",
      "Cyperusrotundus_a\tATAGTTAGGGCT\tACTTTAAGGGTG\n",
      "Cyperusrotundus_b\tGAGACTATATGC\tACTTTAAGGGTG\n",
      "Glycyrrhizauralensis_a\tCCAGGGACTTCT\tACTTTAAGGGTG\n",
      "Glycyrrhizauralensis_b\tACTTTAAGGGTG\tGAGACTATATGC\n"
     ]
    }
   ],
   "source": [
    "!head trnL_sub_tags.txt"
   ]
  },
  {
   "cell_type": "markdown",
   "metadata": {},
   "source": [
    "According to the **expected orientation** of the **merged paired-end reads** from **Angelicaesinensis_a** sample, we shoul look for the **`5' tag (CACCTTACCTTA)`** in **forward direction**, and the **`3' tag (CCATCACATAGG)`** in **reverse direction**.<p>\n",
    "The 3' tag reverse complement is **`CCTATGTGATGG`**.<p>\n",
    "Let's search for **both tags** in the **same sequence** in our merged file `trnL_subsample.assembled.fastq`:"
   ]
  },
  {
   "cell_type": "markdown",
   "metadata": {},
   "source": [
    "!grep -i \"CACCTTACCTTA\" --color=always trnL_subsample.assembled.fastq | grep -i --color=always \"CCTATGTGATGG\" | head"
   ]
  },
  {
   "cell_type": "code",
   "execution_count": 38,
   "metadata": {},
   "outputs": [
    {
     "name": "stdout",
     "output_type": "stream",
     "text": [
      "21467\n"
     ]
    }
   ],
   "source": [
    "!grep -i \"CACCTTACCTTA\" trnL_subsample.assembled.fastq | grep -c -i \"CCTATGTGATGG\""
   ]
  },
  {
   "cell_type": "markdown",
   "metadata": {},
   "source": [
    "After running the **demultiplexing** step, we are going to check if these amplicons will be found in the **Angelicaesinensis_a** sample fasta file."
   ]
  },
  {
   "cell_type": "markdown",
   "metadata": {},
   "source": [
    "**Since we will read tabular files multiple times in the notebook, let's create a function that loads the tabular file, with or without header**"
   ]
  },
  {
   "cell_type": "code",
   "execution_count": 17,
   "metadata": {},
   "outputs": [],
   "source": [
    "def get_glimpse_head(in_file, n_lines=10, file_header=True, file_sep='\\t'):\n",
    "    import pandas as pd\n",
    "# read file\n",
    "    if file_header == False:\n",
    "        df = pd.read_csv(in_file, sep=file_sep, header=None).head(n_lines)\n",
    "    else:\n",
    "        df = pd.read_csv(in_file, sep=file_sep).head(n_lines)\n",
    "# return table\n",
    "    return df\n",
    "\n",
    "def get_glimpse_tail(in_file, n_lines=10, file_header=True, file_sep='\\t'):\n",
    "    import pandas as pd\n",
    "# read file\n",
    "    if file_header == False:\n",
    "        df = pd.read_csv(in_file, sep=file_sep, header=None).tail(n_lines)\n",
    "    else:\n",
    "        df = pd.read_csv(in_file, sep=file_sep).tail(n_lines)\n",
    "# return table\n",
    "    return df"
   ]
  },
  {
   "cell_type": "markdown",
   "metadata": {},
   "source": [
    "The following tab file is your **mapping file**, which has three columns, showing the **sample name**, the **5' tag** and the **3' tag** (both in forward direction):"
   ]
  },
  {
   "cell_type": "code",
   "execution_count": 40,
   "metadata": {},
   "outputs": [
    {
     "data": {
      "text/html": [
       "<div>\n",
       "<style scoped>\n",
       "    .dataframe tbody tr th:only-of-type {\n",
       "        vertical-align: middle;\n",
       "    }\n",
       "\n",
       "    .dataframe tbody tr th {\n",
       "        vertical-align: top;\n",
       "    }\n",
       "\n",
       "    .dataframe thead th {\n",
       "        text-align: right;\n",
       "    }\n",
       "</style>\n",
       "<table border=\"1\" class=\"dataframe\">\n",
       "  <thead>\n",
       "    <tr style=\"text-align: right;\">\n",
       "      <th></th>\n",
       "      <th>0</th>\n",
       "      <th>1</th>\n",
       "      <th>2</th>\n",
       "    </tr>\n",
       "  </thead>\n",
       "  <tbody>\n",
       "    <tr>\n",
       "      <th>24</th>\n",
       "      <td>Peoniasuffruticosa_a</td>\n",
       "      <td>CCATCACATAGG</td>\n",
       "      <td>TGCAGATCCAAC</td>\n",
       "    </tr>\n",
       "    <tr>\n",
       "      <th>25</th>\n",
       "      <td>Peoniasuffruticosa_b</td>\n",
       "      <td>GTGGTATGGGAG</td>\n",
       "      <td>TGCAGATCCAAC</td>\n",
       "    </tr>\n",
       "    <tr>\n",
       "      <th>26</th>\n",
       "      <td>Poriacocos_a</td>\n",
       "      <td>ATAGTTAGGGCT</td>\n",
       "      <td>CCTAAACTACGG</td>\n",
       "    </tr>\n",
       "    <tr>\n",
       "      <th>27</th>\n",
       "      <td>Poriacocos_b</td>\n",
       "      <td>GCACTTCATTTC</td>\n",
       "      <td>CCTAAACTACGG</td>\n",
       "    </tr>\n",
       "    <tr>\n",
       "      <th>28</th>\n",
       "      <td>Prunuspersica_a</td>\n",
       "      <td>ATGTCCGACCAA</td>\n",
       "      <td>TGCAGATCCAAC</td>\n",
       "    </tr>\n",
       "    <tr>\n",
       "      <th>29</th>\n",
       "      <td>Prunuspersica_b</td>\n",
       "      <td>ATCTAGTGGCAA</td>\n",
       "      <td>CCATCACATAGG</td>\n",
       "    </tr>\n",
       "    <tr>\n",
       "      <th>30</th>\n",
       "      <td>Trogopterusxanthipes_a</td>\n",
       "      <td>ATAGTTAGGGCT</td>\n",
       "      <td>TGTTGCGTTTCT</td>\n",
       "    </tr>\n",
       "    <tr>\n",
       "      <th>31</th>\n",
       "      <td>Trogopterusxanthipes_b</td>\n",
       "      <td>ACTTTAAGGGTG</td>\n",
       "      <td>CACCTTACCTTA</td>\n",
       "    </tr>\n",
       "    <tr>\n",
       "      <th>32</th>\n",
       "      <td>Negative</td>\n",
       "      <td>TGTTGCGTTTCT</td>\n",
       "      <td>GAGACTATATGC</td>\n",
       "    </tr>\n",
       "    <tr>\n",
       "      <th>33</th>\n",
       "      <td>NegativePCR</td>\n",
       "      <td>ATGTCCGACCAA</td>\n",
       "      <td>GAGACTATATGC</td>\n",
       "    </tr>\n",
       "  </tbody>\n",
       "</table>\n",
       "</div>"
      ],
      "text/plain": [
       "                         0             1             2\n",
       "24    Peoniasuffruticosa_a  CCATCACATAGG  TGCAGATCCAAC\n",
       "25    Peoniasuffruticosa_b  GTGGTATGGGAG  TGCAGATCCAAC\n",
       "26            Poriacocos_a  ATAGTTAGGGCT  CCTAAACTACGG\n",
       "27            Poriacocos_b  GCACTTCATTTC  CCTAAACTACGG\n",
       "28         Prunuspersica_a  ATGTCCGACCAA  TGCAGATCCAAC\n",
       "29         Prunuspersica_b  ATCTAGTGGCAA  CCATCACATAGG\n",
       "30  Trogopterusxanthipes_a  ATAGTTAGGGCT  TGTTGCGTTTCT\n",
       "31  Trogopterusxanthipes_b  ACTTTAAGGGTG  CACCTTACCTTA\n",
       "32                Negative  TGTTGCGTTTCT  GAGACTATATGC\n",
       "33             NegativePCR  ATGTCCGACCAA  GAGACTATATGC"
      ]
     },
     "execution_count": 40,
     "metadata": {},
     "output_type": "execute_result"
    }
   ],
   "source": [
    "get_glimpse_tail('trnL_sub_tags.txt', file_header=False)"
   ]
  },
  {
   "cell_type": "markdown",
   "metadata": {},
   "source": [
    "Now let's prepare the **tag-files**, used as input in the **demultiplexing** step:"
   ]
  },
  {
   "cell_type": "markdown",
   "metadata": {},
   "source": [
    "**The following script formats the mapping file according to the tag-design, possible tag-pairs orientation and Cutadapt input format.**\n",
    ">>>For **Illumina merged reads**, type **`linked`**<p>\n",
    ">>>For **Illumina **combinatorial**, type **`combinatorial`**<p>\n",
    ">>>For Illumina **exact paired dual index**, type **`unique`**<p>\n",
    ">>>For **Ion torrent dual index**, type **`ion`**<p>\n",
    ">>>For Ion dual index **3' anchored**, type **`ion3`**<p>\n",
    ">>>For Ion dual index **5' anchored**, **`ion5`**\n",
    ">>>For Ion dual index **both anchored**, type **`ion-both`**"
   ]
  },
  {
   "cell_type": "code",
   "execution_count": 41,
   "metadata": {},
   "outputs": [],
   "source": [
    "%%bash \n",
    "perl 2a_preparing_tags_LCPI.pl trnL_sub_tags.txt linked"
   ]
  },
  {
   "cell_type": "code",
   "execution_count": 42,
   "metadata": {},
   "outputs": [
    {
     "name": "stdout",
     "output_type": "stream",
     "text": [
      "total 2547372\n",
      "drwxr-xr-x  4 jupyter jupyter       4096 Dec 13 21:17 \u001b[0m\u001b[01;34m.\u001b[0m/\n",
      "-rw-r--r--  1 jupyter jupyter       1653 Dec 13 21:17 Tags_LA1.fa\n",
      "-rw-r--r--  1 jupyter jupyter       1653 Dec 13 21:17 Tags_LA2.fa\n",
      "-rw-r--r--  1 jupyter jupyter       1653 Dec 13 21:17 Tags_LA3.fa\n",
      "drwxr-xr-x  8 jupyter jupyter       4096 Dec 13 21:16 \u001b[01;34m.git\u001b[0m/\n",
      "-rw-r--r--  1 jupyter jupyter      69985 Dec 13 21:16 metapipe-run.ipynb\n",
      "-rw-r--r--  1 jupyter jupyter     314854 Dec 13 21:15 trnL_sub.assembled.fastq\n",
      "-rw-r--r--  1 jupyter jupyter       1084 Dec 13 21:15 trnL_sub.discarded.fastq\n",
      "-rw-r--r--  1 jupyter jupyter          0 Dec 13 21:15 trnL_sub.unassembled.forward.fastq\n"
     ]
    }
   ],
   "source": [
    "%ls -lat | head"
   ]
  },
  {
   "cell_type": "code",
   "execution_count": 43,
   "metadata": {},
   "outputs": [
    {
     "name": "stdout",
     "output_type": "stream",
     "text": [
      ">Prunuspersica_b\n",
      "^ATCTAGTGGCAA...CCATCACATAGG$\n",
      ">Trogopterusxanthipes_a\n",
      "^ATAGTTAGGGCT...TGTTGCGTTTCT$\n",
      ">Trogopterusxanthipes_b\n",
      "^ACTTTAAGGGTG...CACCTTACCTTA$\n",
      ">Negative\n",
      "^TGTTGCGTTTCT...GAGACTATATGC$\n",
      ">NegativePCR\n",
      "^ATGTCCGACCAA...GAGACTATATGC$\n"
     ]
    }
   ],
   "source": [
    "!tail Tags_LA1.fa"
   ]
  },
  {
   "cell_type": "markdown",
   "metadata": {},
   "source": [
    "The linked strategy searches for both tags anchored by default, since Cutadapt version 2.0, but it is good to let the signs **^** and **$** to remember that **both** tags are required to demultiplex a sample, otherwise the read is classified as unknown.<p>\n",
    "This anchoring ensures the demultiplexing step, making the **tag jumping** more difficult to disturb your data."
   ]
  },
  {
   "cell_type": "markdown",
   "metadata": {},
   "source": [
    "**Now we are ready to demultiplex our data based on the tag-pairs:**"
   ]
  },
  {
   "cell_type": "markdown",
   "metadata": {},
   "source": [
    "In the next command we are going to use an previously merged file `trnL_subsample.assembled.fastq`, because it would take too long to run **Pear** with it. The `trnL_sub.assembled.fastq` that we just merged is too shallow to run the following steps."
   ]
  },
  {
   "cell_type": "code",
   "execution_count": 44,
   "metadata": {},
   "outputs": [
    {
     "name": "stdout",
     "output_type": "stream",
     "text": [
      "./unknown_LA.fq\n"
     ]
    }
   ],
   "source": [
    "%%bash\n",
    "./2b_demulti_dual_index_linked.sh trnL_subsample.assembled.fastq"
   ]
  },
  {
   "cell_type": "markdown",
   "metadata": {},
   "source": [
    "This script calls for the Tags_LA1-3.fa files from inside!"
   ]
  },
  {
   "cell_type": "markdown",
   "metadata": {},
   "source": [
    "**Let's check how the results are organised and what do they look like**"
   ]
  },
  {
   "cell_type": "code",
   "execution_count": 45,
   "metadata": {},
   "outputs": [
    {
     "name": "stdout",
     "output_type": "stream",
     "text": [
      "total 2547384\n",
      "drwxr-xr-x  8 jupyter jupyter       4096 Dec 13 21:23 \u001b[0m\u001b[01;34m.git\u001b[0m/\n",
      "drwxr-xr-x  5 jupyter jupyter       4096 Dec 13 21:23 \u001b[01;34m.\u001b[0m/\n",
      "-rw-r--r--  1 jupyter jupyter    5845221 Dec 13 21:23 metapipe-Install_Setup.ipynb\n",
      "-rw-r--r--  1 jupyter jupyter      78599 Dec 13 21:22 metapipe-run.ipynb\n",
      "drwxr-xr-x  2 jupyter jupyter       4096 Dec 13 21:21 \u001b[01;34mdemulti_linked_samples\u001b[0m/\n",
      "-rw-r--r--  1 jupyter jupyter       1653 Dec 13 21:17 Tags_LA1.fa\n",
      "-rw-r--r--  1 jupyter jupyter       1653 Dec 13 21:17 Tags_LA2.fa\n",
      "-rw-r--r--  1 jupyter jupyter       1653 Dec 13 21:17 Tags_LA3.fa\n",
      "-rw-r--r--  1 jupyter jupyter     314854 Dec 13 21:15 trnL_sub.assembled.fastq\n"
     ]
    }
   ],
   "source": [
    "%ls -lat | head"
   ]
  },
  {
   "cell_type": "code",
   "execution_count": 46,
   "metadata": {},
   "outputs": [
    {
     "name": "stdout",
     "output_type": "stream",
     "text": [
      "Angelicaesinensis_a_LA.fq\n",
      "Angelicaesinensis_b_LA.fq\n",
      "Carthamustinctorius_a_LA.fq\n",
      "Carthamustinctorius_b_LA.fq\n",
      "Citrusaurantium_a_LA.fq\n",
      "Citrusaurantium_b_LA.fq\n",
      "Cyperusrotundus_a_LA.fq\n",
      "Cyperusrotundus_b_LA.fq\n",
      "GXZYT_a_LA.fq\n",
      "GXZYT_b_LA.fq\n"
     ]
    }
   ],
   "source": [
    "%ls demulti_linked_samples/ | head"
   ]
  },
  {
   "cell_type": "code",
   "execution_count": 47,
   "metadata": {},
   "outputs": [
    {
     "name": "stdout",
     "output_type": "stream",
     "text": [
      "@M02980:420:000000000-G84WN:1:1101:14746:1924 1:N:0:GTCTACAC+GCCAAGGT\n",
      "caccttaccttaCCATTGAGTCTCTGCACCTATCCCCTTCCTATCTTAGGAGAAGAAACATTGTCTTCATGAACCGGATTTGGCTCAGGATTGCCCcctatgtgatgg\n",
      "+\n",
      "IHIIIIIIIIIIIIIIIIIIIIIIIIIIIIIIIIIIIIIIIIIIIIIIIIIIIIIIIIIIIIIIIIIIIIIIIIIIIIIIIIIIIIIIIIIIIIIIIIIIIIIIIIII\n",
      "@M02980:420:000000000-G84WN:1:1101:13409:1962 1:N:0:GTCTACAC+GCCAAGGT\n",
      "caccttaccttaGGGCAATCCTGAGCCAAATCCTATTTTCCAAAAACAAACAAAGGCCCAGAAGGTGAAAAAAGGATAGGTGCAGAGACTCAATGGcctatgtgatgg\n",
      "+\n",
      "IIIIIIIIIIIIIIIIIIIIIIIIIIIIIIIIIIIIIIIIIIIIIIIIIIIIIIIIIIIIIIIIIIIIIIIIIIIIIIIIIIIIIIIIIIIIIIIIIIIIIIIIIIII\n",
      "@M02980:420:000000000-G84WN:1:1101:16331:1965 1:N:0:GTCTACAC+GCCAAGGT\n",
      "caccttaccttaGGGCAATCCTGAGCCAAATCCTATTTTCCAAAAACAAACAAAGGCCCAGAAGGTGAAAAAAGGATAGGTGCAGAGACTCAATGGcctatgtgatgg\n"
     ]
    }
   ],
   "source": [
    "!head demulti_linked_samples/Angelicaesinensis_a_LA.fq"
   ]
  },
  {
   "cell_type": "markdown",
   "metadata": {},
   "source": [
    "Let's check if the proper tag-pair is found in the **Angelicaesinensis_a** sample fasta file:"
   ]
  },
  {
   "cell_type": "code",
   "execution_count": 48,
   "metadata": {},
   "outputs": [
    {
     "name": "stdout",
     "output_type": "stream",
     "text": [
      "\u001b[01;31m\u001b[Kcaccttacctta\u001b[m\u001b[KCCATTGAGTCTCTGCACCTATCCCCTTCCTATCTTAGGAGAAGAAACATTGTCTTCATGAACCGGATTTGGCTCAGGATTGCCC\u001b[01;31m\u001b[Kcctatgtgatgg\u001b[m\u001b[K\n",
      "\u001b[01;31m\u001b[Kcaccttacctta\u001b[m\u001b[KGGGCAATCCTGAGCCAAATCCTATTTTCCAAAAACAAACAAAGGCCCAGAAGGTGAAAAAAGGATAGGTGCAGAGACTCAATGG\u001b[01;31m\u001b[Kcctatgtgatgg\u001b[m\u001b[K\n",
      "\u001b[01;31m\u001b[Kcaccttacctta\u001b[m\u001b[KGGGCAATCCTGAGCCAAATCCTATTTTCCAAAAACAAACAAAGGCCCAGAAGGTGAAAAAAGGATAGGTGCAGAGACTCAATGG\u001b[01;31m\u001b[Kcctatgtgatgg\u001b[m\u001b[K\n",
      "\u001b[01;31m\u001b[Kcaccttacctta\u001b[m\u001b[KGGGCAATCCTGAGCCAAATCCTATTTTCCAAAAACAAACAAAGGCCCAGAAGATGAAAAAAGGATAGGTGCAGAGACTCAATGG\u001b[01;31m\u001b[Kcctatgtgatgg\u001b[m\u001b[K\n",
      "\u001b[01;31m\u001b[Kcaccttacctta\u001b[m\u001b[KGGGCAATCCTGAGCCAAATCCTATTTTCCAAAAACAAACAAAGGCCCAGAAGGTGAAAAAAGGATAGGTGCAGAGACTCAATGG\u001b[01;31m\u001b[Kcctatgtgatgg\u001b[m\u001b[K\n",
      "\u001b[01;31m\u001b[Kcaccttacctta\u001b[m\u001b[KGGGCAATCCTGAGCCAAATCCTATTTTCCAAAAACAAACAAAGGCCCAGAAGGTGAAAAAAGGATAGGTGCAGAGACTCAATGG\u001b[01;31m\u001b[Kcctatgtgatgg\u001b[m\u001b[K\n",
      "\u001b[01;31m\u001b[Kcaccttacctta\u001b[m\u001b[KGGGCAATCCTGAGCCAAATCCTATTTTCCAAAAACAAACAAAGGCCCAGAAGGTGAAAAAAGGATAGGTGCAGAGACTCAATGG\u001b[01;31m\u001b[Kcctatgtgatgg\u001b[m\u001b[K\n",
      "\u001b[01;31m\u001b[Kcaccttacctta\u001b[m\u001b[KGGGCAATCCTGAGCCAAATCCTATTTTCCAAAAACAAACAAAGGCCCAGAAGATGAAAAAAGGATAGGTGCAGAGACTCAATGG\u001b[01;31m\u001b[Kcctatgtgatgg\u001b[m\u001b[K\n",
      "\u001b[01;31m\u001b[Kcaccttacctta\u001b[m\u001b[KGGGCAATCCTGAGCCAAATCCTATTTTCCAAAAACAAACAAAGGCCCAGAAGGTGAAAAAAGGATAGGTGCAGAGACTCAATGG\u001b[01;31m\u001b[Kcctatgtgatgg\u001b[m\u001b[K\n",
      "\u001b[01;31m\u001b[Kcaccttacctta\u001b[m\u001b[KGGGCAATCCTGAGCCAAATCCTATTTTCCAAAAACAAACAAAGGCCTAGAAGGTGAAAAAAGGATAGGTGCAGAGACTCAATGG\u001b[01;31m\u001b[Kcctatgtgatgg\u001b[m\u001b[K\n",
      "grep: write error: Broken pipe\n",
      "grep: write error: Broken pipe\n"
     ]
    }
   ],
   "source": [
    "!grep \"CACCTTACCTTA\" -i --color=always demulti_linked_samples/Angelicaesinensis_a_LA.fq | grep -i --color=always \"CCTATGTGATGG\" | head"
   ]
  },
  {
   "cell_type": "markdown",
   "metadata": {},
   "source": [
    "Remember that we have count the amplicons with Angelicaesinensis_a tag-pair in the most common orientation (5' tag Forward, 3' tag revcom):"
   ]
  },
  {
   "cell_type": "code",
   "execution_count": 49,
   "metadata": {},
   "outputs": [
    {
     "name": "stdout",
     "output_type": "stream",
     "text": [
      "21467\n"
     ]
    }
   ],
   "source": [
    "!grep -i \"CACCTTACCTTA\" trnL_subsample.assembled.fastq | grep -c -i \"CCTATGTGATGG\""
   ]
  },
  {
   "cell_type": "markdown",
   "metadata": {},
   "source": [
    "Let's count this tag-pair in the Angelicaesinensis_a:"
   ]
  },
  {
   "cell_type": "code",
   "execution_count": 50,
   "metadata": {},
   "outputs": [
    {
     "name": "stdout",
     "output_type": "stream",
     "text": [
      "21459\n"
     ]
    }
   ],
   "source": [
    "!grep -i \"CACCTTACCTTA\" demulti_linked_samples/Angelicaesinensis_a_LA.fq | grep -c -i \"CCTATGTGATGG\""
   ]
  },
  {
   "cell_type": "markdown",
   "metadata": {},
   "source": [
    "Pretty similar, right? Only 8 sequences were discarded."
   ]
  },
  {
   "cell_type": "markdown",
   "metadata": {},
   "source": [
    "**The next step is the `read cleaning` preprocessing:**"
   ]
  },
  {
   "cell_type": "markdown",
   "metadata": {},
   "source": [
    "The following script executes the **read cleaning**, involving **several sub-steps** within code:"
   ]
  },
  {
   "cell_type": "code",
   "execution_count": 51,
   "metadata": {},
   "outputs": [
    {
     "name": "stdout",
     "output_type": "stream",
     "text": [
      "##################################################\n",
      "TAGS AND PRIMERS CLIPPING\n",
      "##################################################\n",
      "get your primer's reverse complement in this website:\n",
      "http://arep.med.harvard.edu/labgc/adnan/projects/Utilities/revcomp.html\n",
      " \n",
      "Usage: 3_tag_primer_clipping_clean_derep.sh [-b tags file] [-F primer forwad] [-R primer reverse] [-f primer forward] [-r primer reverse] [-p prefix] [-l amplicon min length] [-d path to samples]\n",
      "-b     original barcodes/tags file\n",
      "-F     primer forward\n",
      "-R     primer reverse\n",
      "-f     reverse complement primer forward\n",
      "-r     everse complement primer reverse\n",
      "-p     prefix to quality file\n",
      "-l     minimum length for clipped amplicon\n",
      "-d     path to demultiplexed samples directory. Use pwd.\n",
      "-h     print this help\n",
      " \n",
      "##################################################\n"
     ]
    }
   ],
   "source": [
    "!bash 3_tag_primer_clipping_clean_derep.sh -h"
   ]
  },
  {
   "cell_type": "markdown",
   "metadata": {},
   "source": [
    "The script starts removing tags and primers using **cutadapt**, storing the resulting sequences in the **clip_out/tag_clip**<p>\n",
    "and **clip_out/primer_clip** directories, allowing for further checking of read cleaning procedure/performance.<p>\n",
    "Then **sequences containing Ns** are **discarded**, Illumina read names are replaced by **hashes**, **expected error rates** (ee) are **added** and the files are **converted to fasta**.<p>\n",
    "The **quality file** is built, using the ee and read length of each sequence.<p>\n",
    "Finally, the **dereplication** is done using **VSEARCH**, which **removes exact duplicates**, adding the **read abundance** information to each sequence header.<p>"
   ]
  },
  {
   "cell_type": "code",
   "execution_count": 1,
   "metadata": {},
   "outputs": [
    {
     "name": "stderr",
     "output_type": "stream",
     "text": [
      "minseqlength 32: 12 sequences discarded.\n",
      "minseqlength 32: 2 sequences discarded.\n",
      "minseqlength 32: 2 sequences discarded.\n"
     ]
    }
   ],
   "source": [
    "%%bash\n",
    "./3_tag_primer_clipping_clean_derep.sh \\\n",
    "    -b trnL_sub_tags.txt \\\n",
    "    -F GGGCAATCCTGAGCCAA \\\n",
    "    -R CCATTGAGTCTCTGCACCTATC \\\n",
    "    -f TTGGCTCAGGATTGCCC \\\n",
    "    -r GATAGGTGCAGAGACTCAATGG \\\n",
    "    -p trnL_sub \\\n",
    "    -l 30 \\\n",
    "    -d /home/jupyter/METAPIPE_Workshop2021/demulti_linked_samples"
   ]
  },
  {
   "cell_type": "markdown",
   "metadata": {},
   "source": [
    "**Let's take a look on the results:**"
   ]
  },
  {
   "cell_type": "code",
   "execution_count": 2,
   "metadata": {},
   "outputs": [
    {
     "name": "stdout",
     "output_type": "stream",
     "text": [
      "total 2548672\n",
      "drwxr-xr-x  8 jupyter jupyter       4096 Dec 14 00:09 \u001b[0m\u001b[01;34m.git\u001b[0m/\n",
      "drwxr-xr-x  7 jupyter jupyter      12288 Dec 14 00:09 \u001b[01;34m.\u001b[0m/\n",
      "-rw-r--r--  1 jupyter jupyter      83035 Dec 14 00:09 metapipe-run.ipynb\n",
      "drwxr-xr-x  2 jupyter jupyter       4096 Dec 14 00:07 \u001b[01;34mdereplicated\u001b[0m/\n",
      "-rw-r--r--  1 jupyter jupyter    1297650 Dec 14 00:07 trnL_sub.qual\n",
      "-rwxrwxrwx  1 jupyter jupyter       3886 Dec 14 00:04 \u001b[01;32m3_tag_primer_clipping_clean_derep.sh\u001b[0m*\n",
      "drwxr-xr-x  5 jupyter jupyter       4096 Dec 13 23:59 \u001b[01;34mclip_out\u001b[0m/\n",
      "-rw-r--r--  1 jupyter jupyter    5845221 Dec 13 21:23 metapipe-Install_Setup.ipynb\n",
      "drwxr-xr-x  2 jupyter jupyter       4096 Dec 13 21:21 \u001b[01;34mdemulti_linked_samples\u001b[0m/\n"
     ]
    }
   ],
   "source": [
    "%ls -lat | head"
   ]
  },
  {
   "cell_type": "markdown",
   "metadata": {},
   "source": [
    "First, Let's check the **distribuition of the qualities**:"
   ]
  },
  {
   "cell_type": "code",
   "execution_count": 3,
   "metadata": {},
   "outputs": [
    {
     "data": {
      "text/plain": [
       "Text(-9.075000000000003, 0.5, 'Distribution of qualities')"
      ]
     },
     "execution_count": 3,
     "metadata": {},
     "output_type": "execute_result"
    },
    {
     "data": {
      "image/png": "[encoded data removed]",
      "text/plain": [
       "<Figure size 720x360 with 1 Axes>"
      ]
     },
     "metadata": {
      "needs_background": "light"
     },
     "output_type": "display_data"
    }
   ],
   "source": [
    "# Import the necessary modules\n",
    "import matplotlib.pyplot as plt\n",
    "import seaborn as sns\n",
    "import pandas as pd\n",
    "\n",
    "# Initialize the lists for X and Y\n",
    "data = pd.read_csv('trnL_sub.qual', sep='\\t')\n",
    "\n",
    "df = pd.DataFrame(data)\n",
    "\n",
    "# distribution based on column 2 from file\n",
    "dist_plot = sns.displot(df.iloc[:, 1], bins=15)\n",
    "\n",
    "# show plot with custom width\n",
    "dist_plot.fig.set_figwidth(10)\n",
    "plt.ylabel(\"Distribution of qualities\")"
   ]
  },
  {
   "cell_type": "markdown",
   "metadata": {},
   "source": [
    "As expected, we have **very low error rates**, that's **pretty good!**"
   ]
  },
  {
   "cell_type": "markdown",
   "metadata": {},
   "source": [
    "Now, let's check our **read cleaning processing**:"
   ]
  },
  {
   "cell_type": "markdown",
   "metadata": {},
   "source": [
    "First, take a look again in the tag-pair found in **lowercase** in the demultiplexed sequences:"
   ]
  },
  {
   "cell_type": "code",
   "execution_count": 4,
   "metadata": {},
   "outputs": [
    {
     "name": "stdout",
     "output_type": "stream",
     "text": [
      "@M02980:420:000000000-G84WN:1:1101:14746:1924 1:N:0:GTCTACAC+GCCAAGGT\n",
      "caccttaccttaCCATTGAGTCTCTGCACCTATCCCCTTCCTATCTTAGGAGAAGAAACATTGTCTTCATGAACCGGATTTGGCTCAGGATTGCCCcctatgtgatgg\n"
     ]
    }
   ],
   "source": [
    "!head -2 demulti_linked_samples/Angelicaesinensis_a_LA.fq"
   ]
  },
  {
   "cell_type": "markdown",
   "metadata": {},
   "source": [
    "Let's chack again the tag-pair for **Angelicaesinensis_a** sample:"
   ]
  },
  {
   "cell_type": "code",
   "execution_count": 5,
   "metadata": {},
   "outputs": [
    {
     "name": "stdout",
     "output_type": "stream",
     "text": [
      "Angelicaesinensis_a\tCACCTTACCTTA\tCCATCACATAGG\n"
     ]
    }
   ],
   "source": [
    "!grep \"Angelicaesinensis_a\" trnL_sub_tags.txt"
   ]
  },
  {
   "cell_type": "markdown",
   "metadata": {},
   "source": [
    "Now, take a look in the **clip_out/tag_clip** output sequences:"
   ]
  },
  {
   "cell_type": "code",
   "execution_count": null,
   "metadata": {},
   "outputs": [],
   "source": [
    "!head -2 clip_out/tag_clip/Angelicaesinensis_a_trim1.fq"
   ]
  },
  {
   "cell_type": "markdown",
   "metadata": {},
   "source": [
    "<p>As you can see in the mapping file, the 5&apos; tag is in forward direction <strong>caccttacctta</strong>, and the 3&apos; tag is the reverse complement of the reverse tag <strong>cctatgtgatgg&nbsp;</strong>(prom R2 pair-end read), configuring the tags orientation found in the <strong>Barcodes_LA3.fa</strong> file, which is the most common tag orientation in <strong>merged Illumina paired-end reads</strong>.</p>\n",
    "<p>Right after the tags in lowercase, we can see the the <strong>3&apos; primer in forward direction</strong> CCATTGAGTCTCTGCACCTATC, the <strong>amplicon </strong>and the <strong>5&apos; primer in reverse direction</strong>.</p>"
   ]
  },
  {
   "cell_type": "markdown",
   "metadata": {},
   "source": [
    "caccttacctta**CCATTGAGTCTCTGCACCTATC**`CCCTTCCTATCTTAGGAGAAGAAACATTGTCTTCATGAACCGGAT`**TTGGCTCAGGATTGCCC**cctatgtgatgg"
   ]
  },
  {
   "cell_type": "markdown",
   "metadata": {},
   "source": [
    "This amplicon is **3'->5'** oriented.<p>\n",
    "In the **`5'`** we find the `Reverse primer`, and in the **`3'`** we find the `Forward primer`, reverse complement."
   ]
  },
  {
   "cell_type": "markdown",
   "metadata": {},
   "source": [
    "Observe now in the **primer_clip** output the **primer removal**:"
   ]
  },
  {
   "cell_type": "code",
   "execution_count": 6,
   "metadata": {},
   "outputs": [
    {
     "name": "stdout",
     "output_type": "stream",
     "text": [
      "@M02980:420:000000000-G84WN:1:1101:14746:1924 1:N:0:GTCTACAC+GCCAAGGT\n",
      "CCCTTCCTATCTTAGGAGAAGAAACATTGTCTTCATGAACCGGAT\n"
     ]
    }
   ],
   "source": [
    "!head -2 clip_out/primer_clip/Angelicaesinensis_a_trim2.fq"
   ]
  },
  {
   "cell_type": "markdown",
   "metadata": {},
   "source": [
    "And finally, the **dereplicated** samples' sequences:"
   ]
  },
  {
   "cell_type": "code",
   "execution_count": 7,
   "metadata": {},
   "outputs": [
    {
     "name": "stdout",
     "output_type": "stream",
     "text": [
      ">addff39eca064dd9caa294721e6a23cab9c331ab;size=11061\n",
      "ATCCTATTTTCCAAAAACAAACAAAGGCCCAGAAGGTGAAAAAAG\n"
     ]
    }
   ],
   "source": [
    "!head -2 dereplicated/Angelicaesinensis_a_dp.fasta"
   ]
  },
  {
   "cell_type": "markdown",
   "metadata": {},
   "source": [
    "In the **dereplicated** samples, we have our **trimmed**, clean amplicons, with proper **hash names** and **abundance** \"size\" information."
   ]
  },
  {
   "cell_type": "markdown",
   "metadata": {},
   "source": [
    "**How many sequences were lost during the read cleaning step?**"
   ]
  },
  {
   "cell_type": "markdown",
   "metadata": {},
   "source": [
    "First, let's **count** the amount of **reads** for each **sample** right after the demultiplexing step:"
   ]
  },
  {
   "cell_type": "code",
   "execution_count": 8,
   "metadata": {},
   "outputs": [],
   "source": [
    "%%bash\n",
    "./count_fastq_sequences.sh demulti_linked_samples/*.fq > demulti_count_trnL.txt"
   ]
  },
  {
   "cell_type": "code",
   "execution_count": 9,
   "metadata": {},
   "outputs": [
    {
     "name": "stdout",
     "output_type": "stream",
     "text": [
      "\tdemulti_linked_samples/Angelicaesinensis_a_LA.fq : 22,358\n",
      "\tdemulti_linked_samples/Angelicaesinensis_b_LA.fq : 31,246\n",
      "\tdemulti_linked_samples/Carthamustinctorius_a_LA.fq : 29,172\n",
      "\tdemulti_linked_samples/Carthamustinctorius_b_LA.fq : 11,424\n",
      "\tdemulti_linked_samples/Citrusaurantium_a_LA.fq : 2,876\n",
      "\tdemulti_linked_samples/Citrusaurantium_b_LA.fq : 56,024\n",
      "\tdemulti_linked_samples/Cyperusrotundus_a_LA.fq : 32,552\n",
      "\tdemulti_linked_samples/Cyperusrotundus_b_LA.fq : 2,299\n",
      "\tdemulti_linked_samples/GXZYT_a_LA.fq : 37,335\n",
      "\tdemulti_linked_samples/GXZYT_b_LA.fq : 2,810\n"
     ]
    }
   ],
   "source": [
    "!head demulti_count_trnL.txt"
   ]
  },
  {
   "cell_type": "markdown",
   "metadata": {},
   "source": [
    "**We are ready to run the clustering step, which groups the amplicons by nucleotide similarity, creating the OTUs `(Operational Taxonomic Units)`, called by different names all the time. Basically, clustered similar amplicons.**"
   ]
  },
  {
   "cell_type": "code",
   "execution_count": 11,
   "metadata": {
    "tags": []
   },
   "outputs": [
    {
     "name": "stderr",
     "output_type": "stream",
     "text": [
      "vsearch v2.18.0_linux_x86_64, 14.7GB RAM, 4 cores\n",
      "https://github.com/torognes/vsearch\n",
      "\n",
      "Dereplicating file ./tmp.iZ1ST0tzDu 100%\n",
      "2042036 nt in 34521 seqs, min 32, max 218, avg 59\n",
      "Sorting 100%\n",
      "25373 unique sequences, avg cluster 25.4, median 1, max 44856\n",
      "Writing output file 100%\n",
      "Swarm 3.0.0\n",
      "Copyright (C) 2012-2019 Torbjorn Rognes and Frederic Mahe\n",
      "https://github.com/torognes/swarm\n",
      "\n",
      "Mahe F, Rognes T, Quince C, de Vargas C, Dunthorn M (2014)\n",
      "Swarm: robust and fast clustering method for amplicon-based studies\n",
      "PeerJ 2:e593 https://doi.org/10.7717/peerj.593\n",
      "\n",
      "Mahe F, Rognes T, Quince C, de Vargas C, Dunthorn M (2015)\n",
      "Swarm v2: highly-scalable and high-resolution amplicon clustering\n",
      "PeerJ 3:e1420 https://doi.org/10.7717/peerj.1420\n",
      "\n",
      "CPU features:      mmx sse sse2 sse3 ssse3 sse4.1 sse4.2 popcnt avx avx2\n",
      "Database file:     -\n",
      "Output file:       trnL_sub_cluster_tmp.swarms\n",
      "Statistics file:   trnL_sub_cluster_tmp.stats\n",
      "Resolution (d):    1\n",
      "Threads:           8\n",
      "Break OTUs:        Yes\n",
      "Fastidious:        Yes, with boundary 3\n",
      "\n",
      "Reading sequences: 100%  \n",
      "Indexing database: 100%  \n",
      "Database info:     1515173 nt in 25373 sequences, longest 218 nt\n",
      "Hashing sequences: 100%  \n",
      "Building network:  100%  \n",
      "Clustering:        100%  \n",
      "\n",
      "Results before fastidious processing:\n",
      "Number of swarms:  5887\n",
      "Largest swarm:     2518\n",
      "\n",
      "Counting amplicons in heavy and light swarms 100%  \n",
      "Heavy swarms: 396, with 19823 amplicons\n",
      "Light swarms: 5491, with 5550 amplicons\n",
      "Total length of amplicons in light swarms: 339979\n",
      "Bloom filter: bits=16, m=38077648, k=6, size=4.5MB\n",
      "Adding light swarm amplicons to Bloom filter 100%  \n",
      "Generated 2269051 variants from light swarms\n",
      "Checking heavy swarm amplicons against Bloom filter 100%  \n",
      "Heavy variants: 7808832\n",
      "Got 13228 graft candidates\n",
      "Grafting light swarms on heavy swarms 100%  \n",
      "Made 2079 grafts\n",
      "\n",
      "Writing swarms:    100%  \n",
      "Writing seeds:     100%  \n",
      "Writing stats:     100%  \n",
      "\n",
      "Number of swarms:  3808\n",
      "Largest swarm:     2684\n",
      "Max generations:   8\n",
      "vsearch v2.18.0_linux_x86_64, 14.7GB RAM, 4 cores\n",
      "https://github.com/torognes/vsearch\n",
      "\n",
      "Reading file ./tmp.KyWxu1aOIp 100%\n",
      "238522 nt in 3808 seqs, min 32, max 218, avg 63\n",
      "Getting sizes 100%\n",
      "Sorting 100%\n",
      "Median abundance: 1\n",
      "Writing output 100%\n",
      "vsearch v2.18.0_linux_x86_64, 14.7GB RAM, 4 cores\n",
      "https://github.com/torognes/vsearch\n",
      "\n",
      "Reading file trnL_sub_cluster_representatives_tmp.fas 100%\n",
      "238522 nt in 3808 seqs, min 32, max 218, avg 63\n",
      "Masking 100%\n",
      "Sorting by abundance 100%\n",
      "Counting k-mers 100%\n",
      "Detecting chimeras 100%\n",
      "Found 27 (0.7%) chimeras, 3780 (99.3%) non-chimeras,\n",
      "and 1 (0.0%) borderline sequences in 3808 unique sequences.\n",
      "Taking abundance information into account, this corresponds to\n",
      "34 (0.0%) chimeras, 643376 (100.0%) non-chimeras,\n",
      "and 1 (0.0%) borderline sequences in 643411 total sequences.\n",
      "vsearch v2.18.0_linux_x86_64, 14.7GB RAM, 4 cores\n",
      "https://github.com/torognes/vsearch\n",
      "\n",
      "Reading file ./tmp.sYyBfxQNgH 100%\n",
      "236540 nt in 3780 seqs, min 32, max 218, avg 63\n",
      "Getting sizes 100%\n",
      "Sorting 100%\n",
      "Median abundance: 1\n",
      "Writing output 100%\n"
     ]
    }
   ],
   "source": [
    "%%bash\n",
    "./4_clustering_swarm_with_chim_filter.sh trnL_sub /home/jupyter/METAPIPE_Workshop2021/dereplicated"
   ]
  },
  {
   "cell_type": "markdown",
   "metadata": {},
   "source": [
    "You may check SWARM documentation here: https://github.com/torognes/swarm"
   ]
  },
  {
   "cell_type": "markdown",
   "metadata": {},
   "source": [
    "**Let's check what was produced?**"
   ]
  },
  {
   "cell_type": "code",
   "execution_count": 12,
   "metadata": {},
   "outputs": [
    {
     "name": "stdout",
     "output_type": "stream",
     "text": [
      "total 2554072\n",
      "drwxr-xr-x  8 jupyter jupyter      12288 Dec 14 00:12 \u001b[0m\u001b[01;34m.\u001b[0m/\n",
      "drwxr-xr-x  2 jupyter jupyter       4096 Dec 14 00:12 \u001b[01;34mchimera_out\u001b[0m/\n",
      "-rw-r--r--  1 jupyter jupyter     435371 Dec 14 00:12 trnL_sub_cluster_representatives.uchime\n",
      "-rw-r--r--  1 jupyter jupyter    1220308 Dec 14 00:12 trnL_sub_cluster.swarms\n",
      "-rw-r--r--  1 jupyter jupyter     202860 Dec 14 00:12 trnL_sub_cluster.stats\n",
      "-rw-r--r--  1 jupyter jupyter     410257 Dec 14 00:12 trnL_sub_cluster_representatives2blast.fas\n",
      "-rw-r--r--  1 jupyter jupyter     433105 Dec 14 00:12 trnL_sub_cluster_representatives.fas\n",
      "-rw-r--r--  1 jupyter jupyter    2786227 Dec 14 00:12 trnL_sub_global_dp.fas\n",
      "drwxr-xr-x  8 jupyter jupyter       4096 Dec 14 00:11 \u001b[01;34m.git\u001b[0m/\n"
     ]
    }
   ],
   "source": [
    "%ls -lat | head"
   ]
  },
  {
   "cell_type": "markdown",
   "metadata": {},
   "source": [
    "The `_representatives.fas` presents the representative sequence of each OTU, in fasta format, and respective OTU abundance."
   ]
  },
  {
   "cell_type": "code",
   "execution_count": 13,
   "metadata": {},
   "outputs": [
    {
     "name": "stdout",
     "output_type": "stream",
     "text": [
      ">a84c749701d67d1226018c6714b72e543a618f16;size=64940;\n",
      "CTTTTTTTATATAAAAAAAAATTTTATAATATAATAAAAAATTTAGAATAATAATATTCTATATATATTATATATTTTTTTATATTTTTTCAAAATAATGAT\n",
      ">ac90db76fbae68003ec939d36b9847a46cbfa3c7;size=51129;\n",
      "ATCCTCTTCTCTTTTCCAAGAACAAACAGGGGTTCAGAAAGCGAAAAAGGGG\n"
     ]
    }
   ],
   "source": [
    "!head -4 trnL_sub_cluster_representatives.fas"
   ]
  },
  {
   "cell_type": "markdown",
   "metadata": {},
   "source": [
    "The `_representatives2blast.fas` is the same output as `_representatives.fas`, but the abundance information is edited in order to facilitate the Blast header parsing."
   ]
  },
  {
   "cell_type": "code",
   "execution_count": 14,
   "metadata": {},
   "outputs": [
    {
     "name": "stdout",
     "output_type": "stream",
     "text": [
      ">a84c749701d67d1226018c6714b72e543a618f16_64940\n",
      "CTTTTTTTATATAAAAAAAAATTTTATAATATAATAAAAAATTTAGAATAATAATATTCTATATATATTATATATTTTTTTATATTTTTTCAAAATAATGAT\n",
      ">ac90db76fbae68003ec939d36b9847a46cbfa3c7_51129\n",
      "ATCCTCTTCTCTTTTCCAAGAACAAACAGGGGTTCAGAAAGCGAAAAAGGGG\n"
     ]
    }
   ],
   "source": [
    "!head -4 trnL_sub_cluster_representatives2blast.fas"
   ]
  },
  {
   "cell_type": "markdown",
   "metadata": {},
   "source": [
    "The `.stats` output is very important, because it holds the **quantitative metrics** for each OTU:<p>"
   ]
  },
  {
   "cell_type": "code",
   "execution_count": 19,
   "metadata": {},
   "outputs": [
    {
     "name": "stdout",
     "output_type": "stream",
     "text": [
      "2684\t64940\ta84c749701d67d1226018c6714b72e543a618f16\t44856\t1949\t8\t8\n",
      "989\t51129\tac90db76fbae68003ec939d36b9847a46cbfa3c7\t43740\t730\t5\t5\n",
      "865\t43673\t2987db85c9fae5a1464f814e070b7507621e8a57\t36626\t635\t4\t4\n",
      "767\t37670\ta069993ab97b3f720cf66567bfb1fad838b20dc6\t32359\t553\t5\t5\n"
     ]
    }
   ],
   "source": [
    "!head -4 trnL_sub_cluster.stats"
   ]
  },
  {
   "cell_type": "markdown",
   "metadata": {},
   "source": [
    "1.number of unique sequences in the OTU,<p>\n",
    "2.**total abundance of sequences in the OTU**,<p>\n",
    "3.**identifier of the initial seed (the amplicon)**,<p>\n",
    "4.initial seed abundance,<p>\n",
    "5.number of sequences with an abundance of 1 in the OTU (singletons),<p>\n",
    "6.maximum number of iterations before the OTU reached its natural limit,<p>\n",
    "7.cummulated number of steps along the path joining the seed and the furthermost amplicon in the OTU.<p>"
   ]
  },
  {
   "cell_type": "markdown",
   "metadata": {},
   "source": [
    "The `.uchime` output shows the chimera checking metrics:"
   ]
  },
  {
   "cell_type": "code",
   "execution_count": 20,
   "metadata": {},
   "outputs": [
    {
     "data": {
      "text/html": [
       "<div>\n",
       "<style scoped>\n",
       "    .dataframe tbody tr th:only-of-type {\n",
       "        vertical-align: middle;\n",
       "    }\n",
       "\n",
       "    .dataframe tbody tr th {\n",
       "        vertical-align: top;\n",
       "    }\n",
       "\n",
       "    .dataframe thead th {\n",
       "        text-align: right;\n",
       "    }\n",
       "</style>\n",
       "<table border=\"1\" class=\"dataframe\">\n",
       "  <thead>\n",
       "    <tr style=\"text-align: right;\">\n",
       "      <th></th>\n",
       "      <th>0</th>\n",
       "      <th>1</th>\n",
       "      <th>2</th>\n",
       "      <th>3</th>\n",
       "      <th>4</th>\n",
       "      <th>5</th>\n",
       "      <th>6</th>\n",
       "      <th>7</th>\n",
       "      <th>8</th>\n",
       "      <th>9</th>\n",
       "      <th>10</th>\n",
       "      <th>11</th>\n",
       "      <th>12</th>\n",
       "      <th>13</th>\n",
       "      <th>14</th>\n",
       "      <th>15</th>\n",
       "      <th>16</th>\n",
       "      <th>17</th>\n",
       "    </tr>\n",
       "  </thead>\n",
       "  <tbody>\n",
       "    <tr>\n",
       "      <th>0</th>\n",
       "      <td>0.0</td>\n",
       "      <td>a84c749701d67d1226018c6714b72e543a618f16;size=...</td>\n",
       "      <td>*</td>\n",
       "      <td>*</td>\n",
       "      <td>*</td>\n",
       "      <td>*</td>\n",
       "      <td>*</td>\n",
       "      <td>*</td>\n",
       "      <td>*</td>\n",
       "      <td>*</td>\n",
       "      <td>0</td>\n",
       "      <td>0</td>\n",
       "      <td>0</td>\n",
       "      <td>0</td>\n",
       "      <td>0</td>\n",
       "      <td>0</td>\n",
       "      <td>*</td>\n",
       "      <td>N</td>\n",
       "    </tr>\n",
       "    <tr>\n",
       "      <th>1</th>\n",
       "      <td>0.0</td>\n",
       "      <td>ac90db76fbae68003ec939d36b9847a46cbfa3c7;size=...</td>\n",
       "      <td>*</td>\n",
       "      <td>*</td>\n",
       "      <td>*</td>\n",
       "      <td>*</td>\n",
       "      <td>*</td>\n",
       "      <td>*</td>\n",
       "      <td>*</td>\n",
       "      <td>*</td>\n",
       "      <td>0</td>\n",
       "      <td>0</td>\n",
       "      <td>0</td>\n",
       "      <td>0</td>\n",
       "      <td>0</td>\n",
       "      <td>0</td>\n",
       "      <td>*</td>\n",
       "      <td>N</td>\n",
       "    </tr>\n",
       "    <tr>\n",
       "      <th>2</th>\n",
       "      <td>0.0</td>\n",
       "      <td>2987db85c9fae5a1464f814e070b7507621e8a57;size=...</td>\n",
       "      <td>*</td>\n",
       "      <td>*</td>\n",
       "      <td>*</td>\n",
       "      <td>*</td>\n",
       "      <td>*</td>\n",
       "      <td>*</td>\n",
       "      <td>*</td>\n",
       "      <td>*</td>\n",
       "      <td>0</td>\n",
       "      <td>0</td>\n",
       "      <td>0</td>\n",
       "      <td>0</td>\n",
       "      <td>0</td>\n",
       "      <td>0</td>\n",
       "      <td>*</td>\n",
       "      <td>N</td>\n",
       "    </tr>\n",
       "    <tr>\n",
       "      <th>3</th>\n",
       "      <td>0.0</td>\n",
       "      <td>addff39eca064dd9caa294721e6a23cab9c331ab;size=...</td>\n",
       "      <td>*</td>\n",
       "      <td>*</td>\n",
       "      <td>*</td>\n",
       "      <td>*</td>\n",
       "      <td>*</td>\n",
       "      <td>*</td>\n",
       "      <td>*</td>\n",
       "      <td>*</td>\n",
       "      <td>0</td>\n",
       "      <td>0</td>\n",
       "      <td>0</td>\n",
       "      <td>0</td>\n",
       "      <td>0</td>\n",
       "      <td>0</td>\n",
       "      <td>*</td>\n",
       "      <td>N</td>\n",
       "    </tr>\n",
       "  </tbody>\n",
       "</table>\n",
       "</div>"
      ],
      "text/plain": [
       "    0                                                  1  2  3  4  5  6  7   \\\n",
       "0  0.0  a84c749701d67d1226018c6714b72e543a618f16;size=...  *  *  *  *  *  *   \n",
       "1  0.0  ac90db76fbae68003ec939d36b9847a46cbfa3c7;size=...  *  *  *  *  *  *   \n",
       "2  0.0  2987db85c9fae5a1464f814e070b7507621e8a57;size=...  *  *  *  *  *  *   \n",
       "3  0.0  addff39eca064dd9caa294721e6a23cab9c331ab;size=...  *  *  *  *  *  *   \n",
       "\n",
       "  8  9   10  11  12  13  14  15 16 17  \n",
       "0  *  *   0   0   0   0   0   0  *  N  \n",
       "1  *  *   0   0   0   0   0   0  *  N  \n",
       "2  *  *   0   0   0   0   0   0  *  N  \n",
       "3  *  *   0   0   0   0   0   0  *  N  "
      ]
     },
     "execution_count": 20,
     "metadata": {},
     "output_type": "execute_result"
    }
   ],
   "source": [
    "get_glimpse_head('trnL_sub_cluster_representatives.uchime', file_header=False, n_lines=4)"
   ]
  },
  {
   "cell_type": "markdown",
   "metadata": {},
   "source": [
    "... which in this case are all *non-chimeras*:"
   ]
  },
  {
   "cell_type": "code",
   "execution_count": 21,
   "metadata": {},
   "outputs": [
    {
     "name": "stdout",
     "output_type": "stream",
     "text": [
      "0\n"
     ]
    }
   ],
   "source": [
    "!grep -c \"T\" trnL_sub_cluster_representatives.uchime "
   ]
  },
  {
   "cell_type": "markdown",
   "metadata": {},
   "source": [
    "**Now we are ready to perform the BLAST alignment of the representative seeds `(OTU representatives)` against our reference database previously formatted:**"
   ]
  },
  {
   "cell_type": "markdown",
   "metadata": {},
   "source": [
    "We are going to run the following steps using the **complete `Streptophyta_trnL_NCBI.fasta` database** previously downloaded, and the respective **`target_trnL.uniq.fasta`** fasta with the formatted **taxonomy lineage** headers."
   ]
  },
  {
   "cell_type": "code",
   "execution_count": 22,
   "metadata": {},
   "outputs": [
    {
     "name": "stdout",
     "output_type": "stream",
     "text": [
      "##################################################\n",
      "BLAST alignment against custom or NCBI NT local database.\n",
      " \n",
      "Usage: 5_BLAST_options.sh [-f fasta] [-d database] [-s float] [-c float] [-t treads] [-o output]\n",
      "-f     representative OTUs multifasta from clustering step\n",
      "-d     database to align against: 'NT' or 'My_refs.uniq.fasta'\n",
      "-s     minimum similarity between query and subject, float 0-1\n",
      "-c     minimum subject coverage reached by the query alignment, float 0-1\n",
      "-t     number of threads:\n",
      "           custom database: 2 threads for each 1000 seqs.\n",
      "           NCBI NT database: 4 threads for each 1000 seqs.\n",
      "-o     output name: 'name'_local_blast.tab\n",
      "-h     print this help\n",
      " \n",
      "##################################################\n"
     ]
    }
   ],
   "source": [
    "!bash 5_BLAST_options.sh -h"
   ]
  },
  {
   "cell_type": "code",
   "execution_count": 23,
   "metadata": {},
   "outputs": [
    {
     "name": "stdout",
     "output_type": "stream",
     "text": [
      "\n",
      "\n",
      "Building a new DB, current time: 12/14/2021 00:14:31\n",
      "New DB name:   /home/jupyter/METAPIPE_Workshop2021/target_trnL.uniq.fasta\n",
      "New DB title:  target_trnL.uniq.fasta\n",
      "Sequence type: Nucleotide\n",
      "Keep MBits: T\n",
      "Maximum file size: 1000000000B\n",
      "Adding sequences from FASTA; added 15359 sequences in 0.529497 seconds.\n",
      "\n",
      "\n"
     ]
    },
    {
     "name": "stderr",
     "output_type": "stream",
     "text": [
      "./5_BLAST_options.sh: 59: [: target_trnL.uniq.fasta: unexpected operator\n",
      "./5_BLAST_options.sh: 59: [: target_trnL.uniq.fasta: unexpected operator\n",
      "Warning: [blastn] Examining 5 or more matches is recommended\n"
     ]
    }
   ],
   "source": [
    "%%bash\n",
    "./5_BLAST_options.sh \\\n",
    "    -f trnL_sub_cluster_representatives2blast.fas \\\n",
    "    -d target_trnL.uniq.fasta -s 0.95 -c 0.5 -t 4 -o target95_trnL"
   ]
  },
  {
   "cell_type": "markdown",
   "metadata": {},
   "source": [
    "ATTENTION: if you would like to run the search against the entire `NT` NCBI database, run The BLAST command above using `-d NT`."
   ]
  },
  {
   "cell_type": "code",
   "execution_count": 24,
   "metadata": {},
   "outputs": [
    {
     "name": "stdout",
     "output_type": "stream",
     "text": [
      "total 2560740\n",
      "drwxr-xr-x  8 jupyter jupyter      12288 Dec 14 00:14 \u001b[0m\u001b[01;34m.\u001b[0m/\n",
      "-rw-r--r--  1 jupyter jupyter      99741 Dec 14 00:14 target95_trnL_OTU_tax_assignments.txt\n",
      "-rw-r--r--  1 jupyter jupyter     118761 Dec 14 00:14 Blast_results_formatted2OTUtable.tab\n",
      "-rw-r--r--  1 jupyter jupyter     121934 Dec 14 00:14 target95_trnL_local_blast.tab\n",
      "-rw-r--r--  1 jupyter jupyter     749568 Dec 14 00:14 target_trnL.uniq.fasta.ndb\n",
      "-rw-r--r--  1 jupyter jupyter     291829 Dec 14 00:14 target_trnL.uniq.fasta.nos\n",
      "-rw-r--r--  1 jupyter jupyter      16384 Dec 14 00:14 target_trnL.uniq.fasta.ntf\n",
      "-rw-r--r--  1 jupyter jupyter     184316 Dec 14 00:14 target_trnL.uniq.fasta.not\n",
      "-rw-r--r--  1 jupyter jupyter      61440 Dec 14 00:14 target_trnL.uniq.fasta.nto\n"
     ]
    }
   ],
   "source": [
    "%ls -lat | head"
   ]
  },
  {
   "cell_type": "markdown",
   "metadata": {},
   "source": [
    "**Let's get a glimpse of the BLAST result?**"
   ]
  },
  {
   "cell_type": "code",
   "execution_count": 25,
   "metadata": {},
   "outputs": [
    {
     "data": {
      "text/html": [
       "<div>\n",
       "<style scoped>\n",
       "    .dataframe tbody tr th:only-of-type {\n",
       "        vertical-align: middle;\n",
       "    }\n",
       "\n",
       "    .dataframe tbody tr th {\n",
       "        vertical-align: top;\n",
       "    }\n",
       "\n",
       "    .dataframe thead th {\n",
       "        text-align: right;\n",
       "    }\n",
       "</style>\n",
       "<table border=\"1\" class=\"dataframe\">\n",
       "  <thead>\n",
       "    <tr style=\"text-align: right;\">\n",
       "      <th></th>\n",
       "      <th>0</th>\n",
       "      <th>1</th>\n",
       "      <th>2</th>\n",
       "      <th>3</th>\n",
       "      <th>4</th>\n",
       "    </tr>\n",
       "  </thead>\n",
       "  <tbody>\n",
       "    <tr>\n",
       "      <th>0</th>\n",
       "      <td>ac90db76fbae68003ec939d36b9847a46cbfa3c7_51129</td>\n",
       "      <td>100.0</td>\n",
       "      <td>Eukaryota|Streptophyta|Magnoliopsida|Sapindale...</td>\n",
       "      <td>gb|KY656130.1|</td>\n",
       "      <td>NaN</td>\n",
       "    </tr>\n",
       "    <tr>\n",
       "      <th>1</th>\n",
       "      <td>2987db85c9fae5a1464f814e070b7507621e8a57_43673</td>\n",
       "      <td>100.0</td>\n",
       "      <td>Eukaryota|Streptophyta|Magnoliopsida|Poales|Po...</td>\n",
       "      <td>gb|MN715130.1|</td>\n",
       "      <td>NaN</td>\n",
       "    </tr>\n",
       "    <tr>\n",
       "      <th>2</th>\n",
       "      <td>addff39eca064dd9caa294721e6a23cab9c331ab_41429</td>\n",
       "      <td>100.0</td>\n",
       "      <td>Eukaryota|Streptophyta|Magnoliopsida|Apiales|A...</td>\n",
       "      <td>gb|MT846883.1|</td>\n",
       "      <td>NaN</td>\n",
       "    </tr>\n",
       "    <tr>\n",
       "      <th>3</th>\n",
       "      <td>a069993ab97b3f720cf66567bfb1fad838b20dc6_37670</td>\n",
       "      <td>100.0</td>\n",
       "      <td>Eukaryota|Streptophyta|Magnoliopsida|Laurales|...</td>\n",
       "      <td>gb|MN482111.1|</td>\n",
       "      <td>NaN</td>\n",
       "    </tr>\n",
       "    <tr>\n",
       "      <th>4</th>\n",
       "      <td>28bf85082548d49c8d3b2793064a2fae0f417562_34741</td>\n",
       "      <td>100.0</td>\n",
       "      <td>Eukaryota|Streptophyta|Magnoliopsida|Rosales|R...</td>\n",
       "      <td>gb|MK411811.1|</td>\n",
       "      <td>NaN</td>\n",
       "    </tr>\n",
       "    <tr>\n",
       "      <th>5</th>\n",
       "      <td>967e951648145482fcc47f85b2a3530bec26d552_33003</td>\n",
       "      <td>100.0</td>\n",
       "      <td>Eukaryota|Streptophyta|Magnoliopsida|Apiales|A...</td>\n",
       "      <td>gb|MT846883.1|</td>\n",
       "      <td>NaN</td>\n",
       "    </tr>\n",
       "    <tr>\n",
       "      <th>6</th>\n",
       "      <td>36ecc3a6b7c304e724eb2680f97c751acaa0cdf6_20092</td>\n",
       "      <td>100.0</td>\n",
       "      <td>Eukaryota|Streptophyta|Magnoliopsida|Fabales|F...</td>\n",
       "      <td>gb|MN167287.1|</td>\n",
       "      <td>NaN</td>\n",
       "    </tr>\n",
       "    <tr>\n",
       "      <th>7</th>\n",
       "      <td>7bb64ef2725b146c74add357867e20995ecd52ee_19835</td>\n",
       "      <td>100.0</td>\n",
       "      <td>Eukaryota|Streptophyta|Magnoliopsida|Sapindale...</td>\n",
       "      <td>gb|KY656130.1|</td>\n",
       "      <td>NaN</td>\n",
       "    </tr>\n",
       "    <tr>\n",
       "      <th>8</th>\n",
       "      <td>1d2c40bd28ba9fcb65db0be2eea63b1e8e1428c4_17286</td>\n",
       "      <td>100.0</td>\n",
       "      <td>Eukaryota|Streptophyta|Magnoliopsida|Asterales...</td>\n",
       "      <td>gb|MW984537.1|</td>\n",
       "      <td>NaN</td>\n",
       "    </tr>\n",
       "    <tr>\n",
       "      <th>9</th>\n",
       "      <td>720f7ec10f985a208dcb0947d436ba0b5871ed40_16708</td>\n",
       "      <td>100.0</td>\n",
       "      <td>Eukaryota|Streptophyta|Magnoliopsida|Poales|Po...</td>\n",
       "      <td>gb|MN715130.1|</td>\n",
       "      <td>NaN</td>\n",
       "    </tr>\n",
       "  </tbody>\n",
       "</table>\n",
       "</div>"
      ],
      "text/plain": [
       "                                                0      1  \\\n",
       "0  ac90db76fbae68003ec939d36b9847a46cbfa3c7_51129  100.0   \n",
       "1  2987db85c9fae5a1464f814e070b7507621e8a57_43673  100.0   \n",
       "2  addff39eca064dd9caa294721e6a23cab9c331ab_41429  100.0   \n",
       "3  a069993ab97b3f720cf66567bfb1fad838b20dc6_37670  100.0   \n",
       "4  28bf85082548d49c8d3b2793064a2fae0f417562_34741  100.0   \n",
       "5  967e951648145482fcc47f85b2a3530bec26d552_33003  100.0   \n",
       "6  36ecc3a6b7c304e724eb2680f97c751acaa0cdf6_20092  100.0   \n",
       "7  7bb64ef2725b146c74add357867e20995ecd52ee_19835  100.0   \n",
       "8  1d2c40bd28ba9fcb65db0be2eea63b1e8e1428c4_17286  100.0   \n",
       "9  720f7ec10f985a208dcb0947d436ba0b5871ed40_16708  100.0   \n",
       "\n",
       "                                                   2               3   4  \n",
       "0  Eukaryota|Streptophyta|Magnoliopsida|Sapindale...  gb|KY656130.1| NaN  \n",
       "1  Eukaryota|Streptophyta|Magnoliopsida|Poales|Po...  gb|MN715130.1| NaN  \n",
       "2  Eukaryota|Streptophyta|Magnoliopsida|Apiales|A...  gb|MT846883.1| NaN  \n",
       "3  Eukaryota|Streptophyta|Magnoliopsida|Laurales|...  gb|MN482111.1| NaN  \n",
       "4  Eukaryota|Streptophyta|Magnoliopsida|Rosales|R...  gb|MK411811.1| NaN  \n",
       "5  Eukaryota|Streptophyta|Magnoliopsida|Apiales|A...  gb|MT846883.1| NaN  \n",
       "6  Eukaryota|Streptophyta|Magnoliopsida|Fabales|F...  gb|MN167287.1| NaN  \n",
       "7  Eukaryota|Streptophyta|Magnoliopsida|Sapindale...  gb|KY656130.1| NaN  \n",
       "8  Eukaryota|Streptophyta|Magnoliopsida|Asterales...  gb|MW984537.1| NaN  \n",
       "9  Eukaryota|Streptophyta|Magnoliopsida|Poales|Po...  gb|MN715130.1| NaN  "
      ]
     },
     "execution_count": 25,
     "metadata": {},
     "output_type": "execute_result"
    }
   ],
   "source": [
    "get_glimpse_head('target95_trnL_local_blast.tab', file_header=False)"
   ]
  },
  {
   "cell_type": "markdown",
   "metadata": {},
   "source": [
    "Now converting the abundance information into a column:"
   ]
  },
  {
   "cell_type": "code",
   "execution_count": 26,
   "metadata": {},
   "outputs": [
    {
     "data": {
      "text/html": [
       "<div>\n",
       "<style scoped>\n",
       "    .dataframe tbody tr th:only-of-type {\n",
       "        vertical-align: middle;\n",
       "    }\n",
       "\n",
       "    .dataframe tbody tr th {\n",
       "        vertical-align: top;\n",
       "    }\n",
       "\n",
       "    .dataframe thead th {\n",
       "        text-align: right;\n",
       "    }\n",
       "</style>\n",
       "<table border=\"1\" class=\"dataframe\">\n",
       "  <thead>\n",
       "    <tr style=\"text-align: right;\">\n",
       "      <th></th>\n",
       "      <th>0</th>\n",
       "      <th>1</th>\n",
       "      <th>2</th>\n",
       "      <th>3</th>\n",
       "      <th>4</th>\n",
       "      <th>5</th>\n",
       "    </tr>\n",
       "  </thead>\n",
       "  <tbody>\n",
       "    <tr>\n",
       "      <th>0</th>\n",
       "      <td>ac90db76fbae68003ec939d36b9847a46cbfa3c7</td>\n",
       "      <td>51129</td>\n",
       "      <td>100.0</td>\n",
       "      <td>Eukaryota|Streptophyta|Magnoliopsida|Sapindale...</td>\n",
       "      <td>KY656130.1</td>\n",
       "      <td>NaN</td>\n",
       "    </tr>\n",
       "    <tr>\n",
       "      <th>1</th>\n",
       "      <td>2987db85c9fae5a1464f814e070b7507621e8a57</td>\n",
       "      <td>43673</td>\n",
       "      <td>100.0</td>\n",
       "      <td>Eukaryota|Streptophyta|Magnoliopsida|Poales|Po...</td>\n",
       "      <td>MN715130.1</td>\n",
       "      <td>NaN</td>\n",
       "    </tr>\n",
       "    <tr>\n",
       "      <th>2</th>\n",
       "      <td>addff39eca064dd9caa294721e6a23cab9c331ab</td>\n",
       "      <td>41429</td>\n",
       "      <td>100.0</td>\n",
       "      <td>Eukaryota|Streptophyta|Magnoliopsida|Apiales|A...</td>\n",
       "      <td>MT846883.1</td>\n",
       "      <td>NaN</td>\n",
       "    </tr>\n",
       "    <tr>\n",
       "      <th>3</th>\n",
       "      <td>a069993ab97b3f720cf66567bfb1fad838b20dc6</td>\n",
       "      <td>37670</td>\n",
       "      <td>100.0</td>\n",
       "      <td>Eukaryota|Streptophyta|Magnoliopsida|Laurales|...</td>\n",
       "      <td>MN482111.1</td>\n",
       "      <td>NaN</td>\n",
       "    </tr>\n",
       "    <tr>\n",
       "      <th>4</th>\n",
       "      <td>28bf85082548d49c8d3b2793064a2fae0f417562</td>\n",
       "      <td>34741</td>\n",
       "      <td>100.0</td>\n",
       "      <td>Eukaryota|Streptophyta|Magnoliopsida|Rosales|R...</td>\n",
       "      <td>MK411811.1</td>\n",
       "      <td>NaN</td>\n",
       "    </tr>\n",
       "    <tr>\n",
       "      <th>5</th>\n",
       "      <td>967e951648145482fcc47f85b2a3530bec26d552</td>\n",
       "      <td>33003</td>\n",
       "      <td>100.0</td>\n",
       "      <td>Eukaryota|Streptophyta|Magnoliopsida|Apiales|A...</td>\n",
       "      <td>MT846883.1</td>\n",
       "      <td>NaN</td>\n",
       "    </tr>\n",
       "    <tr>\n",
       "      <th>6</th>\n",
       "      <td>36ecc3a6b7c304e724eb2680f97c751acaa0cdf6</td>\n",
       "      <td>20092</td>\n",
       "      <td>100.0</td>\n",
       "      <td>Eukaryota|Streptophyta|Magnoliopsida|Fabales|F...</td>\n",
       "      <td>MN167287.1</td>\n",
       "      <td>NaN</td>\n",
       "    </tr>\n",
       "    <tr>\n",
       "      <th>7</th>\n",
       "      <td>7bb64ef2725b146c74add357867e20995ecd52ee</td>\n",
       "      <td>19835</td>\n",
       "      <td>100.0</td>\n",
       "      <td>Eukaryota|Streptophyta|Magnoliopsida|Sapindale...</td>\n",
       "      <td>KY656130.1</td>\n",
       "      <td>NaN</td>\n",
       "    </tr>\n",
       "    <tr>\n",
       "      <th>8</th>\n",
       "      <td>1d2c40bd28ba9fcb65db0be2eea63b1e8e1428c4</td>\n",
       "      <td>17286</td>\n",
       "      <td>100.0</td>\n",
       "      <td>Eukaryota|Streptophyta|Magnoliopsida|Asterales...</td>\n",
       "      <td>MW984537.1</td>\n",
       "      <td>NaN</td>\n",
       "    </tr>\n",
       "    <tr>\n",
       "      <th>9</th>\n",
       "      <td>720f7ec10f985a208dcb0947d436ba0b5871ed40</td>\n",
       "      <td>16708</td>\n",
       "      <td>100.0</td>\n",
       "      <td>Eukaryota|Streptophyta|Magnoliopsida|Poales|Po...</td>\n",
       "      <td>MN715130.1</td>\n",
       "      <td>NaN</td>\n",
       "    </tr>\n",
       "  </tbody>\n",
       "</table>\n",
       "</div>"
      ],
      "text/plain": [
       "                                          0      1      2  \\\n",
       "0  ac90db76fbae68003ec939d36b9847a46cbfa3c7  51129  100.0   \n",
       "1  2987db85c9fae5a1464f814e070b7507621e8a57  43673  100.0   \n",
       "2  addff39eca064dd9caa294721e6a23cab9c331ab  41429  100.0   \n",
       "3  a069993ab97b3f720cf66567bfb1fad838b20dc6  37670  100.0   \n",
       "4  28bf85082548d49c8d3b2793064a2fae0f417562  34741  100.0   \n",
       "5  967e951648145482fcc47f85b2a3530bec26d552  33003  100.0   \n",
       "6  36ecc3a6b7c304e724eb2680f97c751acaa0cdf6  20092  100.0   \n",
       "7  7bb64ef2725b146c74add357867e20995ecd52ee  19835  100.0   \n",
       "8  1d2c40bd28ba9fcb65db0be2eea63b1e8e1428c4  17286  100.0   \n",
       "9  720f7ec10f985a208dcb0947d436ba0b5871ed40  16708  100.0   \n",
       "\n",
       "                                                   3           4   5  \n",
       "0  Eukaryota|Streptophyta|Magnoliopsida|Sapindale...  KY656130.1 NaN  \n",
       "1  Eukaryota|Streptophyta|Magnoliopsida|Poales|Po...  MN715130.1 NaN  \n",
       "2  Eukaryota|Streptophyta|Magnoliopsida|Apiales|A...  MT846883.1 NaN  \n",
       "3  Eukaryota|Streptophyta|Magnoliopsida|Laurales|...  MN482111.1 NaN  \n",
       "4  Eukaryota|Streptophyta|Magnoliopsida|Rosales|R...  MK411811.1 NaN  \n",
       "5  Eukaryota|Streptophyta|Magnoliopsida|Apiales|A...  MT846883.1 NaN  \n",
       "6  Eukaryota|Streptophyta|Magnoliopsida|Fabales|F...  MN167287.1 NaN  \n",
       "7  Eukaryota|Streptophyta|Magnoliopsida|Sapindale...  KY656130.1 NaN  \n",
       "8  Eukaryota|Streptophyta|Magnoliopsida|Asterales...  MW984537.1 NaN  \n",
       "9  Eukaryota|Streptophyta|Magnoliopsida|Poales|Po...  MN715130.1 NaN  "
      ]
     },
     "execution_count": 26,
     "metadata": {},
     "output_type": "execute_result"
    }
   ],
   "source": [
    "get_glimpse_head('Blast_results_formatted2OTUtable.tab', file_header=False)"
   ]
  },
  {
   "cell_type": "markdown",
   "metadata": {},
   "source": [
    "And finally formatting the BLAST output as the **taxa assignment table**, required to run the **data analysis** process using R packages, mostly the **Phyloseq** package: "
   ]
  },
  {
   "cell_type": "code",
   "execution_count": 27,
   "metadata": {},
   "outputs": [
    {
     "data": {
      "text/html": [
       "<div>\n",
       "<style scoped>\n",
       "    .dataframe tbody tr th:only-of-type {\n",
       "        vertical-align: middle;\n",
       "    }\n",
       "\n",
       "    .dataframe tbody tr th {\n",
       "        vertical-align: top;\n",
       "    }\n",
       "\n",
       "    .dataframe thead th {\n",
       "        text-align: right;\n",
       "    }\n",
       "</style>\n",
       "<table border=\"1\" class=\"dataframe\">\n",
       "  <thead>\n",
       "    <tr style=\"text-align: right;\">\n",
       "      <th></th>\n",
       "      <th>amplicon</th>\n",
       "      <th>Kingdom</th>\n",
       "      <th>Phylum</th>\n",
       "      <th>Class</th>\n",
       "      <th>Ord</th>\n",
       "      <th>Family</th>\n",
       "      <th>Genus</th>\n",
       "      <th>Species</th>\n",
       "      <th>SIM</th>\n",
       "      <th>OTU_abundance</th>\n",
       "    </tr>\n",
       "  </thead>\n",
       "  <tbody>\n",
       "    <tr>\n",
       "      <th>0</th>\n",
       "      <td>ac90db76fbae68003ec939d36b9847a46cbfa3c7</td>\n",
       "      <td>Eukaryota</td>\n",
       "      <td>Streptophyta</td>\n",
       "      <td>Magnoliopsida</td>\n",
       "      <td>Sapindales</td>\n",
       "      <td>Rutaceae</td>\n",
       "      <td>Citrus</td>\n",
       "      <td>micrantha</td>\n",
       "      <td>100.0</td>\n",
       "      <td>51129</td>\n",
       "    </tr>\n",
       "    <tr>\n",
       "      <th>1</th>\n",
       "      <td>2987db85c9fae5a1464f814e070b7507621e8a57</td>\n",
       "      <td>Eukaryota</td>\n",
       "      <td>Streptophyta</td>\n",
       "      <td>Magnoliopsida</td>\n",
       "      <td>Poales</td>\n",
       "      <td>Poaceae</td>\n",
       "      <td>Zea</td>\n",
       "      <td>mays</td>\n",
       "      <td>100.0</td>\n",
       "      <td>43673</td>\n",
       "    </tr>\n",
       "    <tr>\n",
       "      <th>2</th>\n",
       "      <td>addff39eca064dd9caa294721e6a23cab9c331ab</td>\n",
       "      <td>Eukaryota</td>\n",
       "      <td>Streptophyta</td>\n",
       "      <td>Magnoliopsida</td>\n",
       "      <td>Apiales</td>\n",
       "      <td>Apiaceae</td>\n",
       "      <td>Selinum</td>\n",
       "      <td>carvifolia</td>\n",
       "      <td>100.0</td>\n",
       "      <td>41429</td>\n",
       "    </tr>\n",
       "    <tr>\n",
       "      <th>3</th>\n",
       "      <td>a069993ab97b3f720cf66567bfb1fad838b20dc6</td>\n",
       "      <td>Eukaryota</td>\n",
       "      <td>Streptophyta</td>\n",
       "      <td>Magnoliopsida</td>\n",
       "      <td>Laurales</td>\n",
       "      <td>Lauraceae</td>\n",
       "      <td>Cinnamomum</td>\n",
       "      <td>camphora</td>\n",
       "      <td>100.0</td>\n",
       "      <td>37670</td>\n",
       "    </tr>\n",
       "    <tr>\n",
       "      <th>4</th>\n",
       "      <td>28bf85082548d49c8d3b2793064a2fae0f417562</td>\n",
       "      <td>Eukaryota</td>\n",
       "      <td>Streptophyta</td>\n",
       "      <td>Magnoliopsida</td>\n",
       "      <td>Rosales</td>\n",
       "      <td>Rosaceae</td>\n",
       "      <td>Prunus</td>\n",
       "      <td>sunhangii</td>\n",
       "      <td>100.0</td>\n",
       "      <td>34741</td>\n",
       "    </tr>\n",
       "    <tr>\n",
       "      <th>5</th>\n",
       "      <td>967e951648145482fcc47f85b2a3530bec26d552</td>\n",
       "      <td>Eukaryota</td>\n",
       "      <td>Streptophyta</td>\n",
       "      <td>Magnoliopsida</td>\n",
       "      <td>Apiales</td>\n",
       "      <td>Apiaceae</td>\n",
       "      <td>Selinum</td>\n",
       "      <td>carvifolia</td>\n",
       "      <td>100.0</td>\n",
       "      <td>33003</td>\n",
       "    </tr>\n",
       "    <tr>\n",
       "      <th>6</th>\n",
       "      <td>36ecc3a6b7c304e724eb2680f97c751acaa0cdf6</td>\n",
       "      <td>Eukaryota</td>\n",
       "      <td>Streptophyta</td>\n",
       "      <td>Magnoliopsida</td>\n",
       "      <td>Fabales</td>\n",
       "      <td>Fabaceae</td>\n",
       "      <td>Glycyrrhiza</td>\n",
       "      <td>glabra</td>\n",
       "      <td>100.0</td>\n",
       "      <td>20092</td>\n",
       "    </tr>\n",
       "    <tr>\n",
       "      <th>7</th>\n",
       "      <td>7bb64ef2725b146c74add357867e20995ecd52ee</td>\n",
       "      <td>Eukaryota</td>\n",
       "      <td>Streptophyta</td>\n",
       "      <td>Magnoliopsida</td>\n",
       "      <td>Sapindales</td>\n",
       "      <td>Rutaceae</td>\n",
       "      <td>Citrus</td>\n",
       "      <td>micrantha</td>\n",
       "      <td>100.0</td>\n",
       "      <td>19835</td>\n",
       "    </tr>\n",
       "    <tr>\n",
       "      <th>8</th>\n",
       "      <td>1d2c40bd28ba9fcb65db0be2eea63b1e8e1428c4</td>\n",
       "      <td>Eukaryota</td>\n",
       "      <td>Streptophyta</td>\n",
       "      <td>Magnoliopsida</td>\n",
       "      <td>Asterales</td>\n",
       "      <td>Asteraceae</td>\n",
       "      <td>NaN</td>\n",
       "      <td>sp.</td>\n",
       "      <td>100.0</td>\n",
       "      <td>17286</td>\n",
       "    </tr>\n",
       "    <tr>\n",
       "      <th>9</th>\n",
       "      <td>720f7ec10f985a208dcb0947d436ba0b5871ed40</td>\n",
       "      <td>Eukaryota</td>\n",
       "      <td>Streptophyta</td>\n",
       "      <td>Magnoliopsida</td>\n",
       "      <td>Poales</td>\n",
       "      <td>Poaceae</td>\n",
       "      <td>Zea</td>\n",
       "      <td>mays</td>\n",
       "      <td>100.0</td>\n",
       "      <td>16708</td>\n",
       "    </tr>\n",
       "  </tbody>\n",
       "</table>\n",
       "</div>"
      ],
      "text/plain": [
       "                                   amplicon    Kingdom        Phylum  \\\n",
       "0  ac90db76fbae68003ec939d36b9847a46cbfa3c7  Eukaryota  Streptophyta   \n",
       "1  2987db85c9fae5a1464f814e070b7507621e8a57  Eukaryota  Streptophyta   \n",
       "2  addff39eca064dd9caa294721e6a23cab9c331ab  Eukaryota  Streptophyta   \n",
       "3  a069993ab97b3f720cf66567bfb1fad838b20dc6  Eukaryota  Streptophyta   \n",
       "4  28bf85082548d49c8d3b2793064a2fae0f417562  Eukaryota  Streptophyta   \n",
       "5  967e951648145482fcc47f85b2a3530bec26d552  Eukaryota  Streptophyta   \n",
       "6  36ecc3a6b7c304e724eb2680f97c751acaa0cdf6  Eukaryota  Streptophyta   \n",
       "7  7bb64ef2725b146c74add357867e20995ecd52ee  Eukaryota  Streptophyta   \n",
       "8  1d2c40bd28ba9fcb65db0be2eea63b1e8e1428c4  Eukaryota  Streptophyta   \n",
       "9  720f7ec10f985a208dcb0947d436ba0b5871ed40  Eukaryota  Streptophyta   \n",
       "\n",
       "           Class         Ord      Family        Genus     Species    SIM  \\\n",
       "0  Magnoliopsida  Sapindales    Rutaceae       Citrus   micrantha  100.0   \n",
       "1  Magnoliopsida      Poales     Poaceae          Zea        mays  100.0   \n",
       "2  Magnoliopsida     Apiales    Apiaceae      Selinum  carvifolia  100.0   \n",
       "3  Magnoliopsida    Laurales   Lauraceae   Cinnamomum    camphora  100.0   \n",
       "4  Magnoliopsida     Rosales    Rosaceae       Prunus   sunhangii  100.0   \n",
       "5  Magnoliopsida     Apiales    Apiaceae      Selinum  carvifolia  100.0   \n",
       "6  Magnoliopsida     Fabales    Fabaceae  Glycyrrhiza      glabra  100.0   \n",
       "7  Magnoliopsida  Sapindales    Rutaceae       Citrus   micrantha  100.0   \n",
       "8  Magnoliopsida   Asterales  Asteraceae          NaN         sp.  100.0   \n",
       "9  Magnoliopsida      Poales     Poaceae          Zea        mays  100.0   \n",
       "\n",
       "   OTU_abundance  \n",
       "0          51129  \n",
       "1          43673  \n",
       "2          41429  \n",
       "3          37670  \n",
       "4          34741  \n",
       "5          33003  \n",
       "6          20092  \n",
       "7          19835  \n",
       "8          17286  \n",
       "9          16708  "
      ]
     },
     "execution_count": 27,
     "metadata": {},
     "output_type": "execute_result"
    }
   ],
   "source": [
    "get_glimpse_head('target95_trnL_OTU_tax_assignments.txt', file_header=True)"
   ]
  },
  {
   "cell_type": "markdown",
   "metadata": {},
   "source": [
    "We can get some interesting information right here, with out **taxa assignment table**:"
   ]
  },
  {
   "cell_type": "markdown",
   "metadata": {},
   "source": [
    "**Let's check the distribuition reads per Family?**"
   ]
  },
  {
   "cell_type": "code",
   "execution_count": 28,
   "metadata": {},
   "outputs": [
    {
     "data": {
      "text/plain": [
       "Text(3.674999999999997, 0.5, 'Number of reads')"
      ]
     },
     "execution_count": 28,
     "metadata": {},
     "output_type": "execute_result"
    },
    {
     "data": {
      "image/png": "[encoded data removed]",
      "text/plain": [
       "<Figure size 1008x360 with 1 Axes>"
      ]
     },
     "metadata": {
      "needs_background": "light"
     },
     "output_type": "display_data"
    }
   ],
   "source": [
    "# Import the necessary modules\n",
    "import matplotlib.pyplot as plt\n",
    "import seaborn as sns\n",
    "import pandas as pd\n",
    "\n",
    "# Initialize the lists for X and Y\n",
    "data = pd.read_csv('target95_trnL_OTU_tax_assignments.txt', sep='\\t')\n",
    "\n",
    "df = pd.DataFrame(data).sort_values('OTU_abundance')\n",
    "\n",
    "# distribution (histogram) based on column 2 from file\n",
    "dist_plot = sns.displot(df['Family'], bins=15)\n",
    "\n",
    "# show plot with custom width\n",
    "dist_plot.fig.set_figwidth(14)\n",
    "plt.xticks(rotation='vertical')\n",
    "plt.ylabel(\"Number of reads\")"
   ]
  },
  {
   "cell_type": "markdown",
   "metadata": {},
   "source": [
    "Without doing any data analysis, we already know that our most abundant Families are **`Poaceae`**, **`Apiaceae`**, and **`Fabaceae`**, respectively."
   ]
  },
  {
   "cell_type": "markdown",
   "metadata": {},
   "source": [
    "**How about the total count of OTUs by Family?**<p>\n",
    "The count of distinct OTUs found within a taxa rank is considered one of the alpha-diversity/richness metrics."
   ]
  },
  {
   "cell_type": "code",
   "execution_count": 30,
   "metadata": {},
   "outputs": [
    {
     "data": {
      "text/plain": [
       "<AxesSubplot:xlabel='Family', ylabel='Total OTU count'>"
      ]
     },
     "execution_count": 30,
     "metadata": {},
     "output_type": "execute_result"
    },
    {
     "data": {
      "image/png": "[encoded data removed]",
      "text/plain": [
       "<Figure size 1296x648 with 1 Axes>"
      ]
     },
     "metadata": {},
     "output_type": "display_data"
    }
   ],
   "source": [
    "# Import the necessary modules\n",
    "import matplotlib.pyplot as plt\n",
    "import numpy as np\n",
    "import seaborn as sns\n",
    "import pandas as pd\n",
    "\n",
    "# Initialize the lists for X and Y\n",
    "data = pd.read_csv('target95_trnL_OTU_tax_assignments.txt', sep='\\t')\n",
    "\n",
    "df = pd.DataFrame(data).sort_values('Family').groupby(['Family'])\n",
    "\n",
    "otus_by_family = df['OTU_abundance'].agg([np.sum]).reset_index().sort_values('sum')\n",
    "\n",
    "# distribution (histogram) based on column 2 from file\n",
    "bar_plot = sns.barplot(x='Family', y='sum', data=otus_by_family)\n",
    "\n",
    "# show plot with custom width\n",
    "sns.set(rc={'figure.figsize':(20,10)})\n",
    "plt.xticks(rotation='vertical')\n",
    "plt.ylabel(\"Total OTU count\")\n",
    "bar_plot"
   ]
  },
  {
   "cell_type": "markdown",
   "metadata": {},
   "source": [
    "Now we know that **`Poaceae`** and **`Apiaceae`** are the most abundant and present also the higher richness of OTUs. The amount of distinct OTUs observed for **`Fabaceae`** Family indicates that, besides having higher abundance, it is not directly related to richness."
   ]
  },
  {
   "cell_type": "markdown",
   "metadata": {},
   "source": [
    "**The final step of METAPIPE is the OTU table building.**<p>\n",
    "Let's check the **required inputs**:<p>\n",
    "`trnL_sub_cluster_representatives.fas` > the amplicon identification (seed),<p>\n",
    "`trnL_sub_cluster.stats` > the quantitative metrics, as the OTU abundance,<p> \n",
    "`trnL_sub_cluster.swarms` > the distribution of the `amplicon/seeds/OTU` throughout the samples,<p>\n",
    "`trnL_sub_cluster_representatives.uchime` > the identification of chimeras,<p>\n",
    "`trnL_sub.qual` > the error rate and read length information,<p>\n",
    "`Blast_results_formatted2OTUtable.tab` > the taxonomic assignment and lineage,<p>\n",
    "`/home/jupyter/METAPIPE_Workshop2021/dereplicated` > all the sequences per sample.<p>"
   ]
  },
  {
   "cell_type": "code",
   "execution_count": 31,
   "metadata": {
    "tags": []
   },
   "outputs": [],
   "source": [
    " %%bash\n",
    "./6a_build_OTU_table.sh \\\n",
    "    trnL_sub_cluster_representatives.fas \\\n",
    "    trnL_sub.qual \\\n",
    "    Blast_results_formatted2OTUtable.tab \\\n",
    "    /home/jupyter/METAPIPE_Workshop2021/dereplicated"
   ]
  },
  {
   "cell_type": "code",
   "execution_count": 32,
   "metadata": {},
   "outputs": [
    {
     "name": "stdout",
     "output_type": "stream",
     "text": [
      "trnL_sub_cluster_OTU_table_complete.tab\n",
      "metapipe-run.ipynb\n",
      "target95_trnL_OTU_tax_assignments.txt\n",
      "Blast_results_formatted2OTUtable.tab\n",
      "target95_trnL_local_blast.tab\n",
      "target_trnL.uniq.fasta.ndb\n",
      "target_trnL.uniq.fasta.nos\n",
      "target_trnL.uniq.fasta.ntf\n",
      "target_trnL.uniq.fasta.not\n",
      "target_trnL.uniq.fasta.nto\n"
     ]
    }
   ],
   "source": [
    "%ls -t | head"
   ]
  },
  {
   "cell_type": "code",
   "execution_count": 33,
   "metadata": {},
   "outputs": [
    {
     "data": {
      "text/html": [
       "<div>\n",
       "<style scoped>\n",
       "    .dataframe tbody tr th:only-of-type {\n",
       "        vertical-align: middle;\n",
       "    }\n",
       "\n",
       "    .dataframe tbody tr th {\n",
       "        vertical-align: top;\n",
       "    }\n",
       "\n",
       "    .dataframe thead th {\n",
       "        text-align: right;\n",
       "    }\n",
       "</style>\n",
       "<table border=\"1\" class=\"dataframe\">\n",
       "  <thead>\n",
       "    <tr style=\"text-align: right;\">\n",
       "      <th></th>\n",
       "      <th>OTU</th>\n",
       "      <th>total</th>\n",
       "      <th>cloud</th>\n",
       "      <th>amplicon</th>\n",
       "      <th>length</th>\n",
       "      <th>abundance</th>\n",
       "      <th>chimera</th>\n",
       "      <th>spread</th>\n",
       "      <th>quality</th>\n",
       "      <th>sequence</th>\n",
       "      <th>...</th>\n",
       "      <th>Paeonialactiflora_a_dp</th>\n",
       "      <th>Paeonialactiflora_b_dp</th>\n",
       "      <th>Peoniasuffruticosa_a_dp</th>\n",
       "      <th>Peoniasuffruticosa_b_dp</th>\n",
       "      <th>Poriacocos_a_dp</th>\n",
       "      <th>Poriacocos_b_dp</th>\n",
       "      <th>Prunuspersica_a_dp</th>\n",
       "      <th>Prunuspersica_b_dp</th>\n",
       "      <th>Trogopterusxanthipes_a_dp</th>\n",
       "      <th>Trogopterusxanthipes_b_dp</th>\n",
       "    </tr>\n",
       "  </thead>\n",
       "  <tbody>\n",
       "    <tr>\n",
       "      <th>0</th>\n",
       "      <td>1</td>\n",
       "      <td>64940</td>\n",
       "      <td>2684</td>\n",
       "      <td>a84c749701d67d1226018c6714b72e543a618f16</td>\n",
       "      <td>102</td>\n",
       "      <td>44856</td>\n",
       "      <td>N</td>\n",
       "      <td>12</td>\n",
       "      <td>0.0001</td>\n",
       "      <td>CTTTTTTTATATAAAAAAAAATTTTATAATATAATAAAAAATTTAG...</td>\n",
       "      <td>...</td>\n",
       "      <td>0</td>\n",
       "      <td>0</td>\n",
       "      <td>0</td>\n",
       "      <td>0</td>\n",
       "      <td>0</td>\n",
       "      <td>0</td>\n",
       "      <td>0</td>\n",
       "      <td>2</td>\n",
       "      <td>30</td>\n",
       "      <td>41198</td>\n",
       "    </tr>\n",
       "    <tr>\n",
       "      <th>1</th>\n",
       "      <td>2</td>\n",
       "      <td>51129</td>\n",
       "      <td>989</td>\n",
       "      <td>ac90db76fbae68003ec939d36b9847a46cbfa3c7</td>\n",
       "      <td>52</td>\n",
       "      <td>43740</td>\n",
       "      <td>N</td>\n",
       "      <td>25</td>\n",
       "      <td>0.0001</td>\n",
       "      <td>ATCCTCTTCTCTTTTCCAAGAACAAACAGGGGTTCAGAAAGCGAAA...</td>\n",
       "      <td>...</td>\n",
       "      <td>2</td>\n",
       "      <td>8</td>\n",
       "      <td>0</td>\n",
       "      <td>0</td>\n",
       "      <td>2</td>\n",
       "      <td>2</td>\n",
       "      <td>4</td>\n",
       "      <td>32</td>\n",
       "      <td>580</td>\n",
       "      <td>2</td>\n",
       "    </tr>\n",
       "    <tr>\n",
       "      <th>2</th>\n",
       "      <td>3</td>\n",
       "      <td>43673</td>\n",
       "      <td>865</td>\n",
       "      <td>2987db85c9fae5a1464f814e070b7507621e8a57</td>\n",
       "      <td>51</td>\n",
       "      <td>36626</td>\n",
       "      <td>N</td>\n",
       "      <td>22</td>\n",
       "      <td>0.0001</td>\n",
       "      <td>ATCCCTTTTTTGAAAAACAAGTGGTTCTCAAACTAGAACCCAAAGG...</td>\n",
       "      <td>...</td>\n",
       "      <td>6</td>\n",
       "      <td>0</td>\n",
       "      <td>6</td>\n",
       "      <td>0</td>\n",
       "      <td>0</td>\n",
       "      <td>0</td>\n",
       "      <td>2</td>\n",
       "      <td>6</td>\n",
       "      <td>90</td>\n",
       "      <td>4</td>\n",
       "    </tr>\n",
       "    <tr>\n",
       "      <th>3</th>\n",
       "      <td>4</td>\n",
       "      <td>41429</td>\n",
       "      <td>1607</td>\n",
       "      <td>addff39eca064dd9caa294721e6a23cab9c331ab</td>\n",
       "      <td>45</td>\n",
       "      <td>31239</td>\n",
       "      <td>N</td>\n",
       "      <td>33</td>\n",
       "      <td>0.0001</td>\n",
       "      <td>ATCCTATTTTCCAAAAACAAACAAAGGCCCAGAAGGTGAAAAAAG</td>\n",
       "      <td>...</td>\n",
       "      <td>46</td>\n",
       "      <td>130</td>\n",
       "      <td>8</td>\n",
       "      <td>10</td>\n",
       "      <td>54</td>\n",
       "      <td>6</td>\n",
       "      <td>12</td>\n",
       "      <td>406</td>\n",
       "      <td>194</td>\n",
       "      <td>16</td>\n",
       "    </tr>\n",
       "    <tr>\n",
       "      <th>4</th>\n",
       "      <td>5</td>\n",
       "      <td>37670</td>\n",
       "      <td>767</td>\n",
       "      <td>a069993ab97b3f720cf66567bfb1fad838b20dc6</td>\n",
       "      <td>53</td>\n",
       "      <td>32359</td>\n",
       "      <td>N</td>\n",
       "      <td>11</td>\n",
       "      <td>0.0001</td>\n",
       "      <td>ATCCTGTTTTCAGAAAACAAGGGTTCAGAAAGCGAGAACCAAAAAA...</td>\n",
       "      <td>...</td>\n",
       "      <td>0</td>\n",
       "      <td>0</td>\n",
       "      <td>0</td>\n",
       "      <td>0</td>\n",
       "      <td>8</td>\n",
       "      <td>0</td>\n",
       "      <td>0</td>\n",
       "      <td>10</td>\n",
       "      <td>2</td>\n",
       "      <td>0</td>\n",
       "    </tr>\n",
       "    <tr>\n",
       "      <th>5</th>\n",
       "      <td>6</td>\n",
       "      <td>34741</td>\n",
       "      <td>585</td>\n",
       "      <td>28bf85082548d49c8d3b2793064a2fae0f417562</td>\n",
       "      <td>51</td>\n",
       "      <td>30199</td>\n",
       "      <td>N</td>\n",
       "      <td>32</td>\n",
       "      <td>0.0001</td>\n",
       "      <td>ATCCTGTTTTATTAAAACAAACAAGGGTTTCATAAACCGAGAATAA...</td>\n",
       "      <td>...</td>\n",
       "      <td>206</td>\n",
       "      <td>64</td>\n",
       "      <td>82</td>\n",
       "      <td>66</td>\n",
       "      <td>64</td>\n",
       "      <td>18</td>\n",
       "      <td>19908</td>\n",
       "      <td>24204</td>\n",
       "      <td>128</td>\n",
       "      <td>2</td>\n",
       "    </tr>\n",
       "    <tr>\n",
       "      <th>6</th>\n",
       "      <td>7</td>\n",
       "      <td>33003</td>\n",
       "      <td>886</td>\n",
       "      <td>967e951648145482fcc47f85b2a3530bec26d552</td>\n",
       "      <td>45</td>\n",
       "      <td>26122</td>\n",
       "      <td>N</td>\n",
       "      <td>29</td>\n",
       "      <td>0.0001</td>\n",
       "      <td>CTTTTTTCACCTTCTGGGCCTTTGTTTGTTTTTGGAAAATAGGAT</td>\n",
       "      <td>...</td>\n",
       "      <td>0</td>\n",
       "      <td>24</td>\n",
       "      <td>8220</td>\n",
       "      <td>140</td>\n",
       "      <td>4</td>\n",
       "      <td>22</td>\n",
       "      <td>20</td>\n",
       "      <td>532</td>\n",
       "      <td>4</td>\n",
       "      <td>210</td>\n",
       "    </tr>\n",
       "    <tr>\n",
       "      <th>7</th>\n",
       "      <td>8</td>\n",
       "      <td>32635</td>\n",
       "      <td>669</td>\n",
       "      <td>8cdbd592419bf9c65aa2691a6c163fe4c16042bb</td>\n",
       "      <td>52</td>\n",
       "      <td>27813</td>\n",
       "      <td>N</td>\n",
       "      <td>33</td>\n",
       "      <td>0.0001</td>\n",
       "      <td>ATCCTGTTTTCCGAAAACAAACACAAAGATTCAGAAAGCAAGAATA...</td>\n",
       "      <td>...</td>\n",
       "      <td>950</td>\n",
       "      <td>15818</td>\n",
       "      <td>24934</td>\n",
       "      <td>1024</td>\n",
       "      <td>120</td>\n",
       "      <td>42</td>\n",
       "      <td>290</td>\n",
       "      <td>36</td>\n",
       "      <td>80</td>\n",
       "      <td>18</td>\n",
       "    </tr>\n",
       "    <tr>\n",
       "      <th>8</th>\n",
       "      <td>9</td>\n",
       "      <td>21016</td>\n",
       "      <td>498</td>\n",
       "      <td>9cb16aaf5f7887b597ac5fc1bba7e95e881b0d3c</td>\n",
       "      <td>52</td>\n",
       "      <td>17905</td>\n",
       "      <td>N</td>\n",
       "      <td>30</td>\n",
       "      <td>0.0001</td>\n",
       "      <td>CTTTTTTATTCTTGCTTTCTGAATCTTTGTGTTTGTTTTCGGAAAA...</td>\n",
       "      <td>...</td>\n",
       "      <td>52</td>\n",
       "      <td>80</td>\n",
       "      <td>156</td>\n",
       "      <td>26</td>\n",
       "      <td>146</td>\n",
       "      <td>140</td>\n",
       "      <td>3220</td>\n",
       "      <td>82</td>\n",
       "      <td>5174</td>\n",
       "      <td>2</td>\n",
       "    </tr>\n",
       "    <tr>\n",
       "      <th>9</th>\n",
       "      <td>10</td>\n",
       "      <td>20092</td>\n",
       "      <td>428</td>\n",
       "      <td>36ecc3a6b7c304e724eb2680f97c751acaa0cdf6</td>\n",
       "      <td>51</td>\n",
       "      <td>17460</td>\n",
       "      <td>N</td>\n",
       "      <td>31</td>\n",
       "      <td>0.0001</td>\n",
       "      <td>ATCCTGCTTTCCGAAAACAAAGAAAAGTTCAGAAAGCGAGAATAAA...</td>\n",
       "      <td>...</td>\n",
       "      <td>180</td>\n",
       "      <td>36</td>\n",
       "      <td>14</td>\n",
       "      <td>4</td>\n",
       "      <td>4</td>\n",
       "      <td>14</td>\n",
       "      <td>14</td>\n",
       "      <td>156</td>\n",
       "      <td>4</td>\n",
       "      <td>4</td>\n",
       "    </tr>\n",
       "  </tbody>\n",
       "</table>\n",
       "<p>10 rows × 48 columns</p>\n",
       "</div>"
      ],
      "text/plain": [
       "   OTU  total  cloud                                  amplicon  length  \\\n",
       "0    1  64940   2684  a84c749701d67d1226018c6714b72e543a618f16     102   \n",
       "1    2  51129    989  ac90db76fbae68003ec939d36b9847a46cbfa3c7      52   \n",
       "2    3  43673    865  2987db85c9fae5a1464f814e070b7507621e8a57      51   \n",
       "3    4  41429   1607  addff39eca064dd9caa294721e6a23cab9c331ab      45   \n",
       "4    5  37670    767  a069993ab97b3f720cf66567bfb1fad838b20dc6      53   \n",
       "5    6  34741    585  28bf85082548d49c8d3b2793064a2fae0f417562      51   \n",
       "6    7  33003    886  967e951648145482fcc47f85b2a3530bec26d552      45   \n",
       "7    8  32635    669  8cdbd592419bf9c65aa2691a6c163fe4c16042bb      52   \n",
       "8    9  21016    498  9cb16aaf5f7887b597ac5fc1bba7e95e881b0d3c      52   \n",
       "9   10  20092    428  36ecc3a6b7c304e724eb2680f97c751acaa0cdf6      51   \n",
       "\n",
       "   abundance chimera  spread  quality  \\\n",
       "0      44856       N      12   0.0001   \n",
       "1      43740       N      25   0.0001   \n",
       "2      36626       N      22   0.0001   \n",
       "3      31239       N      33   0.0001   \n",
       "4      32359       N      11   0.0001   \n",
       "5      30199       N      32   0.0001   \n",
       "6      26122       N      29   0.0001   \n",
       "7      27813       N      33   0.0001   \n",
       "8      17905       N      30   0.0001   \n",
       "9      17460       N      31   0.0001   \n",
       "\n",
       "                                            sequence  ...  \\\n",
       "0  CTTTTTTTATATAAAAAAAAATTTTATAATATAATAAAAAATTTAG...  ...   \n",
       "1  ATCCTCTTCTCTTTTCCAAGAACAAACAGGGGTTCAGAAAGCGAAA...  ...   \n",
       "2  ATCCCTTTTTTGAAAAACAAGTGGTTCTCAAACTAGAACCCAAAGG...  ...   \n",
       "3      ATCCTATTTTCCAAAAACAAACAAAGGCCCAGAAGGTGAAAAAAG  ...   \n",
       "4  ATCCTGTTTTCAGAAAACAAGGGTTCAGAAAGCGAGAACCAAAAAA...  ...   \n",
       "5  ATCCTGTTTTATTAAAACAAACAAGGGTTTCATAAACCGAGAATAA...  ...   \n",
       "6      CTTTTTTCACCTTCTGGGCCTTTGTTTGTTTTTGGAAAATAGGAT  ...   \n",
       "7  ATCCTGTTTTCCGAAAACAAACACAAAGATTCAGAAAGCAAGAATA...  ...   \n",
       "8  CTTTTTTATTCTTGCTTTCTGAATCTTTGTGTTTGTTTTCGGAAAA...  ...   \n",
       "9  ATCCTGCTTTCCGAAAACAAAGAAAAGTTCAGAAAGCGAGAATAAA...  ...   \n",
       "\n",
       "   Paeonialactiflora_a_dp Paeonialactiflora_b_dp Peoniasuffruticosa_a_dp  \\\n",
       "0                       0                      0                       0   \n",
       "1                       2                      8                       0   \n",
       "2                       6                      0                       6   \n",
       "3                      46                    130                       8   \n",
       "4                       0                      0                       0   \n",
       "5                     206                     64                      82   \n",
       "6                       0                     24                    8220   \n",
       "7                     950                  15818                   24934   \n",
       "8                      52                     80                     156   \n",
       "9                     180                     36                      14   \n",
       "\n",
       "   Peoniasuffruticosa_b_dp  Poriacocos_a_dp  Poriacocos_b_dp  \\\n",
       "0                        0                0                0   \n",
       "1                        0                2                2   \n",
       "2                        0                0                0   \n",
       "3                       10               54                6   \n",
       "4                        0                8                0   \n",
       "5                       66               64               18   \n",
       "6                      140                4               22   \n",
       "7                     1024              120               42   \n",
       "8                       26              146              140   \n",
       "9                        4                4               14   \n",
       "\n",
       "   Prunuspersica_a_dp  Prunuspersica_b_dp  Trogopterusxanthipes_a_dp  \\\n",
       "0                   0                   2                         30   \n",
       "1                   4                  32                        580   \n",
       "2                   2                   6                         90   \n",
       "3                  12                 406                        194   \n",
       "4                   0                  10                          2   \n",
       "5               19908               24204                        128   \n",
       "6                  20                 532                          4   \n",
       "7                 290                  36                         80   \n",
       "8                3220                  82                       5174   \n",
       "9                  14                 156                          4   \n",
       "\n",
       "   Trogopterusxanthipes_b_dp  \n",
       "0                      41198  \n",
       "1                          2  \n",
       "2                          4  \n",
       "3                         16  \n",
       "4                          0  \n",
       "5                          2  \n",
       "6                        210  \n",
       "7                         18  \n",
       "8                          2  \n",
       "9                          4  \n",
       "\n",
       "[10 rows x 48 columns]"
      ]
     },
     "execution_count": 33,
     "metadata": {},
     "output_type": "execute_result"
    }
   ],
   "source": [
    "get_glimpse_head('trnL_sub_cluster_OTU_table_complete.tab', file_header=True)"
   ]
  },
  {
   "cell_type": "markdown",
   "metadata": {},
   "source": [
    "Take a look on each column meaning:<p>\n",
    "**OTU** > each OTU gets a number,<p>\n",
    "**total** > total number of reads in the OTU (OTU abundance),<p>\n",
    "**cloud** > total number of unique sequences in the OTU,<p>\n",
    "**amplicon** > identifier of the OTU/seed representative,<p>\n",
    "**length** > length of the OTU representative,<p>\n",
    "**abundance** > abundance of the OTU representative (not the OTU cluster),<p>\n",
    "**chimera** > is it a chimera? Yes, No, ?,<p>\n",
    "**spread** > number of samples where the OTU occurs (important for ecological filterings),<p>\n",
    "**quality** > minimum expected error observed for the OTU representative, divided by sequence length,<p>\n",
    "**sequence** > sequence of the OTU representative (amplicon),<p>\n",
    "**identity** > BLAST similarity of the OTU representative with reference sequences,<p>\n",
    "**taxonomy** > taxonomic assignment of the OTU representative (lineage),<p>\n",
    "**samples** > each sample as a column, with respective reads abundance."
   ]
  },
  {
   "cell_type": "markdown",
   "metadata": {},
   "source": [
    "The **OTU table** originally generated has **all information possible**, allowing for searches and queries within it.<p>\n",
    "To load the OTU table in R, we need to filter the complete table, in order to have only the **4.amplicon** column, and all the **samples** columns.<p>\n",
    "We can do this by only selecting the above mentioned columns, using a command like this:<p>\n",
    "`cat trnL_sub_cluster_OTU_table_complete.tab | cut -f 4,14- > trnL_sub_cluster_OTU_table_cut2phyloseq2.tab`<p>"
   ]
  },
  {
   "cell_type": "code",
   "execution_count": 34,
   "metadata": {},
   "outputs": [
    {
     "name": "stdout",
     "output_type": "stream",
     "text": [
      "amplicon\t*_dp\tAngelicaesinensis_a_dp\tAngelicaesinensis_b_dp\tCarthamustinctorius_a_dp\tCarthamustinctorius_b_dp\tCitrusaurantium_a_dp\tCitrusaurantium_b_dp\tCyperusrotundus_a_dp\tCyperusrotundus_b_dp\tGXZYT_a_dp\tGXZYT_b_dp\tGZFLW_a_dp\tGZFLW_b_dp\tGlycyrrhizauralensis_a_dp\tGlycyrrhizauralensis_b_dp\tGuiZhiFuLingPian_a_dp\tGuiZhiFuLingPian_b_dp\tGuiZhiFuLingTan_a_dp\tGuiZhiFuLingTan_b_dp\tLigusticumchuanxiong_a_dp\tLigusticumchuanxiong_b_dp\tLinderaaggregata_a_dp\tLinderaaggregata_b_dp\tNegativePCR_dp\tNegative_dp\tPaeonialactiflora_a_dp\tPaeonialactiflora_b_dp\tPeoniasuffruticosa_a_dp\tPeoniasuffruticosa_b_dp\tPoriacocos_a_dp\tPoriacocos_b_dp\tPrunuspersica_a_dp\tPrunuspersica_b_dp\tTrogopterusxanthipes_a_dp\tTrogopterusxanthipes_b_dp\n",
      "a84c749701d67d1226018c6714b72e543a618f16\t0\t0\t37102\t51274\t24\t0\t14\t0\t0\t0\t0\t0\t24\t26\t132\t0\t0\t46\t0\t0\t8\t0\t0\t0\t0\t0\t0\t0\t0\t0\t0\t0\t2\t30\t41198\n",
      "ac90db76fbae68003ec939d36b9847a46cbfa3c7\t0\t0\t0\t2\t58\t342\t98850\t64\t274\t1656\t26\t0\t0\t8\t0\t38\t16\t4\t20\t12\t2\t0\t0\t12\t242\t2\t8\t0\t0\t2\t2\t4\t32\t580\t2\n",
      "2987db85c9fae5a1464f814e070b7507621e8a57\t0\t46\t0\t2\t2\t8\t4\t0\t0\t0\t0\t81820\t2\t2\t0\t5168\t4\t0\t150\t8\t0\t4\t2\t8\t2\t6\t0\t6\t0\t0\t0\t2\t6\t90\t4\n",
      "cut: write error: Broken pipe\n"
     ]
    }
   ],
   "source": [
    "cat trnL_sub_cluster_OTU_table_complete.tab | cut -f 4,14- | head -4"
   ]
  },
  {
   "cell_type": "markdown",
   "metadata": {},
   "source": [
    "Or starting the Data Analysis preprocessing, by choosing some important thresholds, like:<p>\n",
    "`awk -F \"\\t\" '{ if(($7 == \"N\") && ($2 >= 2)) { print } }'` > which select only *non-chimeras* and OTUs with at least 2 reads (excluding singletons).<p>\n",
    "or even more complex thresholds, like:<p>\n",
    "`awk -F \"\\t\" '{ if(($7 == \"N\") && ($2 >= 5) && ($9<=0.0002) && ($11 >= 97)) { print } }'` > which is selecting *non-chimeras*, OTUs with at least 5 reads, error rate lower than 0.0002 and taxonomic assignment similarity equal or higher than 97.<p>\n",
    "**The following command does 4 preprocessing OTU table filtering and formatting to be load in R:**<p>"
   ]
  },
  {
   "cell_type": "code",
   "execution_count": 35,
   "metadata": {},
   "outputs": [],
   "source": [
    "%%bash \n",
    "./6b_filter_OTU_table.sh \\\n",
    "    trnL_sub_cluster_OTU_table_complete.tab \\\n",
    "    trnL_sub.qual"
   ]
  },
  {
   "cell_type": "code",
   "execution_count": 36,
   "metadata": {},
   "outputs": [
    {
     "name": "stdout",
     "output_type": "stream",
     "text": [
      "trnL_sub.ee\n",
      "trnL_sub_cluster_OTU_table_f4_no_hit2.tab\n",
      "trnL_sub_cluster_OTU_table_f4_no_hit2_cut2phyloseq2.tab\n",
      "trnL_sub_cluster_OTU_table_f3_hits_only2_cut2phyloseq2.tab\n",
      "trnL_sub_cluster_OTU_table_f3_hits_only2.tab\n",
      "trnL_sub_cluster_OTU_table_f2_97up2_cut2phyloseq2.tab\n",
      "trnL_sub_cluster_OTU_table_f2_97up2.tab\n",
      "trnL_sub_cluster_OTU_table_f1_basics2.tab\n",
      "trnL_sub_cluster_OTU_table_f1_basics2_cut2phyloseq2.tab\n",
      "trnL_sub_cluster_OTU_table_complete.tab\n",
      "metapipe-run.ipynb\n",
      "target95_trnL_OTU_tax_assignments.txt\n",
      "Blast_results_formatted2OTUtable.tab\n",
      "target95_trnL_local_blast.tab\n",
      "target_trnL.uniq.fasta.ndb\n",
      "target_trnL.uniq.fasta.nos\n",
      "target_trnL.uniq.fasta.ntf\n",
      "target_trnL.uniq.fasta.not\n",
      "target_trnL.uniq.fasta.nto\n",
      "target_trnL.uniq.fasta.nog\n"
     ]
    }
   ],
   "source": [
    "%ls -t | head -20"
   ]
  },
  {
   "cell_type": "markdown",
   "metadata": {},
   "source": [
    "Let's take a look in the **`most basic`** **OTU table**, formatted to be loaded in **Phyloseq**:"
   ]
  },
  {
   "cell_type": "code",
   "execution_count": 37,
   "metadata": {},
   "outputs": [
    {
     "data": {
      "text/html": [
       "<div>\n",
       "<style scoped>\n",
       "    .dataframe tbody tr th:only-of-type {\n",
       "        vertical-align: middle;\n",
       "    }\n",
       "\n",
       "    .dataframe tbody tr th {\n",
       "        vertical-align: top;\n",
       "    }\n",
       "\n",
       "    .dataframe thead th {\n",
       "        text-align: right;\n",
       "    }\n",
       "</style>\n",
       "<table border=\"1\" class=\"dataframe\">\n",
       "  <thead>\n",
       "    <tr style=\"text-align: right;\">\n",
       "      <th></th>\n",
       "      <th>amplicon</th>\n",
       "      <th>*</th>\n",
       "      <th>Angelicaesinensis_a</th>\n",
       "      <th>Angelicaesinensis_b</th>\n",
       "      <th>Carthamustinctorius_a</th>\n",
       "      <th>Carthamustinctorius_b</th>\n",
       "      <th>Citrusaurantium_a</th>\n",
       "      <th>Citrusaurantium_b</th>\n",
       "      <th>Cyperusrotundus_a</th>\n",
       "      <th>Cyperusrotundus_b</th>\n",
       "      <th>...</th>\n",
       "      <th>Paeonialactiflora_a</th>\n",
       "      <th>Paeonialactiflora_b</th>\n",
       "      <th>Peoniasuffruticosa_a</th>\n",
       "      <th>Peoniasuffruticosa_b</th>\n",
       "      <th>Poriacocos_a</th>\n",
       "      <th>Poriacocos_b</th>\n",
       "      <th>Prunuspersica_a</th>\n",
       "      <th>Prunuspersica_b</th>\n",
       "      <th>Trogopterusxanthipes_a</th>\n",
       "      <th>Trogopterusxanthipes_b</th>\n",
       "    </tr>\n",
       "  </thead>\n",
       "  <tbody>\n",
       "    <tr>\n",
       "      <th>0</th>\n",
       "      <td>a84c749701d67d1226018c6714b72e543a618f16</td>\n",
       "      <td>0</td>\n",
       "      <td>0</td>\n",
       "      <td>37102</td>\n",
       "      <td>51274</td>\n",
       "      <td>24</td>\n",
       "      <td>0</td>\n",
       "      <td>14</td>\n",
       "      <td>0</td>\n",
       "      <td>0</td>\n",
       "      <td>...</td>\n",
       "      <td>0</td>\n",
       "      <td>0</td>\n",
       "      <td>0</td>\n",
       "      <td>0</td>\n",
       "      <td>0</td>\n",
       "      <td>0</td>\n",
       "      <td>0</td>\n",
       "      <td>2</td>\n",
       "      <td>30</td>\n",
       "      <td>41198</td>\n",
       "    </tr>\n",
       "    <tr>\n",
       "      <th>1</th>\n",
       "      <td>ac90db76fbae68003ec939d36b9847a46cbfa3c7</td>\n",
       "      <td>0</td>\n",
       "      <td>0</td>\n",
       "      <td>0</td>\n",
       "      <td>2</td>\n",
       "      <td>58</td>\n",
       "      <td>342</td>\n",
       "      <td>98850</td>\n",
       "      <td>64</td>\n",
       "      <td>274</td>\n",
       "      <td>...</td>\n",
       "      <td>2</td>\n",
       "      <td>8</td>\n",
       "      <td>0</td>\n",
       "      <td>0</td>\n",
       "      <td>2</td>\n",
       "      <td>2</td>\n",
       "      <td>4</td>\n",
       "      <td>32</td>\n",
       "      <td>580</td>\n",
       "      <td>2</td>\n",
       "    </tr>\n",
       "    <tr>\n",
       "      <th>2</th>\n",
       "      <td>2987db85c9fae5a1464f814e070b7507621e8a57</td>\n",
       "      <td>0</td>\n",
       "      <td>46</td>\n",
       "      <td>0</td>\n",
       "      <td>2</td>\n",
       "      <td>2</td>\n",
       "      <td>8</td>\n",
       "      <td>4</td>\n",
       "      <td>0</td>\n",
       "      <td>0</td>\n",
       "      <td>...</td>\n",
       "      <td>6</td>\n",
       "      <td>0</td>\n",
       "      <td>6</td>\n",
       "      <td>0</td>\n",
       "      <td>0</td>\n",
       "      <td>0</td>\n",
       "      <td>2</td>\n",
       "      <td>6</td>\n",
       "      <td>90</td>\n",
       "      <td>4</td>\n",
       "    </tr>\n",
       "    <tr>\n",
       "      <th>3</th>\n",
       "      <td>addff39eca064dd9caa294721e6a23cab9c331ab</td>\n",
       "      <td>0</td>\n",
       "      <td>37126</td>\n",
       "      <td>19230</td>\n",
       "      <td>10</td>\n",
       "      <td>12</td>\n",
       "      <td>6</td>\n",
       "      <td>124</td>\n",
       "      <td>72</td>\n",
       "      <td>8</td>\n",
       "      <td>...</td>\n",
       "      <td>46</td>\n",
       "      <td>130</td>\n",
       "      <td>8</td>\n",
       "      <td>10</td>\n",
       "      <td>54</td>\n",
       "      <td>6</td>\n",
       "      <td>12</td>\n",
       "      <td>406</td>\n",
       "      <td>194</td>\n",
       "      <td>16</td>\n",
       "    </tr>\n",
       "    <tr>\n",
       "      <th>4</th>\n",
       "      <td>a069993ab97b3f720cf66567bfb1fad838b20dc6</td>\n",
       "      <td>0</td>\n",
       "      <td>0</td>\n",
       "      <td>4</td>\n",
       "      <td>0</td>\n",
       "      <td>0</td>\n",
       "      <td>0</td>\n",
       "      <td>10</td>\n",
       "      <td>8960</td>\n",
       "      <td>30</td>\n",
       "      <td>...</td>\n",
       "      <td>0</td>\n",
       "      <td>0</td>\n",
       "      <td>0</td>\n",
       "      <td>0</td>\n",
       "      <td>8</td>\n",
       "      <td>0</td>\n",
       "      <td>0</td>\n",
       "      <td>10</td>\n",
       "      <td>2</td>\n",
       "      <td>0</td>\n",
       "    </tr>\n",
       "    <tr>\n",
       "      <th>5</th>\n",
       "      <td>28bf85082548d49c8d3b2793064a2fae0f417562</td>\n",
       "      <td>0</td>\n",
       "      <td>28</td>\n",
       "      <td>40</td>\n",
       "      <td>2</td>\n",
       "      <td>40</td>\n",
       "      <td>6</td>\n",
       "      <td>64</td>\n",
       "      <td>18</td>\n",
       "      <td>4</td>\n",
       "      <td>...</td>\n",
       "      <td>206</td>\n",
       "      <td>64</td>\n",
       "      <td>82</td>\n",
       "      <td>66</td>\n",
       "      <td>64</td>\n",
       "      <td>18</td>\n",
       "      <td>19908</td>\n",
       "      <td>24204</td>\n",
       "      <td>128</td>\n",
       "      <td>2</td>\n",
       "    </tr>\n",
       "    <tr>\n",
       "      <th>6</th>\n",
       "      <td>967e951648145482fcc47f85b2a3530bec26d552</td>\n",
       "      <td>0</td>\n",
       "      <td>588</td>\n",
       "      <td>8</td>\n",
       "      <td>6</td>\n",
       "      <td>46</td>\n",
       "      <td>42</td>\n",
       "      <td>658</td>\n",
       "      <td>4</td>\n",
       "      <td>24</td>\n",
       "      <td>...</td>\n",
       "      <td>0</td>\n",
       "      <td>24</td>\n",
       "      <td>8220</td>\n",
       "      <td>140</td>\n",
       "      <td>4</td>\n",
       "      <td>22</td>\n",
       "      <td>20</td>\n",
       "      <td>532</td>\n",
       "      <td>4</td>\n",
       "      <td>210</td>\n",
       "    </tr>\n",
       "    <tr>\n",
       "      <th>7</th>\n",
       "      <td>8cdbd592419bf9c65aa2691a6c163fe4c16042bb</td>\n",
       "      <td>0</td>\n",
       "      <td>10</td>\n",
       "      <td>22</td>\n",
       "      <td>8</td>\n",
       "      <td>54</td>\n",
       "      <td>14</td>\n",
       "      <td>82</td>\n",
       "      <td>812</td>\n",
       "      <td>2</td>\n",
       "      <td>...</td>\n",
       "      <td>950</td>\n",
       "      <td>15818</td>\n",
       "      <td>24934</td>\n",
       "      <td>1024</td>\n",
       "      <td>120</td>\n",
       "      <td>42</td>\n",
       "      <td>290</td>\n",
       "      <td>36</td>\n",
       "      <td>80</td>\n",
       "      <td>18</td>\n",
       "    </tr>\n",
       "    <tr>\n",
       "      <th>8</th>\n",
       "      <td>9cb16aaf5f7887b597ac5fc1bba7e95e881b0d3c</td>\n",
       "      <td>0</td>\n",
       "      <td>0</td>\n",
       "      <td>6</td>\n",
       "      <td>8</td>\n",
       "      <td>16</td>\n",
       "      <td>22</td>\n",
       "      <td>10</td>\n",
       "      <td>108</td>\n",
       "      <td>14</td>\n",
       "      <td>...</td>\n",
       "      <td>52</td>\n",
       "      <td>80</td>\n",
       "      <td>156</td>\n",
       "      <td>26</td>\n",
       "      <td>146</td>\n",
       "      <td>140</td>\n",
       "      <td>3220</td>\n",
       "      <td>82</td>\n",
       "      <td>5174</td>\n",
       "      <td>2</td>\n",
       "    </tr>\n",
       "    <tr>\n",
       "      <th>9</th>\n",
       "      <td>36ecc3a6b7c304e724eb2680f97c751acaa0cdf6</td>\n",
       "      <td>0</td>\n",
       "      <td>0</td>\n",
       "      <td>6</td>\n",
       "      <td>18</td>\n",
       "      <td>22</td>\n",
       "      <td>8</td>\n",
       "      <td>176</td>\n",
       "      <td>1938</td>\n",
       "      <td>2</td>\n",
       "      <td>...</td>\n",
       "      <td>180</td>\n",
       "      <td>36</td>\n",
       "      <td>14</td>\n",
       "      <td>4</td>\n",
       "      <td>4</td>\n",
       "      <td>14</td>\n",
       "      <td>14</td>\n",
       "      <td>156</td>\n",
       "      <td>4</td>\n",
       "      <td>4</td>\n",
       "    </tr>\n",
       "  </tbody>\n",
       "</table>\n",
       "<p>10 rows × 36 columns</p>\n",
       "</div>"
      ],
      "text/plain": [
       "                                   amplicon  *  Angelicaesinensis_a  \\\n",
       "0  a84c749701d67d1226018c6714b72e543a618f16  0                    0   \n",
       "1  ac90db76fbae68003ec939d36b9847a46cbfa3c7  0                    0   \n",
       "2  2987db85c9fae5a1464f814e070b7507621e8a57  0                   46   \n",
       "3  addff39eca064dd9caa294721e6a23cab9c331ab  0                37126   \n",
       "4  a069993ab97b3f720cf66567bfb1fad838b20dc6  0                    0   \n",
       "5  28bf85082548d49c8d3b2793064a2fae0f417562  0                   28   \n",
       "6  967e951648145482fcc47f85b2a3530bec26d552  0                  588   \n",
       "7  8cdbd592419bf9c65aa2691a6c163fe4c16042bb  0                   10   \n",
       "8  9cb16aaf5f7887b597ac5fc1bba7e95e881b0d3c  0                    0   \n",
       "9  36ecc3a6b7c304e724eb2680f97c751acaa0cdf6  0                    0   \n",
       "\n",
       "   Angelicaesinensis_b  Carthamustinctorius_a  Carthamustinctorius_b  \\\n",
       "0                37102                  51274                     24   \n",
       "1                    0                      2                     58   \n",
       "2                    0                      2                      2   \n",
       "3                19230                     10                     12   \n",
       "4                    4                      0                      0   \n",
       "5                   40                      2                     40   \n",
       "6                    8                      6                     46   \n",
       "7                   22                      8                     54   \n",
       "8                    6                      8                     16   \n",
       "9                    6                     18                     22   \n",
       "\n",
       "   Citrusaurantium_a  Citrusaurantium_b  Cyperusrotundus_a  Cyperusrotundus_b  \\\n",
       "0                  0                 14                  0                  0   \n",
       "1                342              98850                 64                274   \n",
       "2                  8                  4                  0                  0   \n",
       "3                  6                124                 72                  8   \n",
       "4                  0                 10               8960                 30   \n",
       "5                  6                 64                 18                  4   \n",
       "6                 42                658                  4                 24   \n",
       "7                 14                 82                812                  2   \n",
       "8                 22                 10                108                 14   \n",
       "9                  8                176               1938                  2   \n",
       "\n",
       "   ...  Paeonialactiflora_a  Paeonialactiflora_b  Peoniasuffruticosa_a  \\\n",
       "0  ...                    0                    0                     0   \n",
       "1  ...                    2                    8                     0   \n",
       "2  ...                    6                    0                     6   \n",
       "3  ...                   46                  130                     8   \n",
       "4  ...                    0                    0                     0   \n",
       "5  ...                  206                   64                    82   \n",
       "6  ...                    0                   24                  8220   \n",
       "7  ...                  950                15818                 24934   \n",
       "8  ...                   52                   80                   156   \n",
       "9  ...                  180                   36                    14   \n",
       "\n",
       "   Peoniasuffruticosa_b  Poriacocos_a  Poriacocos_b  Prunuspersica_a  \\\n",
       "0                     0             0             0                0   \n",
       "1                     0             2             2                4   \n",
       "2                     0             0             0                2   \n",
       "3                    10            54             6               12   \n",
       "4                     0             8             0                0   \n",
       "5                    66            64            18            19908   \n",
       "6                   140             4            22               20   \n",
       "7                  1024           120            42              290   \n",
       "8                    26           146           140             3220   \n",
       "9                     4             4            14               14   \n",
       "\n",
       "   Prunuspersica_b  Trogopterusxanthipes_a  Trogopterusxanthipes_b  \n",
       "0                2                      30                   41198  \n",
       "1               32                     580                       2  \n",
       "2                6                      90                       4  \n",
       "3              406                     194                      16  \n",
       "4               10                       2                       0  \n",
       "5            24204                     128                       2  \n",
       "6              532                       4                     210  \n",
       "7               36                      80                      18  \n",
       "8               82                    5174                       2  \n",
       "9              156                       4                       4  \n",
       "\n",
       "[10 rows x 36 columns]"
      ]
     },
     "execution_count": 37,
     "metadata": {},
     "output_type": "execute_result"
    }
   ],
   "source": [
    "get_glimpse_head('trnL_sub_cluster_OTU_table_f1_basics2_cut2phyloseq2.tab')"
   ]
  },
  {
   "cell_type": "markdown",
   "metadata": {},
   "source": [
    "**###################################################################################################################**<p>\n",
    "**THE FOLLOWING COMMANDS ARE PART OF THE DATA ANALYSIS, WHICH WILL BE RUN USING THE THIRD NOTEBOOK `metapipe-r.ipynb`**<p>\n",
    "**By running the Data Analysis steps using the R Notebook, `you will be redirected to this point, in this Notebook`.**<p>\n",
    "**LET'S START THE DATA ANALYSIS, OPENING THE `metapipe-r.ipynb` Notebook!!!**\n",
    "**###################################################################################################################**<p>"
   ]
  },
  {
   "cell_type": "markdown",
   "metadata": {},
   "source": [
    "**Now that we have started our `data analysis` in `metapipe-r.ipynb` Notebook, we reached the point where we know which OTUs were amplified in the Negative control samples and we know which of those OTUs are the most abundant.**<p>\n",
    "**Now we are going to explore `who` these Top abundance OTUs are:**"
   ]
  },
  {
   "cell_type": "markdown",
   "metadata": {},
   "source": [
    "The following **`function`** is used to **`visualise`** the distribution of **`OTU abundance`** for each **`selected`** OTU:"
   ]
  },
  {
   "cell_type": "code",
   "execution_count": null,
   "metadata": {},
   "outputs": [],
   "source": [
    "def plot_OTU_bars(amplicon, assignments, nbins, width):\n",
    "    # Import the necessary modules\n",
    "    import matplotlib.pyplot as plt\n",
    "    import numpy as np\n",
    "    import seaborn as sns\n",
    "    import pandas as pd\n",
    "    \n",
    "    # import data\n",
    "    data = pd.read_csv(assignments, sep='\\t')\n",
    "    \n",
    "    # apply filter\n",
    "    selection = pd.DataFrame(data).amplicon.str.contains(amplicon)\n",
    "    df = data[selection].set_index('amplicon').T\n",
    "    df.reset_index(inplace=True)\n",
    "    \n",
    "    # create barplot\n",
    "    bar_plot = sns.barplot(x='index', y=str(amplicon), data=df)\n",
    "\n",
    "    # show plot with custom width\n",
    "    sns.set(rc={'figure.figsize':(width,9)})\n",
    "    plt.xticks(rotation='vertical')\n",
    "    plt.ylabel(\"Abundance\")\n",
    "    plt.xlabel(\"Sample\")\n",
    "    bar_plot\n",
    "\n",
    "    # return results\n",
    "    return bar_plot"
   ]
  },
  {
   "cell_type": "markdown",
   "metadata": {},
   "source": [
    "**We know that in out negative sample `(data_neg subset)`, we have three Top OTUs:**<p>\n",
    "265f74f49f9531de8808b253efa96dc7c320df27<p>\n",
    "94385ff6f775ede0a8b76f5e4f3a9a0de58a4eca<p>\n",
    "c65370ec20a9cdf9089e1983d7c5c3d4227a870<p>\n",
    "**Let's check the Top3 OTUs from `data_neg` looking for `who` they are using our `OTU_tax_assignments.txt` table, and the OTU `abundance distribution` using our `OTU_table_f1_basics2_cut2phyloseq2.tab` table:**"
   ]
  },
  {
   "cell_type": "code",
   "execution_count": null,
   "metadata": {},
   "outputs": [],
   "source": [
    "!grep \"265f74f49f9531de8808b253efa96dc7c320df27\" target95_trnL_OTU_tax_assignments.txt"
   ]
  },
  {
   "cell_type": "code",
   "execution_count": null,
   "metadata": {},
   "outputs": [],
   "source": [
    "plot_OTU_bars(\n",
    "    \"265f74f49f9531de8808b253efa96dc7c320df27\", \n",
    "    \"trnL_sub_cluster_OTU_table_f1_basics2_cut2phyloseq2.tab\", \n",
    "    15,  # number of bins (bars)\n",
    "    10)  # width"
   ]
  },
  {
   "cell_type": "markdown",
   "metadata": {},
   "source": [
    "**We observe that the Top1 OTU assigned as Juglandaceae *Juglans mandshuric* occurrs with high abundance in the `Negative` sample, but presents higher abundance in `Glycyrrhizauralensis_b` and `Paeonialactiflora_b` samples.**"
   ]
  },
  {
   "cell_type": "markdown",
   "metadata": {},
   "source": [
    "Let's check the next Top OTU:"
   ]
  },
  {
   "cell_type": "code",
   "execution_count": null,
   "metadata": {},
   "outputs": [],
   "source": [
    "!grep \"94385ff6f775ede0a8b76f5e4f3a9a0de58a4eca\" target95_trnL_OTU_tax_assignments.txt"
   ]
  },
  {
   "cell_type": "code",
   "execution_count": null,
   "metadata": {},
   "outputs": [],
   "source": [
    "plot_OTU_bars(\n",
    "    \"94385ff6f775ede0a8b76f5e4f3a9a0de58a4eca\", \n",
    "    \"trnL_sub_cluster_OTU_table_f1_basics2_cut2phyloseq2.tab\", \n",
    "    15,  # number of bins (bars)\n",
    "    10)  # width"
   ]
  },
  {
   "cell_type": "markdown",
   "metadata": {},
   "source": [
    "**Similarly, we observe that the Top2 OTU assigned to Dioscoreaceae *Dioscorea japonica* occurrs in the `Negative` sample, but presents much higher abundance in `Ligusticumchuanxiong_b` sample.**"
   ]
  },
  {
   "cell_type": "code",
   "execution_count": null,
   "metadata": {},
   "outputs": [],
   "source": [
    "!grep \"c65370ec20a9cdf9089e1983d7c5c3d4227a870b\" target95_trnL_OTU_tax_assignments.txt"
   ]
  },
  {
   "cell_type": "code",
   "execution_count": null,
   "metadata": {},
   "outputs": [],
   "source": [
    "plot_OTU_bars(\n",
    "    \"c65370ec20a9cdf9089e1983d7c5c3d4227a870b\", \n",
    "    \"trnL_sub_cluster_OTU_table_f1_basics2_cut2phyloseq2.tab\", \n",
    "    15,  # number of bins (bars)\n",
    "    10)  # width"
   ]
  },
  {
   "cell_type": "markdown",
   "metadata": {},
   "source": [
    "**Again, we observe that the Top3 OTU amplified in the `Negative` control sample and also assigned to Dioscoreaceae *Dioscorea japonica* occurrs in relatively low abundance in the `Negative` sample, but presents much higher abundance in `GuiZhiFuLingTan_b` and `GXZYT_a` samples.**"
   ]
  },
  {
   "cell_type": "markdown",
   "metadata": {},
   "source": [
    "**###################################################################################################################**<P>\n",
    "**AT THIS POINT LET'S GO BACK TO `metapipe-r.ipynb` NOTEBOOK TO FIND OUT THE TOP OTUS FROM THE `NegativePCR` CONTROL SAMPLE!**<P>\n",
    "**###################################################################################################################**"
   ]
  },
  {
   "cell_type": "markdown",
   "metadata": {},
   "source": [
    "**Now that we have run the composition analysis of the `Negative PCR` control sample `(data_negPCR subset)`, we know that we have `TWO` Top OTUs to investigate:**<p>\n",
    "**1ad23561fdff8989fd2e4e9a3735a4b8f5633fba**<p>\n",
    "**250a541b1d3823011d21097b0f3880d831e6b92d**"
   ]
  },
  {
   "cell_type": "markdown",
   "metadata": {},
   "source": [
    "**Let's check who these two OTUs amplified in the `Negative PCR` control sample are, and the respective OTU abundance distribution, as we did before:**"
   ]
  },
  {
   "cell_type": "code",
   "execution_count": null,
   "metadata": {},
   "outputs": [],
   "source": [
    "!grep \"1ad23561fdff8989fd2e4e9a3735a4b8f5633fba\" target95_trnL_OTU_tax_assignments.txt"
   ]
  },
  {
   "cell_type": "code",
   "execution_count": null,
   "metadata": {},
   "outputs": [],
   "source": [
    "plot_OTU_bars(\n",
    "    \"1ad23561fdff8989fd2e4e9a3735a4b8f5633fba\", \n",
    "    \"trnL_sub_cluster_OTU_table_f1_basics2_cut2phyloseq2.tab\", \n",
    "    15,  # number of bins (bars)\n",
    "    10)  # width"
   ]
  },
  {
   "cell_type": "markdown",
   "metadata": {},
   "source": [
    "**We observe that the Top1 OTU from `data_negPCR subset`, assigned as Fabaceae *Euchresta horsfieldii*, occurrs with high abundance in the `NegativePCR` sample, but presents highest abundance in `Glycyrrhizauralensis_b` sample.**"
   ]
  },
  {
   "cell_type": "markdown",
   "metadata": {},
   "source": [
    "Let's check the second most abundant OTU:"
   ]
  },
  {
   "cell_type": "code",
   "execution_count": null,
   "metadata": {},
   "outputs": [],
   "source": [
    "!grep \"250a541b1d3823011d21097b0f3880d831e6b92d\" target95_trnL_OTU_tax_assignments.txt"
   ]
  },
  {
   "cell_type": "code",
   "execution_count": null,
   "metadata": {},
   "outputs": [],
   "source": [
    "plot_OTU_bars(\n",
    "    \"250a541b1d3823011d21097b0f3880d831e6b92d\", \n",
    "    \"trnL_sub_cluster_OTU_table_f1_basics2_cut2phyloseq2.tab\", \n",
    "    15,  # number of bins (bars)\n",
    "    10)  # width"
   ]
  },
  {
   "cell_type": "markdown",
   "metadata": {},
   "source": [
    "**We observe that the Top2 OTU from the `NegativePCR` control sample was assigned to Juglandaceae *Juglans mandshuric* (similarly to the Top1 OTU from `data_neg subset`), it occurrs in the `NegativePCR` sample in relatively low abundance, and presents the highest abundance in `GuiZhiFuLingTan_b` sample.**"
   ]
  },
  {
   "cell_type": "markdown",
   "metadata": {},
   "source": [
    "**#############################################################################################################**<P>\n",
    "**AT THIS POINT LET'S GO BACK TO `metapipe-r.ipynb` NOTEBOOK TO FIND OUT THE TOP OTUS FROM THE WHOLE DATASET!!!**<P>\n",
    "**#############################################################################################################**"
   ]
  },
  {
   "cell_type": "markdown",
   "metadata": {},
   "source": [
    "**Now that we know the `SIX` Top OTUs from the whole dataset, let's investigate who they are:**<p>\n",
    "**ac90db76fbae68003ec939d36b9847a46cbfa3c7**<p>\n",
    "**2987db85c9fae5a1464f814e070b7507621e8a57**<p>\n",
    "**addff39eca064dd9caa294721e6a23cab9c331ab**<p>\n",
    "**a069993ab97b3f720cf66567bfb1fad838b20dc6**<p>\n",
    "**28bf85082548d49c8d3b2793064a2fae0f417562**<p>\n",
    "**967e951648145482fcc47f85b2a3530bec26d552**"
   ]
  },
  {
   "cell_type": "markdown",
   "metadata": {},
   "source": [
    "**We can observe already that the Top OTUs amplified in the `Negative` controls are not among the Top OTUs from the whole dataset, this is good.**"
   ]
  },
  {
   "cell_type": "markdown",
   "metadata": {},
   "source": [
    "Let's check one by one again:"
   ]
  },
  {
   "cell_type": "code",
   "execution_count": null,
   "metadata": {},
   "outputs": [],
   "source": [
    "!grep \"ac90db76fbae68003ec939d36b9847a46cbfa3c7\" target95_trnL_OTU_tax_assignments.txt"
   ]
  },
  {
   "cell_type": "code",
   "execution_count": null,
   "metadata": {},
   "outputs": [],
   "source": [
    "plot_OTU_bars(\n",
    "    \"ac90db76fbae68003ec939d36b9847a46cbfa3c7\", \n",
    "    \"trnL_sub_cluster_OTU_table_f1_basics2_cut2phyloseq2.tab\", \n",
    "    15,  # number of bins (bars)\n",
    "    10)  # width"
   ]
  },
  {
   "cell_type": "markdown",
   "metadata": {},
   "source": [
    "**We observe that the Top OTU assigned as Rutaceae *Citrus micrantha* is more abundant in `Citrusaurantium_b` sample.**"
   ]
  },
  {
   "cell_type": "markdown",
   "metadata": {},
   "source": [
    "![Image of Prunus persica](https://i.pinimg.com/564x/63/03/e2/6303e2ca0575aac208367e3670599afd.jpg)"
   ]
  },
  {
   "cell_type": "code",
   "execution_count": null,
   "metadata": {},
   "outputs": [],
   "source": [
    "!grep \"2987db85c9fae5a1464f814e070b7507621e8a57\" target95_trnL_OTU_tax_assignments.txt"
   ]
  },
  {
   "cell_type": "code",
   "execution_count": null,
   "metadata": {},
   "outputs": [],
   "source": [
    "plot_OTU_bars(\n",
    "    \"2987db85c9fae5a1464f814e070b7507621e8a57\", \n",
    "    \"trnL_sub_cluster_OTU_table_f1_basics2_cut2phyloseq2.tab\", \n",
    "    15,  # number of bins (bars)\n",
    "    10)  # width"
   ]
  },
  {
   "cell_type": "markdown",
   "metadata": {},
   "source": [
    "**We observe that the Top OTU assigned as Poaceae *Zea mays* is more abundant in `GZFLW_a` sample.**"
   ]
  },
  {
   "cell_type": "markdown",
   "metadata": {},
   "source": [
    "![Image of Prunus persica](http://socorronacozinha.com.br/wp-content/uploads/2012/08/milho-cozido-manteiga-545x306.jpg)"
   ]
  },
  {
   "cell_type": "code",
   "execution_count": null,
   "metadata": {},
   "outputs": [],
   "source": [
    "!grep \"addff39eca064dd9caa294721e6a23cab9c331ab\" target95_trnL_OTU_tax_assignments.txt"
   ]
  },
  {
   "cell_type": "code",
   "execution_count": null,
   "metadata": {},
   "outputs": [],
   "source": [
    "plot_OTU_bars(\n",
    "    \"addff39eca064dd9caa294721e6a23cab9c331ab\", \n",
    "    \"trnL_sub_cluster_OTU_table_f1_basics2_cut2phyloseq2.tab\", \n",
    "    15,  # number of bins (bars)\n",
    "    10)  # width"
   ]
  },
  {
   "cell_type": "markdown",
   "metadata": {},
   "source": [
    "**We observe that the Top OTU assigned as Apiaceae *Selinum carvifolia* is more abundant in `Angelicaesinensis_a/b`, and `GXZYT_a` samples.**"
   ]
  },
  {
   "cell_type": "markdown",
   "metadata": {},
   "source": [
    "![Image of Prunus persica](https://alchetron.com/cdn/selinum-carvifolia-ba052cc2-9fff-4192-8f97-56186cb42d6-resize-750.jpeg)"
   ]
  },
  {
   "cell_type": "code",
   "execution_count": null,
   "metadata": {},
   "outputs": [],
   "source": [
    "!grep \"a069993ab97b3f720cf66567bfb1fad838b20dc6\" target95_trnL_OTU_tax_assignments.txt"
   ]
  },
  {
   "cell_type": "code",
   "execution_count": null,
   "metadata": {},
   "outputs": [],
   "source": [
    "plot_OTU_bars(\n",
    "    \"a069993ab97b3f720cf66567bfb1fad838b20dc6\", \n",
    "    \"trnL_sub_cluster_OTU_table_f1_basics2_cut2phyloseq2.tab\", \n",
    "    15,  # number of bins (bars)\n",
    "    10)  # width"
   ]
  },
  {
   "cell_type": "markdown",
   "metadata": {},
   "source": [
    "**We observe that the top OTU assigned as Lauraceae *Cinnamomum camphora* is more abundant in `GuiZhiFuLingPian_a` and `Cyperusrotundus_a` samples.**"
   ]
  },
  {
   "cell_type": "markdown",
   "metadata": {},
   "source": [
    "![Image of Prunus persica](https://jb.utad.pt/imagem/7614)"
   ]
  },
  {
   "cell_type": "code",
   "execution_count": null,
   "metadata": {},
   "outputs": [],
   "source": [
    "!grep \"28bf85082548d49c8d3b2793064a2fae0f417562\" target95_trnL_OTU_tax_assignments.txt"
   ]
  },
  {
   "cell_type": "code",
   "execution_count": null,
   "metadata": {},
   "outputs": [],
   "source": [
    "plot_OTU_bars(\n",
    "    \"28bf85082548d49c8d3b2793064a2fae0f417562\", \n",
    "    \"trnL_sub_cluster_OTU_table_f1_basics2_cut2phyloseq2.tab\", \n",
    "    15,  # number of bins (bars)\n",
    "    10)  # width"
   ]
  },
  {
   "cell_type": "markdown",
   "metadata": {},
   "source": [
    "**We observe that the top OTU assigned as Rosaceae *Prunus sunhangii* is more abundant in `Prunuspersica_a/b`, `GXZYT_a` and `GZFLW_a` samples.**"
   ]
  },
  {
   "cell_type": "markdown",
   "metadata": {},
   "source": [
    "![Image of Prunus persica](https://upload.wikimedia.org/wikipedia/commons/thumb/5/5e/Nectarine_Fruit_Development.jpg/800px-Nectarine_Fruit_Development.jpg)"
   ]
  },
  {
   "cell_type": "markdown",
   "metadata": {},
   "source": [
    "**It is a very good sign that we do not have any of the Top OTUs amplified in the `Negative` and `NegativePCR` samples among the general Top OTUs from the whole dataset.**"
   ]
  },
  {
   "cell_type": "markdown",
   "metadata": {},
   "source": [
    "**#############################################################################################################**<P>\n",
    "**AT THIS POINT LET'S GO BACK TO `metapipe-r.ipynb` NOTEBOOK TO RUN THE FOLLOWING DATA ANALYSIS**<p>\n",
    "**#############################################################################################################**"
   ]
  }
 ],
 "metadata": {
  "environment": {
   "kernel": "python3",
   "name": "common-cpu.m87",
   "type": "gcloud",
   "uri": "gcr.io/deeplearning-platform-release/base-cpu:m87"
  },
  "kernelspec": {
   "display_name": "Python 3 (ipykernel)",
   "language": "python",
   "name": "python3"
  },
  "language_info": {
   "codemirror_mode": {
    "name": "ipython",
    "version": 3
   },
   "file_extension": ".py",
   "mimetype": "text/x-python",
   "name": "python",
   "nbconvert_exporter": "python",
   "pygments_lexer": "ipython3",
   "version": "3.7.12"
  }
 },
 "nbformat": 4,
 "nbformat_minor": 4
}
