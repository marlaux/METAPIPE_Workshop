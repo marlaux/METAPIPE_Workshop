{
 "cells": [
  {
   "cell_type": "markdown",
   "metadata": {},
   "source": [
    "**Let's check the files we have on the machine?**"
   ]
  },
  {
   "cell_type": "code",
   "execution_count": 1,
   "metadata": {
    "collapsed": true,
    "jupyter": {
     "outputs_hidden": true
    },
    "tags": []
   },
   "outputs": [
    {
     "name": "stdout",
     "output_type": "stream",
     "text": [
      "1_merge_pear.sh\n",
      "2a_preparing_tags_LCPI.pl\n",
      "2b_demulti_dual_index_linked.sh\n",
      "3_tag_primer_clipping_clean_derep.sh\n",
      "4_clustering_swarm_with_chim_filter.sh\n",
      "5_BLAST_options.sh\n",
      "6a_OTU_contingency_table.py\n",
      "6a_build_OTU_table.sh\n",
      "6b_filter_OTU_table.sh\n",
      "DB1_NCBI_download_refs.sh\n",
      "DB2_primers_cut.sh\n",
      "DB3_NCBI_lineage.sh\n",
      "Install_Setup.ipynb\n",
      "NCBI_lineage_dups.pl\n",
      "NCBI_lineage_edit.pl\n",
      "README.md\n",
      "count_fastq_sequences.sh\n",
      "dioscorea.png\n",
      "discorea.png\n",
      "metapipe-r.ipynb\n",
      "metapipe-run.ipynb\n",
      "nucl_gb.accession2taxid.gz\n",
      "r-4.0.5_1_amd64.deb\n",
      "rstudio-workbench-2021.09.0-351.pro6-amd64.deb\n",
      "taxdb.btd\n",
      "taxdb.bti\n",
      "taxdb.tar.gz\n",
      "trnL_S1_L001_R1_001_sub.fastq\n",
      "trnL_S1_L001_R2_001_sub.fastq\n",
      "trnL_sub_metadata.txt\n",
      "trnL_sub_tags.txt\n"
     ]
    }
   ],
   "source": [
    "%ls"
   ]
  },
  {
   "cell_type": "markdown",
   "metadata": {},
   "source": [
    "**Let's make all the scripts executable**"
   ]
  },
  {
   "cell_type": "code",
   "execution_count": 120,
   "metadata": {},
   "outputs": [],
   "source": [
    "!chmod 777 -R *.sh *.py *.pl"
   ]
  },
  {
   "cell_type": "markdown",
   "metadata": {},
   "source": [
    "**A custom script called `DB1_NCBI_download_refs.sh` has been made available in the machine. Let's check how it is used?**"
   ]
  },
  {
   "cell_type": "code",
   "execution_count": 14,
   "metadata": {},
   "outputs": [
    {
     "name": "stdout",
     "output_type": "stream",
     "text": [
      "##################################################\n",
      " \n",
      "DOWNLOAD NCBI SEQUENCES\n",
      " \n",
      "Usage: DB1_NCBI_download_refs.sh [-n taxon name] [-t taxonid] [-m marker]\n",
      "-n     target taxon name, e.g. Arachnida\n",
      "-t     NCBI Taxonomy ID, e.g txid6854\n",
      "-m     marker, e.g. COI, ITS, ITS1, ITS2, trnL, rbcL, matK...\n",
      "-h     print this help\n",
      "srun --ntasks=1 --mem-per-cpu=8G --time=02:00:00 --qos=devel --account=nn9813k --pty bash -i\n",
      "make sure that '--account=nn9813k' is your user project!\n",
      " \n",
      "##################################################\n"
     ]
    }
   ],
   "source": [
    "!bash DB1_NCBI_download_refs.sh -h"
   ]
  },
  {
   "cell_type": "markdown",
   "metadata": {},
   "source": [
    "**As seen above, the script could be used as: `./DB1_NCBI_download_refs.sh -n Streptophyta -t txid35493 -m trnL` to download the trnL marker of all Streptophyta.**\n",
    "\n",
    "**However this command takes to long, thus its resulting file has already been made available for download:**"
   ]
  },
  {
   "cell_type": "code",
   "execution_count": 15,
   "metadata": {},
   "outputs": [
    {
     "name": "stderr",
     "output_type": "stream",
     "text": [
      "Copying gs://metapipe-data/Streptophyta_trnL_NCBI.fasta...\n",
      "/ [1 files][ 29.9 MiB/ 29.9 MiB]                                                \n",
      "Operation completed over 1 objects/29.9 MiB.                                     \n"
     ]
    }
   ],
   "source": [
    "%%bash\n",
    "# ./DB1_NCBI_download_refs.sh -n Streptophyta -t txid35493 -m trnL\n",
    "gsutil copy gs://metapipe-data/Streptophyta_trnL_NCBI.fasta ."
   ]
  },
  {
   "cell_type": "code",
   "execution_count": null,
   "metadata": {
    "collapsed": true,
    "jupyter": {
     "outputs_hidden": true
    },
    "tags": []
   },
   "outputs": [
    {
     "name": "stdout",
     "output_type": "stream",
     "text": [
      "\u001b[0m\u001b[01;32m1_merge_pear.sh\u001b[0m*\n",
      "\u001b[01;32m2a_preparing_tags_LCPI.pl\u001b[0m*\n",
      "\u001b[01;32m2b_demulti_dual_index_linked.sh\u001b[0m*\n",
      "\u001b[01;32m3_tag_primer_clipping_clean_derep.sh\u001b[0m*\n",
      "\u001b[01;32m4_clustering_swarm_with_chim_filter.sh\u001b[0m*\n",
      "\u001b[01;32m5_BLAST_options.sh\u001b[0m*\n",
      "\u001b[01;32m6a_OTU_contingency_table.py\u001b[0m*\n",
      "\u001b[01;32m6a_build_OTU_table.sh\u001b[0m*\n",
      "\u001b[01;32m6b_filter_OTU_table.sh\u001b[0m*\n",
      "\u001b[01;32mDB1_NCBI_download_refs.sh\u001b[0m*\n",
      "\u001b[01;32mDB2_primers_cut.sh\u001b[0m*\n",
      "\u001b[01;32mDB3_NCBI_lineage.sh\u001b[0m*\n",
      "Install_Setup.ipynb\n",
      "\u001b[01;32mNCBI_lineage_dups.pl\u001b[0m*\n",
      "\u001b[01;32mNCBI_lineage_edit.pl\u001b[0m*\n",
      "README.md\n",
      "Streptophyta_trnL_NCBI.fasta\n",
      "\u001b[01;32mcount_fastq_sequences.sh\u001b[0m*\n",
      "dioscorea.png\n",
      "discorea.png\n",
      "metapipe-r.ipynb\n",
      "metapipe-run.ipynb\n",
      "nucl_gb.accession2taxid.gz\n",
      "r-4.0.5_1_amd64.deb\n",
      "rstudio-workbench-2021.09.0-351.pro6-amd64.deb\n",
      "taxdb.btd\n",
      "taxdb.bti\n",
      "taxdb.tar.gz\n",
      "trnL_S1_L001_R1_001_sub.fastq\n",
      "trnL_S1_L001_R2_001_sub.fastq\n",
      "trnL_sub_metadata.txt\n",
      "trnL_sub_tags.txt\n"
     ]
    }
   ],
   "source": [
    "%ls"
   ]
  },
  {
   "cell_type": "markdown",
   "metadata": {},
   "source": [
    "**After downloading the file, we must remove the primer sequences. For that, we can use the following script:**"
   ]
  },
  {
   "cell_type": "code",
   "execution_count": 12,
   "metadata": {},
   "outputs": [
    {
     "name": "stdout",
     "output_type": "stream",
     "text": [
      "##################################################\n",
      "CUT THE REFERENCES SEQUENCES ACCORDING YOUR PRIMERS PAIR\n",
      "##################################################\n",
      " \n",
      "Usage: DB2_primers_cut.sh [-r reference_dataset.fasta] [-F primer forwad] [-R primer reverse] [-p prefix]\n",
      "-r     references fasta file downloaded\n",
      "-F     primer forward\n",
      "-R     primer reverse\n",
      "-p     prefix for primer pair\n",
      "-h     print this help\n",
      " \n",
      "##################################################\n"
     ]
    }
   ],
   "source": [
    "!bash DB2_primers_cut.sh -h"
   ]
  },
  {
   "cell_type": "code",
   "execution_count": 13,
   "metadata": {
    "collapsed": true,
    "jupyter": {
     "outputs_hidden": true
    },
    "tags": []
   },
   "outputs": [
    {
     "name": "stderr",
     "output_type": "stream",
     "text": [
      "This is cutadapt 3.5 with Python 3.7.12\n",
      "Command line parameters: --discard-untrimmed -g GGGCAATCCTGAGCCAA -a CCATTGAGTCTCTGCACCTATC Streptophyta_trnL_NCBI.fasta\n",
      "Processing reads on 1 core in single-end mode ...\n",
      "Finished in 1.54 s (44 µs/read; 1.37 M reads/minute).\n",
      "\n",
      "=== Summary ===\n",
      "\n",
      "Total reads processed:                  35,200\n",
      "Reads with adapters:                    25,609 (72.8%)\n",
      "\n",
      "== Read fate breakdown ==\n",
      "Reads discarded as untrimmed:            9,591 (27.2%)\n",
      "Reads written (passing filters):        25,609 (72.8%)\n",
      "\n",
      "Total basepairs processed:    25,675,178 bp\n",
      "Total written (filtered):     16,997,938 bp (66.2%)\n",
      "\n",
      "=== Adapter 1 ===\n",
      "\n",
      "Sequence: GGGCAATCCTGAGCCAA; Type: regular 5'; Length: 17; Trimmed: 23520 times\n",
      "\n",
      "Minimum overlap: 3\n",
      "No. of allowed errors:\n",
      "1-9 bp: 0; 10-17 bp: 1\n",
      "\n",
      "Overview of removed sequences\n",
      "length\tcount\texpect\tmax.err\terror counts\n",
      "3\t485\t550.0\t0\t485\n",
      "4\t120\t137.5\t0\t120\n",
      "5\t5\t34.4\t0\t5\n",
      "6\t11\t8.6\t0\t11\n",
      "7\t34\t2.1\t0\t34\n",
      "8\t122\t0.5\t0\t122\n",
      "9\t97\t0.1\t0\t97\n",
      "10\t213\t0.0\t1\t198 15\n",
      "11\t296\t0.0\t1\t293 3\n",
      "12\t10\t0.0\t1\t8 2\n",
      "13\t6\t0.0\t1\t4 2\n",
      "14\t7\t0.0\t1\t5 2\n",
      "15\t3\t0.0\t1\t3\n",
      "16\t12\t0.0\t1\t11 1\n",
      "17\t315\t0.0\t1\t291 24\n",
      "18\t94\t0.0\t1\t92 2\n",
      "19\t55\t0.0\t1\t53 2\n",
      "20\t11\t0.0\t1\t8 3\n",
      "21\t6\t0.0\t1\t6\n",
      "22\t8\t0.0\t1\t4 4\n",
      "23\t15\t0.0\t1\t15\n",
      "24\t7\t0.0\t1\t6 1\n",
      "25\t164\t0.0\t1\t25 139\n",
      "26\t30\t0.0\t1\t30\n",
      "27\t102\t0.0\t1\t100 2\n",
      "28\t31\t0.0\t1\t26 5\n",
      "29\t228\t0.0\t1\t222 6\n",
      "30\t115\t0.0\t1\t112 3\n",
      "31\t30\t0.0\t1\t29 1\n",
      "32\t146\t0.0\t1\t145 1\n",
      "33\t42\t0.0\t1\t25 17\n",
      "34\t80\t0.0\t1\t73 7\n",
      "35\t57\t0.0\t1\t53 4\n",
      "36\t349\t0.0\t1\t303 46\n",
      "37\t31\t0.0\t1\t28 3\n",
      "38\t189\t0.0\t1\t183 6\n",
      "39\t294\t0.0\t1\t211 83\n",
      "40\t43\t0.0\t1\t31 12\n",
      "41\t729\t0.0\t1\t634 95\n",
      "42\t83\t0.0\t1\t78 5\n",
      "43\t236\t0.0\t1\t229 7\n",
      "44\t408\t0.0\t1\t390 18\n",
      "45\t244\t0.0\t1\t237 7\n",
      "46\t284\t0.0\t1\t280 4\n",
      "47\t285\t0.0\t1\t269 16\n",
      "48\t344\t0.0\t1\t329 15\n",
      "49\t66\t0.0\t1\t56 10\n",
      "50\t134\t0.0\t1\t131 3\n",
      "51\t207\t0.0\t1\t202 5\n",
      "52\t81\t0.0\t1\t75 6\n",
      "53\t124\t0.0\t1\t112 12\n",
      "54\t82\t0.0\t1\t76 6\n",
      "55\t193\t0.0\t1\t82 111\n",
      "56\t113\t0.0\t1\t106 7\n",
      "57\t259\t0.0\t1\t254 5\n",
      "58\t353\t0.0\t1\t346 7\n",
      "59\t156\t0.0\t1\t135 21\n",
      "60\t341\t0.0\t1\t337 4\n",
      "61\t594\t0.0\t1\t518 76\n",
      "62\t105\t0.0\t1\t88 17\n",
      "63\t290\t0.0\t1\t273 17\n",
      "64\t305\t0.0\t1\t278 27\n",
      "65\t345\t0.0\t1\t328 17\n",
      "66\t846\t0.0\t1\t786 60\n",
      "67\t596\t0.0\t1\t561 35\n",
      "68\t583\t0.0\t1\t539 44\n",
      "69\t248\t0.0\t1\t162 86\n",
      "70\t240\t0.0\t1\t227 13\n",
      "71\t260\t0.0\t1\t228 32\n",
      "72\t110\t0.0\t1\t103 7\n",
      "73\t194\t0.0\t1\t158 36\n",
      "74\t88\t0.0\t1\t83 5\n",
      "75\t122\t0.0\t1\t119 3\n",
      "76\t189\t0.0\t1\t174 15\n",
      "77\t136\t0.0\t1\t119 17\n",
      "78\t86\t0.0\t1\t82 4\n",
      "79\t202\t0.0\t1\t194 8\n",
      "80\t467\t0.0\t1\t336 131\n",
      "81\t173\t0.0\t1\t164 9\n",
      "82\t79\t0.0\t1\t71 8\n",
      "83\t244\t0.0\t1\t236 8\n",
      "84\t129\t0.0\t1\t114 15\n",
      "85\t123\t0.0\t1\t113 10\n",
      "86\t68\t0.0\t1\t61 7\n",
      "87\t260\t0.0\t1\t252 8\n",
      "88\t104\t0.0\t1\t99 5\n",
      "89\t122\t0.0\t1\t110 12\n",
      "90\t159\t0.0\t1\t81 78\n",
      "91\t96\t0.0\t1\t81 15\n",
      "92\t328\t0.0\t1\t320 8\n",
      "93\t172\t0.0\t1\t163 9\n",
      "94\t367\t0.0\t1\t257 110\n",
      "95\t461\t0.0\t1\t450 11\n",
      "96\t510\t0.0\t1\t379 131\n",
      "97\t872\t0.0\t1\t837 35\n",
      "98\t670\t0.0\t1\t646 24\n",
      "99\t241\t0.0\t1\t201 40\n",
      "100\t937\t0.0\t1\t786 151\n",
      "101\t452\t0.0\t1\t445 7\n",
      "102\t83\t0.0\t1\t76 7\n",
      "103\t95\t0.0\t1\t76 19\n",
      "104\t353\t0.0\t1\t341 12\n",
      "105\t55\t0.0\t1\t48 7\n",
      "106\t57\t0.0\t1\t55 2\n",
      "107\t40\t0.0\t1\t36 4\n",
      "108\t18\t0.0\t1\t17 1\n",
      "109\t20\t0.0\t1\t18 2\n",
      "110\t38\t0.0\t1\t38\n",
      "111\t15\t0.0\t1\t15\n",
      "112\t7\t0.0\t1\t7\n",
      "113\t49\t0.0\t1\t5 44\n",
      "114\t15\t0.0\t1\t8 7\n",
      "115\t24\t0.0\t1\t17 7\n",
      "116\t11\t0.0\t1\t9 2\n",
      "117\t181\t0.0\t1\t168 13\n",
      "118\t33\t0.0\t1\t30 3\n",
      "119\t73\t0.0\t1\t67 6\n",
      "120\t56\t0.0\t1\t52 4\n",
      "121\t12\t0.0\t1\t10 2\n",
      "122\t5\t0.0\t1\t4 1\n",
      "123\t8\t0.0\t1\t7 1\n",
      "125\t1\t0.0\t1\t0 1\n",
      "126\t2\t0.0\t1\t1 1\n",
      "127\t2\t0.0\t1\t1 1\n",
      "128\t1\t0.0\t1\t1\n",
      "130\t1\t0.0\t1\t1\n",
      "131\t2\t0.0\t1\t1 1\n",
      "133\t1\t0.0\t1\t1\n",
      "137\t1\t0.0\t1\t0 1\n",
      "140\t1\t0.0\t1\t0 1\n",
      "145\t1\t0.0\t1\t1\n",
      "167\t1\t0.0\t1\t1\n",
      "170\t2\t0.0\t1\t2\n",
      "198\t1\t0.0\t1\t1\n",
      "212\t1\t0.0\t1\t1\n",
      "227\t1\t0.0\t1\t1\n",
      "230\t1\t0.0\t1\t1\n",
      "231\t2\t0.0\t1\t2\n",
      "232\t6\t0.0\t1\t6\n",
      "233\t2\t0.0\t1\t2\n",
      "238\t1\t0.0\t1\t1\n",
      "239\t2\t0.0\t1\t2\n",
      "243\t1\t0.0\t1\t1\n",
      "252\t1\t0.0\t1\t1\n",
      "253\t9\t0.0\t1\t9\n",
      "267\t2\t0.0\t1\t2\n",
      "323\t4\t0.0\t1\t0 4\n",
      "324\t3\t0.0\t1\t0 3\n",
      "344\t1\t0.0\t1\t1\n",
      "363\t1\t0.0\t1\t1\n",
      "375\t1\t0.0\t1\t1\n",
      "387\t1\t0.0\t1\t1\n",
      "388\t1\t0.0\t1\t1\n",
      "391\t1\t0.0\t1\t1\n",
      "393\t1\t0.0\t1\t1\n",
      "395\t1\t0.0\t1\t1\n",
      "401\t1\t0.0\t1\t1\n",
      "403\t6\t0.0\t1\t6\n",
      "404\t1\t0.0\t1\t1\n",
      "406\t1\t0.0\t1\t1\n",
      "407\t1\t0.0\t1\t1\n",
      "409\t1\t0.0\t1\t1\n",
      "410\t3\t0.0\t1\t3\n",
      "411\t8\t0.0\t1\t8\n",
      "412\t1\t0.0\t1\t1\n",
      "422\t1\t0.0\t1\t1\n",
      "423\t21\t0.0\t1\t21\n",
      "424\t1\t0.0\t1\t1\n",
      "487\t1\t0.0\t1\t1\n",
      "490\t1\t0.0\t1\t1\n",
      "497\t1\t0.0\t1\t1\n",
      "512\t2\t0.0\t1\t2\n",
      "519\t1\t0.0\t1\t0 1\n",
      "521\t1\t0.0\t1\t0 1\n",
      "530\t2\t0.0\t1\t2\n",
      "531\t45\t0.0\t1\t45\n",
      "533\t1\t0.0\t1\t0 1\n",
      "535\t1\t0.0\t1\t0 1\n",
      "543\t19\t0.0\t1\t19\n",
      "544\t2\t0.0\t1\t2\n",
      "549\t1\t0.0\t1\t1\n",
      "550\t1\t0.0\t1\t1\n",
      "560\t2\t0.0\t1\t2\n",
      "561\t18\t0.0\t1\t18\n",
      "569\t8\t0.0\t1\t8\n",
      "574\t11\t0.0\t1\t11\n",
      "575\t16\t0.0\t1\t16\n",
      "576\t35\t0.0\t1\t20 15\n",
      "577\t10\t0.0\t1\t10\n",
      "578\t4\t0.0\t1\t4\n",
      "579\t3\t0.0\t1\t3\n",
      "584\t1\t0.0\t1\t1\n",
      "595\t5\t0.0\t1\t5\n",
      "614\t1\t0.0\t1\t1\n",
      "621\t1\t0.0\t1\t1\n",
      "630\t1\t0.0\t1\t1\n",
      "631\t2\t0.0\t1\t2\n",
      "632\t1\t0.0\t1\t1\n",
      "635\t1\t0.0\t1\t1\n",
      "637\t1\t0.0\t1\t1\n",
      "639\t4\t0.0\t1\t4\n",
      "644\t2\t0.0\t1\t2\n",
      "645\t1\t0.0\t1\t1\n",
      "647\t1\t0.0\t1\t1\n",
      "649\t22\t0.0\t1\t22\n",
      "650\t3\t0.0\t1\t3\n",
      "651\t1\t0.0\t1\t1\n",
      "653\t1\t0.0\t1\t1\n",
      "682\t1\t0.0\t1\t1\n",
      "687\t2\t0.0\t1\t2\n",
      "696\t1\t0.0\t1\t1\n",
      "705\t1\t0.0\t1\t1\n",
      "706\t2\t0.0\t1\t2\n",
      "707\t4\t0.0\t1\t4\n",
      "708\t3\t0.0\t1\t3\n",
      "709\t8\t0.0\t1\t8\n",
      "710\t6\t0.0\t1\t6\n",
      "711\t10\t0.0\t1\t10\n",
      "712\t5\t0.0\t1\t5\n",
      "713\t10\t0.0\t1\t10\n",
      "714\t9\t0.0\t1\t9\n",
      "715\t3\t0.0\t1\t3\n",
      "717\t3\t0.0\t1\t3\n",
      "718\t1\t0.0\t1\t1\n",
      "720\t2\t0.0\t1\t2\n",
      "723\t3\t0.0\t1\t3\n",
      "725\t1\t0.0\t1\t1\n",
      "726\t1\t0.0\t1\t1\n",
      "731\t2\t0.0\t1\t2\n",
      "732\t24\t0.0\t1\t24\n",
      "733\t3\t0.0\t1\t3\n",
      "734\t2\t0.0\t1\t2\n",
      "735\t1\t0.0\t1\t1\n",
      "736\t3\t0.0\t1\t3\n",
      "737\t1\t0.0\t1\t1\n",
      "738\t1\t0.0\t1\t1\n",
      "739\t1\t0.0\t1\t1\n",
      "742\t2\t0.0\t1\t2\n",
      "756\t2\t0.0\t1\t1 1\n",
      "758\t1\t0.0\t1\t1\n",
      "766\t1\t0.0\t1\t1\n",
      "776\t1\t0.0\t1\t1\n",
      "790\t1\t0.0\t1\t1\n",
      "800\t1\t0.0\t1\t1\n",
      "807\t1\t0.0\t1\t1\n",
      "822\t1\t0.0\t1\t1\n",
      "828\t2\t0.0\t1\t2\n",
      "831\t1\t0.0\t1\t0 1\n",
      "844\t5\t0.0\t1\t5\n",
      "848\t2\t0.0\t1\t2\n",
      "854\t1\t0.0\t1\t1\n",
      "855\t1\t0.0\t1\t1\n",
      "856\t1\t0.0\t1\t1\n",
      "860\t1\t0.0\t1\t1\n",
      "865\t2\t0.0\t1\t2\n",
      "866\t15\t0.0\t1\t2 13\n",
      "868\t12\t0.0\t1\t12\n",
      "873\t1\t0.0\t1\t1\n",
      "876\t2\t0.0\t1\t2\n",
      "879\t2\t0.0\t1\t0 2\n",
      "888\t199\t0.0\t1\t199\n",
      "889\t1\t0.0\t1\t1\n",
      "891\t5\t0.0\t1\t5\n",
      "892\t1\t0.0\t1\t1\n",
      "893\t4\t0.0\t1\t4\n",
      "894\t5\t0.0\t1\t5\n",
      "896\t6\t0.0\t1\t6\n",
      "898\t1\t0.0\t1\t1\n",
      "900\t1\t0.0\t1\t1\n",
      "901\t11\t0.0\t1\t11\n",
      "902\t72\t0.0\t1\t72\n",
      "903\t20\t0.0\t1\t20\n",
      "905\t3\t0.0\t1\t3\n",
      "907\t2\t0.0\t1\t2\n",
      "908\t1\t0.0\t1\t1\n",
      "909\t1\t0.0\t1\t1\n",
      "911\t2\t0.0\t1\t2\n",
      "912\t10\t0.0\t1\t10\n",
      "913\t11\t0.0\t1\t11\n",
      "914\t2\t0.0\t1\t2\n",
      "915\t2\t0.0\t1\t2\n",
      "916\t1\t0.0\t1\t1\n",
      "917\t4\t0.0\t1\t4\n",
      "918\t1\t0.0\t1\t1\n",
      "919\t1\t0.0\t1\t1\n",
      "920\t1\t0.0\t1\t1\n",
      "922\t4\t0.0\t1\t4\n",
      "924\t2\t0.0\t1\t2\n",
      "925\t2\t0.0\t1\t2\n",
      "926\t1\t0.0\t1\t1\n",
      "928\t1\t0.0\t1\t1\n",
      "929\t3\t0.0\t1\t3\n",
      "930\t3\t0.0\t1\t3\n",
      "931\t1\t0.0\t1\t1\n",
      "932\t1\t0.0\t1\t1\n",
      "933\t1\t0.0\t1\t1\n",
      "934\t5\t0.0\t1\t5\n",
      "935\t5\t0.0\t1\t5\n",
      "936\t3\t0.0\t1\t3\n",
      "937\t7\t0.0\t1\t7\n",
      "938\t2\t0.0\t1\t2\n",
      "939\t1\t0.0\t1\t1\n",
      "940\t12\t0.0\t1\t12\n",
      "941\t12\t0.0\t1\t12\n",
      "942\t13\t0.0\t1\t13\n",
      "943\t4\t0.0\t1\t4\n",
      "944\t2\t0.0\t1\t2\n",
      "945\t6\t0.0\t1\t6\n",
      "946\t23\t0.0\t1\t23\n",
      "947\t1\t0.0\t1\t1\n",
      "948\t2\t0.0\t1\t2\n",
      "950\t3\t0.0\t1\t3\n",
      "951\t2\t0.0\t1\t2\n",
      "952\t4\t0.0\t1\t4\n",
      "953\t8\t0.0\t1\t8\n",
      "954\t1\t0.0\t1\t1\n",
      "955\t4\t0.0\t1\t4\n",
      "956\t7\t0.0\t1\t7\n",
      "957\t5\t0.0\t1\t5\n",
      "959\t1\t0.0\t1\t1\n",
      "961\t3\t0.0\t1\t3\n",
      "962\t4\t0.0\t1\t4\n",
      "964\t2\t0.0\t1\t2\n",
      "966\t1\t0.0\t1\t1\n",
      "967\t3\t0.0\t1\t3\n",
      "968\t1\t0.0\t1\t1\n",
      "969\t10\t0.0\t1\t10\n",
      "971\t1\t0.0\t1\t1\n",
      "972\t5\t0.0\t1\t5\n",
      "973\t1\t0.0\t1\t1\n",
      "975\t5\t0.0\t1\t5\n",
      "976\t1\t0.0\t1\t1\n",
      "978\t1\t0.0\t1\t1\n",
      "979\t1\t0.0\t1\t1\n",
      "980\t2\t0.0\t1\t2\n",
      "981\t2\t0.0\t1\t2\n",
      "982\t2\t0.0\t1\t2\n",
      "983\t3\t0.0\t1\t3\n",
      "985\t1\t0.0\t1\t1\n",
      "986\t3\t0.0\t1\t3\n",
      "987\t1\t0.0\t1\t1\n",
      "990\t1\t0.0\t1\t1\n",
      "993\t1\t0.0\t1\t1\n",
      "1015\t1\t0.0\t1\t1\n",
      "1017\t2\t0.0\t1\t2\n",
      "1018\t3\t0.0\t1\t3\n",
      "1019\t1\t0.0\t1\t1\n",
      "1023\t1\t0.0\t1\t1\n",
      "1024\t1\t0.0\t1\t1\n",
      "1025\t1\t0.0\t1\t1\n",
      "1026\t1\t0.0\t1\t1\n",
      "1027\t1\t0.0\t1\t1\n",
      "1039\t3\t0.0\t1\t3\n",
      "1051\t1\t0.0\t1\t1\n",
      "1060\t1\t0.0\t1\t1\n",
      "1087\t1\t0.0\t1\t1\n",
      "1110\t1\t0.0\t1\t1\n",
      "1392\t1\t0.0\t1\t0 1\n",
      "1393\t1\t0.0\t1\t0 1\n",
      "1394\t1\t0.0\t1\t0 1\n",
      "2109\t1\t0.0\t1\t1\n",
      "6076\t1\t0.0\t1\t1\n",
      "\n",
      "\n",
      "=== Adapter 2 ===\n",
      "\n",
      "Sequence: CCATTGAGTCTCTGCACCTATC; Type: regular 3'; Length: 22; Trimmed: 2089 times\n",
      "\n",
      "Minimum overlap: 3\n",
      "No. of allowed errors:\n",
      "1-9 bp: 0; 10-19 bp: 1; 20-22 bp: 2\n",
      "\n",
      "Bases preceding removed adapters:\n",
      "  A: 0.7%\n",
      "  C: 3.1%\n",
      "  G: 0.0%\n",
      "  T: 96.2%\n",
      "  none/other: 0.0%\n",
      "WARNING:\n",
      "    The adapter is preceded by 'T' extremely often.\n",
      "    The provided adapter sequence could be incomplete at its 5' end.\n",
      "    Ignore this warning when trimming primers.\n",
      "\n",
      "Overview of removed sequences\n",
      "length\tcount\texpect\tmax.err\terror counts\n",
      "3\t83\t550.0\t0\t83\n",
      "5\t3\t34.4\t0\t3\n",
      "16\t1\t0.0\t1\t1\n",
      "23\t2\t0.0\t2\t2\n",
      "24\t1\t0.0\t2\t1\n",
      "25\t1\t0.0\t2\t1\n",
      "30\t9\t0.0\t2\t0 9\n",
      "32\t1\t0.0\t2\t0 1\n",
      "33\t1\t0.0\t2\t1\n",
      "36\t1\t0.0\t2\t1\n",
      "38\t1\t0.0\t2\t0 0 1\n",
      "41\t3\t0.0\t2\t3\n",
      "42\t137\t0.0\t2\t2 134 1\n",
      "49\t1\t0.0\t2\t1\n",
      "59\t1\t0.0\t2\t1\n",
      "69\t1\t0.0\t2\t1\n",
      "73\t1\t0.0\t2\t1\n",
      "74\t1\t0.0\t2\t1\n",
      "78\t1\t0.0\t2\t1\n",
      "80\t1\t0.0\t2\t0 0 1\n",
      "81\t1\t0.0\t2\t1\n",
      "82\t1\t0.0\t2\t1\n",
      "83\t1\t0.0\t2\t1\n",
      "84\t4\t0.0\t2\t4\n",
      "85\t1\t0.0\t2\t0 1\n",
      "87\t2\t0.0\t2\t0 1 1\n",
      "88\t9\t0.0\t2\t0 9\n",
      "89\t6\t0.0\t2\t0 6\n",
      "90\t4\t0.0\t2\t1 3\n",
      "91\t1\t0.0\t2\t1\n",
      "92\t3\t0.0\t2\t1 2\n",
      "93\t12\t0.0\t2\t0 12\n",
      "95\t10\t0.0\t2\t1 9\n",
      "97\t3\t0.0\t2\t0 3\n",
      "98\t2\t0.0\t2\t1 1\n",
      "101\t56\t0.0\t2\t56\n",
      "102\t10\t0.0\t2\t3 7\n",
      "103\t4\t0.0\t2\t0 4\n",
      "104\t4\t0.0\t2\t0 4\n",
      "105\t1\t0.0\t2\t0 0 1\n",
      "106\t4\t0.0\t2\t3 1\n",
      "107\t1\t0.0\t2\t1\n",
      "108\t3\t0.0\t2\t0 3\n",
      "109\t2\t0.0\t2\t1 1\n",
      "110\t1\t0.0\t2\t1\n",
      "111\t3\t0.0\t2\t2 1\n",
      "112\t3\t0.0\t2\t3\n",
      "113\t2\t0.0\t2\t1 1\n",
      "114\t1\t0.0\t2\t0 1\n",
      "115\t16\t0.0\t2\t15 1\n",
      "116\t14\t0.0\t2\t13 1\n",
      "117\t4\t0.0\t2\t4\n",
      "118\t2\t0.0\t2\t1 1\n",
      "119\t18\t0.0\t2\t18\n",
      "120\t5\t0.0\t2\t4 1\n",
      "121\t1\t0.0\t2\t1\n",
      "122\t8\t0.0\t2\t7 1\n",
      "123\t27\t0.0\t2\t26 0 1\n",
      "124\t9\t0.0\t2\t9\n",
      "125\t35\t0.0\t2\t34 0 1\n",
      "126\t23\t0.0\t2\t16 6 1\n",
      "127\t23\t0.0\t2\t19 4\n",
      "128\t320\t0.0\t2\t319 1\n",
      "129\t49\t0.0\t2\t46 2 1\n",
      "130\t18\t0.0\t2\t18\n",
      "131\t18\t0.0\t2\t17 1\n",
      "132\t7\t0.0\t2\t4 3\n",
      "133\t10\t0.0\t2\t8 2\n",
      "134\t9\t0.0\t2\t7 2\n",
      "135\t25\t0.0\t2\t24 1\n",
      "136\t5\t0.0\t2\t2 3\n",
      "137\t11\t0.0\t2\t9 2\n",
      "138\t4\t0.0\t2\t1 2 1\n",
      "139\t5\t0.0\t2\t1 3 1\n",
      "140\t248\t0.0\t2\t242 2 4\n",
      "141\t9\t0.0\t2\t6 0 3\n",
      "142\t9\t0.0\t2\t2 6 1\n",
      "143\t2\t0.0\t2\t0 2\n",
      "144\t5\t0.0\t2\t0 5\n",
      "145\t18\t0.0\t2\t16 2\n",
      "146\t2\t0.0\t2\t1 1\n",
      "147\t3\t0.0\t2\t3\n",
      "148\t26\t0.0\t2\t26\n",
      "149\t2\t0.0\t2\t2\n",
      "150\t1\t0.0\t2\t1\n",
      "151\t1\t0.0\t2\t1\n",
      "152\t10\t0.0\t2\t10\n",
      "153\t1\t0.0\t2\t1\n",
      "154\t4\t0.0\t2\t3 1\n",
      "155\t13\t0.0\t2\t13\n",
      "156\t1\t0.0\t2\t1\n",
      "157\t1\t0.0\t2\t1\n",
      "158\t1\t0.0\t2\t1\n",
      "159\t4\t0.0\t2\t4\n",
      "160\t6\t0.0\t2\t6\n",
      "161\t7\t0.0\t2\t3 4\n",
      "162\t5\t0.0\t2\t5\n",
      "163\t11\t0.0\t2\t5 4 2\n",
      "164\t4\t0.0\t2\t4\n",
      "165\t24\t0.0\t2\t6 18\n",
      "166\t5\t0.0\t2\t5\n",
      "167\t4\t0.0\t2\t4\n",
      "168\t5\t0.0\t2\t4 1\n",
      "169\t4\t0.0\t2\t4\n",
      "170\t7\t0.0\t2\t5 1 1\n",
      "171\t174\t0.0\t2\t173 1\n",
      "172\t16\t0.0\t2\t1 15\n",
      "173\t4\t0.0\t2\t3 1\n",
      "174\t7\t0.0\t2\t7\n",
      "175\t6\t0.0\t2\t5 1\n",
      "176\t48\t0.0\t2\t47 1\n",
      "177\t36\t0.0\t2\t36\n",
      "178\t23\t0.0\t2\t22 1\n",
      "179\t4\t0.0\t2\t2 1 1\n",
      "180\t4\t0.0\t2\t4\n",
      "181\t13\t0.0\t2\t13\n",
      "182\t58\t0.0\t2\t57 1\n",
      "183\t4\t0.0\t2\t3 1\n",
      "184\t3\t0.0\t2\t0 3\n",
      "185\t3\t0.0\t2\t3\n",
      "186\t1\t0.0\t2\t1\n",
      "188\t3\t0.0\t2\t3\n",
      "196\t1\t0.0\t2\t1\n",
      "204\t1\t0.0\t2\t1\n",
      "679\t10\t0.0\t2\t10\n",
      "680\t155\t0.0\t2\t155\n",
      "\n",
      "\n",
      "WARNING:\n",
      "    One or more of your adapter sequences may be incomplete.\n",
      "    Please see the detailed output above.\n"
     ]
    }
   ],
   "source": [
    "%%bash\n",
    "./DB2_primers_cut.sh \\\n",
    "    -r Streptophyta_trnL_NCBI.fasta \\\n",
    "    -F GGGCAATCCTGAGCCAA \\\n",
    "    -R CCATTGAGTCTCTGCACCTATC \\\n",
    "    -p target_trnL"
   ]
  },
  {
   "cell_type": "code",
   "execution_count": 16,
   "metadata": {},
   "outputs": [
    {
     "name": "stdout",
     "output_type": "stream",
     "text": [
      "metapipe-run.ipynb\n",
      "Streptophyta_trnL_NCBI.fasta\n",
      "target_trnL_cutted_references.fasta\n",
      "Install_Setup.ipynb\n",
      "trnL_sub_tags.txt\n",
      "trnL_S1_L001_R2_001_sub.fastq\n",
      "trnL_S1_L001_R1_001_sub.fastq\n",
      "trnL_sub_metadata.txt\n",
      "rstudio-workbench-2021.09.0-351.pro6-amd64.deb\n",
      "r-4.0.5_1_amd64.deb\n"
     ]
    }
   ],
   "source": [
    "%ls -t | head"
   ]
  },
  {
   "cell_type": "markdown",
   "metadata": {},
   "source": [
    "**Let's check how this data looks like?**"
   ]
  },
  {
   "cell_type": "code",
   "execution_count": 18,
   "metadata": {},
   "outputs": [
    {
     "name": "stdout",
     "output_type": "stream",
     "text": [
      ">MT950540.1 Euphorbia gaillardotii isolate 14066 tRNA-Thr (trnT) gene, partial sequence; trnT-trnL intergenic spacer and tRNA-Leu (trnL) gene, complete sequence; and trnL-trnF intergenic spacer, partial sequence; chloroplast\n",
      "ATCCTGTTTTCCGACAACAAAAAAAGTTCCATAAAGACAGAAAAAAAAGGATAGGTGCAGAGACTCAATGGAAGCTGTTCTAATAACTGAGGTTGACTGCGTTGCATTAGTAAAGTAAAGAAATCCTTCTGTCAAAACTCCAGAAAGGAGAAAGTAAAGGATAACCTATATATATACGTACTGAAATACTATCTCAAATGATTAATAGGGACCCGAATCCAGAATCCATATTTTTTTTTTATCTTTAATTTTTTTATCTTTCTATTTTTTCGATTTCTATATAGAAATAGAAAAAATTGTTTTCAATTGATTCCAAGTTGAGGAAAGGATTGAATATTAATTAATCAAACCATTCACTTCATAGTCTGATAGATAAATGACTAATCGGGCGAGAATAAAGATAGAGTCCCATTCTACCTGTCAATATCGACAACAAGGAAATTTATAGTAAGAGGAAAATCCGTCGACTTTAGAAATCGTGAGGGTTCAAGTCCCTCTATCCCCAAAAAAGGACGGCTCGGCTCCTTAATTCGTTTTATCCCATTCTCTCGTTTCGTTAACGGTTCAAATTTCGTTATGTTTCTCACTCATTCTATTCTTTTACAAACATATTTGGGCTGGATTTATTTTCCCAAATCTTGGGATAGATATGATACACCTATAAATGCCCATCTTTGGGCAAAACAACAAATTCCATTTCATTGGAAATTGAAATGATTAACAATCCAAATCATTATTCGAATTGAAAATTACGAAGTTCTTTTTTTTTTTTTAAAGATACAAAGCATTTGAGGTCTGGGTAAGACTTTCGAATATTTTTTCGTCTTTTTTGAATTGACATAGGCCCAAGTTTTTTACTAAAATTTAGTAAAATGAGGAAGACGACGCGGTTAAAATGGTCGGGATAGCTCAGTTG\n",
      ">MT950539.1 Euphorbia cassia isolate 13845 tRNA-Thr (trnT) gene, partial sequence; trnT-trnL intergenic spacer and tRNA-Leu (trnL) gene, complete sequence; and trnL-trnF intergenic spacer, partial sequence; chloroplast\n",
      "ATCCTGTTTTCCGACAACAAAAAAAGTTCCATAAAGACAGAAAAAAAAGGATAGGTGCAGAGACTCAATGGAAGCTGTTCTAATAACTGAGGTTGACTGCGTTGCATTAGTAAAGTAAAGAAATCCTTCTGTCAAAACTCCAGAAAGGAGAAAGTAAAGGATAACCTATATATATACGTACATATATACGTACTGAAATACTATCTCAAATGATTAATAGGGACCCGAATCCAGAATCCATATTTTTTTTTTATCTTTAATTTTTTTATCTTTCTATTTTTTCTATTTCTATATAGAAATAGAAAAAATTGTTTTCAATTGATTCCAAGTTGAGGAAAGGATTGAATATTAATTAATCAAACCATTCACTTCATAGTCTGATAGATAAATGACTAATCGGGCGAGAATAAAGATAGAGTCCCATTCTACCTGTCAATATCGACAACAAGGAAATTTATAGTAAGAGGAAAATCCGTCGACTTTAGAAATCGTGAGGGTTCAAGTCCCTCTATCCCCAAAAAAGGACGGCTCGGCTCCTTAATTCGTTTTATCCCATTCTCTTGTTTCGTTAACGGTTCAAATTTCGTTATGTTTCTCACTCATTCTATTCTTTTACAAACATATTTGGGCTGGATTTATTTTCCCAAATCTTGGGATAGATATGATACACCTATAAATGCCCATCTTTGGGCAAAACAACAAATTCCATTTCATTGGAAATTGAAATGATTAACAATCCAAATCATTATTCGAATTGAAAATTACGAAGTTCTTTTTTTTTTTTTTAAGATACAAAGCATTTGAGGTCTGGGTAAGACTTTCGAATATTTTTTCGTCTTTTTTGAATTGACATAGGCCCAAGTTTTTTACTAAAATTTAGTAAAATGAGGAAGACGACGCGGTTAAAGCGGTTAAAATGGTCGGGATAGCTCAGTTG\n"
     ]
    }
   ],
   "source": [
    "!head -n 4 target_trnL_cutted_references.fasta"
   ]
  },
  {
   "cell_type": "markdown",
   "metadata": {},
   "source": [
    "**How to select a single sequence?**"
   ]
  },
  {
   "cell_type": "code",
   "execution_count": 19,
   "metadata": {},
   "outputs": [
    {
     "name": "stdout",
     "output_type": "stream",
     "text": [
      ">MT950540.1 Euphorbia gaillardotii isolate 14066 tRNA-Thr (trnT) gene, partial sequence; trnT-trnL intergenic spacer and tRNA-Leu (trnL) gene, complete sequence; and trnL-trnF intergenic spacer, partial sequence; chloroplast\n",
      "GCTCGCATAACAGCAATTTTACATGCATAGGAATTTAATAAACTAATGGAATCTTGGCTATTAACTTTTT\n",
      "ACTTTTTATTCTTTTTCGTTATTCAGAATTACTTATAAATAACGAAAAAAAAGAAAAGGAATCGATCCTT\n",
      "CGAGTATTCAAAATTGCACGAGAAAAAATTAGAGTAAGAGAAGTAGATATAATAAATGTGTTCTATATAC\n",
      "ATCTATATTGAATTGCGGATAGAGAAATGATAGAATCCTTTCTGATTAGACTAAAGAAGGGTCTCTGCTA\n",
      "GAGATGAAAGAAGATAGCCAAGAAATAAAAAAGAAAGACTTTTTCTAGGAATCAGTATCTAATGACTTCA\n",
      "ACAGGTCCAGTAGAATAGAAATGAAAAAGGGGGATAATAATAAGATCTTAATCTCAAAGCAAAAAAGGGG\n",
      "ATATGGCGAAATTGGTAGACGCTACGGACTTAATTGGATTGAGCCTTGGTATGGAAACTTACTAAGTGAT\n",
      "AACTTTCAAATTCAGAGAAACCCTGGAATTAAAAATGGGCAATCCTGAGCCAAATCCTGTTTTCCGACAA\n",
      "CAAAAAAAGTTCCATAAAGACAGAAAAAAAAGGATAGGTGCAGAGACTCAATGGAAGCTGTTCTAATAAC\n",
      "TGAGGTTGACTGCGTTGCATTAGTAAAGTAAAGAAATCCTTCTGTCAAAACTCCAGAAAGGAGAAAGTAA\n",
      "AGGATAACCTATATATATACGTACTGAAATACTATCTCAAATGATTAATAGGGACCCGAATCCAGAATCC\n",
      "ATATTTTTTTTTTATCTTTAATTTTTTTATCTTTCTATTTTTTCGATTTCTATATAGAAATAGAAAAAAT\n",
      "TGTTTTCAATTGATTCCAAGTTGAGGAAAGGATTGAATATTAATTAATCAAACCATTCACTTCATAGTCT\n",
      "GATAGATAAATGACTAATCGGGCGAGAATAAAGATAGAGTCCCATTCTACCTGTCAATATCGACAACAAG\n",
      "GAAATTTATAGTAAGAGGAAAATCCGTCGACTTTAGAAATCGTGAGGGTTCAAGTCCCTCTATCCCCAAA\n",
      "AAAGGACGGCTCGGCTCCTTAATTCGTTTTATCCCATTCTCTCGTTTCGTTAACGGTTCAAATTTCGTTA\n",
      "TGTTTCTCACTCATTCTATTCTTTTACAAACATATTTGGGCTGGATTTATTTTCCCAAATCTTGGGATAG\n",
      "ATATGATACACCTATAAATGCCCATCTTTGGGCAAAACAACAAATTCCATTTCATTGGAAATTGAAATGA\n",
      "TTAACAATCCAAATCATTATTCGAATTGAAAATTACGAAGTTCTTTTTTTTTTTTTAAAGATACAAAGCA\n",
      "TTTGAGGTCTGGGTAAGACTTTCGAATATTTTTTCGTCTTTTTTGAATTGACATAGGCCCAAGTTTTTTA\n"
     ]
    }
   ],
   "source": [
    "!grep -A 20 \"MT950540.1\" Streptophyta_trnL_NCBI.fasta"
   ]
  },
  {
   "cell_type": "markdown",
   "metadata": {},
   "source": [
    "**Let's begin to format our sequences to properly create a local BLAST database**"
   ]
  },
  {
   "cell_type": "code",
   "execution_count": 20,
   "metadata": {},
   "outputs": [
    {
     "name": "stdout",
     "output_type": "stream",
     "text": [
      "##################################################\n",
      " \n",
      "Format and include taxonomic lineage in the NCBI reference fasta.\n",
      "This script edit the headers from the reference multifasta file,\n",
      "in order to build your local database to run BLAST.\n",
      "\n",
      "Usage: DB3_NCBI_lineage.sh [-r NCBI_references.fasta] [-p output_prefix]\n",
      "-r     references fasta file\n",
      "-p     prefix to output filenames (e.g ITS_NCBI)\n",
      "-h     Print this Help.\n",
      "\n",
      "This script needs the two embedded Perl scripts to run:\n",
      "NCBI_lineage_dups.pl and NCBI_lineage_edit.pl\n",
      "DO NOT EDIT THEM.\n",
      "Use srun or run_NCBI_lineage.slurm\n",
      "srun --ntasks=1 --mem-per-cpu=8G --time=02:00:00 --qos=devel --account=nn9813k --pty bash -i\n",
      "make sure that '--account=nn9813k' is your user project!\n",
      " \n",
      "##################################################\n"
     ]
    }
   ],
   "source": [
    "!bash DB3_NCBI_lineage.sh -h"
   ]
  },
  {
   "cell_type": "code",
   "execution_count": 21,
   "metadata": {
    "collapsed": true,
    "jupyter": {
     "outputs_hidden": true
    },
    "tags": []
   },
   "outputs": [
    {
     "name": "stdout",
     "output_type": "stream",
     "text": [
      "ATTENTION: original NCBI reference sequences:\n",
      ">LC384553.1 Scutellaria orientalis genes for 18S rRNA and ITS1...\n",
      "TGAACCATCGAGTCTTTGAACGCAAGTTGCGCCCGAACCCATCAGGCCGAGGGCAC...\n",
      "Presenting the accession.version, a white-space and the complete\n",
      "description [TI esearch field]\n",
      " \n",
      "FILES CHECK UP:\n",
      "nucl_gb.accession2taxid.gz ... OK\n",
      "taxdb ... OK\n",
      "taxonkit NOT FOUND.\n",
      "NCBI_lineage_edit.pl and NCBI_lineage_dups.pl ... OK\n",
      "Output filename: target_trnL.uniq.fasta\n",
      "References file: target_trnL_cutted_references.fasta\n",
      "extracting accession code from NCBI references...\n",
      "25609 ./tmp.KbNnzjbbE3 accession codes extracted:\n",
      "MT950540.1\n",
      "MT950539.1\n",
      "MT950538.1\n",
      "...\n",
      "Parsing accession to taxid...\n",
      "Parsing accession/taxid to lineage...\n",
      "removing NCBI sequences header, linearizing sequences...\n",
      "joining edited lineage file with linearized sequences...\n",
      "removing sequence duplicates...\n"
     ]
    },
    {
     "name": "stderr",
     "output_type": "stream",
     "text": [
      "23:56:42.884 \u001b[33m[WARN]\u001b[0m taxid 2769409 was deleted\n",
      "23:56:42.884 \u001b[33m[WARN]\u001b[0m taxid 2769409 was deleted\n",
      "23:56:42.887 \u001b[33m[WARN]\u001b[0m taxid 2896462 was deleted\n",
      "23:56:42.889 \u001b[33m[WARN]\u001b[0m taxid 2896453 was deleted\n",
      "23:56:42.890 \u001b[33m[WARN]\u001b[0m taxid 2896453 was deleted\n",
      "23:56:42.890 \u001b[33m[WARN]\u001b[0m taxid 2896453 was deleted\n",
      "23:56:42.890 \u001b[33m[WARN]\u001b[0m taxid 2896453 was deleted\n",
      "23:56:42.890 \u001b[33m[WARN]\u001b[0m taxid 2896453 was deleted\n",
      "23:56:42.890 \u001b[33m[WARN]\u001b[0m taxid 2896453 was deleted\n",
      "23:56:42.890 \u001b[33m[WARN]\u001b[0m taxid 2896453 was deleted\n",
      "23:56:42.890 \u001b[33m[WARN]\u001b[0m taxid 2896453 was deleted\n",
      "23:56:42.890 \u001b[33m[WARN]\u001b[0m taxid 2896453 was deleted\n",
      "23:56:42.890 \u001b[33m[WARN]\u001b[0m taxid 2896453 was deleted\n",
      "23:56:42.890 \u001b[33m[WARN]\u001b[0m taxid 2896453 was deleted\n",
      "23:56:42.890 \u001b[33m[WARN]\u001b[0m taxid 2896453 was deleted\n",
      "23:56:42.890 \u001b[33m[WARN]\u001b[0m taxid 2896453 was deleted\n",
      "23:56:54.312 \u001b[33m[WARN]\u001b[0m taxid 2769409 was deleted\n",
      "23:56:54.312 \u001b[33m[WARN]\u001b[0m taxid 2769409 was deleted\n",
      "23:56:54.336 \u001b[33m[WARN]\u001b[0m taxid 2896462 was deleted\n",
      "23:56:54.336 \u001b[33m[WARN]\u001b[0m taxid 2896453 was deleted\n",
      "23:56:54.336 \u001b[33m[WARN]\u001b[0m taxid 2896453 was deleted\n",
      "23:56:54.336 \u001b[33m[WARN]\u001b[0m taxid 2896453 was deleted\n",
      "23:56:54.336 \u001b[33m[WARN]\u001b[0m taxid 2896453 was deleted\n",
      "23:56:54.337 \u001b[33m[WARN]\u001b[0m taxid 2896453 was deleted\n",
      "23:56:54.337 \u001b[33m[WARN]\u001b[0m taxid 2896453 was deleted\n",
      "23:56:54.337 \u001b[33m[WARN]\u001b[0m taxid 2896453 was deleted\n",
      "23:56:54.337 \u001b[33m[WARN]\u001b[0m taxid 2896453 was deleted\n",
      "23:56:54.337 \u001b[33m[WARN]\u001b[0m taxid 2896453 was deleted\n",
      "23:56:54.337 \u001b[33m[WARN]\u001b[0m taxid 2896453 was deleted\n",
      "23:56:54.337 \u001b[33m[WARN]\u001b[0m taxid 2896453 was deleted\n",
      "23:56:54.337 \u001b[33m[WARN]\u001b[0m taxid 2896453 was deleted\n",
      "23:56:54.337 \u001b[33m[WARN]\u001b[0m taxid 2896453 was deleted\n"
     ]
    }
   ],
   "source": [
    "%%bash\n",
    "./DB3_NCBI_lineage.sh -r target_trnL_cutted_references.fasta -p target_trnL"
   ]
  },
  {
   "cell_type": "markdown",
   "metadata": {},
   "source": [
    "**Let's see how it went**"
   ]
  },
  {
   "cell_type": "code",
   "execution_count": 22,
   "metadata": {},
   "outputs": [
    {
     "name": "stdout",
     "output_type": "stream",
     "text": [
      "Parsing accession/taxid to lineage...\n",
      "removing NCBI sequences header, linearizing sequences...\n",
      "joining edited lineage file with linearized sequences...\n",
      "removing sequence duplicates...\n",
      "Total number of original NCBI downloaded sequences: 25609\n",
      "Total of accession codes extracted: 25609 ./tmp.KbNnzjbbE3\n",
      "Total accession + taxid joined: 25609 ./tmp.ysowKvDF0o\n",
      "Total lineage headers formatted: 25608 ./tmp.sIJEI0BQGy\n",
      "25608 sequences with lineage headers were succesfully formatted.\n",
      "A total of 10249 duplicates were removed, remaining 15359 final sequences.\n"
     ]
    }
   ],
   "source": [
    "!tail target_trnL.log"
   ]
  },
  {
   "cell_type": "code",
   "execution_count": 27,
   "metadata": {},
   "outputs": [
    {
     "name": "stdout",
     "output_type": "stream",
     "text": [
      ">AB353416.1 Eukaryota|Streptophyta|Magnoliopsida|Poales|Poaceae|Echinochloa|Echinochloa+crus-galli\n",
      "ATCCCTTTTTTGAAAAAACAAGTGGTTCTCAAACTAGAACCCAAAAGAAAAGGATAGGTG\n",
      "CAGAGACTCAATGGAAGTTGTTCTAACGAATCGAAGTAATTACGTTGTGTTGGTAGTGGA\n",
      "ACTCCCTCGAAATTAGAGAAAGAAGGGCTTTATACATATAATACACACGTATAGATACTG\n",
      "ACATAGCAAACGATTAATCACGGAACCCATATCATAATATAGGTTCTTTATTTGATTTTT\n",
      "TTTAGAATGAAATTTGGAATGATTATGAAATAGAAAATTCTGAATTTTTTTAGAATTATT\n",
      "GTGAATCCATTCCAATCGAATATTGAGTAATCAAATCCTTCAATTCATTGTTTTCGAGAT\n",
      "CTTTACTTTTAAAAAGTGGATTAATCGAACGAGGATAAAGAGAGAGTCCCATTCTACATG\n",
      "TCAATACTGACAACAATGAAATT\n",
      ">AB353418.1 Eukaryota|Streptophyta|Magnoliopsida|Poales|Poaceae|Echinochloa|Echinochloa+colona\n"
     ]
    }
   ],
   "source": [
    "!head target_trnL.uniq.fasta"
   ]
  },
  {
   "cell_type": "code",
   "execution_count": 28,
   "metadata": {},
   "outputs": [
    {
     "name": "stdout",
     "output_type": "stream",
     "text": [
      "\u001b[0m\u001b[01;32m1_merge_pear.sh\u001b[0m*\n",
      "\u001b[01;32m2a_preparing_tags_LCPI.pl\u001b[0m*\n",
      "\u001b[01;32m2b_demulti_dual_index_linked.sh\u001b[0m*\n",
      "\u001b[01;32m3_tag_primer_clipping_clean_derep.sh\u001b[0m*\n",
      "\u001b[01;32m4_clustering_swarm_with_chim_filter.sh\u001b[0m*\n",
      "\u001b[01;32m5_BLAST_options.sh\u001b[0m*\n",
      "\u001b[01;32m6a_OTU_contingency_table.py\u001b[0m*\n",
      "\u001b[01;32m6a_build_OTU_table.sh\u001b[0m*\n",
      "\u001b[01;32m6b_filter_OTU_table.sh\u001b[0m*\n",
      "\u001b[01;32mDB1_NCBI_download_refs.sh\u001b[0m*\n"
     ]
    }
   ],
   "source": [
    "%ls | head"
   ]
  },
  {
   "cell_type": "markdown",
   "metadata": {},
   "source": [
    "**Now we will start to work if our sequencing data. First we will merge read pairs with PEAR. Let's check how it is used?**"
   ]
  },
  {
   "cell_type": "code",
   "execution_count": 29,
   "metadata": {},
   "outputs": [
    {
     "name": "stdout",
     "output_type": "stream",
     "text": [
      "##################################################\n",
      " \n",
      "Merging of paired end fastq files from Illumina sequencing using Pear.\n",
      " \n",
      "Usage: 1_merge_pear.sh [-f R1.fq] [-r R2.fq] [-o output] [-p 0.001] [-s 20] [-t 4]\n",
      "-f     R1.fastq original file\n",
      "-r     R2.fastq original file\n",
      "-o     output name for the assembled fastq file\n",
      "-p     p-value: statistical test for true assembly. Lower p-value means less possibility of overlapping by chance. Options are: 0.0001, 0.001, 0.01, 0.05 and 1.0\n",
      "-s     minimum overlap size.\n",
      "-t     threads\n",
      "-h     print this help\n",
      " \n",
      "##################################################\n"
     ]
    }
   ],
   "source": [
    "!bash 1_merge_pear.sh -h"
   ]
  },
  {
   "cell_type": "markdown",
   "metadata": {},
   "source": [
    "**Now we run it**"
   ]
  },
  {
   "cell_type": "code",
   "execution_count": 70,
   "metadata": {
    "collapsed": true,
    "jupyter": {
     "outputs_hidden": true
    },
    "tags": []
   },
   "outputs": [
    {
     "name": "stdout",
     "output_type": "stream",
     "text": [
      " ____  _____    _    ____ \n",
      "|  _ \\| ____|  / \\  |  _ \\\n",
      "| |_) |  _|   / _ \\ | |_) |\n",
      "|  __/| |___ / ___ \\|  _ <\n",
      "|_|   |_____/_/   \\_\\_| \\_\\\n",
      "\n",
      "PEAR v0.9.6 [January 15, 2015]\n",
      "\n",
      "Citation - PEAR: a fast and accurate Illumina Paired-End reAd mergeR\n",
      "Zhang et al (2014) Bioinformatics 30(5): 614-620 | doi:10.1093/bioinformatics/btt593\n",
      "\n",
      "Forward reads file.................: trnL_S1_L001_R1_001_sub.fastq\n",
      "Reverse reads file.................: trnL_S1_L001_R2_001_sub.fastq\n",
      "PHRED..............................: 33\n",
      "Using empirical frequencies........: YES\n",
      "Statistical method.................: OES\n",
      "Maximum assembly length............: 999999\n",
      "Minimum assembly length............: 50\n",
      "p-value............................: 0.001000\n",
      "Quality score threshold (trimming).: 20\n",
      "Minimum read size after trimming...: 1\n",
      "Maximal ratio of uncalled bases....: 0.000000\n",
      "Minimum overlap....................: 20\n",
      "Scoring method.....................: Scaled score\n",
      "Threads............................: 4\n",
      "\n",
      "Allocating memory..................: 200,000,000 bytes\n",
      "Computing empirical frequencies....: DONE\n",
      "  A: 0.301215\n",
      "  C: 0.200407\n",
      "  G: 0.221132\n",
      "  T: 0.277245\n",
      "  0 uncalled bases\n",
      "Assemblying reads: 100%\n",
      "\n",
      "Assembled reads ...................: 995 / 1,000 (99.500%)\n",
      "Discarded reads ...................: 5 / 1,000 (0.500%)\n",
      "Not assembled reads ...............: 0 / 1,000 (0.000%)\n",
      "Assembled reads file...............: trnL_sub.assembled.fastq\n",
      "Discarded reads file...............: trnL_sub.discarded.fastq\n",
      "Unassembled forward reads file.....: trnL_sub.unassembled.forward.fastq\n",
      "Unassembled reverse reads file.....: trnL_sub.unassembled.reverse.fastq\n"
     ]
    }
   ],
   "source": [
    "%%bash\n",
    "# aqui ajeitei o nome para o novo nome com \"_sub\"\n",
    "./1_merge_pear.sh \\\n",
    "    -f trnL_S1_L001_R1_001_sub.fastq \\\n",
    "    -r trnL_S1_L001_R2_001_sub.fastq \\\n",
    "    -o trnL_sub \\\n",
    "    -p 0.001 \\\n",
    "    -s 20 \\\n",
    "    -t 4"
   ]
  },
  {
   "cell_type": "code",
   "execution_count": 71,
   "metadata": {},
   "outputs": [
    {
     "name": "stdout",
     "output_type": "stream",
     "text": [
      "total 2554660\n",
      "drwxr-xr-x  8 jupyter jupyter       4096 Dec 10 00:43 \u001b[0m\u001b[01;34m.git\u001b[0m/\n",
      "drwxr-xr-x  7 jupyter jupyter       4096 Dec 10 00:43 \u001b[01;34m.\u001b[0m/\n",
      "-rw-r--r--  1 jupyter jupyter     117094 Dec 10 00:43 metapipe-run.ipynb\n",
      "-rw-r--r--  1 jupyter jupyter     314854 Dec 10 00:43 trnL_sub.assembled.fastq\n",
      "-rw-r--r--  1 jupyter jupyter       1084 Dec 10 00:43 trnL_sub.discarded.fastq\n",
      "-rw-r--r--  1 jupyter jupyter          0 Dec 10 00:43 trnL_sub.unassembled.forward.fastq\n",
      "-rw-r--r--  1 jupyter jupyter          0 Dec 10 00:43 trnL_sub.unassembled.reverse.fastq\n",
      "drwxr-xr-x  2 jupyter jupyter       4096 Dec 10 00:38 \u001b[01;34mdereplicated\u001b[0m/\n",
      "-rw-r--r--  1 jupyter jupyter      14018 Dec 10 00:38 trnL_sub.qual\n"
     ]
    }
   ],
   "source": [
    "%ls -lat | head"
   ]
  },
  {
   "cell_type": "markdown",
   "metadata": {},
   "source": [
    "**Let's check how this data looks like and the tags for each family\"**"
   ]
  },
  {
   "cell_type": "code",
   "execution_count": 72,
   "metadata": {},
   "outputs": [
    {
     "name": "stdout",
     "output_type": "stream",
     "text": [
      "@M02980:420:000000000-G84WN:1:2101:3414:10035 1:N:0:GTCTACAC+GCCAAGGT\n",
      "TGTTGCGTTTCTGGGCAATCCTGAGCCAAATCCTGTTTTATTAAAACAAACAAGGGTTTCATAAACCGAGAATAAAAAAGGATAGGTGCAGAGACTCAATGGGGGCATCTTACG\n",
      "+\n",
      "IIIIIIIIIIIIII4IIIIIIIIIIIIIIIIIIIIIIIIIIIIIIIIIIIIIIIIIIIIIIIIIIIIIIIIIIIIIIIIIIIIIFIIIIIIIIIIIFIIIIIIIICIIIIIIII\n",
      "@M02980:420:000000000-G84WN:1:1102:14365:7465 1:N:0:GTCTACAC+GCCAAGGT\n",
      "ATCTAGTGGCAAGGGCAATCCTGAGCCAAATCCTCTTCTCTTTTCCAAGAACAAACAGGGGTTCAGAAAGCGAAAAAGGGGGATAGGTGCAGAGACTCAATGGAGAAACGCAACA\n",
      "+\n",
      "IIIIIIIIIIIIIIIIIIIIIIIIIIIIIIIIIIIIIIIIIIIIIIIIIIIIIIIIIIIIIIIIIIIIIIIIIIIIIIIIIIIIIIIIIIIIIIIIIIIIIIIIIIIIIIIIIII\n",
      "@M02980:420:000000000-G84WN:1:1102:11364:2621 1:N:0:GTCTACAC+GCCAAGGT\n",
      "ATAGTTAGGGCTGGGCAATCCTGAGCCAAATCCTGTTTTCAGAAAACAAGGGTTCAGAAAGCGAGAACCAAAAAAAGGATAGGATAGGTGCAGAGACTCAATGGCACCCTTAAAGT\n"
     ]
    }
   ],
   "source": [
    "!head trnL_sub.assembled.fastq"
   ]
  },
  {
   "cell_type": "markdown",
   "metadata": {},
   "source": [
    "**Since we will read tabular files multiple times in the notebook, let's create a function that loads the tabular file, with or without header**"
   ]
  },
  {
   "cell_type": "code",
   "execution_count": 32,
   "metadata": {},
   "outputs": [],
   "source": [
    "def get_glimpse_head(in_file, n_lines=10, file_header=True, file_sep='\\t'):\n",
    "    import pandas as pd\n",
    "    \n",
    "    # read file\n",
    "    if file_header == False:\n",
    "        df = pd.read_csv(in_file, sep=file_sep, header=None).head(n_lines)\n",
    "    else:\n",
    "        df = pd.read_csv(in_file, sep=file_sep).head(n_lines)\n",
    "    \n",
    "    # return table\n",
    "    return df\n",
    "\n",
    "def get_glimpse_tail(in_file, n_lines=10, file_header=True, file_sep='\\t'):\n",
    "    import pandas as pd\n",
    "    \n",
    "    # read file\n",
    "    if file_header == False:\n",
    "        df = pd.read_csv(in_file, sep=file_sep, header=None).tail(n_lines)\n",
    "    else:\n",
    "        df = pd.read_csv(in_file, sep=file_sep).tail(n_lines)\n",
    "    \n",
    "    # return table\n",
    "    return df"
   ]
  },
  {
   "cell_type": "code",
   "execution_count": 25,
   "metadata": {},
   "outputs": [
    {
     "data": {
      "text/html": [
       "<div>\n",
       "<style scoped>\n",
       "    .dataframe tbody tr th:only-of-type {\n",
       "        vertical-align: middle;\n",
       "    }\n",
       "\n",
       "    .dataframe tbody tr th {\n",
       "        vertical-align: top;\n",
       "    }\n",
       "\n",
       "    .dataframe thead th {\n",
       "        text-align: right;\n",
       "    }\n",
       "</style>\n",
       "<table border=\"1\" class=\"dataframe\">\n",
       "  <thead>\n",
       "    <tr style=\"text-align: right;\">\n",
       "      <th></th>\n",
       "      <th>0</th>\n",
       "      <th>1</th>\n",
       "      <th>2</th>\n",
       "    </tr>\n",
       "  </thead>\n",
       "  <tbody>\n",
       "    <tr>\n",
       "      <th>24</th>\n",
       "      <td>Peoniasuffruticosa_a</td>\n",
       "      <td>CCATCACATAGG</td>\n",
       "      <td>TGCAGATCCAAC</td>\n",
       "    </tr>\n",
       "    <tr>\n",
       "      <th>25</th>\n",
       "      <td>Peoniasuffruticosa_b</td>\n",
       "      <td>GTGGTATGGGAG</td>\n",
       "      <td>TGCAGATCCAAC</td>\n",
       "    </tr>\n",
       "    <tr>\n",
       "      <th>26</th>\n",
       "      <td>Poriacocos_a</td>\n",
       "      <td>ATAGTTAGGGCT</td>\n",
       "      <td>CCTAAACTACGG</td>\n",
       "    </tr>\n",
       "    <tr>\n",
       "      <th>27</th>\n",
       "      <td>Poriacocos_b</td>\n",
       "      <td>GCACTTCATTTC</td>\n",
       "      <td>CCTAAACTACGG</td>\n",
       "    </tr>\n",
       "    <tr>\n",
       "      <th>28</th>\n",
       "      <td>Prunuspersica_a</td>\n",
       "      <td>ATGTCCGACCAA</td>\n",
       "      <td>TGCAGATCCAAC</td>\n",
       "    </tr>\n",
       "    <tr>\n",
       "      <th>29</th>\n",
       "      <td>Prunuspersica_b</td>\n",
       "      <td>ATCTAGTGGCAA</td>\n",
       "      <td>CCATCACATAGG</td>\n",
       "    </tr>\n",
       "    <tr>\n",
       "      <th>30</th>\n",
       "      <td>Trogopterusxanthipes_a</td>\n",
       "      <td>ATAGTTAGGGCT</td>\n",
       "      <td>TGTTGCGTTTCT</td>\n",
       "    </tr>\n",
       "    <tr>\n",
       "      <th>31</th>\n",
       "      <td>Trogopterusxanthipes_b</td>\n",
       "      <td>ACTTTAAGGGTG</td>\n",
       "      <td>CACCTTACCTTA</td>\n",
       "    </tr>\n",
       "    <tr>\n",
       "      <th>32</th>\n",
       "      <td>Negative</td>\n",
       "      <td>TGTTGCGTTTCT</td>\n",
       "      <td>GAGACTATATGC</td>\n",
       "    </tr>\n",
       "    <tr>\n",
       "      <th>33</th>\n",
       "      <td>NegativePCR</td>\n",
       "      <td>ATGTCCGACCAA</td>\n",
       "      <td>GAGACTATATGC</td>\n",
       "    </tr>\n",
       "  </tbody>\n",
       "</table>\n",
       "</div>"
      ],
      "text/plain": [
       "                         0             1             2\n",
       "24    Peoniasuffruticosa_a  CCATCACATAGG  TGCAGATCCAAC\n",
       "25    Peoniasuffruticosa_b  GTGGTATGGGAG  TGCAGATCCAAC\n",
       "26            Poriacocos_a  ATAGTTAGGGCT  CCTAAACTACGG\n",
       "27            Poriacocos_b  GCACTTCATTTC  CCTAAACTACGG\n",
       "28         Prunuspersica_a  ATGTCCGACCAA  TGCAGATCCAAC\n",
       "29         Prunuspersica_b  ATCTAGTGGCAA  CCATCACATAGG\n",
       "30  Trogopterusxanthipes_a  ATAGTTAGGGCT  TGTTGCGTTTCT\n",
       "31  Trogopterusxanthipes_b  ACTTTAAGGGTG  CACCTTACCTTA\n",
       "32                Negative  TGTTGCGTTTCT  GAGACTATATGC\n",
       "33             NegativePCR  ATGTCCGACCAA  GAGACTATATGC"
      ]
     },
     "execution_count": 25,
     "metadata": {},
     "output_type": "execute_result"
    }
   ],
   "source": [
    "get_glimpse_tail('trnL_sub_tags.txt', file_header=False)"
   ]
  },
  {
   "cell_type": "markdown",
   "metadata": {},
   "source": [
    "**Now let's prepare the barcode files**"
   ]
  },
  {
   "cell_type": "code",
   "execution_count": 74,
   "metadata": {},
   "outputs": [],
   "source": [
    "%%bash \n",
    "perl 2a_preparing_tags_LCPI.pl trnL_sub_tags.txt linked"
   ]
  },
  {
   "cell_type": "code",
   "execution_count": 75,
   "metadata": {},
   "outputs": [
    {
     "name": "stdout",
     "output_type": "stream",
     "text": [
      "total 2554664\n",
      "-rw-r--r--  1 jupyter jupyter       3306 Dec 10 00:43 Barcodes_LA1.fa\n",
      "-rw-r--r--  1 jupyter jupyter       3306 Dec 10 00:43 Barcodes_LA2.fa\n",
      "-rw-r--r--  1 jupyter jupyter       3306 Dec 10 00:43 Barcodes_LA3.fa\n",
      "drwxr-xr-x  8 jupyter jupyter       4096 Dec 10 00:43 \u001b[0m\u001b[01;34m.git\u001b[0m/\n",
      "drwxr-xr-x  7 jupyter jupyter       4096 Dec 10 00:43 \u001b[01;34m.\u001b[0m/\n",
      "-rw-r--r--  1 jupyter jupyter     119338 Dec 10 00:43 metapipe-run.ipynb\n",
      "-rw-r--r--  1 jupyter jupyter     314854 Dec 10 00:43 trnL_sub.assembled.fastq\n",
      "-rw-r--r--  1 jupyter jupyter       1084 Dec 10 00:43 trnL_sub.discarded.fastq\n",
      "-rw-r--r--  1 jupyter jupyter          0 Dec 10 00:43 trnL_sub.unassembled.forward.fastq\n"
     ]
    }
   ],
   "source": [
    "%ls -lat | head"
   ]
  },
  {
   "cell_type": "code",
   "execution_count": 47,
   "metadata": {},
   "outputs": [
    {
     "name": "stdout",
     "output_type": "stream",
     "text": [
      ">Prunuspersica_b\n",
      "^ATCTAGTGGCAA...CCATCACATAGG$\n",
      ">Trogopterusxanthipes_a\n",
      "^ATAGTTAGGGCT...TGTTGCGTTTCT$\n",
      ">Trogopterusxanthipes_b\n",
      "^ACTTTAAGGGTG...CACCTTACCTTA$\n",
      ">Negative\n",
      "^TGTTGCGTTTCT...GAGACTATATGC$\n",
      ">NegativePCR\n",
      "^ATGTCCGACCAA...GAGACTATATGC$\n"
     ]
    }
   ],
   "source": [
    "!tail Barcodes_LA1.fa"
   ]
  },
  {
   "cell_type": "markdown",
   "metadata": {},
   "source": [
    "**Now we are able to demultiplex our data based on the barcodes**"
   ]
  },
  {
   "cell_type": "code",
   "execution_count": 78,
   "metadata": {},
   "outputs": [
    {
     "name": "stdout",
     "output_type": "stream",
     "text": [
      "./Glycyrrhizauralensis_a_LA.fq\n",
      "./Linderaaggregata_a_LA.fq\n",
      "./Glycyrrhizauralensis_b_LA.fq\n",
      "./GXZYT_b_LA.fq\n",
      "./Ligusticumchuanxiong_a_LA.fq\n",
      "./Linderaaggregata_b_LA.fq\n",
      "./Peoniasuffruticosa_b_LA.fq\n"
     ]
    }
   ],
   "source": [
    "%%bash\n",
    "./2b_demulti_dual_index_linked.sh trnL_sub.assembled.fastq"
   ]
  },
  {
   "cell_type": "markdown",
   "metadata": {},
   "source": [
    "**Let's check how the results are organised and what do they look like**"
   ]
  },
  {
   "cell_type": "code",
   "execution_count": 53,
   "metadata": {},
   "outputs": [
    {
     "name": "stdout",
     "output_type": "stream",
     "text": [
      "total 2554320\n",
      "drwxr-xr-x  8 jupyter jupyter       4096 Dec 10 00:18 \u001b[0m\u001b[01;34m.git\u001b[0m/\n",
      "drwxr-xr-x  5 jupyter jupyter       4096 Dec 10 00:18 \u001b[01;34m.\u001b[0m/\n",
      "-rw-r--r--  1 jupyter jupyter     118650 Dec 10 00:18 metapipe-run.ipynb\n",
      "drwxr-xr-x  2 jupyter jupyter       4096 Dec 10 00:18 \u001b[01;34mdemulti_linked_samples\u001b[0m/\n",
      "-rw-r--r--  1 jupyter jupyter       1653 Dec 10 00:16 Barcodes_LA1.fa\n",
      "-rw-r--r--  1 jupyter jupyter       1653 Dec 10 00:16 Barcodes_LA2.fa\n",
      "-rw-r--r--  1 jupyter jupyter       1653 Dec 10 00:16 Barcodes_LA3.fa\n",
      "-rw-r--r--  1 jupyter jupyter     314854 Dec 10 00:15 trnL.assembled.fastq\n",
      "-rw-r--r--  1 jupyter jupyter       1084 Dec 10 00:15 trnL.discarded.fastq\n"
     ]
    }
   ],
   "source": [
    "%ls -lat | head"
   ]
  },
  {
   "cell_type": "code",
   "execution_count": 54,
   "metadata": {},
   "outputs": [
    {
     "name": "stdout",
     "output_type": "stream",
     "text": [
      "Angelicaesinensis_a_LA.fq\n",
      "Angelicaesinensis_b_LA.fq\n",
      "Carthamustinctorius_a_LA.fq\n",
      "Carthamustinctorius_b_LA.fq\n",
      "Citrusaurantium_a_LA.fq\n",
      "Citrusaurantium_b_LA.fq\n",
      "Cyperusrotundus_a_LA.fq\n",
      "Cyperusrotundus_b_LA.fq\n",
      "GXZYT_a_LA.fq\n",
      "GZFLW_a_LA.fq\n"
     ]
    }
   ],
   "source": [
    "%ls demulti_linked_samples/ | head"
   ]
  },
  {
   "cell_type": "code",
   "execution_count": 79,
   "metadata": {},
   "outputs": [
    {
     "name": "stdout",
     "output_type": "stream",
     "text": [
      "@M02980:420:000000000-G84WN:1:2101:18903:19935 1:N:0:GTCTACAC+GCCAAGGT\n",
      "caccttaccttaGGGCAATCCTGAGCCAAATTTTATTTTCCAAAAAAAAACAAAGGCCCAGAAGGTGAAAAAAGGATAGGTGCAGAGACTCAATGGcctatgtgatgg\n",
      "+\n",
      "IAIIIIFIIIIIIIIIIIIIIIIIIIIIIIIIIIIIIIII?IIIIICIIIBIIII?III?IIIIIIIIIIIIIIIIIIIIIIIIIIIIIIIIIIIIIIIIAIIIIIII\n",
      "@M02980:420:000000000-G84WN:1:2103:29142:12753 1:N:0:GTCTACAC+GCCAAGGT\n",
      "caccttaccttaGGGCAATCCTGAGCCAAATCTTATTTTCCAAAAACAAACAAAGGCCCAGAAGGTGAAAAAAGGATAGGTGCAGAGACTCAATGGcctatgtgatgg\n",
      "+\n",
      "IIIIIIIIIIIIIIIIIIIIIIIIIIIIIIIIIIIIIIIIIIIIIIIIIIIIIIIIIIIIIIIIIIIIIIIIIIIIIIIIIIIIIIIIIIIIIIIIIIIIIIIIIIII\n",
      "@M02980:420:000000000-G84WN:1:1101:10374:13201 1:N:0:GTCTACAC+GCCAAGGT\n",
      "caccttaccttaGGGCAATCCTGAGCCAAATCCTATTTTCCAAAAACAAACAAAGGCCCAGAAGGTGAAAAAAGGATAGGTGCAGAGACTCAATGGcctatgtgatgg\n"
     ]
    }
   ],
   "source": [
    "!head demulti_linked_samples/Angelicaesinensis_a_LA.fq"
   ]
  },
  {
   "cell_type": "markdown",
   "metadata": {},
   "source": [
    "**Now let's count the amount of data available for each barcode**"
   ]
  },
  {
   "cell_type": "code",
   "execution_count": 80,
   "metadata": {},
   "outputs": [],
   "source": [
    "%%bash\n",
    "./count_fastq_sequences.sh demulti_linked_samples/*.fq > demulti_count_trnL.txt"
   ]
  },
  {
   "cell_type": "code",
   "execution_count": 28,
   "metadata": {},
   "outputs": [
    {
     "name": "stdout",
     "output_type": "stream",
     "text": [
      "\tdemulti_linked_samples/Angelicaesinensis_a_LA.fq : 9\n",
      "\tdemulti_linked_samples/Angelicaesinensis_b_LA.fq : 8\n",
      "\tdemulti_linked_samples/Carthamustinctorius_a_LA.fq : 7\n",
      "\tdemulti_linked_samples/Carthamustinctorius_b_LA.fq : 2\n",
      "\tdemulti_linked_samples/Citrusaurantium_a_LA.fq : 1\n",
      "\tdemulti_linked_samples/Citrusaurantium_b_LA.fq : 13\n",
      "\tdemulti_linked_samples/Cyperusrotundus_a_LA.fq : 7\n",
      "\tdemulti_linked_samples/Cyperusrotundus_b_LA.fq : 2\n",
      "\tdemulti_linked_samples/GXZYT_a_LA.fq : 10\n",
      "\tdemulti_linked_samples/GZFLW_a_LA.fq : 15\n"
     ]
    }
   ],
   "source": [
    "!head demulti_count_trnL.txt"
   ]
  },
  {
   "cell_type": "markdown",
   "metadata": {},
   "source": [
    "**Now we must clip the primers from our sequences**"
   ]
  },
  {
   "cell_type": "code",
   "execution_count": 57,
   "metadata": {},
   "outputs": [
    {
     "name": "stdout",
     "output_type": "stream",
     "text": [
      "##################################################\n",
      "TAGS AND PRIMERS CLIPPING\n",
      "##################################################\n",
      "get your primer's reverse complement in this website:\n",
      "http://arep.med.harvard.edu/labgc/adnan/projects/Utilities/revcomp.html\n",
      " \n",
      "Usage: 3_tag_primer_clipping_clean_derep.sh [-b tags file] [-F primer forwad] [-R primer reverse] [-f primer forward] [-r primer reverse] [-p prefix] [-l amplicon min length] [-d path to samples]\n",
      "-b     original barcodes/tags file\n",
      "-F     primer forward\n",
      "-R     primer reverse\n",
      "-f     reverse complement primer forward\n",
      "-r     everse complement primer reverse\n",
      "-p     prefix to quality file\n",
      "-l     minimum length for clipped amplicon\n",
      "-d     path to demultiplexed samples directory. Use pwd.\n",
      "-h     print this help\n",
      " \n",
      "##################################################\n"
     ]
    }
   ],
   "source": [
    "!bash 3_tag_primer_clipping_clean_derep.sh -h"
   ]
  },
  {
   "cell_type": "code",
   "execution_count": 81,
   "metadata": {},
   "outputs": [],
   "source": [
    "%%bash\n",
    "./3_tag_primer_clipping_clean_derep.sh \\\n",
    "    -b trnL_sub_tags.txt \\\n",
    "    -F GGGCAATCCTGAGCCAA \\\n",
    "    -R CCATTGAGTCTCTGCACCTATC \\\n",
    "    -f TTGGCTCAGGATTGCCC \\\n",
    "    -r GATAGGTGCAGAGACTCAATGG \\\n",
    "    -p trnL_sub \\\n",
    "    -l 30 \\\n",
    "    -d /home/jupyter/METAPIPE_Workshop2021/demulti_linked_samples"
   ]
  },
  {
   "cell_type": "markdown",
   "metadata": {},
   "source": [
    "**How are the results?**"
   ]
  },
  {
   "cell_type": "code",
   "execution_count": 67,
   "metadata": {},
   "outputs": [
    {
     "name": "stdout",
     "output_type": "stream",
     "text": [
      "total 2554352\n",
      "drwxr-xr-x  8 jupyter jupyter       4096 Dec 10 00:39 \u001b[0m\u001b[01;34m.git\u001b[0m/\n",
      "drwxr-xr-x  7 jupyter jupyter       4096 Dec 10 00:39 \u001b[01;34m.\u001b[0m/\n",
      "-rw-r--r--  1 jupyter jupyter     119173 Dec 10 00:39 metapipe-run.ipynb\n",
      "drwxr-xr-x  2 jupyter jupyter       4096 Dec 10 00:38 \u001b[01;34mdereplicated\u001b[0m/\n",
      "-rw-r--r--  1 jupyter jupyter      14018 Dec 10 00:38 trnL_sub.qual\n",
      "-rwxrwxrwx  1 jupyter jupyter       3906 Dec 10 00:38 \u001b[01;32m3_tag_primer_clipping_clean_derep.sh\u001b[0m*\n",
      "drwxr-xr-x  2 jupyter jupyter       4096 Dec 10 00:38 \u001b[01;34m.ipynb_checkpoints\u001b[0m/\n",
      "drwxr-xr-x  5 jupyter jupyter       4096 Dec 10 00:34 \u001b[01;34mclip_out\u001b[0m/\n",
      "-rw-r--r--  1 jupyter jupyter       1431 Dec 10 00:19 demulti_count_trnL.txt\n"
     ]
    }
   ],
   "source": [
    "%ls -lat | head"
   ]
  },
  {
   "cell_type": "code",
   "execution_count": 68,
   "metadata": {},
   "outputs": [
    {
     "name": "stdout",
     "output_type": "stream",
     "text": [
      "*_trim1.fq\n",
      "Angelicaesinensis_a_trim1.fq\n",
      "Angelicaesinensis_b_trim1.fq\n",
      "Carthamustinctorius_a_trim1.fq\n",
      "Carthamustinctorius_b_trim1.fq\n",
      "Citrusaurantium_a_trim1.fq\n",
      "Citrusaurantium_b_trim1.fq\n",
      "Cyperusrotundus_a_trim1.fq\n",
      "Cyperusrotundus_b_trim1.fq\n",
      "GXZYT_a_trim1.fq\n"
     ]
    }
   ],
   "source": [
    "%ls clip_out/adapter_clip | head"
   ]
  },
  {
   "cell_type": "code",
   "execution_count": 41,
   "metadata": {},
   "outputs": [
    {
     "name": "stdout",
     "output_type": "stream",
     "text": [
      "@M02980:420:000000000-G84WN:1:1101:14746:1924 1:N:0:GTCTACAC+GCCAAGGT\n",
      "CCATTGAGTCTCTGCACCTATCCCCTTCCTATCTTAGGAGAAGAAACATTGTCTTCATGAACCGGATTTGGCTCAGGATTGCCC\n"
     ]
    }
   ],
   "source": [
    "!head -2 clip_out/adapter_clip/Angelicaesinensis_a_trim1.fq"
   ]
  },
  {
   "cell_type": "code",
   "execution_count": 42,
   "metadata": {},
   "outputs": [
    {
     "name": "stdout",
     "output_type": "stream",
     "text": [
      "Angelicaesinensis_a_trim2.fq\n",
      "Angelicaesinensis_b_trim2.fq\n",
      "Carthamustinctorius_a_trim2.fq\n",
      "Carthamustinctorius_b_trim2.fq\n",
      "Citrusaurantium_a_trim2.fq\n",
      "Citrusaurantium_b_trim2.fq\n",
      "Cyperusrotundus_a_trim2.fq\n",
      "Cyperusrotundus_b_trim2.fq\n",
      "GXZYT_a_trim2.fq\n",
      "GXZYT_b_trim2.fq\n"
     ]
    }
   ],
   "source": [
    "%ls clip_out/primer_clip | head"
   ]
  },
  {
   "cell_type": "code",
   "execution_count": 83,
   "metadata": {},
   "outputs": [
    {
     "name": "stdout",
     "output_type": "stream",
     "text": [
      "@M02980:420:000000000-G84WN:1:2101:18903:19935 1:N:0:GTCTACAC+GCCAAGGT\n",
      "ATTTTATTTTCCAAAAAAAAACAAAGGCCCAGAAGGTGAAAAAAG\n"
     ]
    }
   ],
   "source": [
    "!head -2 clip_out/primer_clip/Angelicaesinensis_a_trim2.fq"
   ]
  },
  {
   "cell_type": "code",
   "execution_count": 84,
   "metadata": {},
   "outputs": [
    {
     "name": "stdout",
     "output_type": "stream",
     "text": [
      "@M02980:420:000000000-G84WN:1:2101:18903:19935 1:N:0:GTCTACAC+GCCAAGGT\n",
      "CACCTTACCTTAGGGCAATCCTGAGCCAAATTTTATTTTCCAAAAAAAAACAAAGGCCCAGAAGGTGAAAAAAGGATAGGTGCAGAGACTCAATGGCCTATGTGATGG\n"
     ]
    }
   ],
   "source": [
    "# ajeitei aqui a escolha da leitura -- estava escolhendo uma que não tinha no subsample\n",
    "!grep -A 1 \"@M02980:420:000000000-G84WN:1:2101:18903:19935 1:N:0:GTCTACAC+GCCAAGGT\" trnL_sub.assembled.fastq"
   ]
  },
  {
   "cell_type": "markdown",
   "metadata": {},
   "source": [
    "<p>We can see here the tags in lowercase.&nbsp;</p>\n",
    "<p>As you can see in the mapping file, the 5&apos; tag is in forward direction <strong>caccttacctta</strong>, and the 3&apos; tag is the reverse complement of the reverse tag <strong>cctatgtgatgg&nbsp;</strong>(prom R2 pair-end read), configuring the tags orientation found in the <strong>Barcodes_LA3.fa</strong> file, which is the most common tag orientation in <strong>merged Illumina paired-end reads</strong>.</p>\n",
    "<p>Right after the tags in lowercase, we can see the the <strong>3&apos; primer in forward direction</strong> CCATTGAGTCTCTGCACCTATC, the <strong>amplicon </strong>and the <strong>5&apos; primer in reverse direction</strong>.</p>"
   ]
  },
  {
   "cell_type": "code",
   "execution_count": 29,
   "metadata": {},
   "outputs": [
    {
     "data": {
      "text/html": [
       "<div>\n",
       "<style scoped>\n",
       "    .dataframe tbody tr th:only-of-type {\n",
       "        vertical-align: middle;\n",
       "    }\n",
       "\n",
       "    .dataframe tbody tr th {\n",
       "        vertical-align: top;\n",
       "    }\n",
       "\n",
       "    .dataframe thead th {\n",
       "        text-align: right;\n",
       "    }\n",
       "</style>\n",
       "<table border=\"1\" class=\"dataframe\">\n",
       "  <thead>\n",
       "    <tr style=\"text-align: right;\">\n",
       "      <th></th>\n",
       "      <th>0</th>\n",
       "      <th>1</th>\n",
       "      <th>2</th>\n",
       "    </tr>\n",
       "  </thead>\n",
       "  <tbody>\n",
       "    <tr>\n",
       "      <th>0</th>\n",
       "      <td>Angelicaesinensis_a</td>\n",
       "      <td>CACCTTACCTTA</td>\n",
       "      <td>CCATCACATAGG</td>\n",
       "    </tr>\n",
       "    <tr>\n",
       "      <th>1</th>\n",
       "      <td>Angelicaesinensis_b</td>\n",
       "      <td>ACTTTAAGGGTG</td>\n",
       "      <td>CCATCACATAGG</td>\n",
       "    </tr>\n",
       "    <tr>\n",
       "      <th>2</th>\n",
       "      <td>Carthamustinctorius_a</td>\n",
       "      <td>ACTTTAAGGGTG</td>\n",
       "      <td>GAGCAACATCCT</td>\n",
       "    </tr>\n",
       "    <tr>\n",
       "      <th>3</th>\n",
       "      <td>Carthamustinctorius_b</td>\n",
       "      <td>TGTTGCGTTTCT</td>\n",
       "      <td>GAGCAACATCCT</td>\n",
       "    </tr>\n",
       "    <tr>\n",
       "      <th>4</th>\n",
       "      <td>Citrusaurantium_a</td>\n",
       "      <td>GAGACTATATGC</td>\n",
       "      <td>GAGCAACATCCT</td>\n",
       "    </tr>\n",
       "    <tr>\n",
       "      <th>5</th>\n",
       "      <td>Citrusaurantium_b</td>\n",
       "      <td>ATCTAGTGGCAA</td>\n",
       "      <td>TGTTGCGTTTCT</td>\n",
       "    </tr>\n",
       "    <tr>\n",
       "      <th>6</th>\n",
       "      <td>Cyperusrotundus_a</td>\n",
       "      <td>ATAGTTAGGGCT</td>\n",
       "      <td>ACTTTAAGGGTG</td>\n",
       "    </tr>\n",
       "    <tr>\n",
       "      <th>7</th>\n",
       "      <td>Cyperusrotundus_b</td>\n",
       "      <td>GAGACTATATGC</td>\n",
       "      <td>ACTTTAAGGGTG</td>\n",
       "    </tr>\n",
       "    <tr>\n",
       "      <th>8</th>\n",
       "      <td>Glycyrrhizauralensis_a</td>\n",
       "      <td>CCAGGGACTTCT</td>\n",
       "      <td>ACTTTAAGGGTG</td>\n",
       "    </tr>\n",
       "    <tr>\n",
       "      <th>9</th>\n",
       "      <td>Glycyrrhizauralensis_b</td>\n",
       "      <td>ACTTTAAGGGTG</td>\n",
       "      <td>GAGACTATATGC</td>\n",
       "    </tr>\n",
       "  </tbody>\n",
       "</table>\n",
       "</div>"
      ],
      "text/plain": [
       "                        0             1             2\n",
       "0     Angelicaesinensis_a  CACCTTACCTTA  CCATCACATAGG\n",
       "1     Angelicaesinensis_b  ACTTTAAGGGTG  CCATCACATAGG\n",
       "2   Carthamustinctorius_a  ACTTTAAGGGTG  GAGCAACATCCT\n",
       "3   Carthamustinctorius_b  TGTTGCGTTTCT  GAGCAACATCCT\n",
       "4       Citrusaurantium_a  GAGACTATATGC  GAGCAACATCCT\n",
       "5       Citrusaurantium_b  ATCTAGTGGCAA  TGTTGCGTTTCT\n",
       "6       Cyperusrotundus_a  ATAGTTAGGGCT  ACTTTAAGGGTG\n",
       "7       Cyperusrotundus_b  GAGACTATATGC  ACTTTAAGGGTG\n",
       "8  Glycyrrhizauralensis_a  CCAGGGACTTCT  ACTTTAAGGGTG\n",
       "9  Glycyrrhizauralensis_b  ACTTTAAGGGTG  GAGACTATATGC"
      ]
     },
     "execution_count": 29,
     "metadata": {},
     "output_type": "execute_result"
    }
   ],
   "source": [
    "get_glimpse_head('trnL_sub_tags.txt', file_header=False)"
   ]
  },
  {
   "cell_type": "code",
   "execution_count": 86,
   "metadata": {},
   "outputs": [
    {
     "name": "stdout",
     "output_type": "stream",
     "text": [
      "*_trim3.fq\n",
      "Angelicaesinensis_a_trim3.fq\n",
      "Angelicaesinensis_b_trim3.fq\n",
      "Carthamustinctorius_a_trim3.fq\n",
      "Carthamustinctorius_b_trim3.fq\n",
      "Citrusaurantium_a_trim3.fq\n",
      "Citrusaurantium_b_trim3.fq\n",
      "Cyperusrotundus_a_trim3.fq\n",
      "Cyperusrotundus_b_trim3.fq\n",
      "GXZYT_a_trim3.fq\n"
     ]
    }
   ],
   "source": [
    "%ls clip_out/trimming | head"
   ]
  },
  {
   "cell_type": "code",
   "execution_count": 87,
   "metadata": {},
   "outputs": [
    {
     "name": "stdout",
     "output_type": "stream",
     "text": [
      "@8a0463ffc82180601c34f944414e83488ecd6c41;ee=0.0079\n",
      "ATTTTATTTTCCAAAAAAAAACAAAGGCCCAGAAGGTGAAAAAAG\n"
     ]
    }
   ],
   "source": [
    "!head -2 clip_out/trimming/Angelicaesinensis_a_trim3.fq"
   ]
  },
  {
   "cell_type": "code",
   "execution_count": 88,
   "metadata": {},
   "outputs": [
    {
     "name": "stdout",
     "output_type": "stream",
     "text": [
      "*_dp.fasta\n",
      "Angelicaesinensis_a_dp.fasta\n",
      "Angelicaesinensis_b_dp.fasta\n",
      "Carthamustinctorius_a_dp.fasta\n",
      "Carthamustinctorius_b_dp.fasta\n",
      "Citrusaurantium_a_dp.fasta\n",
      "Citrusaurantium_b_dp.fasta\n",
      "Cyperusrotundus_a_dp.fasta\n",
      "Cyperusrotundus_b_dp.fasta\n",
      "GXZYT_a_dp.fasta\n"
     ]
    }
   ],
   "source": [
    "%ls dereplicated | head"
   ]
  },
  {
   "cell_type": "code",
   "execution_count": 49,
   "metadata": {},
   "outputs": [
    {
     "name": "stdout",
     "output_type": "stream",
     "text": [
      ">addff39eca064dd9caa294721e6a23cab9c331ab;size=11061\n",
      "ATCCTATTTTCCAAAAACAAACAAAGGCCCAGAAGGTGAAAAAAG\n"
     ]
    }
   ],
   "source": [
    "!head -2 dereplicated/Angelicaesinensis_a_dp.fasta"
   ]
  },
  {
   "cell_type": "markdown",
   "metadata": {},
   "source": [
    "**Let's check the distribuition of the qualities?**"
   ]
  },
  {
   "cell_type": "code",
   "execution_count": 31,
   "metadata": {},
   "outputs": [
    {
     "data": {
      "text/plain": [
       "Text(5.334999999999994, 0.5, 'Distribution of qualities')"
      ]
     },
     "execution_count": 31,
     "metadata": {},
     "output_type": "execute_result"
    },
    {
     "data": {
      "image/png": "[encoded data removed]",
      "text/plain": [
       "<Figure size 720x360 with 1 Axes>"
      ]
     },
     "metadata": {},
     "output_type": "display_data"
    }
   ],
   "source": [
    "# Import the necessary modules\n",
    "import matplotlib.pyplot as plt\n",
    "import seaborn as sns\n",
    "import pandas as pd\n",
    "\n",
    "# Initialize the lists for X and Y\n",
    "data = pd.read_csv('trnL_sub.qual', sep='\\t')\n",
    "\n",
    "df = pd.DataFrame(data)\n",
    "\n",
    "# distribution based on column 2 from file\n",
    "dist_plot = sns.displot(df.iloc[:, 1], bins=15)\n",
    "\n",
    "# show plot with custom width\n",
    "dist_plot.fig.set_figwidth(10)\n",
    "plt.ylabel(\"Distribution of qualities\")"
   ]
  },
  {
   "cell_type": "markdown",
   "metadata": {},
   "source": [
    "**How about dereplicating and clustering our data?**"
   ]
  },
  {
   "cell_type": "code",
   "execution_count": 111,
   "metadata": {
    "collapsed": true,
    "jupyter": {
     "outputs_hidden": true
    },
    "tags": []
   },
   "outputs": [
    {
     "name": "stderr",
     "output_type": "stream",
     "text": [
      "vsearch v2.18.0_linux_x86_64, 14.7GB RAM, 4 cores\n",
      "https://github.com/torognes/vsearch\n",
      "\n",
      "Dereplicating file ./tmp.OOoNUVhM08 100%\n",
      "19847 nt in 333 seqs, min 36, max 114, avg 60\n",
      "Sorting 100%\n",
      "274 unique sequences, avg cluster 3.6, median 1, max 75\n",
      "Writing output file 100%\n",
      "Swarm 3.0.0\n",
      "Copyright (C) 2012-2019 Torbjorn Rognes and Frederic Mahe\n",
      "https://github.com/torognes/swarm\n",
      "\n",
      "Mahe F, Rognes T, Quince C, de Vargas C, Dunthorn M (2014)\n",
      "Swarm: robust and fast clustering method for amplicon-based studies\n",
      "PeerJ 2:e593 https://doi.org/10.7717/peerj.593\n",
      "\n",
      "Mahe F, Rognes T, Quince C, de Vargas C, Dunthorn M (2015)\n",
      "Swarm v2: highly-scalable and high-resolution amplicon clustering\n",
      "PeerJ 3:e1420 https://doi.org/10.7717/peerj.1420\n",
      "\n",
      "CPU features:      mmx sse sse2 sse3 ssse3 sse4.1 sse4.2 popcnt avx avx2\n",
      "Database file:     -\n",
      "Output file:       trnL_cluster_tmp.swarms\n",
      "Statistics file:   trnL_cluster_tmp.stats\n",
      "Resolution (d):    1\n",
      "Threads:           8\n",
      "Break OTUs:        Yes\n",
      "Fastidious:        Yes, with boundary 3\n",
      "\n",
      "Reading sequences: 100%  \n",
      "Indexing database: 100%  \n",
      "Database info:     16630 nt in 274 sequences, longest 114 nt\n",
      "Hashing sequences: 100%  \n",
      "Building network:  100%  \n",
      "Clustering:        100%  \n",
      "\n",
      "Results before fastidious processing:\n",
      "Number of swarms:  117\n",
      "Largest swarm:     20\n",
      "\n",
      "Counting amplicons in heavy and light swarms 100%  \n",
      "Heavy swarms: 37, with 190 amplicons\n",
      "Light swarms: 80, with 84 amplicons\n",
      "Total length of amplicons in light swarms: 5006\n",
      "Bloom filter: bits=16, m=560672, k=6, size=0.1MB\n",
      "Adding light swarm amplicons to Bloom filter 100%  \n",
      "Generated 33339 variants from light swarms\n",
      "Checking heavy swarm amplicons against Bloom filter 100%  \n",
      "Heavy variants: 77003\n",
      "Got 52 graft candidates\n",
      "Grafting light swarms on heavy swarms 100%  \n",
      "Made 21 grafts\n",
      "\n",
      "Writing swarms:    100%  \n",
      "Writing seeds:     100%  \n",
      "Writing stats:     100% \n",
      "\n",
      "Number of swarms:  96\n",
      "Largest swarm:     23\n",
      "Max generations:   2\n",
      "vsearch v2.18.0_linux_x86_64, 14.7GB RAM, 4 cores\n",
      "https://github.com/torognes/vsearch\n",
      "\n",
      "Reading file ./tmp.FaUnWZWzYB 100%\n",
      "5468 nt in 96 seqs, min 36, max 114, avg 57\n",
      "Getting sizes 100%\n",
      "Sorting 100%\n",
      "Median abundance: 1\n",
      "Writing output 100%\n",
      "vsearch v2.18.0_linux_x86_64, 14.7GB RAM, 4 cores\n",
      "https://github.com/torognes/vsearch\n",
      "\n",
      "Reading file trnL_cluster_representatives_tmp.fas 100%\n",
      "5468 nt in 96 seqs, min 36, max 114, avg 57\n",
      "Masking 100%\n",
      "Sorting by abundance 100%\n",
      "Counting k-mers 100%\n",
      "Detecting chimeras 100%\n",
      "Found 0 (0.0%) chimeras, 96 (100.0%) non-chimeras,\n",
      "and 0 (0.0%) borderline sequences in 96 unique sequences.\n",
      "Taking abundance information into account, this corresponds to\n",
      "0 (0.0%) chimeras, 991 (100.0%) non-chimeras,\n",
      "and 0 (0.0%) borderline sequences in 991 total sequences.\n",
      "vsearch v2.18.0_linux_x86_64, 14.7GB RAM, 4 cores\n",
      "https://github.com/torognes/vsearch\n",
      "\n",
      "Reading file ./tmp.swxoqVwBGg 100%\n",
      "5468 nt in 96 seqs, min 36, max 114, avg 57\n",
      "Getting sizes 100%\n",
      "Sorting 100%\n",
      "Median abundance: 1\n",
      "Writing output 100%\n"
     ]
    }
   ],
   "source": [
    "%%bash\n",
    "./4_clustering_swarm_with_chim_filter.sh trnL /home/jupyter/METAPIPE_Workshop2021/dereplicated"
   ]
  },
  {
   "cell_type": "markdown",
   "metadata": {},
   "source": [
    "**Let's check what was produced?**"
   ]
  },
  {
   "cell_type": "code",
   "execution_count": 112,
   "metadata": {},
   "outputs": [
    {
     "name": "stdout",
     "output_type": "stream",
     "text": [
      "total 2554768\n",
      "drwxr-xr-x  8 jupyter jupyter       4096 Dec 10 01:08 \u001b[0m\u001b[01;34m.git\u001b[0m/\n",
      "drwxr-xr-x  8 jupyter jupyter       4096 Dec 10 01:08 \u001b[01;34m.\u001b[0m/\n",
      "-rw-r--r--  1 jupyter jupyter     127463 Dec 10 01:08 metapipe-run.ipynb\n",
      "drwxr-xr-x  2 jupyter jupyter       4096 Dec 10 01:08 \u001b[01;34m.ipynb_checkpoints\u001b[0m/\n",
      "drwxr-xr-x  2 jupyter jupyter       4096 Dec 10 01:07 \u001b[01;34mchimera_out\u001b[0m/\n",
      "-rw-r--r--  1 jupyter jupyter       9277 Dec 10 01:07 trnL_cluster_representatives.uchime\n",
      "-rw-r--r--  1 jupyter jupyter       5152 Dec 10 01:07 trnL_cluster.stats\n",
      "-rw-r--r--  1 jupyter jupyter      13177 Dec 10 01:07 trnL_cluster.swarms\n",
      "-rw-r--r--  1 jupyter jupyter      10391 Dec 10 01:07 trnL_cluster_representatives.fas\n"
     ]
    }
   ],
   "source": [
    "%ls -lat | head"
   ]
  },
  {
   "cell_type": "code",
   "execution_count": 113,
   "metadata": {},
   "outputs": [
    {
     "name": "stdout",
     "output_type": "stream",
     "text": [
      ">8cdbd592419bf9c65aa2691a6c163fe4c16042bb;size=87;\n",
      "ATCCTGTTTTCCGAAAACAAACACAAAGATTCAGAAAGCAAGAATAAAAAAG\n",
      ">a84c749701d67d1226018c6714b72e543a618f16;size=69;\n",
      "CTTTTTTTATATAAAAAAAAATTTTATAATATAATAAAAAATTTAGAATAATAATATTCTATATATATTATATATTTTTTTATATTTTTTCAAAATAATGAT\n"
     ]
    }
   ],
   "source": [
    "!head -4 trnL_cluster_representatives.fas"
   ]
  },
  {
   "cell_type": "code",
   "execution_count": 114,
   "metadata": {},
   "outputs": [
    {
     "name": "stdout",
     "output_type": "stream",
     "text": [
      ">8cdbd592419bf9c65aa2691a6c163fe4c16042bb_87\n",
      "ATCCTGTTTTCCGAAAACAAACACAAAGATTCAGAAAGCAAGAATAAAAAAG\n",
      ">a84c749701d67d1226018c6714b72e543a618f16_69\n",
      "CTTTTTTTATATAAAAAAAAATTTTATAATATAATAAAAAATTTAGAATAATAATATTCTATATATATTATATATTTTTTTATATTTTTTCAAAATAATGAT\n"
     ]
    }
   ],
   "source": [
    "!head -4 trnL_cluster_representatives2blast.fas"
   ]
  },
  {
   "cell_type": "code",
   "execution_count": 33,
   "metadata": {},
   "outputs": [
    {
     "data": {
      "text/html": [
       "<div>\n",
       "<style scoped>\n",
       "    .dataframe tbody tr th:only-of-type {\n",
       "        vertical-align: middle;\n",
       "    }\n",
       "\n",
       "    .dataframe tbody tr th {\n",
       "        vertical-align: top;\n",
       "    }\n",
       "\n",
       "    .dataframe thead th {\n",
       "        text-align: right;\n",
       "    }\n",
       "</style>\n",
       "<table border=\"1\" class=\"dataframe\">\n",
       "  <thead>\n",
       "    <tr style=\"text-align: right;\">\n",
       "      <th></th>\n",
       "      <th>0</th>\n",
       "      <th>1</th>\n",
       "      <th>2</th>\n",
       "      <th>3</th>\n",
       "      <th>4</th>\n",
       "      <th>5</th>\n",
       "      <th>6</th>\n",
       "    </tr>\n",
       "  </thead>\n",
       "  <tbody>\n",
       "    <tr>\n",
       "      <th>0</th>\n",
       "      <td>10</td>\n",
       "      <td>87</td>\n",
       "      <td>8cdbd592419bf9c65aa2691a6c163fe4c16042bb</td>\n",
       "      <td>75</td>\n",
       "      <td>6</td>\n",
       "      <td>1</td>\n",
       "      <td>1</td>\n",
       "    </tr>\n",
       "    <tr>\n",
       "      <th>1</th>\n",
       "      <td>13</td>\n",
       "      <td>59</td>\n",
       "      <td>addff39eca064dd9caa294721e6a23cab9c331ab</td>\n",
       "      <td>47</td>\n",
       "      <td>12</td>\n",
       "      <td>1</td>\n",
       "      <td>1</td>\n",
       "    </tr>\n",
       "    <tr>\n",
       "      <th>2</th>\n",
       "      <td>14</td>\n",
       "      <td>58</td>\n",
       "      <td>967e951648145482fcc47f85b2a3530bec26d552</td>\n",
       "      <td>44</td>\n",
       "      <td>12</td>\n",
       "      <td>1</td>\n",
       "      <td>1</td>\n",
       "    </tr>\n",
       "    <tr>\n",
       "      <th>3</th>\n",
       "      <td>12</td>\n",
       "      <td>55</td>\n",
       "      <td>9cb16aaf5f7887b597ac5fc1bba7e95e881b0d3c</td>\n",
       "      <td>44</td>\n",
       "      <td>11</td>\n",
       "      <td>2</td>\n",
       "      <td>2</td>\n",
       "    </tr>\n",
       "  </tbody>\n",
       "</table>\n",
       "</div>"
      ],
      "text/plain": [
       "    0   1                                         2   3   4  5  6\n",
       "0  10  87  8cdbd592419bf9c65aa2691a6c163fe4c16042bb  75   6  1  1\n",
       "1  13  59  addff39eca064dd9caa294721e6a23cab9c331ab  47  12  1  1\n",
       "2  14  58  967e951648145482fcc47f85b2a3530bec26d552  44  12  1  1\n",
       "3  12  55  9cb16aaf5f7887b597ac5fc1bba7e95e881b0d3c  44  11  2  2"
      ]
     },
     "execution_count": 33,
     "metadata": {},
     "output_type": "execute_result"
    }
   ],
   "source": [
    "get_glimpse_head('trnL_cluster.stats', file_header=False, n_lines=4)"
   ]
  },
  {
   "cell_type": "code",
   "execution_count": 34,
   "metadata": {},
   "outputs": [
    {
     "data": {
      "text/html": [
       "<div>\n",
       "<style scoped>\n",
       "    .dataframe tbody tr th:only-of-type {\n",
       "        vertical-align: middle;\n",
       "    }\n",
       "\n",
       "    .dataframe tbody tr th {\n",
       "        vertical-align: top;\n",
       "    }\n",
       "\n",
       "    .dataframe thead th {\n",
       "        text-align: right;\n",
       "    }\n",
       "</style>\n",
       "<table border=\"1\" class=\"dataframe\">\n",
       "  <thead>\n",
       "    <tr style=\"text-align: right;\">\n",
       "      <th></th>\n",
       "      <th>0</th>\n",
       "      <th>1</th>\n",
       "      <th>2</th>\n",
       "      <th>3</th>\n",
       "      <th>4</th>\n",
       "      <th>5</th>\n",
       "      <th>6</th>\n",
       "      <th>7</th>\n",
       "      <th>8</th>\n",
       "      <th>9</th>\n",
       "      <th>10</th>\n",
       "      <th>11</th>\n",
       "      <th>12</th>\n",
       "      <th>13</th>\n",
       "      <th>14</th>\n",
       "      <th>15</th>\n",
       "      <th>16</th>\n",
       "      <th>17</th>\n",
       "    </tr>\n",
       "  </thead>\n",
       "  <tbody>\n",
       "    <tr>\n",
       "      <th>0</th>\n",
       "      <td>0.0</td>\n",
       "      <td>8cdbd592419bf9c65aa2691a6c163fe4c16042bb;size=87;</td>\n",
       "      <td>*</td>\n",
       "      <td>*</td>\n",
       "      <td>*</td>\n",
       "      <td>*</td>\n",
       "      <td>*</td>\n",
       "      <td>*</td>\n",
       "      <td>*</td>\n",
       "      <td>*</td>\n",
       "      <td>0</td>\n",
       "      <td>0</td>\n",
       "      <td>0</td>\n",
       "      <td>0</td>\n",
       "      <td>0</td>\n",
       "      <td>0</td>\n",
       "      <td>*</td>\n",
       "      <td>N</td>\n",
       "    </tr>\n",
       "    <tr>\n",
       "      <th>1</th>\n",
       "      <td>0.0</td>\n",
       "      <td>a84c749701d67d1226018c6714b72e543a618f16;size=69;</td>\n",
       "      <td>*</td>\n",
       "      <td>*</td>\n",
       "      <td>*</td>\n",
       "      <td>*</td>\n",
       "      <td>*</td>\n",
       "      <td>*</td>\n",
       "      <td>*</td>\n",
       "      <td>*</td>\n",
       "      <td>0</td>\n",
       "      <td>0</td>\n",
       "      <td>0</td>\n",
       "      <td>0</td>\n",
       "      <td>0</td>\n",
       "      <td>0</td>\n",
       "      <td>*</td>\n",
       "      <td>N</td>\n",
       "    </tr>\n",
       "    <tr>\n",
       "      <th>2</th>\n",
       "      <td>0.0</td>\n",
       "      <td>addff39eca064dd9caa294721e6a23cab9c331ab;size=59;</td>\n",
       "      <td>*</td>\n",
       "      <td>*</td>\n",
       "      <td>*</td>\n",
       "      <td>*</td>\n",
       "      <td>*</td>\n",
       "      <td>*</td>\n",
       "      <td>*</td>\n",
       "      <td>*</td>\n",
       "      <td>0</td>\n",
       "      <td>0</td>\n",
       "      <td>0</td>\n",
       "      <td>0</td>\n",
       "      <td>0</td>\n",
       "      <td>0</td>\n",
       "      <td>*</td>\n",
       "      <td>N</td>\n",
       "    </tr>\n",
       "    <tr>\n",
       "      <th>3</th>\n",
       "      <td>0.0</td>\n",
       "      <td>967e951648145482fcc47f85b2a3530bec26d552;size=58;</td>\n",
       "      <td>*</td>\n",
       "      <td>*</td>\n",
       "      <td>*</td>\n",
       "      <td>*</td>\n",
       "      <td>*</td>\n",
       "      <td>*</td>\n",
       "      <td>*</td>\n",
       "      <td>*</td>\n",
       "      <td>0</td>\n",
       "      <td>0</td>\n",
       "      <td>0</td>\n",
       "      <td>0</td>\n",
       "      <td>0</td>\n",
       "      <td>0</td>\n",
       "      <td>*</td>\n",
       "      <td>N</td>\n",
       "    </tr>\n",
       "  </tbody>\n",
       "</table>\n",
       "</div>"
      ],
      "text/plain": [
       "    0                                                  1  2  3  4  5  6  7   \\\n",
       "0  0.0  8cdbd592419bf9c65aa2691a6c163fe4c16042bb;size=87;  *  *  *  *  *  *   \n",
       "1  0.0  a84c749701d67d1226018c6714b72e543a618f16;size=69;  *  *  *  *  *  *   \n",
       "2  0.0  addff39eca064dd9caa294721e6a23cab9c331ab;size=59;  *  *  *  *  *  *   \n",
       "3  0.0  967e951648145482fcc47f85b2a3530bec26d552;size=58;  *  *  *  *  *  *   \n",
       "\n",
       "  8  9   10  11  12  13  14  15 16 17  \n",
       "0  *  *   0   0   0   0   0   0  *  N  \n",
       "1  *  *   0   0   0   0   0   0  *  N  \n",
       "2  *  *   0   0   0   0   0   0  *  N  \n",
       "3  *  *   0   0   0   0   0   0  *  N  "
      ]
     },
     "execution_count": 34,
     "metadata": {},
     "output_type": "execute_result"
    }
   ],
   "source": [
    "get_glimpse_head('trnL_cluster_representatives.uchime', file_header=False, n_lines=4)"
   ]
  },
  {
   "cell_type": "markdown",
   "metadata": {},
   "source": [
    "**Finally here, let's perform a BLAST alignment of our representative clusters against our target_trnL file?**"
   ]
  },
  {
   "cell_type": "code",
   "execution_count": 116,
   "metadata": {},
   "outputs": [
    {
     "name": "stdout",
     "output_type": "stream",
     "text": [
      "##################################################\n",
      "BLAST alignment against custom or NCBI NT local database.\n",
      " \n",
      "Usage: 5_BLAST_options.sh [-f fasta] [-d database] [-s float] [-c float] [-t treads] [-o output]\n",
      "-f     representative OTUs multifasta from clustering step\n",
      "-d     database to align against: 'NT' or 'My_refs.uniq.fasta'\n",
      "-s     minimum similarity between query and subject, float 0-1\n",
      "-c     minimum subject coverage reached by the query alignment, float 0-1\n",
      "-t     number of threads:\n",
      "           custom database: 2 threads for each 1000 seqs.\n",
      "           NCBI NT database: 4 threads for each 1000 seqs.\n",
      "-o     output name: 'name'_local_blast.tab\n",
      "-h     print this help\n",
      " \n",
      "##################################################\n"
     ]
    }
   ],
   "source": [
    "!bash 5_BLAST_options.sh -h"
   ]
  },
  {
   "cell_type": "code",
   "execution_count": 130,
   "metadata": {},
   "outputs": [
    {
     "name": "stdout",
     "output_type": "stream",
     "text": [
      "\n",
      "\n",
      "Building a new DB, current time: 12/10/2021 01:52:49\n",
      "New DB name:   /home/jupyter/METAPIPE_Workshop2021/target_trnL.uniq.fasta\n",
      "New DB title:  target_trnL.uniq.fasta\n",
      "Sequence type: Nucleotide\n",
      "Deleted existing Nucleotide BLAST database named /home/jupyter/METAPIPE_Workshop2021/target_trnL.uniq.fasta\n",
      "Keep MBits: T\n",
      "Maximum file size: 1000000000B\n",
      "Adding sequences from FASTA; added 15359 sequences in 0.511018 seconds.\n",
      "\n",
      "\n"
     ]
    },
    {
     "name": "stderr",
     "output_type": "stream",
     "text": [
      "./5_BLAST_options.sh: 59: [: target_trnL.uniq.fasta: unexpected operator\n",
      "./5_BLAST_options.sh: 59: [: target_trnL.uniq.fasta: unexpected operator\n",
      "Warning: [blastn] Examining 5 or more matches is recommended\n"
     ]
    }
   ],
   "source": [
    "%%bash\n",
    "./5_BLAST_options.sh \\\n",
    "    -f trnL_cluster_representatives2blast.fas \\\n",
    "    -d target_trnL.uniq.fasta -s 0.95 -c 0.5 -t 4 -o target95_trnL"
   ]
  },
  {
   "cell_type": "markdown",
   "metadata": {},
   "source": [
    "> Marcele, aqui é necessário este comando do update_blastdb?"
   ]
  },
  {
   "cell_type": "code",
   "execution_count": 131,
   "metadata": {},
   "outputs": [
    {
     "name": "stdout",
     "output_type": "stream",
     "text": [
      "Connected to GCP\n",
      "^C\n"
     ]
    }
   ],
   "source": [
    "!update_blastdb.pl --decompress nr"
   ]
  },
  {
   "cell_type": "code",
   "execution_count": 133,
   "metadata": {},
   "outputs": [
    {
     "name": "stdout",
     "output_type": "stream",
     "text": [
      "total 4676052\n",
      "drwxr-xr-x  8 jupyter jupyter       4096 Dec 10 01:58 \u001b[0m\u001b[01;34m.\u001b[0m/\n",
      "-rw-r--r--  1 jupyter jupyter          0 Dec 10 01:58 metapipe-run.ipynb\n",
      "drwxr-xr-x  8 jupyter jupyter       4096 Dec 10 01:57 \u001b[01;34m.git\u001b[0m/\n",
      "-rw-r--r--  1 jupyter jupyter      19616 Dec 10 01:53 Install_Setup.ipynb\n",
      "-rw-r--r--  1 jupyter jupyter       6482 Dec 10 01:52 target95_trnL_OTU_tax_assignments.txt\n",
      "-rw-r--r--  1 jupyter jupyter       7628 Dec 10 01:52 Blast_results_formatted2OTUtable.tab\n",
      "-rw-r--r--  1 jupyter jupyter       7835 Dec 10 01:52 target95_trnL_local_blast.tab\n",
      "-rw-r--r--  1 jupyter jupyter     749568 Dec 10 01:52 target_trnL.uniq.fasta.ndb\n",
      "-rw-r--r--  1 jupyter jupyter     291829 Dec 10 01:52 target_trnL.uniq.fasta.nos\n"
     ]
    }
   ],
   "source": [
    "%ls -lat | head"
   ]
  },
  {
   "cell_type": "markdown",
   "metadata": {},
   "source": [
    "**Let's get a glimpse of the BLAST result?**"
   ]
  },
  {
   "cell_type": "code",
   "execution_count": 35,
   "metadata": {},
   "outputs": [
    {
     "data": {
      "text/html": [
       "<div>\n",
       "<style scoped>\n",
       "    .dataframe tbody tr th:only-of-type {\n",
       "        vertical-align: middle;\n",
       "    }\n",
       "\n",
       "    .dataframe tbody tr th {\n",
       "        vertical-align: top;\n",
       "    }\n",
       "\n",
       "    .dataframe thead th {\n",
       "        text-align: right;\n",
       "    }\n",
       "</style>\n",
       "<table border=\"1\" class=\"dataframe\">\n",
       "  <thead>\n",
       "    <tr style=\"text-align: right;\">\n",
       "      <th></th>\n",
       "      <th>0</th>\n",
       "      <th>1</th>\n",
       "      <th>2</th>\n",
       "      <th>3</th>\n",
       "      <th>4</th>\n",
       "    </tr>\n",
       "  </thead>\n",
       "  <tbody>\n",
       "    <tr>\n",
       "      <th>0</th>\n",
       "      <td>addff39eca064dd9caa294721e6a23cab9c331ab_59</td>\n",
       "      <td>100.0</td>\n",
       "      <td>Eukaryota|Streptophyta|Magnoliopsida|Apiales|A...</td>\n",
       "      <td>gb|MT846883.1|</td>\n",
       "      <td>NaN</td>\n",
       "    </tr>\n",
       "    <tr>\n",
       "      <th>1</th>\n",
       "      <td>967e951648145482fcc47f85b2a3530bec26d552_58</td>\n",
       "      <td>100.0</td>\n",
       "      <td>Eukaryota|Streptophyta|Magnoliopsida|Apiales|A...</td>\n",
       "      <td>gb|MT846883.1|</td>\n",
       "      <td>NaN</td>\n",
       "    </tr>\n",
       "    <tr>\n",
       "      <th>2</th>\n",
       "      <td>c65370ec20a9cdf9089e1983d7c5c3d4227a870b_48</td>\n",
       "      <td>100.0</td>\n",
       "      <td>Eukaryota|Streptophyta|Magnoliopsida|Dioscorea...</td>\n",
       "      <td>dbj|LC568697.1|</td>\n",
       "      <td>NaN</td>\n",
       "    </tr>\n",
       "    <tr>\n",
       "      <th>3</th>\n",
       "      <td>51f5ee433d9bd7bcab7dd619b067cac228be8d5d_36</td>\n",
       "      <td>100.0</td>\n",
       "      <td>Eukaryota|Streptophyta|Magnoliopsida|Rosales|R...</td>\n",
       "      <td>gb|MK411811.1|</td>\n",
       "      <td>NaN</td>\n",
       "    </tr>\n",
       "    <tr>\n",
       "      <th>4</th>\n",
       "      <td>94385ff6f775ede0a8b76f5e4f3a9a0de58a4eca_36</td>\n",
       "      <td>100.0</td>\n",
       "      <td>Eukaryota|Streptophyta|Magnoliopsida|Dioscorea...</td>\n",
       "      <td>dbj|LC568697.1|</td>\n",
       "      <td>NaN</td>\n",
       "    </tr>\n",
       "    <tr>\n",
       "      <th>5</th>\n",
       "      <td>28bf85082548d49c8d3b2793064a2fae0f417562_34</td>\n",
       "      <td>100.0</td>\n",
       "      <td>Eukaryota|Streptophyta|Magnoliopsida|Rosales|R...</td>\n",
       "      <td>gb|MK411811.1|</td>\n",
       "      <td>NaN</td>\n",
       "    </tr>\n",
       "    <tr>\n",
       "      <th>6</th>\n",
       "      <td>7bb64ef2725b146c74add357867e20995ecd52ee_29</td>\n",
       "      <td>100.0</td>\n",
       "      <td>Eukaryota|Streptophyta|Magnoliopsida|Sapindale...</td>\n",
       "      <td>gb|KY656130.1|</td>\n",
       "      <td>NaN</td>\n",
       "    </tr>\n",
       "    <tr>\n",
       "      <th>7</th>\n",
       "      <td>82a2b1118cad0121d260e395543e95dc2b8f05e1_27</td>\n",
       "      <td>100.0</td>\n",
       "      <td>Eukaryota|Streptophyta|Magnoliopsida|Fabales|F...</td>\n",
       "      <td>gb|MN167287.1|</td>\n",
       "      <td>NaN</td>\n",
       "    </tr>\n",
       "    <tr>\n",
       "      <th>8</th>\n",
       "      <td>ac90db76fbae68003ec939d36b9847a46cbfa3c7_26</td>\n",
       "      <td>100.0</td>\n",
       "      <td>Eukaryota|Streptophyta|Magnoliopsida|Sapindale...</td>\n",
       "      <td>gb|KY656130.1|</td>\n",
       "      <td>NaN</td>\n",
       "    </tr>\n",
       "    <tr>\n",
       "      <th>9</th>\n",
       "      <td>06ec9d01e337ef05d23f230a0c6dc7f9e0b109db_25</td>\n",
       "      <td>100.0</td>\n",
       "      <td>Eukaryota|Streptophyta|Pinopsida|Cupressales|C...</td>\n",
       "      <td>gb|MH547576.1|</td>\n",
       "      <td>NaN</td>\n",
       "    </tr>\n",
       "  </tbody>\n",
       "</table>\n",
       "</div>"
      ],
      "text/plain": [
       "                                             0      1  \\\n",
       "0  addff39eca064dd9caa294721e6a23cab9c331ab_59  100.0   \n",
       "1  967e951648145482fcc47f85b2a3530bec26d552_58  100.0   \n",
       "2  c65370ec20a9cdf9089e1983d7c5c3d4227a870b_48  100.0   \n",
       "3  51f5ee433d9bd7bcab7dd619b067cac228be8d5d_36  100.0   \n",
       "4  94385ff6f775ede0a8b76f5e4f3a9a0de58a4eca_36  100.0   \n",
       "5  28bf85082548d49c8d3b2793064a2fae0f417562_34  100.0   \n",
       "6  7bb64ef2725b146c74add357867e20995ecd52ee_29  100.0   \n",
       "7  82a2b1118cad0121d260e395543e95dc2b8f05e1_27  100.0   \n",
       "8  ac90db76fbae68003ec939d36b9847a46cbfa3c7_26  100.0   \n",
       "9  06ec9d01e337ef05d23f230a0c6dc7f9e0b109db_25  100.0   \n",
       "\n",
       "                                                   2                3   4  \n",
       "0  Eukaryota|Streptophyta|Magnoliopsida|Apiales|A...   gb|MT846883.1| NaN  \n",
       "1  Eukaryota|Streptophyta|Magnoliopsida|Apiales|A...   gb|MT846883.1| NaN  \n",
       "2  Eukaryota|Streptophyta|Magnoliopsida|Dioscorea...  dbj|LC568697.1| NaN  \n",
       "3  Eukaryota|Streptophyta|Magnoliopsida|Rosales|R...   gb|MK411811.1| NaN  \n",
       "4  Eukaryota|Streptophyta|Magnoliopsida|Dioscorea...  dbj|LC568697.1| NaN  \n",
       "5  Eukaryota|Streptophyta|Magnoliopsida|Rosales|R...   gb|MK411811.1| NaN  \n",
       "6  Eukaryota|Streptophyta|Magnoliopsida|Sapindale...   gb|KY656130.1| NaN  \n",
       "7  Eukaryota|Streptophyta|Magnoliopsida|Fabales|F...   gb|MN167287.1| NaN  \n",
       "8  Eukaryota|Streptophyta|Magnoliopsida|Sapindale...   gb|KY656130.1| NaN  \n",
       "9  Eukaryota|Streptophyta|Pinopsida|Cupressales|C...   gb|MH547576.1| NaN  "
      ]
     },
     "execution_count": 35,
     "metadata": {},
     "output_type": "execute_result"
    }
   ],
   "source": [
    "get_glimpse_head('target95_trnL_local_blast.tab', file_header=False)"
   ]
  },
  {
   "cell_type": "code",
   "execution_count": 36,
   "metadata": {},
   "outputs": [
    {
     "data": {
      "text/html": [
       "<div>\n",
       "<style scoped>\n",
       "    .dataframe tbody tr th:only-of-type {\n",
       "        vertical-align: middle;\n",
       "    }\n",
       "\n",
       "    .dataframe tbody tr th {\n",
       "        vertical-align: top;\n",
       "    }\n",
       "\n",
       "    .dataframe thead th {\n",
       "        text-align: right;\n",
       "    }\n",
       "</style>\n",
       "<table border=\"1\" class=\"dataframe\">\n",
       "  <thead>\n",
       "    <tr style=\"text-align: right;\">\n",
       "      <th></th>\n",
       "      <th>0</th>\n",
       "      <th>1</th>\n",
       "      <th>2</th>\n",
       "      <th>3</th>\n",
       "      <th>4</th>\n",
       "      <th>5</th>\n",
       "    </tr>\n",
       "  </thead>\n",
       "  <tbody>\n",
       "    <tr>\n",
       "      <th>0</th>\n",
       "      <td>addff39eca064dd9caa294721e6a23cab9c331ab</td>\n",
       "      <td>59</td>\n",
       "      <td>100.0</td>\n",
       "      <td>Eukaryota|Streptophyta|Magnoliopsida|Apiales|A...</td>\n",
       "      <td>MT846883.1</td>\n",
       "      <td>NaN</td>\n",
       "    </tr>\n",
       "    <tr>\n",
       "      <th>1</th>\n",
       "      <td>967e951648145482fcc47f85b2a3530bec26d552</td>\n",
       "      <td>58</td>\n",
       "      <td>100.0</td>\n",
       "      <td>Eukaryota|Streptophyta|Magnoliopsida|Apiales|A...</td>\n",
       "      <td>MT846883.1</td>\n",
       "      <td>NaN</td>\n",
       "    </tr>\n",
       "    <tr>\n",
       "      <th>2</th>\n",
       "      <td>c65370ec20a9cdf9089e1983d7c5c3d4227a870b</td>\n",
       "      <td>48</td>\n",
       "      <td>100.0</td>\n",
       "      <td>Eukaryota|Streptophyta|Magnoliopsida|Dioscorea...</td>\n",
       "      <td>LC568697.1</td>\n",
       "      <td>NaN</td>\n",
       "    </tr>\n",
       "    <tr>\n",
       "      <th>3</th>\n",
       "      <td>51f5ee433d9bd7bcab7dd619b067cac228be8d5d</td>\n",
       "      <td>36</td>\n",
       "      <td>100.0</td>\n",
       "      <td>Eukaryota|Streptophyta|Magnoliopsida|Rosales|R...</td>\n",
       "      <td>MK411811.1</td>\n",
       "      <td>NaN</td>\n",
       "    </tr>\n",
       "    <tr>\n",
       "      <th>4</th>\n",
       "      <td>94385ff6f775ede0a8b76f5e4f3a9a0de58a4eca</td>\n",
       "      <td>36</td>\n",
       "      <td>100.0</td>\n",
       "      <td>Eukaryota|Streptophyta|Magnoliopsida|Dioscorea...</td>\n",
       "      <td>LC568697.1</td>\n",
       "      <td>NaN</td>\n",
       "    </tr>\n",
       "    <tr>\n",
       "      <th>5</th>\n",
       "      <td>28bf85082548d49c8d3b2793064a2fae0f417562</td>\n",
       "      <td>34</td>\n",
       "      <td>100.0</td>\n",
       "      <td>Eukaryota|Streptophyta|Magnoliopsida|Rosales|R...</td>\n",
       "      <td>MK411811.1</td>\n",
       "      <td>NaN</td>\n",
       "    </tr>\n",
       "    <tr>\n",
       "      <th>6</th>\n",
       "      <td>7bb64ef2725b146c74add357867e20995ecd52ee</td>\n",
       "      <td>29</td>\n",
       "      <td>100.0</td>\n",
       "      <td>Eukaryota|Streptophyta|Magnoliopsida|Sapindale...</td>\n",
       "      <td>KY656130.1</td>\n",
       "      <td>NaN</td>\n",
       "    </tr>\n",
       "    <tr>\n",
       "      <th>7</th>\n",
       "      <td>82a2b1118cad0121d260e395543e95dc2b8f05e1</td>\n",
       "      <td>27</td>\n",
       "      <td>100.0</td>\n",
       "      <td>Eukaryota|Streptophyta|Magnoliopsida|Fabales|F...</td>\n",
       "      <td>MN167287.1</td>\n",
       "      <td>NaN</td>\n",
       "    </tr>\n",
       "    <tr>\n",
       "      <th>8</th>\n",
       "      <td>ac90db76fbae68003ec939d36b9847a46cbfa3c7</td>\n",
       "      <td>26</td>\n",
       "      <td>100.0</td>\n",
       "      <td>Eukaryota|Streptophyta|Magnoliopsida|Sapindale...</td>\n",
       "      <td>KY656130.1</td>\n",
       "      <td>NaN</td>\n",
       "    </tr>\n",
       "    <tr>\n",
       "      <th>9</th>\n",
       "      <td>06ec9d01e337ef05d23f230a0c6dc7f9e0b109db</td>\n",
       "      <td>25</td>\n",
       "      <td>100.0</td>\n",
       "      <td>Eukaryota|Streptophyta|Pinopsida|Cupressales|C...</td>\n",
       "      <td>MH547576.1</td>\n",
       "      <td>NaN</td>\n",
       "    </tr>\n",
       "  </tbody>\n",
       "</table>\n",
       "</div>"
      ],
      "text/plain": [
       "                                          0   1      2  \\\n",
       "0  addff39eca064dd9caa294721e6a23cab9c331ab  59  100.0   \n",
       "1  967e951648145482fcc47f85b2a3530bec26d552  58  100.0   \n",
       "2  c65370ec20a9cdf9089e1983d7c5c3d4227a870b  48  100.0   \n",
       "3  51f5ee433d9bd7bcab7dd619b067cac228be8d5d  36  100.0   \n",
       "4  94385ff6f775ede0a8b76f5e4f3a9a0de58a4eca  36  100.0   \n",
       "5  28bf85082548d49c8d3b2793064a2fae0f417562  34  100.0   \n",
       "6  7bb64ef2725b146c74add357867e20995ecd52ee  29  100.0   \n",
       "7  82a2b1118cad0121d260e395543e95dc2b8f05e1  27  100.0   \n",
       "8  ac90db76fbae68003ec939d36b9847a46cbfa3c7  26  100.0   \n",
       "9  06ec9d01e337ef05d23f230a0c6dc7f9e0b109db  25  100.0   \n",
       "\n",
       "                                                   3           4   5  \n",
       "0  Eukaryota|Streptophyta|Magnoliopsida|Apiales|A...  MT846883.1 NaN  \n",
       "1  Eukaryota|Streptophyta|Magnoliopsida|Apiales|A...  MT846883.1 NaN  \n",
       "2  Eukaryota|Streptophyta|Magnoliopsida|Dioscorea...  LC568697.1 NaN  \n",
       "3  Eukaryota|Streptophyta|Magnoliopsida|Rosales|R...  MK411811.1 NaN  \n",
       "4  Eukaryota|Streptophyta|Magnoliopsida|Dioscorea...  LC568697.1 NaN  \n",
       "5  Eukaryota|Streptophyta|Magnoliopsida|Rosales|R...  MK411811.1 NaN  \n",
       "6  Eukaryota|Streptophyta|Magnoliopsida|Sapindale...  KY656130.1 NaN  \n",
       "7  Eukaryota|Streptophyta|Magnoliopsida|Fabales|F...  MN167287.1 NaN  \n",
       "8  Eukaryota|Streptophyta|Magnoliopsida|Sapindale...  KY656130.1 NaN  \n",
       "9  Eukaryota|Streptophyta|Pinopsida|Cupressales|C...  MH547576.1 NaN  "
      ]
     },
     "execution_count": 36,
     "metadata": {},
     "output_type": "execute_result"
    }
   ],
   "source": [
    "get_glimpse_head('Blast_results_formatted2OTUtable.tab', file_header=False)"
   ]
  },
  {
   "cell_type": "code",
   "execution_count": 37,
   "metadata": {},
   "outputs": [
    {
     "data": {
      "text/html": [
       "<div>\n",
       "<style scoped>\n",
       "    .dataframe tbody tr th:only-of-type {\n",
       "        vertical-align: middle;\n",
       "    }\n",
       "\n",
       "    .dataframe tbody tr th {\n",
       "        vertical-align: top;\n",
       "    }\n",
       "\n",
       "    .dataframe thead th {\n",
       "        text-align: right;\n",
       "    }\n",
       "</style>\n",
       "<table border=\"1\" class=\"dataframe\">\n",
       "  <thead>\n",
       "    <tr style=\"text-align: right;\">\n",
       "      <th></th>\n",
       "      <th>amplicon</th>\n",
       "      <th>Kingdom</th>\n",
       "      <th>Phylum</th>\n",
       "      <th>Class</th>\n",
       "      <th>Ord</th>\n",
       "      <th>Family</th>\n",
       "      <th>Genus</th>\n",
       "      <th>Species</th>\n",
       "      <th>SIM</th>\n",
       "      <th>OTU_abundance</th>\n",
       "    </tr>\n",
       "  </thead>\n",
       "  <tbody>\n",
       "    <tr>\n",
       "      <th>0</th>\n",
       "      <td>addff39eca064dd9caa294721e6a23cab9c331ab</td>\n",
       "      <td>Eukaryota</td>\n",
       "      <td>Streptophyta</td>\n",
       "      <td>Magnoliopsida</td>\n",
       "      <td>Apiales</td>\n",
       "      <td>Apiaceae</td>\n",
       "      <td>Selinum</td>\n",
       "      <td>carvifolia</td>\n",
       "      <td>100.0</td>\n",
       "      <td>59</td>\n",
       "    </tr>\n",
       "    <tr>\n",
       "      <th>1</th>\n",
       "      <td>967e951648145482fcc47f85b2a3530bec26d552</td>\n",
       "      <td>Eukaryota</td>\n",
       "      <td>Streptophyta</td>\n",
       "      <td>Magnoliopsida</td>\n",
       "      <td>Apiales</td>\n",
       "      <td>Apiaceae</td>\n",
       "      <td>Selinum</td>\n",
       "      <td>carvifolia</td>\n",
       "      <td>100.0</td>\n",
       "      <td>58</td>\n",
       "    </tr>\n",
       "    <tr>\n",
       "      <th>2</th>\n",
       "      <td>c65370ec20a9cdf9089e1983d7c5c3d4227a870b</td>\n",
       "      <td>Eukaryota</td>\n",
       "      <td>Streptophyta</td>\n",
       "      <td>Magnoliopsida</td>\n",
       "      <td>Dioscoreales</td>\n",
       "      <td>Dioscoreaceae</td>\n",
       "      <td>Dioscorea</td>\n",
       "      <td>japonica</td>\n",
       "      <td>100.0</td>\n",
       "      <td>48</td>\n",
       "    </tr>\n",
       "    <tr>\n",
       "      <th>3</th>\n",
       "      <td>51f5ee433d9bd7bcab7dd619b067cac228be8d5d</td>\n",
       "      <td>Eukaryota</td>\n",
       "      <td>Streptophyta</td>\n",
       "      <td>Magnoliopsida</td>\n",
       "      <td>Rosales</td>\n",
       "      <td>Rosaceae</td>\n",
       "      <td>Prunus</td>\n",
       "      <td>sunhangii</td>\n",
       "      <td>100.0</td>\n",
       "      <td>36</td>\n",
       "    </tr>\n",
       "    <tr>\n",
       "      <th>4</th>\n",
       "      <td>94385ff6f775ede0a8b76f5e4f3a9a0de58a4eca</td>\n",
       "      <td>Eukaryota</td>\n",
       "      <td>Streptophyta</td>\n",
       "      <td>Magnoliopsida</td>\n",
       "      <td>Dioscoreales</td>\n",
       "      <td>Dioscoreaceae</td>\n",
       "      <td>Dioscorea</td>\n",
       "      <td>japonica</td>\n",
       "      <td>100.0</td>\n",
       "      <td>36</td>\n",
       "    </tr>\n",
       "    <tr>\n",
       "      <th>5</th>\n",
       "      <td>28bf85082548d49c8d3b2793064a2fae0f417562</td>\n",
       "      <td>Eukaryota</td>\n",
       "      <td>Streptophyta</td>\n",
       "      <td>Magnoliopsida</td>\n",
       "      <td>Rosales</td>\n",
       "      <td>Rosaceae</td>\n",
       "      <td>Prunus</td>\n",
       "      <td>sunhangii</td>\n",
       "      <td>100.0</td>\n",
       "      <td>34</td>\n",
       "    </tr>\n",
       "    <tr>\n",
       "      <th>6</th>\n",
       "      <td>7bb64ef2725b146c74add357867e20995ecd52ee</td>\n",
       "      <td>Eukaryota</td>\n",
       "      <td>Streptophyta</td>\n",
       "      <td>Magnoliopsida</td>\n",
       "      <td>Sapindales</td>\n",
       "      <td>Rutaceae</td>\n",
       "      <td>Citrus</td>\n",
       "      <td>micrantha</td>\n",
       "      <td>100.0</td>\n",
       "      <td>29</td>\n",
       "    </tr>\n",
       "    <tr>\n",
       "      <th>7</th>\n",
       "      <td>82a2b1118cad0121d260e395543e95dc2b8f05e1</td>\n",
       "      <td>Eukaryota</td>\n",
       "      <td>Streptophyta</td>\n",
       "      <td>Magnoliopsida</td>\n",
       "      <td>Fabales</td>\n",
       "      <td>Fabaceae</td>\n",
       "      <td>Glycyrrhiza</td>\n",
       "      <td>glabra</td>\n",
       "      <td>100.0</td>\n",
       "      <td>27</td>\n",
       "    </tr>\n",
       "    <tr>\n",
       "      <th>8</th>\n",
       "      <td>ac90db76fbae68003ec939d36b9847a46cbfa3c7</td>\n",
       "      <td>Eukaryota</td>\n",
       "      <td>Streptophyta</td>\n",
       "      <td>Magnoliopsida</td>\n",
       "      <td>Sapindales</td>\n",
       "      <td>Rutaceae</td>\n",
       "      <td>Citrus</td>\n",
       "      <td>micrantha</td>\n",
       "      <td>100.0</td>\n",
       "      <td>26</td>\n",
       "    </tr>\n",
       "    <tr>\n",
       "      <th>9</th>\n",
       "      <td>06ec9d01e337ef05d23f230a0c6dc7f9e0b109db</td>\n",
       "      <td>Eukaryota</td>\n",
       "      <td>Streptophyta</td>\n",
       "      <td>Pinopsida</td>\n",
       "      <td>Cupressales</td>\n",
       "      <td>Cupressaceae</td>\n",
       "      <td>Thuja</td>\n",
       "      <td>sp.</td>\n",
       "      <td>100.0</td>\n",
       "      <td>25</td>\n",
       "    </tr>\n",
       "  </tbody>\n",
       "</table>\n",
       "</div>"
      ],
      "text/plain": [
       "                                   amplicon    Kingdom        Phylum  \\\n",
       "0  addff39eca064dd9caa294721e6a23cab9c331ab  Eukaryota  Streptophyta   \n",
       "1  967e951648145482fcc47f85b2a3530bec26d552  Eukaryota  Streptophyta   \n",
       "2  c65370ec20a9cdf9089e1983d7c5c3d4227a870b  Eukaryota  Streptophyta   \n",
       "3  51f5ee433d9bd7bcab7dd619b067cac228be8d5d  Eukaryota  Streptophyta   \n",
       "4  94385ff6f775ede0a8b76f5e4f3a9a0de58a4eca  Eukaryota  Streptophyta   \n",
       "5  28bf85082548d49c8d3b2793064a2fae0f417562  Eukaryota  Streptophyta   \n",
       "6  7bb64ef2725b146c74add357867e20995ecd52ee  Eukaryota  Streptophyta   \n",
       "7  82a2b1118cad0121d260e395543e95dc2b8f05e1  Eukaryota  Streptophyta   \n",
       "8  ac90db76fbae68003ec939d36b9847a46cbfa3c7  Eukaryota  Streptophyta   \n",
       "9  06ec9d01e337ef05d23f230a0c6dc7f9e0b109db  Eukaryota  Streptophyta   \n",
       "\n",
       "           Class           Ord         Family        Genus     Species    SIM  \\\n",
       "0  Magnoliopsida       Apiales       Apiaceae      Selinum  carvifolia  100.0   \n",
       "1  Magnoliopsida       Apiales       Apiaceae      Selinum  carvifolia  100.0   \n",
       "2  Magnoliopsida  Dioscoreales  Dioscoreaceae    Dioscorea    japonica  100.0   \n",
       "3  Magnoliopsida       Rosales       Rosaceae       Prunus   sunhangii  100.0   \n",
       "4  Magnoliopsida  Dioscoreales  Dioscoreaceae    Dioscorea    japonica  100.0   \n",
       "5  Magnoliopsida       Rosales       Rosaceae       Prunus   sunhangii  100.0   \n",
       "6  Magnoliopsida    Sapindales       Rutaceae       Citrus   micrantha  100.0   \n",
       "7  Magnoliopsida       Fabales       Fabaceae  Glycyrrhiza      glabra  100.0   \n",
       "8  Magnoliopsida    Sapindales       Rutaceae       Citrus   micrantha  100.0   \n",
       "9      Pinopsida   Cupressales   Cupressaceae        Thuja         sp.  100.0   \n",
       "\n",
       "   OTU_abundance  \n",
       "0             59  \n",
       "1             58  \n",
       "2             48  \n",
       "3             36  \n",
       "4             36  \n",
       "5             34  \n",
       "6             29  \n",
       "7             27  \n",
       "8             26  \n",
       "9             25  "
      ]
     },
     "execution_count": 37,
     "metadata": {},
     "output_type": "execute_result"
    }
   ],
   "source": [
    "get_glimpse_head('target95_trnL_OTU_tax_assignments.txt')"
   ]
  },
  {
   "cell_type": "markdown",
   "metadata": {},
   "source": [
    "**Let's check the distribuition of entries (of amplicons) per Family?**"
   ]
  },
  {
   "cell_type": "code",
   "execution_count": 38,
   "metadata": {},
   "outputs": [
    {
     "data": {
      "text/plain": [
       "Text(19.334999999999994, 0.5, 'Number of amplicons')"
      ]
     },
     "execution_count": 38,
     "metadata": {},
     "output_type": "execute_result"
    },
    {
     "data": {
      "image/png": "[encoded data removed]",
      "text/plain": [
       "<Figure size 864x360 with 1 Axes>"
      ]
     },
     "metadata": {},
     "output_type": "display_data"
    }
   ],
   "source": [
    "# Import the necessary modules\n",
    "import matplotlib.pyplot as plt\n",
    "import seaborn as sns\n",
    "import pandas as pd\n",
    "\n",
    "# Initialize the lists for X and Y\n",
    "data = pd.read_csv('target95_trnL_OTU_tax_assignments.txt', sep='\\t')\n",
    "\n",
    "df = pd.DataFrame(data).sort_values('Family')\n",
    "\n",
    "# distribution (histogram) based on column 2 from file\n",
    "dist_plot = sns.displot(df['Family'], bins=15)\n",
    "\n",
    "# show plot with custom width\n",
    "dist_plot.fig.set_figwidth(12)\n",
    "plt.xticks(rotation='vertical')\n",
    "plt.ylabel(\"Number of amplicons\")"
   ]
  },
  {
   "cell_type": "markdown",
   "metadata": {},
   "source": [
    "**How about the total count of OTUs?**"
   ]
  },
  {
   "cell_type": "code",
   "execution_count": 160,
   "metadata": {},
   "outputs": [
    {
     "data": {
      "text/plain": [
       "<AxesSubplot:xlabel='Family', ylabel='Total OTU count'>"
      ]
     },
     "execution_count": 160,
     "metadata": {},
     "output_type": "execute_result"
    },
    {
     "data": {
      "image/png": "[encoded data removed]",
      "text/plain": [
       "<Figure size 1080x648 with 1 Axes>"
      ]
     },
     "metadata": {},
     "output_type": "display_data"
    }
   ],
   "source": [
    "# Import the necessary modules\n",
    "import matplotlib.pyplot as plt\n",
    "import numpy as np\n",
    "import seaborn as sns\n",
    "import pandas as pd\n",
    "\n",
    "# Initialize the lists for X and Y\n",
    "data = pd.read_csv('target95_trnL_OTU_tax_assignments.txt', sep='\\t')\n",
    "\n",
    "df = pd.DataFrame(data).sort_values('Family').groupby(['Family'])\n",
    "\n",
    "otus_by_family = df['OTU_abundance'].agg([np.sum]).reset_index().sort_values('sum')\n",
    "\n",
    "# distribution (histogram) based on column 2 from file\n",
    "bar_plot = sns.barplot(x='Family', y='sum', data=otus_by_family)\n",
    "\n",
    "# show plot with custom width\n",
    "sns.set(rc={'figure.figsize':(15,9)})\n",
    "plt.xticks(rotation='vertical')\n",
    "plt.ylabel(\"Total OTU count\")\n",
    "bar_plot"
   ]
  },
  {
   "cell_type": "markdown",
   "metadata": {},
   "source": [
    "**Now let's create an OTU table of these results?**"
   ]
  },
  {
   "cell_type": "code",
   "execution_count": 165,
   "metadata": {
    "tags": []
   },
   "outputs": [],
   "source": [
    " %%bash\n",
    "./6a_build_OTU_table.sh \\\n",
    "    trnL_cluster_representatives.fas \\\n",
    "    trnL_sub.qual \\\n",
    "    Blast_results_formatted2OTUtable.tab \\\n",
    "    /home/jupyter/METAPIPE_Workshop2021/dereplicated"
   ]
  },
  {
   "cell_type": "code",
   "execution_count": 166,
   "metadata": {},
   "outputs": [
    {
     "name": "stdout",
     "output_type": "stream",
     "text": [
      "trnL_cluster_OTU_table_complete.tab\n",
      "metapipe-run.ipynb\n",
      "\u001b[0m\u001b[01;32m6a_build_OTU_table.sh\u001b[0m*\n",
      "Install_Setup.ipynb\n",
      "target95_trnL_OTU_tax_assignments.txt\n",
      "Blast_results_formatted2OTUtable.tab\n",
      "target95_trnL_local_blast.tab\n",
      "target_trnL.uniq.fasta.ndb\n",
      "target_trnL.uniq.fasta.nos\n",
      "target_trnL.uniq.fasta.ntf\n"
     ]
    }
   ],
   "source": [
    "%ls -t | head"
   ]
  },
  {
   "cell_type": "code",
   "execution_count": 39,
   "metadata": {},
   "outputs": [
    {
     "data": {
      "text/html": [
       "<div>\n",
       "<style scoped>\n",
       "    .dataframe tbody tr th:only-of-type {\n",
       "        vertical-align: middle;\n",
       "    }\n",
       "\n",
       "    .dataframe tbody tr th {\n",
       "        vertical-align: top;\n",
       "    }\n",
       "\n",
       "    .dataframe thead th {\n",
       "        text-align: right;\n",
       "    }\n",
       "</style>\n",
       "<table border=\"1\" class=\"dataframe\">\n",
       "  <thead>\n",
       "    <tr style=\"text-align: right;\">\n",
       "      <th></th>\n",
       "      <th>OTU</th>\n",
       "      <th>total</th>\n",
       "      <th>cloud</th>\n",
       "      <th>amplicon</th>\n",
       "      <th>length</th>\n",
       "      <th>abundance</th>\n",
       "      <th>chimera</th>\n",
       "      <th>spread</th>\n",
       "      <th>quality</th>\n",
       "      <th>sequence</th>\n",
       "      <th>...</th>\n",
       "      <th>Paeonialactiflora_a_dp</th>\n",
       "      <th>Paeonialactiflora_b_dp</th>\n",
       "      <th>Peoniasuffruticosa_a_dp</th>\n",
       "      <th>Poriacocos_a_dp</th>\n",
       "      <th>Poriacocos_b_dp</th>\n",
       "      <th>Prunuspersica_a_dp</th>\n",
       "      <th>Prunuspersica_b_dp</th>\n",
       "      <th>Trogopterusxanthipes_a_dp</th>\n",
       "      <th>Trogopterusxanthipes_b_dp</th>\n",
       "      <th>unknown_dp</th>\n",
       "    </tr>\n",
       "  </thead>\n",
       "  <tbody>\n",
       "    <tr>\n",
       "      <th>0</th>\n",
       "      <td>1</td>\n",
       "      <td>87</td>\n",
       "      <td>10</td>\n",
       "      <td>8cdbd592419bf9c65aa2691a6c163fe4c16042bb</td>\n",
       "      <td>52</td>\n",
       "      <td>75</td>\n",
       "      <td>N</td>\n",
       "      <td>7</td>\n",
       "      <td>0.0001</td>\n",
       "      <td>ATCCTGTTTTCCGAAAACAAACACAAAGATTCAGAAAGCAAGAATA...</td>\n",
       "      <td>...</td>\n",
       "      <td>2</td>\n",
       "      <td>4</td>\n",
       "      <td>10</td>\n",
       "      <td>0</td>\n",
       "      <td>0</td>\n",
       "      <td>0</td>\n",
       "      <td>0</td>\n",
       "      <td>0</td>\n",
       "      <td>0</td>\n",
       "      <td>148</td>\n",
       "    </tr>\n",
       "    <tr>\n",
       "      <th>1</th>\n",
       "      <td>2</td>\n",
       "      <td>69</td>\n",
       "      <td>23</td>\n",
       "      <td>a84c749701d67d1226018c6714b72e543a618f16</td>\n",
       "      <td>102</td>\n",
       "      <td>44</td>\n",
       "      <td>N</td>\n",
       "      <td>4</td>\n",
       "      <td>0.0001</td>\n",
       "      <td>CTTTTTTTATATAAAAAAAAATTTTATAATATAATAAAAAATTTAG...</td>\n",
       "      <td>...</td>\n",
       "      <td>0</td>\n",
       "      <td>0</td>\n",
       "      <td>0</td>\n",
       "      <td>0</td>\n",
       "      <td>0</td>\n",
       "      <td>0</td>\n",
       "      <td>0</td>\n",
       "      <td>0</td>\n",
       "      <td>8</td>\n",
       "      <td>112</td>\n",
       "    </tr>\n",
       "    <tr>\n",
       "      <th>2</th>\n",
       "      <td>3</td>\n",
       "      <td>59</td>\n",
       "      <td>13</td>\n",
       "      <td>addff39eca064dd9caa294721e6a23cab9c331ab</td>\n",
       "      <td>45</td>\n",
       "      <td>47</td>\n",
       "      <td>N</td>\n",
       "      <td>4</td>\n",
       "      <td>0.0001</td>\n",
       "      <td>ATCCTATTTTCCAAAAACAAACAAAGGCCCAGAAGGTGAAAAAAG</td>\n",
       "      <td>...</td>\n",
       "      <td>0</td>\n",
       "      <td>0</td>\n",
       "      <td>0</td>\n",
       "      <td>0</td>\n",
       "      <td>0</td>\n",
       "      <td>0</td>\n",
       "      <td>0</td>\n",
       "      <td>0</td>\n",
       "      <td>0</td>\n",
       "      <td>88</td>\n",
       "    </tr>\n",
       "    <tr>\n",
       "      <th>3</th>\n",
       "      <td>4</td>\n",
       "      <td>58</td>\n",
       "      <td>14</td>\n",
       "      <td>967e951648145482fcc47f85b2a3530bec26d552</td>\n",
       "      <td>45</td>\n",
       "      <td>44</td>\n",
       "      <td>N</td>\n",
       "      <td>5</td>\n",
       "      <td>0.0001</td>\n",
       "      <td>CTTTTTTCACCTTCTGGGCCTTTGTTTGTTTTTGGAAAATAGGAT</td>\n",
       "      <td>...</td>\n",
       "      <td>0</td>\n",
       "      <td>0</td>\n",
       "      <td>2</td>\n",
       "      <td>0</td>\n",
       "      <td>0</td>\n",
       "      <td>0</td>\n",
       "      <td>0</td>\n",
       "      <td>0</td>\n",
       "      <td>0</td>\n",
       "      <td>104</td>\n",
       "    </tr>\n",
       "    <tr>\n",
       "      <th>4</th>\n",
       "      <td>5</td>\n",
       "      <td>55</td>\n",
       "      <td>12</td>\n",
       "      <td>9cb16aaf5f7887b597ac5fc1bba7e95e881b0d3c</td>\n",
       "      <td>52</td>\n",
       "      <td>44</td>\n",
       "      <td>N</td>\n",
       "      <td>4</td>\n",
       "      <td>0.0001</td>\n",
       "      <td>CTTTTTTATTCTTGCTTTCTGAATCTTTGTGTTTGTTTTCGGAAAA...</td>\n",
       "      <td>...</td>\n",
       "      <td>0</td>\n",
       "      <td>0</td>\n",
       "      <td>0</td>\n",
       "      <td>0</td>\n",
       "      <td>0</td>\n",
       "      <td>0</td>\n",
       "      <td>0</td>\n",
       "      <td>0</td>\n",
       "      <td>0</td>\n",
       "      <td>100</td>\n",
       "    </tr>\n",
       "    <tr>\n",
       "      <th>5</th>\n",
       "      <td>6</td>\n",
       "      <td>48</td>\n",
       "      <td>7</td>\n",
       "      <td>c65370ec20a9cdf9089e1983d7c5c3d4227a870b</td>\n",
       "      <td>77</td>\n",
       "      <td>42</td>\n",
       "      <td>N</td>\n",
       "      <td>2</td>\n",
       "      <td>0.0001</td>\n",
       "      <td>ATCTTTATTTGTTTTGTTTTTTATAAACCCTTTGGTTTATAAAAAA...</td>\n",
       "      <td>...</td>\n",
       "      <td>0</td>\n",
       "      <td>0</td>\n",
       "      <td>0</td>\n",
       "      <td>0</td>\n",
       "      <td>0</td>\n",
       "      <td>0</td>\n",
       "      <td>0</td>\n",
       "      <td>0</td>\n",
       "      <td>0</td>\n",
       "      <td>90</td>\n",
       "    </tr>\n",
       "    <tr>\n",
       "      <th>6</th>\n",
       "      <td>7</td>\n",
       "      <td>47</td>\n",
       "      <td>17</td>\n",
       "      <td>915b299b3e7e35a13fcc354b7bf2c72ba1c330fc</td>\n",
       "      <td>102</td>\n",
       "      <td>30</td>\n",
       "      <td>N</td>\n",
       "      <td>2</td>\n",
       "      <td>0.0001</td>\n",
       "      <td>ATCATTATTTTGAAAAAATATAAAAAAATATATAATATATATAGAA...</td>\n",
       "      <td>...</td>\n",
       "      <td>0</td>\n",
       "      <td>0</td>\n",
       "      <td>0</td>\n",
       "      <td>0</td>\n",
       "      <td>0</td>\n",
       "      <td>0</td>\n",
       "      <td>0</td>\n",
       "      <td>0</td>\n",
       "      <td>0</td>\n",
       "      <td>92</td>\n",
       "    </tr>\n",
       "    <tr>\n",
       "      <th>7</th>\n",
       "      <td>8</td>\n",
       "      <td>36</td>\n",
       "      <td>11</td>\n",
       "      <td>94385ff6f775ede0a8b76f5e4f3a9a0de58a4eca</td>\n",
       "      <td>77</td>\n",
       "      <td>25</td>\n",
       "      <td>N</td>\n",
       "      <td>2</td>\n",
       "      <td>0.0001</td>\n",
       "      <td>CTTTTTGATTTTTGATTCTAGTTTGTTTTGTTTTTTTATAAACCAA...</td>\n",
       "      <td>...</td>\n",
       "      <td>0</td>\n",
       "      <td>2</td>\n",
       "      <td>0</td>\n",
       "      <td>0</td>\n",
       "      <td>0</td>\n",
       "      <td>0</td>\n",
       "      <td>0</td>\n",
       "      <td>0</td>\n",
       "      <td>0</td>\n",
       "      <td>70</td>\n",
       "    </tr>\n",
       "    <tr>\n",
       "      <th>8</th>\n",
       "      <td>9</td>\n",
       "      <td>36</td>\n",
       "      <td>6</td>\n",
       "      <td>51f5ee433d9bd7bcab7dd619b067cac228be8d5d</td>\n",
       "      <td>51</td>\n",
       "      <td>31</td>\n",
       "      <td>N</td>\n",
       "      <td>4</td>\n",
       "      <td>0.0001</td>\n",
       "      <td>CTTTTTTATTCTCGGTTTATGAAACCCTTGTTTGTTTTAATAAAAC...</td>\n",
       "      <td>...</td>\n",
       "      <td>0</td>\n",
       "      <td>2</td>\n",
       "      <td>0</td>\n",
       "      <td>0</td>\n",
       "      <td>0</td>\n",
       "      <td>0</td>\n",
       "      <td>0</td>\n",
       "      <td>4</td>\n",
       "      <td>0</td>\n",
       "      <td>64</td>\n",
       "    </tr>\n",
       "    <tr>\n",
       "      <th>9</th>\n",
       "      <td>10</td>\n",
       "      <td>34</td>\n",
       "      <td>5</td>\n",
       "      <td>28bf85082548d49c8d3b2793064a2fae0f417562</td>\n",
       "      <td>51</td>\n",
       "      <td>30</td>\n",
       "      <td>N</td>\n",
       "      <td>4</td>\n",
       "      <td>0.0001</td>\n",
       "      <td>ATCCTGTTTTATTAAAACAAACAAGGGTTTCATAAACCGAGAATAA...</td>\n",
       "      <td>...</td>\n",
       "      <td>0</td>\n",
       "      <td>0</td>\n",
       "      <td>0</td>\n",
       "      <td>0</td>\n",
       "      <td>0</td>\n",
       "      <td>6</td>\n",
       "      <td>10</td>\n",
       "      <td>0</td>\n",
       "      <td>0</td>\n",
       "      <td>50</td>\n",
       "    </tr>\n",
       "  </tbody>\n",
       "</table>\n",
       "<p>10 rows × 42 columns</p>\n",
       "</div>"
      ],
      "text/plain": [
       "   OTU  total  cloud                                  amplicon  length  \\\n",
       "0    1     87     10  8cdbd592419bf9c65aa2691a6c163fe4c16042bb      52   \n",
       "1    2     69     23  a84c749701d67d1226018c6714b72e543a618f16     102   \n",
       "2    3     59     13  addff39eca064dd9caa294721e6a23cab9c331ab      45   \n",
       "3    4     58     14  967e951648145482fcc47f85b2a3530bec26d552      45   \n",
       "4    5     55     12  9cb16aaf5f7887b597ac5fc1bba7e95e881b0d3c      52   \n",
       "5    6     48      7  c65370ec20a9cdf9089e1983d7c5c3d4227a870b      77   \n",
       "6    7     47     17  915b299b3e7e35a13fcc354b7bf2c72ba1c330fc     102   \n",
       "7    8     36     11  94385ff6f775ede0a8b76f5e4f3a9a0de58a4eca      77   \n",
       "8    9     36      6  51f5ee433d9bd7bcab7dd619b067cac228be8d5d      51   \n",
       "9   10     34      5  28bf85082548d49c8d3b2793064a2fae0f417562      51   \n",
       "\n",
       "   abundance chimera  spread  quality  \\\n",
       "0         75       N       7   0.0001   \n",
       "1         44       N       4   0.0001   \n",
       "2         47       N       4   0.0001   \n",
       "3         44       N       5   0.0001   \n",
       "4         44       N       4   0.0001   \n",
       "5         42       N       2   0.0001   \n",
       "6         30       N       2   0.0001   \n",
       "7         25       N       2   0.0001   \n",
       "8         31       N       4   0.0001   \n",
       "9         30       N       4   0.0001   \n",
       "\n",
       "                                            sequence  ...  \\\n",
       "0  ATCCTGTTTTCCGAAAACAAACACAAAGATTCAGAAAGCAAGAATA...  ...   \n",
       "1  CTTTTTTTATATAAAAAAAAATTTTATAATATAATAAAAAATTTAG...  ...   \n",
       "2      ATCCTATTTTCCAAAAACAAACAAAGGCCCAGAAGGTGAAAAAAG  ...   \n",
       "3      CTTTTTTCACCTTCTGGGCCTTTGTTTGTTTTTGGAAAATAGGAT  ...   \n",
       "4  CTTTTTTATTCTTGCTTTCTGAATCTTTGTGTTTGTTTTCGGAAAA...  ...   \n",
       "5  ATCTTTATTTGTTTTGTTTTTTATAAACCCTTTGGTTTATAAAAAA...  ...   \n",
       "6  ATCATTATTTTGAAAAAATATAAAAAAATATATAATATATATAGAA...  ...   \n",
       "7  CTTTTTGATTTTTGATTCTAGTTTGTTTTGTTTTTTTATAAACCAA...  ...   \n",
       "8  CTTTTTTATTCTCGGTTTATGAAACCCTTGTTTGTTTTAATAAAAC...  ...   \n",
       "9  ATCCTGTTTTATTAAAACAAACAAGGGTTTCATAAACCGAGAATAA...  ...   \n",
       "\n",
       "   Paeonialactiflora_a_dp Paeonialactiflora_b_dp Peoniasuffruticosa_a_dp  \\\n",
       "0                       2                      4                      10   \n",
       "1                       0                      0                       0   \n",
       "2                       0                      0                       0   \n",
       "3                       0                      0                       2   \n",
       "4                       0                      0                       0   \n",
       "5                       0                      0                       0   \n",
       "6                       0                      0                       0   \n",
       "7                       0                      2                       0   \n",
       "8                       0                      2                       0   \n",
       "9                       0                      0                       0   \n",
       "\n",
       "   Poriacocos_a_dp  Poriacocos_b_dp  Prunuspersica_a_dp  Prunuspersica_b_dp  \\\n",
       "0                0                0                   0                   0   \n",
       "1                0                0                   0                   0   \n",
       "2                0                0                   0                   0   \n",
       "3                0                0                   0                   0   \n",
       "4                0                0                   0                   0   \n",
       "5                0                0                   0                   0   \n",
       "6                0                0                   0                   0   \n",
       "7                0                0                   0                   0   \n",
       "8                0                0                   0                   0   \n",
       "9                0                0                   6                  10   \n",
       "\n",
       "   Trogopterusxanthipes_a_dp  Trogopterusxanthipes_b_dp  unknown_dp  \n",
       "0                          0                          0         148  \n",
       "1                          0                          8         112  \n",
       "2                          0                          0          88  \n",
       "3                          0                          0         104  \n",
       "4                          0                          0         100  \n",
       "5                          0                          0          90  \n",
       "6                          0                          0          92  \n",
       "7                          0                          0          70  \n",
       "8                          4                          0          64  \n",
       "9                          0                          0          50  \n",
       "\n",
       "[10 rows x 42 columns]"
      ]
     },
     "execution_count": 39,
     "metadata": {},
     "output_type": "execute_result"
    }
   ],
   "source": [
    "get_glimpse_head('trnL_cluster_OTU_table_complete.tab')"
   ]
  },
  {
   "cell_type": "markdown",
   "metadata": {},
   "source": [
    "**The results have plenty of missing data and low quality entries. Let's pass a filter on it?**"
   ]
  },
  {
   "cell_type": "code",
   "execution_count": 169,
   "metadata": {},
   "outputs": [],
   "source": [
    "%%bash \n",
    "./6b_filter_OTU_table.sh \\\n",
    "    trnL_cluster_OTU_table_complete.tab \\\n",
    "    trnL_sub.qual"
   ]
  },
  {
   "cell_type": "code",
   "execution_count": 170,
   "metadata": {},
   "outputs": [
    {
     "name": "stdout",
     "output_type": "stream",
     "text": [
      "metapipe-run.ipynb\n",
      "trnL_cluster_OTU_table_f4_no_hit2_cut2phyloseq2.tab\n",
      "trnL_sub.ee\n",
      "trnL_cluster_OTU_table_f3_hits_only2_cut2phyloseq2.tab\n",
      "trnL_cluster_OTU_table_f4_no_hit2.tab\n",
      "trnL_cluster_OTU_table_f2_97up2_cut2phyloseq2.tab\n",
      "trnL_cluster_OTU_table_f3_hits_only2.tab\n",
      "trnL_cluster_OTU_table_f1_basics2_cut2phyloseq2.tab\n",
      "trnL_cluster_OTU_table_f2_97up2.tab\n",
      "trnL_cluster_OTU_table_f1_basics2.tab\n",
      "trnL_cluster_OTU_table_complete.tab\n",
      "\u001b[0m\u001b[01;32m6a_build_OTU_table.sh\u001b[0m*\n",
      "Install_Setup.ipynb\n",
      "target95_trnL_OTU_tax_assignments.txt\n",
      "Blast_results_formatted2OTUtable.tab\n",
      "target95_trnL_local_blast.tab\n",
      "target_trnL.uniq.fasta.ndb\n",
      "target_trnL.uniq.fasta.nos\n",
      "target_trnL.uniq.fasta.ntf\n",
      "target_trnL.uniq.fasta.nto\n"
     ]
    }
   ],
   "source": [
    "%ls -t | head -20"
   ]
  },
  {
   "cell_type": "markdown",
   "metadata": {},
   "source": [
    "**Let's recheck our data**"
   ]
  },
  {
   "cell_type": "code",
   "execution_count": 40,
   "metadata": {},
   "outputs": [
    {
     "data": {
      "text/html": [
       "<div>\n",
       "<style scoped>\n",
       "    .dataframe tbody tr th:only-of-type {\n",
       "        vertical-align: middle;\n",
       "    }\n",
       "\n",
       "    .dataframe tbody tr th {\n",
       "        vertical-align: top;\n",
       "    }\n",
       "\n",
       "    .dataframe thead th {\n",
       "        text-align: right;\n",
       "    }\n",
       "</style>\n",
       "<table border=\"1\" class=\"dataframe\">\n",
       "  <thead>\n",
       "    <tr style=\"text-align: right;\">\n",
       "      <th></th>\n",
       "      <th>amplicon</th>\n",
       "      <th>*</th>\n",
       "      <th>Angelicaesinensis_a</th>\n",
       "      <th>Angelicaesinensis_b</th>\n",
       "      <th>Carthamustinctorius_a</th>\n",
       "      <th>Carthamustinctorius_b</th>\n",
       "      <th>Citrusaurantium_a</th>\n",
       "      <th>Citrusaurantium_b</th>\n",
       "      <th>Cyperusrotundus_a</th>\n",
       "      <th>Cyperusrotundus_b</th>\n",
       "      <th>...</th>\n",
       "      <th>Paeonialactiflora_a</th>\n",
       "      <th>Paeonialactiflora_b</th>\n",
       "      <th>Peoniasuffruticosa_a</th>\n",
       "      <th>Poriacocos_a</th>\n",
       "      <th>Poriacocos_b</th>\n",
       "      <th>Prunuspersica_a</th>\n",
       "      <th>Prunuspersica_b</th>\n",
       "      <th>Trogopterusxanthipes_a</th>\n",
       "      <th>Trogopterusxanthipes_b</th>\n",
       "      <th>unknown</th>\n",
       "    </tr>\n",
       "  </thead>\n",
       "  <tbody>\n",
       "    <tr>\n",
       "      <th>0</th>\n",
       "      <td>8cdbd592419bf9c65aa2691a6c163fe4c16042bb</td>\n",
       "      <td>0</td>\n",
       "      <td>0</td>\n",
       "      <td>0</td>\n",
       "      <td>0</td>\n",
       "      <td>0</td>\n",
       "      <td>0</td>\n",
       "      <td>0</td>\n",
       "      <td>0</td>\n",
       "      <td>0</td>\n",
       "      <td>...</td>\n",
       "      <td>2</td>\n",
       "      <td>4</td>\n",
       "      <td>10</td>\n",
       "      <td>0</td>\n",
       "      <td>0</td>\n",
       "      <td>0</td>\n",
       "      <td>0</td>\n",
       "      <td>0</td>\n",
       "      <td>0</td>\n",
       "      <td>148</td>\n",
       "    </tr>\n",
       "    <tr>\n",
       "      <th>1</th>\n",
       "      <td>a84c749701d67d1226018c6714b72e543a618f16</td>\n",
       "      <td>0</td>\n",
       "      <td>0</td>\n",
       "      <td>6</td>\n",
       "      <td>12</td>\n",
       "      <td>0</td>\n",
       "      <td>0</td>\n",
       "      <td>0</td>\n",
       "      <td>0</td>\n",
       "      <td>0</td>\n",
       "      <td>...</td>\n",
       "      <td>0</td>\n",
       "      <td>0</td>\n",
       "      <td>0</td>\n",
       "      <td>0</td>\n",
       "      <td>0</td>\n",
       "      <td>0</td>\n",
       "      <td>0</td>\n",
       "      <td>0</td>\n",
       "      <td>8</td>\n",
       "      <td>112</td>\n",
       "    </tr>\n",
       "    <tr>\n",
       "      <th>2</th>\n",
       "      <td>addff39eca064dd9caa294721e6a23cab9c331ab</td>\n",
       "      <td>0</td>\n",
       "      <td>16</td>\n",
       "      <td>8</td>\n",
       "      <td>0</td>\n",
       "      <td>0</td>\n",
       "      <td>0</td>\n",
       "      <td>0</td>\n",
       "      <td>0</td>\n",
       "      <td>0</td>\n",
       "      <td>...</td>\n",
       "      <td>0</td>\n",
       "      <td>0</td>\n",
       "      <td>0</td>\n",
       "      <td>0</td>\n",
       "      <td>0</td>\n",
       "      <td>0</td>\n",
       "      <td>0</td>\n",
       "      <td>0</td>\n",
       "      <td>0</td>\n",
       "      <td>88</td>\n",
       "    </tr>\n",
       "    <tr>\n",
       "      <th>3</th>\n",
       "      <td>967e951648145482fcc47f85b2a3530bec26d552</td>\n",
       "      <td>0</td>\n",
       "      <td>0</td>\n",
       "      <td>0</td>\n",
       "      <td>0</td>\n",
       "      <td>0</td>\n",
       "      <td>0</td>\n",
       "      <td>0</td>\n",
       "      <td>0</td>\n",
       "      <td>0</td>\n",
       "      <td>...</td>\n",
       "      <td>0</td>\n",
       "      <td>0</td>\n",
       "      <td>2</td>\n",
       "      <td>0</td>\n",
       "      <td>0</td>\n",
       "      <td>0</td>\n",
       "      <td>0</td>\n",
       "      <td>0</td>\n",
       "      <td>0</td>\n",
       "      <td>104</td>\n",
       "    </tr>\n",
       "    <tr>\n",
       "      <th>4</th>\n",
       "      <td>9cb16aaf5f7887b597ac5fc1bba7e95e881b0d3c</td>\n",
       "      <td>0</td>\n",
       "      <td>0</td>\n",
       "      <td>0</td>\n",
       "      <td>0</td>\n",
       "      <td>0</td>\n",
       "      <td>0</td>\n",
       "      <td>0</td>\n",
       "      <td>0</td>\n",
       "      <td>0</td>\n",
       "      <td>...</td>\n",
       "      <td>0</td>\n",
       "      <td>0</td>\n",
       "      <td>0</td>\n",
       "      <td>0</td>\n",
       "      <td>0</td>\n",
       "      <td>0</td>\n",
       "      <td>0</td>\n",
       "      <td>0</td>\n",
       "      <td>0</td>\n",
       "      <td>100</td>\n",
       "    </tr>\n",
       "    <tr>\n",
       "      <th>5</th>\n",
       "      <td>c65370ec20a9cdf9089e1983d7c5c3d4227a870b</td>\n",
       "      <td>0</td>\n",
       "      <td>0</td>\n",
       "      <td>0</td>\n",
       "      <td>0</td>\n",
       "      <td>0</td>\n",
       "      <td>0</td>\n",
       "      <td>0</td>\n",
       "      <td>0</td>\n",
       "      <td>0</td>\n",
       "      <td>...</td>\n",
       "      <td>0</td>\n",
       "      <td>0</td>\n",
       "      <td>0</td>\n",
       "      <td>0</td>\n",
       "      <td>0</td>\n",
       "      <td>0</td>\n",
       "      <td>0</td>\n",
       "      <td>0</td>\n",
       "      <td>0</td>\n",
       "      <td>90</td>\n",
       "    </tr>\n",
       "    <tr>\n",
       "      <th>6</th>\n",
       "      <td>915b299b3e7e35a13fcc354b7bf2c72ba1c330fc</td>\n",
       "      <td>0</td>\n",
       "      <td>0</td>\n",
       "      <td>0</td>\n",
       "      <td>0</td>\n",
       "      <td>0</td>\n",
       "      <td>0</td>\n",
       "      <td>0</td>\n",
       "      <td>0</td>\n",
       "      <td>2</td>\n",
       "      <td>...</td>\n",
       "      <td>0</td>\n",
       "      <td>0</td>\n",
       "      <td>0</td>\n",
       "      <td>0</td>\n",
       "      <td>0</td>\n",
       "      <td>0</td>\n",
       "      <td>0</td>\n",
       "      <td>0</td>\n",
       "      <td>0</td>\n",
       "      <td>92</td>\n",
       "    </tr>\n",
       "    <tr>\n",
       "      <th>7</th>\n",
       "      <td>94385ff6f775ede0a8b76f5e4f3a9a0de58a4eca</td>\n",
       "      <td>0</td>\n",
       "      <td>0</td>\n",
       "      <td>0</td>\n",
       "      <td>0</td>\n",
       "      <td>0</td>\n",
       "      <td>0</td>\n",
       "      <td>0</td>\n",
       "      <td>0</td>\n",
       "      <td>0</td>\n",
       "      <td>...</td>\n",
       "      <td>0</td>\n",
       "      <td>2</td>\n",
       "      <td>0</td>\n",
       "      <td>0</td>\n",
       "      <td>0</td>\n",
       "      <td>0</td>\n",
       "      <td>0</td>\n",
       "      <td>0</td>\n",
       "      <td>0</td>\n",
       "      <td>70</td>\n",
       "    </tr>\n",
       "    <tr>\n",
       "      <th>8</th>\n",
       "      <td>51f5ee433d9bd7bcab7dd619b067cac228be8d5d</td>\n",
       "      <td>0</td>\n",
       "      <td>0</td>\n",
       "      <td>0</td>\n",
       "      <td>0</td>\n",
       "      <td>0</td>\n",
       "      <td>0</td>\n",
       "      <td>0</td>\n",
       "      <td>0</td>\n",
       "      <td>0</td>\n",
       "      <td>...</td>\n",
       "      <td>0</td>\n",
       "      <td>2</td>\n",
       "      <td>0</td>\n",
       "      <td>0</td>\n",
       "      <td>0</td>\n",
       "      <td>0</td>\n",
       "      <td>0</td>\n",
       "      <td>4</td>\n",
       "      <td>0</td>\n",
       "      <td>64</td>\n",
       "    </tr>\n",
       "    <tr>\n",
       "      <th>9</th>\n",
       "      <td>28bf85082548d49c8d3b2793064a2fae0f417562</td>\n",
       "      <td>0</td>\n",
       "      <td>0</td>\n",
       "      <td>0</td>\n",
       "      <td>0</td>\n",
       "      <td>0</td>\n",
       "      <td>0</td>\n",
       "      <td>0</td>\n",
       "      <td>0</td>\n",
       "      <td>0</td>\n",
       "      <td>...</td>\n",
       "      <td>0</td>\n",
       "      <td>0</td>\n",
       "      <td>0</td>\n",
       "      <td>0</td>\n",
       "      <td>0</td>\n",
       "      <td>6</td>\n",
       "      <td>10</td>\n",
       "      <td>0</td>\n",
       "      <td>0</td>\n",
       "      <td>50</td>\n",
       "    </tr>\n",
       "  </tbody>\n",
       "</table>\n",
       "<p>10 rows × 30 columns</p>\n",
       "</div>"
      ],
      "text/plain": [
       "                                   amplicon  *  Angelicaesinensis_a  \\\n",
       "0  8cdbd592419bf9c65aa2691a6c163fe4c16042bb  0                    0   \n",
       "1  a84c749701d67d1226018c6714b72e543a618f16  0                    0   \n",
       "2  addff39eca064dd9caa294721e6a23cab9c331ab  0                   16   \n",
       "3  967e951648145482fcc47f85b2a3530bec26d552  0                    0   \n",
       "4  9cb16aaf5f7887b597ac5fc1bba7e95e881b0d3c  0                    0   \n",
       "5  c65370ec20a9cdf9089e1983d7c5c3d4227a870b  0                    0   \n",
       "6  915b299b3e7e35a13fcc354b7bf2c72ba1c330fc  0                    0   \n",
       "7  94385ff6f775ede0a8b76f5e4f3a9a0de58a4eca  0                    0   \n",
       "8  51f5ee433d9bd7bcab7dd619b067cac228be8d5d  0                    0   \n",
       "9  28bf85082548d49c8d3b2793064a2fae0f417562  0                    0   \n",
       "\n",
       "   Angelicaesinensis_b  Carthamustinctorius_a  Carthamustinctorius_b  \\\n",
       "0                    0                      0                      0   \n",
       "1                    6                     12                      0   \n",
       "2                    8                      0                      0   \n",
       "3                    0                      0                      0   \n",
       "4                    0                      0                      0   \n",
       "5                    0                      0                      0   \n",
       "6                    0                      0                      0   \n",
       "7                    0                      0                      0   \n",
       "8                    0                      0                      0   \n",
       "9                    0                      0                      0   \n",
       "\n",
       "   Citrusaurantium_a  Citrusaurantium_b  Cyperusrotundus_a  Cyperusrotundus_b  \\\n",
       "0                  0                  0                  0                  0   \n",
       "1                  0                  0                  0                  0   \n",
       "2                  0                  0                  0                  0   \n",
       "3                  0                  0                  0                  0   \n",
       "4                  0                  0                  0                  0   \n",
       "5                  0                  0                  0                  0   \n",
       "6                  0                  0                  0                  2   \n",
       "7                  0                  0                  0                  0   \n",
       "8                  0                  0                  0                  0   \n",
       "9                  0                  0                  0                  0   \n",
       "\n",
       "   ...  Paeonialactiflora_a  Paeonialactiflora_b  Peoniasuffruticosa_a  \\\n",
       "0  ...                    2                    4                    10   \n",
       "1  ...                    0                    0                     0   \n",
       "2  ...                    0                    0                     0   \n",
       "3  ...                    0                    0                     2   \n",
       "4  ...                    0                    0                     0   \n",
       "5  ...                    0                    0                     0   \n",
       "6  ...                    0                    0                     0   \n",
       "7  ...                    0                    2                     0   \n",
       "8  ...                    0                    2                     0   \n",
       "9  ...                    0                    0                     0   \n",
       "\n",
       "   Poriacocos_a  Poriacocos_b  Prunuspersica_a  Prunuspersica_b  \\\n",
       "0             0             0                0                0   \n",
       "1             0             0                0                0   \n",
       "2             0             0                0                0   \n",
       "3             0             0                0                0   \n",
       "4             0             0                0                0   \n",
       "5             0             0                0                0   \n",
       "6             0             0                0                0   \n",
       "7             0             0                0                0   \n",
       "8             0             0                0                0   \n",
       "9             0             0                6               10   \n",
       "\n",
       "   Trogopterusxanthipes_a  Trogopterusxanthipes_b  unknown  \n",
       "0                       0                       0      148  \n",
       "1                       0                       8      112  \n",
       "2                       0                       0       88  \n",
       "3                       0                       0      104  \n",
       "4                       0                       0      100  \n",
       "5                       0                       0       90  \n",
       "6                       0                       0       92  \n",
       "7                       0                       0       70  \n",
       "8                       4                       0       64  \n",
       "9                       0                       0       50  \n",
       "\n",
       "[10 rows x 30 columns]"
      ]
     },
     "execution_count": 40,
     "metadata": {},
     "output_type": "execute_result"
    }
   ],
   "source": [
    "get_glimpse_head('trnL_cluster_OTU_table_f1_basics2_cut2phyloseq2.tab')"
   ]
  },
  {
   "cell_type": "markdown",
   "metadata": {},
   "source": [
    "**Let's use some metadata to have more information on the data?**"
   ]
  },
  {
   "cell_type": "code",
   "execution_count": 41,
   "metadata": {},
   "outputs": [
    {
     "data": {
      "text/html": [
       "<div>\n",
       "<style scoped>\n",
       "    .dataframe tbody tr th:only-of-type {\n",
       "        vertical-align: middle;\n",
       "    }\n",
       "\n",
       "    .dataframe tbody tr th {\n",
       "        vertical-align: top;\n",
       "    }\n",
       "\n",
       "    .dataframe thead th {\n",
       "        text-align: right;\n",
       "    }\n",
       "</style>\n",
       "<table border=\"1\" class=\"dataframe\">\n",
       "  <thead>\n",
       "    <tr style=\"text-align: right;\">\n",
       "      <th></th>\n",
       "      <th>SampleID</th>\n",
       "      <th>SampleName</th>\n",
       "      <th>Replicate</th>\n",
       "      <th>Experiment</th>\n",
       "      <th>Exp_fam</th>\n",
       "      <th>Exp_genus</th>\n",
       "    </tr>\n",
       "  </thead>\n",
       "  <tbody>\n",
       "    <tr>\n",
       "      <th>0</th>\n",
       "      <td>Angelicaesinensis_a</td>\n",
       "      <td>Angelicaesinensis_a</td>\n",
       "      <td>Angelicaesinensis</td>\n",
       "      <td>Exp1</td>\n",
       "      <td>Apiaceae</td>\n",
       "      <td>Angelica</td>\n",
       "    </tr>\n",
       "    <tr>\n",
       "      <th>1</th>\n",
       "      <td>Angelicaesinensis_b</td>\n",
       "      <td>Angelicaesinensis_b</td>\n",
       "      <td>Angelicaesinensis</td>\n",
       "      <td>Exp1</td>\n",
       "      <td>Apiaceae</td>\n",
       "      <td>Angelica</td>\n",
       "    </tr>\n",
       "    <tr>\n",
       "      <th>2</th>\n",
       "      <td>Carthamustinctorius_a</td>\n",
       "      <td>Carthamustinctorius_a</td>\n",
       "      <td>Carthamustinctorius</td>\n",
       "      <td>Exp2</td>\n",
       "      <td>Asteraceae</td>\n",
       "      <td>Carthamus</td>\n",
       "    </tr>\n",
       "    <tr>\n",
       "      <th>3</th>\n",
       "      <td>Carthamustinctorius_b</td>\n",
       "      <td>Carthamustinctorius_b</td>\n",
       "      <td>Carthamustinctorius</td>\n",
       "      <td>Exp2</td>\n",
       "      <td>Asteraceae</td>\n",
       "      <td>Carthamus</td>\n",
       "    </tr>\n",
       "    <tr>\n",
       "      <th>4</th>\n",
       "      <td>Citrusaurantium_a</td>\n",
       "      <td>Citrusaurantium_a</td>\n",
       "      <td>Citrusaurantium</td>\n",
       "      <td>Exp3</td>\n",
       "      <td>Rutaceae</td>\n",
       "      <td>Citrus</td>\n",
       "    </tr>\n",
       "    <tr>\n",
       "      <th>5</th>\n",
       "      <td>Citrusaurantium_b</td>\n",
       "      <td>Citrusaurantium_b</td>\n",
       "      <td>Citrusaurantium</td>\n",
       "      <td>Exp3</td>\n",
       "      <td>Rutaceae</td>\n",
       "      <td>Citrus</td>\n",
       "    </tr>\n",
       "    <tr>\n",
       "      <th>6</th>\n",
       "      <td>Cyperusrotundus_a</td>\n",
       "      <td>Cyperusrotundus_a</td>\n",
       "      <td>Cyperusrotundus</td>\n",
       "      <td>Exp4</td>\n",
       "      <td>Cypereae</td>\n",
       "      <td>Cyperus</td>\n",
       "    </tr>\n",
       "    <tr>\n",
       "      <th>7</th>\n",
       "      <td>Cyperusrotundus_b</td>\n",
       "      <td>Cyperusrotundus_b</td>\n",
       "      <td>Cyperusrotundus</td>\n",
       "      <td>Exp4</td>\n",
       "      <td>Cypereae</td>\n",
       "      <td>Cyperus</td>\n",
       "    </tr>\n",
       "    <tr>\n",
       "      <th>8</th>\n",
       "      <td>Glycyrrhizauralensis_a</td>\n",
       "      <td>Glycyrrhizauralensis_a</td>\n",
       "      <td>Glycyrrhizauralensis</td>\n",
       "      <td>Exp5</td>\n",
       "      <td>Fabaceae</td>\n",
       "      <td>Glycyrrhiza</td>\n",
       "    </tr>\n",
       "    <tr>\n",
       "      <th>9</th>\n",
       "      <td>Glycyrrhizauralensis_b</td>\n",
       "      <td>Glycyrrhizauralensis_b</td>\n",
       "      <td>Glycyrrhizauralensis</td>\n",
       "      <td>Exp5</td>\n",
       "      <td>Fabaceae</td>\n",
       "      <td>Glycyrrhiza</td>\n",
       "    </tr>\n",
       "  </tbody>\n",
       "</table>\n",
       "</div>"
      ],
      "text/plain": [
       "                 SampleID              SampleName             Replicate  \\\n",
       "0     Angelicaesinensis_a     Angelicaesinensis_a     Angelicaesinensis   \n",
       "1     Angelicaesinensis_b     Angelicaesinensis_b     Angelicaesinensis   \n",
       "2   Carthamustinctorius_a   Carthamustinctorius_a   Carthamustinctorius   \n",
       "3   Carthamustinctorius_b   Carthamustinctorius_b   Carthamustinctorius   \n",
       "4       Citrusaurantium_a       Citrusaurantium_a       Citrusaurantium   \n",
       "5       Citrusaurantium_b       Citrusaurantium_b       Citrusaurantium   \n",
       "6       Cyperusrotundus_a       Cyperusrotundus_a       Cyperusrotundus   \n",
       "7       Cyperusrotundus_b       Cyperusrotundus_b       Cyperusrotundus   \n",
       "8  Glycyrrhizauralensis_a  Glycyrrhizauralensis_a  Glycyrrhizauralensis   \n",
       "9  Glycyrrhizauralensis_b  Glycyrrhizauralensis_b  Glycyrrhizauralensis   \n",
       "\n",
       "  Experiment     Exp_fam    Exp_genus  \n",
       "0       Exp1    Apiaceae     Angelica  \n",
       "1       Exp1    Apiaceae     Angelica  \n",
       "2       Exp2  Asteraceae    Carthamus  \n",
       "3       Exp2  Asteraceae    Carthamus  \n",
       "4       Exp3    Rutaceae       Citrus  \n",
       "5       Exp3    Rutaceae       Citrus  \n",
       "6       Exp4    Cypereae      Cyperus  \n",
       "7       Exp4    Cypereae      Cyperus  \n",
       "8       Exp5    Fabaceae  Glycyrrhiza  \n",
       "9       Exp5    Fabaceae  Glycyrrhiza  "
      ]
     },
     "execution_count": 41,
     "metadata": {},
     "output_type": "execute_result"
    }
   ],
   "source": [
    "get_glimpse_head('trnL_sub_metadata.txt')"
   ]
  },
  {
   "cell_type": "markdown",
   "metadata": {},
   "source": [
    "**Let's save these files on our GCP Storage**"
   ]
  },
  {
   "cell_type": "code",
   "execution_count": 175,
   "metadata": {},
   "outputs": [
    {
     "name": "stdout",
     "output_type": "stream",
     "text": [
      "Copying file://trnL_sub_metadata.txt [Content-Type=text/plain]...\n",
      "/ [1 files][  2.6 KiB/  2.6 KiB]                                                \n",
      "Operation completed over 1 objects/2.6 KiB.                                      \n"
     ]
    }
   ],
   "source": [
    "!gsutil cp trnL_sub_metadata.txt gs://metapipe-files"
   ]
  },
  {
   "cell_type": "code",
   "execution_count": 176,
   "metadata": {
    "collapsed": true,
    "jupyter": {
     "outputs_hidden": true
    },
    "tags": []
   },
   "outputs": [
    {
     "name": "stdout",
     "output_type": "stream",
     "text": [
      "Copying file://trnL_cluster_OTU_table_f1_basics2.tab [Content-Type=application/octet-stream]...\n",
      "Copying file://trnL_cluster_OTU_table_f1_basics2_cut2phyloseq2.tab [Content-Type=application/octet-stream]...\n",
      "Copying file://trnL_cluster_OTU_table_f2_97up2.tab [Content-Type=application/octet-stream]...\n",
      "Copying file://trnL_cluster_OTU_table_f2_97up2_cut2phyloseq2.tab [Content-Type=application/octet-stream]...\n",
      "- [4 files][ 25.4 KiB/ 25.4 KiB]                                                \n",
      "==> NOTE: You are performing a sequence of gsutil operations that may\n",
      "run significantly faster if you instead use gsutil -m cp ... Please\n",
      "see the -m section under \"gsutil help options\" for further information\n",
      "about when gsutil -m can be advantageous.\n",
      "\n",
      "Copying file://trnL_cluster_OTU_table_f3_hits_only2.tab [Content-Type=application/octet-stream]...\n",
      "Copying file://trnL_cluster_OTU_table_f3_hits_only2_cut2phyloseq2.tab [Content-Type=application/octet-stream]...\n",
      "Copying file://trnL_cluster_OTU_table_f4_no_hit2.tab [Content-Type=application/octet-stream]...\n",
      "Copying file://trnL_cluster_OTU_table_f4_no_hit2_cut2phyloseq2.tab [Content-Type=application/octet-stream]...\n",
      "| [8 files][ 39.2 KiB/ 39.2 KiB]                                                \n",
      "Operation completed over 8 objects/39.2 KiB.                                     \n"
     ]
    }
   ],
   "source": [
    "!gsutil cp trnL_cluster_OTU_table_f* gs://metapipe-files"
   ]
  },
  {
   "cell_type": "markdown",
   "metadata": {},
   "source": [
    "https://console.cloud.google.com/marketplace/product/rstudio-launcher-public/rstudio-server-pro-standard-for-gcp?q=rstudio&id=76ae9647-2d08-4888-b737-74f751581848&project=metapipe"
   ]
  },
  {
   "cell_type": "code",
   "execution_count": 177,
   "metadata": {},
   "outputs": [
    {
     "name": "stdout",
     "output_type": "stream",
     "text": [
      "Copying file://target95_trnL_OTU_tax_assignments.txt [Content-Type=text/plain]...\n",
      "/ [1 files][  6.3 KiB/  6.3 KiB]                                                \n",
      "Operation completed over 1 objects/6.3 KiB.                                      \n"
     ]
    }
   ],
   "source": [
    "!gsutil cp target95_trnL_OTU_tax_assignments.txt gs://metapipe-files"
   ]
  },
  {
   "cell_type": "markdown",
   "metadata": {},
   "source": [
    "**How our final resulting file looks like?**"
   ]
  },
  {
   "cell_type": "code",
   "execution_count": 178,
   "metadata": {
    "tags": []
   },
   "outputs": [
    {
     "name": "stdout",
     "output_type": "stream",
     "text": [
      "c65370ec20a9cdf9089e1983d7c5c3d4227a870b\tEukaryota\tStreptophyta\tMagnoliopsida\tDioscoreales\tDioscoreaceae\tDioscorea\tjaponica\t100.000\t48\n",
      "94385ff6f775ede0a8b76f5e4f3a9a0de58a4eca\tEukaryota\tStreptophyta\tMagnoliopsida\tDioscoreales\tDioscoreaceae\tDioscorea\tjaponica\t100.000\t36\n"
     ]
    }
   ],
   "source": [
    "!grep \"Dioscoreaceae\" target95_trnL_OTU_tax_assignments.txt"
   ]
  },
  {
   "cell_type": "markdown",
   "metadata": {},
   "source": [
    "**Now let's visualise the distribution of OTU abundance for each selected amplicon. For that, we must create a function to make things easier:**"
   ]
  },
  {
   "cell_type": "code",
   "execution_count": 42,
   "metadata": {},
   "outputs": [],
   "source": [
    "def plot_OTU_bars(amplicon, assignments, nbins, width):\n",
    "    # Import the necessary modules\n",
    "    import matplotlib.pyplot as plt\n",
    "    import numpy as np\n",
    "    import seaborn as sns\n",
    "    import pandas as pd\n",
    "    \n",
    "    # import data\n",
    "    data = pd.read_csv(assignments, sep='\\t')\n",
    "    \n",
    "    # apply filter\n",
    "    selection = pd.DataFrame(data).amplicon.str.contains(amplicon)\n",
    "    df = data[selection].set_index('amplicon').T\n",
    "    df.reset_index(inplace=True)\n",
    "    \n",
    "    # create barplot\n",
    "    bar_plot = sns.barplot(x='index', y=str(amplicon), data=df)\n",
    "\n",
    "    # show plot with custom width\n",
    "    sns.set(rc={'figure.figsize':(width,9)})\n",
    "    plt.xticks(rotation='vertical')\n",
    "    plt.ylabel(\"Abundance\")\n",
    "    plt.xlabel(\"Sample\")\n",
    "    bar_plot\n",
    "\n",
    "    # return results\n",
    "    return bar_plot"
   ]
  },
  {
   "cell_type": "markdown",
   "metadata": {},
   "source": [
    "**Let's check the Top6 OTUs from the whole dataset:**"
   ]
  },
  {
   "cell_type": "code",
   "execution_count": 236,
   "metadata": {},
   "outputs": [
    {
     "name": "stdout",
     "output_type": "stream",
     "text": [
      "ac90db76fbae68003ec939d36b9847a46cbfa3c7\tEukaryota\tStreptophyta\tMagnoliopsida\tSapindales\tRutaceae\tCitrus\tmicrantha\t100.000\t26\n"
     ]
    }
   ],
   "source": [
    "!grep \"ac90db76fbae68003ec939d36b9847a46cbfa3c7\" target95_trnL_OTU_tax_assignments.txt"
   ]
  },
  {
   "cell_type": "code",
   "execution_count": 43,
   "metadata": {},
   "outputs": [
    {
     "data": {
      "text/plain": [
       "<AxesSubplot:xlabel='Sample', ylabel='Abundance'>"
      ]
     },
     "execution_count": 43,
     "metadata": {},
     "output_type": "execute_result"
    },
    {
     "data": {
      "image/png": "[encoded data removed]",
      "text/plain": [
       "<Figure size 720x648 with 1 Axes>"
      ]
     },
     "metadata": {},
     "output_type": "display_data"
    }
   ],
   "source": [
    "plot_OTU_bars(\n",
    "    \"ac90db76fbae68003ec939d36b9847a46cbfa3c7\", \n",
    "    \"trnL_cluster_OTU_table_f1_basics2_cut2phyloseq2.tab\", \n",
    "    15,  # number of bins (bars)\n",
    "    10)  # width"
   ]
  },
  {
   "cell_type": "markdown",
   "metadata": {},
   "source": [
    "**We observe that Rutaceae Citrus micrantha is more abundant in Citrusaurantium_b sample.**"
   ]
  },
  {
   "cell_type": "code",
   "execution_count": 240,
   "metadata": {},
   "outputs": [
    {
     "name": "stdout",
     "output_type": "stream",
     "text": [
      "2987db85c9fae5a1464f814e070b7507621e8a57\tEukaryota\tStreptophyta\tMagnoliopsida\tPoales\tPoaceae\tZea\tmays\t100.000\t23\n"
     ]
    }
   ],
   "source": [
    "!grep \"2987db85c9fae5a1464f814e070b7507621e8a57\" target95_trnL_OTU_tax_assignments.txt"
   ]
  },
  {
   "cell_type": "code",
   "execution_count": 241,
   "metadata": {},
   "outputs": [
    {
     "data": {
      "text/plain": [
       "<AxesSubplot:xlabel='index', ylabel='Abundance'>"
      ]
     },
     "execution_count": 241,
     "metadata": {},
     "output_type": "execute_result"
    },
    {
     "data": {
      "image/png": "[encoded data removed]",
      "text/plain": [
       "<Figure size 720x648 with 1 Axes>"
      ]
     },
     "metadata": {},
     "output_type": "display_data"
    }
   ],
   "source": [
    "plot_OTU_bars(\n",
    "    \"2987db85c9fae5a1464f814e070b7507621e8a57\", \n",
    "    \"trnL_cluster_OTU_table_f1_basics2_cut2phyloseq2.tab\", \n",
    "    15,  # number of bins (bars)\n",
    "    10)  # width"
   ]
  },
  {
   "cell_type": "markdown",
   "metadata": {},
   "source": [
    "**We observe that Poaceae Zea mays is more abundant in GZFLW_a sample.**"
   ]
  },
  {
   "cell_type": "code",
   "execution_count": 242,
   "metadata": {},
   "outputs": [
    {
     "name": "stdout",
     "output_type": "stream",
     "text": [
      "addff39eca064dd9caa294721e6a23cab9c331ab\tEukaryota\tStreptophyta\tMagnoliopsida\tApiales\tApiaceae\tSelinum\tcarvifolia\t100.000\t59\n"
     ]
    }
   ],
   "source": [
    "!grep \"addff39eca064dd9caa294721e6a23cab9c331ab\" target95_trnL_OTU_tax_assignments.txt"
   ]
  },
  {
   "cell_type": "code",
   "execution_count": 243,
   "metadata": {},
   "outputs": [
    {
     "data": {
      "text/plain": [
       "<AxesSubplot:xlabel='index', ylabel='Abundance'>"
      ]
     },
     "execution_count": 243,
     "metadata": {},
     "output_type": "execute_result"
    },
    {
     "data": {
      "image/png": "[encoded data removed]",
      "text/plain": [
       "<Figure size 720x648 with 1 Axes>"
      ]
     },
     "metadata": {},
     "output_type": "display_data"
    }
   ],
   "source": [
    "plot_OTU_bars(\n",
    "    \"addff39eca064dd9caa294721e6a23cab9c331ab\", \n",
    "    \"trnL_cluster_OTU_table_f1_basics2_cut2phyloseq2.tab\", \n",
    "    15,  # number of bins (bars)\n",
    "    10)  # width"
   ]
  },
  {
   "cell_type": "markdown",
   "metadata": {},
   "source": [
    "**We observe that Apiaceae Selinum carvifolia is more abundant in Angelicaesinensis_a sample.**"
   ]
  },
  {
   "cell_type": "code",
   "execution_count": 244,
   "metadata": {},
   "outputs": [
    {
     "name": "stdout",
     "output_type": "stream",
     "text": [
      "a069993ab97b3f720cf66567bfb1fad838b20dc6\tEukaryota\tStreptophyta\tMagnoliopsida\tLaurales\tLauraceae\tCinnamomum\tcamphora\t100.000\t11\n"
     ]
    }
   ],
   "source": [
    "!grep \"a069993ab97b3f720cf66567bfb1fad838b20dc6\" target95_trnL_OTU_tax_assignments.txt"
   ]
  },
  {
   "cell_type": "code",
   "execution_count": 245,
   "metadata": {},
   "outputs": [
    {
     "data": {
      "text/plain": [
       "<AxesSubplot:xlabel='index', ylabel='Abundance'>"
      ]
     },
     "execution_count": 245,
     "metadata": {},
     "output_type": "execute_result"
    },
    {
     "data": {
      "image/png": "[encoded data removed]",
      "text/plain": [
       "<Figure size 720x648 with 1 Axes>"
      ]
     },
     "metadata": {},
     "output_type": "display_data"
    }
   ],
   "source": [
    "plot_OTU_bars(\n",
    "    \"a069993ab97b3f720cf66567bfb1fad838b20dc6\", \n",
    "    \"trnL_cluster_OTU_table_f1_basics2_cut2phyloseq2.tab\", \n",
    "    15,  # number of bins (bars)\n",
    "    10)  # width"
   ]
  },
  {
   "cell_type": "markdown",
   "metadata": {},
   "source": [
    "**We observe that Lauraceae Cinnamomum camphora is more abundant in Cyperusrotundus_a sample.**\n",
    "\n",
    "> Aqui acredito que você escreveu errado a amostra"
   ]
  },
  {
   "cell_type": "code",
   "execution_count": 90,
   "metadata": {},
   "outputs": [
    {
     "name": "stdout",
     "output_type": "stream",
     "text": [
      "28bf85082548d49c8d3b2793064a2fae0f417562\tEukaryota\tStreptophyta\tMagnoliopsida\tRosales\tRosaceae\tPrunus\tsunhangii\t100.000\t34741\n"
     ]
    }
   ],
   "source": [
    "!grep \"28bf85082548d49c8d3b2793064a2fae0f417562\" target95_trnL_OTU_tax_assignments.txt"
   ]
  },
  {
   "cell_type": "code",
   "execution_count": 246,
   "metadata": {},
   "outputs": [
    {
     "data": {
      "text/plain": [
       "<AxesSubplot:xlabel='index', ylabel='Abundance'>"
      ]
     },
     "execution_count": 246,
     "metadata": {},
     "output_type": "execute_result"
    },
    {
     "data": {
      "image/png": "[encoded data removed]",
      "text/plain": [
       "<Figure size 720x648 with 1 Axes>"
      ]
     },
     "metadata": {},
     "output_type": "display_data"
    }
   ],
   "source": [
    "plot_OTU_bars(\n",
    "    \"28bf85082548d49c8d3b2793064a2fae0f417562\", \n",
    "    \"trnL_cluster_OTU_table_f1_basics2_cut2phyloseq2.tab\", \n",
    "    15,  # number of bins (bars)\n",
    "    10)  # width"
   ]
  },
  {
   "cell_type": "markdown",
   "metadata": {},
   "source": [
    "**We observe that Rosaceae Prunus sunhangii is more abundant in Prunuspersica_b sample.**"
   ]
  },
  {
   "cell_type": "code",
   "execution_count": 91,
   "metadata": {},
   "outputs": [
    {
     "name": "stdout",
     "output_type": "stream",
     "text": [
      "967e951648145482fcc47f85b2a3530bec26d552\tEukaryota\tStreptophyta\tMagnoliopsida\tApiales\tApiaceae\tSelinum\tcarvifolia\t100.000\t33003\n"
     ]
    }
   ],
   "source": [
    "!grep \"967e951648145482fcc47f85b2a3530bec26d552\" target95_trnL_OTU_tax_assignments.txt"
   ]
  },
  {
   "cell_type": "code",
   "execution_count": 247,
   "metadata": {},
   "outputs": [
    {
     "data": {
      "text/plain": [
       "<AxesSubplot:xlabel='index', ylabel='Abundance'>"
      ]
     },
     "execution_count": 247,
     "metadata": {},
     "output_type": "execute_result"
    },
    {
     "data": {
      "image/png": "[encoded data removed]",
      "text/plain": [
       "<Figure size 720x648 with 1 Axes>"
      ]
     },
     "metadata": {},
     "output_type": "display_data"
    }
   ],
   "source": [
    "plot_OTU_bars(\n",
    "    \"967e951648145482fcc47f85b2a3530bec26d552\", \n",
    "    \"trnL_cluster_OTU_table_f1_basics2_cut2phyloseq2.tab\", \n",
    "    15,  # number of bins (bars)\n",
    "    10)  # width"
   ]
  },
  {
   "cell_type": "markdown",
   "metadata": {},
   "source": [
    "**We observe that Apiaceae Selinum carvifolia is more abundant in GuiZhiFuLingTan_b sample.**"
   ]
  },
  {
   "cell_type": "markdown",
   "metadata": {},
   "source": [
    "\n",
    "Check the top4 OTUs from data_clean dataset"
   ]
  },
  {
   "cell_type": "code",
   "execution_count": 82,
   "metadata": {},
   "outputs": [
    {
     "name": "stdout",
     "output_type": "stream",
     "text": [
      "9319dccb21d181d5ff01c4d084ace1f2bf1d9f87\tEukaryota\tStreptophyta\tMagnoliopsida\tPoales\tPoaceae\tCampeiostachys\tcalcicola\t100.000\t11136\n"
     ]
    }
   ],
   "source": [
    "!grep \"9319dccb21d181d5ff01c4d084ace1f2bf1d9f87\" target95_trnL_OTU_tax_assignments.txt"
   ]
  },
  {
   "cell_type": "code",
   "execution_count": 46,
   "metadata": {},
   "outputs": [],
   "source": [
    "!grep \"9319dccb21d181d5ff01c4d084ace1f2bf1d9f87\" trnL_cluster_OTU_table_f1_basics2_cut2phyloseq2.tab"
   ]
  },
  {
   "cell_type": "markdown",
   "metadata": {},
   "source": [
    "> Aqui tem um problema marcele, esse tag não existe no arquivo!!"
   ]
  },
  {
   "cell_type": "markdown",
   "metadata": {},
   "source": [
    "We observe that Poaceae Campeiostachys calcicola is more abundant in GuiZhiFuLingTan_a sample."
   ]
  },
  {
   "cell_type": "code",
   "execution_count": 83,
   "metadata": {},
   "outputs": [
    {
     "name": "stdout",
     "output_type": "stream",
     "text": [
      "d9e0449e3f64c10837e21c2f3fb744969044482d\tEukaryota\tStreptophyta\tMagnoliopsida\tPoales\tPoaceae\tCampeiostachys\tcalcicola\t100.000\t13459\n"
     ]
    }
   ],
   "source": [
    "!grep \"d9e0449e3f64c10837e21c2f3fb744969044482d\" target95_trnL_OTU_tax_assignments.txt"
   ]
  },
  {
   "cell_type": "code",
   "execution_count": 47,
   "metadata": {},
   "outputs": [],
   "source": [
    "!grep \"d9e0449e3f64c10837e21c2f3fb744969044482d\" trnL_cluster_OTU_table_f1_basics2_cut2phyloseq2.tab"
   ]
  },
  {
   "cell_type": "markdown",
   "metadata": {},
   "source": [
    "> Tag não aparece no arquivo"
   ]
  },
  {
   "cell_type": "markdown",
   "metadata": {},
   "source": [
    "We observe that Poaceae Campeiostachys calcicola is also more abundant in Cyperusrotundus_a sample."
   ]
  },
  {
   "cell_type": "code",
   "execution_count": 84,
   "metadata": {},
   "outputs": [
    {
     "name": "stdout",
     "output_type": "stream",
     "text": [
      "785131f35679fb33afaedf6919f8ec30539638bc\tEukaryota\tStreptophyta\tPinopsida\tNA\tCupressaceae\tThuja\tsp.\t100.000\t13999\n"
     ]
    }
   ],
   "source": [
    "!grep \"785131f35679fb33afaedf6919f8ec30539638bc\" target95_trnL_OTU_tax_assignments.txt"
   ]
  },
  {
   "cell_type": "code",
   "execution_count": 49,
   "metadata": {},
   "outputs": [
    {
     "data": {
      "text/plain": [
       "<AxesSubplot:xlabel='Sample', ylabel='Abundance'>"
      ]
     },
     "execution_count": 49,
     "metadata": {},
     "output_type": "execute_result"
    },
    {
     "data": {
      "image/png": "[encoded data removed]",
      "text/plain": [
       "<Figure size 720x648 with 1 Axes>"
      ]
     },
     "metadata": {},
     "output_type": "display_data"
    }
   ],
   "source": [
    "plot_OTU_bars(\n",
    "    \"785131f35679fb33afaedf6919f8ec30539638bc\", \n",
    "    \"trnL_cluster_OTU_table_f1_basics2_cut2phyloseq2.tab\", \n",
    "    15,  # number of bins (bars)\n",
    "    10)  # width"
   ]
  },
  {
   "cell_type": "markdown",
   "metadata": {},
   "source": [
    "**We observe that Cupressaceae Thuja sp. is more abundant in Trogopterusxanthipes_a sample.**"
   ]
  },
  {
   "cell_type": "code",
   "execution_count": 112,
   "metadata": {},
   "outputs": [
    {
     "name": "stdout",
     "output_type": "stream",
     "text": [
      "a069993ab97b3f720cf66567bfb1fad838b20dc6\tEukaryota\tStreptophyta\tMagnoliopsida\tLaurales\tLauraceae\tCinnamomum\tcamphora\t100.000\t37670\n"
     ]
    }
   ],
   "source": [
    "!grep \"a069993ab97b3f720cf66567bfb1fad838b20dc6\" target95_trnL_OTU_tax_assignments.txt"
   ]
  },
  {
   "cell_type": "code",
   "execution_count": 51,
   "metadata": {},
   "outputs": [
    {
     "data": {
      "text/plain": [
       "<AxesSubplot:xlabel='Sample', ylabel='Abundance'>"
      ]
     },
     "execution_count": 51,
     "metadata": {},
     "output_type": "execute_result"
    },
    {
     "data": {
      "image/png": "[encoded data removed]",
      "text/plain": [
       "<Figure size 720x648 with 1 Axes>"
      ]
     },
     "metadata": {},
     "output_type": "display_data"
    }
   ],
   "source": [
    "plot_OTU_bars(\n",
    "    \"a069993ab97b3f720cf66567bfb1fad838b20dc6\", \n",
    "    \"trnL_cluster_OTU_table_f1_basics2_cut2phyloseq2.tab\", \n",
    "    15,  # number of bins (bars)\n",
    "    10)  # width"
   ]
  },
  {
   "cell_type": "markdown",
   "metadata": {},
   "source": [
    "**We observe that Lauraceae Cinnamomum camphorais more abundant in GuiZhiFuLingPian_a sample**"
   ]
  }
 ],
 "metadata": {
  "environment": {
   "kernel": "python3",
   "name": "common-cpu.m87",
   "type": "gcloud",
   "uri": "gcr.io/deeplearning-platform-release/base-cpu:m87"
  },
  "kernelspec": {
   "display_name": "Python 3 (ipykernel)",
   "language": "python",
   "name": "python3"
  },
  "language_info": {
   "codemirror_mode": {
    "name": "ipython",
    "version": 3
   },
   "file_extension": ".py",
   "mimetype": "text/x-python",
   "name": "python",
   "nbconvert_exporter": "python",
   "pygments_lexer": "ipython3",
   "version": "3.7.12"
  }
 },
 "nbformat": 4,
 "nbformat_minor": 4
}
