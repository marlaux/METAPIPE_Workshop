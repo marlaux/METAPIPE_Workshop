{
 "cells": [
  {
   "cell_type": "markdown",
   "metadata": {},
   "source": [
    "**Let's check the files we have on the machine?**"
   ]
  },
  {
   "cell_type": "code",
   "execution_count": null,
   "metadata": {
    "tags": []
   },
   "outputs": [],
   "source": [
    "%ls"
   ]
  },
  {
   "cell_type": "markdown",
   "metadata": {},
   "source": [
    "**The scripts are organized in a linear workflow, designed as 'steps':**<p>\n",
    "The **DB1_NCBI_download_refs.sh** script **downloads** the target reference sequences from NCBI using the **Entrez Direct** tools,<p>\n",
    "The **DB2_primers_cut.sh** script **cuts** your downloaded reference sequences according to your **project's primers** used to amplify the eDNA,<p>\n",
    "The **DB3_NCBI_lineage.sh** script performs the **taxonomy lineage formatting**, changing the regular NCBI sequences headers to a **parsible lineage header**,<p>\n",
    "The **1_merge_pear.sh** script executes the **merging** of the original Illumina **paired-end fastq R1 and R2 files** using **PEAR** tool,<p>\n",
    "The **2a_preparing_tags_LCPI.pl** script **formats** the mapping file according to **Cutadapt** input format, for the demultiplexing step,<p>\n",
    "The **2b_demulti_dual_index_linked.sh** script executes the **demultiplexing** step, usign the **Cutapadt** tool to parse the sequences according to the **tags design**, atributing each sequence to a **specific sample**,<p>\n",
    "The **3_tag_primer_clipping_clean_derep.sh** script run all the **data cleaning** process, **trimming** and **converting** the sequences to a **fasta** format without **PCR duplicates**, containing the actual **amplicon abundance** information,<p>\n",
    "The **4_clustering_swarm_with_chim_filter.sh** script executes the **clustering** of the amplicons using the **SWARM** tool,<p>\n",
    "The **5_BLAST_options.sh** script runs **BLAST** using the formatted **custom** reference database, generating a **tabular BLAST output**, plus the BLAST input for building the **OTU table** and the **taxonomy assignment table**, formatted as input to the **Data Analysis - R session**<p>\n",
    "The **6a_build_OTU_table.sh** runs the **6a_OTU_contingency_table.py** script, which parses several clustering and data cleaning outputs to build the final **OTU table**,<p>\n",
    "The **6b_filter_OTU_table.sh** script **formats** the OTU_table, **extracting** desired columns/informations and **converting** them to R package **Phyloseq** input format, which will be loaded in the **Data Analysis - R session**,<p>"
   ]
  },
  {
   "cell_type": "markdown",
   "metadata": {},
   "source": [
    "**Let's make all the scripts executable**"
   ]
  },
  {
   "cell_type": "code",
   "execution_count": null,
   "metadata": {},
   "outputs": [],
   "source": [
    "!chmod 777 -R *.sh *.py *.pl"
   ]
  },
  {
   "cell_type": "markdown",
   "metadata": {},
   "source": [
    "Let's start running the **`DB1_NCBI_download_refs.sh`** script. Typing **`-h`** we can check how it is used:"
   ]
  },
  {
   "cell_type": "code",
   "execution_count": null,
   "metadata": {},
   "outputs": [],
   "source": [
    "!bash DB1_NCBI_download_refs.sh -h"
   ]
  },
  {
   "cell_type": "markdown",
   "metadata": {},
   "source": [
    "In order to download the trnL marker sequences for of all Streptophyta taxa, the command would be<p>\n",
    "**`./DB1_NCBI_download_refs.sh -n Streptophyta -t txid35493 -m trnL`**<p>\n",
    "However, this command takes to long, thus its resulting file has already been made available: **Streptophyta_trnL_NCBI.fasta**, as well as the resulting file from the taxonomy lineage editing: **target_trnL.uniq.fasta**.<p>\n",
    "Let's run an example to practice this command. Run the following:<p>"
   ]
  },
  {
   "cell_type": "code",
   "execution_count": null,
   "metadata": {},
   "outputs": [],
   "source": [
    "%%bash\n",
    "./DB1_NCBI_download_refs.sh -n 'Prunus_persica' -t txid3760 -m rbcL"
   ]
  },
  {
   "cell_type": "code",
   "execution_count": null,
   "metadata": {
    "tags": []
   },
   "outputs": [],
   "source": [
    "%ls -lht | head"
   ]
  },
  {
   "cell_type": "markdown",
   "metadata": {},
   "source": [
    "We have downloaded the **NCBI rbcL marker** sequences from **Peach**, let's take a look in the **first sequence**, and count the **number of sequences** downloaded:"
   ]
  },
  {
   "cell_type": "code",
   "execution_count": 20,
   "metadata": {},
   "outputs": [
    {
     "name": "stdout",
     "output_type": "stream",
     "text": [
      ">MN205235.1 Prunus persica voucher ZhouSL_var._compressa_Henan_044 ribulose-1,5-bisphosphate carboxylase/oxygenase large subunit (rbcL) gene, partial cds; chloroplast\n",
      "TTGACTTATTATACTCCTGACTATGAAACCAAAGATACTGATATCTTGGCAGCATTTCGAGTAACTCCTC\n"
     ]
    }
   ],
   "source": [
    "!head -2 'Prunus_persica_rbcL_NCBI.fasta'"
   ]
  },
  {
   "cell_type": "code",
   "execution_count": null,
   "metadata": {},
   "outputs": [],
   "source": [
    "!grep -c \"^>\" 'Prunus_persica_rbcL_NCBI.fasta'"
   ]
  },
  {
   "cell_type": "markdown",
   "metadata": {},
   "source": [
    "If you search for **`\"Prunus persica\"+\"rbcL\"`** in the nucleotide database using the NCBI web site https://www.ncbi.nlm.nih.gov/, you will see 59 entries. However, in `DB1_NCBI_download_refs.sh` script, only the amplicons sequences are downloaded, excluding larger or general sequences, like \"chloroplast, complete genome\" genbank sequences."
   ]
  },
  {
   "cell_type": "markdown",
   "metadata": {},
   "source": [
    "After downloading the sequences file, we will **cut the sequences** according to our **project's primers**, in order to **refine** our reference database with our **target sequence**, and speed up our taxa assignment process:"
   ]
  },
  {
   "cell_type": "code",
   "execution_count": null,
   "metadata": {},
   "outputs": [],
   "source": [
    "!bash DB2_primers_cut.sh -h"
   ]
  },
  {
   "cell_type": "code",
   "execution_count": null,
   "metadata": {
    "tags": []
   },
   "outputs": [
    {
     "name": "stderr",
     "output_type": "stream",
     "text": [
      "This is cutadapt 3.5 with Python 3.7.12\n",
      "Command line parameters: --discard-untrimmed -g GGGCAATCCTGAGCCAA -a CCATTGAGTCTCTGCACCTATC Prunus_persica_rbcL_NCBI.fasta\n",
      "Processing reads on 1 core in single-end mode ...\n",
      "Finished in 0.01 s (317 µs/read; 0.19 M reads/minute).\n",
      "\n",
      "=== Summary ===\n",
      "\n",
      "Total reads processed:                      35\n",
      "Reads with adapters:                         0 (0.0%)\n",
      "\n",
      "== Read fate breakdown ==\n",
      "Reads discarded as untrimmed:               35 (100.0%)\n",
      "Reads written (passing filters):             0 (0.0%)\n",
      "\n",
      "Total basepairs processed:        23,710 bp\n",
      "Total written (filtered):              0 bp (0.0%)\n",
      "\n",
      "=== Adapter 1 ===\n",
      "\n",
      "Sequence: GGGCAATCCTGAGCCAA; Type: regular 5'; Length: 17; Trimmed: 0 times\n",
      "\n",
      "=== Adapter 2 ===\n",
      "\n",
      "Sequence: CCATTGAGTCTCTGCACCTATC; Type: regular 3'; Length: 22; Trimmed: 0 times\n"
     ]
    }
   ],
   "source": [
    "%%bash\n",
    "./DB2_primers_cut.sh \\\n",
    "    -r Streptophyta_trnL_NCBI.fasta \\\n",
    "    -F GGGCAATCCTGAGCCAA \\\n",
    "    -R CCATTGAGTCTCTGCACCTATC \\\n",
    "    -p target_trnL"
   ]
  },
  {
   "cell_type": "code",
   "execution_count": null,
   "metadata": {},
   "outputs": [
    {
     "name": "stdout",
     "output_type": "stream",
     "text": [
      "P_persica_trnL_cutted_references.fasta\n",
      "metapipe-run.ipynb\n",
      "\u001b[0m\u001b[01;32m5_BLAST_options.sh\u001b[0m*\n",
      "merge_paired_end.png\n",
      "Install_Setup.ipynb\n",
      "\u001b[01;32m3_tag_primer_clipping_clean_derep.sh\u001b[0m*\n",
      "Tags_LA1.fa\n",
      "Tags_LA2.fa\n",
      "Tags_LA3.fa\n",
      "\u001b[01;32m2b_demulti_dual_index_linked.sh\u001b[0m*\n"
     ]
    }
   ],
   "source": [
    "%ls -t | head"
   ]
  },
  {
   "cell_type": "markdown",
   "metadata": {},
   "source": [
    "**Let's check how this data looks like?**"
   ]
  },
  {
   "cell_type": "code",
   "execution_count": null,
   "metadata": {},
   "outputs": [],
   "source": [
    "!head -n 4 target_trnL_cutted_references.fasta"
   ]
  },
  {
   "cell_type": "markdown",
   "metadata": {},
   "source": [
    "**Let's begin to format our sequences to properly create a local BLAST database**"
   ]
  },
  {
   "cell_type": "code",
   "execution_count": null,
   "metadata": {},
   "outputs": [],
   "source": [
    "!bash DB3_NCBI_lineage.sh -h"
   ]
  },
  {
   "cell_type": "markdown",
   "metadata": {},
   "source": [
    "**This script does a lot of things:**<p>\n",
    "**1.** extract **accession** code from NCBI references, then<p>\n",
    "**2.** parse **accession to taxid**, then<p>\n",
    "**3.** parse **taxid to lineage**, then<p>\n",
    "**4.** remove NCBI sequences header, and **join edited lineage**, then<p>\n",
    "**5.** remove sequence **duplicates**.<p>"
   ]
  },
  {
   "cell_type": "markdown",
   "metadata": {},
   "source": [
    "To run this script we need to **download** the **`nucl_gb.accession2taxid.gz`** file:"
   ]
  },
  {
   "cell_type": "code",
   "execution_count": null,
   "metadata": {},
   "outputs": [],
   "source": [
    "!wget https://ftp.ncbi.nlm.nih.gov/pub/taxonomy/accession2taxid/nucl_gb.accession2taxid.gz"
   ]
  },
  {
   "cell_type": "code",
   "execution_count": null,
   "metadata": {
    "tags": []
   },
   "outputs": [],
   "source": [
    "%%bash\n",
    "./DB3_NCBI_lineage.sh -r target_trnL_cutted_references.fasta -p target_trnL"
   ]
  },
  {
   "cell_type": "markdown",
   "metadata": {},
   "source": [
    "Let's take a look in the **.log** file:"
   ]
  },
  {
   "cell_type": "code",
   "execution_count": null,
   "metadata": {},
   "outputs": [],
   "source": [
    "!tail target_trnL.log"
   ]
  },
  {
   "cell_type": "markdown",
   "metadata": {},
   "source": [
    "Then take a look in the **final formatted reference database**:"
   ]
  },
  {
   "cell_type": "code",
   "execution_count": null,
   "metadata": {},
   "outputs": [],
   "source": [
    "!head target_trnL.uniq.fasta"
   ]
  },
  {
   "cell_type": "markdown",
   "metadata": {},
   "source": [
    "All this process can be done using **BOLD** database as well, let's try with a tiny database:"
   ]
  },
  {
   "cell_type": "markdown",
   "metadata": {},
   "source": [
    "Let's run a search and download using **BOLD database**:"
   ]
  },
  {
   "cell_type": "code",
   "execution_count": null,
   "metadata": {},
   "outputs": [],
   "source": [
    "!bash BOLD_download_refs.sh -h"
   ]
  },
  {
   "cell_type": "code",
   "execution_count": null,
   "metadata": {},
   "outputs": [],
   "source": [
    "%%bash\n",
    "./BOLD_download_refs.sh -t Blattodea -m COI -g Brazil"
   ]
  },
  {
   "cell_type": "markdown",
   "metadata": {},
   "source": [
    "Take a look in the **BOLD** sequences format:"
   ]
  },
  {
   "cell_type": "code",
   "execution_count": 34,
   "metadata": {},
   "outputs": [
    {
     "name": "stdout",
     "output_type": "stream",
     "text": [
      "head: cannot open 'BOLD_Blattodea_COI_Brazil.tsv' for reading: No such file or directory\n"
     ]
    }
   ],
   "source": [
    "!head BOLD_Blattodea_COI_Brazil.tsv"
   ]
  },
  {
   "cell_type": "markdown",
   "metadata": {},
   "source": [
    "Pretty different from **NCBI**, right?<p>\n",
    "But the following script generate exactly the same output from the **primers_cut.sh** and **NCBI_lineage.sh** scripts:"
   ]
  },
  {
   "cell_type": "code",
   "execution_count": null,
   "metadata": {},
   "outputs": [],
   "source": [
    "%%bash\n",
    "./BOLD_lineage_primers_cut.sh BOLD_Blattodea_COI_Brazil.tsv GCHCCHGAYATRGCHTTYCC TCDGGRTGNCCRAARAAYCA"
   ]
  },
  {
   "cell_type": "markdown",
   "metadata": {},
   "source": [
    "Take a look in the final **BOLD** formated sequences:"
   ]
  },
  {
   "cell_type": "code",
   "execution_count": null,
   "metadata": {},
   "outputs": [],
   "source": [
    "!head BOLD_Blattodea_COI_Brazil_cut.fasta"
   ]
  },
  {
   "cell_type": "code",
   "execution_count": null,
   "metadata": {},
   "outputs": [],
   "source": [
    "%ls | head"
   ]
  },
  {
   "cell_type": "markdown",
   "metadata": {},
   "source": [
    "**After formatting our taxonomy databse, we will start to work with our sequencing data.**<p>\n",
    "When dealing with **Illumina paired-end** fastq files, R1 and R2, we can choose to work with the **separate** pairs, or **merge** the pairs.<p>\n",
    "This choice must be made even before sending the material for sequencing, as it depends on the **insert size** used in the paired-end sequencing.<p>\n",
    "Most paired-end sequencing designs are planned to be merged, but even so you can choose to let the pairs independent, running the **\"combinatorial\" demultiplexing strategy**.<p>\n",
    "We are not going to run the combinatorial strategy this time.<p>\n",
    "Let's start running the **merge read pairs** with **PEAR** tool:"
   ]
  },
  {
   "cell_type": "code",
   "execution_count": null,
   "metadata": {},
   "outputs": [],
   "source": [
    "!bash 1_merge_pear.sh -h"
   ]
  },
  {
   "cell_type": "markdown",
   "metadata": {},
   "source": [
    "Let's run it using a **subsample** from the original trnL dataset, since the whole dataset would take some time to run:"
   ]
  },
  {
   "cell_type": "code",
   "execution_count": null,
   "metadata": {
    "tags": []
   },
   "outputs": [],
   "source": [
    "%%bash\n",
    "./1_merge_pear.sh \\\n",
    "    -f trnL_S1_L001_R1_001_sub.fastq \\\n",
    "    -r trnL_S1_L001_R2_001_sub.fastq \\\n",
    "    -o trnL_sub \\\n",
    "    -p 0.001 \\\n",
    "    -s 20 \\\n",
    "    -t 4"
   ]
  },
  {
   "cell_type": "markdown",
   "metadata": {},
   "source": [
    "We reached **almost 100%** os read pairs merged!<p>\n",
    "The output used in the following steps is the `.assembled.fastq` file."
   ]
  },
  {
   "cell_type": "code",
   "execution_count": null,
   "metadata": {},
   "outputs": [],
   "source": [
    "%ls -lat | head"
   ]
  },
  {
   "cell_type": "markdown",
   "metadata": {},
   "source": [
    "Let's check how the merging step works, by searching the original pairs from the first read pair merged:"
   ]
  },
  {
   "cell_type": "code",
   "execution_count": 10,
   "metadata": {},
   "outputs": [
    {
     "name": "stdout",
     "output_type": "stream",
     "text": [
      "@M02980:420:000000000-G84WN:1:2101:3414:10035 1:N:0:GTCTACAC+GCCAAGGT\n",
      "TGTTGCGTTTCTGGGCAATCCTGAGCCAAATCCTGTTTTATTAAAACAAACAAGGGTTTCATAAACCGAGAATAAAAAAGGATAGGTGCAGAGACTCAATGGGGGCATCTTACG\n",
      "+\n",
      "IIIIIIIIIIIIII4IIIIIIIIIIIIIIIIIIIIIIIIIIIIIIIIIIIIIIIIIIIIIIIIIIIIIIIIIIIIIIIIIIIIIFIIIIIIIIIIIFIIIIIIIICIIIIIIII\n"
     ]
    }
   ],
   "source": [
    "!head -4 trnL_sub.assembled.fastq"
   ]
  },
  {
   "cell_type": "code",
   "execution_count": null,
   "metadata": {},
   "outputs": [],
   "source": [
    "!grep -A 1 \"@M02980:420:000000000-G84WN:1:2101:3414:10035\" trnL_S1_L001_R1_001_sub.fastq"
   ]
  },
  {
   "cell_type": "code",
   "execution_count": null,
   "metadata": {},
   "outputs": [],
   "source": [
    "!grep -A 1 \"@M02980:420:000000000-G84WN:1:2101:3414:10035\" trnL_S1_L001_R2_001_sub.fastq"
   ]
  },
  {
   "cell_type": "markdown",
   "metadata": {},
   "source": [
    "Observe that **TGTTGCGTTTCT**GGGCAATCCTGAGCCAAATCCTGTTTTATTAAAACAAACAAGGGTTTCATAAACCGAGAATAAAAAAGGATAGGTGCAGAGACTCAATGG**GGGCATCTTACG**<p>\n",
    "are the **Forward tag** from **`R1`**:<p>\n",
    "@M02980:420:000000000-G84WN:1:2101:3414:10035 **`1:N:0`**:GTCTACAC+GCCAAGGT<p>\n",
    "**TGTTGCGTTTCT**GGGCAATCCTGAGCCAAATCCTGTTTTATTAAAACAAACAAGGGTTTCATAAACCGAGAATAAAAAAGGATAG...<p>\n",
    "and the **reverse complement of the Forward tag** from **`R2`**:<p>\n",
    "@M02980:420:000000000-G84WN:1:2101:3414:10035 **`2:N:0`**:GTCTACAC+GCCAAGGT<p>\n",
    "**CGTAAGATGCCC**CCATTGAGTCTCTGCACCTATCCTTTTTTATTCTCGGTTTATGAAACCCTTGTTTGTTTTAATAAAACAGGAT...<p>"
   ]
  },
  {
   "cell_type": "code",
   "execution_count": null,
   "metadata": {},
   "outputs": [],
   "source": [
    "!gsutil cp gs://metapipe-data/FINAL/merge_paired_end.png ."
   ]
  },
  {
   "cell_type": "markdown",
   "metadata": {},
   "source": [
    "**Observe how the merging works:**<p>\n",
    "<img src=\"merge_paired_end.png\" width=800 height=800 />"
   ]
  },
  {
   "cell_type": "markdown",
   "metadata": {},
   "source": [
    "Now that we know how the merge of the paired-end reads works, let's search for the amplicons from a specific sample:"
   ]
  },
  {
   "cell_type": "code",
   "execution_count": 16,
   "metadata": {},
   "outputs": [
    {
     "name": "stdout",
     "output_type": "stream",
     "text": [
      "Angelicaesinensis_a\tCACCTTACCTTA\tCCATCACATAGG\n",
      "Angelicaesinensis_b\tACTTTAAGGGTG\tCCATCACATAGG\n",
      "Carthamustinctorius_a\tACTTTAAGGGTG\tGAGCAACATCCT\n",
      "Carthamustinctorius_b\tTGTTGCGTTTCT\tGAGCAACATCCT\n",
      "Citrusaurantium_a\tGAGACTATATGC\tGAGCAACATCCT\n",
      "Citrusaurantium_b\tATCTAGTGGCAA\tTGTTGCGTTTCT\n",
      "Cyperusrotundus_a\tATAGTTAGGGCT\tACTTTAAGGGTG\n",
      "Cyperusrotundus_b\tGAGACTATATGC\tACTTTAAGGGTG\n",
      "Glycyrrhizauralensis_a\tCCAGGGACTTCT\tACTTTAAGGGTG\n",
      "Glycyrrhizauralensis_b\tACTTTAAGGGTG\tGAGACTATATGC\n"
     ]
    }
   ],
   "source": [
    "!head trnL_sub_tags.txt"
   ]
  },
  {
   "cell_type": "markdown",
   "metadata": {},
   "source": [
    "According to the **expected orientation** of the **merged paired-end reads** from **Angelicaesinensis_a** sample, we shoul look for the **`5' tag (CACCTTACCTTA)`** in **forward direction**, and the **`3' tag (CCATCACATAGG)`** in **reverse direction**.<p>\n",
    "The 3' tag reverse complement is **`CCTATGTGATGG`**.<p>\n",
    "Let's search for **both tags** in the **same sequence**:"
   ]
  },
  {
   "cell_type": "code",
   "execution_count": 26,
   "metadata": {},
   "outputs": [
    {
     "name": "stdout",
     "output_type": "stream",
     "text": [
      "\u001b[01;31m\u001b[Kcaccttacctta\u001b[m\u001b[KCCATTGAGTCTCTGCACCTATCCCCTTCCTATCTTAGGAGAAGAAACATTGTCTTCATGAACCGGATTTGGCTCAGGATTGCCC\u001b[01;31m\u001b[Kcctatgtgatgg\u001b[m\u001b[K\n",
      "\u001b[01;31m\u001b[Kcaccttacctta\u001b[m\u001b[KGGGCAATCCTGAGCCAAATCCTATTTTCCAAAAACAAACAAAGGCCCAGAAGGTGAAAAAAGGATAGGTGCAGAGACTCAATGG\u001b[01;31m\u001b[Kcctatgtgatgg\u001b[m\u001b[K\n",
      "\u001b[01;31m\u001b[Kcaccttacctta\u001b[m\u001b[KGGGCAATCCTGAGCCAAATCCTATTTTCCAAAAACAAACAAAGGCCCAGAAGGTGAAAAAAGGATAGGTGCAGAGACTCAATGG\u001b[01;31m\u001b[Kcctatgtgatgg\u001b[m\u001b[K\n",
      "\u001b[01;31m\u001b[Kcaccttacctta\u001b[m\u001b[KGGGCAATCCTGAGCCAAATCCTATTTTCCAAAAACAAACAAAGGCCCAGAAGATGAAAAAAGGATAGGTGCAGAGACTCAATGG\u001b[01;31m\u001b[Kcctatgtgatgg\u001b[m\u001b[K\n",
      "\u001b[01;31m\u001b[Kcaccttacctta\u001b[m\u001b[KGGGCAATCCTGAGCCAAATCCTATTTTCCAAAAACAAACAAAGGCCCAGAAGGTGAAAAAAGGATAGGTGCAGAGACTCAATGG\u001b[01;31m\u001b[Kcctatgtgatgg\u001b[m\u001b[K\n",
      "\u001b[01;31m\u001b[Kcaccttacctta\u001b[m\u001b[KGGGCAATCCTGAGCCAAATCCTATTTTCCAAAAACAAACAAAGGCCCAGAAGGTGAAAAAAGGATAGGTGCAGAGACTCAATGG\u001b[01;31m\u001b[Kcctatgtgatgg\u001b[m\u001b[K\n",
      "\u001b[01;31m\u001b[Kcaccttacctta\u001b[m\u001b[KGGGCAATCCTGAGCCAAATCCTATTTTCCAAAAACAAACAAAGGCCCAGAAGGTGAAAAAAGGATAGGTGCAGAGACTCAATGG\u001b[01;31m\u001b[Kcctatgtgatgg\u001b[m\u001b[K\n",
      "\u001b[01;31m\u001b[Kcaccttacctta\u001b[m\u001b[KGGGCAATCCTGAGCCAAATCCTATTTTCCAAAAACAAACAAAGGCCCAGAAGATGAAAAAAGGATAGGTGCAGAGACTCAATGG\u001b[01;31m\u001b[Kcctatgtgatgg\u001b[m\u001b[K\n",
      "\u001b[01;31m\u001b[Kcaccttacctta\u001b[m\u001b[KGGGCAATCCTGAGCCAAATCCTATTTTCCAAAAACAAACAAAGGCCCAGAAGGTGAAAAAAGGATAGGTGCAGAGACTCAATGG\u001b[01;31m\u001b[Kcctatgtgatgg\u001b[m\u001b[K\n",
      "\u001b[01;31m\u001b[Kcaccttacctta\u001b[m\u001b[KGGGCAATCCTGAGCCAAATCCTATTTTCCAAAAACAAACAAAGGCCTAGAAGGTGAAAAAAGGATAGGTGCAGAGACTCAATGG\u001b[01;31m\u001b[Kcctatgtgatgg\u001b[m\u001b[K\n",
      "grep: write error: Broken pipe\n",
      "grep: write error: Broken pipe\n"
     ]
    }
   ],
   "source": [
    "!grep -i \"CACCTTACCTTA\" --color=always trnL_subsample.assembled.fastq | grep -i --color=always \"CCTATGTGATGG\" | head"
   ]
  },
  {
   "cell_type": "code",
   "execution_count": null,
   "metadata": {},
   "outputs": [
    {
     "name": "stdout",
     "output_type": "stream",
     "text": [
      "21467\n"
     ]
    }
   ],
   "source": [
    "!grep -i \"CACCTTACCTTA\" trnL_subsample.assembled.fastq | grep -c -i \"CCTATGTGATGG\""
   ]
  },
  {
   "cell_type": "markdown",
   "metadata": {},
   "source": [
    "After running the **demultiplexing** step, we are going to check if these amplicons will be found in the **Angelicaesinensis_a** sample fasta file."
   ]
  },
  {
   "cell_type": "markdown",
   "metadata": {},
   "source": [
    "**Since we will read tabular files multiple times in the notebook, let's create a function that loads the tabular file, with or without header**"
   ]
  },
  {
   "cell_type": "code",
   "execution_count": 12,
   "metadata": {},
   "outputs": [],
   "source": [
    "def get_glimpse_head(in_file, n_lines=10, file_header=True, file_sep='\\t'):\n",
    "    import pandas as pd\n",
    "# read file\n",
    "    if file_header == False:\n",
    "        df = pd.read_csv(in_file, sep=file_sep, header=None).head(n_lines)\n",
    "    else:\n",
    "        df = pd.read_csv(in_file, sep=file_sep).head(n_lines)\n",
    "# return table\n",
    "    return df\n",
    "\n",
    "def get_glimpse_tail(in_file, n_lines=10, file_header=True, file_sep='\\t'):\n",
    "    import pandas as pd\n",
    "# read file\n",
    "    if file_header == False:\n",
    "        df = pd.read_csv(in_file, sep=file_sep, header=None).tail(n_lines)\n",
    "    else:\n",
    "        df = pd.read_csv(in_file, sep=file_sep).tail(n_lines)\n",
    "# return table\n",
    "    return df"
   ]
  },
  {
   "cell_type": "markdown",
   "metadata": {},
   "source": [
    "The following tab file is your **mapping file**, which has three columns, showing the **sample name**, the **5' tag** and the **3' tag** (both in forward direction):"
   ]
  },
  {
   "cell_type": "code",
   "execution_count": 24,
   "metadata": {},
   "outputs": [
    {
     "data": {
      "text/html": [
       "<div>\n",
       "<style scoped>\n",
       "    .dataframe tbody tr th:only-of-type {\n",
       "        vertical-align: middle;\n",
       "    }\n",
       "\n",
       "    .dataframe tbody tr th {\n",
       "        vertical-align: top;\n",
       "    }\n",
       "\n",
       "    .dataframe thead th {\n",
       "        text-align: right;\n",
       "    }\n",
       "</style>\n",
       "<table border=\"1\" class=\"dataframe\">\n",
       "  <thead>\n",
       "    <tr style=\"text-align: right;\">\n",
       "      <th></th>\n",
       "      <th>0</th>\n",
       "      <th>1</th>\n",
       "      <th>2</th>\n",
       "    </tr>\n",
       "  </thead>\n",
       "  <tbody>\n",
       "    <tr>\n",
       "      <th>24</th>\n",
       "      <td>Peoniasuffruticosa_a</td>\n",
       "      <td>CCATCACATAGG</td>\n",
       "      <td>TGCAGATCCAAC</td>\n",
       "    </tr>\n",
       "    <tr>\n",
       "      <th>25</th>\n",
       "      <td>Peoniasuffruticosa_b</td>\n",
       "      <td>GTGGTATGGGAG</td>\n",
       "      <td>TGCAGATCCAAC</td>\n",
       "    </tr>\n",
       "    <tr>\n",
       "      <th>26</th>\n",
       "      <td>Poriacocos_a</td>\n",
       "      <td>ATAGTTAGGGCT</td>\n",
       "      <td>CCTAAACTACGG</td>\n",
       "    </tr>\n",
       "    <tr>\n",
       "      <th>27</th>\n",
       "      <td>Poriacocos_b</td>\n",
       "      <td>GCACTTCATTTC</td>\n",
       "      <td>CCTAAACTACGG</td>\n",
       "    </tr>\n",
       "    <tr>\n",
       "      <th>28</th>\n",
       "      <td>Prunuspersica_a</td>\n",
       "      <td>ATGTCCGACCAA</td>\n",
       "      <td>TGCAGATCCAAC</td>\n",
       "    </tr>\n",
       "    <tr>\n",
       "      <th>29</th>\n",
       "      <td>Prunuspersica_b</td>\n",
       "      <td>ATCTAGTGGCAA</td>\n",
       "      <td>CCATCACATAGG</td>\n",
       "    </tr>\n",
       "    <tr>\n",
       "      <th>30</th>\n",
       "      <td>Trogopterusxanthipes_a</td>\n",
       "      <td>ATAGTTAGGGCT</td>\n",
       "      <td>TGTTGCGTTTCT</td>\n",
       "    </tr>\n",
       "    <tr>\n",
       "      <th>31</th>\n",
       "      <td>Trogopterusxanthipes_b</td>\n",
       "      <td>ACTTTAAGGGTG</td>\n",
       "      <td>CACCTTACCTTA</td>\n",
       "    </tr>\n",
       "    <tr>\n",
       "      <th>32</th>\n",
       "      <td>Negative</td>\n",
       "      <td>TGTTGCGTTTCT</td>\n",
       "      <td>GAGACTATATGC</td>\n",
       "    </tr>\n",
       "    <tr>\n",
       "      <th>33</th>\n",
       "      <td>NegativePCR</td>\n",
       "      <td>ATGTCCGACCAA</td>\n",
       "      <td>GAGACTATATGC</td>\n",
       "    </tr>\n",
       "  </tbody>\n",
       "</table>\n",
       "</div>"
      ],
      "text/plain": [
       "                         0             1             2\n",
       "24    Peoniasuffruticosa_a  CCATCACATAGG  TGCAGATCCAAC\n",
       "25    Peoniasuffruticosa_b  GTGGTATGGGAG  TGCAGATCCAAC\n",
       "26            Poriacocos_a  ATAGTTAGGGCT  CCTAAACTACGG\n",
       "27            Poriacocos_b  GCACTTCATTTC  CCTAAACTACGG\n",
       "28         Prunuspersica_a  ATGTCCGACCAA  TGCAGATCCAAC\n",
       "29         Prunuspersica_b  ATCTAGTGGCAA  CCATCACATAGG\n",
       "30  Trogopterusxanthipes_a  ATAGTTAGGGCT  TGTTGCGTTTCT\n",
       "31  Trogopterusxanthipes_b  ACTTTAAGGGTG  CACCTTACCTTA\n",
       "32                Negative  TGTTGCGTTTCT  GAGACTATATGC\n",
       "33             NegativePCR  ATGTCCGACCAA  GAGACTATATGC"
      ]
     },
     "execution_count": 24,
     "metadata": {},
     "output_type": "execute_result"
    }
   ],
   "source": [
    "get_glimpse_tail('trnL_sub_tags.txt', file_header=False)"
   ]
  },
  {
   "cell_type": "markdown",
   "metadata": {},
   "source": [
    "Now let's prepare the **tag-files**, used as input in the **demultiplexing** step:"
   ]
  },
  {
   "cell_type": "markdown",
   "metadata": {},
   "source": [
    "**The following script formats the mapping file according to the tag-design, possible tag-pairs orientation and Cutadapt input format.**\n",
    ">>>For **Illumina merged reads**, type **`linked`**<p>\n",
    ">>>For **Illumina **combinatorial**, type **`combinatorial`**<p>\n",
    ">>>For Illumina **exact paired dual index**, type **`unique`**<p>\n",
    ">>>For **Ion torrent dual index**, type **`ion`**<p>\n",
    ">>>For Ion dual index **3' anchored**, type **`ion3`**<p>\n",
    ">>>For Ion dual index **5' anchored**, **`ion5`**\n",
    ">>>For Ion dual index **both anchored**, type **`ion-both`**"
   ]
  },
  {
   "cell_type": "code",
   "execution_count": null,
   "metadata": {},
   "outputs": [],
   "source": [
    "%%bash \n",
    "perl 2a_preparing_tags_LCPI.pl trnL_sub_tags.txt linked"
   ]
  },
  {
   "cell_type": "code",
   "execution_count": null,
   "metadata": {},
   "outputs": [],
   "source": [
    "%ls -lat | head"
   ]
  },
  {
   "cell_type": "code",
   "execution_count": null,
   "metadata": {},
   "outputs": [],
   "source": [
    "!tail Tags_LA1.fa"
   ]
  },
  {
   "cell_type": "markdown",
   "metadata": {},
   "source": [
    "The linked strategy searches for both tags anchored by default, since Cutadapt version 2.0, but it is good to let the signs **^** and **$** to remember that **both** tags are required to demultiplex a sample, otherwise the read is classified as unknown.<p>\n",
    "This anchoring ensures the demultiplexing step, making the **tag jumping** more difficult to disturb your data."
   ]
  },
  {
   "cell_type": "markdown",
   "metadata": {},
   "source": [
    "**Now we are ready to demultiplex our data based on the tag-pairs:**"
   ]
  },
  {
   "cell_type": "code",
   "execution_count": null,
   "metadata": {},
   "outputs": [],
   "source": [
    "%%bash\n",
    "./2b_demulti_dual_index_linked.sh trnL_subsample.assembled.fastq"
   ]
  },
  {
   "cell_type": "markdown",
   "metadata": {},
   "source": [
    "This script calls for the Tags_LA1-3.fa files from inside!"
   ]
  },
  {
   "cell_type": "markdown",
   "metadata": {},
   "source": [
    "**Let's check how the results are organised and what do they look like**"
   ]
  },
  {
   "cell_type": "code",
   "execution_count": null,
   "metadata": {},
   "outputs": [],
   "source": [
    "%ls -lat | head"
   ]
  },
  {
   "cell_type": "code",
   "execution_count": null,
   "metadata": {},
   "outputs": [],
   "source": [
    "%ls demulti_linked_samples/ | head"
   ]
  },
  {
   "cell_type": "code",
   "execution_count": 9,
   "metadata": {},
   "outputs": [
    {
     "name": "stdout",
     "output_type": "stream",
     "text": [
      "@M02980:420:000000000-G84WN:1:1101:14746:1924 1:N:0:GTCTACAC+GCCAAGGT\n",
      "caccttaccttaCCATTGAGTCTCTGCACCTATCCCCTTCCTATCTTAGGAGAAGAAACATTGTCTTCATGAACCGGATTTGGCTCAGGATTGCCCcctatgtgatgg\n",
      "+\n",
      "IHIIIIIIIIIIIIIIIIIIIIIIIIIIIIIIIIIIIIIIIIIIIIIIIIIIIIIIIIIIIIIIIIIIIIIIIIIIIIIIIIIIIIIIIIIIIIIIIIIIIIIIIIII\n",
      "@M02980:420:000000000-G84WN:1:1101:13409:1962 1:N:0:GTCTACAC+GCCAAGGT\n",
      "caccttaccttaGGGCAATCCTGAGCCAAATCCTATTTTCCAAAAACAAACAAAGGCCCAGAAGGTGAAAAAAGGATAGGTGCAGAGACTCAATGGcctatgtgatgg\n",
      "+\n",
      "IIIIIIIIIIIIIIIIIIIIIIIIIIIIIIIIIIIIIIIIIIIIIIIIIIIIIIIIIIIIIIIIIIIIIIIIIIIIIIIIIIIIIIIIIIIIIIIIIIIIIIIIIIII\n",
      "@M02980:420:000000000-G84WN:1:1101:16331:1965 1:N:0:GTCTACAC+GCCAAGGT\n",
      "caccttaccttaGGGCAATCCTGAGCCAAATCCTATTTTCCAAAAACAAACAAAGGCCCAGAAGGTGAAAAAAGGATAGGTGCAGAGACTCAATGGcctatgtgatgg\n"
     ]
    }
   ],
   "source": [
    "!head demulti_linked_samples/Angelicaesinensis_a_LA.fq"
   ]
  },
  {
   "cell_type": "markdown",
   "metadata": {},
   "source": [
    "Let's check if the proper tag-pair is found in the **Angelicaesinensis_a** sample fasta file:"
   ]
  },
  {
   "cell_type": "code",
   "execution_count": 2,
   "metadata": {},
   "outputs": [
    {
     "name": "stdout",
     "output_type": "stream",
     "text": [
      "\u001b[01;31m\u001b[Kcaccttacctta\u001b[m\u001b[KCCATTGAGTCTCTGCACCTATCCCCTTCCTATCTTAGGAGAAGAAACATTGTCTTCATGAACCGGATTTGGCTCAGGATTGCCC\u001b[01;31m\u001b[Kcctatgtgatgg\u001b[m\u001b[K\n",
      "\u001b[01;31m\u001b[Kcaccttacctta\u001b[m\u001b[KGGGCAATCCTGAGCCAAATCCTATTTTCCAAAAACAAACAAAGGCCCAGAAGGTGAAAAAAGGATAGGTGCAGAGACTCAATGG\u001b[01;31m\u001b[Kcctatgtgatgg\u001b[m\u001b[K\n",
      "\u001b[01;31m\u001b[Kcaccttacctta\u001b[m\u001b[KGGGCAATCCTGAGCCAAATCCTATTTTCCAAAAACAAACAAAGGCCCAGAAGGTGAAAAAAGGATAGGTGCAGAGACTCAATGG\u001b[01;31m\u001b[Kcctatgtgatgg\u001b[m\u001b[K\n",
      "\u001b[01;31m\u001b[Kcaccttacctta\u001b[m\u001b[KGGGCAATCCTGAGCCAAATCCTATTTTCCAAAAACAAACAAAGGCCCAGAAGATGAAAAAAGGATAGGTGCAGAGACTCAATGG\u001b[01;31m\u001b[Kcctatgtgatgg\u001b[m\u001b[K\n",
      "\u001b[01;31m\u001b[Kcaccttacctta\u001b[m\u001b[KGGGCAATCCTGAGCCAAATCCTATTTTCCAAAAACAAACAAAGGCCCAGAAGGTGAAAAAAGGATAGGTGCAGAGACTCAATGG\u001b[01;31m\u001b[Kcctatgtgatgg\u001b[m\u001b[K\n",
      "\u001b[01;31m\u001b[Kcaccttacctta\u001b[m\u001b[KGGGCAATCCTGAGCCAAATCCTATTTTCCAAAAACAAACAAAGGCCCAGAAGGTGAAAAAAGGATAGGTGCAGAGACTCAATGG\u001b[01;31m\u001b[Kcctatgtgatgg\u001b[m\u001b[K\n",
      "\u001b[01;31m\u001b[Kcaccttacctta\u001b[m\u001b[KGGGCAATCCTGAGCCAAATCCTATTTTCCAAAAACAAACAAAGGCCCAGAAGGTGAAAAAAGGATAGGTGCAGAGACTCAATGG\u001b[01;31m\u001b[Kcctatgtgatgg\u001b[m\u001b[K\n",
      "\u001b[01;31m\u001b[Kcaccttacctta\u001b[m\u001b[KGGGCAATCCTGAGCCAAATCCTATTTTCCAAAAACAAACAAAGGCCCAGAAGATGAAAAAAGGATAGGTGCAGAGACTCAATGG\u001b[01;31m\u001b[Kcctatgtgatgg\u001b[m\u001b[K\n",
      "\u001b[01;31m\u001b[Kcaccttacctta\u001b[m\u001b[KGGGCAATCCTGAGCCAAATCCTATTTTCCAAAAACAAACAAAGGCCCAGAAGGTGAAAAAAGGATAGGTGCAGAGACTCAATGG\u001b[01;31m\u001b[Kcctatgtgatgg\u001b[m\u001b[K\n",
      "\u001b[01;31m\u001b[Kcaccttacctta\u001b[m\u001b[KGGGCAATCCTGAGCCAAATCCTATTTTCCAAAAACAAACAAAGGCCTAGAAGGTGAAAAAAGGATAGGTGCAGAGACTCAATGG\u001b[01;31m\u001b[Kcctatgtgatgg\u001b[m\u001b[K\n",
      "grep: write error: Broken pipe\n",
      "grep: write error: Broken pipe\n"
     ]
    }
   ],
   "source": [
    "!grep \"CACCTTACCTTA\" -i --color=always demulti_linked_samples/Angelicaesinensis_a_LA.fq | grep -i --color=always \"CCTATGTGATGG\" | head"
   ]
  },
  {
   "cell_type": "markdown",
   "metadata": {},
   "source": [
    "Remember that we have count the amplicons with Angelicaesinensis_a tag-pair in the most common orientation (5' tag Forward, 3' tag revcom):"
   ]
  },
  {
   "cell_type": "code",
   "execution_count": 3,
   "metadata": {},
   "outputs": [
    {
     "name": "stdout",
     "output_type": "stream",
     "text": [
      "21467\n"
     ]
    }
   ],
   "source": [
    "!grep -i \"CACCTTACCTTA\" trnL_subsample.assembled.fastq | grep -c -i \"CCTATGTGATGG\""
   ]
  },
  {
   "cell_type": "markdown",
   "metadata": {},
   "source": [
    "Let's count this tag-pair in the Angelicaesinensis_a:"
   ]
  },
  {
   "cell_type": "code",
   "execution_count": 4,
   "metadata": {},
   "outputs": [
    {
     "name": "stdout",
     "output_type": "stream",
     "text": [
      "21459\n"
     ]
    }
   ],
   "source": [
    "!grep -i \"CACCTTACCTTA\" demulti_linked_samples/Angelicaesinensis_a_LA.fq | grep -c -i \"CCTATGTGATGG\""
   ]
  },
  {
   "cell_type": "markdown",
   "metadata": {},
   "source": [
    "Pretty similar, right? Only 8 sequences were discarded."
   ]
  },
  {
   "cell_type": "markdown",
   "metadata": {},
   "source": [
    "**The next step is the `read cleaning` preprocessing:**"
   ]
  },
  {
   "cell_type": "markdown",
   "metadata": {},
   "source": [
    "The following script executes the **read cleaning**, involving **several sub-steps** within code:"
   ]
  },
  {
   "cell_type": "code",
   "execution_count": null,
   "metadata": {},
   "outputs": [],
   "source": [
    "!bash 3_tag_primer_clipping_clean_derep.sh -h"
   ]
  },
  {
   "cell_type": "markdown",
   "metadata": {},
   "source": [
    "The script starts removing tags and primers using **cutadapt**, storing the resulting sequences in the **clip_out/tag_clip**<p>\n",
    "and **clip_out/primer_clip** directories, allowing for further checking of read cleaning procedure/performance.<p>\n",
    "Then **sequences containing Ns** are **discarded**, Illumina read names are replaced by **hashes**, **expected error rates** (ee) are **added** and the files are **converted to fasta**.<p>\n",
    "The **quality file** is built, using the ee and read length of each sequence.<p>\n",
    "Finally, the **dereplication** is done using **VSEARCH**, which **removes exact duplicates**, adding the **read abundance** information to each sequence header.<p>"
   ]
  },
  {
   "cell_type": "code",
   "execution_count": null,
   "metadata": {},
   "outputs": [],
   "source": [
    "%%bash\n",
    "./3_tag_primer_clipping_clean_derep.sh \\\n",
    "    -b trnL_sub_tags.txt \\\n",
    "    -F GGGCAATCCTGAGCCAA \\\n",
    "    -R CCATTGAGTCTCTGCACCTATC \\\n",
    "    -f TTGGCTCAGGATTGCCC \\\n",
    "    -r GATAGGTGCAGAGACTCAATGG \\\n",
    "    -p trnL_sub \\\n",
    "    -l 30 \\\n",
    "    -d /home/jupyter/METAPIPE_Workshop2021/demulti_linked_samples"
   ]
  },
  {
   "cell_type": "markdown",
   "metadata": {},
   "source": [
    "**Let's take a look on the results:**"
   ]
  },
  {
   "cell_type": "code",
   "execution_count": null,
   "metadata": {},
   "outputs": [],
   "source": [
    "%ls -lat | head"
   ]
  },
  {
   "cell_type": "markdown",
   "metadata": {},
   "source": [
    "First, Let's check the **distribuition of the qualities**:"
   ]
  },
  {
   "cell_type": "code",
   "execution_count": 40,
   "metadata": {},
   "outputs": [
    {
     "data": {
      "text/plain": [
       "Text(-9.075000000000003, 0.5, 'Distribution of qualities')"
      ]
     },
     "execution_count": 40,
     "metadata": {},
     "output_type": "execute_result"
    },
    {
     "data": {
      "image/png": "[encoded data removed]",
      "text/plain": [
       "<Figure size 720x360 with 1 Axes>"
      ]
     },
     "metadata": {
      "needs_background": "light"
     },
     "output_type": "display_data"
    }
   ],
   "source": [
    "# Import the necessary modules\n",
    "import matplotlib.pyplot as plt\n",
    "import seaborn as sns\n",
    "import pandas as pd\n",
    "\n",
    "# Initialize the lists for X and Y\n",
    "data = pd.read_csv('trnL_sub.qual', sep='\\t')\n",
    "\n",
    "df = pd.DataFrame(data)\n",
    "\n",
    "# distribution based on column 2 from file\n",
    "dist_plot = sns.displot(df.iloc[:, 1], bins=15)\n",
    "\n",
    "# show plot with custom width\n",
    "dist_plot.fig.set_figwidth(10)\n",
    "plt.ylabel(\"Distribution of qualities\")"
   ]
  },
  {
   "cell_type": "markdown",
   "metadata": {},
   "source": [
    "As expected, we have **very low error rates**, that's **pretty good!**"
   ]
  },
  {
   "cell_type": "markdown",
   "metadata": {},
   "source": [
    "Now, let's check our **read cleaning processing**:"
   ]
  },
  {
   "cell_type": "markdown",
   "metadata": {},
   "source": [
    "First, take a look again in the tag-pair found in **lowercase** in the demultiplexed sequences:"
   ]
  },
  {
   "cell_type": "code",
   "execution_count": 7,
   "metadata": {},
   "outputs": [
    {
     "name": "stdout",
     "output_type": "stream",
     "text": [
      "@M02980:420:000000000-G84WN:1:1101:14746:1924 1:N:0:GTCTACAC+GCCAAGGT\n",
      "caccttaccttaCCATTGAGTCTCTGCACCTATCCCCTTCCTATCTTAGGAGAAGAAACATTGTCTTCATGAACCGGATTTGGCTCAGGATTGCCCcctatgtgatgg\n"
     ]
    }
   ],
   "source": [
    "!head -2 demulti_linked_samples/Angelicaesinensis_a_LA.fq"
   ]
  },
  {
   "cell_type": "markdown",
   "metadata": {},
   "source": [
    "Let's chack again the tag-pair for **Angelicaesinensis_a** sample:"
   ]
  },
  {
   "cell_type": "code",
   "execution_count": 42,
   "metadata": {},
   "outputs": [
    {
     "name": "stdout",
     "output_type": "stream",
     "text": [
      "Angelicaesinensis_a\tCACCTTACCTTA\tCCATCACATAGG\n"
     ]
    }
   ],
   "source": [
    "!grep \"Angelicaesinensis_a\" trnL_sub_tags.txt"
   ]
  },
  {
   "cell_type": "markdown",
   "metadata": {},
   "source": [
    "Now, take a look in the **clip_out/tag_clip** output sequences:"
   ]
  },
  {
   "cell_type": "code",
   "execution_count": 43,
   "metadata": {},
   "outputs": [
    {
     "name": "stdout",
     "output_type": "stream",
     "text": [
      "head: cannot open 'clip_out/tag_clip/Angelicaesinensis_a_trim1.fq' for reading: No such file or directory\n"
     ]
    }
   ],
   "source": [
    "!head -2 clip_out/tag_clip/Angelicaesinensis_a_trim1.fq"
   ]
  },
  {
   "cell_type": "markdown",
   "metadata": {},
   "source": [
    "<p>As you can see in the mapping file, the 5&apos; tag is in forward direction <strong>caccttacctta</strong>, and the 3&apos; tag is the reverse complement of the reverse tag <strong>cctatgtgatgg&nbsp;</strong>(prom R2 pair-end read), configuring the tags orientation found in the <strong>Barcodes_LA3.fa</strong> file, which is the most common tag orientation in <strong>merged Illumina paired-end reads</strong>.</p>\n",
    "<p>Right after the tags in lowercase, we can see the the <strong>3&apos; primer in forward direction</strong> CCATTGAGTCTCTGCACCTATC, the <strong>amplicon </strong>and the <strong>5&apos; primer in reverse direction</strong>.</p>"
   ]
  },
  {
   "cell_type": "markdown",
   "metadata": {},
   "source": [
    "caccttacctta**CCATTGAGTCTCTGCACCTATC**`CCCTTCCTATCTTAGGAGAAGAAACATTGTCTTCATGAACCGGAT`**TTGGCTCAGGATTGCCC**cctatgtgatgg"
   ]
  },
  {
   "cell_type": "markdown",
   "metadata": {},
   "source": [
    "This amplicon is **3'->5'** oriented.<p>\n",
    "In the **`5'`** we find the `Reverse primer`, and in the **`3'`** we find the `Forward primer`, reverse complement."
   ]
  },
  {
   "cell_type": "markdown",
   "metadata": {},
   "source": [
    "Observe now in the **primer_clip** output the **primer removal**:"
   ]
  },
  {
   "cell_type": "code",
   "execution_count": 44,
   "metadata": {},
   "outputs": [
    {
     "name": "stdout",
     "output_type": "stream",
     "text": [
      "@M02980:420:000000000-G84WN:1:1101:14746:1924 1:N:0:GTCTACAC+GCCAAGGT\n",
      "CCCTTCCTATCTTAGGAGAAGAAACATTGTCTTCATGAACCGGAT\n"
     ]
    }
   ],
   "source": [
    "!head -2 clip_out/primer_clip/Angelicaesinensis_a_trim2.fq"
   ]
  },
  {
   "cell_type": "markdown",
   "metadata": {},
   "source": [
    "And finally, the **dereplicated** samples' sequences:"
   ]
  },
  {
   "cell_type": "code",
   "execution_count": 45,
   "metadata": {},
   "outputs": [
    {
     "name": "stdout",
     "output_type": "stream",
     "text": [
      ">addff39eca064dd9caa294721e6a23cab9c331ab;size=11061\n",
      "ATCCTATTTTCCAAAAACAAACAAAGGCCCAGAAGGTGAAAAAAG\n"
     ]
    }
   ],
   "source": [
    "!head -2 dereplicated/Angelicaesinensis_a_dp.fasta"
   ]
  },
  {
   "cell_type": "markdown",
   "metadata": {},
   "source": [
    "In the **dereplicated** samples, we have our **trimmed**, clean amplicons, with proper **hash names** and **abundance** \"size\" information."
   ]
  },
  {
   "cell_type": "markdown",
   "metadata": {},
   "source": [
    "**How many sequences were lost during the read cleaning step?**"
   ]
  },
  {
   "cell_type": "markdown",
   "metadata": {},
   "source": [
    "First, let's **count** the amount of **reads** for each **sample** right after the demultiplexing step:"
   ]
  },
  {
   "cell_type": "code",
   "execution_count": 32,
   "metadata": {},
   "outputs": [],
   "source": [
    "%%bash\n",
    "./count_fastq_sequences.sh demulti_linked_samples/*.fq > demulti_count_trnL.txt"
   ]
  },
  {
   "cell_type": "code",
   "execution_count": 34,
   "metadata": {},
   "outputs": [
    {
     "name": "stdout",
     "output_type": "stream",
     "text": [
      "\tdemulti_linked_samples/Angelicaesinensis_a_LA.fq : 22,358\n",
      "\tdemulti_linked_samples/Angelicaesinensis_b_LA.fq : 31,246\n",
      "\tdemulti_linked_samples/Carthamustinctorius_a_LA.fq : 29,172\n",
      "\tdemulti_linked_samples/Carthamustinctorius_b_LA.fq : 11,424\n",
      "\tdemulti_linked_samples/Citrusaurantium_a_LA.fq : 2,876\n",
      "\tdemulti_linked_samples/Citrusaurantium_b_LA.fq : 56,024\n",
      "\tdemulti_linked_samples/Cyperusrotundus_a_LA.fq : 32,552\n",
      "\tdemulti_linked_samples/Cyperusrotundus_b_LA.fq : 2,299\n",
      "\tdemulti_linked_samples/GXZYT_a_LA.fq : 37,335\n",
      "\tdemulti_linked_samples/GXZYT_b_LA.fq : 2,810\n"
     ]
    }
   ],
   "source": [
    "!head demulti_count_trnL.txt"
   ]
  },
  {
   "cell_type": "markdown",
   "metadata": {},
   "source": [
    "Now, let's **count** the amount of **reads** for each **sample** after the **dereplication** step:"
   ]
  },
  {
   "cell_type": "code",
   "execution_count": 38,
   "metadata": {},
   "outputs": [],
   "source": [
    "%%bash\n",
    "./count_fastq_sequences.sh dereplicated/*.fasta > derep_count_trnL.txt"
   ]
  },
  {
   "cell_type": "code",
   "execution_count": 39,
   "metadata": {},
   "outputs": [
    {
     "name": "stdout",
     "output_type": "stream",
     "text": [
      "\tdereplicated/Angelicaesinensis_a_dp.fasta : 872\n",
      "\tdereplicated/Angelicaesinensis_b_dp.fasta : 873\n",
      "\tdereplicated/Carthamustinctorius_a_dp.fasta : 825\n",
      "\tdereplicated/Carthamustinctorius_b_dp.fasta : 320\n",
      "\tdereplicated/Citrusaurantium_a_dp.fasta : 133\n",
      "\tdereplicated/Citrusaurantium_b_dp.fasta : 860\n",
      "\tdereplicated/Cyperusrotundus_a_dp.fasta : 855\n",
      "\tdereplicated/Cyperusrotundus_b_dp.fasta : 167\n",
      "\tdereplicated/GXZYT_a_dp.fasta : 724\n",
      "\tdereplicated/GXZYT_b_dp.fasta : 176\n"
     ]
    }
   ],
   "source": [
    "!head derep_count_trnL.txt"
   ]
  },
  {
   "cell_type": "markdown",
   "metadata": {},
   "source": [
    "We can see that the **removal of PCR duplicates**, identified as **exact duplicates** has a great impact on the **final number of reads**."
   ]
  },
  {
   "cell_type": "markdown",
   "metadata": {},
   "source": [
    "**We are ready to run the clustering step, which groups the amplicons by nucleotide similarity, creating the OTUs `(Operational Taxonomic Units)`, called by different names all the time. Basically, clustered similar amplicons.**"
   ]
  },
  {
   "cell_type": "code",
   "execution_count": null,
   "metadata": {
    "tags": []
   },
   "outputs": [],
   "source": [
    "%%bash\n",
    "./4_clustering_swarm_with_chim_filter.sh trnL_sub /home/jupyter/METAPIPE_Workshop2021/dereplicated"
   ]
  },
  {
   "cell_type": "markdown",
   "metadata": {},
   "source": [
    "You may check SWARM documentation here: https://github.com/torognes/swarm"
   ]
  },
  {
   "cell_type": "markdown",
   "metadata": {},
   "source": [
    "**Let's check what was produced?**"
   ]
  },
  {
   "cell_type": "code",
   "execution_count": null,
   "metadata": {},
   "outputs": [],
   "source": [
    "%ls -lat | head"
   ]
  },
  {
   "cell_type": "markdown",
   "metadata": {},
   "source": [
    "The `_representatives.fas` presents the representative sequence of each OTU, in fasta format, and respective OTU abundance."
   ]
  },
  {
   "cell_type": "code",
   "execution_count": 9,
   "metadata": {},
   "outputs": [
    {
     "name": "stdout",
     "output_type": "stream",
     "text": [
      ">a84c749701d67d1226018c6714b72e543a618f16;size=64940;\n",
      "CTTTTTTTATATAAAAAAAAATTTTATAATATAATAAAAAATTTAGAATAATAATATTCTATATATATTATATATTTTTTTATATTTTTTCAAAATAATGAT\n",
      ">ac90db76fbae68003ec939d36b9847a46cbfa3c7;size=51129;\n",
      "ATCCTCTTCTCTTTTCCAAGAACAAACAGGGGTTCAGAAAGCGAAAAAGGGG\n"
     ]
    }
   ],
   "source": [
    "!head -4 trnL_sub_cluster_representatives.fas"
   ]
  },
  {
   "cell_type": "markdown",
   "metadata": {},
   "source": [
    "The `_representatives2blast.fas` is the same output as `_representatives.fas`, but the abundance information is edited in order to facilitate the Blast header parsing."
   ]
  },
  {
   "cell_type": "code",
   "execution_count": 10,
   "metadata": {},
   "outputs": [
    {
     "name": "stdout",
     "output_type": "stream",
     "text": [
      ">a84c749701d67d1226018c6714b72e543a618f16_64940\n",
      "CTTTTTTTATATAAAAAAAAATTTTATAATATAATAAAAAATTTAGAATAATAATATTCTATATATATTATATATTTTTTTATATTTTTTCAAAATAATGAT\n",
      ">ac90db76fbae68003ec939d36b9847a46cbfa3c7_51129\n",
      "ATCCTCTTCTCTTTTCCAAGAACAAACAGGGGTTCAGAAAGCGAAAAAGGGG\n"
     ]
    }
   ],
   "source": [
    "!head -4 trnL_sub_cluster_representatives2blast.fas"
   ]
  },
  {
   "cell_type": "markdown",
   "metadata": {},
   "source": [
    "The `.stats` output is very important, because it holds the **quantitative metrics** for each OTU:<p>"
   ]
  },
  {
   "cell_type": "code",
   "execution_count": 13,
   "metadata": {},
   "outputs": [
    {
     "data": {
      "text/html": [
       "<div>\n",
       "<style scoped>\n",
       "    .dataframe tbody tr th:only-of-type {\n",
       "        vertical-align: middle;\n",
       "    }\n",
       "\n",
       "    .dataframe tbody tr th {\n",
       "        vertical-align: top;\n",
       "    }\n",
       "\n",
       "    .dataframe thead th {\n",
       "        text-align: right;\n",
       "    }\n",
       "</style>\n",
       "<table border=\"1\" class=\"dataframe\">\n",
       "  <thead>\n",
       "    <tr style=\"text-align: right;\">\n",
       "      <th></th>\n",
       "      <th>0</th>\n",
       "      <th>1</th>\n",
       "      <th>2</th>\n",
       "      <th>3</th>\n",
       "      <th>4</th>\n",
       "      <th>5</th>\n",
       "      <th>6</th>\n",
       "    </tr>\n",
       "  </thead>\n",
       "  <tbody>\n",
       "    <tr>\n",
       "      <th>0</th>\n",
       "      <td>2684</td>\n",
       "      <td>64940</td>\n",
       "      <td>a84c749701d67d1226018c6714b72e543a618f16</td>\n",
       "      <td>44856</td>\n",
       "      <td>1949</td>\n",
       "      <td>8</td>\n",
       "      <td>8</td>\n",
       "    </tr>\n",
       "    <tr>\n",
       "      <th>1</th>\n",
       "      <td>989</td>\n",
       "      <td>51129</td>\n",
       "      <td>ac90db76fbae68003ec939d36b9847a46cbfa3c7</td>\n",
       "      <td>43740</td>\n",
       "      <td>730</td>\n",
       "      <td>5</td>\n",
       "      <td>5</td>\n",
       "    </tr>\n",
       "    <tr>\n",
       "      <th>2</th>\n",
       "      <td>865</td>\n",
       "      <td>43673</td>\n",
       "      <td>2987db85c9fae5a1464f814e070b7507621e8a57</td>\n",
       "      <td>36626</td>\n",
       "      <td>635</td>\n",
       "      <td>4</td>\n",
       "      <td>4</td>\n",
       "    </tr>\n",
       "    <tr>\n",
       "      <th>3</th>\n",
       "      <td>767</td>\n",
       "      <td>37670</td>\n",
       "      <td>a069993ab97b3f720cf66567bfb1fad838b20dc6</td>\n",
       "      <td>32359</td>\n",
       "      <td>553</td>\n",
       "      <td>5</td>\n",
       "      <td>5</td>\n",
       "    </tr>\n",
       "  </tbody>\n",
       "</table>\n",
       "</div>"
      ],
      "text/plain": [
       "      0      1                                         2      3     4  5  6\n",
       "0  2684  64940  a84c749701d67d1226018c6714b72e543a618f16  44856  1949  8  8\n",
       "1   989  51129  ac90db76fbae68003ec939d36b9847a46cbfa3c7  43740   730  5  5\n",
       "2   865  43673  2987db85c9fae5a1464f814e070b7507621e8a57  36626   635  4  4\n",
       "3   767  37670  a069993ab97b3f720cf66567bfb1fad838b20dc6  32359   553  5  5"
      ]
     },
     "execution_count": 13,
     "metadata": {},
     "output_type": "execute_result"
    }
   ],
   "source": [
    "get_glimpse_head('trnL_sub_cluster.stats', file_header=False, n_lines=4)"
   ]
  },
  {
   "cell_type": "markdown",
   "metadata": {},
   "source": [
    "0.number of unique sequences in the OTU,<p>\n",
    "1.**total abundance of sequences in the OTU**,<p>\n",
    "2.**identifier of the initial seed (the amplicon)**,<p>\n",
    "3.initial seed abundance,<p>\n",
    "4.number of sequences with an abundance of 1 in the OTU (singletons),<p>\n",
    "5.maximum number of iterations before the OTU reached its natural limit,<p>\n",
    "6.cummulated number of steps along the path joining the seed and the furthermost amplicon in the OTU.<p>"
   ]
  },
  {
   "cell_type": "markdown",
   "metadata": {},
   "source": [
    "The `.uchime` output shows the chimera checking metrics:"
   ]
  },
  {
   "cell_type": "code",
   "execution_count": 14,
   "metadata": {},
   "outputs": [
    {
     "data": {
      "text/html": [
       "<div>\n",
       "<style scoped>\n",
       "    .dataframe tbody tr th:only-of-type {\n",
       "        vertical-align: middle;\n",
       "    }\n",
       "\n",
       "    .dataframe tbody tr th {\n",
       "        vertical-align: top;\n",
       "    }\n",
       "\n",
       "    .dataframe thead th {\n",
       "        text-align: right;\n",
       "    }\n",
       "</style>\n",
       "<table border=\"1\" class=\"dataframe\">\n",
       "  <thead>\n",
       "    <tr style=\"text-align: right;\">\n",
       "      <th></th>\n",
       "      <th>0</th>\n",
       "      <th>1</th>\n",
       "      <th>2</th>\n",
       "      <th>3</th>\n",
       "      <th>4</th>\n",
       "      <th>5</th>\n",
       "      <th>6</th>\n",
       "      <th>7</th>\n",
       "      <th>8</th>\n",
       "      <th>9</th>\n",
       "      <th>10</th>\n",
       "      <th>11</th>\n",
       "      <th>12</th>\n",
       "      <th>13</th>\n",
       "      <th>14</th>\n",
       "      <th>15</th>\n",
       "      <th>16</th>\n",
       "      <th>17</th>\n",
       "    </tr>\n",
       "  </thead>\n",
       "  <tbody>\n",
       "    <tr>\n",
       "      <th>0</th>\n",
       "      <td>0.0</td>\n",
       "      <td>a84c749701d67d1226018c6714b72e543a618f16;size=...</td>\n",
       "      <td>*</td>\n",
       "      <td>*</td>\n",
       "      <td>*</td>\n",
       "      <td>*</td>\n",
       "      <td>*</td>\n",
       "      <td>*</td>\n",
       "      <td>*</td>\n",
       "      <td>*</td>\n",
       "      <td>0</td>\n",
       "      <td>0</td>\n",
       "      <td>0</td>\n",
       "      <td>0</td>\n",
       "      <td>0</td>\n",
       "      <td>0</td>\n",
       "      <td>*</td>\n",
       "      <td>N</td>\n",
       "    </tr>\n",
       "    <tr>\n",
       "      <th>1</th>\n",
       "      <td>0.0</td>\n",
       "      <td>ac90db76fbae68003ec939d36b9847a46cbfa3c7;size=...</td>\n",
       "      <td>*</td>\n",
       "      <td>*</td>\n",
       "      <td>*</td>\n",
       "      <td>*</td>\n",
       "      <td>*</td>\n",
       "      <td>*</td>\n",
       "      <td>*</td>\n",
       "      <td>*</td>\n",
       "      <td>0</td>\n",
       "      <td>0</td>\n",
       "      <td>0</td>\n",
       "      <td>0</td>\n",
       "      <td>0</td>\n",
       "      <td>0</td>\n",
       "      <td>*</td>\n",
       "      <td>N</td>\n",
       "    </tr>\n",
       "    <tr>\n",
       "      <th>2</th>\n",
       "      <td>0.0</td>\n",
       "      <td>2987db85c9fae5a1464f814e070b7507621e8a57;size=...</td>\n",
       "      <td>*</td>\n",
       "      <td>*</td>\n",
       "      <td>*</td>\n",
       "      <td>*</td>\n",
       "      <td>*</td>\n",
       "      <td>*</td>\n",
       "      <td>*</td>\n",
       "      <td>*</td>\n",
       "      <td>0</td>\n",
       "      <td>0</td>\n",
       "      <td>0</td>\n",
       "      <td>0</td>\n",
       "      <td>0</td>\n",
       "      <td>0</td>\n",
       "      <td>*</td>\n",
       "      <td>N</td>\n",
       "    </tr>\n",
       "    <tr>\n",
       "      <th>3</th>\n",
       "      <td>0.0</td>\n",
       "      <td>addff39eca064dd9caa294721e6a23cab9c331ab;size=...</td>\n",
       "      <td>*</td>\n",
       "      <td>*</td>\n",
       "      <td>*</td>\n",
       "      <td>*</td>\n",
       "      <td>*</td>\n",
       "      <td>*</td>\n",
       "      <td>*</td>\n",
       "      <td>*</td>\n",
       "      <td>0</td>\n",
       "      <td>0</td>\n",
       "      <td>0</td>\n",
       "      <td>0</td>\n",
       "      <td>0</td>\n",
       "      <td>0</td>\n",
       "      <td>*</td>\n",
       "      <td>N</td>\n",
       "    </tr>\n",
       "  </tbody>\n",
       "</table>\n",
       "</div>"
      ],
      "text/plain": [
       "    0                                                  1  2  3  4  5  6  7   \\\n",
       "0  0.0  a84c749701d67d1226018c6714b72e543a618f16;size=...  *  *  *  *  *  *   \n",
       "1  0.0  ac90db76fbae68003ec939d36b9847a46cbfa3c7;size=...  *  *  *  *  *  *   \n",
       "2  0.0  2987db85c9fae5a1464f814e070b7507621e8a57;size=...  *  *  *  *  *  *   \n",
       "3  0.0  addff39eca064dd9caa294721e6a23cab9c331ab;size=...  *  *  *  *  *  *   \n",
       "\n",
       "  8  9   10  11  12  13  14  15 16 17  \n",
       "0  *  *   0   0   0   0   0   0  *  N  \n",
       "1  *  *   0   0   0   0   0   0  *  N  \n",
       "2  *  *   0   0   0   0   0   0  *  N  \n",
       "3  *  *   0   0   0   0   0   0  *  N  "
      ]
     },
     "execution_count": 14,
     "metadata": {},
     "output_type": "execute_result"
    }
   ],
   "source": [
    "get_glimpse_head('trnL_sub_cluster_representatives.uchime', file_header=False, n_lines=4)"
   ]
  },
  {
   "cell_type": "markdown",
   "metadata": {},
   "source": [
    "... which in this case are all *non-chimeras*:"
   ]
  },
  {
   "cell_type": "code",
   "execution_count": 18,
   "metadata": {},
   "outputs": [
    {
     "name": "stdout",
     "output_type": "stream",
     "text": [
      "0\n"
     ]
    }
   ],
   "source": [
    "!grep -c \"T\" trnL_sub_cluster_representatives.uchime "
   ]
  },
  {
   "cell_type": "markdown",
   "metadata": {},
   "source": [
    "**Now we are ready to perform the BLAST alignment of the representative seeds `(OTU representatives)` against our reference database previously formatted:**"
   ]
  },
  {
   "cell_type": "markdown",
   "metadata": {},
   "source": [
    "We are going to run the following steps using the **complete `Streptophyta_trnL_NCBI.fasta` database** previously downloaded, and the respective **`target_trnL.uniq.fasta`** fasta with the formatted **taxonomy lineage** headers."
   ]
  },
  {
   "cell_type": "code",
   "execution_count": null,
   "metadata": {},
   "outputs": [],
   "source": [
    "!bash 5_BLAST_options.sh -h"
   ]
  },
  {
   "cell_type": "code",
   "execution_count": null,
   "metadata": {},
   "outputs": [],
   "source": [
    "%%bash\n",
    "./5_BLAST_options.sh \\\n",
    "    -f trnL_sub_cluster_representatives2blast.fas \\\n",
    "    -d target_trnL.uniq.fasta -s 0.95 -c 0.5 -t 4 -o target95_trnL"
   ]
  },
  {
   "cell_type": "markdown",
   "metadata": {},
   "source": [
    "ATTENTION: if you would like to run the search against the entire `NT` NCBI database, run The BLAST command above using `-d NT`."
   ]
  },
  {
   "cell_type": "code",
   "execution_count": null,
   "metadata": {},
   "outputs": [],
   "source": [
    "%ls -lat | head"
   ]
  },
  {
   "cell_type": "markdown",
   "metadata": {},
   "source": [
    "**Let's get a glimpse of the BLAST result?**"
   ]
  },
  {
   "cell_type": "code",
   "execution_count": 49,
   "metadata": {},
   "outputs": [
    {
     "data": {
      "text/html": [
       "<div>\n",
       "<style scoped>\n",
       "    .dataframe tbody tr th:only-of-type {\n",
       "        vertical-align: middle;\n",
       "    }\n",
       "\n",
       "    .dataframe tbody tr th {\n",
       "        vertical-align: top;\n",
       "    }\n",
       "\n",
       "    .dataframe thead th {\n",
       "        text-align: right;\n",
       "    }\n",
       "</style>\n",
       "<table border=\"1\" class=\"dataframe\">\n",
       "  <thead>\n",
       "    <tr style=\"text-align: right;\">\n",
       "      <th></th>\n",
       "      <th>0</th>\n",
       "      <th>1</th>\n",
       "      <th>2</th>\n",
       "      <th>3</th>\n",
       "      <th>4</th>\n",
       "    </tr>\n",
       "  </thead>\n",
       "  <tbody>\n",
       "    <tr>\n",
       "      <th>0</th>\n",
       "      <td>ac90db76fbae68003ec939d36b9847a46cbfa3c7_51129</td>\n",
       "      <td>100.0</td>\n",
       "      <td>Eukaryota|Streptophyta|Magnoliopsida|Sapindale...</td>\n",
       "      <td>gb|KY656130.1|</td>\n",
       "      <td>NaN</td>\n",
       "    </tr>\n",
       "    <tr>\n",
       "      <th>1</th>\n",
       "      <td>2987db85c9fae5a1464f814e070b7507621e8a57_43673</td>\n",
       "      <td>100.0</td>\n",
       "      <td>Eukaryota|Streptophyta|Magnoliopsida|Poales|Po...</td>\n",
       "      <td>gb|MN715130.1|</td>\n",
       "      <td>NaN</td>\n",
       "    </tr>\n",
       "    <tr>\n",
       "      <th>2</th>\n",
       "      <td>addff39eca064dd9caa294721e6a23cab9c331ab_41429</td>\n",
       "      <td>100.0</td>\n",
       "      <td>Eukaryota|Streptophyta|Magnoliopsida|Apiales|A...</td>\n",
       "      <td>gb|MT846883.1|</td>\n",
       "      <td>NaN</td>\n",
       "    </tr>\n",
       "    <tr>\n",
       "      <th>3</th>\n",
       "      <td>a069993ab97b3f720cf66567bfb1fad838b20dc6_37670</td>\n",
       "      <td>100.0</td>\n",
       "      <td>Eukaryota|Streptophyta|Magnoliopsida|Laurales|...</td>\n",
       "      <td>gb|MN482111.1|</td>\n",
       "      <td>NaN</td>\n",
       "    </tr>\n",
       "    <tr>\n",
       "      <th>4</th>\n",
       "      <td>28bf85082548d49c8d3b2793064a2fae0f417562_34741</td>\n",
       "      <td>100.0</td>\n",
       "      <td>Eukaryota|Streptophyta|Magnoliopsida|Rosales|R...</td>\n",
       "      <td>gb|MK411811.1|</td>\n",
       "      <td>NaN</td>\n",
       "    </tr>\n",
       "    <tr>\n",
       "      <th>5</th>\n",
       "      <td>967e951648145482fcc47f85b2a3530bec26d552_33003</td>\n",
       "      <td>100.0</td>\n",
       "      <td>Eukaryota|Streptophyta|Magnoliopsida|Apiales|A...</td>\n",
       "      <td>gb|MT846883.1|</td>\n",
       "      <td>NaN</td>\n",
       "    </tr>\n",
       "    <tr>\n",
       "      <th>6</th>\n",
       "      <td>36ecc3a6b7c304e724eb2680f97c751acaa0cdf6_20092</td>\n",
       "      <td>100.0</td>\n",
       "      <td>Eukaryota|Streptophyta|Magnoliopsida|Fabales|F...</td>\n",
       "      <td>gb|MN167287.1|</td>\n",
       "      <td>NaN</td>\n",
       "    </tr>\n",
       "    <tr>\n",
       "      <th>7</th>\n",
       "      <td>7bb64ef2725b146c74add357867e20995ecd52ee_19835</td>\n",
       "      <td>100.0</td>\n",
       "      <td>Eukaryota|Streptophyta|Magnoliopsida|Sapindale...</td>\n",
       "      <td>gb|KY656130.1|</td>\n",
       "      <td>NaN</td>\n",
       "    </tr>\n",
       "    <tr>\n",
       "      <th>8</th>\n",
       "      <td>1d2c40bd28ba9fcb65db0be2eea63b1e8e1428c4_17286</td>\n",
       "      <td>100.0</td>\n",
       "      <td>Eukaryota|Streptophyta|Magnoliopsida|Asterales...</td>\n",
       "      <td>gb|MW984537.1|</td>\n",
       "      <td>NaN</td>\n",
       "    </tr>\n",
       "    <tr>\n",
       "      <th>9</th>\n",
       "      <td>720f7ec10f985a208dcb0947d436ba0b5871ed40_16708</td>\n",
       "      <td>100.0</td>\n",
       "      <td>Eukaryota|Streptophyta|Magnoliopsida|Poales|Po...</td>\n",
       "      <td>gb|MN715130.1|</td>\n",
       "      <td>NaN</td>\n",
       "    </tr>\n",
       "  </tbody>\n",
       "</table>\n",
       "</div>"
      ],
      "text/plain": [
       "                                                0      1  \\\n",
       "0  ac90db76fbae68003ec939d36b9847a46cbfa3c7_51129  100.0   \n",
       "1  2987db85c9fae5a1464f814e070b7507621e8a57_43673  100.0   \n",
       "2  addff39eca064dd9caa294721e6a23cab9c331ab_41429  100.0   \n",
       "3  a069993ab97b3f720cf66567bfb1fad838b20dc6_37670  100.0   \n",
       "4  28bf85082548d49c8d3b2793064a2fae0f417562_34741  100.0   \n",
       "5  967e951648145482fcc47f85b2a3530bec26d552_33003  100.0   \n",
       "6  36ecc3a6b7c304e724eb2680f97c751acaa0cdf6_20092  100.0   \n",
       "7  7bb64ef2725b146c74add357867e20995ecd52ee_19835  100.0   \n",
       "8  1d2c40bd28ba9fcb65db0be2eea63b1e8e1428c4_17286  100.0   \n",
       "9  720f7ec10f985a208dcb0947d436ba0b5871ed40_16708  100.0   \n",
       "\n",
       "                                                   2               3   4  \n",
       "0  Eukaryota|Streptophyta|Magnoliopsida|Sapindale...  gb|KY656130.1| NaN  \n",
       "1  Eukaryota|Streptophyta|Magnoliopsida|Poales|Po...  gb|MN715130.1| NaN  \n",
       "2  Eukaryota|Streptophyta|Magnoliopsida|Apiales|A...  gb|MT846883.1| NaN  \n",
       "3  Eukaryota|Streptophyta|Magnoliopsida|Laurales|...  gb|MN482111.1| NaN  \n",
       "4  Eukaryota|Streptophyta|Magnoliopsida|Rosales|R...  gb|MK411811.1| NaN  \n",
       "5  Eukaryota|Streptophyta|Magnoliopsida|Apiales|A...  gb|MT846883.1| NaN  \n",
       "6  Eukaryota|Streptophyta|Magnoliopsida|Fabales|F...  gb|MN167287.1| NaN  \n",
       "7  Eukaryota|Streptophyta|Magnoliopsida|Sapindale...  gb|KY656130.1| NaN  \n",
       "8  Eukaryota|Streptophyta|Magnoliopsida|Asterales...  gb|MW984537.1| NaN  \n",
       "9  Eukaryota|Streptophyta|Magnoliopsida|Poales|Po...  gb|MN715130.1| NaN  "
      ]
     },
     "execution_count": 49,
     "metadata": {},
     "output_type": "execute_result"
    }
   ],
   "source": [
    "get_glimpse_head('target95_trnL_local_blast.tab', file_header=False)"
   ]
  },
  {
   "cell_type": "markdown",
   "metadata": {},
   "source": [
    "Now converting the abundance information into a column:"
   ]
  },
  {
   "cell_type": "code",
   "execution_count": 50,
   "metadata": {},
   "outputs": [
    {
     "data": {
      "text/html": [
       "<div>\n",
       "<style scoped>\n",
       "    .dataframe tbody tr th:only-of-type {\n",
       "        vertical-align: middle;\n",
       "    }\n",
       "\n",
       "    .dataframe tbody tr th {\n",
       "        vertical-align: top;\n",
       "    }\n",
       "\n",
       "    .dataframe thead th {\n",
       "        text-align: right;\n",
       "    }\n",
       "</style>\n",
       "<table border=\"1\" class=\"dataframe\">\n",
       "  <thead>\n",
       "    <tr style=\"text-align: right;\">\n",
       "      <th></th>\n",
       "      <th>0</th>\n",
       "      <th>1</th>\n",
       "      <th>2</th>\n",
       "      <th>3</th>\n",
       "      <th>4</th>\n",
       "      <th>5</th>\n",
       "    </tr>\n",
       "  </thead>\n",
       "  <tbody>\n",
       "    <tr>\n",
       "      <th>0</th>\n",
       "      <td>ac90db76fbae68003ec939d36b9847a46cbfa3c7</td>\n",
       "      <td>51129</td>\n",
       "      <td>100.0</td>\n",
       "      <td>Eukaryota|Streptophyta|Magnoliopsida|Sapindale...</td>\n",
       "      <td>KY656130.1</td>\n",
       "      <td>NaN</td>\n",
       "    </tr>\n",
       "    <tr>\n",
       "      <th>1</th>\n",
       "      <td>2987db85c9fae5a1464f814e070b7507621e8a57</td>\n",
       "      <td>43673</td>\n",
       "      <td>100.0</td>\n",
       "      <td>Eukaryota|Streptophyta|Magnoliopsida|Poales|Po...</td>\n",
       "      <td>MN715130.1</td>\n",
       "      <td>NaN</td>\n",
       "    </tr>\n",
       "    <tr>\n",
       "      <th>2</th>\n",
       "      <td>addff39eca064dd9caa294721e6a23cab9c331ab</td>\n",
       "      <td>41429</td>\n",
       "      <td>100.0</td>\n",
       "      <td>Eukaryota|Streptophyta|Magnoliopsida|Apiales|A...</td>\n",
       "      <td>MT846883.1</td>\n",
       "      <td>NaN</td>\n",
       "    </tr>\n",
       "    <tr>\n",
       "      <th>3</th>\n",
       "      <td>a069993ab97b3f720cf66567bfb1fad838b20dc6</td>\n",
       "      <td>37670</td>\n",
       "      <td>100.0</td>\n",
       "      <td>Eukaryota|Streptophyta|Magnoliopsida|Laurales|...</td>\n",
       "      <td>MN482111.1</td>\n",
       "      <td>NaN</td>\n",
       "    </tr>\n",
       "    <tr>\n",
       "      <th>4</th>\n",
       "      <td>28bf85082548d49c8d3b2793064a2fae0f417562</td>\n",
       "      <td>34741</td>\n",
       "      <td>100.0</td>\n",
       "      <td>Eukaryota|Streptophyta|Magnoliopsida|Rosales|R...</td>\n",
       "      <td>MK411811.1</td>\n",
       "      <td>NaN</td>\n",
       "    </tr>\n",
       "    <tr>\n",
       "      <th>5</th>\n",
       "      <td>967e951648145482fcc47f85b2a3530bec26d552</td>\n",
       "      <td>33003</td>\n",
       "      <td>100.0</td>\n",
       "      <td>Eukaryota|Streptophyta|Magnoliopsida|Apiales|A...</td>\n",
       "      <td>MT846883.1</td>\n",
       "      <td>NaN</td>\n",
       "    </tr>\n",
       "    <tr>\n",
       "      <th>6</th>\n",
       "      <td>36ecc3a6b7c304e724eb2680f97c751acaa0cdf6</td>\n",
       "      <td>20092</td>\n",
       "      <td>100.0</td>\n",
       "      <td>Eukaryota|Streptophyta|Magnoliopsida|Fabales|F...</td>\n",
       "      <td>MN167287.1</td>\n",
       "      <td>NaN</td>\n",
       "    </tr>\n",
       "    <tr>\n",
       "      <th>7</th>\n",
       "      <td>7bb64ef2725b146c74add357867e20995ecd52ee</td>\n",
       "      <td>19835</td>\n",
       "      <td>100.0</td>\n",
       "      <td>Eukaryota|Streptophyta|Magnoliopsida|Sapindale...</td>\n",
       "      <td>KY656130.1</td>\n",
       "      <td>NaN</td>\n",
       "    </tr>\n",
       "    <tr>\n",
       "      <th>8</th>\n",
       "      <td>1d2c40bd28ba9fcb65db0be2eea63b1e8e1428c4</td>\n",
       "      <td>17286</td>\n",
       "      <td>100.0</td>\n",
       "      <td>Eukaryota|Streptophyta|Magnoliopsida|Asterales...</td>\n",
       "      <td>MW984537.1</td>\n",
       "      <td>NaN</td>\n",
       "    </tr>\n",
       "    <tr>\n",
       "      <th>9</th>\n",
       "      <td>720f7ec10f985a208dcb0947d436ba0b5871ed40</td>\n",
       "      <td>16708</td>\n",
       "      <td>100.0</td>\n",
       "      <td>Eukaryota|Streptophyta|Magnoliopsida|Poales|Po...</td>\n",
       "      <td>MN715130.1</td>\n",
       "      <td>NaN</td>\n",
       "    </tr>\n",
       "  </tbody>\n",
       "</table>\n",
       "</div>"
      ],
      "text/plain": [
       "                                          0      1      2  \\\n",
       "0  ac90db76fbae68003ec939d36b9847a46cbfa3c7  51129  100.0   \n",
       "1  2987db85c9fae5a1464f814e070b7507621e8a57  43673  100.0   \n",
       "2  addff39eca064dd9caa294721e6a23cab9c331ab  41429  100.0   \n",
       "3  a069993ab97b3f720cf66567bfb1fad838b20dc6  37670  100.0   \n",
       "4  28bf85082548d49c8d3b2793064a2fae0f417562  34741  100.0   \n",
       "5  967e951648145482fcc47f85b2a3530bec26d552  33003  100.0   \n",
       "6  36ecc3a6b7c304e724eb2680f97c751acaa0cdf6  20092  100.0   \n",
       "7  7bb64ef2725b146c74add357867e20995ecd52ee  19835  100.0   \n",
       "8  1d2c40bd28ba9fcb65db0be2eea63b1e8e1428c4  17286  100.0   \n",
       "9  720f7ec10f985a208dcb0947d436ba0b5871ed40  16708  100.0   \n",
       "\n",
       "                                                   3           4   5  \n",
       "0  Eukaryota|Streptophyta|Magnoliopsida|Sapindale...  KY656130.1 NaN  \n",
       "1  Eukaryota|Streptophyta|Magnoliopsida|Poales|Po...  MN715130.1 NaN  \n",
       "2  Eukaryota|Streptophyta|Magnoliopsida|Apiales|A...  MT846883.1 NaN  \n",
       "3  Eukaryota|Streptophyta|Magnoliopsida|Laurales|...  MN482111.1 NaN  \n",
       "4  Eukaryota|Streptophyta|Magnoliopsida|Rosales|R...  MK411811.1 NaN  \n",
       "5  Eukaryota|Streptophyta|Magnoliopsida|Apiales|A...  MT846883.1 NaN  \n",
       "6  Eukaryota|Streptophyta|Magnoliopsida|Fabales|F...  MN167287.1 NaN  \n",
       "7  Eukaryota|Streptophyta|Magnoliopsida|Sapindale...  KY656130.1 NaN  \n",
       "8  Eukaryota|Streptophyta|Magnoliopsida|Asterales...  MW984537.1 NaN  \n",
       "9  Eukaryota|Streptophyta|Magnoliopsida|Poales|Po...  MN715130.1 NaN  "
      ]
     },
     "execution_count": 50,
     "metadata": {},
     "output_type": "execute_result"
    }
   ],
   "source": [
    "get_glimpse_head('Blast_results_formatted2OTUtable.tab', file_header=False)"
   ]
  },
  {
   "cell_type": "markdown",
   "metadata": {},
   "source": [
    "And finally formatting the BLAST output as the **taxa assignment table**, required to run the **data analysis** process using R packages, mostly the **Phyloseq** package: "
   ]
  },
  {
   "cell_type": "code",
   "execution_count": 51,
   "metadata": {},
   "outputs": [
    {
     "data": {
      "text/html": [
       "<div>\n",
       "<style scoped>\n",
       "    .dataframe tbody tr th:only-of-type {\n",
       "        vertical-align: middle;\n",
       "    }\n",
       "\n",
       "    .dataframe tbody tr th {\n",
       "        vertical-align: top;\n",
       "    }\n",
       "\n",
       "    .dataframe thead th {\n",
       "        text-align: right;\n",
       "    }\n",
       "</style>\n",
       "<table border=\"1\" class=\"dataframe\">\n",
       "  <thead>\n",
       "    <tr style=\"text-align: right;\">\n",
       "      <th></th>\n",
       "      <th>amplicon</th>\n",
       "      <th>Kingdom</th>\n",
       "      <th>Phylum</th>\n",
       "      <th>Class</th>\n",
       "      <th>Ord</th>\n",
       "      <th>Family</th>\n",
       "      <th>Genus</th>\n",
       "      <th>Species</th>\n",
       "      <th>SIM</th>\n",
       "      <th>OTU_abundance</th>\n",
       "    </tr>\n",
       "  </thead>\n",
       "  <tbody>\n",
       "    <tr>\n",
       "      <th>0</th>\n",
       "      <td>ac90db76fbae68003ec939d36b9847a46cbfa3c7</td>\n",
       "      <td>Eukaryota</td>\n",
       "      <td>Streptophyta</td>\n",
       "      <td>Magnoliopsida</td>\n",
       "      <td>Sapindales</td>\n",
       "      <td>Rutaceae</td>\n",
       "      <td>Citrus</td>\n",
       "      <td>micrantha</td>\n",
       "      <td>100.0</td>\n",
       "      <td>51129</td>\n",
       "    </tr>\n",
       "    <tr>\n",
       "      <th>1</th>\n",
       "      <td>2987db85c9fae5a1464f814e070b7507621e8a57</td>\n",
       "      <td>Eukaryota</td>\n",
       "      <td>Streptophyta</td>\n",
       "      <td>Magnoliopsida</td>\n",
       "      <td>Poales</td>\n",
       "      <td>Poaceae</td>\n",
       "      <td>Zea</td>\n",
       "      <td>mays</td>\n",
       "      <td>100.0</td>\n",
       "      <td>43673</td>\n",
       "    </tr>\n",
       "    <tr>\n",
       "      <th>2</th>\n",
       "      <td>addff39eca064dd9caa294721e6a23cab9c331ab</td>\n",
       "      <td>Eukaryota</td>\n",
       "      <td>Streptophyta</td>\n",
       "      <td>Magnoliopsida</td>\n",
       "      <td>Apiales</td>\n",
       "      <td>Apiaceae</td>\n",
       "      <td>Selinum</td>\n",
       "      <td>carvifolia</td>\n",
       "      <td>100.0</td>\n",
       "      <td>41429</td>\n",
       "    </tr>\n",
       "    <tr>\n",
       "      <th>3</th>\n",
       "      <td>a069993ab97b3f720cf66567bfb1fad838b20dc6</td>\n",
       "      <td>Eukaryota</td>\n",
       "      <td>Streptophyta</td>\n",
       "      <td>Magnoliopsida</td>\n",
       "      <td>Laurales</td>\n",
       "      <td>Lauraceae</td>\n",
       "      <td>Cinnamomum</td>\n",
       "      <td>camphora</td>\n",
       "      <td>100.0</td>\n",
       "      <td>37670</td>\n",
       "    </tr>\n",
       "    <tr>\n",
       "      <th>4</th>\n",
       "      <td>28bf85082548d49c8d3b2793064a2fae0f417562</td>\n",
       "      <td>Eukaryota</td>\n",
       "      <td>Streptophyta</td>\n",
       "      <td>Magnoliopsida</td>\n",
       "      <td>Rosales</td>\n",
       "      <td>Rosaceae</td>\n",
       "      <td>Prunus</td>\n",
       "      <td>sunhangii</td>\n",
       "      <td>100.0</td>\n",
       "      <td>34741</td>\n",
       "    </tr>\n",
       "    <tr>\n",
       "      <th>5</th>\n",
       "      <td>967e951648145482fcc47f85b2a3530bec26d552</td>\n",
       "      <td>Eukaryota</td>\n",
       "      <td>Streptophyta</td>\n",
       "      <td>Magnoliopsida</td>\n",
       "      <td>Apiales</td>\n",
       "      <td>Apiaceae</td>\n",
       "      <td>Selinum</td>\n",
       "      <td>carvifolia</td>\n",
       "      <td>100.0</td>\n",
       "      <td>33003</td>\n",
       "    </tr>\n",
       "    <tr>\n",
       "      <th>6</th>\n",
       "      <td>36ecc3a6b7c304e724eb2680f97c751acaa0cdf6</td>\n",
       "      <td>Eukaryota</td>\n",
       "      <td>Streptophyta</td>\n",
       "      <td>Magnoliopsida</td>\n",
       "      <td>Fabales</td>\n",
       "      <td>Fabaceae</td>\n",
       "      <td>Glycyrrhiza</td>\n",
       "      <td>glabra</td>\n",
       "      <td>100.0</td>\n",
       "      <td>20092</td>\n",
       "    </tr>\n",
       "    <tr>\n",
       "      <th>7</th>\n",
       "      <td>7bb64ef2725b146c74add357867e20995ecd52ee</td>\n",
       "      <td>Eukaryota</td>\n",
       "      <td>Streptophyta</td>\n",
       "      <td>Magnoliopsida</td>\n",
       "      <td>Sapindales</td>\n",
       "      <td>Rutaceae</td>\n",
       "      <td>Citrus</td>\n",
       "      <td>micrantha</td>\n",
       "      <td>100.0</td>\n",
       "      <td>19835</td>\n",
       "    </tr>\n",
       "    <tr>\n",
       "      <th>8</th>\n",
       "      <td>1d2c40bd28ba9fcb65db0be2eea63b1e8e1428c4</td>\n",
       "      <td>Eukaryota</td>\n",
       "      <td>Streptophyta</td>\n",
       "      <td>Magnoliopsida</td>\n",
       "      <td>Asterales</td>\n",
       "      <td>Asteraceae</td>\n",
       "      <td>NaN</td>\n",
       "      <td>sp.</td>\n",
       "      <td>100.0</td>\n",
       "      <td>17286</td>\n",
       "    </tr>\n",
       "    <tr>\n",
       "      <th>9</th>\n",
       "      <td>720f7ec10f985a208dcb0947d436ba0b5871ed40</td>\n",
       "      <td>Eukaryota</td>\n",
       "      <td>Streptophyta</td>\n",
       "      <td>Magnoliopsida</td>\n",
       "      <td>Poales</td>\n",
       "      <td>Poaceae</td>\n",
       "      <td>Zea</td>\n",
       "      <td>mays</td>\n",
       "      <td>100.0</td>\n",
       "      <td>16708</td>\n",
       "    </tr>\n",
       "  </tbody>\n",
       "</table>\n",
       "</div>"
      ],
      "text/plain": [
       "                                   amplicon    Kingdom        Phylum  \\\n",
       "0  ac90db76fbae68003ec939d36b9847a46cbfa3c7  Eukaryota  Streptophyta   \n",
       "1  2987db85c9fae5a1464f814e070b7507621e8a57  Eukaryota  Streptophyta   \n",
       "2  addff39eca064dd9caa294721e6a23cab9c331ab  Eukaryota  Streptophyta   \n",
       "3  a069993ab97b3f720cf66567bfb1fad838b20dc6  Eukaryota  Streptophyta   \n",
       "4  28bf85082548d49c8d3b2793064a2fae0f417562  Eukaryota  Streptophyta   \n",
       "5  967e951648145482fcc47f85b2a3530bec26d552  Eukaryota  Streptophyta   \n",
       "6  36ecc3a6b7c304e724eb2680f97c751acaa0cdf6  Eukaryota  Streptophyta   \n",
       "7  7bb64ef2725b146c74add357867e20995ecd52ee  Eukaryota  Streptophyta   \n",
       "8  1d2c40bd28ba9fcb65db0be2eea63b1e8e1428c4  Eukaryota  Streptophyta   \n",
       "9  720f7ec10f985a208dcb0947d436ba0b5871ed40  Eukaryota  Streptophyta   \n",
       "\n",
       "           Class         Ord      Family        Genus     Species    SIM  \\\n",
       "0  Magnoliopsida  Sapindales    Rutaceae       Citrus   micrantha  100.0   \n",
       "1  Magnoliopsida      Poales     Poaceae          Zea        mays  100.0   \n",
       "2  Magnoliopsida     Apiales    Apiaceae      Selinum  carvifolia  100.0   \n",
       "3  Magnoliopsida    Laurales   Lauraceae   Cinnamomum    camphora  100.0   \n",
       "4  Magnoliopsida     Rosales    Rosaceae       Prunus   sunhangii  100.0   \n",
       "5  Magnoliopsida     Apiales    Apiaceae      Selinum  carvifolia  100.0   \n",
       "6  Magnoliopsida     Fabales    Fabaceae  Glycyrrhiza      glabra  100.0   \n",
       "7  Magnoliopsida  Sapindales    Rutaceae       Citrus   micrantha  100.0   \n",
       "8  Magnoliopsida   Asterales  Asteraceae          NaN         sp.  100.0   \n",
       "9  Magnoliopsida      Poales     Poaceae          Zea        mays  100.0   \n",
       "\n",
       "   OTU_abundance  \n",
       "0          51129  \n",
       "1          43673  \n",
       "2          41429  \n",
       "3          37670  \n",
       "4          34741  \n",
       "5          33003  \n",
       "6          20092  \n",
       "7          19835  \n",
       "8          17286  \n",
       "9          16708  "
      ]
     },
     "execution_count": 51,
     "metadata": {},
     "output_type": "execute_result"
    }
   ],
   "source": [
    "get_glimpse_head('target95_trnL_OTU_tax_assignments.txt', file_header=True)"
   ]
  },
  {
   "cell_type": "markdown",
   "metadata": {},
   "source": [
    "We can get some interesting information right here, with out **taxa assignment table**:"
   ]
  },
  {
   "cell_type": "markdown",
   "metadata": {},
   "source": [
    "**Let's check the distribuition reads per Family?**"
   ]
  },
  {
   "cell_type": "code",
   "execution_count": 55,
   "metadata": {},
   "outputs": [
    {
     "data": {
      "text/plain": [
       "Text(5.334999999999994, 0.5, 'Number of reads')"
      ]
     },
     "execution_count": 55,
     "metadata": {},
     "output_type": "execute_result"
    },
    {
     "data": {
      "image/png": "[encoded data removed]",
      "text/plain": [
       "<Figure size 1008x360 with 1 Axes>"
      ]
     },
     "metadata": {},
     "output_type": "display_data"
    }
   ],
   "source": [
    "# Import the necessary modules\n",
    "import matplotlib.pyplot as plt\n",
    "import seaborn as sns\n",
    "import pandas as pd\n",
    "\n",
    "# Initialize the lists for X and Y\n",
    "data = pd.read_csv('target95_trnL_OTU_tax_assignments.txt', sep='\\t')\n",
    "\n",
    "df = pd.DataFrame(data).sort_values('OTU_abundance')\n",
    "\n",
    "# distribution (histogram) based on column 2 from file\n",
    "dist_plot = sns.displot(df['Family'], bins=15)\n",
    "\n",
    "# show plot with custom width\n",
    "dist_plot.fig.set_figwidth(14)\n",
    "plt.xticks(rotation='vertical')\n",
    "plt.ylabel(\"Number of reads\")"
   ]
  },
  {
   "cell_type": "markdown",
   "metadata": {},
   "source": [
    "Without doing any data analysis, we already know that our most abundant Families are **`Poaceae`**, **`Apiaceae`**, and **`Fabaceae`**, respectively."
   ]
  },
  {
   "cell_type": "markdown",
   "metadata": {},
   "source": [
    "**How about the total count of OTUs by Family?**<p>\n",
    "The count of distinct OTUs found within a taxa rank is considered one of the alpha-diversity/richness metrics."
   ]
  },
  {
   "cell_type": "code",
   "execution_count": 57,
   "metadata": {},
   "outputs": [
    {
     "data": {
      "text/plain": [
       "<AxesSubplot:xlabel='Family', ylabel='Total OTU count'>"
      ]
     },
     "execution_count": 57,
     "metadata": {},
     "output_type": "execute_result"
    },
    {
     "data": {
      "image/png": "[encoded data removed]",
      "text/plain": [
       "<Figure size 1440x648 with 1 Axes>"
      ]
     },
     "metadata": {},
     "output_type": "display_data"
    }
   ],
   "source": [
    "# Import the necessary modules\n",
    "import matplotlib.pyplot as plt\n",
    "import numpy as np\n",
    "import seaborn as sns\n",
    "import pandas as pd\n",
    "\n",
    "# Initialize the lists for X and Y\n",
    "data = pd.read_csv('target95_trnL_OTU_tax_assignments.txt', sep='\\t')\n",
    "\n",
    "df = pd.DataFrame(data).sort_values('Family').groupby(['Family'])\n",
    "\n",
    "otus_by_family = df['OTU_abundance'].agg([np.sum]).reset_index().sort_values('sum')\n",
    "\n",
    "# distribution (histogram) based on column 2 from file\n",
    "bar_plot = sns.barplot(x='Family', y='sum', data=otus_by_family)\n",
    "\n",
    "# show plot with custom width\n",
    "sns.set(rc={'figure.figsize':(18,9)})\n",
    "plt.xticks(rotation='vertical')\n",
    "plt.ylabel(\"Total OTU count\")\n",
    "bar_plot"
   ]
  },
  {
   "cell_type": "markdown",
   "metadata": {},
   "source": [
    "Now we know that **`Poaceae`** and **`Apiaceae`** are the most abundant and present also the higher richness of OTUs. The amount of distinct OTUs observed for **`Fabaceae`** Family indicates that, besides having higher abundance, it is not directly related to richness."
   ]
  },
  {
   "cell_type": "code",
   "execution_count": null,
   "metadata": {},
   "outputs": [],
   "source": [
    "  \"${SCRIPT}\" \\\n",
    "    \"${REPRESENTATIVES}\" \\\n",
    "    \"${STATS}\" \\\n",
    "    \"${SWARMS}\" \\\n",
    "    \"${UCHIME}\" \\\n",
    "    \"${QUALITY}\" \\\n",
    "    \"${ASSIGNMENTS}\" \\\n",
    "    ${PWD}/*_dp.fasta > \"${OTU_TABLE}\" 2>/dev/null"
   ]
  },
  {
   "cell_type": "markdown",
   "metadata": {},
   "source": [
    "**The final step of METAPIPE is the OTU table building.**<p>\n",
    "Let's check the **required inputs**:<p>\n",
    "`trnL_sub_cluster_representatives.fas` > the amplicon identification (seed),<p>\n",
    "`trnL_sub_cluster.stats` > the quantitative metrics, as the OTU abundance,<p> \n",
    "`trnL_sub_cluster.swarms` > the distribution of the `amplicon/seeds/OTU` throughout the samples,<p>\n",
    "`trnL_sub_cluster_representatives.uchime` > the identification of chimeras,<p>\n",
    "`trnL_sub.qual` > the error rate and read length information,<p>\n",
    "`Blast_results_formatted2OTUtable.tab` > the taxonomic assignment and lineage,<p>\n",
    "`/home/jupyter/METAPIPE_Workshop2021/dereplicated` > all the sequences per sample.<p>"
   ]
  },
  {
   "cell_type": "code",
   "execution_count": null,
   "metadata": {
    "tags": []
   },
   "outputs": [],
   "source": [
    " %%bash\n",
    "./6a_build_OTU_table.sh \\\n",
    "    trnL_sub_cluster_representatives.fas \\\n",
    "    trnL_sub.qual \\\n",
    "    Blast_results_formatted2OTUtable.tab \\\n",
    "    /home/jupyter/METAPIPE_Workshop2021/dereplicated"
   ]
  },
  {
   "cell_type": "code",
   "execution_count": null,
   "metadata": {},
   "outputs": [],
   "source": [
    "%ls -t | head"
   ]
  },
  {
   "cell_type": "code",
   "execution_count": 59,
   "metadata": {},
   "outputs": [
    {
     "data": {
      "text/html": [
       "<div>\n",
       "<style scoped>\n",
       "    .dataframe tbody tr th:only-of-type {\n",
       "        vertical-align: middle;\n",
       "    }\n",
       "\n",
       "    .dataframe tbody tr th {\n",
       "        vertical-align: top;\n",
       "    }\n",
       "\n",
       "    .dataframe thead th {\n",
       "        text-align: right;\n",
       "    }\n",
       "</style>\n",
       "<table border=\"1\" class=\"dataframe\">\n",
       "  <thead>\n",
       "    <tr style=\"text-align: right;\">\n",
       "      <th></th>\n",
       "      <th>OTU</th>\n",
       "      <th>total</th>\n",
       "      <th>cloud</th>\n",
       "      <th>amplicon</th>\n",
       "      <th>length</th>\n",
       "      <th>abundance</th>\n",
       "      <th>chimera</th>\n",
       "      <th>spread</th>\n",
       "      <th>quality</th>\n",
       "      <th>sequence</th>\n",
       "      <th>...</th>\n",
       "      <th>Paeonialactiflora_a_dp</th>\n",
       "      <th>Paeonialactiflora_b_dp</th>\n",
       "      <th>Peoniasuffruticosa_a_dp</th>\n",
       "      <th>Peoniasuffruticosa_b_dp</th>\n",
       "      <th>Poriacocos_a_dp</th>\n",
       "      <th>Poriacocos_b_dp</th>\n",
       "      <th>Prunuspersica_a_dp</th>\n",
       "      <th>Prunuspersica_b_dp</th>\n",
       "      <th>Trogopterusxanthipes_a_dp</th>\n",
       "      <th>Trogopterusxanthipes_b_dp</th>\n",
       "    </tr>\n",
       "  </thead>\n",
       "  <tbody>\n",
       "    <tr>\n",
       "      <th>0</th>\n",
       "      <td>1</td>\n",
       "      <td>64940</td>\n",
       "      <td>2684</td>\n",
       "      <td>a84c749701d67d1226018c6714b72e543a618f16</td>\n",
       "      <td>102</td>\n",
       "      <td>44856</td>\n",
       "      <td>N</td>\n",
       "      <td>12</td>\n",
       "      <td>0.0001</td>\n",
       "      <td>CTTTTTTTATATAAAAAAAAATTTTATAATATAATAAAAAATTTAG...</td>\n",
       "      <td>...</td>\n",
       "      <td>0</td>\n",
       "      <td>0</td>\n",
       "      <td>0</td>\n",
       "      <td>0</td>\n",
       "      <td>0</td>\n",
       "      <td>0</td>\n",
       "      <td>0</td>\n",
       "      <td>1</td>\n",
       "      <td>15</td>\n",
       "      <td>20599</td>\n",
       "    </tr>\n",
       "    <tr>\n",
       "      <th>1</th>\n",
       "      <td>2</td>\n",
       "      <td>51129</td>\n",
       "      <td>989</td>\n",
       "      <td>ac90db76fbae68003ec939d36b9847a46cbfa3c7</td>\n",
       "      <td>52</td>\n",
       "      <td>43740</td>\n",
       "      <td>N</td>\n",
       "      <td>25</td>\n",
       "      <td>0.0001</td>\n",
       "      <td>ATCCTCTTCTCTTTTCCAAGAACAAACAGGGGTTCAGAAAGCGAAA...</td>\n",
       "      <td>...</td>\n",
       "      <td>1</td>\n",
       "      <td>4</td>\n",
       "      <td>0</td>\n",
       "      <td>0</td>\n",
       "      <td>1</td>\n",
       "      <td>1</td>\n",
       "      <td>2</td>\n",
       "      <td>16</td>\n",
       "      <td>290</td>\n",
       "      <td>1</td>\n",
       "    </tr>\n",
       "    <tr>\n",
       "      <th>2</th>\n",
       "      <td>3</td>\n",
       "      <td>43673</td>\n",
       "      <td>865</td>\n",
       "      <td>2987db85c9fae5a1464f814e070b7507621e8a57</td>\n",
       "      <td>51</td>\n",
       "      <td>36626</td>\n",
       "      <td>N</td>\n",
       "      <td>22</td>\n",
       "      <td>0.0001</td>\n",
       "      <td>ATCCCTTTTTTGAAAAACAAGTGGTTCTCAAACTAGAACCCAAAGG...</td>\n",
       "      <td>...</td>\n",
       "      <td>3</td>\n",
       "      <td>0</td>\n",
       "      <td>3</td>\n",
       "      <td>0</td>\n",
       "      <td>0</td>\n",
       "      <td>0</td>\n",
       "      <td>1</td>\n",
       "      <td>3</td>\n",
       "      <td>45</td>\n",
       "      <td>2</td>\n",
       "    </tr>\n",
       "    <tr>\n",
       "      <th>3</th>\n",
       "      <td>4</td>\n",
       "      <td>41429</td>\n",
       "      <td>1607</td>\n",
       "      <td>addff39eca064dd9caa294721e6a23cab9c331ab</td>\n",
       "      <td>45</td>\n",
       "      <td>31239</td>\n",
       "      <td>N</td>\n",
       "      <td>33</td>\n",
       "      <td>0.0001</td>\n",
       "      <td>ATCCTATTTTCCAAAAACAAACAAAGGCCCAGAAGGTGAAAAAAG</td>\n",
       "      <td>...</td>\n",
       "      <td>23</td>\n",
       "      <td>65</td>\n",
       "      <td>4</td>\n",
       "      <td>5</td>\n",
       "      <td>27</td>\n",
       "      <td>3</td>\n",
       "      <td>6</td>\n",
       "      <td>203</td>\n",
       "      <td>97</td>\n",
       "      <td>8</td>\n",
       "    </tr>\n",
       "    <tr>\n",
       "      <th>4</th>\n",
       "      <td>5</td>\n",
       "      <td>37670</td>\n",
       "      <td>767</td>\n",
       "      <td>a069993ab97b3f720cf66567bfb1fad838b20dc6</td>\n",
       "      <td>53</td>\n",
       "      <td>32359</td>\n",
       "      <td>N</td>\n",
       "      <td>11</td>\n",
       "      <td>0.0001</td>\n",
       "      <td>ATCCTGTTTTCAGAAAACAAGGGTTCAGAAAGCGAGAACCAAAAAA...</td>\n",
       "      <td>...</td>\n",
       "      <td>0</td>\n",
       "      <td>0</td>\n",
       "      <td>0</td>\n",
       "      <td>0</td>\n",
       "      <td>4</td>\n",
       "      <td>0</td>\n",
       "      <td>0</td>\n",
       "      <td>5</td>\n",
       "      <td>1</td>\n",
       "      <td>0</td>\n",
       "    </tr>\n",
       "    <tr>\n",
       "      <th>5</th>\n",
       "      <td>6</td>\n",
       "      <td>34741</td>\n",
       "      <td>585</td>\n",
       "      <td>28bf85082548d49c8d3b2793064a2fae0f417562</td>\n",
       "      <td>51</td>\n",
       "      <td>30199</td>\n",
       "      <td>N</td>\n",
       "      <td>32</td>\n",
       "      <td>0.0001</td>\n",
       "      <td>ATCCTGTTTTATTAAAACAAACAAGGGTTTCATAAACCGAGAATAA...</td>\n",
       "      <td>...</td>\n",
       "      <td>103</td>\n",
       "      <td>32</td>\n",
       "      <td>41</td>\n",
       "      <td>33</td>\n",
       "      <td>32</td>\n",
       "      <td>9</td>\n",
       "      <td>9954</td>\n",
       "      <td>12102</td>\n",
       "      <td>64</td>\n",
       "      <td>1</td>\n",
       "    </tr>\n",
       "    <tr>\n",
       "      <th>6</th>\n",
       "      <td>7</td>\n",
       "      <td>33003</td>\n",
       "      <td>886</td>\n",
       "      <td>967e951648145482fcc47f85b2a3530bec26d552</td>\n",
       "      <td>45</td>\n",
       "      <td>26122</td>\n",
       "      <td>N</td>\n",
       "      <td>29</td>\n",
       "      <td>0.0001</td>\n",
       "      <td>CTTTTTTCACCTTCTGGGCCTTTGTTTGTTTTTGGAAAATAGGAT</td>\n",
       "      <td>...</td>\n",
       "      <td>0</td>\n",
       "      <td>12</td>\n",
       "      <td>4110</td>\n",
       "      <td>70</td>\n",
       "      <td>2</td>\n",
       "      <td>11</td>\n",
       "      <td>10</td>\n",
       "      <td>266</td>\n",
       "      <td>2</td>\n",
       "      <td>105</td>\n",
       "    </tr>\n",
       "    <tr>\n",
       "      <th>7</th>\n",
       "      <td>8</td>\n",
       "      <td>32635</td>\n",
       "      <td>669</td>\n",
       "      <td>8cdbd592419bf9c65aa2691a6c163fe4c16042bb</td>\n",
       "      <td>52</td>\n",
       "      <td>27813</td>\n",
       "      <td>N</td>\n",
       "      <td>33</td>\n",
       "      <td>0.0001</td>\n",
       "      <td>ATCCTGTTTTCCGAAAACAAACACAAAGATTCAGAAAGCAAGAATA...</td>\n",
       "      <td>...</td>\n",
       "      <td>475</td>\n",
       "      <td>7909</td>\n",
       "      <td>12467</td>\n",
       "      <td>512</td>\n",
       "      <td>60</td>\n",
       "      <td>21</td>\n",
       "      <td>145</td>\n",
       "      <td>18</td>\n",
       "      <td>40</td>\n",
       "      <td>9</td>\n",
       "    </tr>\n",
       "    <tr>\n",
       "      <th>8</th>\n",
       "      <td>9</td>\n",
       "      <td>21016</td>\n",
       "      <td>498</td>\n",
       "      <td>9cb16aaf5f7887b597ac5fc1bba7e95e881b0d3c</td>\n",
       "      <td>52</td>\n",
       "      <td>17905</td>\n",
       "      <td>N</td>\n",
       "      <td>30</td>\n",
       "      <td>0.0001</td>\n",
       "      <td>CTTTTTTATTCTTGCTTTCTGAATCTTTGTGTTTGTTTTCGGAAAA...</td>\n",
       "      <td>...</td>\n",
       "      <td>26</td>\n",
       "      <td>40</td>\n",
       "      <td>78</td>\n",
       "      <td>13</td>\n",
       "      <td>73</td>\n",
       "      <td>70</td>\n",
       "      <td>1610</td>\n",
       "      <td>41</td>\n",
       "      <td>2587</td>\n",
       "      <td>1</td>\n",
       "    </tr>\n",
       "    <tr>\n",
       "      <th>9</th>\n",
       "      <td>10</td>\n",
       "      <td>20092</td>\n",
       "      <td>428</td>\n",
       "      <td>36ecc3a6b7c304e724eb2680f97c751acaa0cdf6</td>\n",
       "      <td>51</td>\n",
       "      <td>17460</td>\n",
       "      <td>N</td>\n",
       "      <td>31</td>\n",
       "      <td>0.0001</td>\n",
       "      <td>ATCCTGCTTTCCGAAAACAAAGAAAAGTTCAGAAAGCGAGAATAAA...</td>\n",
       "      <td>...</td>\n",
       "      <td>90</td>\n",
       "      <td>18</td>\n",
       "      <td>7</td>\n",
       "      <td>2</td>\n",
       "      <td>2</td>\n",
       "      <td>7</td>\n",
       "      <td>7</td>\n",
       "      <td>78</td>\n",
       "      <td>2</td>\n",
       "      <td>2</td>\n",
       "    </tr>\n",
       "  </tbody>\n",
       "</table>\n",
       "<p>10 rows × 47 columns</p>\n",
       "</div>"
      ],
      "text/plain": [
       "   OTU  total  cloud                                  amplicon  length  \\\n",
       "0    1  64940   2684  a84c749701d67d1226018c6714b72e543a618f16     102   \n",
       "1    2  51129    989  ac90db76fbae68003ec939d36b9847a46cbfa3c7      52   \n",
       "2    3  43673    865  2987db85c9fae5a1464f814e070b7507621e8a57      51   \n",
       "3    4  41429   1607  addff39eca064dd9caa294721e6a23cab9c331ab      45   \n",
       "4    5  37670    767  a069993ab97b3f720cf66567bfb1fad838b20dc6      53   \n",
       "5    6  34741    585  28bf85082548d49c8d3b2793064a2fae0f417562      51   \n",
       "6    7  33003    886  967e951648145482fcc47f85b2a3530bec26d552      45   \n",
       "7    8  32635    669  8cdbd592419bf9c65aa2691a6c163fe4c16042bb      52   \n",
       "8    9  21016    498  9cb16aaf5f7887b597ac5fc1bba7e95e881b0d3c      52   \n",
       "9   10  20092    428  36ecc3a6b7c304e724eb2680f97c751acaa0cdf6      51   \n",
       "\n",
       "   abundance chimera  spread  quality  \\\n",
       "0      44856       N      12   0.0001   \n",
       "1      43740       N      25   0.0001   \n",
       "2      36626       N      22   0.0001   \n",
       "3      31239       N      33   0.0001   \n",
       "4      32359       N      11   0.0001   \n",
       "5      30199       N      32   0.0001   \n",
       "6      26122       N      29   0.0001   \n",
       "7      27813       N      33   0.0001   \n",
       "8      17905       N      30   0.0001   \n",
       "9      17460       N      31   0.0001   \n",
       "\n",
       "                                            sequence  ...  \\\n",
       "0  CTTTTTTTATATAAAAAAAAATTTTATAATATAATAAAAAATTTAG...  ...   \n",
       "1  ATCCTCTTCTCTTTTCCAAGAACAAACAGGGGTTCAGAAAGCGAAA...  ...   \n",
       "2  ATCCCTTTTTTGAAAAACAAGTGGTTCTCAAACTAGAACCCAAAGG...  ...   \n",
       "3      ATCCTATTTTCCAAAAACAAACAAAGGCCCAGAAGGTGAAAAAAG  ...   \n",
       "4  ATCCTGTTTTCAGAAAACAAGGGTTCAGAAAGCGAGAACCAAAAAA...  ...   \n",
       "5  ATCCTGTTTTATTAAAACAAACAAGGGTTTCATAAACCGAGAATAA...  ...   \n",
       "6      CTTTTTTCACCTTCTGGGCCTTTGTTTGTTTTTGGAAAATAGGAT  ...   \n",
       "7  ATCCTGTTTTCCGAAAACAAACACAAAGATTCAGAAAGCAAGAATA...  ...   \n",
       "8  CTTTTTTATTCTTGCTTTCTGAATCTTTGTGTTTGTTTTCGGAAAA...  ...   \n",
       "9  ATCCTGCTTTCCGAAAACAAAGAAAAGTTCAGAAAGCGAGAATAAA...  ...   \n",
       "\n",
       "   Paeonialactiflora_a_dp Paeonialactiflora_b_dp Peoniasuffruticosa_a_dp  \\\n",
       "0                       0                      0                       0   \n",
       "1                       1                      4                       0   \n",
       "2                       3                      0                       3   \n",
       "3                      23                     65                       4   \n",
       "4                       0                      0                       0   \n",
       "5                     103                     32                      41   \n",
       "6                       0                     12                    4110   \n",
       "7                     475                   7909                   12467   \n",
       "8                      26                     40                      78   \n",
       "9                      90                     18                       7   \n",
       "\n",
       "   Peoniasuffruticosa_b_dp  Poriacocos_a_dp  Poriacocos_b_dp  \\\n",
       "0                        0                0                0   \n",
       "1                        0                1                1   \n",
       "2                        0                0                0   \n",
       "3                        5               27                3   \n",
       "4                        0                4                0   \n",
       "5                       33               32                9   \n",
       "6                       70                2               11   \n",
       "7                      512               60               21   \n",
       "8                       13               73               70   \n",
       "9                        2                2                7   \n",
       "\n",
       "   Prunuspersica_a_dp  Prunuspersica_b_dp  Trogopterusxanthipes_a_dp  \\\n",
       "0                   0                   1                         15   \n",
       "1                   2                  16                        290   \n",
       "2                   1                   3                         45   \n",
       "3                   6                 203                         97   \n",
       "4                   0                   5                          1   \n",
       "5                9954               12102                         64   \n",
       "6                  10                 266                          2   \n",
       "7                 145                  18                         40   \n",
       "8                1610                  41                       2587   \n",
       "9                   7                  78                          2   \n",
       "\n",
       "   Trogopterusxanthipes_b_dp  \n",
       "0                      20599  \n",
       "1                          1  \n",
       "2                          2  \n",
       "3                          8  \n",
       "4                          0  \n",
       "5                          1  \n",
       "6                        105  \n",
       "7                          9  \n",
       "8                          1  \n",
       "9                          2  \n",
       "\n",
       "[10 rows x 47 columns]"
      ]
     },
     "execution_count": 59,
     "metadata": {},
     "output_type": "execute_result"
    }
   ],
   "source": [
    "get_glimpse_head('trnL_sub_cluster_OTU_table_complete.tab', file_header=True)"
   ]
  },
  {
   "cell_type": "markdown",
   "metadata": {},
   "source": [
    "Take a look on each column meaning:<p>\n",
    "**OTU** > each OTU gets a number,<p>\n",
    "**total** > total number of reads in the OTU (OTU abundance),<p>\n",
    "**cloud** > total number of unique sequences in the OTU,<p>\n",
    "**amplicon** > identifier of the OTU/seed representative,<p>\n",
    "**length** > length of the OTU representative,<p>\n",
    "**abundance** > abundance of the OTU representative (not the OTU cluster),<p>\n",
    "**chimera** > is it a chimera? Yes, No, ?,<p>\n",
    "**spread** > number of samples where the OTU occurs (important for ecological filterings),<p>\n",
    "**quality** > minimum expected error observed for the OTU representative, divided by sequence length,<p>\n",
    "**sequence** > sequence of the OTU representative (amplicon),<p>\n",
    "**identity** > BLAST similarity of the OTU representative with reference sequences,<p>\n",
    "**taxonomy** > taxonomic assignment of the OTU representative (lineage),<p>\n",
    "**samples** > each sample as a column, with respective reads abundance."
   ]
  },
  {
   "cell_type": "markdown",
   "metadata": {},
   "source": [
    "The **OTU table** originally generated has **all information possible**, allowing for searches and queries within it.<p>\n",
    "To load the OTU table in R, we need to filter the complete table, in order to have only the **4.amplicon** column, and all the **samples** columns.<p>\n",
    "We can do this by only selecting the above mentioned columns, using a command like this:<p>\n",
    "`cat trnL_sub_cluster_OTU_table_complete.tab | cut -f 4,14- > trnL_sub_cluster_OTU_table_cut2phyloseq2.tab`<p>"
   ]
  },
  {
   "cell_type": "code",
   "execution_count": 61,
   "metadata": {},
   "outputs": [
    {
     "name": "stdout",
     "output_type": "stream",
     "text": [
      "amplicon\tAngelicaesinensis_a_dp\tAngelicaesinensis_b_dp\tCarthamustinctorius_a_dp\tCarthamustinctorius_b_dp\tCitrusaurantium_a_dp\tCitrusaurantium_b_dp\tCyperusrotundus_a_dp\tCyperusrotundus_b_dp\tGXZYT_a_dp\tGXZYT_b_dp\tGZFLW_a_dp\tGZFLW_b_dp\tGlycyrrhizauralensis_a_dp\tGlycyrrhizauralensis_b_dp\tGuiZhiFuLingPian_a_dp\tGuiZhiFuLingPian_b_dp\tGuiZhiFuLingTan_a_dp\tGuiZhiFuLingTan_b_dp\tLigusticumchuanxiong_a_dp\tLigusticumchuanxiong_b_dp\tLinderaaggregata_a_dp\tLinderaaggregata_b_dp\tNegativePCR_dp\tNegative_dp\tPaeonialactiflora_a_dp\tPaeonialactiflora_b_dp\tPeoniasuffruticosa_a_dp\tPeoniasuffruticosa_b_dp\tPoriacocos_a_dp\tPoriacocos_b_dp\tPrunuspersica_a_dp\tPrunuspersica_b_dp\tTrogopterusxanthipes_a_dp\tTrogopterusxanthipes_b_dp\n",
      "a84c749701d67d1226018c6714b72e543a618f16\t0\t18551\t25637\t12\t0\t7\t0\t0\t0\t0\t0\t12\t13\t66\t0\t0\t23\t0\t0\t4\t0\t0\t0\t0\t0\t0\t0\t0\t0\t0\t0\t1\t15\t20599\n",
      "ac90db76fbae68003ec939d36b9847a46cbfa3c7\t0\t0\t1\t29\t171\t49425\t32\t137\t828\t13\t0\t0\t4\t0\t19\t8\t2\t10\t6\t1\t0\t0\t6\t121\t1\t4\t0\t0\t1\t1\t2\t16\t290\t1\n",
      "2987db85c9fae5a1464f814e070b7507621e8a57\t23\t0\t1\t1\t4\t2\t0\t0\t0\t0\t40910\t1\t1\t0\t2584\t2\t0\t75\t4\t0\t2\t1\t4\t1\t3\t0\t3\t0\t0\t0\t1\t3\t45\t2\n",
      "cut: write error: Broken pipe\n"
     ]
    }
   ],
   "source": [
    "cat trnL_sub_cluster_OTU_table_complete.tab | cut -f 4,14- | head -4"
   ]
  },
  {
   "cell_type": "markdown",
   "metadata": {},
   "source": [
    "Or starting the Data Analysis preprocessing, by choosing some important thresholds, like:<p>\n",
    "`awk -F \"\\t\" '{ if(($7 == \"N\") && ($2 >= 2)) { print } }'` > which select only *non-chimeras* and OTUs with at least 2 reads (excluding singletons).<p>\n",
    "or even more complex thresholds, like:<p>\n",
    "`awk -F \"\\t\" '{ if(($7 == \"N\") && ($2 >= 5) && ($9<=0.0002) && ($11 >= 97)) { print } }'` > which is selecting *non-chimeras*, OTUs with at least 5 reads, error rate lower than 0.0002 and taxonomic assignment similarity equal or higher than 97.<p>\n",
    "**The following command does 4 preprocessing OTU table filtering and formatting to be load in R:**<p>"
   ]
  },
  {
   "cell_type": "code",
   "execution_count": null,
   "metadata": {},
   "outputs": [],
   "source": [
    "%%bash \n",
    "./6b_filter_OTU_table.sh \\\n",
    "    trnL_sub_cluster_OTU_table_complete.tab \\\n",
    "    trnL_sub.qual"
   ]
  },
  {
   "cell_type": "code",
   "execution_count": null,
   "metadata": {},
   "outputs": [],
   "source": [
    "%ls -t | head -20"
   ]
  },
  {
   "cell_type": "markdown",
   "metadata": {},
   "source": [
    "Let's take a look in the **`most basic`** **OTU table**, formatted to be loaded in **Phyloseq**:"
   ]
  },
  {
   "cell_type": "code",
   "execution_count": 62,
   "metadata": {},
   "outputs": [
    {
     "data": {
      "text/html": [
       "<div>\n",
       "<style scoped>\n",
       "    .dataframe tbody tr th:only-of-type {\n",
       "        vertical-align: middle;\n",
       "    }\n",
       "\n",
       "    .dataframe tbody tr th {\n",
       "        vertical-align: top;\n",
       "    }\n",
       "\n",
       "    .dataframe thead th {\n",
       "        text-align: right;\n",
       "    }\n",
       "</style>\n",
       "<table border=\"1\" class=\"dataframe\">\n",
       "  <thead>\n",
       "    <tr style=\"text-align: right;\">\n",
       "      <th></th>\n",
       "      <th>amplicon</th>\n",
       "      <th>Angelicaesinensis_a</th>\n",
       "      <th>Angelicaesinensis_b</th>\n",
       "      <th>Carthamustinctorius_a</th>\n",
       "      <th>Carthamustinctorius_b</th>\n",
       "      <th>Citrusaurantium_a</th>\n",
       "      <th>Citrusaurantium_b</th>\n",
       "      <th>Cyperusrotundus_a</th>\n",
       "      <th>Cyperusrotundus_b</th>\n",
       "      <th>GXZYT_a</th>\n",
       "      <th>...</th>\n",
       "      <th>Paeonialactiflora_a</th>\n",
       "      <th>Paeonialactiflora_b</th>\n",
       "      <th>Peoniasuffruticosa_a</th>\n",
       "      <th>Peoniasuffruticosa_b</th>\n",
       "      <th>Poriacocos_a</th>\n",
       "      <th>Poriacocos_b</th>\n",
       "      <th>Prunuspersica_a</th>\n",
       "      <th>Prunuspersica_b</th>\n",
       "      <th>Trogopterusxanthipes_a</th>\n",
       "      <th>Trogopterusxanthipes_b</th>\n",
       "    </tr>\n",
       "  </thead>\n",
       "  <tbody>\n",
       "    <tr>\n",
       "      <th>0</th>\n",
       "      <td>a84c749701d67d1226018c6714b72e543a618f16</td>\n",
       "      <td>0</td>\n",
       "      <td>18551</td>\n",
       "      <td>25637</td>\n",
       "      <td>12</td>\n",
       "      <td>0</td>\n",
       "      <td>7</td>\n",
       "      <td>0</td>\n",
       "      <td>0</td>\n",
       "      <td>0</td>\n",
       "      <td>...</td>\n",
       "      <td>0</td>\n",
       "      <td>0</td>\n",
       "      <td>0</td>\n",
       "      <td>0</td>\n",
       "      <td>0</td>\n",
       "      <td>0</td>\n",
       "      <td>0</td>\n",
       "      <td>1</td>\n",
       "      <td>15</td>\n",
       "      <td>20599</td>\n",
       "    </tr>\n",
       "    <tr>\n",
       "      <th>1</th>\n",
       "      <td>ac90db76fbae68003ec939d36b9847a46cbfa3c7</td>\n",
       "      <td>0</td>\n",
       "      <td>0</td>\n",
       "      <td>1</td>\n",
       "      <td>29</td>\n",
       "      <td>171</td>\n",
       "      <td>49425</td>\n",
       "      <td>32</td>\n",
       "      <td>137</td>\n",
       "      <td>828</td>\n",
       "      <td>...</td>\n",
       "      <td>1</td>\n",
       "      <td>4</td>\n",
       "      <td>0</td>\n",
       "      <td>0</td>\n",
       "      <td>1</td>\n",
       "      <td>1</td>\n",
       "      <td>2</td>\n",
       "      <td>16</td>\n",
       "      <td>290</td>\n",
       "      <td>1</td>\n",
       "    </tr>\n",
       "    <tr>\n",
       "      <th>2</th>\n",
       "      <td>2987db85c9fae5a1464f814e070b7507621e8a57</td>\n",
       "      <td>23</td>\n",
       "      <td>0</td>\n",
       "      <td>1</td>\n",
       "      <td>1</td>\n",
       "      <td>4</td>\n",
       "      <td>2</td>\n",
       "      <td>0</td>\n",
       "      <td>0</td>\n",
       "      <td>0</td>\n",
       "      <td>...</td>\n",
       "      <td>3</td>\n",
       "      <td>0</td>\n",
       "      <td>3</td>\n",
       "      <td>0</td>\n",
       "      <td>0</td>\n",
       "      <td>0</td>\n",
       "      <td>1</td>\n",
       "      <td>3</td>\n",
       "      <td>45</td>\n",
       "      <td>2</td>\n",
       "    </tr>\n",
       "    <tr>\n",
       "      <th>3</th>\n",
       "      <td>addff39eca064dd9caa294721e6a23cab9c331ab</td>\n",
       "      <td>18563</td>\n",
       "      <td>9615</td>\n",
       "      <td>5</td>\n",
       "      <td>6</td>\n",
       "      <td>3</td>\n",
       "      <td>62</td>\n",
       "      <td>36</td>\n",
       "      <td>4</td>\n",
       "      <td>12103</td>\n",
       "      <td>...</td>\n",
       "      <td>23</td>\n",
       "      <td>65</td>\n",
       "      <td>4</td>\n",
       "      <td>5</td>\n",
       "      <td>27</td>\n",
       "      <td>3</td>\n",
       "      <td>6</td>\n",
       "      <td>203</td>\n",
       "      <td>97</td>\n",
       "      <td>8</td>\n",
       "    </tr>\n",
       "    <tr>\n",
       "      <th>4</th>\n",
       "      <td>a069993ab97b3f720cf66567bfb1fad838b20dc6</td>\n",
       "      <td>0</td>\n",
       "      <td>2</td>\n",
       "      <td>0</td>\n",
       "      <td>0</td>\n",
       "      <td>0</td>\n",
       "      <td>5</td>\n",
       "      <td>4480</td>\n",
       "      <td>15</td>\n",
       "      <td>0</td>\n",
       "      <td>...</td>\n",
       "      <td>0</td>\n",
       "      <td>0</td>\n",
       "      <td>0</td>\n",
       "      <td>0</td>\n",
       "      <td>4</td>\n",
       "      <td>0</td>\n",
       "      <td>0</td>\n",
       "      <td>5</td>\n",
       "      <td>1</td>\n",
       "      <td>0</td>\n",
       "    </tr>\n",
       "    <tr>\n",
       "      <th>5</th>\n",
       "      <td>28bf85082548d49c8d3b2793064a2fae0f417562</td>\n",
       "      <td>14</td>\n",
       "      <td>20</td>\n",
       "      <td>1</td>\n",
       "      <td>20</td>\n",
       "      <td>3</td>\n",
       "      <td>32</td>\n",
       "      <td>9</td>\n",
       "      <td>2</td>\n",
       "      <td>5763</td>\n",
       "      <td>...</td>\n",
       "      <td>103</td>\n",
       "      <td>32</td>\n",
       "      <td>41</td>\n",
       "      <td>33</td>\n",
       "      <td>32</td>\n",
       "      <td>9</td>\n",
       "      <td>9954</td>\n",
       "      <td>12102</td>\n",
       "      <td>64</td>\n",
       "      <td>1</td>\n",
       "    </tr>\n",
       "    <tr>\n",
       "      <th>6</th>\n",
       "      <td>967e951648145482fcc47f85b2a3530bec26d552</td>\n",
       "      <td>294</td>\n",
       "      <td>4</td>\n",
       "      <td>3</td>\n",
       "      <td>23</td>\n",
       "      <td>21</td>\n",
       "      <td>329</td>\n",
       "      <td>2</td>\n",
       "      <td>12</td>\n",
       "      <td>0</td>\n",
       "      <td>...</td>\n",
       "      <td>0</td>\n",
       "      <td>12</td>\n",
       "      <td>4110</td>\n",
       "      <td>70</td>\n",
       "      <td>2</td>\n",
       "      <td>11</td>\n",
       "      <td>10</td>\n",
       "      <td>266</td>\n",
       "      <td>2</td>\n",
       "      <td>105</td>\n",
       "    </tr>\n",
       "    <tr>\n",
       "      <th>7</th>\n",
       "      <td>8cdbd592419bf9c65aa2691a6c163fe4c16042bb</td>\n",
       "      <td>5</td>\n",
       "      <td>11</td>\n",
       "      <td>4</td>\n",
       "      <td>27</td>\n",
       "      <td>7</td>\n",
       "      <td>41</td>\n",
       "      <td>406</td>\n",
       "      <td>1</td>\n",
       "      <td>796</td>\n",
       "      <td>...</td>\n",
       "      <td>475</td>\n",
       "      <td>7909</td>\n",
       "      <td>12467</td>\n",
       "      <td>512</td>\n",
       "      <td>60</td>\n",
       "      <td>21</td>\n",
       "      <td>145</td>\n",
       "      <td>18</td>\n",
       "      <td>40</td>\n",
       "      <td>9</td>\n",
       "    </tr>\n",
       "    <tr>\n",
       "      <th>8</th>\n",
       "      <td>9cb16aaf5f7887b597ac5fc1bba7e95e881b0d3c</td>\n",
       "      <td>0</td>\n",
       "      <td>3</td>\n",
       "      <td>4</td>\n",
       "      <td>8</td>\n",
       "      <td>11</td>\n",
       "      <td>5</td>\n",
       "      <td>54</td>\n",
       "      <td>7</td>\n",
       "      <td>0</td>\n",
       "      <td>...</td>\n",
       "      <td>26</td>\n",
       "      <td>40</td>\n",
       "      <td>78</td>\n",
       "      <td>13</td>\n",
       "      <td>73</td>\n",
       "      <td>70</td>\n",
       "      <td>1610</td>\n",
       "      <td>41</td>\n",
       "      <td>2587</td>\n",
       "      <td>1</td>\n",
       "    </tr>\n",
       "    <tr>\n",
       "      <th>9</th>\n",
       "      <td>36ecc3a6b7c304e724eb2680f97c751acaa0cdf6</td>\n",
       "      <td>0</td>\n",
       "      <td>3</td>\n",
       "      <td>9</td>\n",
       "      <td>11</td>\n",
       "      <td>4</td>\n",
       "      <td>88</td>\n",
       "      <td>969</td>\n",
       "      <td>1</td>\n",
       "      <td>11439</td>\n",
       "      <td>...</td>\n",
       "      <td>90</td>\n",
       "      <td>18</td>\n",
       "      <td>7</td>\n",
       "      <td>2</td>\n",
       "      <td>2</td>\n",
       "      <td>7</td>\n",
       "      <td>7</td>\n",
       "      <td>78</td>\n",
       "      <td>2</td>\n",
       "      <td>2</td>\n",
       "    </tr>\n",
       "  </tbody>\n",
       "</table>\n",
       "<p>10 rows × 35 columns</p>\n",
       "</div>"
      ],
      "text/plain": [
       "                                   amplicon  Angelicaesinensis_a  \\\n",
       "0  a84c749701d67d1226018c6714b72e543a618f16                    0   \n",
       "1  ac90db76fbae68003ec939d36b9847a46cbfa3c7                    0   \n",
       "2  2987db85c9fae5a1464f814e070b7507621e8a57                   23   \n",
       "3  addff39eca064dd9caa294721e6a23cab9c331ab                18563   \n",
       "4  a069993ab97b3f720cf66567bfb1fad838b20dc6                    0   \n",
       "5  28bf85082548d49c8d3b2793064a2fae0f417562                   14   \n",
       "6  967e951648145482fcc47f85b2a3530bec26d552                  294   \n",
       "7  8cdbd592419bf9c65aa2691a6c163fe4c16042bb                    5   \n",
       "8  9cb16aaf5f7887b597ac5fc1bba7e95e881b0d3c                    0   \n",
       "9  36ecc3a6b7c304e724eb2680f97c751acaa0cdf6                    0   \n",
       "\n",
       "   Angelicaesinensis_b  Carthamustinctorius_a  Carthamustinctorius_b  \\\n",
       "0                18551                  25637                     12   \n",
       "1                    0                      1                     29   \n",
       "2                    0                      1                      1   \n",
       "3                 9615                      5                      6   \n",
       "4                    2                      0                      0   \n",
       "5                   20                      1                     20   \n",
       "6                    4                      3                     23   \n",
       "7                   11                      4                     27   \n",
       "8                    3                      4                      8   \n",
       "9                    3                      9                     11   \n",
       "\n",
       "   Citrusaurantium_a  Citrusaurantium_b  Cyperusrotundus_a  Cyperusrotundus_b  \\\n",
       "0                  0                  7                  0                  0   \n",
       "1                171              49425                 32                137   \n",
       "2                  4                  2                  0                  0   \n",
       "3                  3                 62                 36                  4   \n",
       "4                  0                  5               4480                 15   \n",
       "5                  3                 32                  9                  2   \n",
       "6                 21                329                  2                 12   \n",
       "7                  7                 41                406                  1   \n",
       "8                 11                  5                 54                  7   \n",
       "9                  4                 88                969                  1   \n",
       "\n",
       "   GXZYT_a  ...  Paeonialactiflora_a  Paeonialactiflora_b  \\\n",
       "0        0  ...                    0                    0   \n",
       "1      828  ...                    1                    4   \n",
       "2        0  ...                    3                    0   \n",
       "3    12103  ...                   23                   65   \n",
       "4        0  ...                    0                    0   \n",
       "5     5763  ...                  103                   32   \n",
       "6        0  ...                    0                   12   \n",
       "7      796  ...                  475                 7909   \n",
       "8        0  ...                   26                   40   \n",
       "9    11439  ...                   90                   18   \n",
       "\n",
       "   Peoniasuffruticosa_a  Peoniasuffruticosa_b  Poriacocos_a  Poriacocos_b  \\\n",
       "0                     0                     0             0             0   \n",
       "1                     0                     0             1             1   \n",
       "2                     3                     0             0             0   \n",
       "3                     4                     5            27             3   \n",
       "4                     0                     0             4             0   \n",
       "5                    41                    33            32             9   \n",
       "6                  4110                    70             2            11   \n",
       "7                 12467                   512            60            21   \n",
       "8                    78                    13            73            70   \n",
       "9                     7                     2             2             7   \n",
       "\n",
       "   Prunuspersica_a  Prunuspersica_b  Trogopterusxanthipes_a  \\\n",
       "0                0                1                      15   \n",
       "1                2               16                     290   \n",
       "2                1                3                      45   \n",
       "3                6              203                      97   \n",
       "4                0                5                       1   \n",
       "5             9954            12102                      64   \n",
       "6               10              266                       2   \n",
       "7              145               18                      40   \n",
       "8             1610               41                    2587   \n",
       "9                7               78                       2   \n",
       "\n",
       "   Trogopterusxanthipes_b  \n",
       "0                   20599  \n",
       "1                       1  \n",
       "2                       2  \n",
       "3                       8  \n",
       "4                       0  \n",
       "5                       1  \n",
       "6                     105  \n",
       "7                       9  \n",
       "8                       1  \n",
       "9                       2  \n",
       "\n",
       "[10 rows x 35 columns]"
      ]
     },
     "execution_count": 62,
     "metadata": {},
     "output_type": "execute_result"
    }
   ],
   "source": [
    "get_glimpse_head('trnL_sub_cluster_OTU_table_f1_basics2_cut2phyloseq2.tab')"
   ]
  },
  {
   "cell_type": "markdown",
   "metadata": {},
   "source": [
    "**###################################################################################################################**<p>\n",
    "**THE FOLLOWING COMMANDS ARE PART OF THE DATA ANALYSIS, WHICH WILL BE RUN USING THE THIRD NOTEBOOK `metapipe-r.ipynb`**<p>\n",
    "**By running the Data Analysis steps using the R Notebook, `you will be redirected to this point, in this Notebook`.**<p>\n",
    "**LET'S START THE DATA ANALYSIS, OPENING THE `metapipe-r.ipynb` Notebook!!!**\n",
    "**###################################################################################################################**<p>"
   ]
  },
  {
   "cell_type": "markdown",
   "metadata": {},
   "source": [
    "**Now that we have started our `data analysis` in `metapipe-r.ipynb` Notebook, we reached the point where we know which OTUs were amplified in the Negative control samples and we know which of those OTUs are the most abundant.**<p>\n",
    "**Now we are going to explore `who` these Top abundance OTUs are:**"
   ]
  },
  {
   "cell_type": "markdown",
   "metadata": {},
   "source": [
    "The following **`function`** is used to **`visualise`** the distribution of **`OTU abundance`** for each **`selected`** OTU:"
   ]
  },
  {
   "cell_type": "code",
   "execution_count": 1,
   "metadata": {},
   "outputs": [],
   "source": [
    "def plot_OTU_bars(amplicon, assignments, nbins, width):\n",
    "    # Import the necessary modules\n",
    "    import matplotlib.pyplot as plt\n",
    "    import numpy as np\n",
    "    import seaborn as sns\n",
    "    import pandas as pd\n",
    "    \n",
    "    # import data\n",
    "    data = pd.read_csv(assignments, sep='\\t')\n",
    "    \n",
    "    # apply filter\n",
    "    selection = pd.DataFrame(data).amplicon.str.contains(amplicon)\n",
    "    df = data[selection].set_index('amplicon').T\n",
    "    df.reset_index(inplace=True)\n",
    "    \n",
    "    # create barplot\n",
    "    bar_plot = sns.barplot(x='index', y=str(amplicon), data=df)\n",
    "\n",
    "    # show plot with custom width\n",
    "    sns.set(rc={'figure.figsize':(width,9)})\n",
    "    plt.xticks(rotation='vertical')\n",
    "    plt.ylabel(\"Abundance\")\n",
    "    plt.xlabel(\"Sample\")\n",
    "    bar_plot\n",
    "\n",
    "    # return results\n",
    "    return bar_plot"
   ]
  },
  {
   "cell_type": "markdown",
   "metadata": {},
   "source": [
    "**We know that in out negative sample `(data_neg subset)`, we have three Top OTUs:**<p>\n",
    "265f74f49f9531de8808b253efa96dc7c320df27<p>\n",
    "94385ff6f775ede0a8b76f5e4f3a9a0de58a4eca<p>\n",
    "c65370ec20a9cdf9089e1983d7c5c3d4227a870<p>\n",
    "**Let's check the Top3 OTUs from `data_neg` looking for `who` they are using our `OTU_tax_assignments.txt` table, and the OTU `abundance distribution` using our `OTU_table_f1_basics2_cut2phyloseq2.tab` table:**"
   ]
  },
  {
   "cell_type": "code",
   "execution_count": 2,
   "metadata": {},
   "outputs": [
    {
     "name": "stdout",
     "output_type": "stream",
     "text": [
      "265f74f49f9531de8808b253efa96dc7c320df27\tEukaryota\tStreptophyta\tMagnoliopsida\tFagales\tJuglandaceae\tJuglans\tmandshurica\t100.000\t3963\n"
     ]
    }
   ],
   "source": [
    "!grep \"265f74f49f9531de8808b253efa96dc7c320df27\" target95_trnL_OTU_tax_assignments.txt"
   ]
  },
  {
   "cell_type": "code",
   "execution_count": 7,
   "metadata": {},
   "outputs": [
    {
     "data": {
      "text/plain": [
       "<AxesSubplot:xlabel='Sample', ylabel='Abundance'>"
      ]
     },
     "execution_count": 7,
     "metadata": {},
     "output_type": "execute_result"
    },
    {
     "data": {
      "image/png": "[encoded data removed]",
      "text/plain": [
       "<Figure size 1080x648 with 1 Axes>"
      ]
     },
     "metadata": {},
     "output_type": "display_data"
    }
   ],
   "source": [
    "plot_OTU_bars(\n",
    "    \"265f74f49f9531de8808b253efa96dc7c320df27\", \n",
    "    \"trnL_sub_cluster_OTU_table_f1_basics2_cut2phyloseq2.tab\", \n",
    "    15,  # number of bins (bars)\n",
    "    10)  # width"
   ]
  },
  {
   "cell_type": "markdown",
   "metadata": {},
   "source": [
    "**We observe that the Top1 OTU assigned as Juglandaceae *Juglans mandshuric* occurrs with high abundance in the `Negative` sample, but presents higher abundance in `Glycyrrhizauralensis_b` and `Paeonialactiflora_b` samples.**"
   ]
  },
  {
   "cell_type": "markdown",
   "metadata": {},
   "source": [
    "Let's check the next Top OTU:"
   ]
  },
  {
   "cell_type": "code",
   "execution_count": 8,
   "metadata": {},
   "outputs": [
    {
     "name": "stdout",
     "output_type": "stream",
     "text": [
      "94385ff6f775ede0a8b76f5e4f3a9a0de58a4eca\tEukaryota\tStreptophyta\tMagnoliopsida\tDioscoreales\tDioscoreaceae\tDioscorea\tjaponica\t100.000\t7332\n"
     ]
    }
   ],
   "source": [
    "!grep \"94385ff6f775ede0a8b76f5e4f3a9a0de58a4eca\" target95_trnL_OTU_tax_assignments.txt"
   ]
  },
  {
   "cell_type": "code",
   "execution_count": 9,
   "metadata": {},
   "outputs": [
    {
     "data": {
      "text/plain": [
       "<AxesSubplot:xlabel='Sample', ylabel='Abundance'>"
      ]
     },
     "execution_count": 9,
     "metadata": {},
     "output_type": "execute_result"
    },
    {
     "data": {
      "image/png": "[encoded data removed]",
      "text/plain": [
       "<Figure size 720x648 with 1 Axes>"
      ]
     },
     "metadata": {},
     "output_type": "display_data"
    }
   ],
   "source": [
    "plot_OTU_bars(\n",
    "    \"94385ff6f775ede0a8b76f5e4f3a9a0de58a4eca\", \n",
    "    \"trnL_sub_cluster_OTU_table_f1_basics2_cut2phyloseq2.tab\", \n",
    "    15,  # number of bins (bars)\n",
    "    10)  # width"
   ]
  },
  {
   "cell_type": "markdown",
   "metadata": {},
   "source": [
    "**Similarly, we observe that the Top2 OTU assigned to Dioscoreaceae *Dioscorea japonica* occurrs in the `Negative` sample, but presents much higher abundance in `Ligusticumchuanxiong_b` sample.**"
   ]
  },
  {
   "cell_type": "code",
   "execution_count": 10,
   "metadata": {},
   "outputs": [
    {
     "name": "stdout",
     "output_type": "stream",
     "text": [
      "c65370ec20a9cdf9089e1983d7c5c3d4227a870b\tEukaryota\tStreptophyta\tMagnoliopsida\tDioscoreales\tDioscoreaceae\tDioscorea\tjaponica\t100.000\t14276\n"
     ]
    }
   ],
   "source": [
    "!grep \"c65370ec20a9cdf9089e1983d7c5c3d4227a870b\" target95_trnL_OTU_tax_assignments.txt"
   ]
  },
  {
   "cell_type": "code",
   "execution_count": 11,
   "metadata": {},
   "outputs": [
    {
     "data": {
      "text/plain": [
       "<AxesSubplot:xlabel='Sample', ylabel='Abundance'>"
      ]
     },
     "execution_count": 11,
     "metadata": {},
     "output_type": "execute_result"
    },
    {
     "data": {
      "image/png": "[encoded data removed]",
      "text/plain": [
       "<Figure size 720x648 with 1 Axes>"
      ]
     },
     "metadata": {},
     "output_type": "display_data"
    }
   ],
   "source": [
    "plot_OTU_bars(\n",
    "    \"c65370ec20a9cdf9089e1983d7c5c3d4227a870b\", \n",
    "    \"trnL_sub_cluster_OTU_table_f1_basics2_cut2phyloseq2.tab\", \n",
    "    15,  # number of bins (bars)\n",
    "    10)  # width"
   ]
  },
  {
   "cell_type": "markdown",
   "metadata": {},
   "source": [
    "**Again, we observe that the Top3 OTU amplified in the `Negative` control sample and also assigned to Dioscoreaceae *Dioscorea japonica* occurrs in relatively low abundance in the `Negative` sample, but presents much higher abundance in `GuiZhiFuLingTan_b` and `GXZYT_a` samples.**"
   ]
  },
  {
   "cell_type": "markdown",
   "metadata": {},
   "source": [
    "**###################################################################################################################**<P>\n",
    "**AT THIS POINT LET'S GO BACK TO `metapipe-r.ipynb` NOTEBOOK TO FIND OUT THE TOP OTUS FROM THE `NegativePCR` CONTROL SAMPLE!**<P>\n",
    "**###################################################################################################################**"
   ]
  },
  {
   "cell_type": "markdown",
   "metadata": {},
   "source": [
    "**Now that we have run the composition analysis of the `Negative PCR` control sample `(data_negPCR subset)`, we know that we have `TWO` Top OTUs to investigate:**<p>\n",
    "**1ad23561fdff8989fd2e4e9a3735a4b8f5633fba**<p>\n",
    "**250a541b1d3823011d21097b0f3880d831e6b92d**"
   ]
  },
  {
   "cell_type": "markdown",
   "metadata": {},
   "source": [
    "**Let's check who these two OTUs amplified in the `Negative PCR` control sample are, and the respective OTU abundance distribution, as we did before:**"
   ]
  },
  {
   "cell_type": "code",
   "execution_count": 12,
   "metadata": {},
   "outputs": [
    {
     "name": "stdout",
     "output_type": "stream",
     "text": [
      "1ad23561fdff8989fd2e4e9a3735a4b8f5633fba\tEukaryota\tStreptophyta\tMagnoliopsida\tFabales\tFabaceae\tEuchresta\thorsfieldii\t100.000\t1349\n"
     ]
    }
   ],
   "source": [
    "!grep \"1ad23561fdff8989fd2e4e9a3735a4b8f5633fba\" target95_trnL_OTU_tax_assignments.txt"
   ]
  },
  {
   "cell_type": "code",
   "execution_count": 13,
   "metadata": {},
   "outputs": [
    {
     "data": {
      "text/plain": [
       "<AxesSubplot:xlabel='Sample', ylabel='Abundance'>"
      ]
     },
     "execution_count": 13,
     "metadata": {},
     "output_type": "execute_result"
    },
    {
     "data": {
      "image/png": "[encoded data removed]",
      "text/plain": [
       "<Figure size 720x648 with 1 Axes>"
      ]
     },
     "metadata": {},
     "output_type": "display_data"
    }
   ],
   "source": [
    "plot_OTU_bars(\n",
    "    \"1ad23561fdff8989fd2e4e9a3735a4b8f5633fba\", \n",
    "    \"trnL_sub_cluster_OTU_table_f1_basics2_cut2phyloseq2.tab\", \n",
    "    15,  # number of bins (bars)\n",
    "    10)  # width"
   ]
  },
  {
   "cell_type": "markdown",
   "metadata": {},
   "source": [
    "**We observe that the Top1 OTU from `data_negPCR subset`, assigned as Fabaceae *Euchresta horsfieldii*, occurrs with high abundance in the `NegativePCR` sample, but presents highest abundance in `Glycyrrhizauralensis_b` sample.**"
   ]
  },
  {
   "cell_type": "markdown",
   "metadata": {},
   "source": [
    "Let's check the second most abundant OTU:"
   ]
  },
  {
   "cell_type": "code",
   "execution_count": 14,
   "metadata": {},
   "outputs": [
    {
     "name": "stdout",
     "output_type": "stream",
     "text": [
      "250a541b1d3823011d21097b0f3880d831e6b92d\tEukaryota\tStreptophyta\tMagnoliopsida\tFagales\tJuglandaceae\tJuglans\tmandshurica\t100.000\t4999\n"
     ]
    }
   ],
   "source": [
    "!grep \"250a541b1d3823011d21097b0f3880d831e6b92d\" target95_trnL_OTU_tax_assignments.txt"
   ]
  },
  {
   "cell_type": "code",
   "execution_count": 15,
   "metadata": {},
   "outputs": [
    {
     "data": {
      "text/plain": [
       "<AxesSubplot:xlabel='Sample', ylabel='Abundance'>"
      ]
     },
     "execution_count": 15,
     "metadata": {},
     "output_type": "execute_result"
    },
    {
     "data": {
      "image/png": "[encoded data removed]",
      "text/plain": [
       "<Figure size 720x648 with 1 Axes>"
      ]
     },
     "metadata": {},
     "output_type": "display_data"
    }
   ],
   "source": [
    "plot_OTU_bars(\n",
    "    \"250a541b1d3823011d21097b0f3880d831e6b92d\", \n",
    "    \"trnL_sub_cluster_OTU_table_f1_basics2_cut2phyloseq2.tab\", \n",
    "    15,  # number of bins (bars)\n",
    "    10)  # width"
   ]
  },
  {
   "cell_type": "markdown",
   "metadata": {},
   "source": [
    "**We observe that the Top2 OTU from the `NegativePCR` control sample was assigned to Juglandaceae *Juglans mandshuric* (similarly to the Top1 OTU from `data_neg subset`), it occurrs in the `NegativePCR` sample in relatively low abundance, and presents the highest abundance in `GuiZhiFuLingTan_b` sample.**"
   ]
  },
  {
   "cell_type": "markdown",
   "metadata": {},
   "source": [
    "**#############################################################################################################**<P>\n",
    "**AT THIS POINT LET'S GO BACK TO `metapipe-r.ipynb` NOTEBOOK TO FIND OUT THE TOP OTUS FROM THE WHOLE DATASET!!!**<P>\n",
    "**#############################################################################################################**"
   ]
  },
  {
   "cell_type": "markdown",
   "metadata": {},
   "source": [
    "**Now that we know the `SIX` Top OTUs from the whole dataset, let's investigate who they are:**<p>\n",
    "**ac90db76fbae68003ec939d36b9847a46cbfa3c7**<p>\n",
    "**2987db85c9fae5a1464f814e070b7507621e8a57**<p>\n",
    "**addff39eca064dd9caa294721e6a23cab9c331ab**<p>\n",
    "**a069993ab97b3f720cf66567bfb1fad838b20dc6**<p>\n",
    "**28bf85082548d49c8d3b2793064a2fae0f417562**<p>\n",
    "**967e951648145482fcc47f85b2a3530bec26d552**"
   ]
  },
  {
   "cell_type": "markdown",
   "metadata": {},
   "source": [
    "**We can observe already that the Top OTUs amplified in the `Negative` controls are not among the Top OTUs from the whole dataset, this is good.**"
   ]
  },
  {
   "cell_type": "markdown",
   "metadata": {},
   "source": [
    "Let's check one by one again:"
   ]
  },
  {
   "cell_type": "code",
   "execution_count": 16,
   "metadata": {},
   "outputs": [
    {
     "name": "stdout",
     "output_type": "stream",
     "text": [
      "ac90db76fbae68003ec939d36b9847a46cbfa3c7\tEukaryota\tStreptophyta\tMagnoliopsida\tSapindales\tRutaceae\tCitrus\tmicrantha\t100.000\t51129\n"
     ]
    }
   ],
   "source": [
    "!grep \"ac90db76fbae68003ec939d36b9847a46cbfa3c7\" target95_trnL_OTU_tax_assignments.txt"
   ]
  },
  {
   "cell_type": "code",
   "execution_count": 17,
   "metadata": {},
   "outputs": [
    {
     "data": {
      "text/plain": [
       "<AxesSubplot:xlabel='Sample', ylabel='Abundance'>"
      ]
     },
     "execution_count": 17,
     "metadata": {},
     "output_type": "execute_result"
    },
    {
     "data": {
      "image/png": "[encoded data removed]",
      "text/plain": [
       "<Figure size 720x648 with 1 Axes>"
      ]
     },
     "metadata": {},
     "output_type": "display_data"
    }
   ],
   "source": [
    "plot_OTU_bars(\n",
    "    \"ac90db76fbae68003ec939d36b9847a46cbfa3c7\", \n",
    "    \"trnL_sub_cluster_OTU_table_f1_basics2_cut2phyloseq2.tab\", \n",
    "    15,  # number of bins (bars)\n",
    "    10)  # width"
   ]
  },
  {
   "cell_type": "markdown",
   "metadata": {},
   "source": [
    "**We observe that the Top OTU assigned as Rutaceae *Citrus micrantha* is more abundant in `Citrusaurantium_b` sample.**"
   ]
  },
  {
   "cell_type": "markdown",
   "metadata": {},
   "source": [
    "![Image of Prunus persica](https://i.pinimg.com/564x/63/03/e2/6303e2ca0575aac208367e3670599afd.jpg)"
   ]
  },
  {
   "cell_type": "code",
   "execution_count": 18,
   "metadata": {},
   "outputs": [
    {
     "name": "stdout",
     "output_type": "stream",
     "text": [
      "2987db85c9fae5a1464f814e070b7507621e8a57\tEukaryota\tStreptophyta\tMagnoliopsida\tPoales\tPoaceae\tZea\tmays\t100.000\t43673\n"
     ]
    }
   ],
   "source": [
    "!grep \"2987db85c9fae5a1464f814e070b7507621e8a57\" target95_trnL_OTU_tax_assignments.txt"
   ]
  },
  {
   "cell_type": "code",
   "execution_count": 19,
   "metadata": {},
   "outputs": [
    {
     "data": {
      "text/plain": [
       "<AxesSubplot:xlabel='Sample', ylabel='Abundance'>"
      ]
     },
     "execution_count": 19,
     "metadata": {},
     "output_type": "execute_result"
    },
    {
     "data": {
      "image/png": "[encoded data removed]",
      "text/plain": [
       "<Figure size 720x648 with 1 Axes>"
      ]
     },
     "metadata": {},
     "output_type": "display_data"
    }
   ],
   "source": [
    "plot_OTU_bars(\n",
    "    \"2987db85c9fae5a1464f814e070b7507621e8a57\", \n",
    "    \"trnL_sub_cluster_OTU_table_f1_basics2_cut2phyloseq2.tab\", \n",
    "    15,  # number of bins (bars)\n",
    "    10)  # width"
   ]
  },
  {
   "cell_type": "markdown",
   "metadata": {},
   "source": [
    "**We observe that the Top OTU assigned as Poaceae *Zea mays* is more abundant in `GZFLW_a` sample.**"
   ]
  },
  {
   "cell_type": "markdown",
   "metadata": {},
   "source": [
    "![Image of Prunus persica](http://socorronacozinha.com.br/wp-content/uploads/2012/08/milho-cozido-manteiga-545x306.jpg)"
   ]
  },
  {
   "cell_type": "code",
   "execution_count": 20,
   "metadata": {},
   "outputs": [
    {
     "name": "stdout",
     "output_type": "stream",
     "text": [
      "addff39eca064dd9caa294721e6a23cab9c331ab\tEukaryota\tStreptophyta\tMagnoliopsida\tApiales\tApiaceae\tSelinum\tcarvifolia\t100.000\t41429\n"
     ]
    }
   ],
   "source": [
    "!grep \"addff39eca064dd9caa294721e6a23cab9c331ab\" target95_trnL_OTU_tax_assignments.txt"
   ]
  },
  {
   "cell_type": "code",
   "execution_count": 21,
   "metadata": {},
   "outputs": [
    {
     "data": {
      "text/plain": [
       "<AxesSubplot:xlabel='Sample', ylabel='Abundance'>"
      ]
     },
     "execution_count": 21,
     "metadata": {},
     "output_type": "execute_result"
    },
    {
     "data": {
      "image/png": "[encoded data removed]",
      "text/plain": [
       "<Figure size 720x648 with 1 Axes>"
      ]
     },
     "metadata": {},
     "output_type": "display_data"
    }
   ],
   "source": [
    "plot_OTU_bars(\n",
    "    \"addff39eca064dd9caa294721e6a23cab9c331ab\", \n",
    "    \"trnL_sub_cluster_OTU_table_f1_basics2_cut2phyloseq2.tab\", \n",
    "    15,  # number of bins (bars)\n",
    "    10)  # width"
   ]
  },
  {
   "cell_type": "markdown",
   "metadata": {},
   "source": [
    "**We observe that the Top OTU assigned as Apiaceae *Selinum carvifolia* is more abundant in `Angelicaesinensis_a/b`, and `GXZYT_a` samples.**"
   ]
  },
  {
   "cell_type": "markdown",
   "metadata": {},
   "source": [
    "![Image of Prunus persica](https://alchetron.com/cdn/selinum-carvifolia-ba052cc2-9fff-4192-8f97-56186cb42d6-resize-750.jpeg)"
   ]
  },
  {
   "cell_type": "code",
   "execution_count": 22,
   "metadata": {},
   "outputs": [
    {
     "name": "stdout",
     "output_type": "stream",
     "text": [
      "a069993ab97b3f720cf66567bfb1fad838b20dc6\tEukaryota\tStreptophyta\tMagnoliopsida\tLaurales\tLauraceae\tCinnamomum\tcamphora\t100.000\t37670\n"
     ]
    }
   ],
   "source": [
    "!grep \"a069993ab97b3f720cf66567bfb1fad838b20dc6\" target95_trnL_OTU_tax_assignments.txt"
   ]
  },
  {
   "cell_type": "code",
   "execution_count": 23,
   "metadata": {},
   "outputs": [
    {
     "data": {
      "text/plain": [
       "<AxesSubplot:xlabel='Sample', ylabel='Abundance'>"
      ]
     },
     "execution_count": 23,
     "metadata": {},
     "output_type": "execute_result"
    },
    {
     "data": {
      "image/png": "[encoded data removed]",
      "text/plain": [
       "<Figure size 720x648 with 1 Axes>"
      ]
     },
     "metadata": {},
     "output_type": "display_data"
    }
   ],
   "source": [
    "plot_OTU_bars(\n",
    "    \"a069993ab97b3f720cf66567bfb1fad838b20dc6\", \n",
    "    \"trnL_sub_cluster_OTU_table_f1_basics2_cut2phyloseq2.tab\", \n",
    "    15,  # number of bins (bars)\n",
    "    10)  # width"
   ]
  },
  {
   "cell_type": "markdown",
   "metadata": {},
   "source": [
    "**We observe that the top OTU assigned as Lauraceae *Cinnamomum camphora* is more abundant in `GuiZhiFuLingPian_a` and `Cyperusrotundus_a` samples.**"
   ]
  },
  {
   "cell_type": "markdown",
   "metadata": {},
   "source": [
    "![Image of Prunus persica](https://jb.utad.pt/imagem/7614)"
   ]
  },
  {
   "cell_type": "code",
   "execution_count": 24,
   "metadata": {},
   "outputs": [
    {
     "name": "stdout",
     "output_type": "stream",
     "text": [
      "28bf85082548d49c8d3b2793064a2fae0f417562\tEukaryota\tStreptophyta\tMagnoliopsida\tRosales\tRosaceae\tPrunus\tsunhangii\t100.000\t34741\n"
     ]
    }
   ],
   "source": [
    "!grep \"28bf85082548d49c8d3b2793064a2fae0f417562\" target95_trnL_OTU_tax_assignments.txt"
   ]
  },
  {
   "cell_type": "code",
   "execution_count": 25,
   "metadata": {},
   "outputs": [
    {
     "data": {
      "text/plain": [
       "<AxesSubplot:xlabel='Sample', ylabel='Abundance'>"
      ]
     },
     "execution_count": 25,
     "metadata": {},
     "output_type": "execute_result"
    },
    {
     "data": {
      "image/png": "[encoded data removed]",
      "text/plain": [
       "<Figure size 720x648 with 1 Axes>"
      ]
     },
     "metadata": {},
     "output_type": "display_data"
    }
   ],
   "source": [
    "plot_OTU_bars(\n",
    "    \"28bf85082548d49c8d3b2793064a2fae0f417562\", \n",
    "    \"trnL_sub_cluster_OTU_table_f1_basics2_cut2phyloseq2.tab\", \n",
    "    15,  # number of bins (bars)\n",
    "    10)  # width"
   ]
  },
  {
   "cell_type": "markdown",
   "metadata": {},
   "source": [
    "**We observe that the top OTU assigned as Rosaceae *Prunus sunhangii* is more abundant in `Prunuspersica_a/b`, `GXZYT_a` and `GZFLW_a` samples.**"
   ]
  },
  {
   "cell_type": "markdown",
   "metadata": {},
   "source": [
    "![Image of Prunus persica](https://upload.wikimedia.org/wikipedia/commons/thumb/5/5e/Nectarine_Fruit_Development.jpg/800px-Nectarine_Fruit_Development.jpg)"
   ]
  },
  {
   "cell_type": "markdown",
   "metadata": {},
   "source": [
    "**It is a very good sign that we do not have any of the Top OTUs amplified in the `Negative` and `NegativePCR` samples among the general Top OTUs from the whole dataset.**"
   ]
  },
  {
   "cell_type": "markdown",
   "metadata": {},
   "source": [
    "**#############################################################################################################**<P>\n",
    "**AT THIS POINT LET'S GO BACK TO `metapipe-r.ipynb` NOTEBOOK TO RUN THE FOLLOWING DATA ANALYSIS**<p>\n",
    "**#############################################################################################################**"
   ]
  }
 ],
 "metadata": {
  "environment": {
   "kernel": "python3",
   "name": "common-cpu.m86",
   "type": "gcloud",
   "uri": "gcr.io/deeplearning-platform-release/base-cpu:m86"
  },
  "kernelspec": {
   "display_name": "Python 3 (ipykernel)",
   "language": "python",
   "name": "python3"
  },
  "language_info": {
   "codemirror_mode": {
    "name": "ipython",
    "version": 3
   },
   "file_extension": ".py",
   "mimetype": "text/x-python",
   "name": "python",
   "nbconvert_exporter": "python",
   "pygments_lexer": "ipython3",
   "version": "3.7.12"
  }
 },
 "nbformat": 4,
 "nbformat_minor": 4
}
