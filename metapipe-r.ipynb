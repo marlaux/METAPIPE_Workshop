{
 "cells": [
  {
   "cell_type": "markdown",
   "id": "9f7cc457-a249-4332-8829-ec5ea38647d4",
   "metadata": {},
   "source": [
    "**Check if R is available and its version**"
   ]
  },
  {
   "cell_type": "code",
   "execution_count": null,
   "id": "37cbaa42-40f6-4056-b293-c465a9b7ab85",
   "metadata": {},
   "outputs": [],
   "source": [
    "R.version"
   ]
  },
  {
   "cell_type": "markdown",
   "id": "09a14bb9-26a6-4731-a7e6-727d3f4be1cd",
   "metadata": {},
   "source": [
    "**###########################################################################################################**<p>\n",
    "**Setting up our R environment and `load the tables` generated using `METAPIPE pipeline` in `metapipe-run.ipynb` Notebook:**<p>\n",
    "**############################################################################################################**"
   ]
  },
  {
   "cell_type": "markdown",
   "id": "325af46a-5dce-45ef-81f1-e20f1094fda5",
   "metadata": {},
   "source": [
    "**Load required packages for this data analysis session:**"
   ]
  },
  {
   "cell_type": "code",
   "execution_count": null,
   "id": "24573aa0-e8d7-4887-a840-be3d31f08921",
   "metadata": {
    "tags": []
   },
   "outputs": [],
   "source": [
    "library(\"phyloseq\")\n",
    "library(\"ape\")\n",
    "library(\"vegan\")\n",
    "library(\"ggplot2\")\n",
    "library(\"vegan\")\n",
    "library(\"dplyr\")\n",
    "library(\"ape\")\n",
    "library(\"png\")\n",
    "library(\"repr\")\n",
    "library(\"data.table\")\n",
    "library(\"RColorBrewer\")"
   ]
  },
  {
   "cell_type": "markdown",
   "id": "5e48d9de-a019-49a6-9e97-aa01a6cd4006",
   "metadata": {},
   "source": [
    "**Load the OTU table (OTU by sample abundance)**"
   ]
  },
  {
   "cell_type": "code",
   "execution_count": null,
   "id": "30d39cf7-2be6-4201-b0b8-5e67bc6f7212",
   "metadata": {},
   "outputs": [],
   "source": [
    "otu_table <- read.table(\"trnL_sub_cluster_OTU_table_f1_basics2_cut2phyloseq2.tab\", header=TRUE, row.names=1)"
   ]
  },
  {
   "cell_type": "markdown",
   "id": "d238b3e3-5ecb-4a3b-9722-c72d7912f47e",
   "metadata": {},
   "source": [
    "**Convert table to matrix**"
   ]
  },
  {
   "cell_type": "code",
   "execution_count": null,
   "id": "ba2176c6-3683-41d0-ac8a-7fccb8f81ec4",
   "metadata": {},
   "outputs": [],
   "source": [
    "otu_table <- as.matrix(otu_table)"
   ]
  },
  {
   "cell_type": "markdown",
   "id": "fb40fa10-a1d5-42e1-b1cf-fd0abff51970",
   "metadata": {},
   "source": [
    "**Load the taxa assignments table (OTU - lineage - taxa by best hit)**"
   ]
  },
  {
   "cell_type": "code",
   "execution_count": null,
   "id": "ffa781d7-85fc-46db-ac4e-d440a9ae86a0",
   "metadata": {},
   "outputs": [],
   "source": [
    "taxonomy <- read.table(\"target95_trnL_OTU_tax_assignments.txt\", header=TRUE, row.names = 1)"
   ]
  },
  {
   "cell_type": "markdown",
   "id": "9b595414-083c-4cca-8536-311ac567e994",
   "metadata": {},
   "source": [
    "**Convert table to matrix**"
   ]
  },
  {
   "cell_type": "code",
   "execution_count": null,
   "id": "6383d86c-3aa1-430c-9b00-7b8aa00609dc",
   "metadata": {},
   "outputs": [],
   "source": [
    "taxonomy <- as.matrix(taxonomy)"
   ]
  },
  {
   "cell_type": "markdown",
   "id": "44cc7074-0fe8-425a-bd61-dbd723083163",
   "metadata": {},
   "source": [
    "<p>Load the <strong>metadata</strong>, a tab delimited text file with the SampleID (mandatory) in the first column and following columns describing important features from your data. The format must be like this:</p>\n",
    "<p><strong>SampleID</strong><span style=\"white-space:pre;\"><strong>&nbsp; &nbsp; </strong></span><strong>SampleName</strong><span style=\"white-space:pre;\"><strong>&nbsp; &nbsp; </strong></span><strong>Replicate </strong><strong>Season</strong><span style=\"white-space:pre;\"><strong>&nbsp; &nbsp; </strong></span></p>\n",
    "<p>Amazon_W_I<span style=\"white-space:pre;\">&nbsp; &nbsp;&nbsp;</span>Amazon_W_I<span style=\"white-space:pre;\">&nbsp; &nbsp;&nbsp;</span>Amazon_W<span style=\"white-space:pre;\">&nbsp; &nbsp;&nbsp;</span>Winter &nbsp;</p>\n",
    "<p>Amazon_W_II<span style=\"white-space:pre;\">&nbsp; &nbsp;&nbsp;</span>Amazon_W_II<span style=\"white-space:pre;\">&nbsp; &nbsp;&nbsp;</span>Amazon_W<span style=\"white-space:pre;\">&nbsp; &nbsp;&nbsp;</span>Winter<span style=\"white-space:pre;\">&nbsp; &nbsp;&nbsp;</span></p>\n",
    "<p>Amazon_S_I<span style=\"white-space:pre;\">&nbsp; &nbsp;&nbsp;</span>Amazon_S_I<span style=\"white-space:pre;\">&nbsp; &nbsp;&nbsp;</span>Amazon_S<span style=\"white-space:pre;\">&nbsp; &nbsp;&nbsp;</span>Summer<span style=\"white-space:pre;\">&nbsp; &nbsp;&nbsp;</span></p>\n",
    "<p>Amazon_S_II<span style=\"white-space:pre;\">&nbsp; &nbsp;&nbsp;</span>Amazon_S_II<span style=\"white-space:pre;\">&nbsp; &nbsp;&nbsp;</span>Amazon_S<span style=\"white-space:pre;\">&nbsp; &nbsp;&nbsp;</span>Summer</p>"
   ]
  },
  {
   "cell_type": "code",
   "execution_count": null,
   "id": "3990cc0b-c5cd-4d16-a8eb-34cf2c03b068",
   "metadata": {},
   "outputs": [],
   "source": [
    "metadata <- read.table(\"trnL_sub_metadata.txt\", header=TRUE, row.names = 1)"
   ]
  },
  {
   "cell_type": "code",
   "execution_count": null,
   "id": "332b3b72-8f45-4869-ae34-be84d6823993",
   "metadata": {},
   "outputs": [],
   "source": [
    "meta <- as.matrix(metadata)"
   ]
  },
  {
   "cell_type": "markdown",
   "id": "82a0d28b-83d8-4188-94ba-c7fc2020eca8",
   "metadata": {},
   "source": [
    "**Tables conversion to variables according to Phyloseq functions:**"
   ]
  },
  {
   "cell_type": "code",
   "execution_count": null,
   "id": "3207e72c-7392-4932-909c-7473b991b817",
   "metadata": {},
   "outputs": [],
   "source": [
    "OTU <- otu_table(otu_table, taxa_are_rows = TRUE)"
   ]
  },
  {
   "cell_type": "code",
   "execution_count": null,
   "id": "5e2c3644-bbc4-4bfc-ae8a-234da288294b",
   "metadata": {},
   "outputs": [],
   "source": [
    "TAX <- tax_table(taxonomy)"
   ]
  },
  {
   "cell_type": "code",
   "execution_count": null,
   "id": "f3850568-3a90-4f16-8829-a5f220f6443c",
   "metadata": {},
   "outputs": [],
   "source": [
    "META <- sample_data(metadata)"
   ]
  },
  {
   "cell_type": "markdown",
   "id": "8b7d3581-5c59-423a-b3c8-ebb28f2a2e5f",
   "metadata": {},
   "source": [
    "**Combine the new three data variables into a Phyloseq object, allowing the concomitant quantitative and taxonomical data exploration, along with to any descriptive variable present in metadata file.**"
   ]
  },
  {
   "cell_type": "code",
   "execution_count": null,
   "id": "78b112b4-1802-4d80-862f-4ad06a4e216c",
   "metadata": {},
   "outputs": [],
   "source": [
    "merged <- phyloseq(OTU, TAX, META)"
   ]
  },
  {
   "cell_type": "code",
   "execution_count": null,
   "id": "42a6a887-44d9-4e49-ad18-17e3f521fecd",
   "metadata": {},
   "outputs": [],
   "source": [
    "merged"
   ]
  },
  {
   "cell_type": "markdown",
   "id": "1dc91817-3da8-4dae-a787-e154ec8da78d",
   "metadata": {},
   "source": [
    "**Create a random phylogenetic tree**"
   ]
  },
  {
   "cell_type": "code",
   "execution_count": null,
   "id": "c9bce2c9-bda4-4ec1-9fb7-a6f7eeda881d",
   "metadata": {},
   "outputs": [],
   "source": [
    "random_tree = rtree(ntaxa(merged), rooted=TRUE, tip.label=taxa_names(merged))"
   ]
  },
  {
   "cell_type": "markdown",
   "id": "80b74f13-15b9-4819-92f9-2f37c460bd38",
   "metadata": {},
   "source": [
    "**Create the final phyloseq object merging all 4 main components, OTU, TAX, META and random_tree**"
   ]
  },
  {
   "cell_type": "code",
   "execution_count": null,
   "id": "24f7c101-7dd3-4cd6-ab98-82a1061788ee",
   "metadata": {},
   "outputs": [],
   "source": [
    "data <- phyloseq(OTU, TAX, META, random_tree)"
   ]
  },
  {
   "cell_type": "markdown",
   "id": "5b5c3982-1fc8-4c7a-aca0-94b4605184e3",
   "metadata": {},
   "source": [
    "**Check your phyloseq object:**"
   ]
  },
  {
   "cell_type": "code",
   "execution_count": null,
   "id": "318fe67c-6361-48e8-a0d3-da648128e6e3",
   "metadata": {},
   "outputs": [],
   "source": [
    "data"
   ]
  },
  {
   "cell_type": "code",
   "execution_count": null,
   "id": "e3dfb226-d099-4dff-a5e3-b3fa14e16e9c",
   "metadata": {},
   "outputs": [],
   "source": [
    "head(plot_tree)"
   ]
  },
  {
   "cell_type": "code",
   "execution_count": null,
   "id": "61f43502-95a0-449d-abee-d75e620e1514",
   "metadata": {},
   "outputs": [],
   "source": [
    "ntaxa(data)"
   ]
  },
  {
   "cell_type": "code",
   "execution_count": null,
   "id": "ce8d5a6b-cdb2-427a-acb8-0ca10673b921",
   "metadata": {},
   "outputs": [],
   "source": [
    "nsamples(data)"
   ]
  },
  {
   "cell_type": "markdown",
   "id": "b5f727b2-b576-4d31-bf88-0c796efeb728",
   "metadata": {},
   "source": [
    "**Total abundance of our OTU table:**"
   ]
  },
  {
   "cell_type": "code",
   "execution_count": null,
   "id": "5dbfadba-19ff-489e-8a0b-63b9e606cd34",
   "metadata": {},
   "outputs": [],
   "source": [
    "sum(sample_sums(data))"
   ]
  },
  {
   "cell_type": "code",
   "execution_count": null,
   "id": "511a2adf-0778-4228-ae28-333286a8fbc0",
   "metadata": {},
   "outputs": [],
   "source": [
    "rank_names(data)"
   ]
  },
  {
   "cell_type": "code",
   "execution_count": null,
   "id": "f41da5ab-8292-4d3d-bb43-286e72b7eef9",
   "metadata": {},
   "outputs": [],
   "source": [
    "taxa_names(data)[1:10]"
   ]
  },
  {
   "cell_type": "markdown",
   "id": "8adbf07d-d711-4736-a96b-9a88198b6bc3",
   "metadata": {},
   "source": [
    "**It is importante to remeber that for `Phyloseq` package, our loaded dataset is called `object` and the OTUs are referred as `taxa`.**<p>\n",
    "**The taxonomic assignment itself you get when manipulating the `taxonomy` table:**"
   ]
  },
  {
   "cell_type": "code",
   "execution_count": null,
   "id": "9dcfb231-e33e-46c7-a407-b65f8e6701f9",
   "metadata": {},
   "outputs": [],
   "source": [
    "taxonomy[1:3,]"
   ]
  },
  {
   "cell_type": "markdown",
   "id": "e100e41d-1b15-4190-926d-408f314d9708",
   "metadata": {},
   "source": [
    "**or using the function `tax_table`:**"
   ]
  },
  {
   "cell_type": "code",
   "execution_count": null,
   "id": "fca4f0b9-e42e-474a-9798-cf0e02617082",
   "metadata": {},
   "outputs": [],
   "source": [
    "tax_table(data)[1:3,]"
   ]
  },
  {
   "cell_type": "markdown",
   "id": "51d9ef8f-45bd-4df8-9133-978334b4cae1",
   "metadata": {},
   "source": [
    "**Let's check our variables, which were defined in the `metadata` table.**<p>\n",
    "**Remember this: the metadata table is `YOURS`, which means that all the columns you have defined have some `possible relationship` to the data, and you are `free to add` as many columns as you like, depending on your `creativity` or `prior knowledge` of the data being analyzed.**"
   ]
  },
  {
   "cell_type": "code",
   "execution_count": null,
   "id": "e3ed654c-9f52-4c11-ae1a-2ecb7b28eae7",
   "metadata": {},
   "outputs": [],
   "source": [
    "sample_variables(data)"
   ]
  },
  {
   "cell_type": "markdown",
   "id": "3cc15862-13e3-4245-967e-e650f0ef5cc7",
   "metadata": {},
   "source": [
    "**Let's confirm that we don't have any empty sample:**"
   ]
  },
  {
   "cell_type": "code",
   "execution_count": null,
   "id": "506bb8c2-1252-4e19-9639-c00e2a335cd6",
   "metadata": {},
   "outputs": [],
   "source": [
    "data <- prune_taxa(taxa_sums(data) > 0, data)"
   ]
  },
  {
   "cell_type": "code",
   "execution_count": null,
   "id": "aa906311-b7c1-4850-8cd7-881f8a0c557c",
   "metadata": {},
   "outputs": [],
   "source": [
    "data"
   ]
  },
  {
   "cell_type": "markdown",
   "id": "cb94e3b0-1208-41b8-9e43-989c6913d2a7",
   "metadata": {},
   "source": [
    "**#############################################################################**<p>\n",
    "**Data exploration and preprocessing:**<p>\n",
    "**#############################################################################**"
   ]
  },
  {
   "cell_type": "markdown",
   "id": "b9f38a28-004d-4322-a34c-d77283d9922b",
   "metadata": {},
   "source": [
    "**Now, let's create a function check the sequencing depth of each sample:**"
   ]
  },
  {
   "cell_type": "code",
   "execution_count": null,
   "id": "104b47fc-e839-4405-a342-0bf0b0351292",
   "metadata": {},
   "outputs": [],
   "source": [
    "check_seq_depth <- function(in_data) {\n",
    "    sums_all <- data.frame(colSums(otu_table(in_data)))\n",
    "    colnames(sums_all) <- \"Sample_TotalSeqs\"\n",
    "    sums_all$sample <- row.names(sums_all)\n",
    "    sums_all <- arrange(sums_all, Sample_TotalSeqs)\n",
    "    return(sums_all)\n",
    "}"
   ]
  },
  {
   "cell_type": "markdown",
   "id": "0cf5dcbb-fb31-494b-a87a-bb7b287998a4",
   "metadata": {},
   "source": [
    "**Let's check the sequence depth by sample (total number of reads by sample in our object, i.e. our *dataset*):**"
   ]
  },
  {
   "cell_type": "code",
   "execution_count": null,
   "id": "fcceceb3-1d5f-407a-ba70-e3bfc68c1e99",
   "metadata": {},
   "outputs": [],
   "source": [
    "total_abundance <- check_seq_depth(data)"
   ]
  },
  {
   "cell_type": "code",
   "execution_count": null,
   "id": "cdca76ec-d6b6-406f-801f-748e8db94721",
   "metadata": {},
   "outputs": [],
   "source": [
    "options(repr.plot.width=15, repr.plot.height=8)\n",
    "ggplot(total_abundance, aes(x=reorder(sample, Sample_TotalSeqs), y = Sample_TotalSeqs)) + \n",
    "  ylab(\"Number of Sequences per Sample\") +\n",
    "  geom_bar(stat = \"identity\", colour=\"black\",fill=\"cornflowerblue\")  + xlab(\"Sample Name\") + \n",
    "  ggtitle(\"Sequencing depth by Sample data\") + \n",
    "  theme(axis.text.x = element_text(colour = \"black\", size=12, angle=45, hjust = 1, vjust = 1))"
   ]
  },
  {
   "cell_type": "markdown",
   "id": "41e963c3-a3c8-44cf-b594-eb461a4ba555",
   "metadata": {},
   "source": [
    "**Now we have our first observation: the `GZFLW_a` sample is the most abundant**."
   ]
  },
  {
   "cell_type": "markdown",
   "id": "dfef2aab-e4f8-4a86-9265-422d9f4490f4",
   "metadata": {},
   "source": [
    "**Now I will show you the impact of increasing the minimum abundance threshold:**"
   ]
  },
  {
   "cell_type": "markdown",
   "id": "186ec8cd-5e9e-4d7e-858d-03fbe6534bd1",
   "metadata": {},
   "source": [
    "**Take a look on how many taxa remain when asking for OTUs with at least 10 reads:**"
   ]
  },
  {
   "cell_type": "code",
   "execution_count": null,
   "id": "42049313-6b21-4b95-bc87-70461852a194",
   "metadata": {},
   "outputs": [],
   "source": [
    "data_10_cut <- prune_taxa(taxa_sums(data) > 10, data)"
   ]
  },
  {
   "cell_type": "code",
   "execution_count": null,
   "id": "b4e96332-5001-4dab-b334-f03ca864dd98",
   "metadata": {},
   "outputs": [],
   "source": [
    "data_10_cut"
   ]
  },
  {
   "cell_type": "markdown",
   "id": "7fcd2f4c-7465-4d39-8e36-dbeaffa1a037",
   "metadata": {},
   "source": [
    "**When asking for at least 10 reads by OTU, 47 taxa are lost.**<p>\n",
    "**How would it be selecting only OTUs with more than 100 reads?**"
   ]
  },
  {
   "cell_type": "code",
   "execution_count": null,
   "id": "4730f150-534d-432e-bebf-8733649eb3f4",
   "metadata": {},
   "outputs": [],
   "source": [
    "data_100_cut <- prune_taxa(taxa_sums(data) > 100, data)"
   ]
  },
  {
   "cell_type": "code",
   "execution_count": null,
   "id": "9f0e612a-0691-438f-a52f-d35414352d06",
   "metadata": {},
   "outputs": [],
   "source": [
    "data_100_cut"
   ]
  },
  {
   "cell_type": "markdown",
   "id": "172e23a9-b458-48d0-80e4-8761a2d18f9e",
   "metadata": {},
   "source": [
    "**From 150 taxa, we end up with only 69, highlighting the `importance` of the `low abundance samples` to the dataset richnes!!**"
   ]
  },
  {
   "cell_type": "markdown",
   "id": "d7189702-6ee3-48fe-9983-2aeea74c44d1",
   "metadata": {},
   "source": [
    "**Let's plot the `rarefaction curve`, which is used to determine whether a specific sample has been sufficiently sequenced to represent its identity.**<p>\n",
    "**The rarefaction curve is a plot of the number of species against the number of samples, randomly re-sampling the samples several times and then plotting the average number of species found on each sample.**"
   ]
  },
  {
   "cell_type": "markdown",
   "id": "87262591-037f-4fc9-a10d-1545718d4854",
   "metadata": {},
   "source": [
    "The **rarecurve** function is part of the **`Vegan`** package (*Community Ecology Package: Ordination, Diversity and Dissimilarities*)."
   ]
  },
  {
   "cell_type": "markdown",
   "id": "dee9edd6-0281-4bea-8b0b-d3401b8cbf15",
   "metadata": {},
   "source": [
    "You can take a look on `Vegan's` functionalities here: https://peat-clark.github.io/BIO381/veganTutorial.html"
   ]
  },
  {
   "cell_type": "code",
   "execution_count": null,
   "id": "cfbc7fa7-aded-4cbf-996c-e06635d042f7",
   "metadata": {},
   "outputs": [],
   "source": [
    "#RARECURVE\n",
    "options(repr.plot.width=10, repr.plot.height=8)\n",
    "rarecurve(t(otu_table(data)), step=50, cex=0.5)"
   ]
  },
  {
   "cell_type": "markdown",
   "id": "c30d1b99-6943-4adb-9487-667e9b8d9857",
   "metadata": {},
   "source": [
    "**We observe that around 12 samples present curves at least starting to stabilize in OTU richness (y axis) according to the sampling size increasing (x axis).** "
   ]
  },
  {
   "cell_type": "markdown",
   "id": "678d1a67-3396-455b-8571-cf99b85408d8",
   "metadata": {},
   "source": [
    "**Let's check the raw OTU richness by Family (whole dataset):**"
   ]
  },
  {
   "cell_type": "markdown",
   "id": "caa85abf-1cc3-45e2-813d-bb5687a3f5e2",
   "metadata": {},
   "source": [
    "**we will `sum` up the abundance of OTUs (`OTU_abundance` column), `grouped by Families`:**"
   ]
  },
  {
   "cell_type": "code",
   "execution_count": null,
   "id": "d4ab5d42-1469-4852-90a5-06f8a01e0d94",
   "metadata": {},
   "outputs": [],
   "source": [
    "taxonomy[1:3,1:9]"
   ]
  },
  {
   "cell_type": "code",
   "execution_count": null,
   "id": "508dd96d-de7d-4eb7-b1ea-2bfc50ae4e94",
   "metadata": {},
   "outputs": [],
   "source": [
    "options(repr.plot.width=10, repr.plot.height=8)\n",
    "as.data.frame(taxonomy) %>%\n",
    "  group_by(Family) %>%\n",
    "  dplyr::count(name = 'count') %>%\n",
    "  arrange(desc(count)) %>% \n",
    "  na.omit() %>%\n",
    "  ggplot(aes(x=reorder(Family, count), y=count)) +\n",
    "  xlab(\"Family\") +\n",
    "  geom_bar(stat = 'identity') + \n",
    "  coord_flip()"
   ]
  },
  {
   "cell_type": "markdown",
   "id": "881d2c92-784e-4072-ac21-7950dbfe2ddd",
   "metadata": {},
   "source": [
    "**The Families `Poaceae`, `Apiaceae`, and `Fabaceae` are the three Families with higher richness of distinct OTUs assigned to them.**"
   ]
  },
  {
   "cell_type": "markdown",
   "id": "d49bfea9-64db-41c6-aef2-8bfd44ba1b23",
   "metadata": {},
   "source": [
    "**Now, let's check the same information, but selecting only Families with more than 5 OTUs:**"
   ]
  },
  {
   "cell_type": "code",
   "execution_count": null,
   "id": "b2b74050-1922-40d0-842a-85c66bd98305",
   "metadata": {},
   "outputs": [],
   "source": [
    "options(repr.plot.width=10, repr.plot.height=5)\n",
    "as.data.frame(taxonomy) %>%\n",
    "  group_by(Family) %>%\n",
    "  dplyr::count(name = 'count') %>%\n",
    "  filter(count > 5) %>%\n",
    "  arrange(desc(count)) %>% \n",
    "  na.omit() %>%\n",
    "  ggplot(aes(x=reorder(Family, count), y=count)) +\n",
    "  xlab(\"Family\") +\n",
    "  geom_bar(stat = 'identity') + \n",
    "  coord_flip()"
   ]
  },
  {
   "cell_type": "markdown",
   "id": "bcc781d1-c33d-4ef3-83fb-0ff17775b105",
   "metadata": {},
   "source": [
    "**Here we can see again that, along with the `low abundance of reads` samples observed before, the `low OTU richness` taxa assigned also have a `strong impact` on the overall `alpha-diversity`. From 71 Families, only 20 show OTU richness above 5.**"
   ]
  },
  {
   "cell_type": "markdown",
   "id": "055f7b4f-0d4c-4a6f-8ca1-2c4f5d6435dd",
   "metadata": {},
   "source": [
    "**Now let's check the overall OTU abundance by Family (first glimpse on taxonomic composition):**"
   ]
  },
  {
   "cell_type": "markdown",
   "id": "b95b6b23-6a7f-4ce1-aa7b-d3aab70108e9",
   "metadata": {},
   "source": [
    "First we need to convert the taxonomy matrix in a dataframe:"
   ]
  },
  {
   "cell_type": "code",
   "execution_count": null,
   "id": "7aab6577-f56a-4f4d-8b95-579d7a390dd9",
   "metadata": {},
   "outputs": [],
   "source": [
    "taxonomy_data <- as.data.frame(taxonomy)"
   ]
  },
  {
   "cell_type": "markdown",
   "id": "be86ebb3-b8dd-4bdb-be34-d69d96f56490",
   "metadata": {},
   "source": [
    "next we need to convert the OTU_abundance column to integer, in order to be summed (it is loaded as a character column)."
   ]
  },
  {
   "cell_type": "code",
   "execution_count": null,
   "id": "8a90de0b-d422-4949-8af2-b2b83089e66a",
   "metadata": {},
   "outputs": [],
   "source": [
    "taxonomy_data$OTU_abundance <- as.integer(taxonomy_data$OTU_abundance)"
   ]
  },
  {
   "cell_type": "markdown",
   "id": "d3bfe80d-a60d-4f41-bd0d-efe5ed1c1088",
   "metadata": {},
   "source": [
    "In the following command, we are doing the **abundance somatory by Family**, filtering Families with **abundance above 100** (to facilitate the viewing) and then plotting the **overall abundance by Family**."
   ]
  },
  {
   "cell_type": "code",
   "execution_count": null,
   "id": "836ff896-45fb-48d2-8a1a-23b53143e0f9",
   "metadata": {},
   "outputs": [],
   "source": [
    "options(repr.plot.width=15, repr.plot.height=8)\n",
    "aggregate(OTU_abundance ~ Family, taxonomy_data, sum) %>%\n",
    " filter(OTU_abundance > 100) %>%\n",
    "ggplot(aes(x=reorder(Family, OTU_abundance), y=OTU_abundance)) + \n",
    "  ylab(\"Number of Sequences per Sample\") +\n",
    "  geom_bar(stat = \"identity\", colour=\"black\",fill=\"indianred\")  + xlab(\"Family Names\") + \n",
    "  ggtitle(\"Sequencing depth by Sample data\") + \n",
    "  theme(axis.text.x = element_text(colour = \"black\", size=12, angle=45, hjust = 1, vjust = 1))"
   ]
  },
  {
   "cell_type": "markdown",
   "id": "01912c09-473b-4d05-b28a-d1ec246ee3c6",
   "metadata": {},
   "source": [
    "**Observe that both `Poaceae` and `Apiaceae` are the Families with higher OTU richness, observed before, and also present the higher overall abundance of reads throughout the dataset.**<p>\n",
    "**However, `Fabaceae` (the third in OTU richness) is not among the three top abundance Families, ilustrating that `Richness` and `Abundance` are not directly related to each other.**"
   ]
  },
  {
   "cell_type": "markdown",
   "id": "a7d47652-7028-4c38-861a-b27008631c8f",
   "metadata": {},
   "source": [
    "**###############################################################**<p>\n",
    "**Now we are going to start our `taxonomic composition` analysis:**<p>\n",
    "**###############################################################**"
   ]
  },
  {
   "cell_type": "markdown",
   "id": "92d43d77-048f-4c4f-9cfa-5ed8af772924",
   "metadata": {},
   "source": [
    "**Now let's take a look in the general taxonomic composition of our dataset:**"
   ]
  },
  {
   "cell_type": "markdown",
   "id": "26b2c0c3-b043-4d24-a0a5-58a7dfef5c54",
   "metadata": {},
   "source": [
    "First we **agglomerate** our data into *Family* taxonomic rank, then<p>\n",
    "Transform the samples counts to **relative abundance**, then<p>\n",
    "Then we filter by **at least 5% abundance**, in order to better see the Families distribution:<p>"
   ]
  },
  {
   "cell_type": "code",
   "execution_count": null,
   "id": "4bd89706-e274-4996-bc09-5be5678c0fce",
   "metadata": {},
   "outputs": [],
   "source": [
    "#BARPLOT RELATIVO\n",
    "data_rel <- data %>%\n",
    "  tax_glom(taxrank = \"Family\") %>%                     \n",
    "  transform_sample_counts(function(x) {x/sum(x)} ) %>% \n",
    "  psmelt() %>%                                         \n",
    "  filter(Abundance > 0.05) %>%                         \n",
    "  arrange(Abundance)"
   ]
  },
  {
   "cell_type": "markdown",
   "id": "078e950e-0ab9-4103-bd27-40a0b310dcb1",
   "metadata": {},
   "source": [
    "**The following function automatically creates a custom colour palette using the *RColorBrewer* R package:**"
   ]
  },
  {
   "cell_type": "code",
   "execution_count": null,
   "id": "58fde2e0-00a6-4591-b186-e683c6e9b10f",
   "metadata": {},
   "outputs": [],
   "source": [
    "custom_palette <- function(n_items, palette) {\n",
    "    colourCount = n_items\n",
    "    getPalette  = colorRampPalette(palette)\n",
    "    return(getPalette(colourCount))\n",
    "}"
   ]
  },
  {
   "cell_type": "markdown",
   "id": "7c5b8d94-3299-4963-8e9a-789150180908",
   "metadata": {},
   "source": [
    "**Now let's plot our Family composition by sample:**"
   ]
  },
  {
   "cell_type": "code",
   "execution_count": null,
   "id": "8c580e2d-f1d2-4e33-93b3-3c6ea841234c",
   "metadata": {},
   "outputs": [],
   "source": [
    "options(repr.plot.width=15, repr.plot.height=10)\n",
    "ggplot(data_rel, aes(x = Replicate, y = Abundance, fill = Family)) + \n",
    "  geom_bar(position=\"fill\", stat=\"identity\") +\n",
    "  scale_fill_manual(values = custom_palette(21, brewer.pal(12, \"Paired\"))) +\n",
    "  theme(axis.text.x = element_text(colour = \"black\", size=13, angle=45, hjust = 1, vjust = 1)) +\n",
    "  theme(legend.text = element_text(size=12)) +\n",
    "  ylab(\"Relative Abundance Family >5% \\n\") +\n",
    "  ggtitle(\"NCBI Family composition by sample\")"
   ]
  },
  {
   "cell_type": "markdown",
   "id": "63923105-fdf7-454e-83b9-f86aae5e1304",
   "metadata": {},
   "source": [
    "**ATTENTION!!**\n",
    "**Observe the `Negative control` samples!!!**<p>\n",
    "We see that in the `Negative` (blank) sample reads were amplified and assigned as *Rutaceae*, *Rosaceae*, *Juglandaceae*, and *Dioscoreaceae*, while in the `PCR Negative` we have reads amplified and assigned to *Juglandaceae*, *Fabaceae*, and *Apiaceae*.<p>\n",
    "There is no consensus about how to deal with **`Negative controls`** in metabarcoding projects,<p>\n",
    "I recommend the following reading: https://www.frontiersin.org/articles/10.3389/fevo.2020.609973/full<p>\n",
    "**I will show you one way to deal with it, which is removing the OTUs amplified in the `Negative controls` samples (which were not supposed to be amplified, so we are not sure about the origin, or if a `contamination` has spread throughout our PCR plate.**"
   ]
  },
  {
   "cell_type": "markdown",
   "id": "ad4b97d1-8e8a-46f5-9efe-b01312f999d8",
   "metadata": {},
   "source": [
    "**First, let's check the taxonomic composition of these negative samples in more detail:**<p>\n",
    "We first create a **subset** with only samples identified as *Negatives* will be selected:"
   ]
  },
  {
   "cell_type": "code",
   "execution_count": null,
   "id": "de6c2ef0-f766-4573-9d06-cda31519aa20",
   "metadata": {},
   "outputs": [],
   "source": [
    "#NEGATIVES CONTROLS\n",
    "data_neg <- subset_samples(data, Replicate == \"Negative\")\n",
    "data_neg <- prune_taxa(taxa_sums(data_neg) > 0, data_neg)"
   ]
  },
  {
   "cell_type": "code",
   "execution_count": null,
   "id": "0d6a0252-fb6e-4d10-93a0-7241b02e0616",
   "metadata": {},
   "outputs": [],
   "source": [
    "data_neg"
   ]
  },
  {
   "cell_type": "markdown",
   "id": "78b72a6e-5e96-45cf-85b2-e489105149a9",
   "metadata": {},
   "source": [
    "In the first `Negative` sample we have **34 taxa (OTUs)** identified.<p>\n",
    "Let's check the `PCR negative`sample:"
   ]
  },
  {
   "cell_type": "code",
   "execution_count": null,
   "id": "ec066553-3ade-4931-9038-ef7e95a7b3db",
   "metadata": {},
   "outputs": [],
   "source": [
    "data_negPCR <- subset_samples(data, Replicate == \"NegativePCR\")\n",
    "data_negPCR <- prune_taxa(taxa_sums(data_negPCR) > 0, data_negPCR)"
   ]
  },
  {
   "cell_type": "code",
   "execution_count": null,
   "id": "29b95e59-0013-4e44-a058-ecd0f1f53c2b",
   "metadata": {},
   "outputs": [],
   "source": [
    "data_negPCR"
   ]
  },
  {
   "cell_type": "markdown",
   "id": "430cc620-4399-496e-9120-e0723510eb36",
   "metadata": {},
   "source": [
    "We have **24 taxa (OTUs)** identified in the `PCR negative`sample.<p>\n",
    "**Let's check the composition of the `Negative control same`:**"
   ]
  },
  {
   "cell_type": "code",
   "execution_count": null,
   "id": "1cc43bea-669d-45fc-a22d-0b203c5b217c",
   "metadata": {},
   "outputs": [],
   "source": [
    "data_neg_fam <- data_neg %>%\n",
    "  tax_glom(taxrank = \"Family\") %>%                     \n",
    "  psmelt() %>%                                         \n",
    "  arrange(Family)"
   ]
  },
  {
   "cell_type": "code",
   "execution_count": null,
   "id": "c249e2b5-bd59-4933-865a-efa9dd6c337e",
   "metadata": {},
   "outputs": [],
   "source": [
    "options(repr.plot.width=5, repr.plot.height=8)\n",
    "ggplot(data_neg_fam, aes(x = reorder(SampleName, Abundance), y = Abundance, fill = Family)) + \n",
    "  geom_bar(stat = \"identity\") +\n",
    "  scale_fill_manual(values = custom_palette(15, brewer.pal(12, \"Paired\"))) +\n",
    "  theme(legend.text = element_text(size=12)) +\n",
    "  theme(axis.text.x = element_text(angle = 90, hjust = 1)) +\n",
    "  ggtitle(\"Family composition of the Negative control sample\")"
   ]
  },
  {
   "cell_type": "markdown",
   "id": "9bfc97fe-d767-471a-8e57-88a2438b80be",
   "metadata": {},
   "source": [
    "**Let's check the abundance distribution of the 34 OTUs from the data_neg subset (Negative control sample):**"
   ]
  },
  {
   "cell_type": "markdown",
   "id": "86622d76-d1ca-433c-bd63-4746cd167da8",
   "metadata": {},
   "source": [
    "**The following function selects the topN most abundant OTUs from a dataset:**"
   ]
  },
  {
   "cell_type": "code",
   "execution_count": null,
   "id": "c1e10a54-153f-4099-ae9b-94e6bfc12616",
   "metadata": {},
   "outputs": [],
   "source": [
    "get_top_OTUs <- function(n_otus, in_data) {\n",
    "    topN <- n_otus\n",
    "    most_abundant_taxa = sort(taxa_sums(in_data), TRUE)[1:topN]\n",
    "    top <- prune_taxa(names(most_abundant_taxa), in_data)\n",
    "    top_OTUs <- data.frame(taxa_sums(top))\n",
    "    colnames(top_OTUs) <- \"Sample_TotalSeqs\"\n",
    "    top_OTUs$sample <- row.names(top_OTUs)\n",
    "    top_OTUs <- arrange(top_OTUs, Sample_TotalSeqs)\n",
    "}"
   ]
  },
  {
   "cell_type": "markdown",
   "id": "af57bb3d-1e46-4943-8811-615dca7e7526",
   "metadata": {},
   "source": [
    "In this case we are going to select all the 34."
   ]
  },
  {
   "cell_type": "code",
   "execution_count": null,
   "id": "864dc276-b975-433d-a1fc-909569162f23",
   "metadata": {},
   "outputs": [],
   "source": [
    "top_OTUs_neg <- get_top_OTUs(34, data_neg)"
   ]
  },
  {
   "cell_type": "markdown",
   "id": "3b6abdb9-ef85-472a-a48e-36b96ccfa9db",
   "metadata": {},
   "source": [
    "**Let's plot the `Negative` control sample OTU distribution:**"
   ]
  },
  {
   "cell_type": "code",
   "execution_count": null,
   "id": "eef3f2b8-35e2-4894-9b04-95c98dc3cdd8",
   "metadata": {},
   "outputs": [],
   "source": [
    "options(repr.plot.width=12, repr.plot.height=8)\n",
    "ggplot(top_OTUs_neg,aes(x=reorder(sample, -Sample_TotalSeqs), y = Sample_TotalSeqs)) + \n",
    "  geom_bar(stat=\"identity\",colour=\"black\",fill=\"cornflowerblue\")  +\n",
    "  xlab(\"OTU Rank\") + ylab(\"34 OTUs from Negative sample\") +\n",
    "  scale_x_discrete(expand = c(0,0)) + \n",
    "  scale_y_continuous(expand = c(0,0)) + theme_classic() +\n",
    "  theme(axis.text.x = element_blank(),\n",
    "        axis.ticks.x = element_blank())"
   ]
  },
  {
   "cell_type": "markdown",
   "id": "68bf045a-18d6-4e61-9d66-8aff4903dce1",
   "metadata": {},
   "source": [
    "**We see that we have `three` highly abundant OTUs, let's check the OTU names in order to further investigate them:**"
   ]
  },
  {
   "cell_type": "markdown",
   "id": "f0b7411e-3b77-41bf-a899-74600364cabb",
   "metadata": {},
   "source": [
    "Let's select only the last three OTUs from `top_OTUs_neg` table, which are the most abundant:"
   ]
  },
  {
   "cell_type": "code",
   "execution_count": null,
   "id": "4d975020-3a75-4835-a157-b063ac54e604",
   "metadata": {},
   "outputs": [],
   "source": [
    "top_OTUs_neg[32:34,]"
   ]
  },
  {
   "cell_type": "markdown",
   "id": "92e4ae63-4af7-4883-9a88-7b490c55b993",
   "metadata": {},
   "source": [
    "**Now, let's explore `WHO` are these three highly abundant OTUs amplified in the `Negative control sample`:**<p>\n",
    "**265f74f49f9531de8808b253efa96dc7c320df27**<p>\n",
    "**94385ff6f775ede0a8b76f5e4f3a9a0de58a4eca**<p>\n",
    "**c65370ec20a9cdf9089e1983d7c5c3d4227a870**<p>\n",
    "**##########################################################################################################**<p>\n",
    "**THE DETAILED INVESTIGATION OF THE TOP OTUS IS FOUND IN THE SECOND NOTEBOOK `metapipe-run.ipynb`**<p>\n",
    "**PLEASE GO BACK TO THE END OF THE `metapipe-run.ipynb` Notebook!!!**\n",
    "**##########################################################################################################**<p>"
   ]
  },
  {
   "cell_type": "markdown",
   "id": "539a6e72-e4ac-47be-bac9-ee354dcbc3dc",
   "metadata": {},
   "source": [
    "**Now that we have investigated who are the Top3 OTUs from the `Negative` control samplem let's do the same with the `Negative PCR` control sample:**"
   ]
  },
  {
   "cell_type": "markdown",
   "id": "a55ce2c4-6b6d-498a-a92e-fb413551baa4",
   "metadata": {},
   "source": [
    "**Now let's check the composition of the `Negative PCR control`:**"
   ]
  },
  {
   "cell_type": "code",
   "execution_count": null,
   "id": "78c6b92d-83dc-4d27-9003-f811cd6b40b3",
   "metadata": {},
   "outputs": [],
   "source": [
    "data_negPCR_fam <- data_negPCR %>%\n",
    "  tax_glom(taxrank = \"Family\") %>%                     \n",
    "  psmelt() %>%                                         \n",
    "  arrange(Family)"
   ]
  },
  {
   "cell_type": "code",
   "execution_count": null,
   "id": "0dc675b8-3af1-43e7-a058-146930f85428",
   "metadata": {},
   "outputs": [],
   "source": [
    "options(repr.plot.width=5, repr.plot.height=8)\n",
    "ggplot(data_negPCR_fam, aes(x = reorder(SampleName, Abundance), y = Abundance, fill = Family)) + \n",
    "  geom_bar(stat = \"identity\") +\n",
    "  scale_fill_manual(values = custom_palette(15, brewer.pal(12, \"Paired\"))) +\n",
    "  theme(legend.text = element_text(size=12)) +\n",
    "  theme(axis.text.x = element_text(angle = 90, hjust = 1)) +\n",
    "  ggtitle(\"Family composition of the Negative PCR control sample\")"
   ]
  },
  {
   "cell_type": "code",
   "execution_count": null,
   "id": "b5044ce0-33c5-42ab-b0bd-7b2ca1d8c18f",
   "metadata": {},
   "outputs": [],
   "source": [
    "data_negPCR"
   ]
  },
  {
   "cell_type": "markdown",
   "id": "e41fe960-489c-4f99-98e0-b818eda0b197",
   "metadata": {},
   "source": [
    "**We already jnow that we have 24 OTUs in the `Negative PCR` control sample, so let's check the OTU abundance distribution:**"
   ]
  },
  {
   "cell_type": "code",
   "execution_count": null,
   "id": "dd7b3045-c4e0-4577-b35d-e547a10e7e6c",
   "metadata": {},
   "outputs": [],
   "source": [
    "top_OTUs_negPCR <- get_top_OTUs(24, data_negPCR)"
   ]
  },
  {
   "cell_type": "code",
   "execution_count": null,
   "id": "d4b8473b-41c0-4aba-a2b5-bc3e5112426a",
   "metadata": {},
   "outputs": [],
   "source": [
    "options(repr.plot.width=12, repr.plot.height=8)\n",
    "ggplot(top_OTUs_negPCR,aes(x=reorder(sample, -Sample_TotalSeqs), y = Sample_TotalSeqs)) + \n",
    "  geom_bar(stat=\"identity\",colour=\"black\",fill=\"cornflowerblue\")  +\n",
    "  xlab(\"OTU Rank\") + ylab(\"34 OTUs from Negative sample\") +\n",
    "  scale_x_discrete(expand = c(0,0)) + \n",
    "  scale_y_continuous(expand = c(0,0)) + theme_classic() +\n",
    "  theme(axis.text.x = element_blank(),\n",
    "        axis.ticks.x = element_blank())"
   ]
  },
  {
   "cell_type": "markdown",
   "id": "f5b89d3a-b3b0-45ca-884c-319ec7e8285a",
   "metadata": {},
   "source": [
    "**We see that we have `two` highly abundant OTUs, let's check the OTU names in order to further investigate them:**"
   ]
  },
  {
   "cell_type": "markdown",
   "id": "808d4fdc-3f66-44d1-8f01-00b5ea7e1d72",
   "metadata": {},
   "source": [
    "Let's select only the last three OTUs from `top_OTUs_negPCR` table, which are the most abundant:"
   ]
  },
  {
   "cell_type": "code",
   "execution_count": null,
   "id": "631b1e27-0237-499f-8e74-377f9e4e848c",
   "metadata": {},
   "outputs": [],
   "source": [
    "top_OTUs_negPCR[23:24,]"
   ]
  },
  {
   "cell_type": "markdown",
   "id": "c09a7c04-e310-4053-b331-d57c1641067e",
   "metadata": {},
   "source": [
    "**Let's check who are these 2 OTUs with a much higer abundance in the `Negative PCR` sample:**"
   ]
  },
  {
   "cell_type": "markdown",
   "id": "c179ce87-1934-4c38-bbe6-b7e525767834",
   "metadata": {},
   "source": [
    "**Now, let's explore `WHO` are these two highly abundant OTUs amplified in the `Negative PCR control sample`:**<p>\n",
    "**1ad23561fdff8989fd2e4e9a3735a4b8f5633fba**<p>\n",
    "**250a541b1d3823011d21097b0f3880d831e6b92d**<p>\n",
    "**##########################################################################################################**<p>\n",
    "**THE DETAILED INVESTIGATION OF THE TOP OTUS IS FOUND IN THE SECOND NOTEBOOK `metapipe-run.ipynb`**<p>\n",
    "**PLEASE GO BACK TO THE END OF THE `metapipe-run.ipynb` Notebook!!!**\n",
    "**##########################################################################################################**<p>"
   ]
  },
  {
   "cell_type": "markdown",
   "id": "ea482d54-6d1b-4c2b-872d-db684c3c6a78",
   "metadata": {},
   "source": [
    "**Finally, let's check the `Top OTUs from the whole dataset`, in order to see if some of the Negative OTUs are among them:**"
   ]
  },
  {
   "cell_type": "markdown",
   "id": "4bbb7c43-f799-4521-9eb9-12ecbeaceade",
   "metadata": {},
   "source": [
    "**Let's check the Top 100 OTUs from the whole dataset:**"
   ]
  },
  {
   "cell_type": "code",
   "execution_count": null,
   "id": "5244c5a2-b11e-4903-8e3a-2cd56f5df6a4",
   "metadata": {},
   "outputs": [],
   "source": [
    "top_100OTUs <- get_top_OTUs(100, data)"
   ]
  },
  {
   "cell_type": "code",
   "execution_count": null,
   "id": "ce819fa0-aec3-49a0-a228-2808453f7ad4",
   "metadata": {},
   "outputs": [],
   "source": [
    "options(repr.plot.width=12, repr.plot.height=8)\n",
    "ggplot(top_100OTUs,aes(x=reorder(sample, -Sample_TotalSeqs), y = Sample_TotalSeqs)) + \n",
    "  geom_bar(stat=\"identity\",colour=\"black\",fill=\"cornflowerblue\")  +\n",
    "  xlab(\"OTU Rank\") + ylab(\"34 OTUs from Negative sample\") +\n",
    "  scale_x_discrete(expand = c(0,0)) + \n",
    "  scale_y_continuous(expand = c(0,0)) + theme_classic() +\n",
    "  theme(axis.text.x = element_blank(),\n",
    "        axis.ticks.x = element_blank())"
   ]
  },
  {
   "cell_type": "code",
   "execution_count": null,
   "id": "d46a7567-2a17-41e2-96f4-960de7bb9b33",
   "metadata": {},
   "outputs": [],
   "source": [
    "top_100OTUs[95:100,]"
   ]
  },
  {
   "cell_type": "markdown",
   "id": "f6f62d96-b4b1-40ec-86ba-5a55f82c2895",
   "metadata": {},
   "source": [
    "**We see that we have `SIX` highly abundant OTUs in the whole dataset `(data)`, let's check the OTU names in order to further investigate them:**\n",
    "**ac90db76fbae68003ec939d36b9847a46cbfa3c7**<p>\n",
    "**2987db85c9fae5a1464f814e070b7507621e8a57**<p>\n",
    "**addff39eca064dd9caa294721e6a23cab9c331ab**<p>\n",
    "**a069993ab97b3f720cf66567bfb1fad838b20dc6**<p>\n",
    "**28bf85082548d49c8d3b2793064a2fae0f417562**<p>\n",
    "**967e951648145482fcc47f85b2a3530bec26d552**"
   ]
  },
  {
   "cell_type": "markdown",
   "id": "20bd04a0-edce-48b7-9965-e004d428ad6d",
   "metadata": {},
   "source": [
    "**Let's briefly check the proportion of reads encompassed by these 6 top abundance OTUs from the whole dataset:**"
   ]
  },
  {
   "cell_type": "code",
   "execution_count": null,
   "id": "8e21113c-afae-4447-b0db-f75727f4c076",
   "metadata": {},
   "outputs": [],
   "source": [
    "top_6_OTUs <- get_top_OTUs(6, data)"
   ]
  },
  {
   "cell_type": "code",
   "execution_count": null,
   "id": "a21a7531-8c7f-4985-85fc-519b0934cb0d",
   "metadata": {},
   "outputs": [],
   "source": [
    "sum(top_6_OTUs$Sample_TotalSeqs)"
   ]
  },
  {
   "cell_type": "code",
   "execution_count": null,
   "id": "20ce8b04-b57d-4f76-a588-b192238b934e",
   "metadata": {},
   "outputs": [],
   "source": [
    "sum(sample_sums(data))"
   ]
  },
  {
   "cell_type": "code",
   "execution_count": null,
   "id": "dbfe22bc-a2d4-417a-99e0-409a9dab7c3f",
   "metadata": {},
   "outputs": [],
   "source": [
    "(241645*100)/472695"
   ]
  },
  {
   "cell_type": "markdown",
   "id": "b1a1d5ed-dbb8-4316-bc97-8d3082ccafac",
   "metadata": {},
   "source": [
    "**Over 50% of total reads abundance from the whole dataset was clustered in the Top 6 OTUs.**<p>\n",
    "++++++++++++++++++++++++++++++++++++++++++++++++++++++++++++++++++++++++++++++++++++++++++++++++++<p>\n",
    "**This highlights the importance of running this initial exploration of your data, since a `highly abundant taxa`, which may have a strong `impact` on your data analysis, could be one of these `top highly abundant OTUs`, which should be always investigated `carefully` to ensure that you are not dealing with a `contamination`, or a `skewed amplification`, among other reasons.**\n",
    "++++++++++++++++++++++++++++++++++++++++++++++++++++++++++++++++++++++++++++++++++++++++++++++++++"
   ]
  },
  {
   "cell_type": "markdown",
   "id": "2a128144-ff44-4e8e-954d-5717bac38a62",
   "metadata": {},
   "source": [
    "**Now we are going to `remove the OTUs amplified in the negative controls`:**"
   ]
  },
  {
   "cell_type": "markdown",
   "id": "d9d15c56-0bcf-4af0-8307-d694864407f5",
   "metadata": {},
   "source": [
    "Do not forget that this is a personal choice, There's no consensus about the right way of dealing with OTUs amplified in the Negative controls, but I will show you one of the possible solutions:"
   ]
  },
  {
   "cell_type": "markdown",
   "id": "41f76e6f-fe1f-45d1-96e5-130f4833adac",
   "metadata": {},
   "source": [
    "**We will use the `top_OTUs` tables we've just created to run the removing function, but we need to convert tehm to lists first:**"
   ]
  },
  {
   "cell_type": "code",
   "execution_count": null,
   "id": "ac8a72d9-8583-4321-99d0-c7422f828fcd",
   "metadata": {},
   "outputs": [],
   "source": [
    "neg_OTU_list <- as.list(top_OTUs_neg[,2])"
   ]
  },
  {
   "cell_type": "code",
   "execution_count": null,
   "id": "7f382232-1b95-492a-9c79-18b398190561",
   "metadata": {},
   "outputs": [],
   "source": [
    "negPCR_OTU_list <- as.list(top_OTUs_negPCR[,2])"
   ]
  },
  {
   "cell_type": "markdown",
   "id": "86fa988c-745d-48a5-8184-bbb953c06563",
   "metadata": {},
   "source": [
    "**The following function automatically filters the taxa that are not in our negative samples:**<p>\n",
    "The **`list name`** is in the 3 and 4 lines, where you would edit with `neg_OTU_list` and `negPCR_OTU_list`files:"
   ]
  },
  {
   "cell_type": "code",
   "execution_count": null,
   "id": "ff24077d-d28b-4e1f-baeb-82fd624ae54b",
   "metadata": {},
   "outputs": [],
   "source": [
    "clean_data <- function(in_data) {\n",
    "    allTaxa = taxa_names(in_data)\n",
    "    allTaxa <- allTaxa[!(allTaxa %in% neg_OTU_list)]\n",
    "    allTaxa <- allTaxa[!(allTaxa %in% negPCR_OTU_list)]\n",
    "    data_clean <- prune_taxa(allTaxa, data)\n",
    "    data_clean <- prune_samples(names(which(sample_sums(data_clean) > 1)), data_clean)\n",
    "    return(data_clean)\n",
    "}    "
   ]
  },
  {
   "cell_type": "markdown",
   "id": "dd2d884a-3c06-4326-8e14-a5d38a581b73",
   "metadata": {},
   "source": [
    "**The following command actually calls the `clean_data` function and runs it in the whole dataset `data`:**"
   ]
  },
  {
   "cell_type": "code",
   "execution_count": null,
   "id": "d523266a-f08e-49ef-b82b-9691c4b759a6",
   "metadata": {},
   "outputs": [],
   "source": [
    "data_clean <- clean_data(data)"
   ]
  },
  {
   "cell_type": "markdown",
   "id": "bd80e187-c72c-4136-9f15-917ef29839ae",
   "metadata": {},
   "source": [
    "**Let's check the BEFORE and AFTER removing Negative OTUs:**"
   ]
  },
  {
   "cell_type": "code",
   "execution_count": null,
   "id": "9aae86d8-931b-4dbb-8906-486a2a22ceda",
   "metadata": {},
   "outputs": [],
   "source": [
    "data"
   ]
  },
  {
   "cell_type": "code",
   "execution_count": null,
   "id": "909b65bc-3f4b-432e-bda2-1bc3dad4717a",
   "metadata": {},
   "outputs": [],
   "source": [
    "data_clean "
   ]
  },
  {
   "cell_type": "markdown",
   "id": "1d7118ba-e9da-446b-905f-c4fc9c2340c5",
   "metadata": {},
   "source": [
    "**40 OTUs amplified in the negative controls were removed, and 110 taxa remained.**<p>\n",
    "**Let's check if the composition changed:**"
   ]
  },
  {
   "cell_type": "code",
   "execution_count": null,
   "id": "3d75e856-e095-4e4b-9120-95e5d7478917",
   "metadata": {},
   "outputs": [],
   "source": [
    "#BARPLOT RELATIVO\n",
    "data_clean_rel <- data_clean %>%\n",
    "  tax_glom(taxrank = \"Family\") %>%                     \n",
    "  transform_sample_counts(function(x) {x/sum(x)} ) %>% \n",
    "  psmelt() %>%                                         \n",
    "  filter(Abundance > 0.05) %>%                         \n",
    "  arrange(Replicate)"
   ]
  },
  {
   "cell_type": "code",
   "execution_count": null,
   "id": "ad23add1-5d8a-4e4a-b862-46c2a85719d5",
   "metadata": {},
   "outputs": [],
   "source": [
    "custom_palette <- function(n_items, palette) {\n",
    "    colourCount = n_items\n",
    "    getPalette  = colorRampPalette(palette)\n",
    "    return(getPalette(colourCount))\n",
    "}"
   ]
  },
  {
   "cell_type": "code",
   "execution_count": null,
   "id": "89cdeb76-fb1c-4fab-9cb6-7f0e22e28f95",
   "metadata": {},
   "outputs": [],
   "source": [
    "options(repr.plot.width=15, repr.plot.height=10)\n",
    "ggplot(data_clean_rel, aes(x = Replicate, y = Abundance, fill = Family)) + \n",
    "  geom_bar(position=\"fill\", stat=\"identity\") +\n",
    "  scale_fill_manual(values = custom_palette(30, brewer.pal(12, \"Paired\"))) +\n",
    "  theme(axis.text.x = element_text(colour = \"black\", size=13, angle=45, hjust = 1, vjust = 1)) +\n",
    "  theme(legend.text = element_text(size=12)) +\n",
    "  ylab(\"Relative Abundance Family >5% \\n\") +\n",
    "  ggtitle(\"NCBI Family composition by sample in the data_clean subset\")"
   ]
  },
  {
   "cell_type": "markdown",
   "id": "edf6df3e-9b98-4f4d-95c1-98ae2b4979ef",
   "metadata": {},
   "source": [
    "**Observe that the negative control samples were automatically removed.**"
   ]
  },
  {
   "cell_type": "markdown",
   "id": "9a4118ee-c682-4f3a-9554-e53544536e3d",
   "metadata": {},
   "source": [
    "**After removing the OTUs amplified in the `Negative` samples, we end up with 30 Families with abundance above 5%.**<p>\n",
    "But remember, in our **first composition barplot**, we had only **21 Families** with abundance above 5%."
   ]
  },
  {
   "cell_type": "markdown",
   "id": "f5f3ebd2-9839-43e7-be6e-eb3c9632dcf0",
   "metadata": {},
   "source": [
    "**Interestingly, removing the OTUs amplified in the negative controls increased the number of Families with reads abundance above 5%, from 21 to 30!**"
   ]
  },
  {
   "cell_type": "markdown",
   "id": "3dfb41f0-29df-4738-b39e-90fcd86e8d72",
   "metadata": {},
   "source": [
    "**There's lots of Phyloseq tutorials, as well other packages, that you can explore from here.**<p>\n",
    "**I'll show only one more plot, which shows the phylogenetic tree, with several arguments for displaying your data:**<p>\n",
    "run help(plot_tree) in Rstudio, as well all other functions you'd like to know better.\n"
   ]
  },
  {
   "cell_type": "code",
   "execution_count": null,
   "id": "b50dd987-f0dd-4353-a377-46a4209537aa",
   "metadata": {},
   "outputs": [],
   "source": [
    "options(repr.plot.width=25, repr.plot.height=20)\n",
    "plot_tree(data_clean, color=\"Replicate\", size=\"Abundance\", label.tips = \"Family\", text.size=6, ladderize = TRUE, plot.margin=0.1)"
   ]
  },
  {
   "cell_type": "markdown",
   "id": "bd6ba491-43c9-4d15-9f51-fa444eb181cc",
   "metadata": {},
   "source": [
    "**##########################################################################################################**<p>\n",
    "**THE FOLLOWING ANALYSIS WILL BE RUN WITH A COI DATASET, PART OF A DIET INVESTIGATION, FOCUSED ON ARTHROPODA PHYLUM.**<P>\n",
    "**The respective tables were cloned from the GitHub repository into your Notebook along with all the Workshop data.**<p>\n",
    "**##########################################################################################################**"
   ]
  },
  {
   "cell_type": "code",
   "execution_count": null,
   "id": "13343160-0682-489b-8133-797bbbd2774f",
   "metadata": {},
   "outputs": [],
   "source": [
    "otu_table2 <- read.table(\"COI_Diet_otu_table.txt\", header=TRUE, row.names=1)"
   ]
  },
  {
   "cell_type": "code",
   "execution_count": null,
   "id": "9ed34342-2275-4de2-b5db-f381f1542e4f",
   "metadata": {},
   "outputs": [],
   "source": [
    "otu_table2 <- as.matrix(otu_table2)"
   ]
  },
  {
   "cell_type": "code",
   "execution_count": null,
   "id": "1eff9178-afe0-4561-9d05-c9c1ec05e76b",
   "metadata": {},
   "outputs": [],
   "source": [
    "taxonomy2 <- read.table(\"COI_NCBI_tax_assignment.txt\", header=TRUE, row.names = 1)"
   ]
  },
  {
   "cell_type": "code",
   "execution_count": null,
   "id": "ed757d56-74c6-4b9f-8276-de652d03746a",
   "metadata": {},
   "outputs": [],
   "source": [
    "taxonomy2 <- as.matrix(taxonomy2)"
   ]
  },
  {
   "cell_type": "code",
   "execution_count": null,
   "id": "4d456e36-574b-47f8-bacd-60fa9329199a",
   "metadata": {},
   "outputs": [],
   "source": [
    "metadata2 <- read.table(\"metadata_COI_Diet.txt\", header=TRUE, row.names = 1)"
   ]
  },
  {
   "cell_type": "code",
   "execution_count": null,
   "id": "997513c1-2725-4692-a64e-cb6728bba055",
   "metadata": {},
   "outputs": [],
   "source": [
    "meta2 <- as.matrix(metadata2)"
   ]
  },
  {
   "cell_type": "code",
   "execution_count": null,
   "id": "438dea41-e033-4c58-a73a-aee3b9a848a0",
   "metadata": {},
   "outputs": [],
   "source": [
    "OTU2 <- otu_table(otu_table2, taxa_are_rows = TRUE)"
   ]
  },
  {
   "cell_type": "code",
   "execution_count": null,
   "id": "5bb807b0-f56f-4b62-bb3f-ef1d838f84f5",
   "metadata": {},
   "outputs": [],
   "source": [
    "TAX2 <- tax_table(taxonomy2)"
   ]
  },
  {
   "cell_type": "code",
   "execution_count": null,
   "id": "6e3ed3e8-0e82-446e-a38e-1670c8530512",
   "metadata": {},
   "outputs": [],
   "source": [
    "META2 <- sample_data(metadata2)"
   ]
  },
  {
   "cell_type": "code",
   "execution_count": null,
   "id": "07063c39-5624-45a7-94cd-c391c1349e9a",
   "metadata": {},
   "outputs": [],
   "source": [
    "merged2 <- phyloseq(OTU2, TAX2, META2)"
   ]
  },
  {
   "cell_type": "code",
   "execution_count": null,
   "id": "abdc4e04-c5b9-44cd-9dc8-e27f6639aa9f",
   "metadata": {},
   "outputs": [],
   "source": [
    "random_tree2 = rtree(ntaxa(merged2), rooted=TRUE, tip.label=taxa_names(merged2))"
   ]
  },
  {
   "cell_type": "code",
   "execution_count": null,
   "id": "d004eef1-0910-4f3e-882a-3871f8fe8887",
   "metadata": {},
   "outputs": [],
   "source": [
    "data2 <- phyloseq(OTU2, TAX2, META2, random_tree2)"
   ]
  },
  {
   "cell_type": "markdown",
   "id": "720b21e5-98dd-46cf-86b5-dd72fe58681f",
   "metadata": {},
   "source": [
    "**This dataset has samples with eDNA collected in two Brazilian biomes, Caatinga and Amazon.**<p>\n",
    "We are going to use only the `Amazon` data in the following analysis.<p>\n",
    "As already explained, the \"Amazon\" or \"Caatinga\" biome information is found in the **`metadata`** table:<p>"
   ]
  },
  {
   "cell_type": "code",
   "execution_count": null,
   "id": "367fc5d8-07b8-42e0-a336-bdcaece3f18d",
   "metadata": {},
   "outputs": [],
   "source": [
    "sample_variables(data)"
   ]
  },
  {
   "cell_type": "markdown",
   "id": "362c81fb-4895-4596-920f-79b2674e211a",
   "metadata": {},
   "source": [
    "**To subset the samples belonging to \"Amazon\" biome, we run the following command:**"
   ]
  },
  {
   "cell_type": "code",
   "execution_count": null,
   "id": "827c01da-2b27-48b0-a0af-27499fe8d2fd",
   "metadata": {},
   "outputs": [],
   "source": [
    "all_gb <- subset_samples(data2, biome == \"amazon\")\n",
    "all_gb <- prune_taxa(taxa_sums(all_gb) > 1, all_gb)"
   ]
  },
  {
   "cell_type": "markdown",
   "id": "118156b9-247a-4f59-889e-b4d211177722",
   "metadata": {},
   "source": [
    "**to subset the taxa belonging to Arthropoda phylum, the following command select the OTUs according to the \"phylum\" variable found in the \"taxonomy\" table:**"
   ]
  },
  {
   "cell_type": "code",
   "execution_count": null,
   "id": "6e081f4e-a228-4ed4-82bf-d62138c531f0",
   "metadata": {},
   "outputs": [],
   "source": [
    "art_gb <- subset_taxa(all_gb, phylum == \"Arthropoda\")\n",
    "art_gb <- prune_taxa(taxa_sums(art_gb) > 0, art_gb)"
   ]
  },
  {
   "cell_type": "code",
   "execution_count": null,
   "id": "41b21ecd-0f6e-4692-b458-00549ee9465a",
   "metadata": {},
   "outputs": [],
   "source": [
    "rank_names(data)"
   ]
  },
  {
   "cell_type": "markdown",
   "id": "a7f79e96-2766-40ed-b389-9bb21137ef75",
   "metadata": {},
   "source": [
    "Pay attention to Uppercase and Lowercase, in this taxonomy table they are all in lowercase."
   ]
  },
  {
   "cell_type": "code",
   "execution_count": null,
   "id": "107bb809-0251-4d8c-a63c-c71a6d30cc0f",
   "metadata": {},
   "outputs": [],
   "source": [
    "all_gb"
   ]
  },
  {
   "cell_type": "markdown",
   "id": "094c15dc-aa19-49b9-97d6-b3971176842d",
   "metadata": {},
   "source": [
    "Considering the `whole dataset`, we have 418 taxa (OTUs) in 23 samples.<p>\n",
    "Now let's check the `overal reads abundance`:"
   ]
  },
  {
   "cell_type": "code",
   "execution_count": null,
   "id": "4829f4da-78eb-4129-bc57-250d28bf8ad7",
   "metadata": {},
   "outputs": [],
   "source": [
    "sum(taxa_sums(all_gb))"
   ]
  },
  {
   "cell_type": "markdown",
   "id": "a37606e7-7bfe-418d-bff4-885f6c638596",
   "metadata": {},
   "source": [
    "Our total reads abundance amplified, which passed through demultiplexing step, read cleaning and trimming, taxonomic assignment, and then loaded in R to run the data analysis is 3056639 reads."
   ]
  },
  {
   "cell_type": "code",
   "execution_count": null,
   "id": "71c6aebf-6081-4613-94cf-7368d2ec91b8",
   "metadata": {},
   "outputs": [],
   "source": [
    "art_gb"
   ]
  },
  {
   "cell_type": "markdown",
   "id": "a2b6038c-01da-4b60-a89b-cea813c90cd6",
   "metadata": {},
   "source": [
    "**The `Arthropoda subset` has much less OTUs, showing 84 taxa in 23 samples.**"
   ]
  },
  {
   "cell_type": "markdown",
   "id": "af7df4a1-dc01-4658-98a8-677e14706b03",
   "metadata": {},
   "source": [
    "This dataset has `3 replicates` for each sample. The **`merge`** of the replicates helps to run some data exploration and visualization, to have a `broad picture of each sample`, but all the **statistics are run using the independent replicates samples**, because the reason for having replicates is exactly to improve the `statistic robusteness`."
   ]
  },
  {
   "cell_type": "markdown",
   "id": "282eaf4d-9cf6-42ca-958e-bcb5b179f8f0",
   "metadata": {},
   "source": [
    "**The following function automatically merge samples and define custom values for sample variables (since we are manipulating the dataset using the merge, we need to rewrite the sample variables):**"
   ]
  },
  {
   "cell_type": "code",
   "execution_count": null,
   "id": "a82edb8c-9b70-4efb-bdd0-8f4ed4968715",
   "metadata": {},
   "outputs": [],
   "source": [
    "merge_with_caves_and_regions <- function(in_data) {\n",
    "    \n",
    "    # cave and region information\n",
    "    caves   <- c(\"south1\", \"south2\", \"south3\", \"NE1\", \"NE2\", \"SE\", \"NW1\", \"NW2\")\n",
    "    regions <- c(\"South\", \"South\", \"South\", \"Northeast\", \"Northeast\", \"Southeast\", \"Northwest\", \"Northwest\")\n",
    "    \n",
    "    # merge\n",
    "    df <- merge_samples(x = in_data, group = \"Replicate\", fun = \"sum\")\n",
    "    df <- prune_taxa(taxa_sums(df) > 0, df)\n",
    "    \n",
    "    # add metadata\n",
    "    sample_data(df)$cave   <- caves\n",
    "    sample_data(df)$region <- regions\n",
    "    \n",
    "    # return\n",
    "    return(df)    \n",
    "}"
   ]
  },
  {
   "cell_type": "code",
   "execution_count": null,
   "id": "5e8d3cc6-84f9-4559-a3b4-319a861d33b0",
   "metadata": {},
   "outputs": [],
   "source": [
    "# merge all_gb\n",
    "gb_mg <- merge_with_caves_and_regions(all_gb)"
   ]
  },
  {
   "cell_type": "code",
   "execution_count": null,
   "id": "296d1dfd-e6e4-46f9-8f17-67d7c97b8f4f",
   "metadata": {},
   "outputs": [],
   "source": [
    "# merge art_gb\n",
    "art_gb_mg <- merge_with_caves_and_regions(art_gb)"
   ]
  },
  {
   "cell_type": "markdown",
   "id": "d2ca9d0d-0e12-4b25-af17-5426951671a6",
   "metadata": {},
   "source": [
    "**##############################################################################**<p>\n",
    "    **abundance distribution**<p>\n",
    "**##############################################################################**<p>"
   ]
  },
  {
   "cell_type": "markdown",
   "id": "d1fc663e-a177-474d-b313-480862045a96",
   "metadata": {},
   "source": [
    "**In this dataset we amplified a `COI region`, with primers targetting the `Arthropoda Phylum`. However, as you will see, those primers were much broader then Arthropoda.**<p>\n",
    "**This `larger taxonomic coverage` is common to happen when using COI, since COI is considered an universal marker.**<p>\n",
    "**Some times we choose a `COI region` adopted by `other studies`, which `succesfully` amplified mostly Arthropoda, but with `our eDNA` dataset, the taxonomic coverage can be much larger.**<p>\n",
    "**In the next two barplots I will show you the `whole dataset abundance distribution`, in contrast to the `Arthropoda` subset:**<p>\n",
    "**First, let's plot the overall reads abundance for each sample using the merged dataset:**"
   ]
  },
  {
   "cell_type": "code",
   "execution_count": null,
   "id": "f75799cb-532e-438f-896e-f5dcd5962917",
   "metadata": {},
   "outputs": [],
   "source": [
    "options(repr.plot.width=10, repr.plot.height=8)\n",
    "sums_all <- data.frame(sample_sums(otu_table(gb_mg)))\n",
    "colnames(sums_all) <- \"Sample_TotalSeqs\"\n",
    "ggplot(sums_all, aes(x = row.names(sums_all), y= Sample_TotalSeqs)) + \n",
    "  geom_bar(stat=\"identity\",colour=\"black\",fill=\"cornflowerblue\")  +\n",
    "  xlab(\"Read counts\") +\n",
    "  theme(axis.text.x = element_text(angle = 90, hjust = 1)) +\n",
    "  ggtitle(\"Whole dataset total abundance by sample\")"
   ]
  },
  {
   "cell_type": "markdown",
   "id": "3ad9de87-496b-49a8-af51-5d565d7f6cee",
   "metadata": {},
   "source": [
    "**Now, take a look in the reads abundance from the Arthropoda subset:**"
   ]
  },
  {
   "cell_type": "code",
   "execution_count": null,
   "id": "2979ea45-3540-43d4-8c76-9a705c0e1a2a",
   "metadata": {},
   "outputs": [],
   "source": [
    "sums_art <- data.frame(sample_sums(otu_table(art_gb_mg)))\n",
    "colnames(sums_art) <- \"Sample_TotalSeqs\"\n",
    "ggplot(sums_art, aes(x = row.names(sums_art), y= Sample_TotalSeqs)) + \n",
    "  geom_bar(stat=\"identity\",colour=\"black\",fill=\"indianred\")  +\n",
    "  xlab(\"Read counts\") +\n",
    "  theme(axis.text.x = element_text(angle = 90, hjust = 1)) +\n",
    "  ggtitle(\"Arthropoda subset abundance by sample\")"
   ]
  },
  {
   "cell_type": "markdown",
   "id": "0a699882-0052-4e3f-abdb-6b3ba2f2e70f",
   "metadata": {},
   "source": [
    "**Observe that we have a quite similar abundance distribution comparing the whole dataset and the Arthropoda subset, but the amount of reads is much lower in `Arthropoda subset` (y axis).**"
   ]
  },
  {
   "cell_type": "markdown",
   "id": "71a772a7-b5e5-4cd5-bf4f-69a1812754f0",
   "metadata": {},
   "source": [
    "**##############################################################################**<p>\n",
    "**Phyla composition**<p>\n",
    "**##############################################################################**"
   ]
  },
  {
   "cell_type": "markdown",
   "id": "e2d6c59c-cd42-4e87-ab91-453ecae04ba2",
   "metadata": {},
   "source": [
    "**Let's check the Phyla composition, in order to better understand what this pair of primers amplified:**"
   ]
  },
  {
   "cell_type": "markdown",
   "id": "b26caaf6-31dc-494a-98c0-ae6dbaf5f62c",
   "metadata": {},
   "source": [
    "Optionally we can remove `Unassigned` taxa, in order to better visualize the Phyla:"
   ]
  },
  {
   "cell_type": "code",
   "execution_count": null,
   "id": "63afa9f8-c962-4732-adab-2d01af41d68d",
   "metadata": {},
   "outputs": [],
   "source": [
    "gb_mg_cl <- subset_taxa(gb_mg, kingdom != \"Unassigned\")\n",
    "gb_mg_cl <- prune_taxa(taxa_sums(gb_mg_cl) > 0, gb_mg_cl)"
   ]
  },
  {
   "cell_type": "code",
   "execution_count": null,
   "id": "102538e4-5120-4025-adf1-24ce246f1a35",
   "metadata": {},
   "outputs": [],
   "source": [
    "gb_mg_phy <- gb_mg_cl %>%\n",
    "  tax_glom(taxrank = \"phylum\") %>%                     \n",
    "  transform_sample_counts(function(x) {x/sum(x)} ) %>% \n",
    "  psmelt() %>%                                         \n",
    "  filter(Abundance > 0.05) %>%                         \n",
    "  arrange(phylum)"
   ]
  },
  {
   "cell_type": "code",
   "execution_count": null,
   "id": "881f8bcc-add7-4fb7-b7cf-198e8b2edd01",
   "metadata": {},
   "outputs": [],
   "source": [
    "gb_mg_phy$cave = factor(gb_mg_phy$cave, levels = c(\"south1\", \"south2\", \"south3\", \"NE1\", \"NE2\", \"SE\", \"NW1\", \"NW2\"))"
   ]
  },
  {
   "cell_type": "code",
   "execution_count": null,
   "id": "efe78d62-80d1-490c-acb8-d22ed2588568",
   "metadata": {},
   "outputs": [],
   "source": [
    "ggplot(gb_mg_phy, aes(x = cave, y = Abundance, fill = phylum)) + \n",
    "  geom_bar(position=\"fill\", stat=\"identity\") +\n",
    "  scale_fill_manual(values = custom_palette(8, brewer.pal(12, \"Paired\"))) +\n",
    "  theme(axis.text.x = element_text(colour = \"black\", size=13, angle=45, hjust = 1, vjust = 1)) +\n",
    "  theme(legend.text = element_text(size=12)) +\n",
    "  ylab(\"Relative Abundance by Phylum >5% \\n\") +\n",
    "  ggtitle(\"Phylum NCBI\")"
   ]
  },
  {
   "cell_type": "markdown",
   "id": "b20adfce-a8e4-43d1-a114-9bf6c14354ed",
   "metadata": {},
   "source": [
    "**Now, as we'd like to check `proportions of each phylum`, let's use the following funtion:**"
   ]
  },
  {
   "cell_type": "code",
   "execution_count": null,
   "id": "fa22c3f0-c3c2-4596-bad7-7e62e704899a",
   "metadata": {},
   "outputs": [],
   "source": [
    "# must use subseted taxa because character cannot be used as filter inside function for subset_taxa function\n",
    "get_proportion <- function(complete_dataset, subseted_taxa) {\n",
    "    total_n        <- sum(sample_sums(complete_dataset))\n",
    "    desired_n      <- sum(sample_sums(subseted_taxa))\n",
    "    return(desired_n / total_n)\n",
    "}"
   ]
  },
  {
   "cell_type": "code",
   "execution_count": null,
   "id": "1324fc9e-b326-46dd-b182-645c803734c8",
   "metadata": {},
   "outputs": [],
   "source": [
    "# For arthropoda\n",
    "get_proportion(all_gb, subset_taxa(all_gb, phylum == \"Arthropoda\"))"
   ]
  },
  {
   "cell_type": "code",
   "execution_count": null,
   "id": "e8847973-3a6a-4f61-8359-b2a2cf7100c7",
   "metadata": {},
   "outputs": [],
   "source": [
    "# For nematoda\n",
    "get_proportion(all_gb, subset_taxa(all_gb, phylum == \"Nematoda\"))"
   ]
  },
  {
   "cell_type": "code",
   "execution_count": null,
   "id": "77b756aa-d2bb-495a-adf0-7f8ddb80da4e",
   "metadata": {},
   "outputs": [],
   "source": [
    "# For Chordata\n",
    "get_proportion(all_gb, subset_taxa(all_gb, phylum == \"Chordata\"))"
   ]
  },
  {
   "cell_type": "code",
   "execution_count": null,
   "id": "a55a92ed-758e-4f87-ba84-b959dafe2efc",
   "metadata": {},
   "outputs": [],
   "source": [
    "# For Ascomycota\n",
    "get_proportion(all_gb, subset_taxa(all_gb, phylum == \"Ascomycota\"))"
   ]
  },
  {
   "cell_type": "code",
   "execution_count": null,
   "id": "65b71689-3de7-4416-9124-b56833a3868f",
   "metadata": {},
   "outputs": [],
   "source": [
    "# For Unassigned\n",
    "get_proportion(all_gb, subset_taxa(all_gb, kingdom == \"Unassigned\"))"
   ]
  },
  {
   "cell_type": "markdown",
   "id": "a97d83c9-2d72-490f-aa85-e25e7de538be",
   "metadata": {},
   "source": [
    "**Observe that `Arthropoda` corresponds to only 24% of the whole dataset reads abundance, and almost 50% of the reads were grouped into OTUs without a taxonomic assignment according to NCBI.**"
   ]
  },
  {
   "cell_type": "markdown",
   "id": "7e4e688f-2fd9-44ee-9ae1-299bf9608dc9",
   "metadata": {},
   "source": [
    "**Let me show you another way to represent the overall taxonomic coverage of your dataset:**"
   ]
  },
  {
   "cell_type": "markdown",
   "id": "cdee6495-3804-437a-af31-e3f70f0dc8b0",
   "metadata": {},
   "source": [
    "**Pie chart** (main groups)<p>\n",
    "Get the `proportions` of your most abundant taxonomic groups using the above functions and replace in the following command:"
   ]
  },
  {
   "cell_type": "code",
   "execution_count": null,
   "id": "4540a545-ba0d-4ac3-9096-b686cea60f0f",
   "metadata": {},
   "outputs": [],
   "source": [
    "data <- data.frame(\n",
    "  group=c(\"Arthropoda\", \"Nematoda\", \"Chordata\", \"Ascomycota\",  \"Unassigned\"),\n",
    "  value=c(0.24,0.25,0.0042,0.00127, 0.495))\n",
    "data$group = factor(data$group, levels = c(\"Arthropoda\", \"Nematoda\", \"Chordata\", \"Ascomycota\", \"Unassigned\"))\n",
    "ggplot(data, aes(x=\"\", y=value, fill=group)) +\n",
    "  geom_bar(stat=\"identity\", width=1, color=\"white\") +\n",
    "  coord_polar(\"y\", start=0) +\n",
    "  theme_void() "
   ]
  },
  {
   "cell_type": "markdown",
   "id": "583d2bee-5da5-47b8-b8a9-5a2cbc4bb617",
   "metadata": {},
   "source": [
    "**The amount of `Unassigned` OTUs is directly related to the `database` used `(NCBI, BOLD, custom, combined...)` and with your eDNA sample, because some times you may be investigating a sample from an undersampled environment, with little-known organisms, for example.**"
   ]
  },
  {
   "cell_type": "markdown",
   "id": "a5b080e1-86e2-4365-931d-79a9d21f0232",
   "metadata": {},
   "source": [
    "**##############################################################################**<p>\n",
    "**Arthropoda Order composition**<p>\n",
    "**##############################################################################**"
   ]
  },
  {
   "cell_type": "markdown",
   "id": "588a33cd-98b9-4c84-a2b5-72271f9059a0",
   "metadata": {},
   "source": [
    "**Let's take a look in the Arthropoda orders composition, to get a glimpse of the investigation's targets.**"
   ]
  },
  {
   "cell_type": "code",
   "execution_count": null,
   "id": "45820581-1642-4670-a009-259adfc96f78",
   "metadata": {},
   "outputs": [],
   "source": [
    "art_gb_mg_ord <- art_gb_mg %>%\n",
    "  tax_glom(taxrank = \"order\") %>%                     \n",
    "  transform_sample_counts(function(x) {x/sum(x)} ) %>% \n",
    "  psmelt() %>%                                         \n",
    "  filter(Abundance > 0.01) %>%                         \n",
    "  arrange(order)"
   ]
  },
  {
   "cell_type": "code",
   "execution_count": null,
   "id": "e742efd4-b819-4797-8c42-5a69bac58a29",
   "metadata": {},
   "outputs": [],
   "source": [
    "art_gb_mg_ord$cave = factor(art_gb_mg_ord$cave, levels = c(\"south1\", \"south2\", \"south3\", \"NE1\", \"NE2\", \"SE\", \"NW1\", \"NW2\"))"
   ]
  },
  {
   "cell_type": "code",
   "execution_count": null,
   "id": "6e3084a5-9cf4-401e-949c-0d51c5c27e92",
   "metadata": {},
   "outputs": [],
   "source": [
    "ggplot(art_gb_mg_ord, aes(x = cave, y = Abundance, fill = order)) + \n",
    "  geom_bar(position=\"fill\", stat=\"identity\") +\n",
    "  scale_fill_manual(values = custom_palette(7, brewer.pal(8, \"Accent\"))) +\n",
    "  theme(axis.text.x = element_text(colour = \"black\", size=13, angle=45, hjust = 1, vjust = 1)) +\n",
    "  theme(legend.text = element_text(size=12)) +\n",
    "  ylab(\"Arthropoda Order Level Relative Abundance Order >5% \\n\") "
   ]
  },
  {
   "cell_type": "markdown",
   "id": "5b98cdb5-aa5c-4af9-8c3d-04531c9824a3",
   "metadata": {},
   "source": [
    "**We can clearly see that we have a huge `dominance` of Diptera reads.**<p>\n",
    "**This kind os situation could require some `extra investigation´, as the `Top OTUs` exploration shown above, for example, in order to find out if we do not have highly abundant `skewed OTUs`, which could be `overshadowing` other `low abundance taxa`.**"
   ]
  },
  {
   "cell_type": "markdown",
   "id": "b7a68fb3-e309-425a-a2fc-5fe3e96238d0",
   "metadata": {},
   "source": [
    "**################################################################################**<p>\n",
    "**I will show you just some examples of `alpha and beta-diversity analysis`, since there is lots of tutorials with different approaches, which you can choose according to your project's main goals.**<p>\n",
    "**Let's start with `alpha-diversity`:**<p>\n",
    "**################################################################################**"
   ]
  },
  {
   "cell_type": "markdown",
   "id": "5a45bc96-cdf1-469d-9403-c2eb6e59882e",
   "metadata": {},
   "source": [
    "**The following function plots several alpha-diversity metrics and allow the manipulation on which variables to use and graphically show:**<p>\n",
    "**Explore it typing**<p>\n",
    "`help(plot_richness)`<p>\n",
    "**In Rstudio to understand better all the possibilities.**"
   ]
  },
  {
   "cell_type": "code",
   "execution_count": null,
   "id": "9dce155e-2a09-4ffa-9e77-51cbe67cba20",
   "metadata": {},
   "outputs": [],
   "source": [
    "plot_richness(art_gb, x = \"regionA\", color = \"regionA\", measures=c(\"Observed\",\"Shannon\",\"Simpson\")) + geom_boxplot()"
   ]
  },
  {
   "cell_type": "markdown",
   "id": "1d1bb508-1452-4d14-9638-1a53d76ee3e2",
   "metadata": {},
   "source": [
    "Let's check if the differences observed in the alpha-diversity metrics are significantly related to the variable used in this example `(region South, North, and Southeast)`:"
   ]
  },
  {
   "cell_type": "markdown",
   "id": "94d88687-4b03-4bc5-b487-74b204314294",
   "metadata": {},
   "source": [
    "**1. get all metrics available in `estimate_richness` function.<p>**\n",
    "Remeber to type `help(estimate_richness)` in Rstudio."
   ]
  },
  {
   "cell_type": "code",
   "execution_count": null,
   "id": "687cb13d-e488-4fa4-abcd-2a06918ab353",
   "metadata": {},
   "outputs": [],
   "source": [
    "art_gb_alfa <- estimate_richness(art_gb)\n",
    "art_gb_alfa[1:3,]"
   ]
  },
  {
   "cell_type": "markdown",
   "id": "17489e51-ad86-4f23-9c6c-607e26262354",
   "metadata": {},
   "source": [
    "Now let's check the metrics `normality` using `shapiro.test`:"
   ]
  },
  {
   "cell_type": "code",
   "execution_count": null,
   "id": "ec0329e7-8b31-434a-989e-ea91b33ebd3b",
   "metadata": {},
   "outputs": [],
   "source": [
    "art_gb_alfa_test <- t(sapply(art_gb_alfa, function(x) unlist(shapiro.test(x))))\n",
    "art_gb_alfa_test"
   ]
  },
  {
   "cell_type": "markdown",
   "id": "25bd52a6-0938-484a-8be9-547237b8959f",
   "metadata": {},
   "source": [
    "**We see that `Shannon` should not be used, since it showed a highly significative `shapiro.test` p-value.**"
   ]
  },
  {
   "cell_type": "code",
   "execution_count": null,
   "id": "e43cd3b3-1151-4c34-915a-86e5ada9e0e4",
   "metadata": {},
   "outputs": [],
   "source": [
    "alfa <- subset(art_gb_alfa, select=c(1,2,7,8))\n",
    "alfa[1:5,]"
   ]
  },
  {
   "cell_type": "markdown",
   "id": "e08a2e95-bcfd-4df7-84e8-97dbb17c0c44",
   "metadata": {},
   "source": [
    "**Now let's get a fisrt evaluation of each of our selected alpha-diversity metrics using anova:**"
   ]
  },
  {
   "cell_type": "code",
   "execution_count": null,
   "id": "697967f9-0333-4556-88f4-d6a95fcce1d4",
   "metadata": {},
   "outputs": [],
   "source": [
    "test_Observed <- aov(alfa$Observed ~ sample_data(art_gb)$regionA, alfa)\n",
    "anova(test_Observed) "
   ]
  },
  {
   "cell_type": "code",
   "execution_count": null,
   "id": "caef9976-6467-4685-8c93-7822577f9182",
   "metadata": {},
   "outputs": [],
   "source": [
    "test_Chao1 <- aov(alfa$Chao1 ~ sample_data(art_gb)$regionA, alfa)\n",
    "anova(test_Chao1) "
   ]
  },
  {
   "cell_type": "code",
   "execution_count": null,
   "id": "e33e9cf5-7a12-4996-96e1-757be56e5e3f",
   "metadata": {},
   "outputs": [],
   "source": [
    "test_Simpson <- aov(alfa$Simpson ~ sample_data(art_gb)$regionA, alfa)\n",
    "anova(test_Simpson) "
   ]
  },
  {
   "cell_type": "code",
   "execution_count": null,
   "id": "aa894b73-13d1-4587-83a9-d27807d64c00",
   "metadata": {},
   "outputs": [],
   "source": [
    "test_InvSimpson <- aov(alfa$InvSimpson ~ sample_data(art_gb)$regionA, alfa)\n",
    "anova(test_InvSimpson) "
   ]
  },
  {
   "cell_type": "markdown",
   "id": "05d74519-752c-4732-bb69-11aebfe17a51",
   "metadata": {},
   "source": [
    "**For this data, `permutational` and other `non-parametric` methods will be required.**"
   ]
  },
  {
   "cell_type": "markdown",
   "id": "28e5514f-419e-4387-9058-6793f8815282",
   "metadata": {},
   "source": [
    "**#############################################################################**<p>\n",
    "**Let's take a look at `evenness` metric, which can show us an ectual `environmental heterogeneity` or may be pointing to a `skewed composition and abundance distribution`:**<p>\n",
    "**#############################################################################**"
   ]
  },
  {
   "cell_type": "code",
   "execution_count": null,
   "id": "4c31057f-e6b4-4106-ab37-741ad292f382",
   "metadata": {},
   "outputs": [],
   "source": [
    "shapiro.test(sample_sums(t(art_gb_mg)))"
   ]
  },
  {
   "cell_type": "markdown",
   "id": "0f0e8bc0-9186-4f5b-8757-cca74f81e24f",
   "metadata": {},
   "source": [
    "We run a `shapiro.test` on the data to ensure that we will have a fair evenness representation."
   ]
  },
  {
   "cell_type": "markdown",
   "id": "5801caea-72d2-40f8-b988-ac1f639de823",
   "metadata": {},
   "source": [
    "Now we run the following commands from `Vegan`  package. Take a look on it later!"
   ]
  },
  {
   "cell_type": "code",
   "execution_count": null,
   "id": "85c5eeb4-a8ea-46f1-ae0b-68b3e5fa8614",
   "metadata": {},
   "outputs": [],
   "source": [
    "H <- diversity(t(otu_table(t(art_gb_mg))))\n",
    "S <- specnumber(t(otu_table(t(art_gb_mg))))\n",
    "J <- H/log(S)\n",
    "J"
   ]
  },
  {
   "cell_type": "code",
   "execution_count": null,
   "id": "0fc8b0cb-47d6-4122-8c57-44b295ac15bc",
   "metadata": {},
   "outputs": [],
   "source": [
    "mean(J)"
   ]
  },
  {
   "cell_type": "markdown",
   "id": "71c4ed51-81c1-4745-8edd-b77933ae0c32",
   "metadata": {},
   "source": [
    "**This low evenness indicates a highly heterogeneous composition that should be further investigates (i.e. using the Top OTUs abundance distribution).**"
   ]
  },
  {
   "cell_type": "markdown",
   "id": "149afac2-cac1-4843-8688-c71c4a2b1eb9",
   "metadata": {},
   "source": [
    "With the following barplot I am showing to you how to create a dataset by hand and plot it. It is usefull when you see something interesting, but there is not a function or a good example about it in the Internet's tutorials."
   ]
  },
  {
   "cell_type": "code",
   "execution_count": null,
   "id": "0ce44010-ced9-4dac-88cc-ef663e6a1030",
   "metadata": {},
   "outputs": [],
   "source": []
  },
  {
   "cell_type": "code",
   "execution_count": null,
   "id": "cf62664b-6339-4e48-aac7-2e7741ad6bc8",
   "metadata": {},
   "outputs": [],
   "source": [
    "data_ev <- read.table(text = \"cave  even  region\n",
    "NE1  0.204  northeast\n",
    "NE2  0.123  northeast\n",
    "NW1  0.279  northwest\n",
    "NW2  0.189  northwest\n",
    "SE  0.160  southeast\n",
    "south1  0.219  south\n",
    "south2  0.306  south\n",
    "south3  0.767  south\", header = TRUE)"
   ]
  },
  {
   "cell_type": "code",
   "execution_count": null,
   "id": "952dfe7b-3ec7-4da8-a143-130d2b57fa40",
   "metadata": {},
   "outputs": [],
   "source": [
    "data_ev"
   ]
  },
  {
   "cell_type": "markdown",
   "id": "830c703e-8ace-4237-b81f-33ba3df9d1b2",
   "metadata": {},
   "source": [
    "**Let's plot this very simple (and useful) barplot:**"
   ]
  },
  {
   "cell_type": "code",
   "execution_count": null,
   "id": "64495d11-64e7-4a3b-b50d-444917fb467b",
   "metadata": {},
   "outputs": [],
   "source": [
    "# Barplot\n",
    "ggplot(data_ev, aes(x=cave, y=even)) + \n",
    "  geom_bar(stat = \"identity\")"
   ]
  },
  {
   "cell_type": "markdown",
   "id": "6f0b1969-d635-4b00-ab69-a793262bd825",
   "metadata": {},
   "source": [
    "**We see that only the sample `South3` has a pretty good evenness."
   ]
  },
  {
   "cell_type": "markdown",
   "id": "050c38a0-a2ef-4ac2-891a-bfdcee42f213",
   "metadata": {},
   "source": [
    "**The following commands are planned to further explore deeper taxa ranks, as families.**"
   ]
  },
  {
   "cell_type": "markdown",
   "id": "9f7d76c7-5d2c-4d5c-8e08-23710cf0d7d9",
   "metadata": {},
   "source": [
    "**First, let's check the proportions of the Arthropoda orders observed in the composition barplot already run.**"
   ]
  },
  {
   "cell_type": "code",
   "execution_count": null,
   "id": "bc7dada4-985a-470f-9712-01c301e26299",
   "metadata": {},
   "outputs": [],
   "source": [
    "get_proportion(art_gb, subset_taxa(art_gb, order == \"Araneae\"))"
   ]
  },
  {
   "cell_type": "code",
   "execution_count": null,
   "id": "b6efe139-875f-4361-8d42-78d3512da76e",
   "metadata": {},
   "outputs": [],
   "source": [
    "get_proportion(art_gb, subset_taxa(art_gb, order == \"Blattodea\"))"
   ]
  },
  {
   "cell_type": "code",
   "execution_count": null,
   "id": "a78b5cc5-fdee-46e1-8bdb-629095dd1abc",
   "metadata": {},
   "outputs": [],
   "source": [
    "get_proportion(art_gb, subset_taxa(art_gb, order == \"Coleoptera\"))"
   ]
  },
  {
   "cell_type": "code",
   "execution_count": null,
   "id": "d81cb5aa-e7d3-4e74-89a3-a8d26daf1edb",
   "metadata": {},
   "outputs": [],
   "source": [
    "get_proportion(art_gb, subset_taxa(art_gb, order == \"Diptera\"))"
   ]
  },
  {
   "cell_type": "code",
   "execution_count": null,
   "id": "62eb6c2e-15d6-4dca-b8d4-ec13b1309b4c",
   "metadata": {},
   "outputs": [],
   "source": [
    "get_proportion(art_gb, subset_taxa(art_gb, order == \"Lepidoptera\"))"
   ]
  },
  {
   "cell_type": "markdown",
   "id": "39bbfe74-5294-44ae-8a28-b7284e8ecb63",
   "metadata": {},
   "source": [
    "**We see that we have over 69% of the reads abundance belonging to Diptera, and over 22% to Lepidoptera. Let's explore the Diptera and Lepidoptera families:**"
   ]
  },
  {
   "cell_type": "markdown",
   "id": "49f5036f-6c78-43c5-9d39-7c33146e50d9",
   "metadata": {},
   "source": [
    "**#########################################################################**<p>\n",
    "**subset Diptera, get most abundant families**<p>\n",
    "**#########################################################################**"
   ]
  },
  {
   "cell_type": "code",
   "execution_count": null,
   "id": "366afd89-bc1a-4e3e-a637-ecaae499175a",
   "metadata": {},
   "outputs": [],
   "source": [
    "gb_dip <- subset_taxa(art_gb, order == \"Diptera\")\n",
    "gb_dip <- prune_taxa(taxa_sums(gb_dip) > 0, gb_dip)"
   ]
  },
  {
   "cell_type": "code",
   "execution_count": null,
   "id": "8351f37d-f311-4097-9982-1ff93e5946d4",
   "metadata": {},
   "outputs": [],
   "source": [
    "gb_dip_fam <- gb_dip %>%\n",
    "  tax_glom(taxrank = \"family\") %>%                     \n",
    "  transform_sample_counts(function(x) {x/sum(x)} ) %>% \n",
    "  psmelt() %>%                                         \n",
    "  filter(Abundance > 0.1) %>%                         \n",
    "  arrange(Abundance)"
   ]
  },
  {
   "cell_type": "code",
   "execution_count": null,
   "id": "aab5b29e-95f3-481d-935b-ed20d2953c34",
   "metadata": {},
   "outputs": [],
   "source": [
    "ggplot(gb_dip_fam, aes(x = cave, y = Abundance, fill = family)) + \n",
    "  geom_bar(position=\"fill\", stat=\"identity\") +\n",
    "  scale_fill_manual(values = custom_palette(10, brewer.pal(12, \"Paired\"))) +\n",
    "  theme(axis.text.x = element_text(colour = \"black\", size=13, angle=45, hjust = 1, vjust = 1)) +\n",
    "  theme(legend.text = element_text(size=12)) +\n",
    "  ylab(\"Relative Abundance Diptera Families >1% \\n\") "
   ]
  },
  {
   "cell_type": "markdown",
   "id": "669faf4b-2812-4cc6-87e7-12557fa07632",
   "metadata": {},
   "source": [
    "**Let's get the proportions of Diptera Top Families:**"
   ]
  },
  {
   "cell_type": "code",
   "execution_count": null,
   "id": "4e4042ab-233a-4348-a1f5-2d5b777cae09",
   "metadata": {},
   "outputs": [],
   "source": [
    "sum(sample_sums(art_gb))"
   ]
  },
  {
   "cell_type": "code",
   "execution_count": null,
   "id": "17be3732-30a6-4ace-b0d2-62f1da681c09",
   "metadata": {},
   "outputs": [],
   "source": [
    "get_proportion(art_gb, subset_taxa(art_gb, order == \"Diptera\"))"
   ]
  },
  {
   "cell_type": "code",
   "execution_count": null,
   "id": "292dadf9-5fbd-4511-a796-d84996ce18e8",
   "metadata": {},
   "outputs": [],
   "source": [
    "get_proportion(subset_taxa(art_gb, order == \"Diptera\"), subset_taxa(art_gb, family == \"Milichiidae\"))"
   ]
  },
  {
   "cell_type": "code",
   "execution_count": null,
   "id": "9642f132-6ad5-45f4-86c5-24c2705234f9",
   "metadata": {},
   "outputs": [],
   "source": [
    "get_proportion(subset_taxa(art_gb, order == \"Diptera\"), subset_taxa(art_gb, family == \"Cecidomyiidae\"))"
   ]
  },
  {
   "cell_type": "code",
   "execution_count": null,
   "id": "bc7533c0-b160-401d-8df2-a0f596c50b4b",
   "metadata": {},
   "outputs": [],
   "source": [
    "get_proportion(subset_taxa(art_gb, order == \"Diptera\"), subset_taxa(art_gb, family == \"Tipulidae\"))"
   ]
  },
  {
   "cell_type": "markdown",
   "id": "c6abd40c-4bb2-49f9-8461-4595e9ccc1a0",
   "metadata": {},
   "source": [
    "**We have `Milichiidae` family with over 62% of total Arthropoda reads, followed by `Cecidomyiidae` with 15% and `Tipulidae` with 11%.**"
   ]
  },
  {
   "cell_type": "markdown",
   "id": "1ba0fe59-f8c4-4a4a-8225-01f34bc7a7a6",
   "metadata": {},
   "source": [
    "**Let's get the proportion for all other families, in order to plot it later:**"
   ]
  },
  {
   "cell_type": "code",
   "execution_count": null,
   "id": "cc34f067-8fa3-465b-bce0-6668817207e3",
   "metadata": {},
   "outputs": [],
   "source": [
    "sum(sample_sums(subset_taxa(art_gb, family == \"Milichiidae\"))) +\n",
    "sum(sample_sums(subset_taxa(art_gb, family == \"Cecidomyiidae\"))) +\n",
    "sum(sample_sums(subset_taxa(art_gb, family == \"Tipulidae\")))"
   ]
  },
  {
   "cell_type": "code",
   "execution_count": null,
   "id": "d82fded8-8f4d-4fc0-9ae6-ec6515dfa5d9",
   "metadata": {},
   "outputs": [],
   "source": [
    "others <- \n",
    "sum(sample_sums(subset_taxa(art_gb, order == \"Diptera\"))) -\n",
    "(\n",
    "    sum(sample_sums(subset_taxa(art_gb, family == \"Milichiidae\"))) +\n",
    "    sum(sample_sums(subset_taxa(art_gb, family == \"Cecidomyiidae\"))) +\n",
    "    sum(sample_sums(subset_taxa(art_gb, family == \"Tipulidae\")))\n",
    ")\n",
    "others"
   ]
  },
  {
   "cell_type": "code",
   "execution_count": null,
   "id": "9cd623ee-89b2-4601-895d-b70b02e7108d",
   "metadata": {},
   "outputs": [],
   "source": [
    "others / sum(sample_sums(subset_taxa(art_gb, order == \"Diptera\")))"
   ]
  },
  {
   "cell_type": "markdown",
   "id": "8c34b649-29dc-4e59-bfad-96cad7bbff17",
   "metadata": {},
   "source": [
    "**The `others` Diptera families represent 12% of the Diptera abundance.**"
   ]
  },
  {
   "cell_type": "markdown",
   "id": "0d9f8fed-9588-4a41-87d6-99008d9e34df",
   "metadata": {},
   "source": [
    "**Let's do the same for `Lepidoptera`:**"
   ]
  },
  {
   "cell_type": "code",
   "execution_count": null,
   "id": "09ccfc97-be2a-4158-bcba-9f47485a9bf9",
   "metadata": {},
   "outputs": [],
   "source": [
    "gb_lepi <- subset_taxa(art_gb, order == \"Lepidoptera\")\n",
    "gb_lepi <- prune_taxa(taxa_sums(gb_lepi) > 0, gb_lepi)"
   ]
  },
  {
   "cell_type": "code",
   "execution_count": null,
   "id": "706a65aa-3e0b-4cad-98e5-20719956a588",
   "metadata": {},
   "outputs": [],
   "source": [
    "gb_lepi_fam <- gb_lepi %>%\n",
    "  tax_glom(taxrank = \"family\") %>%                     \n",
    "  transform_sample_counts(function(x) {x/sum(x)} ) %>% \n",
    "  psmelt() %>%                                         \n",
    "  filter(Abundance > 0.1) %>%                         \n",
    "  arrange(Abundance)"
   ]
  },
  {
   "cell_type": "code",
   "execution_count": null,
   "id": "18afe257-aabf-4a40-a086-0600bac08c88",
   "metadata": {},
   "outputs": [],
   "source": [
    "ggplot(gb_lepi_fam, aes(x = cave, y = Abundance, fill = family)) + \n",
    "  geom_bar(position=\"fill\", stat=\"identity\") +\n",
    "  scale_fill_manual(values = custom_palette(9, brewer.pal(8, \"Accent\"))) +\n",
    "  theme(axis.text.x = element_text(colour = \"black\", size=13, angle=45, hjust = 1, vjust = 1)) +\n",
    "  theme(legend.text = element_text(size=12)) +\n",
    "  ylab(\"Relative Abundance Lepidoptera Families >1% \\n\") "
   ]
  },
  {
   "cell_type": "code",
   "execution_count": null,
   "id": "b68ba0fc-cdae-49c4-ba9e-f9c509c7d6a3",
   "metadata": {},
   "outputs": [],
   "source": [
    "get_proportion(art_gb, subset_taxa(art_gb, order == \"Lepidoptera\"))"
   ]
  },
  {
   "cell_type": "code",
   "execution_count": null,
   "id": "b9613dc7-c64b-4f1a-b545-6697c1ba3415",
   "metadata": {},
   "outputs": [],
   "source": [
    "get_proportion(subset_taxa(art_gb, order == \"Lepidoptera\"), subset_taxa(art_gb, family == \"Nymphalidae\"))"
   ]
  },
  {
   "cell_type": "code",
   "execution_count": null,
   "id": "16abb209-77e3-46f3-8c7a-15bb1527f722",
   "metadata": {},
   "outputs": [],
   "source": [
    "get_proportion(subset_taxa(art_gb, order == \"Lepidoptera\"), subset_taxa(art_gb, family == \"Papilionidae\"))"
   ]
  },
  {
   "cell_type": "code",
   "execution_count": null,
   "id": "4ebdab2f-d875-4c5a-b0d8-ba12157f4a64",
   "metadata": {},
   "outputs": [],
   "source": [
    "get_proportion(subset_taxa(art_gb, order == \"Lepidoptera\"), subset_taxa(art_gb, family == \"Pyralidae\"))"
   ]
  },
  {
   "cell_type": "code",
   "execution_count": null,
   "id": "813d821b-9b12-4a8d-8010-ba40409a4f74",
   "metadata": {},
   "outputs": [],
   "source": [
    "sum(sample_sums(subset_taxa(art_gb, family == \"Nymphalidae\"))) +\n",
    "sum(sample_sums(subset_taxa(art_gb, family == \"Papilionidae\"))) +\n",
    "sum(sample_sums(subset_taxa(art_gb, family == \"Pyralidae\")))"
   ]
  },
  {
   "cell_type": "code",
   "execution_count": null,
   "id": "f0adc0b1-b54a-47ec-95e6-25c8b3f62d03",
   "metadata": {},
   "outputs": [],
   "source": [
    "others <- \n",
    "sum(sample_sums(subset_taxa(art_gb, order == \"Lepidoptera\"))) -\n",
    "(\n",
    "    sum(sample_sums(subset_taxa(art_gb, family == \"Nymphalidae\"))) +\n",
    "    sum(sample_sums(subset_taxa(art_gb, family == \"Papilionidae\"))) +\n",
    "    sum(sample_sums(subset_taxa(art_gb, family == \"Pyralidae\")))\n",
    ")\n",
    "others"
   ]
  },
  {
   "cell_type": "code",
   "execution_count": null,
   "id": "008e1473-f4a1-4c3d-ae20-fe6899a03302",
   "metadata": {},
   "outputs": [],
   "source": [
    "others / sum(sample_sums(subset_taxa(art_gb, order == \"Lepidoptera\")))"
   ]
  },
  {
   "cell_type": "markdown",
   "id": "90442a07-a89a-45d9-bc3a-450593d9c1c1",
   "metadata": {},
   "source": [
    "**The `other` Lepidoptera families represent 15% of the Lepidoptera abundance.**"
   ]
  },
  {
   "cell_type": "markdown",
   "id": "7a1f0a30-914d-40b7-9cc1-a11187895a16",
   "metadata": {},
   "source": [
    "**Now we are going to plot a `treemap`, which is a very intuitive and nice plot to illustrate the composition hierarchy.**"
   ]
  },
  {
   "cell_type": "markdown",
   "id": "a8f290d8-7918-4b58-b969-481233138bf3",
   "metadata": {},
   "source": [
    "Load the `treemap` package"
   ]
  },
  {
   "cell_type": "code",
   "execution_count": null,
   "id": "d4b1340d-af7d-4e3d-b022-7db8ba51b1cf",
   "metadata": {},
   "outputs": [],
   "source": [
    "library(treemapify) "
   ]
  },
  {
   "cell_type": "markdown",
   "id": "326e0c7c-2848-4cf6-bd69-ffd4d568b3d3",
   "metadata": {},
   "source": [
    "**Create your own table with the proportions we got in the last `get_proportion` commands:**"
   ]
  },
  {
   "cell_type": "code",
   "execution_count": null,
   "id": "6813e03d-f7d9-4007-9ca1-04390ab39d17",
   "metadata": {},
   "outputs": [],
   "source": [
    "data_tree <- read.table(text = \"order\tcount1\tfamily\tcount2\n",
    "Diptera\t0.69\tMilichiidae\t0.62\n",
    "Diptera\t0.69\tCecidomyiidae\t0.15\n",
    "Diptera\t0.69\tTipulidae\t0.11\n",
    "Diptera\t0.69\tOthers\t0.12\n",
    "Lepidoptera\t0.23\tNymphalidae\t0.64\n",
    "Lepidoptera\t0.23\tPapilionidae\t0.20\n",
    "Lepidoptera\t0.23\tPyralidae\t0.013\n",
    "Lepidoptera\t0.23\tOthers\t0.15\n",
    "Other_Arthr\t0.08\tOthers\t1\", header = TRUE)\n",
    "data_tree"
   ]
  },
  {
   "cell_type": "markdown",
   "id": "3994ce7a-b55f-47c2-9bd7-9ad05e9f025c",
   "metadata": {},
   "source": [
    "**Now let's plot an example `treemap`:**"
   ]
  },
  {
   "cell_type": "code",
   "execution_count": null,
   "id": "cb7dba18-4016-4bd8-9250-822dcae98ecf",
   "metadata": {},
   "outputs": [],
   "source": [
    "ggplot(data_tree, aes(area=count1, fill=order, subgroup=family))+ \n",
    "  geom_treemap()+\n",
    "  geom_treemap(aes(alpha = count1))+\n",
    "  geom_treemap_subgroup_border(color=\"white\", size=0.7)+\n",
    "  geom_treemap_subgroup_text(color=\"white\", alpha = 0.8)+\n",
    "  scale_fill_manual(values = c(\"indianred\", \"royalblue4\", \"lightblue\")) +\n",
    "  scale_alpha_continuous(range = c(0.2, 1))"
   ]
  },
  {
   "cell_type": "markdown",
   "id": "fb0ae81e-f7a6-40f6-a095-038a62961b51",
   "metadata": {},
   "source": [
    "**Now I'll show you an example of a pretty intersting heatmap.**<p>\n",
    "Check the **`help(plot_heatmap)`** in Rstudio in order to understand everything this function is able to do."
   ]
  },
  {
   "cell_type": "code",
   "execution_count": null,
   "id": "faa45eb2-007a-47bd-81f5-bf32b155a7c6",
   "metadata": {},
   "outputs": [],
   "source": [
    "top_heat <- prune_taxa(names(sort(taxa_sums(art_gb_mg),TRUE)[1:100]), art_gb_mg)\n",
    "plot_heatmap(top_heat, \"PCoA\", \"jaccard\", \"cave\", \"order\", max.label = 100, binary = TRUE)"
   ]
  },
  {
   "cell_type": "markdown",
   "id": "b5269ee4-484a-42d2-90e0-52c6b106409b",
   "metadata": {},
   "source": [
    "**#########################################################################**<p>\n",
    "**Let's take a look in some basic Beta diversity analysis:**<p>\n",
    "**#########################################################################**"
   ]
  },
  {
   "cell_type": "markdown",
   "id": "fd5eadd1-1533-4129-9eaf-637e91e651fe",
   "metadata": {},
   "source": [
    "First we need to `transpose` our Arthropoda OTU table, because the following commands are from `Vegan`  package, not Phyloseq's."
   ]
  },
  {
   "cell_type": "code",
   "execution_count": null,
   "id": "40f63275-97f5-4f9f-984f-624f10591e2a",
   "metadata": {},
   "outputs": [],
   "source": [
    "art_data <- data.frame(t(otu_table(art_gb)))"
   ]
  },
  {
   "cell_type": "markdown",
   "id": "fccd4ede-ebb2-40ab-b1e1-e7cbba242081",
   "metadata": {},
   "source": [
    "Transform to a `binary table` (presence/absence):"
   ]
  },
  {
   "cell_type": "code",
   "execution_count": null,
   "id": "a01bce4e-d544-470b-a9c2-b7de0bbd174d",
   "metadata": {},
   "outputs": [],
   "source": [
    "sppPA <- (art_data>1)*1 "
   ]
  },
  {
   "cell_type": "markdown",
   "id": "fa57ee62-ae45-4307-81d2-269221baade1",
   "metadata": {},
   "source": [
    "Now we run `vagdist` function, which get the data distances based on the selected methos, in this case `Jaccard`."
   ]
  },
  {
   "cell_type": "code",
   "execution_count": null,
   "id": "ac818fea-8047-4631-bc5e-daf73b45c57e",
   "metadata": {},
   "outputs": [],
   "source": [
    "beta <- vegdist(sppPA,method=\"jaccard\", binary=TRUE)"
   ]
  },
  {
   "cell_type": "markdown",
   "id": "f30bdb78-d795-43a4-9f16-b0d457deace9",
   "metadata": {},
   "source": [
    "We run a multidimensional scaling (MDS) of a data matrix using the function `cmdscale`:"
   ]
  },
  {
   "cell_type": "code",
   "execution_count": null,
   "id": "fa27e84b-d8c9-4fa0-aa56-617c60702adf",
   "metadata": {},
   "outputs": [],
   "source": [
    "beta_pcoa <- cmdscale(beta)"
   ]
  },
  {
   "cell_type": "markdown",
   "id": "25cdda78-7a8a-4d14-aa85-411d2fbcab38",
   "metadata": {},
   "source": [
    "and transform the axis scores to a dataframe:"
   ]
  },
  {
   "cell_type": "code",
   "execution_count": null,
   "id": "f4ae99e2-94b0-489c-9773-24944f2eaae2",
   "metadata": {},
   "outputs": [],
   "source": [
    "beta_pcoa_data <- data.frame(beta_pcoa)\n",
    "beta_pcoa_data[1:5,]"
   ]
  },
  {
   "cell_type": "markdown",
   "id": "33042f4e-d75b-4de7-82dd-f5e7b68d50f3",
   "metadata": {},
   "source": [
    "We have to define our variable into the new dataframe, in this case I am defining the `cave name` and `region` for each sample in the `beta_pcoa_data` dataframe."
   ]
  },
  {
   "cell_type": "code",
   "execution_count": null,
   "id": "72744f9d-439a-44d9-ae68-aa57a5a0fed6",
   "metadata": {},
   "outputs": [],
   "source": [
    "beta_pcoa_data$cave <- c(\"south1\", \"south1\", \"south1\", \"south2\", \"south2\", \"south2\", \"south3\", \"south3\", \"south3\",\n",
    "                         \"NE1\", \"NE1\", \"NE1\", \"NE2\", \"NE2\", \"NE2\", \"SE\", \"SE\", \"NW1\", \"NW1\", \"NW1\", \"NW2\", \"NW2\", \"NW2\")"
   ]
  },
  {
   "cell_type": "code",
   "execution_count": null,
   "id": "609c4468-c199-44cc-9736-a5727bb498f8",
   "metadata": {},
   "outputs": [],
   "source": [
    "beta_pcoa_data$region <- c(\"South\", \"South\", \"South\", \n",
    "                           \"South\", \"South\", \"South\",\n",
    "                           \"South\", \"South\", \"South\",\n",
    "                           \"Northeast\", \"Northeast\", \n",
    "                           \"Northeast\", \"Northeast\",\n",
    "                           \"Northeast\", \"Northeast\",\n",
    "                           \"Southeast\", \n",
    "                           \"Southeast\",\n",
    "                           \"Northwest\", \"Northwest\",\n",
    "                           \"Northwest\", \"Northwest\",\n",
    "                           \"Northwest\", \"Northwest\")"
   ]
  },
  {
   "cell_type": "markdown",
   "id": "dba9943c-c9ad-45be-b9a7-828fea4500bd",
   "metadata": {},
   "source": [
    "**We use the ggrepel package in order to plot our PCoA showing our variables just defined.**"
   ]
  },
  {
   "cell_type": "code",
   "execution_count": null,
   "id": "0c8ccc2c-dadb-4178-85e1-8a53be84c86e",
   "metadata": {},
   "outputs": [],
   "source": [
    "library(\"ggrepel\")"
   ]
  },
  {
   "cell_type": "code",
   "execution_count": null,
   "id": "d4499bef-1c3f-4d7f-aef9-030d32368ce4",
   "metadata": {},
   "outputs": [],
   "source": [
    "ggplot(beta_pcoa_data, aes(x=X1, y=X2, color=region, fill=region))+\n",
    "  geom_point(shape = 21,size=3, stroke=1)+\n",
    "  geom_text_repel(aes(label = cave), show.legend=F)+\n",
    "  theme_classic()+ xlab(\"PCoA1\") + ylab(\"PCoA2\") +\n",
    "  theme(axis.text.x = element_text(colour = \"black\", size=13, angle=45, hjust = 1, vjust = 1)) +\n",
    "  theme(legend.text = element_text(size=12)) +\n",
    "  ggtitle(\"PCoA Arthropoda NCBI Jaccard\")"
   ]
  },
  {
   "cell_type": "markdown",
   "id": "fb6c2205-80ce-437f-905c-157d815ee360",
   "metadata": {},
   "source": [
    "**#########################################################################**<p>\n",
    "**Finally, I'll show you how to run `Betadisper` function, from `Vegan` package.**<p>\n",
    "`Betadisper` implements a permutational procedure for the analysis of multivariate homogeneity of group dispersions (variances).<p>\n",
    "**It shows how much your variables are related with the `beta-diversity` observed.**<p>\n",
    "Take a look in `help(betadisper)` on Rstudio.<p>\n",
    "**#########################################################################**"
   ]
  },
  {
   "cell_type": "markdown",
   "id": "c96f0936-1bd0-4636-bca6-140f146a2147",
   "metadata": {},
   "source": [
    "Let's get the distances again:"
   ]
  },
  {
   "cell_type": "code",
   "execution_count": null,
   "id": "034a4fdd-91f1-40f6-849e-dc782106aff2",
   "metadata": {},
   "outputs": [],
   "source": [
    "dist=vegdist(t(otu_table(art_gb)), distance=\"jaccard\", binary=TRUE)"
   ]
  },
  {
   "cell_type": "markdown",
   "id": "d1a24024-8900-4a43-a7f0-71969a68118e",
   "metadata": {},
   "source": [
    "Run betadisper on those distances, calculating the centroid according to the `cave` variable:"
   ]
  },
  {
   "cell_type": "code",
   "execution_count": null,
   "id": "d70f2db1-5427-4a27-99fb-83172e90a0d4",
   "metadata": {},
   "outputs": [],
   "source": [
    "beta <- betadisper(dist, sample_data(art_gb)$cave, type = \"centroid\", bias.adjust = TRUE, sqrt.dist = FALSE, add = FALSE)"
   ]
  },
  {
   "cell_type": "markdown",
   "id": "dfb544ba-b618-4f58-ab06-138befaef641",
   "metadata": {},
   "source": [
    "Let's chack if the centroid's differences are significative:"
   ]
  },
  {
   "cell_type": "code",
   "execution_count": null,
   "id": "7b10c6cf-af8e-4d5c-b5d8-09c0da36421e",
   "metadata": {},
   "outputs": [],
   "source": [
    "anova(beta)"
   ]
  },
  {
   "cell_type": "markdown",
   "id": "49d7e8a1-ef05-4ba9-8141-5dcc93d1face",
   "metadata": {},
   "source": [
    "yes, they are, now let's check it using permutest, a non-parametric method:"
   ]
  },
  {
   "cell_type": "code",
   "execution_count": null,
   "id": "b2a8555b-56b0-46cd-8345-081f0936c3d7",
   "metadata": {},
   "outputs": [],
   "source": [
    "permutest(beta, pairwise = TRUE, permutations = 999)"
   ]
  },
  {
   "cell_type": "markdown",
   "id": "358ed7ee-0208-4ebc-8020-0580cb9fd504",
   "metadata": {},
   "source": [
    "We observe that `NE2` significantly differs from most samples, also observed by the following **`boxplot`**:"
   ]
  },
  {
   "cell_type": "code",
   "execution_count": null,
   "id": "924abf99-fad1-4c31-9d62-1829fd9d9f61",
   "metadata": {},
   "outputs": [],
   "source": [
    "boxplot(beta, ylab = \"Distance to centroid\", col = NULL)"
   ]
  },
  {
   "cell_type": "markdown",
   "id": "e3d01ee1-2b1b-482d-b746-01976c6d3833",
   "metadata": {},
   "source": [
    "**#################################################################################**<P>\n",
    "**THAT'S IT GUYS, I HOPE YOU ENJOYED THE METAPIPE WORKSHOP 2021!!!**<P>\n",
    "**SEE YOU AROUND!!**<P>\n",
    "**#################################################################################**"
   ]
  }
 ],
 "metadata": {
  "environment": {
   "kernel": "ir",
   "name": "common-cpu.m87",
   "type": "gcloud",
   "uri": "gcr.io/deeplearning-platform-release/base-cpu:m87"
  },
  "kernelspec": {
   "display_name": "R",
   "language": "R",
   "name": "ir"
  },
  "language_info": {
   "codemirror_mode": "r",
   "file_extension": ".r",
   "mimetype": "text/x-r-source",
   "name": "R",
   "pygments_lexer": "r",
   "version": "4.1.1"
  }
 },
 "nbformat": 4,
 "nbformat_minor": 5
}
